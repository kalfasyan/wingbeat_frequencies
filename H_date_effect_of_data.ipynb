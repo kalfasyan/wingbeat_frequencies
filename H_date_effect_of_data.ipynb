{
 "cells": [
  {
   "cell_type": "code",
   "execution_count": 2,
   "metadata": {},
   "outputs": [],
   "source": [
    "%reset -f\n",
    "import pandas as pd\n",
    "import numpy as np\n",
    "from utils import *\n",
    "from wavhandler import *\n",
    "import matplotlib.pyplot as plt\n",
    "import seaborn as sns\n",
    "sns.set()\n",
    "from sklearn.model_selection import train_test_split\n",
    "from sklearn.model_selection import cross_val_score\n",
    "import xgboost\n",
    "from sklearn.metrics import accuracy_score\n",
    "from sklearn.utils import shuffle\n",
    "import logging\n",
    "logger = logging.getLogger()\n",
    "logger.propagate = False\n",
    "logger.setLevel(logging.ERROR)\n",
    "np.random.seed(0)"
   ]
  },
  {
   "cell_type": "code",
   "execution_count": 3,
   "metadata": {},
   "outputs": [],
   "source": [
    "filename = 'mosquitos.csv'\n",
    "df = pd.read_csv(os.path.join(TEMP_DATADIR, filename), delimiter=';', index_col=0)"
   ]
  },
  {
   "cell_type": "code",
   "execution_count": 4,
   "metadata": {},
   "outputs": [
    {
     "name": "stdout",
     "output_type": "stream",
     "text": [
      "(279566, 16)\n"
     ]
    },
    {
     "data": {
      "text/html": [
       "<div>\n",
       "<style scoped>\n",
       "    .dataframe tbody tr th:only-of-type {\n",
       "        vertical-align: middle;\n",
       "    }\n",
       "\n",
       "    .dataframe tbody tr th {\n",
       "        vertical-align: top;\n",
       "    }\n",
       "\n",
       "    .dataframe thead th {\n",
       "        text-align: right;\n",
       "    }\n",
       "</style>\n",
       "<table border=\"1\" class=\"dataframe\">\n",
       "  <thead>\n",
       "    <tr style=\"text-align: right;\">\n",
       "      <th></th>\n",
       "      <th>fname</th>\n",
       "      <th>pow0</th>\n",
       "      <th>pow1</th>\n",
       "      <th>pow2</th>\n",
       "      <th>fr0</th>\n",
       "      <th>fr1</th>\n",
       "      <th>fr2</th>\n",
       "      <th>damping_0</th>\n",
       "      <th>damping_1</th>\n",
       "      <th>damping_2</th>\n",
       "      <th>names</th>\n",
       "      <th>pathlen</th>\n",
       "      <th>fnamelen</th>\n",
       "      <th>temp</th>\n",
       "      <th>humd</th>\n",
       "      <th>label</th>\n",
       "    </tr>\n",
       "  </thead>\n",
       "  <tbody>\n",
       "    <tr>\n",
       "      <th>101434</th>\n",
       "      <td>F170301_105922_039_G_050_T_25.2_H_51.1</td>\n",
       "      <td>0.153771</td>\n",
       "      <td>0.001028</td>\n",
       "      <td>0.000127</td>\n",
       "      <td>1148.437500</td>\n",
       "      <td>2298.828125</td>\n",
       "      <td>3447.265625</td>\n",
       "      <td>0.021259</td>\n",
       "      <td>0.011895</td>\n",
       "      <td>0.005666</td>\n",
       "      <td>/home/kalfasyan/data/insects/Wingbeats/Ae. alb...</td>\n",
       "      <td>9</td>\n",
       "      <td>9</td>\n",
       "      <td>25.2</td>\n",
       "      <td>51.1</td>\n",
       "      <td>Ae. albopictus</td>\n",
       "    </tr>\n",
       "    <tr>\n",
       "      <th>212333</th>\n",
       "      <td>F161220_191503_093_G_050</td>\n",
       "      <td>0.040789</td>\n",
       "      <td>0.009157</td>\n",
       "      <td>0.001568</td>\n",
       "      <td>392.578125</td>\n",
       "      <td>792.968750</td>\n",
       "      <td>1188.476562</td>\n",
       "      <td>0.034826</td>\n",
       "      <td>0.049261</td>\n",
       "      <td>0.017666</td>\n",
       "      <td>/home/kalfasyan/data/insects/Wingbeats/C. quin...</td>\n",
       "      <td>9</td>\n",
       "      <td>5</td>\n",
       "      <td>NaN</td>\n",
       "      <td>NaN</td>\n",
       "      <td>C. quinquefasciatus</td>\n",
       "    </tr>\n",
       "    <tr>\n",
       "      <th>161097</th>\n",
       "      <td>F170201_230126_093_G_050</td>\n",
       "      <td>0.139732</td>\n",
       "      <td>0.058833</td>\n",
       "      <td>0.010069</td>\n",
       "      <td>377.929688</td>\n",
       "      <td>747.070312</td>\n",
       "      <td>1094.726562</td>\n",
       "      <td>0.074935</td>\n",
       "      <td>0.035948</td>\n",
       "      <td>0.012935</td>\n",
       "      <td>/home/kalfasyan/data/insects/Wingbeats/An. ara...</td>\n",
       "      <td>9</td>\n",
       "      <td>5</td>\n",
       "      <td>NaN</td>\n",
       "      <td>NaN</td>\n",
       "      <td>An. arabiensis</td>\n",
       "    </tr>\n",
       "    <tr>\n",
       "      <th>62293</th>\n",
       "      <td>F170209_165233_242_G_050</td>\n",
       "      <td>0.147702</td>\n",
       "      <td>0.043849</td>\n",
       "      <td>0.014633</td>\n",
       "      <td>542.968750</td>\n",
       "      <td>1066.406250</td>\n",
       "      <td>1656.250000</td>\n",
       "      <td>0.046763</td>\n",
       "      <td>0.013736</td>\n",
       "      <td>0.017983</td>\n",
       "      <td>/home/kalfasyan/data/insects/Wingbeats/Ae. aeg...</td>\n",
       "      <td>9</td>\n",
       "      <td>5</td>\n",
       "      <td>NaN</td>\n",
       "      <td>NaN</td>\n",
       "      <td>Ae. aegypti</td>\n",
       "    </tr>\n",
       "    <tr>\n",
       "      <th>35574</th>\n",
       "      <td>F170211_085941_097_G_050</td>\n",
       "      <td>0.111529</td>\n",
       "      <td>0.063324</td>\n",
       "      <td>0.025073</td>\n",
       "      <td>447.265625</td>\n",
       "      <td>890.625000</td>\n",
       "      <td>1347.656250</td>\n",
       "      <td>0.081878</td>\n",
       "      <td>0.035088</td>\n",
       "      <td>0.020290</td>\n",
       "      <td>/home/kalfasyan/data/insects/Wingbeats/Ae. aeg...</td>\n",
       "      <td>9</td>\n",
       "      <td>5</td>\n",
       "      <td>NaN</td>\n",
       "      <td>NaN</td>\n",
       "      <td>Ae. aegypti</td>\n",
       "    </tr>\n",
       "  </tbody>\n",
       "</table>\n",
       "</div>"
      ],
      "text/plain": [
       "                                         fname      pow0      pow1      pow2  \\\n",
       "101434  F170301_105922_039_G_050_T_25.2_H_51.1  0.153771  0.001028  0.000127   \n",
       "212333                F161220_191503_093_G_050  0.040789  0.009157  0.001568   \n",
       "161097                F170201_230126_093_G_050  0.139732  0.058833  0.010069   \n",
       "62293                 F170209_165233_242_G_050  0.147702  0.043849  0.014633   \n",
       "35574                 F170211_085941_097_G_050  0.111529  0.063324  0.025073   \n",
       "\n",
       "                fr0          fr1          fr2  damping_0  damping_1  \\\n",
       "101434  1148.437500  2298.828125  3447.265625   0.021259   0.011895   \n",
       "212333   392.578125   792.968750  1188.476562   0.034826   0.049261   \n",
       "161097   377.929688   747.070312  1094.726562   0.074935   0.035948   \n",
       "62293    542.968750  1066.406250  1656.250000   0.046763   0.013736   \n",
       "35574    447.265625   890.625000  1347.656250   0.081878   0.035088   \n",
       "\n",
       "        damping_2                                              names  pathlen  \\\n",
       "101434   0.005666  /home/kalfasyan/data/insects/Wingbeats/Ae. alb...        9   \n",
       "212333   0.017666  /home/kalfasyan/data/insects/Wingbeats/C. quin...        9   \n",
       "161097   0.012935  /home/kalfasyan/data/insects/Wingbeats/An. ara...        9   \n",
       "62293    0.017983  /home/kalfasyan/data/insects/Wingbeats/Ae. aeg...        9   \n",
       "35574    0.020290  /home/kalfasyan/data/insects/Wingbeats/Ae. aeg...        9   \n",
       "\n",
       "        fnamelen  temp  humd                label  \n",
       "101434         9  25.2  51.1       Ae. albopictus  \n",
       "212333         5   NaN   NaN  C. quinquefasciatus  \n",
       "161097         5   NaN   NaN       An. arabiensis  \n",
       "62293          5   NaN   NaN          Ae. aegypti  \n",
       "35574          5   NaN   NaN          Ae. aegypti  "
      ]
     },
     "execution_count": 4,
     "metadata": {},
     "output_type": "execute_result"
    }
   ],
   "source": [
    "print(df.shape)\n",
    "df.sample(5)"
   ]
  },
  {
   "cell_type": "code",
   "execution_count": 5,
   "metadata": {},
   "outputs": [],
   "source": [
    "df['date'] = df['fname'].apply(lambda x: pd.to_datetime(x.split('_')[0] + x.split('_')[1], format='F%y%m%d%H%M%S'))"
   ]
  },
  {
   "cell_type": "code",
   "execution_count": 6,
   "metadata": {},
   "outputs": [
    {
     "data": {
      "image/png": "[encoded data removed]",
      "text/plain": [
       "<Figure size 1296x864 with 6 Axes>"
      ]
     },
     "metadata": {},
     "output_type": "display_data"
    }
   ],
   "source": [
    "plt.figure(figsize=(18,12))\n",
    "plt.tight_layout()\n",
    "for q, (i, sub) in enumerate(df.groupby('label')):\n",
    "    plt.subplot(2,3,q+1)\n",
    "    plt.title(sub.label.unique()[0] +' '+ str(sub.shape[0])+' signals.', y=0.9)\n",
    "    sub.date.dt.to_period('d').value_counts().plot(kind='bar')\n",
    "    plt.xticks(rotation=90, fontsize=8)\n"
   ]
  },
  {
   "cell_type": "code",
   "execution_count": 49,
   "metadata": {},
   "outputs": [
    {
     "data": {
      "text/plain": [
       "[Period('2017-02-09', 'D'),\n",
       " Period('2017-02-10', 'D'),\n",
       " Period('2017-02-11', 'D'),\n",
       " Period('2017-02-07', 'D'),\n",
       " Period('2017-02-08', 'D'),\n",
       " Period('2017-02-12', 'D'),\n",
       " Period('2017-02-06', 'D'),\n",
       " Period('2017-02-13', 'D'),\n",
       " Period('2016-12-13', 'D'),\n",
       " Period('2016-12-12', 'D')]"
      ]
     },
     "execution_count": 49,
     "metadata": {},
     "output_type": "execute_result"
    }
   ],
   "source": [
    "df[df.label==class_label].date.dt.to_period('d').value_counts().index.tolist()"
   ]
  },
  {
   "cell_type": "code",
   "execution_count": 41,
   "metadata": {},
   "outputs": [
    {
     "name": "stderr",
     "output_type": "stream",
     "text": [
      "100%|██████████| 15766/15766 [00:08<00:00, 1816.50it/s]\n",
      "100%|██████████| 15393/15393 [00:08<00:00, 1802.01it/s]\n"
     ]
    }
   ],
   "source": [
    "class_label = 'Ae. aegypti'\n",
    "\n",
    "selected_period1 = pd.Period('2017-02-09', 'D')\n",
    "X1_names = df[(df.label==class_label) & (df.date.dt.to_period('d') == selected_period1)].names\n",
    "X1 = transform_data(read_simple(X1_names)[0].T)\n",
    "y1 = np.ones(len(X1_names))\n",
    "\n",
    "selected_period2 = pd.Period('2017-02-10', 'D')\n",
    "X2_names = df[(df.label==class_label) & (df.date.dt.to_period('d') == selected_period2)].names\n",
    "X2 = transform_data(read_simple(X2_names)[0].T)\n",
    "y2 = np.zeros(len(X2_names))"
   ]
  },
  {
   "cell_type": "code",
   "execution_count": 42,
   "metadata": {},
   "outputs": [
    {
     "name": "stdout",
     "output_type": "stream",
     "text": [
      "After undersampling: \n",
      "1.0    15393\n",
      "0.0    15393\n",
      "Name: 0, dtype: int64\n",
      "\n",
      "ac: 0.580221\n"
     ]
    }
   ],
   "source": [
    "X = np.vstack((X1,X2))\n",
    "y = np.vstack((y1.reshape(-1,1),y2.reshape(-1,1))).ravel()\n",
    "\n",
    "X, y = shuffle(X, y, random_state=3)\n",
    "\n",
    "from imblearn.under_sampling import RandomUnderSampler\n",
    "ros = RandomUnderSampler(random_state=0)\n",
    "ros.fit(X,y)\n",
    "X, y = ros.fit_resample(X,y)\n",
    "print('After undersampling: \\n{}\\n'.format(pd.DataFrame(y).iloc[:,0].value_counts()))\n",
    "\n",
    "X_train, X_test, y_train, y_test = train_test_split(X, y, test_size=0.20, random_state=0)\n",
    "\n",
    "from sklearn.tree import DecisionTreeClassifier\n",
    "classifier = DecisionTreeClassifier(random_state=0)\n",
    "classifier.fit(X_train, y_train)\n",
    "y_pred = classifier.predict(X_test)\n",
    "\n",
    "ac = accuracy_score(y_test, y_pred)\n",
    "#cv_ac = cross_val_score(classifier, X, y, cv=3, scoring='accuracy')\n",
    "print(\"ac: %f\" % ac)\n",
    "#print(\"Name: %s, cv_ac: %f\" % ('...', np.mean(cv_ac)))"
   ]
  },
  {
   "cell_type": "code",
   "execution_count": 40,
   "metadata": {},
   "outputs": [],
   "source": [
    "# feature_importances = pd.DataFrame(classifier.feature_importances_,\n",
    "#                                     columns=['importance']).sort_values('importance', ascending=False)\n",
    "# feature_importances.head(10)"
   ]
  },
  {
   "cell_type": "code",
   "execution_count": 59,
   "metadata": {},
   "outputs": [],
   "source": [
    "df_x1 = pd.DataFrame(X1.T).describe()\n",
    "df_x2 = pd.DataFrame(X2.T).describe()"
   ]
  },
  {
   "cell_type": "code",
   "execution_count": 79,
   "metadata": {},
   "outputs": [
    {
     "data": {
      "text/html": [
       "<div>\n",
       "<style scoped>\n",
       "    .dataframe tbody tr th:only-of-type {\n",
       "        vertical-align: middle;\n",
       "    }\n",
       "\n",
       "    .dataframe tbody tr th {\n",
       "        vertical-align: top;\n",
       "    }\n",
       "\n",
       "    .dataframe thead th {\n",
       "        text-align: right;\n",
       "    }\n",
       "</style>\n",
       "<table border=\"1\" class=\"dataframe\">\n",
       "  <thead>\n",
       "    <tr style=\"text-align: right;\">\n",
       "      <th></th>\n",
       "      <th>0</th>\n",
       "      <th>1</th>\n",
       "      <th>2</th>\n",
       "      <th>3</th>\n",
       "      <th>4</th>\n",
       "      <th>5</th>\n",
       "      <th>6</th>\n",
       "      <th>7</th>\n",
       "      <th>8</th>\n",
       "      <th>9</th>\n",
       "      <th>...</th>\n",
       "      <th>15756</th>\n",
       "      <th>15757</th>\n",
       "      <th>15758</th>\n",
       "      <th>15759</th>\n",
       "      <th>15760</th>\n",
       "      <th>15761</th>\n",
       "      <th>15762</th>\n",
       "      <th>15763</th>\n",
       "      <th>15764</th>\n",
       "      <th>15765</th>\n",
       "    </tr>\n",
       "  </thead>\n",
       "  <tbody>\n",
       "    <tr>\n",
       "      <th>count</th>\n",
       "      <td>129.000000</td>\n",
       "      <td>129.000000</td>\n",
       "      <td>129.000000</td>\n",
       "      <td>129.000000</td>\n",
       "      <td>129.000000</td>\n",
       "      <td>129.000000</td>\n",
       "      <td>129.000000</td>\n",
       "      <td>129.000000</td>\n",
       "      <td>129.000000</td>\n",
       "      <td>129.000000</td>\n",
       "      <td>...</td>\n",
       "      <td>129.000000</td>\n",
       "      <td>129.000000</td>\n",
       "      <td>129.000000</td>\n",
       "      <td>129.000000</td>\n",
       "      <td>129.000000</td>\n",
       "      <td>129.000000</td>\n",
       "      <td>129.000000</td>\n",
       "      <td>129.000000</td>\n",
       "      <td>129.000000</td>\n",
       "      <td>129.000000</td>\n",
       "    </tr>\n",
       "    <tr>\n",
       "      <th>mean</th>\n",
       "      <td>-93.322220</td>\n",
       "      <td>-96.277504</td>\n",
       "      <td>-97.909775</td>\n",
       "      <td>-92.013000</td>\n",
       "      <td>-97.635704</td>\n",
       "      <td>-90.239464</td>\n",
       "      <td>-94.237000</td>\n",
       "      <td>-94.656425</td>\n",
       "      <td>-95.672462</td>\n",
       "      <td>-95.150589</td>\n",
       "      <td>...</td>\n",
       "      <td>-86.354507</td>\n",
       "      <td>-91.448380</td>\n",
       "      <td>-94.884499</td>\n",
       "      <td>-95.906784</td>\n",
       "      <td>-91.684196</td>\n",
       "      <td>-92.316780</td>\n",
       "      <td>-97.107079</td>\n",
       "      <td>-90.181580</td>\n",
       "      <td>-92.812668</td>\n",
       "      <td>-96.816078</td>\n",
       "    </tr>\n",
       "    <tr>\n",
       "      <th>std</th>\n",
       "      <td>9.062189</td>\n",
       "      <td>9.217363</td>\n",
       "      <td>6.804838</td>\n",
       "      <td>11.703687</td>\n",
       "      <td>7.559670</td>\n",
       "      <td>10.245791</td>\n",
       "      <td>10.466018</td>\n",
       "      <td>8.915739</td>\n",
       "      <td>9.885062</td>\n",
       "      <td>9.648490</td>\n",
       "      <td>...</td>\n",
       "      <td>10.583333</td>\n",
       "      <td>10.138659</td>\n",
       "      <td>9.056091</td>\n",
       "      <td>8.527322</td>\n",
       "      <td>9.489418</td>\n",
       "      <td>10.726734</td>\n",
       "      <td>7.578024</td>\n",
       "      <td>10.928696</td>\n",
       "      <td>10.697070</td>\n",
       "      <td>7.026321</td>\n",
       "    </tr>\n",
       "    <tr>\n",
       "      <th>min</th>\n",
       "      <td>-107.764702</td>\n",
       "      <td>-107.648811</td>\n",
       "      <td>-108.866417</td>\n",
       "      <td>-104.415459</td>\n",
       "      <td>-109.117554</td>\n",
       "      <td>-104.950386</td>\n",
       "      <td>-107.956863</td>\n",
       "      <td>-107.644096</td>\n",
       "      <td>-108.346931</td>\n",
       "      <td>-109.363411</td>\n",
       "      <td>...</td>\n",
       "      <td>-106.199524</td>\n",
       "      <td>-107.838043</td>\n",
       "      <td>-105.807152</td>\n",
       "      <td>-107.097389</td>\n",
       "      <td>-106.217155</td>\n",
       "      <td>-108.437027</td>\n",
       "      <td>-106.662643</td>\n",
       "      <td>-103.883690</td>\n",
       "      <td>-105.706757</td>\n",
       "      <td>-109.760628</td>\n",
       "    </tr>\n",
       "    <tr>\n",
       "      <th>25%</th>\n",
       "      <td>-100.471077</td>\n",
       "      <td>-101.326248</td>\n",
       "      <td>-101.996078</td>\n",
       "      <td>-99.555550</td>\n",
       "      <td>-101.339722</td>\n",
       "      <td>-97.437408</td>\n",
       "      <td>-100.820000</td>\n",
       "      <td>-100.554207</td>\n",
       "      <td>-101.636284</td>\n",
       "      <td>-101.225197</td>\n",
       "      <td>...</td>\n",
       "      <td>-95.186775</td>\n",
       "      <td>-98.648994</td>\n",
       "      <td>-100.434898</td>\n",
       "      <td>-100.600952</td>\n",
       "      <td>-98.401077</td>\n",
       "      <td>-99.722221</td>\n",
       "      <td>-101.271339</td>\n",
       "      <td>-98.993484</td>\n",
       "      <td>-99.978172</td>\n",
       "      <td>-102.031372</td>\n",
       "    </tr>\n",
       "    <tr>\n",
       "      <th>50%</th>\n",
       "      <td>-94.075432</td>\n",
       "      <td>-99.755722</td>\n",
       "      <td>-98.977470</td>\n",
       "      <td>-97.139648</td>\n",
       "      <td>-99.749008</td>\n",
       "      <td>-93.278999</td>\n",
       "      <td>-98.539177</td>\n",
       "      <td>-98.524620</td>\n",
       "      <td>-99.721138</td>\n",
       "      <td>-98.458923</td>\n",
       "      <td>...</td>\n",
       "      <td>-86.067741</td>\n",
       "      <td>-93.689308</td>\n",
       "      <td>-98.070885</td>\n",
       "      <td>-98.570198</td>\n",
       "      <td>-93.848030</td>\n",
       "      <td>-96.849205</td>\n",
       "      <td>-99.057121</td>\n",
       "      <td>-93.443672</td>\n",
       "      <td>-96.879555</td>\n",
       "      <td>-98.769249</td>\n",
       "    </tr>\n",
       "    <tr>\n",
       "      <th>75%</th>\n",
       "      <td>-89.637962</td>\n",
       "      <td>-95.373581</td>\n",
       "      <td>-96.502815</td>\n",
       "      <td>-86.790054</td>\n",
       "      <td>-97.661797</td>\n",
       "      <td>-84.273033</td>\n",
       "      <td>-89.605545</td>\n",
       "      <td>-90.280540</td>\n",
       "      <td>-90.741875</td>\n",
       "      <td>-91.528038</td>\n",
       "      <td>...</td>\n",
       "      <td>-78.539551</td>\n",
       "      <td>-86.770767</td>\n",
       "      <td>-93.510406</td>\n",
       "      <td>-95.142662</td>\n",
       "      <td>-86.004684</td>\n",
       "      <td>-86.803139</td>\n",
       "      <td>-96.068489</td>\n",
       "      <td>-84.266708</td>\n",
       "      <td>-88.596664</td>\n",
       "      <td>-92.798553</td>\n",
       "    </tr>\n",
       "    <tr>\n",
       "      <th>max</th>\n",
       "      <td>-61.288853</td>\n",
       "      <td>-63.782677</td>\n",
       "      <td>-72.015648</td>\n",
       "      <td>-55.537125</td>\n",
       "      <td>-70.997459</td>\n",
       "      <td>-66.779381</td>\n",
       "      <td>-63.244247</td>\n",
       "      <td>-69.089104</td>\n",
       "      <td>-64.267891</td>\n",
       "      <td>-59.878101</td>\n",
       "      <td>...</td>\n",
       "      <td>-61.499737</td>\n",
       "      <td>-65.480194</td>\n",
       "      <td>-71.799088</td>\n",
       "      <td>-64.932434</td>\n",
       "      <td>-65.840805</td>\n",
       "      <td>-58.506016</td>\n",
       "      <td>-67.701004</td>\n",
       "      <td>-58.604206</td>\n",
       "      <td>-60.240242</td>\n",
       "      <td>-76.250977</td>\n",
       "    </tr>\n",
       "  </tbody>\n",
       "</table>\n",
       "<p>8 rows × 15766 columns</p>\n",
       "</div>"
      ],
      "text/plain": [
       "            0           1           2           3           4           5      \\\n",
       "count  129.000000  129.000000  129.000000  129.000000  129.000000  129.000000   \n",
       "mean   -93.322220  -96.277504  -97.909775  -92.013000  -97.635704  -90.239464   \n",
       "std      9.062189    9.217363    6.804838   11.703687    7.559670   10.245791   \n",
       "min   -107.764702 -107.648811 -108.866417 -104.415459 -109.117554 -104.950386   \n",
       "25%   -100.471077 -101.326248 -101.996078  -99.555550 -101.339722  -97.437408   \n",
       "50%    -94.075432  -99.755722  -98.977470  -97.139648  -99.749008  -93.278999   \n",
       "75%    -89.637962  -95.373581  -96.502815  -86.790054  -97.661797  -84.273033   \n",
       "max    -61.288853  -63.782677  -72.015648  -55.537125  -70.997459  -66.779381   \n",
       "\n",
       "            6           7           8           9         ...           15756  \\\n",
       "count  129.000000  129.000000  129.000000  129.000000     ...      129.000000   \n",
       "mean   -94.237000  -94.656425  -95.672462  -95.150589     ...      -86.354507   \n",
       "std     10.466018    8.915739    9.885062    9.648490     ...       10.583333   \n",
       "min   -107.956863 -107.644096 -108.346931 -109.363411     ...     -106.199524   \n",
       "25%   -100.820000 -100.554207 -101.636284 -101.225197     ...      -95.186775   \n",
       "50%    -98.539177  -98.524620  -99.721138  -98.458923     ...      -86.067741   \n",
       "75%    -89.605545  -90.280540  -90.741875  -91.528038     ...      -78.539551   \n",
       "max    -63.244247  -69.089104  -64.267891  -59.878101     ...      -61.499737   \n",
       "\n",
       "            15757       15758       15759       15760       15761       15762  \\\n",
       "count  129.000000  129.000000  129.000000  129.000000  129.000000  129.000000   \n",
       "mean   -91.448380  -94.884499  -95.906784  -91.684196  -92.316780  -97.107079   \n",
       "std     10.138659    9.056091    8.527322    9.489418   10.726734    7.578024   \n",
       "min   -107.838043 -105.807152 -107.097389 -106.217155 -108.437027 -106.662643   \n",
       "25%    -98.648994 -100.434898 -100.600952  -98.401077  -99.722221 -101.271339   \n",
       "50%    -93.689308  -98.070885  -98.570198  -93.848030  -96.849205  -99.057121   \n",
       "75%    -86.770767  -93.510406  -95.142662  -86.004684  -86.803139  -96.068489   \n",
       "max    -65.480194  -71.799088  -64.932434  -65.840805  -58.506016  -67.701004   \n",
       "\n",
       "            15763       15764       15765  \n",
       "count  129.000000  129.000000  129.000000  \n",
       "mean   -90.181580  -92.812668  -96.816078  \n",
       "std     10.928696   10.697070    7.026321  \n",
       "min   -103.883690 -105.706757 -109.760628  \n",
       "25%    -98.993484  -99.978172 -102.031372  \n",
       "50%    -93.443672  -96.879555  -98.769249  \n",
       "75%    -84.266708  -88.596664  -92.798553  \n",
       "max    -58.604206  -60.240242  -76.250977  \n",
       "\n",
       "[8 rows x 15766 columns]"
      ]
     },
     "execution_count": 79,
     "metadata": {},
     "output_type": "execute_result"
    }
   ],
   "source": [
    "df_x1"
   ]
  },
  {
   "cell_type": "code",
   "execution_count": 66,
   "metadata": {},
   "outputs": [
    {
     "data": {
      "text/plain": [
       "['count', 'mean', 'std', 'min', '25%', '50%', '75%', 'max']"
      ]
     },
     "execution_count": 66,
     "metadata": {},
     "output_type": "execute_result"
    }
   ],
   "source": [
    "df_x1.index.tolist()"
   ]
  },
  {
   "cell_type": "code",
   "execution_count": 77,
   "metadata": {},
   "outputs": [
    {
     "data": {
      "text/plain": [
       "<matplotlib.axes._subplots.AxesSubplot at 0x7f38a26dbeb8>"
      ]
     },
     "execution_count": 77,
     "metadata": {},
     "output_type": "execute_result"
    },
    {
     "data": {
      "image/png": "[encoded data removed]",
      "text/plain": [
       "<Figure size 432x288 with 1 Axes>"
      ]
     },
     "metadata": {},
     "output_type": "display_data"
    }
   ],
   "source": [
    "metric = 'max'\n",
    "df_x1.loc[metric].hist()"
   ]
  },
  {
   "cell_type": "code",
   "execution_count": 78,
   "metadata": {},
   "outputs": [
    {
     "data": {
      "text/plain": [
       "<matplotlib.axes._subplots.AxesSubplot at 0x7f38c10886d8>"
      ]
     },
     "execution_count": 78,
     "metadata": {},
     "output_type": "execute_result"
    },
    {
     "data": {
      "image/png": "[encoded data removed]",
      "text/plain": [
       "<Figure size 432x288 with 1 Axes>"
      ]
     },
     "metadata": {},
     "output_type": "display_data"
    }
   ],
   "source": [
    "df_x2.loc[metric].hist()"
   ]
  },
  {
   "cell_type": "code",
   "execution_count": null,
   "metadata": {},
   "outputs": [],
   "source": []
  }
 ],
 "metadata": {
  "kernelspec": {
   "display_name": "Python 3",
   "language": "python",
   "name": "python3"
  },
  "language_info": {
   "codemirror_mode": {
    "name": "ipython",
    "version": 3
   },
   "file_extension": ".py",
   "mimetype": "text/x-python",
   "name": "python",
   "nbconvert_exporter": "python",
   "pygments_lexer": "ipython3",
   "version": "3.6.7"
  }
 },
 "nbformat": 4,
 "nbformat_minor": 2
}
