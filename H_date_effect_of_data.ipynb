{
 "cells": [
  {
   "cell_type": "code",
   "execution_count": 1,
   "metadata": {},
   "outputs": [],
   "source": [
    "%reset -f\n",
    "from random import sample, choices\n",
    "import itertools\n",
    "import pandas as pd\n",
    "import numpy as np\n",
    "from utils import *\n",
    "from wavhandler import *\n",
    "import matplotlib.pyplot as plt\n",
    "import seaborn as sns\n",
    "sns.set()\n",
    "from sklearn.model_selection import train_test_split\n",
    "from sklearn.model_selection import cross_val_score\n",
    "import xgboost\n",
    "from sklearn.metrics import accuracy_score\n",
    "from sklearn.utils import shuffle\n",
    "import logging\n",
    "logger = logging.getLogger()\n",
    "logger.propagate = False\n",
    "logger.setLevel(logging.ERROR)\n",
    "np.random.seed(0)"
   ]
  },
  {
   "cell_type": "code",
   "execution_count": 2,
   "metadata": {},
   "outputs": [],
   "source": [
    "filename = 'mosquitos.csv'\n",
    "df = pd.read_csv(os.path.join(TEMP_DATADIR, filename), delimiter=';', index_col=0)"
   ]
  },
  {
   "cell_type": "code",
   "execution_count": 3,
   "metadata": {},
   "outputs": [
    {
     "name": "stdout",
     "output_type": "stream",
     "text": [
      "(279566, 16)\n"
     ]
    },
    {
     "data": {
      "text/html": [
       "<div>\n",
       "<style scoped>\n",
       "    .dataframe tbody tr th:only-of-type {\n",
       "        vertical-align: middle;\n",
       "    }\n",
       "\n",
       "    .dataframe tbody tr th {\n",
       "        vertical-align: top;\n",
       "    }\n",
       "\n",
       "    .dataframe thead th {\n",
       "        text-align: right;\n",
       "    }\n",
       "</style>\n",
       "<table border=\"1\" class=\"dataframe\">\n",
       "  <thead>\n",
       "    <tr style=\"text-align: right;\">\n",
       "      <th></th>\n",
       "      <th>fname</th>\n",
       "      <th>pow0</th>\n",
       "      <th>pow1</th>\n",
       "      <th>pow2</th>\n",
       "      <th>fr0</th>\n",
       "      <th>fr1</th>\n",
       "      <th>fr2</th>\n",
       "      <th>damping_0</th>\n",
       "      <th>damping_1</th>\n",
       "      <th>damping_2</th>\n",
       "      <th>names</th>\n",
       "      <th>pathlen</th>\n",
       "      <th>fnamelen</th>\n",
       "      <th>temp</th>\n",
       "      <th>humd</th>\n",
       "      <th>label</th>\n",
       "    </tr>\n",
       "  </thead>\n",
       "  <tbody>\n",
       "    <tr>\n",
       "      <th>101434</th>\n",
       "      <td>F170301_105922_039_G_050_T_25.2_H_51.1</td>\n",
       "      <td>0.153771</td>\n",
       "      <td>0.001028</td>\n",
       "      <td>0.000127</td>\n",
       "      <td>1148.437500</td>\n",
       "      <td>2298.828125</td>\n",
       "      <td>3447.265625</td>\n",
       "      <td>0.021259</td>\n",
       "      <td>0.011895</td>\n",
       "      <td>0.005666</td>\n",
       "      <td>/home/kalfasyan/data/insects/Wingbeats/Ae. alb...</td>\n",
       "      <td>9</td>\n",
       "      <td>9</td>\n",
       "      <td>25.2</td>\n",
       "      <td>51.1</td>\n",
       "      <td>Ae. albopictus</td>\n",
       "    </tr>\n",
       "    <tr>\n",
       "      <th>212333</th>\n",
       "      <td>F161220_191503_093_G_050</td>\n",
       "      <td>0.040789</td>\n",
       "      <td>0.009157</td>\n",
       "      <td>0.001568</td>\n",
       "      <td>392.578125</td>\n",
       "      <td>792.968750</td>\n",
       "      <td>1188.476562</td>\n",
       "      <td>0.034826</td>\n",
       "      <td>0.049261</td>\n",
       "      <td>0.017666</td>\n",
       "      <td>/home/kalfasyan/data/insects/Wingbeats/C. quin...</td>\n",
       "      <td>9</td>\n",
       "      <td>5</td>\n",
       "      <td>NaN</td>\n",
       "      <td>NaN</td>\n",
       "      <td>C. quinquefasciatus</td>\n",
       "    </tr>\n",
       "    <tr>\n",
       "      <th>161097</th>\n",
       "      <td>F170201_230126_093_G_050</td>\n",
       "      <td>0.139732</td>\n",
       "      <td>0.058833</td>\n",
       "      <td>0.010069</td>\n",
       "      <td>377.929688</td>\n",
       "      <td>747.070312</td>\n",
       "      <td>1094.726562</td>\n",
       "      <td>0.074935</td>\n",
       "      <td>0.035948</td>\n",
       "      <td>0.012935</td>\n",
       "      <td>/home/kalfasyan/data/insects/Wingbeats/An. ara...</td>\n",
       "      <td>9</td>\n",
       "      <td>5</td>\n",
       "      <td>NaN</td>\n",
       "      <td>NaN</td>\n",
       "      <td>An. arabiensis</td>\n",
       "    </tr>\n",
       "    <tr>\n",
       "      <th>62293</th>\n",
       "      <td>F170209_165233_242_G_050</td>\n",
       "      <td>0.147702</td>\n",
       "      <td>0.043849</td>\n",
       "      <td>0.014633</td>\n",
       "      <td>542.968750</td>\n",
       "      <td>1066.406250</td>\n",
       "      <td>1656.250000</td>\n",
       "      <td>0.046763</td>\n",
       "      <td>0.013736</td>\n",
       "      <td>0.017983</td>\n",
       "      <td>/home/kalfasyan/data/insects/Wingbeats/Ae. aeg...</td>\n",
       "      <td>9</td>\n",
       "      <td>5</td>\n",
       "      <td>NaN</td>\n",
       "      <td>NaN</td>\n",
       "      <td>Ae. aegypti</td>\n",
       "    </tr>\n",
       "    <tr>\n",
       "      <th>35574</th>\n",
       "      <td>F170211_085941_097_G_050</td>\n",
       "      <td>0.111529</td>\n",
       "      <td>0.063324</td>\n",
       "      <td>0.025073</td>\n",
       "      <td>447.265625</td>\n",
       "      <td>890.625000</td>\n",
       "      <td>1347.656250</td>\n",
       "      <td>0.081878</td>\n",
       "      <td>0.035088</td>\n",
       "      <td>0.020290</td>\n",
       "      <td>/home/kalfasyan/data/insects/Wingbeats/Ae. aeg...</td>\n",
       "      <td>9</td>\n",
       "      <td>5</td>\n",
       "      <td>NaN</td>\n",
       "      <td>NaN</td>\n",
       "      <td>Ae. aegypti</td>\n",
       "    </tr>\n",
       "  </tbody>\n",
       "</table>\n",
       "</div>"
      ],
      "text/plain": [
       "                                         fname      pow0      pow1      pow2  \\\n",
       "101434  F170301_105922_039_G_050_T_25.2_H_51.1  0.153771  0.001028  0.000127   \n",
       "212333                F161220_191503_093_G_050  0.040789  0.009157  0.001568   \n",
       "161097                F170201_230126_093_G_050  0.139732  0.058833  0.010069   \n",
       "62293                 F170209_165233_242_G_050  0.147702  0.043849  0.014633   \n",
       "35574                 F170211_085941_097_G_050  0.111529  0.063324  0.025073   \n",
       "\n",
       "                fr0          fr1          fr2  damping_0  damping_1  \\\n",
       "101434  1148.437500  2298.828125  3447.265625   0.021259   0.011895   \n",
       "212333   392.578125   792.968750  1188.476562   0.034826   0.049261   \n",
       "161097   377.929688   747.070312  1094.726562   0.074935   0.035948   \n",
       "62293    542.968750  1066.406250  1656.250000   0.046763   0.013736   \n",
       "35574    447.265625   890.625000  1347.656250   0.081878   0.035088   \n",
       "\n",
       "        damping_2                                              names  pathlen  \\\n",
       "101434   0.005666  /home/kalfasyan/data/insects/Wingbeats/Ae. alb...        9   \n",
       "212333   0.017666  /home/kalfasyan/data/insects/Wingbeats/C. quin...        9   \n",
       "161097   0.012935  /home/kalfasyan/data/insects/Wingbeats/An. ara...        9   \n",
       "62293    0.017983  /home/kalfasyan/data/insects/Wingbeats/Ae. aeg...        9   \n",
       "35574    0.020290  /home/kalfasyan/data/insects/Wingbeats/Ae. aeg...        9   \n",
       "\n",
       "        fnamelen  temp  humd                label  \n",
       "101434         9  25.2  51.1       Ae. albopictus  \n",
       "212333         5   NaN   NaN  C. quinquefasciatus  \n",
       "161097         5   NaN   NaN       An. arabiensis  \n",
       "62293          5   NaN   NaN          Ae. aegypti  \n",
       "35574          5   NaN   NaN          Ae. aegypti  "
      ]
     },
     "execution_count": 3,
     "metadata": {},
     "output_type": "execute_result"
    }
   ],
   "source": [
    "print(df.shape)\n",
    "df.sample(5)"
   ]
  },
  {
   "cell_type": "code",
   "execution_count": 4,
   "metadata": {},
   "outputs": [
    {
     "name": "stdout",
     "output_type": "stream",
     "text": [
      "0    20170209\n",
      "1    20170209\n",
      "Name: date, dtype: object\n"
     ]
    }
   ],
   "source": [
    "# CREATING DATE COLUMN\n",
    "df['date'] = df['fname'].apply(lambda x: pd.to_datetime(x.split('_')[0] + x.split('_')[1], format='F%y%m%d%H%M%S'))\n",
    "df['date'] = df.date.dt.to_period('d').apply(lambda x: x.strftime('%Y%m%d'))\n",
    "print(df.date.head(2))"
   ]
  },
  {
   "cell_type": "markdown",
   "metadata": {},
   "source": [
    "## Barplots of data signals collected per day"
   ]
  },
  {
   "cell_type": "code",
   "execution_count": 5,
   "metadata": {},
   "outputs": [
    {
     "data": {
      "image/png": "[encoded data removed]",
      "text/plain": [
       "<Figure size 1296x864 with 6 Axes>"
      ]
     },
     "metadata": {
      "needs_background": "light"
     },
     "output_type": "display_data"
    }
   ],
   "source": [
    "plt.figure(figsize=(18,12))\n",
    "plt.tight_layout()\n",
    "for q, (i, sub) in enumerate(df.groupby('label')):\n",
    "    plt.subplot(2,3,q+1)\n",
    "    plt.title(sub.label.unique()[0] +' '+ str(sub.shape[0])+' signals.', y=0.9)\n",
    "    sub.date.value_counts().plot(kind='bar')\n",
    "    plt.xticks(rotation=90, fontsize=8)"
   ]
  },
  {
   "cell_type": "code",
   "execution_count": 6,
   "metadata": {},
   "outputs": [],
   "source": [
    "# for q, (i, sub) in enumerate(df.groupby('label')):\n",
    "#     print(sub.date.value_counts())"
   ]
  },
  {
   "cell_type": "markdown",
   "metadata": {},
   "source": [
    "## Random signal PSD example"
   ]
  },
  {
   "cell_type": "code",
   "execution_count": 76,
   "metadata": {},
   "outputs": [
    {
     "name": "stderr",
     "output_type": "stream",
     "text": [
      "100%|██████████| 2/2 [00:00<00:00, 952.93it/s]\n"
     ]
    },
    {
     "data": {
      "text/plain": [
       "Text(0.5, 0, 'Frequency (Hz)')"
      ]
     },
     "execution_count": 76,
     "metadata": {},
     "output_type": "execute_result"
    },
    {
     "data": {
      "image/png": "[encoded data removed]",
      "text/plain": [
       "<Figure size 432x288 with 1 Axes>"
      ]
     },
     "metadata": {
      "needs_background": "light"
     },
     "output_type": "display_data"
    }
   ],
   "source": [
    "class_label = 'An. gambiae'\n",
    "random_signal = read_simple(df[(df.label==class_label)].sample(2).names.tolist())[0]\n",
    "plt.plot(transform_data(random_signal.T)[0])\n",
    "plt.ylabel('dB'); plt.xlabel('Frequency (Hz)')"
   ]
  },
  {
   "cell_type": "markdown",
   "metadata": {},
   "source": [
    "# Analysis"
   ]
  },
  {
   "cell_type": "code",
   "execution_count": 77,
   "metadata": {},
   "outputs": [
    {
     "name": "stdout",
     "output_type": "stream",
     "text": [
      "Periods for class \"An. gambiae\": \t['20170120', '20170121', '20170122', '20170117', '20170119', '20170118', '20170123', '20170116', '20170109', '20170110']\n"
     ]
    }
   ],
   "source": [
    "class_label = 'An. gambiae'\n",
    "periods = df[df.label==class_label].date.value_counts().index.tolist()\n",
    "periods = [periods[i] for i in range(len(periods))]\n",
    "print('Periods for class \\\"{}\\\": \\t{}'.format(class_label, periods))"
   ]
  },
  {
   "cell_type": "code",
   "execution_count": 78,
   "metadata": {},
   "outputs": [
    {
     "name": "stdout",
     "output_type": "stream",
     "text": [
      "Example combinations for periods of class \"An. gambiae\": \t[('20170120', '20170120'), ('20170120', '20170121'), ('20170120', '20170122')]\n",
      "Total nr. of combinations: \t55\n"
     ]
    }
   ],
   "source": [
    "pair_combs = []\n",
    "for i in itertools.combinations_with_replacement(periods, r=2):\n",
    "    pair_combs.append(i)\n",
    "print('Example combinations for periods of class \\\"{}\\\": \\t{}'.format(class_label, pair_combs[:3]))\n",
    "print('Total nr. of combinations: \\t{}'.format(len(pair_combs)))"
   ]
  },
  {
   "cell_type": "code",
   "execution_count": 79,
   "metadata": {},
   "outputs": [
    {
     "name": "stdout",
     "output_type": "stream",
     "text": [
      "0.0\n"
     ]
    },
    {
     "name": "stderr",
     "output_type": "stream",
     "text": [
      "100%|██████████| 100/100 [00:00<00:00, 1291.35it/s]\n",
      "100%|██████████| 100/100 [00:00<00:00, 1437.85it/s]\n",
      "  0%|          | 0/100 [00:00<?, ?it/s]"
     ]
    },
    {
     "name": "stdout",
     "output_type": "stream",
     "text": [
      "1.8181818181818181\n"
     ]
    },
    {
     "name": "stderr",
     "output_type": "stream",
     "text": [
      "100%|██████████| 100/100 [00:00<00:00, 1648.78it/s]\n",
      "100%|██████████| 100/100 [00:00<00:00, 1539.49it/s]\n"
     ]
    },
    {
     "name": "stdout",
     "output_type": "stream",
     "text": [
      "3.6363636363636362\n"
     ]
    },
    {
     "name": "stderr",
     "output_type": "stream",
     "text": [
      "100%|██████████| 100/100 [00:00<00:00, 1364.00it/s]\n",
      "100%|██████████| 100/100 [00:00<00:00, 1297.29it/s]\n"
     ]
    },
    {
     "name": "stdout",
     "output_type": "stream",
     "text": [
      "5.454545454545454\n"
     ]
    },
    {
     "name": "stderr",
     "output_type": "stream",
     "text": [
      "100%|██████████| 100/100 [00:00<00:00, 1678.23it/s]\n",
      "100%|██████████| 100/100 [00:00<00:00, 1578.80it/s]\n"
     ]
    },
    {
     "name": "stdout",
     "output_type": "stream",
     "text": [
      "7.2727272727272725\n"
     ]
    },
    {
     "name": "stderr",
     "output_type": "stream",
     "text": [
      "100%|██████████| 100/100 [00:00<00:00, 1701.88it/s]\n",
      "100%|██████████| 100/100 [00:00<00:00, 1716.19it/s]\n"
     ]
    },
    {
     "name": "stdout",
     "output_type": "stream",
     "text": [
      "9.090909090909092\n"
     ]
    },
    {
     "name": "stderr",
     "output_type": "stream",
     "text": [
      "100%|██████████| 100/100 [00:00<00:00, 1493.99it/s]\n",
      "100%|██████████| 100/100 [00:00<00:00, 1409.76it/s]\n"
     ]
    },
    {
     "name": "stdout",
     "output_type": "stream",
     "text": [
      "10.909090909090908\n"
     ]
    },
    {
     "name": "stderr",
     "output_type": "stream",
     "text": [
      "100%|██████████| 100/100 [00:00<00:00, 1684.06it/s]\n",
      "100%|██████████| 100/100 [00:00<00:00, 1381.40it/s]\n"
     ]
    },
    {
     "name": "stdout",
     "output_type": "stream",
     "text": [
      "12.727272727272727\n"
     ]
    },
    {
     "name": "stderr",
     "output_type": "stream",
     "text": [
      "100%|██████████| 100/100 [00:00<00:00, 1663.36it/s]\n",
      "100%|██████████| 100/100 [00:00<00:00, 1552.25it/s]\n"
     ]
    },
    {
     "name": "stdout",
     "output_type": "stream",
     "text": [
      "14.545454545454545\n"
     ]
    },
    {
     "name": "stderr",
     "output_type": "stream",
     "text": [
      "100%|██████████| 100/100 [00:00<00:00, 1797.96it/s]\n",
      "100%|██████████| 100/100 [00:00<00:00, 1886.51it/s]\n"
     ]
    },
    {
     "name": "stdout",
     "output_type": "stream",
     "text": [
      "16.363636363636363\n"
     ]
    },
    {
     "name": "stderr",
     "output_type": "stream",
     "text": [
      "100%|██████████| 100/100 [00:00<00:00, 1882.58it/s]\n",
      "100%|██████████| 100/100 [00:00<00:00, 1881.06it/s]\n"
     ]
    },
    {
     "name": "stdout",
     "output_type": "stream",
     "text": [
      "18.181818181818183\n"
     ]
    },
    {
     "name": "stderr",
     "output_type": "stream",
     "text": [
      "100%|██████████| 100/100 [00:00<00:00, 1676.68it/s]\n",
      "100%|██████████| 100/100 [00:00<00:00, 1742.65it/s]\n",
      "100%|██████████| 100/100 [00:00<00:00, 1747.01it/s]"
     ]
    },
    {
     "name": "stdout",
     "output_type": "stream",
     "text": [
      "20.0\n"
     ]
    },
    {
     "name": "stderr",
     "output_type": "stream",
     "text": [
      "\n",
      "100%|██████████| 100/100 [00:00<00:00, 1481.69it/s]\n"
     ]
    },
    {
     "name": "stdout",
     "output_type": "stream",
     "text": [
      "21.818181818181817\n"
     ]
    },
    {
     "name": "stderr",
     "output_type": "stream",
     "text": [
      "100%|██████████| 100/100 [00:00<00:00, 1780.79it/s]\n",
      "100%|██████████| 100/100 [00:00<00:00, 1527.86it/s]\n",
      "  0%|          | 0/100 [00:00<?, ?it/s]"
     ]
    },
    {
     "name": "stdout",
     "output_type": "stream",
     "text": [
      "23.636363636363637\n"
     ]
    },
    {
     "name": "stderr",
     "output_type": "stream",
     "text": [
      "100%|██████████| 100/100 [00:00<00:00, 1645.43it/s]\n",
      "100%|██████████| 100/100 [00:00<00:00, 1670.51it/s]\n"
     ]
    },
    {
     "name": "stdout",
     "output_type": "stream",
     "text": [
      "25.454545454545453\n"
     ]
    },
    {
     "name": "stderr",
     "output_type": "stream",
     "text": [
      "100%|██████████| 100/100 [00:00<00:00, 1575.24it/s]\n",
      "100%|██████████| 100/100 [00:00<00:00, 1686.24it/s]\n"
     ]
    },
    {
     "name": "stdout",
     "output_type": "stream",
     "text": [
      "27.27272727272727\n"
     ]
    },
    {
     "name": "stderr",
     "output_type": "stream",
     "text": [
      "100%|██████████| 100/100 [00:00<00:00, 1664.85it/s]\n",
      "100%|██████████| 100/100 [00:00<00:00, 1589.12it/s]\n"
     ]
    },
    {
     "name": "stdout",
     "output_type": "stream",
     "text": [
      "29.09090909090909\n"
     ]
    },
    {
     "name": "stderr",
     "output_type": "stream",
     "text": [
      "100%|██████████| 100/100 [00:00<00:00, 1633.18it/s]\n",
      "100%|██████████| 100/100 [00:00<00:00, 1440.49it/s]\n"
     ]
    },
    {
     "name": "stdout",
     "output_type": "stream",
     "text": [
      "30.909090909090907\n"
     ]
    },
    {
     "name": "stderr",
     "output_type": "stream",
     "text": [
      "100%|██████████| 100/100 [00:00<00:00, 1520.07it/s]\n",
      "100%|██████████| 100/100 [00:00<00:00, 1773.20it/s]\n",
      "  0%|          | 0/100 [00:00<?, ?it/s]"
     ]
    },
    {
     "name": "stdout",
     "output_type": "stream",
     "text": [
      "32.72727272727273\n"
     ]
    },
    {
     "name": "stderr",
     "output_type": "stream",
     "text": [
      "100%|██████████| 100/100 [00:00<00:00, 1725.39it/s]\n",
      "100%|██████████| 100/100 [00:00<00:00, 1650.30it/s]\n"
     ]
    },
    {
     "name": "stdout",
     "output_type": "stream",
     "text": [
      "34.54545454545455\n"
     ]
    },
    {
     "name": "stderr",
     "output_type": "stream",
     "text": [
      "100%|██████████| 100/100 [00:00<00:00, 1765.23it/s]\n",
      "100%|██████████| 100/100 [00:00<00:00, 1385.46it/s]\n",
      "  0%|          | 0/100 [00:00<?, ?it/s]"
     ]
    },
    {
     "name": "stdout",
     "output_type": "stream",
     "text": [
      "36.36363636363637\n"
     ]
    },
    {
     "name": "stderr",
     "output_type": "stream",
     "text": [
      "100%|██████████| 100/100 [00:00<00:00, 1416.94it/s]\n",
      "100%|██████████| 100/100 [00:00<00:00, 1296.68it/s]\n"
     ]
    },
    {
     "name": "stdout",
     "output_type": "stream",
     "text": [
      "38.18181818181819\n"
     ]
    },
    {
     "name": "stderr",
     "output_type": "stream",
     "text": [
      "100%|██████████| 100/100 [00:00<00:00, 1447.75it/s]\n",
      "100%|██████████| 100/100 [00:00<00:00, 1588.81it/s]\n"
     ]
    },
    {
     "name": "stdout",
     "output_type": "stream",
     "text": [
      "40.0\n"
     ]
    },
    {
     "name": "stderr",
     "output_type": "stream",
     "text": [
      "100%|██████████| 100/100 [00:00<00:00, 1786.82it/s]\n",
      "100%|██████████| 100/100 [00:00<00:00, 1661.68it/s]\n"
     ]
    },
    {
     "name": "stdout",
     "output_type": "stream",
     "text": [
      "41.81818181818181\n"
     ]
    },
    {
     "name": "stderr",
     "output_type": "stream",
     "text": [
      "100%|██████████| 100/100 [00:00<00:00, 1287.40it/s]\n",
      "100%|██████████| 100/100 [00:00<00:00, 1451.77it/s]\n"
     ]
    },
    {
     "name": "stdout",
     "output_type": "stream",
     "text": [
      "43.63636363636363\n"
     ]
    },
    {
     "name": "stderr",
     "output_type": "stream",
     "text": [
      "100%|██████████| 100/100 [00:00<00:00, 1717.88it/s]\n",
      "100%|██████████| 100/100 [00:00<00:00, 1682.59it/s]\n"
     ]
    },
    {
     "name": "stdout",
     "output_type": "stream",
     "text": [
      "45.45454545454545\n"
     ]
    },
    {
     "name": "stderr",
     "output_type": "stream",
     "text": [
      "100%|██████████| 100/100 [00:00<00:00, 1830.62it/s]\n",
      "100%|██████████| 100/100 [00:00<00:00, 1827.95it/s]\n",
      "  0%|          | 0/100 [00:00<?, ?it/s]"
     ]
    },
    {
     "name": "stdout",
     "output_type": "stream",
     "text": [
      "47.27272727272727\n"
     ]
    },
    {
     "name": "stderr",
     "output_type": "stream",
     "text": [
      "100%|██████████| 100/100 [00:00<00:00, 1764.02it/s]\n",
      "100%|██████████| 100/100 [00:00<00:00, 1833.70it/s]\n"
     ]
    },
    {
     "name": "stdout",
     "output_type": "stream",
     "text": [
      "49.09090909090909\n"
     ]
    },
    {
     "name": "stderr",
     "output_type": "stream",
     "text": [
      "100%|██████████| 100/100 [00:00<00:00, 1818.46it/s]\n",
      "100%|██████████| 100/100 [00:00<00:00, 1764.07it/s]\n",
      "  0%|          | 0/100 [00:00<?, ?it/s]"
     ]
    },
    {
     "name": "stdout",
     "output_type": "stream",
     "text": [
      "50.90909090909091\n"
     ]
    },
    {
     "name": "stderr",
     "output_type": "stream",
     "text": [
      "100%|██████████| 100/100 [00:00<00:00, 1549.72it/s]\n",
      "100%|██████████| 100/100 [00:00<00:00, 1659.16it/s]\n",
      "  0%|          | 0/100 [00:00<?, ?it/s]"
     ]
    },
    {
     "name": "stdout",
     "output_type": "stream",
     "text": [
      "52.72727272727272\n"
     ]
    },
    {
     "name": "stderr",
     "output_type": "stream",
     "text": [
      "100%|██████████| 100/100 [00:00<00:00, 1516.41it/s]\n",
      "100%|██████████| 100/100 [00:00<00:00, 1606.43it/s]\n"
     ]
    },
    {
     "name": "stdout",
     "output_type": "stream",
     "text": [
      "54.54545454545454\n"
     ]
    },
    {
     "name": "stderr",
     "output_type": "stream",
     "text": [
      "100%|██████████| 100/100 [00:00<00:00, 1827.46it/s]\n",
      "100%|██████████| 100/100 [00:00<00:00, 1386.39it/s]\n"
     ]
    },
    {
     "name": "stdout",
     "output_type": "stream",
     "text": [
      "56.36363636363636\n"
     ]
    },
    {
     "name": "stderr",
     "output_type": "stream",
     "text": [
      "100%|██████████| 100/100 [00:00<00:00, 1653.09it/s]\n",
      "100%|██████████| 100/100 [00:00<00:00, 1698.01it/s]\n"
     ]
    },
    {
     "name": "stdout",
     "output_type": "stream",
     "text": [
      "58.18181818181818\n"
     ]
    },
    {
     "name": "stderr",
     "output_type": "stream",
     "text": [
      "100%|██████████| 100/100 [00:00<00:00, 1514.39it/s]\n",
      "100%|██████████| 100/100 [00:00<00:00, 1792.31it/s]\n",
      "  0%|          | 0/100 [00:00<?, ?it/s]"
     ]
    },
    {
     "name": "stdout",
     "output_type": "stream",
     "text": [
      "60.0\n"
     ]
    },
    {
     "name": "stderr",
     "output_type": "stream",
     "text": [
      "100%|██████████| 100/100 [00:00<00:00, 1736.63it/s]\n",
      "100%|██████████| 100/100 [00:00<00:00, 1825.50it/s]\n"
     ]
    },
    {
     "name": "stdout",
     "output_type": "stream",
     "text": [
      "61.81818181818181\n"
     ]
    },
    {
     "name": "stderr",
     "output_type": "stream",
     "text": [
      "100%|██████████| 100/100 [00:00<00:00, 1779.09it/s]\n",
      "100%|██████████| 100/100 [00:00<00:00, 1769.41it/s]\n",
      "100%|██████████| 100/100 [00:00<00:00, 1818.05it/s]"
     ]
    },
    {
     "name": "stdout",
     "output_type": "stream",
     "text": [
      "63.63636363636363\n"
     ]
    },
    {
     "name": "stderr",
     "output_type": "stream",
     "text": [
      "\n",
      "100%|██████████| 100/100 [00:00<00:00, 1624.04it/s]\n",
      "  0%|          | 0/100 [00:00<?, ?it/s]"
     ]
    },
    {
     "name": "stdout",
     "output_type": "stream",
     "text": [
      "65.45454545454545\n"
     ]
    },
    {
     "name": "stderr",
     "output_type": "stream",
     "text": [
      "100%|██████████| 100/100 [00:00<00:00, 1714.59it/s]\n",
      "100%|██████████| 100/100 [00:00<00:00, 1695.90it/s]\n"
     ]
    },
    {
     "name": "stdout",
     "output_type": "stream",
     "text": [
      "67.27272727272727\n"
     ]
    },
    {
     "name": "stderr",
     "output_type": "stream",
     "text": [
      "100%|██████████| 100/100 [00:00<00:00, 1587.48it/s]\n",
      "100%|██████████| 100/100 [00:00<00:00, 1731.77it/s]\n",
      "  0%|          | 0/100 [00:00<?, ?it/s]"
     ]
    },
    {
     "name": "stdout",
     "output_type": "stream",
     "text": [
      "69.0909090909091\n"
     ]
    },
    {
     "name": "stderr",
     "output_type": "stream",
     "text": [
      "100%|██████████| 100/100 [00:00<00:00, 1433.28it/s]\n",
      "100%|██████████| 100/100 [00:00<00:00, 1591.57it/s]\n",
      "100%|██████████| 100/100 [00:00<00:00, 1838.39it/s]"
     ]
    },
    {
     "name": "stdout",
     "output_type": "stream",
     "text": [
      "70.9090909090909\n"
     ]
    },
    {
     "name": "stderr",
     "output_type": "stream",
     "text": [
      "\n",
      "100%|██████████| 100/100 [00:00<00:00, 1806.44it/s]\n"
     ]
    },
    {
     "name": "stdout",
     "output_type": "stream",
     "text": [
      "72.72727272727273\n"
     ]
    },
    {
     "name": "stderr",
     "output_type": "stream",
     "text": [
      "100%|██████████| 100/100 [00:00<00:00, 1822.79it/s]\n",
      "100%|██████████| 100/100 [00:00<00:00, 1805.62it/s]\n",
      "100%|██████████| 100/100 [00:00<00:00, 1830.74it/s]"
     ]
    },
    {
     "name": "stdout",
     "output_type": "stream",
     "text": [
      "74.54545454545455\n"
     ]
    },
    {
     "name": "stderr",
     "output_type": "stream",
     "text": [
      "\n",
      "100%|██████████| 100/100 [00:00<00:00, 1706.76it/s]\n"
     ]
    },
    {
     "name": "stdout",
     "output_type": "stream",
     "text": [
      "76.36363636363637\n"
     ]
    },
    {
     "name": "stderr",
     "output_type": "stream",
     "text": [
      "100%|██████████| 100/100 [00:00<00:00, 1602.04it/s]\n",
      "100%|██████████| 100/100 [00:00<00:00, 1555.04it/s]\n"
     ]
    },
    {
     "name": "stdout",
     "output_type": "stream",
     "text": [
      "78.18181818181819\n"
     ]
    },
    {
     "name": "stderr",
     "output_type": "stream",
     "text": [
      "100%|██████████| 100/100 [00:00<00:00, 1395.19it/s]\n",
      "100%|██████████| 100/100 [00:00<00:00, 1767.87it/s]\n",
      "  0%|          | 0/100 [00:00<?, ?it/s]"
     ]
    },
    {
     "name": "stdout",
     "output_type": "stream",
     "text": [
      "80.0\n"
     ]
    },
    {
     "name": "stderr",
     "output_type": "stream",
     "text": [
      "100%|██████████| 100/100 [00:00<00:00, 1678.73it/s]\n",
      "100%|██████████| 100/100 [00:00<00:00, 1818.63it/s]\n"
     ]
    },
    {
     "name": "stdout",
     "output_type": "stream",
     "text": [
      "81.81818181818183\n"
     ]
    },
    {
     "name": "stderr",
     "output_type": "stream",
     "text": [
      "100%|██████████| 100/100 [00:00<00:00, 1552.74it/s]\n",
      "100%|██████████| 100/100 [00:00<00:00, 1588.33it/s]\n",
      "100%|██████████| 100/100 [00:00<00:00, 1797.96it/s]"
     ]
    },
    {
     "name": "stdout",
     "output_type": "stream",
     "text": [
      "83.63636363636363\n"
     ]
    },
    {
     "name": "stderr",
     "output_type": "stream",
     "text": [
      "\n",
      "100%|██████████| 100/100 [00:00<00:00, 1710.33it/s]\n",
      "100%|██████████| 100/100 [00:00<00:00, 1813.93it/s]\n",
      "  0%|          | 0/100 [00:00<?, ?it/s]"
     ]
    },
    {
     "name": "stdout",
     "output_type": "stream",
     "text": [
      "85.45454545454545\n"
     ]
    },
    {
     "name": "stderr",
     "output_type": "stream",
     "text": [
      "100%|██████████| 100/100 [00:00<00:00, 1828.46it/s]\n",
      "100%|██████████| 100/100 [00:00<00:00, 1816.77it/s]"
     ]
    },
    {
     "name": "stdout",
     "output_type": "stream",
     "text": [
      "87.27272727272727\n"
     ]
    },
    {
     "name": "stderr",
     "output_type": "stream",
     "text": [
      "\n",
      "100%|██████████| 100/100 [00:00<00:00, 1733.76it/s]\n",
      "100%|██████████| 100/100 [00:00<00:00, 1783.55it/s]"
     ]
    },
    {
     "name": "stdout",
     "output_type": "stream",
     "text": [
      "89.0909090909091\n"
     ]
    },
    {
     "name": "stderr",
     "output_type": "stream",
     "text": [
      "\n",
      "100%|██████████| 100/100 [00:00<00:00, 1831.66it/s]\n",
      "100%|██████████| 100/100 [00:00<00:00, 1782.07it/s]"
     ]
    },
    {
     "name": "stdout",
     "output_type": "stream",
     "text": [
      "90.9090909090909\n"
     ]
    },
    {
     "name": "stderr",
     "output_type": "stream",
     "text": [
      "\n",
      "100%|██████████| 100/100 [00:00<00:00, 1848.85it/s]\n",
      "100%|██████████| 100/100 [00:00<00:00, 1825.59it/s]\n",
      "  0%|          | 0/100 [00:00<?, ?it/s]"
     ]
    },
    {
     "name": "stdout",
     "output_type": "stream",
     "text": [
      "92.72727272727272\n"
     ]
    },
    {
     "name": "stderr",
     "output_type": "stream",
     "text": [
      "100%|██████████| 100/100 [00:00<00:00, 1813.42it/s]\n",
      "100%|██████████| 100/100 [00:00<00:00, 1831.63it/s]\n",
      "100%|██████████| 100/100 [00:00<00:00, 1830.48it/s]"
     ]
    },
    {
     "name": "stdout",
     "output_type": "stream",
     "text": [
      "94.54545454545455\n"
     ]
    },
    {
     "name": "stderr",
     "output_type": "stream",
     "text": [
      "\n",
      "100%|██████████| 100/100 [00:00<00:00, 1688.90it/s]\n",
      "100%|██████████| 100/100 [00:00<00:00, 1800.83it/s]"
     ]
    },
    {
     "name": "stdout",
     "output_type": "stream",
     "text": [
      "96.36363636363636\n"
     ]
    },
    {
     "name": "stderr",
     "output_type": "stream",
     "text": [
      "\n",
      "100%|██████████| 100/100 [00:00<00:00, 1787.71it/s]\n",
      "100%|██████████| 100/100 [00:00<00:00, 1835.65it/s]"
     ]
    },
    {
     "name": "stdout",
     "output_type": "stream",
     "text": [
      "98.18181818181819\n"
     ]
    },
    {
     "name": "stderr",
     "output_type": "stream",
     "text": [
      "\n"
     ]
    }
   ],
   "source": [
    "def upper_triangular(a, metric='euclidean'):\n",
    "    from scipy.spatial.distance import pdist, squareform\n",
    "    dist_mat = squareform(pdist(a.T, metric=metric))\n",
    "    up_tr = dist_mat[np.triu_indices(len(dist_mat))]\n",
    "    return up_tr, dist_mat\n",
    "\n",
    "def get_data_for_day(selected_day=None, df=None, samples=100):\n",
    "    X_names = df[(df.label==class_label) & (df.date == selected_day)].names\n",
    "    X_data = read_simple(sample(X_names.tolist(), samples))[0].T\n",
    "#     X_data = read_simple(X_names)[0].T\n",
    "    X = transform_data(X_data)\n",
    "    y = np.ones(len(X_names))\n",
    "    return X, y\n",
    "\n",
    "iters = 1000\n",
    "corrs = {}\n",
    "for p, pair in enumerate(pair_combs):\n",
    "#     if p == 0:\n",
    "#         break\n",
    "    print(p/len(pair_combs)*100.)\n",
    "    # Creating matrices for the two days of the pair.\n",
    "    # This returns the \"transformed\" signals i.e. PSDs\n",
    "    X1, _ = get_data_for_day(selected_day=pair[0], df=df[df.label==class_label], samples=100)\n",
    "    X2, _ = get_data_for_day(selected_day=pair[1], df=df[df.label==class_label], samples=100)\n",
    "    \n",
    "    # BOOTSTRAP\n",
    "    corrs[pair] = []\n",
    "    for it in range(iters):\n",
    "        samplesize = np.min([X1.shape[0], X2.shape[0]])\n",
    "\n",
    "        # Sampling with replacement the data of the days - for as many times as \"iters\"\n",
    "        bootstrap_sample = choices(list(range(0,samplesize)), k=samplesize)\n",
    "        #np.random.randint(0,samplesize,size=samplesize)\n",
    "\n",
    "        d1,_ = upper_triangular(X1[bootstrap_sample,:])\n",
    "        d2,_ = upper_triangular(X2[bootstrap_sample,:])\n",
    "        corrs[pair].append(np.corrcoef(d1,d2)[0,1])\n"
   ]
  },
  {
   "cell_type": "markdown",
   "metadata": {},
   "source": [
    "### 95% confidence interval for all pair combinations"
   ]
  },
  {
   "cell_type": "code",
   "execution_count": 93,
   "metadata": {},
   "outputs": [
    {
     "data": {
      "text/html": [
       "<div>\n",
       "<style scoped>\n",
       "    .dataframe tbody tr th:only-of-type {\n",
       "        vertical-align: middle;\n",
       "    }\n",
       "\n",
       "    .dataframe tbody tr th {\n",
       "        vertical-align: top;\n",
       "    }\n",
       "\n",
       "    .dataframe thead th {\n",
       "        text-align: right;\n",
       "    }\n",
       "</style>\n",
       "<table border=\"1\" class=\"dataframe\">\n",
       "  <thead>\n",
       "    <tr style=\"text-align: right;\">\n",
       "      <th></th>\n",
       "      <th>0.025</th>\n",
       "      <th>0.975</th>\n",
       "    </tr>\n",
       "  </thead>\n",
       "  <tbody>\n",
       "    <tr>\n",
       "      <th>(20170109, 20170110)</th>\n",
       "      <td>0.979572</td>\n",
       "      <td>0.994696</td>\n",
       "    </tr>\n",
       "    <tr>\n",
       "      <th>(20170110, 20170110)</th>\n",
       "      <td>0.977503</td>\n",
       "      <td>0.994441</td>\n",
       "    </tr>\n",
       "    <tr>\n",
       "      <th>(20170109, 20170109)</th>\n",
       "      <td>0.977185</td>\n",
       "      <td>0.995747</td>\n",
       "    </tr>\n",
       "    <tr>\n",
       "      <th>(20170116, 20170116)</th>\n",
       "      <td>0.975995</td>\n",
       "      <td>0.994130</td>\n",
       "    </tr>\n",
       "    <tr>\n",
       "      <th>(20170120, 20170120)</th>\n",
       "      <td>0.956743</td>\n",
       "      <td>0.991678</td>\n",
       "    </tr>\n",
       "    <tr>\n",
       "      <th>(20170121, 20170122)</th>\n",
       "      <td>0.956410</td>\n",
       "      <td>0.988230</td>\n",
       "    </tr>\n",
       "    <tr>\n",
       "      <th>(20170123, 20170123)</th>\n",
       "      <td>0.955105</td>\n",
       "      <td>0.987890</td>\n",
       "    </tr>\n",
       "    <tr>\n",
       "      <th>(20170121, 20170123)</th>\n",
       "      <td>0.954528</td>\n",
       "      <td>0.988166</td>\n",
       "    </tr>\n",
       "    <tr>\n",
       "      <th>(20170117, 20170117)</th>\n",
       "      <td>0.951196</td>\n",
       "      <td>0.989094</td>\n",
       "    </tr>\n",
       "    <tr>\n",
       "      <th>(20170122, 20170122)</th>\n",
       "      <td>0.948552</td>\n",
       "      <td>0.987912</td>\n",
       "    </tr>\n",
       "    <tr>\n",
       "      <th>(20170120, 20170121)</th>\n",
       "      <td>0.945198</td>\n",
       "      <td>0.990174</td>\n",
       "    </tr>\n",
       "    <tr>\n",
       "      <th>(20170118, 20170118)</th>\n",
       "      <td>0.939925</td>\n",
       "      <td>0.987071</td>\n",
       "    </tr>\n",
       "    <tr>\n",
       "      <th>(20170120, 20170122)</th>\n",
       "      <td>0.937353</td>\n",
       "      <td>0.986276</td>\n",
       "    </tr>\n",
       "    <tr>\n",
       "      <th>(20170117, 20170118)</th>\n",
       "      <td>0.933867</td>\n",
       "      <td>0.983254</td>\n",
       "    </tr>\n",
       "    <tr>\n",
       "      <th>(20170119, 20170118)</th>\n",
       "      <td>0.929268</td>\n",
       "      <td>0.983084</td>\n",
       "    </tr>\n",
       "    <tr>\n",
       "      <th>(20170119, 20170119)</th>\n",
       "      <td>0.928547</td>\n",
       "      <td>0.987553</td>\n",
       "    </tr>\n",
       "    <tr>\n",
       "      <th>(20170121, 20170121)</th>\n",
       "      <td>0.925618</td>\n",
       "      <td>0.986546</td>\n",
       "    </tr>\n",
       "    <tr>\n",
       "      <th>(20170120, 20170123)</th>\n",
       "      <td>0.918379</td>\n",
       "      <td>0.976446</td>\n",
       "    </tr>\n",
       "    <tr>\n",
       "      <th>(20170117, 20170119)</th>\n",
       "      <td>0.918211</td>\n",
       "      <td>0.969560</td>\n",
       "    </tr>\n",
       "    <tr>\n",
       "      <th>(20170120, 20170118)</th>\n",
       "      <td>0.912360</td>\n",
       "      <td>0.975700</td>\n",
       "    </tr>\n",
       "    <tr>\n",
       "      <th>(20170122, 20170119)</th>\n",
       "      <td>0.907802</td>\n",
       "      <td>0.977951</td>\n",
       "    </tr>\n",
       "    <tr>\n",
       "      <th>(20170120, 20170119)</th>\n",
       "      <td>0.896214</td>\n",
       "      <td>0.972013</td>\n",
       "    </tr>\n",
       "    <tr>\n",
       "      <th>(20170122, 20170123)</th>\n",
       "      <td>0.894450</td>\n",
       "      <td>0.980891</td>\n",
       "    </tr>\n",
       "    <tr>\n",
       "      <th>(20170119, 20170123)</th>\n",
       "      <td>0.883487</td>\n",
       "      <td>0.962597</td>\n",
       "    </tr>\n",
       "    <tr>\n",
       "      <th>(20170121, 20170119)</th>\n",
       "      <td>0.866540</td>\n",
       "      <td>0.959619</td>\n",
       "    </tr>\n",
       "    <tr>\n",
       "      <th>(20170122, 20170117)</th>\n",
       "      <td>0.858996</td>\n",
       "      <td>0.950256</td>\n",
       "    </tr>\n",
       "    <tr>\n",
       "      <th>(20170122, 20170118)</th>\n",
       "      <td>0.849663</td>\n",
       "      <td>0.947742</td>\n",
       "    </tr>\n",
       "    <tr>\n",
       "      <th>(20170121, 20170117)</th>\n",
       "      <td>0.842947</td>\n",
       "      <td>0.938704</td>\n",
       "    </tr>\n",
       "    <tr>\n",
       "      <th>(20170121, 20170118)</th>\n",
       "      <td>0.837337</td>\n",
       "      <td>0.942350</td>\n",
       "    </tr>\n",
       "    <tr>\n",
       "      <th>(20170120, 20170117)</th>\n",
       "      <td>0.826869</td>\n",
       "      <td>0.949736</td>\n",
       "    </tr>\n",
       "    <tr>\n",
       "      <th>(20170117, 20170123)</th>\n",
       "      <td>0.804365</td>\n",
       "      <td>0.917610</td>\n",
       "    </tr>\n",
       "    <tr>\n",
       "      <th>(20170116, 20170110)</th>\n",
       "      <td>0.781073</td>\n",
       "      <td>0.909845</td>\n",
       "    </tr>\n",
       "    <tr>\n",
       "      <th>(20170116, 20170109)</th>\n",
       "      <td>0.747129</td>\n",
       "      <td>0.879877</td>\n",
       "    </tr>\n",
       "    <tr>\n",
       "      <th>(20170117, 20170116)</th>\n",
       "      <td>0.727089</td>\n",
       "      <td>0.860160</td>\n",
       "    </tr>\n",
       "    <tr>\n",
       "      <th>(20170118, 20170123)</th>\n",
       "      <td>0.692239</td>\n",
       "      <td>0.844700</td>\n",
       "    </tr>\n",
       "    <tr>\n",
       "      <th>(20170119, 20170109)</th>\n",
       "      <td>0.686315</td>\n",
       "      <td>0.825999</td>\n",
       "    </tr>\n",
       "    <tr>\n",
       "      <th>(20170118, 20170110)</th>\n",
       "      <td>0.638351</td>\n",
       "      <td>0.809635</td>\n",
       "    </tr>\n",
       "    <tr>\n",
       "      <th>(20170117, 20170109)</th>\n",
       "      <td>0.594362</td>\n",
       "      <td>0.753636</td>\n",
       "    </tr>\n",
       "    <tr>\n",
       "      <th>(20170117, 20170110)</th>\n",
       "      <td>0.581617</td>\n",
       "      <td>0.770864</td>\n",
       "    </tr>\n",
       "    <tr>\n",
       "      <th>(20170118, 20170116)</th>\n",
       "      <td>0.573877</td>\n",
       "      <td>0.748049</td>\n",
       "    </tr>\n",
       "    <tr>\n",
       "      <th>(20170119, 20170116)</th>\n",
       "      <td>0.548280</td>\n",
       "      <td>0.710790</td>\n",
       "    </tr>\n",
       "    <tr>\n",
       "      <th>(20170120, 20170116)</th>\n",
       "      <td>0.535490</td>\n",
       "      <td>0.704960</td>\n",
       "    </tr>\n",
       "    <tr>\n",
       "      <th>(20170118, 20170109)</th>\n",
       "      <td>0.529175</td>\n",
       "      <td>0.696387</td>\n",
       "    </tr>\n",
       "    <tr>\n",
       "      <th>(20170120, 20170110)</th>\n",
       "      <td>0.499199</td>\n",
       "      <td>0.705102</td>\n",
       "    </tr>\n",
       "    <tr>\n",
       "      <th>(20170121, 20170116)</th>\n",
       "      <td>0.493988</td>\n",
       "      <td>0.656611</td>\n",
       "    </tr>\n",
       "    <tr>\n",
       "      <th>(20170122, 20170110)</th>\n",
       "      <td>0.487481</td>\n",
       "      <td>0.667637</td>\n",
       "    </tr>\n",
       "    <tr>\n",
       "      <th>(20170121, 20170109)</th>\n",
       "      <td>0.483561</td>\n",
       "      <td>0.652401</td>\n",
       "    </tr>\n",
       "    <tr>\n",
       "      <th>(20170122, 20170109)</th>\n",
       "      <td>0.467044</td>\n",
       "      <td>0.666266</td>\n",
       "    </tr>\n",
       "    <tr>\n",
       "      <th>(20170123, 20170110)</th>\n",
       "      <td>0.452968</td>\n",
       "      <td>0.625911</td>\n",
       "    </tr>\n",
       "    <tr>\n",
       "      <th>(20170123, 20170116)</th>\n",
       "      <td>0.436611</td>\n",
       "      <td>0.565031</td>\n",
       "    </tr>\n",
       "    <tr>\n",
       "      <th>(20170121, 20170110)</th>\n",
       "      <td>0.426892</td>\n",
       "      <td>0.575257</td>\n",
       "    </tr>\n",
       "    <tr>\n",
       "      <th>(20170119, 20170110)</th>\n",
       "      <td>0.411198</td>\n",
       "      <td>0.596559</td>\n",
       "    </tr>\n",
       "    <tr>\n",
       "      <th>(20170120, 20170109)</th>\n",
       "      <td>0.410983</td>\n",
       "      <td>0.592057</td>\n",
       "    </tr>\n",
       "    <tr>\n",
       "      <th>(20170122, 20170116)</th>\n",
       "      <td>0.408646</td>\n",
       "      <td>0.547379</td>\n",
       "    </tr>\n",
       "    <tr>\n",
       "      <th>(20170123, 20170109)</th>\n",
       "      <td>0.352900</td>\n",
       "      <td>0.522368</td>\n",
       "    </tr>\n",
       "  </tbody>\n",
       "</table>\n",
       "</div>"
      ],
      "text/plain": [
       "                         0.025     0.975\n",
       "(20170109, 20170110)  0.979572  0.994696\n",
       "(20170110, 20170110)  0.977503  0.994441\n",
       "(20170109, 20170109)  0.977185  0.995747\n",
       "(20170116, 20170116)  0.975995  0.994130\n",
       "(20170120, 20170120)  0.956743  0.991678\n",
       "(20170121, 20170122)  0.956410  0.988230\n",
       "(20170123, 20170123)  0.955105  0.987890\n",
       "(20170121, 20170123)  0.954528  0.988166\n",
       "(20170117, 20170117)  0.951196  0.989094\n",
       "(20170122, 20170122)  0.948552  0.987912\n",
       "(20170120, 20170121)  0.945198  0.990174\n",
       "(20170118, 20170118)  0.939925  0.987071\n",
       "(20170120, 20170122)  0.937353  0.986276\n",
       "(20170117, 20170118)  0.933867  0.983254\n",
       "(20170119, 20170118)  0.929268  0.983084\n",
       "(20170119, 20170119)  0.928547  0.987553\n",
       "(20170121, 20170121)  0.925618  0.986546\n",
       "(20170120, 20170123)  0.918379  0.976446\n",
       "(20170117, 20170119)  0.918211  0.969560\n",
       "(20170120, 20170118)  0.912360  0.975700\n",
       "(20170122, 20170119)  0.907802  0.977951\n",
       "(20170120, 20170119)  0.896214  0.972013\n",
       "(20170122, 20170123)  0.894450  0.980891\n",
       "(20170119, 20170123)  0.883487  0.962597\n",
       "(20170121, 20170119)  0.866540  0.959619\n",
       "(20170122, 20170117)  0.858996  0.950256\n",
       "(20170122, 20170118)  0.849663  0.947742\n",
       "(20170121, 20170117)  0.842947  0.938704\n",
       "(20170121, 20170118)  0.837337  0.942350\n",
       "(20170120, 20170117)  0.826869  0.949736\n",
       "(20170117, 20170123)  0.804365  0.917610\n",
       "(20170116, 20170110)  0.781073  0.909845\n",
       "(20170116, 20170109)  0.747129  0.879877\n",
       "(20170117, 20170116)  0.727089  0.860160\n",
       "(20170118, 20170123)  0.692239  0.844700\n",
       "(20170119, 20170109)  0.686315  0.825999\n",
       "(20170118, 20170110)  0.638351  0.809635\n",
       "(20170117, 20170109)  0.594362  0.753636\n",
       "(20170117, 20170110)  0.581617  0.770864\n",
       "(20170118, 20170116)  0.573877  0.748049\n",
       "(20170119, 20170116)  0.548280  0.710790\n",
       "(20170120, 20170116)  0.535490  0.704960\n",
       "(20170118, 20170109)  0.529175  0.696387\n",
       "(20170120, 20170110)  0.499199  0.705102\n",
       "(20170121, 20170116)  0.493988  0.656611\n",
       "(20170122, 20170110)  0.487481  0.667637\n",
       "(20170121, 20170109)  0.483561  0.652401\n",
       "(20170122, 20170109)  0.467044  0.666266\n",
       "(20170123, 20170110)  0.452968  0.625911\n",
       "(20170123, 20170116)  0.436611  0.565031\n",
       "(20170121, 20170110)  0.426892  0.575257\n",
       "(20170119, 20170110)  0.411198  0.596559\n",
       "(20170120, 20170109)  0.410983  0.592057\n",
       "(20170122, 20170116)  0.408646  0.547379\n",
       "(20170123, 20170109)  0.352900  0.522368"
      ]
     },
     "execution_count": 93,
     "metadata": {},
     "output_type": "execute_result"
    }
   ],
   "source": [
    "pd.concat([pd.DataFrame.from_dict(corrs, orient='index').T.quantile(0.025), pd.DataFrame.from_dict(corrs, orient='index').T.quantile(0.975)], axis=1).sort_values(by=0.025,ascending=False)"
   ]
  },
  {
   "cell_type": "markdown",
   "metadata": {},
   "source": [
    "### Median (quantile:0.5)"
   ]
  },
  {
   "cell_type": "code",
   "execution_count": 81,
   "metadata": {},
   "outputs": [
    {
     "data": {
      "text/plain": [
       "(20170109, 20170109)    0.990760\n",
       "(20170109, 20170110)    0.989807\n",
       "(20170116, 20170116)    0.988473\n",
       "(20170110, 20170110)    0.988463\n",
       "(20170120, 20170120)    0.981987\n",
       "(20170121, 20170122)    0.978330\n",
       "(20170120, 20170121)    0.977810\n",
       "(20170123, 20170123)    0.977473\n",
       "(20170117, 20170117)    0.976382\n",
       "(20170121, 20170123)    0.976180\n",
       "(20170122, 20170122)    0.975925\n",
       "(20170118, 20170118)    0.971964\n",
       "(20170120, 20170122)    0.970835\n",
       "(20170119, 20170119)    0.968520\n",
       "(20170117, 20170118)    0.966993\n",
       "(20170121, 20170121)    0.965952\n",
       "(20170119, 20170118)    0.963308\n",
       "(20170120, 20170123)    0.957188\n",
       "(20170120, 20170118)    0.953144\n",
       "(20170122, 20170119)    0.952879\n",
       "(20170122, 20170123)    0.950079\n",
       "(20170117, 20170119)    0.947787\n",
       "(20170120, 20170119)    0.944812\n",
       "(20170119, 20170123)    0.927753\n",
       "(20170121, 20170119)    0.921031\n",
       "(20170122, 20170117)    0.911514\n",
       "(20170122, 20170118)    0.905109\n",
       "(20170120, 20170117)    0.899311\n",
       "(20170121, 20170117)    0.898004\n",
       "(20170121, 20170118)    0.896291\n",
       "(20170117, 20170123)    0.866911\n",
       "(20170116, 20170110)    0.851127\n",
       "(20170116, 20170109)    0.819826\n",
       "(20170117, 20170116)    0.803359\n",
       "(20170118, 20170123)    0.772481\n",
       "(20170119, 20170109)    0.763216\n",
       "(20170118, 20170110)    0.728473\n",
       "(20170117, 20170110)    0.686423\n",
       "(20170117, 20170109)    0.679253\n",
       "(20170118, 20170116)    0.663414\n",
       "(20170119, 20170116)    0.629795\n",
       "(20170120, 20170116)    0.617777\n",
       "(20170118, 20170109)    0.612271\n",
       "(20170120, 20170110)    0.611192\n",
       "(20170122, 20170110)    0.581143\n",
       "(20170121, 20170116)    0.580045\n",
       "(20170122, 20170109)    0.578250\n",
       "(20170121, 20170109)    0.568802\n",
       "(20170123, 20170110)    0.536092\n",
       "(20170119, 20170110)    0.507629\n",
       "(20170121, 20170110)    0.500951\n",
       "(20170120, 20170109)    0.499390\n",
       "(20170123, 20170116)    0.498623\n",
       "(20170122, 20170116)    0.476747\n",
       "(20170123, 20170109)    0.434082\n",
       "dtype: float64"
      ]
     },
     "execution_count": 81,
     "metadata": {},
     "output_type": "execute_result"
    }
   ],
   "source": [
    "pd.DataFrame.from_dict(corrs, orient='index').T.median().sort_values(ascending=False) # quantile(0.5)"
   ]
  },
  {
   "cell_type": "markdown",
   "metadata": {},
   "source": [
    "### Median correlation of each day with the rest"
   ]
  },
  {
   "cell_type": "code",
   "execution_count": 82,
   "metadata": {},
   "outputs": [
    {
     "name": "stdout",
     "output_type": "stream",
     "text": [
      "      stats   periods\n",
      "0  0.948978  20170120\n",
      "1  0.909518  20170121\n",
      "2  0.930796  20170122\n"
     ]
    },
    {
     "data": {
      "text/plain": [
       "<matplotlib.axes._subplots.AxesSubplot at 0x7fcfa890d518>"
      ]
     },
     "execution_count": 82,
     "metadata": {},
     "output_type": "execute_result"
    },
    {
     "data": {
      "image/png": "[encoded data removed]",
      "text/plain": [
       "<Figure size 864x576 with 1 Axes>"
      ]
     },
     "metadata": {
      "needs_background": "light"
     },
     "output_type": "display_data"
    }
   ],
   "source": [
    "def get_period_stat(p):\n",
    "    stats = {}\n",
    "    for i in pair_combs:\n",
    "        if periods[p] in i:\n",
    "            stats[i] = np.median(corrs[i])\n",
    "    return stats\n",
    "df_periodstats = pd.DataFrame([(np.median(list(get_period_stat(i).values())), periods[i]) for i in range(len(periods))], columns=['stats','periods'])\n",
    "print(df_periodstats.head(3))\n",
    "df_periodstats.plot.bar(x='periods',y='stats', figsize=(12,8))"
   ]
  },
  {
   "cell_type": "markdown",
   "metadata": {},
   "source": [
    "### Why are some days so poorly correlated with others?"
   ]
  },
  {
   "cell_type": "code",
   "execution_count": 87,
   "metadata": {},
   "outputs": [
    {
     "name": "stderr",
     "output_type": "stream",
     "text": [
      "100%|██████████| 1000/1000 [00:00<00:00, 1817.69it/s]\n"
     ]
    },
    {
     "name": "stdout",
     "output_type": "stream",
     "text": [
      "There are 1262 signals for day 20170110\n",
      "In class An. gambiae, there are in total 49471 signals\n",
      "2.55% of the signals belong to that day\n"
     ]
    }
   ],
   "source": [
    "day = '20170110'\n",
    "vsday = '20170123'\n",
    "X, _ = get_data_for_day(selected_day=day, df=df[df.label==class_label], samples=1000)\n",
    "print(\"There are {} signals for day {}\".format(df[(df.label==class_label) & (df.date==day)].shape[0], day))\n",
    "print(\"In class {}, there are in total {} signals\".format(class_label, df[df.label==class_label].shape[0]))\n",
    "print(\"{0:.2f}% of the signals belong to that day\".format(df[(df.label==class_label) & (df.date==day)].shape[0]/df[df.label==class_label].shape[0]*100.))"
   ]
  },
  {
   "cell_type": "markdown",
   "metadata": {},
   "source": [
    "### Distance matrix for that day"
   ]
  },
  {
   "cell_type": "code",
   "execution_count": 94,
   "metadata": {},
   "outputs": [
    {
     "name": "stderr",
     "output_type": "stream",
     "text": [
      "100%|██████████| 1000/1000 [00:00<00:00, 1883.44it/s]\n"
     ]
    },
    {
     "data": {
      "image/png": "[encoded data removed]",
      "text/plain": [
       "<Figure size 1008x576 with 4 Axes>"
      ]
     },
     "metadata": {
      "needs_background": "light"
     },
     "output_type": "display_data"
    }
   ],
   "source": [
    "plt.figure(figsize=(14,8)); plt.tight_layout();\n",
    "plt.subplot(1,2,1)\n",
    "plt.imshow(upper_triangular(X, metric='euclidean')[1])\n",
    "plt.colorbar()\n",
    "plt.grid(False)\n",
    "plt.subplot(1,2,2)\n",
    "Xb, _ = get_data_for_day(selected_day=vsday, df=df[df.label==class_label], samples=1000)\n",
    "plt.imshow(upper_triangular(X, metric='euclidean')[1])\n",
    "plt.colorbar()\n",
    "plt.grid(False)"
   ]
  },
  {
   "cell_type": "markdown",
   "metadata": {},
   "source": [
    "### Histograms of 'fr0' for selected day vs another day"
   ]
  },
  {
   "cell_type": "code",
   "execution_count": 89,
   "metadata": {},
   "outputs": [
    {
     "data": {
      "text/plain": [
       "(0, 3600)"
      ]
     },
     "execution_count": 89,
     "metadata": {},
     "output_type": "execute_result"
    },
    {
     "data": {
      "image/png": "[encoded data removed]",
      "text/plain": [
       "<Figure size 1008x360 with 2 Axes>"
      ]
     },
     "metadata": {
      "needs_background": "light"
     },
     "output_type": "display_data"
    }
   ],
   "source": [
    "plt.figure(figsize=(14,5))\n",
    "plt.subplot(1,2,1)\n",
    "df[(df.label==class_label) & (df.date==day)].fr0.hist()\n",
    "plt.xlim(300,1900)\n",
    "plt.ylim(0,3600)\n",
    "plt.subplot(1,2,2)\n",
    "df[(df.label==class_label) & (df.date==vsday)].fr0.hist()\n",
    "plt.xlim(300,1900)\n",
    "plt.ylim(0,3600)"
   ]
  },
  {
   "cell_type": "markdown",
   "metadata": {},
   "source": [
    "### temperature/humidity measurements for all days"
   ]
  },
  {
   "cell_type": "code",
   "execution_count": 90,
   "metadata": {},
   "outputs": [
    {
     "name": "stdout",
     "output_type": "stream",
     "text": [
      "Day: 20170109 , \n",
      "value counts:\n",
      "Series([], Name: temp, dtype: int64)\n",
      "\n",
      "Day: 20170110 , \n",
      "value counts:\n",
      "Series([], Name: temp, dtype: int64)\n",
      "\n",
      "Day: 20170116 , \n",
      "value counts:\n",
      "Series([], Name: temp, dtype: int64)\n",
      "\n",
      "Day: 20170117 , \n",
      "value counts:\n",
      "Series([], Name: temp, dtype: int64)\n",
      "\n",
      "Day: 20170118 , \n",
      "value counts:\n",
      "Series([], Name: temp, dtype: int64)\n",
      "\n",
      "Day: 20170119 , \n",
      "value counts:\n",
      "Series([], Name: temp, dtype: int64)\n",
      "\n",
      "Day: 20170120 , \n",
      "value counts:\n",
      "Series([], Name: temp, dtype: int64)\n",
      "\n",
      "Day: 20170121 , \n",
      "value counts:\n",
      "Series([], Name: temp, dtype: int64)\n",
      "\n",
      "Day: 20170122 , \n",
      "value counts:\n",
      "Series([], Name: temp, dtype: int64)\n",
      "\n",
      "Day: 20170123 , \n",
      "value counts:\n",
      "Series([], Name: temp, dtype: int64)\n",
      "\n"
     ]
    }
   ],
   "source": [
    "for i, sub in df[df.label==class_label].groupby('date'):\n",
    "    print('Day: {} , \\nvalue counts:\\n{}\\n'.format(i,sub.temp.value_counts()))\n",
    "    "
   ]
  },
  {
   "cell_type": "code",
   "execution_count": null,
   "metadata": {},
   "outputs": [],
   "source": []
  },
  {
   "cell_type": "markdown",
   "metadata": {},
   "source": [
    "#  \n",
    "#  "
   ]
  },
  {
   "cell_type": "markdown",
   "metadata": {},
   "source": [
    "## Distance Matrix"
   ]
  },
  {
   "cell_type": "code",
   "execution_count": 260,
   "metadata": {},
   "outputs": [
    {
     "data": {
      "image/png": "[encoded data removed]",
      "text/plain": [
       "<Figure size 1008x576 with 2 Axes>"
      ]
     },
     "metadata": {
      "needs_background": "light"
     },
     "output_type": "display_data"
    }
   ],
   "source": [
    "plt.figure(figsize=(14,8))\n",
    "plt.imshow(upper_triangular(X2, metric='euclidean')[1])\n",
    "plt.colorbar()\n",
    "plt.grid(False)"
   ]
  },
  {
   "cell_type": "code",
   "execution_count": null,
   "metadata": {},
   "outputs": [],
   "source": []
  },
  {
   "cell_type": "code",
   "execution_count": null,
   "metadata": {},
   "outputs": [],
   "source": []
  },
  {
   "cell_type": "code",
   "execution_count": null,
   "metadata": {},
   "outputs": [],
   "source": []
  },
  {
   "cell_type": "code",
   "execution_count": 191,
   "metadata": {},
   "outputs": [
    {
     "data": {
      "text/plain": [
       "<matplotlib.image.AxesImage at 0x7f61b889a208>"
      ]
     },
     "execution_count": 191,
     "metadata": {},
     "output_type": "execute_result"
    },
    {
     "data": {
      "image/png": "[encoded data removed]",
      "text/plain": [
       "<Figure size 432x288 with 1 Axes>"
      ]
     },
     "metadata": {
      "needs_background": "light"
     },
     "output_type": "display_data"
    }
   ],
   "source": [
    "plt.imshow(upper_triangular(X1, metric='cosine')[1])"
   ]
  },
  {
   "cell_type": "code",
   "execution_count": null,
   "metadata": {},
   "outputs": [],
   "source": []
  },
  {
   "cell_type": "code",
   "execution_count": 79,
   "metadata": {},
   "outputs": [
    {
     "data": {
      "image/png": "[encoded data removed]",
      "text/plain": [
       "<Figure size 864x576 with 2 Axes>"
      ]
     },
     "metadata": {
      "needs_background": "light"
     },
     "output_type": "display_data"
    }
   ],
   "source": [
    "from scipy.spatial.distance import pdist, squareform\n",
    "D1 = squareform(pdist(X1.T, metric='euclidean'))\n",
    "D2 = squareform(pdist(X2.T, metric='euclidean'))\n",
    "plt.figure(figsize=(12,8))\n",
    "plt.subplot(1,2,1); plt.imshow(D1); plt.grid(False)\n",
    "plt.subplot(1,2,2); plt.imshow(D2); plt.grid(False)"
   ]
  },
  {
   "cell_type": "code",
   "execution_count": 80,
   "metadata": {},
   "outputs": [
    {
     "data": {
      "text/plain": [
       "array([[1.       , 0.9527434],\n",
       "       [0.9527434, 1.       ]])"
      ]
     },
     "execution_count": 80,
     "metadata": {},
     "output_type": "execute_result"
    }
   ],
   "source": [
    "np.corrcoef(D1[np.triu_indices(len(D1))],\n",
    "            D2[np.triu_indices(len(D2))])"
   ]
  },
  {
   "cell_type": "code",
   "execution_count": null,
   "metadata": {},
   "outputs": [],
   "source": []
  },
  {
   "cell_type": "code",
   "execution_count": null,
   "metadata": {},
   "outputs": [],
   "source": []
  },
  {
   "cell_type": "code",
   "execution_count": null,
   "metadata": {},
   "outputs": [],
   "source": []
  },
  {
   "cell_type": "code",
   "execution_count": null,
   "metadata": {},
   "outputs": [],
   "source": []
  },
  {
   "cell_type": "code",
   "execution_count": 12,
   "metadata": {},
   "outputs": [],
   "source": [
    "# df_x1 = pd.DataFrame(X1.T).describe()\n",
    "# df_x2 = pd.DataFrame(X2.T).describe()"
   ]
  },
  {
   "cell_type": "code",
   "execution_count": 9,
   "metadata": {},
   "outputs": [
    {
     "name": "stdout",
     "output_type": "stream",
     "text": [
      "After undersampling: \n",
      "1.0    15393\n",
      "0.0    15393\n",
      "Name: 0, dtype: int64\n",
      "\n",
      "ac: 0.580221\n"
     ]
    }
   ],
   "source": [
    "# X = np.vstack((X1,X2))\n",
    "# y = np.vstack((y1.reshape(-1,1),y2.reshape(-1,1))).ravel()\n",
    "\n",
    "# X, y = shuffle(X, y, random_state=3)\n",
    "\n",
    "# from imblearn.under_sampling import RandomUnderSampler\n",
    "# ros = RandomUnderSampler(random_state=0)\n",
    "# ros.fit(X,y)\n",
    "# X, y = ros.fit_resample(X,y)\n",
    "# print('After undersampling: \\n{}\\n'.format(pd.DataFrame(y).iloc[:,0].value_counts()))\n",
    "\n",
    "# X_train, X_test, y_train, y_test = train_test_split(X, y, test_size=0.20, random_state=0)\n",
    "\n",
    "# from sklearn.tree import DecisionTreeClassifier\n",
    "# classifier = DecisionTreeClassifier(random_state=0)\n",
    "# classifier.fit(X_train, y_train)\n",
    "# y_pred = classifier.predict(X_test)\n",
    "\n",
    "# ac = accuracy_score(y_test, y_pred)\n",
    "# #cv_ac = cross_val_score(classifier, X, y, cv=3, scoring='accuracy')\n",
    "# print(\"ac: %f\" % ac)\n",
    "# #print(\"Name: %s, cv_ac: %f\" % ('...', np.mean(cv_ac)))"
   ]
  },
  {
   "cell_type": "code",
   "execution_count": 10,
   "metadata": {},
   "outputs": [],
   "source": [
    "# feature_importances = pd.DataFrame(classifier.feature_importances_,\n",
    "#                                     columns=['importance']).sort_values('importance', ascending=False)\n",
    "# feature_importances.head(10)"
   ]
  }
 ],
 "metadata": {
  "kernelspec": {
   "display_name": "Python 3",
   "language": "python",
   "name": "python3"
  },
  "language_info": {
   "codemirror_mode": {
    "name": "ipython",
    "version": 3
   },
   "file_extension": ".py",
   "mimetype": "text/x-python",
   "name": "python",
   "nbconvert_exporter": "python",
   "pygments_lexer": "ipython3",
   "version": "3.6.7"
  }
 },
 "nbformat": 4,
 "nbformat_minor": 2
}
