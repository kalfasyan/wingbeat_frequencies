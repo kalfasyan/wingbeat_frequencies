{
 "cells": [
  {
   "cell_type": "code",
   "execution_count": 1,
   "metadata": {},
   "outputs": [
    {
     "name": "stderr",
     "output_type": "stream",
     "text": [
      "Using TensorFlow backend.\n"
     ]
    }
   ],
   "source": [
    "%reset -f\n",
    "import glob, os, sys, io\n",
    "sys.path.insert(1, os.path.join(sys.path[0], '..'))\n",
    "import pandas as pd\n",
    "import matplotlib.pyplot as plt\n",
    "import numpy as np\n",
    "import multiprocessing\n",
    "from sklearn.model_selection import train_test_split\n",
    "import keras\n",
    "\n",
    "from wavhandler import *\n",
    "from utils import *\n",
    "\n",
    "import logging\n",
    "logger = logging.getLogger()\n",
    "logger.propagate = False\n",
    "logger.setLevel(logging.ERROR)\n",
    "np.random.seed(0)\n",
    "import seaborn as sns\n",
    "sns.set()\n",
    "\n",
    "import librosa\n",
    "from scipy import signal\n",
    "import math\n",
    "seed = 2018\n",
    "np.random.seed(seed)\n",
    "from matplotlib import pyplot as plt\n",
    "\n",
    "from sklearn.utils import shuffle\n",
    "from sklearn.model_selection import train_test_split\n",
    "\n",
    "from keras.layers import Input\n",
    "from keras import layers\n",
    "\n",
    "from keras.callbacks import ModelCheckpoint\n",
    "from keras.callbacks import EarlyStopping\n",
    "from keras.callbacks import ReduceLROnPlateau\n",
    "from keras.callbacks import CSVLogger\n",
    "\n",
    "from keras import Model\n",
    "from keras import backend as K\n",
    "\n",
    "from keras.utils import np_utils\n",
    "from keras.preprocessing import image\n",
    "\n",
    "from keras.applications.densenet import DenseNet121, DenseNet169, DenseNet201\n",
    "from keras.applications.inception_resnet_v2 import InceptionResNetV2\n",
    "from keras.applications.inception_v3 import InceptionV3\n",
    "from keras.applications.mobilenet import MobileNet\n",
    "from keras.applications.nasnet import NASNetLarge, NASNetMobile\n",
    "from keras.applications.vgg16 import VGG16\n",
    "from keras.applications.vgg19 import VGG19\n",
    "from keras.applications.xception import Xception"
   ]
  },
  {
   "cell_type": "code",
   "execution_count": 2,
   "metadata": {},
   "outputs": [],
   "source": [
    "target_names = all_6\n",
    "current_model = DenseNet121\n",
    "model_name = './data/wingbeats_' + current_model.__name__\n",
    "\n",
    "best_weights_path = model_name + '.h5'\n",
    "log_path = model_name + '.log'\n",
    "monitor = 'val_acc'\n",
    "batch_size = 32\n",
    "epochs = 100\n",
    "es_patience = 7\n",
    "rlr_patience = 3\n",
    "\n",
    "SR = 8000\n",
    "N_FFT = 256\n",
    "HOP_LEN = int(N_FFT / 6)\n",
    "input_shape = (129, 120, 1)\n",
    "\n",
    "img_input = Input(shape = input_shape)\n",
    "pretrained = current_model(input_tensor = img_input, \n",
    "                           classes = len(target_names), \n",
    "                           weights = best_weights_path)"
   ]
  },
  {
   "cell_type": "code",
   "execution_count": 3,
   "metadata": {},
   "outputs": [
    {
     "name": "stderr",
     "output_type": "stream",
     "text": [
      "100%|██████████| 2/2 [00:00<00:00, 27.57it/s]\n"
     ]
    }
   ],
   "source": [
    "bi_classes = ['LG_drosophila_10_09', 'LG_zapr_26_09']\n",
    "target_names = bi_classes\n",
    "X_names,y = get_data(target_names=bi_classes, nr_signals=999999, only_names=True)\n",
    "\n",
    "X_names, y = shuffle(X_names, y, random_state = seed)\n",
    "X_train, X_test, y_train, y_test = train_test_split(X_names, y, stratify = y, test_size = 0.20, random_state = seed)\n",
    "# y_train = keras.utils.to_categorical(y_train, num_classes=2)\n",
    "# y_test = keras.utils.to_categorical(y_test, num_classes=2)"
   ]
  },
  {
   "cell_type": "code",
   "execution_count": 4,
   "metadata": {},
   "outputs": [
    {
     "name": "stdout",
     "output_type": "stream",
     "text": [
      "<keras.layers.core.Activation object at 0x7fe482291ef0> False\n",
      "<keras.layers.convolutional.Conv2D object at 0x7fe48227b160> False\n",
      "<keras.layers.normalization.BatchNormalization object at 0x7fe48225cb38> False\n",
      "<keras.layers.core.Activation object at 0x7fe482161128> False\n",
      "<keras.layers.convolutional.Conv2D object at 0x7fe482178f28> False\n",
      "<keras.layers.merge.Concatenate object at 0x7fe48207f080> False\n",
      "<keras.layers.normalization.BatchNormalization object at 0x7fe4820c7828> False\n",
      "<keras.layers.pooling.GlobalAveragePooling2D object at 0x7fe48205a898> False\n",
      "<keras.layers.core.Dense object at 0x7fe452ee96a0> True\n",
      "<keras.layers.core.Dense object at 0x7fe48003ddd8> True\n"
     ]
    }
   ],
   "source": [
    "out = pretrained.get_layer(pretrained.layers[-2].name).output\n",
    "out = layers.Dense(16, activation='relu')(out)\n",
    "out = layers.Dense(1, activation='sigmoid')(out)\n",
    "new_model = Model(inputs=img_input, outputs=out)\n",
    "\n",
    "for layer in new_model.layers[:-2]:\n",
    "    layer.trainable = False\n",
    "for layer in new_model.layers[-10:]:\n",
    "    print(layer, layer.trainable)\n",
    "\n",
    "adm = keras.optimizers.Adam(lr=0.0001, beta_1=0.9, beta_2=0.999, epsilon=None, decay=0.0, amsgrad=True)\n",
    "\n",
    "new_model.compile(optimizer = adm, loss = 'binary_crossentropy', metrics = ['accuracy'])"
   ]
  },
  {
   "cell_type": "code",
   "execution_count": 5,
   "metadata": {},
   "outputs": [],
   "source": [
    "def shift(x, wshift, hshift, row_axis = 0, col_axis = 1, channel_axis = 2, fill_mode = 'constant', cval = 0.):\n",
    "    h, w = x.shape[row_axis], x.shape[col_axis]\n",
    "    tx = hshift * h\n",
    "    ty = wshift * w\n",
    "    translation_matrix = np.array([[1, 0, tx],\n",
    "                                   [0, 1, ty],\n",
    "                                   [0, 0, 1]])\n",
    "    transform_matrix = translation_matrix\n",
    "    x = image.apply_transform(x, transform_matrix, channel_axis, fill_mode, cval)\n",
    "    return x\n",
    "\n",
    "def random_data_shift(data, w_limit = (-0.25, 0.25), h_limit = (-0.0, 0.0), cval = 0., u = 0.5):\n",
    "    if np.random.random() < u:\n",
    "        wshift = np.random.uniform(w_limit[0], w_limit[1])\n",
    "        hshift = np.random.uniform(h_limit[0], h_limit[1])\n",
    "        data = shift(data, wshift, hshift, cval = cval)\n",
    "    return data\n",
    "\n",
    "def train_generator():\n",
    "    while True:\n",
    "        for start in range(0, len(X_train), batch_size):\n",
    "            x_batch = []\n",
    "            y_batch = []\n",
    "\n",
    "            end = min(start + batch_size, len(X_train))\n",
    "            train_batch = X_train[start:end]\n",
    "            labels_batch = y_train[start:end]\n",
    "\n",
    "            for i in range(len(train_batch)):\n",
    "                data, rate = librosa.load(train_batch[i], sr = SR)\n",
    "\n",
    "                #data = random_data_shift(data, u = 1.0)\n",
    "\n",
    "                data = librosa.stft(data, n_fft = N_FFT, hop_length = HOP_LEN)\n",
    "#                 data = librosa.amplitude_to_db(data)\n",
    "                data = np.abs(data)\n",
    "                data = np.flipud(data)\n",
    "\n",
    "                data = np.expand_dims(data, axis = -1)\n",
    "                data = random_data_shift(data, w_limit = (-0.25, 0.25), h_limit = (-0.0, 0.0), cval = np.min(data), u = 1.0)\n",
    "\n",
    "                # data = np.squeeze(data, axis = -1)\n",
    "                # plt.imshow(data, cmap = 'gray')\n",
    "                # plt.show()\n",
    "                # data = np.expand_dims(data, axis = -1)\n",
    "\n",
    "                x_batch.append(data)\n",
    "                y_batch.append(labels_batch[i])\n",
    "\n",
    "            x_batch = np.array(x_batch, np.float32)\n",
    "            y_batch = np.array(y_batch, np.float32)\n",
    "\n",
    "            #y_batch = np_utils.to_categorical(y_batch, len(target_names))\n",
    "\n",
    "            yield x_batch, y_batch\n",
    "\n",
    "def valid_generator():\n",
    "    while True:\n",
    "        for start in range(0, len(X_test), batch_size):\n",
    "            x_batch = []\n",
    "            y_batch = []\n",
    "\n",
    "            end = min(start + batch_size, len(X_test))\n",
    "            test_batch = X_test[start:end]\n",
    "            labels_batch = y_test[start:end]\n",
    "\n",
    "            for i in range(len(test_batch)):\n",
    "                data, rate = librosa.load(test_batch[i], sr = SR)\n",
    "\n",
    "                data = librosa.stft(data, n_fft = N_FFT, hop_length = HOP_LEN)\n",
    "#                 data = librosa.amplitude_to_db(data)\n",
    "                data = np.abs(data)\n",
    "                data = np.flipud(data)\n",
    "\n",
    "                data = np.expand_dims(data, axis = -1)\n",
    "\n",
    "                x_batch.append(data)\n",
    "                y_batch.append(labels_batch[i])\n",
    "\n",
    "            x_batch = np.array(x_batch, np.float32)\n",
    "            y_batch = np.array(y_batch, np.float32)\n",
    "\n",
    "            #y_batch = np_utils.to_categorical(y_batch, len(target_names))\n",
    "\n",
    "            yield x_batch, y_batch\n",
    "\n",
    "callbacks_list = [ModelCheckpoint(monitor = monitor,\n",
    "                                filepath = best_weights_path[:-3]+'_binary.h5',\n",
    "                                save_best_only = True,\n",
    "                                save_weights_only = True,\n",
    "                                verbose = 1),\n",
    "                    EarlyStopping(monitor = monitor,\n",
    "                                patience = es_patience,\n",
    "                                verbose = 1),\n",
    "                    ReduceLROnPlateau(monitor = monitor,\n",
    "                                factor = 0.1,\n",
    "                                patience = rlr_patience,\n",
    "                                verbose = 1),\n",
    "                    CSVLogger(filename = log_path)]\n"
   ]
  },
  {
   "cell_type": "code",
   "execution_count": 6,
   "metadata": {},
   "outputs": [],
   "source": [
    "for start in range(0, len(X_test), batch_size):\n",
    "    x_batch = []\n",
    "    y_batch = []\n",
    "\n",
    "    end = min(start + batch_size, len(X_test))\n",
    "    test_batch = X_test[start:end]\n",
    "    labels_batch = y_test[start:end]\n",
    "\n",
    "    for i in range(len(test_batch)):\n",
    "        data, rate = librosa.load(test_batch[i], sr = SR)\n",
    "\n",
    "        data = librosa.stft(data, n_fft = N_FFT, hop_length = HOP_LEN)\n",
    "#                 data = librosa.amplitude_to_db(data)\n",
    "        data = np.abs(data)\n",
    "        data = np.flipud(data)\n",
    "\n",
    "        data = np.expand_dims(data, axis = -1)\n",
    "\n",
    "        x_batch.append(data)\n",
    "        y_batch.append(labels_batch[i])\n",
    "    break"
   ]
  },
  {
   "cell_type": "code",
   "execution_count": 18,
   "metadata": {},
   "outputs": [
    {
     "data": {
      "text/plain": [
       "Text(0.5, 1.0, '(129, 120, 1)')"
      ]
     },
     "execution_count": 18,
     "metadata": {},
     "output_type": "execute_result"
    },
    {
     "data": {
      "image/png": "[encoded data removed]",
      "text/plain": [
       "<Figure size 1008x1008 with 2 Axes>"
      ]
     },
     "metadata": {
      "needs_background": "light"
     },
     "output_type": "display_data"
    }
   ],
   "source": [
    "plt.figure(figsize=(14,14))\n",
    "plt.imshow(x_batch[0].squeeze())\n",
    "plt.colorbar()\n",
    "plt.grid(False)\n",
    "plt.title(str(x_batch[0].shape))"
   ]
  },
  {
   "cell_type": "code",
   "execution_count": null,
   "metadata": {},
   "outputs": [],
   "source": []
  },
  {
   "cell_type": "code",
   "execution_count": null,
   "metadata": {},
   "outputs": [],
   "source": []
  },
  {
   "cell_type": "code",
   "execution_count": 19,
   "metadata": {},
   "outputs": [
    {
     "name": "stdout",
     "output_type": "stream",
     "text": [
      "Epoch 1/100\n",
      "318/319 [============================>.] - ETA: 0s - loss: 0.4999 - acc: 0.7600\n",
      "Epoch 00001: val_acc improved from -inf to 0.58314, saving model to ./data/wingbeats_DenseNet121_binary.h5\n",
      "319/319 [==============================] - 72s 226ms/step - loss: 0.4997 - acc: 0.7601 - val_loss: 0.6128 - val_acc: 0.5831\n",
      "Epoch 2/100\n",
      "318/319 [============================>.] - ETA: 0s - loss: 0.3931 - acc: 0.8279\n",
      "Epoch 00002: val_acc improved from 0.58314 to 0.62549, saving model to ./data/wingbeats_DenseNet121_binary.h5\n",
      "319/319 [==============================] - 69s 216ms/step - loss: 0.3932 - acc: 0.8277 - val_loss: 0.5796 - val_acc: 0.6255\n",
      "Epoch 3/100\n",
      "318/319 [============================>.] - ETA: 0s - loss: 0.3528 - acc: 0.8474\n",
      "Epoch 00003: val_acc did not improve\n",
      "319/319 [==============================] - 69s 217ms/step - loss: 0.3529 - acc: 0.8471 - val_loss: 0.6543 - val_acc: 0.6133\n",
      "Epoch 4/100\n",
      "318/319 [============================>.] - ETA: 0s - loss: 0.3277 - acc: 0.8601\n",
      "Epoch 00004: val_acc did not improve\n",
      "319/319 [==============================] - 69s 217ms/step - loss: 0.3276 - acc: 0.8597 - val_loss: 0.6963 - val_acc: 0.6090\n",
      "Epoch 5/100\n",
      "318/319 [============================>.] - ETA: 0s - loss: 0.3059 - acc: 0.8757\n",
      "Epoch 00005: val_acc did not improve\n",
      "319/319 [==============================] - 69s 218ms/step - loss: 0.3059 - acc: 0.8756 - val_loss: 0.7956 - val_acc: 0.5984\n",
      "Epoch 6/100\n",
      "318/319 [============================>.] - ETA: 0s - loss: 0.2912 - acc: 0.8814\n",
      "Epoch 00006: val_acc did not improve\n",
      "\n",
      "Epoch 00006: ReduceLROnPlateau reducing learning rate to 9.999999747378752e-06.\n",
      "319/319 [==============================] - 71s 221ms/step - loss: 0.2914 - acc: 0.8811 - val_loss: 0.8773 - val_acc: 0.5914\n",
      "Epoch 7/100\n",
      "318/319 [============================>.] - ETA: 0s - loss: 0.2779 - acc: 0.8862\n",
      "Epoch 00007: val_acc did not improve\n",
      "319/319 [==============================] - 69s 217ms/step - loss: 0.2782 - acc: 0.8859 - val_loss: 0.8631 - val_acc: 0.5949\n",
      "Epoch 8/100\n",
      "318/319 [============================>.] - ETA: 0s - loss: 0.2759 - acc: 0.8870\n",
      "Epoch 00008: val_acc did not improve\n",
      "319/319 [==============================] - 70s 221ms/step - loss: 0.2761 - acc: 0.8867 - val_loss: 0.8645 - val_acc: 0.5953\n",
      "Epoch 9/100\n",
      "318/319 [============================>.] - ETA: 0s - loss: 0.2748 - acc: 0.8912\n",
      "Epoch 00009: val_acc did not improve\n",
      "\n",
      "Epoch 00009: ReduceLROnPlateau reducing learning rate to 9.999999747378752e-07.\n",
      "319/319 [==============================] - 68s 213ms/step - loss: 0.2750 - acc: 0.8909 - val_loss: 0.8539 - val_acc: 0.5953\n",
      "Epoch 00009: early stopping\n"
     ]
    },
    {
     "data": {
      "text/plain": [
       "<keras.callbacks.History at 0x7f9ad095fb70>"
      ]
     },
     "execution_count": 19,
     "metadata": {},
     "output_type": "execute_result"
    }
   ],
   "source": [
    "new_model.fit_generator(train_generator(),\n",
    "    steps_per_epoch = int(math.ceil(float(len(X_train)) / float(batch_size))),\n",
    "    validation_data = valid_generator(),\n",
    "    validation_steps = int(math.ceil(float(len(X_test)) / float(batch_size))),\n",
    "    epochs = epochs,\n",
    "    callbacks = callbacks_list,\n",
    "    shuffle = False)"
   ]
  },
  {
   "cell_type": "code",
   "execution_count": 20,
   "metadata": {},
   "outputs": [],
   "source": [
    "# new_model.summary()"
   ]
  },
  {
   "cell_type": "code",
   "execution_count": null,
   "metadata": {},
   "outputs": [],
   "source": []
  },
  {
   "cell_type": "code",
   "execution_count": null,
   "metadata": {},
   "outputs": [],
   "source": []
  },
  {
   "cell_type": "code",
   "execution_count": null,
   "metadata": {},
   "outputs": [],
   "source": []
  },
  {
   "cell_type": "code",
   "execution_count": null,
   "metadata": {},
   "outputs": [],
   "source": []
  }
 ],
 "metadata": {
  "kernelspec": {
   "display_name": "Python 3",
   "language": "python",
   "name": "python3"
  },
  "language_info": {
   "codemirror_mode": {
    "name": "ipython",
    "version": 3
   },
   "file_extension": ".py",
   "mimetype": "text/x-python",
   "name": "python",
   "nbconvert_exporter": "python",
   "pygments_lexer": "ipython3",
   "version": "3.6.6"
  }
 },
 "nbformat": 4,
 "nbformat_minor": 2
}
