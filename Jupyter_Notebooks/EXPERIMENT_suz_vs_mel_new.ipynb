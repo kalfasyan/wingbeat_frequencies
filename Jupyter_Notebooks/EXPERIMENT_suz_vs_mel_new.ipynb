{
 "cells": [
  {
   "cell_type": "code",
   "execution_count": null,
   "metadata": {},
   "outputs": [],
   "source": [
    "%reset -f\n",
    "import sys\n",
    "sys.path.insert(0,'..')\n",
    "from wavhandler import *\n",
    "import os, glob\n",
    "import pandas as pd\n",
    "from configs import *\n",
    "from sklearn.model_selection import train_test_split\n",
    "from utils_train import *\n",
    "from sklearn.preprocessing import LabelEncoder"
   ]
  },
  {
   "cell_type": "markdown",
   "metadata": {},
   "source": [
    "### data collecting"
   ]
  },
  {
   "cell_type": "code",
   "execution_count": null,
   "metadata": {},
   "outputs": [],
   "source": [
    "mebios = DatasetConfiguration(names=['Mebios_RL'])\n",
    "mebios.select_all(); \n",
    "mebios.read();\n",
    "mebios.df.labels.value_counts()"
   ]
  },
  {
   "cell_type": "code",
   "execution_count": null,
   "metadata": {},
   "outputs": [],
   "source": [
    "rodr = DatasetConfiguration(names=['Rodrigo'])\n",
    "rodr.select_all();\n",
    "rodr.read()\n",
    "rodr.df.labels = rodr.df.labels.apply(lambda x: f'{x.replace(\" \", \"\")}_')\n",
    "rodr.df.labels.value_counts()"
   ]
  },
  {
   "cell_type": "code",
   "execution_count": null,
   "metadata": {},
   "outputs": [],
   "source": [
    "pcfruit49 = DatasetConfiguration(names=['Pcfruit_sensor49'])\n",
    "pcfruit49.select_all();\n",
    "pcfruit49.read()\n",
    "pcfruit49.df.labels = pcfruit49.df.labels.apply(lambda x: f'{x}_')\n",
    "pcfruit49.df.labels.value_counts()"
   ]
  },
  {
   "cell_type": "markdown",
   "metadata": {},
   "source": [
    "## train"
   ]
  },
  {
   "cell_type": "code",
   "execution_count": 5,
   "metadata": {},
   "outputs": [
    {
     "data": {
      "text/plain": [
       "D.suzukii         23038\n",
       "D.melanogaster     9605\n",
       "Name: labels, dtype: int64"
      ]
     },
     "execution_count": 5,
     "metadata": {},
     "output_type": "execute_result"
    }
   ],
   "source": [
    "train_meb = mebios.df[mebios.df.labels.isin(['D.melanogasterL','D.suzukiiL'])]\n",
    "train_rodr = rodr.df.copy()\n",
    "train = pd.concat([train_meb, train_rodr])\n",
    "train.labels = train.labels.apply(lambda x: x[:-1])\n",
    "train.labels.value_counts()"
   ]
  },
  {
   "cell_type": "code",
   "execution_count": 6,
   "metadata": {},
   "outputs": [],
   "source": [
    "train['psd_score'] = get_clean_wingbeats(names=train.fnames.tolist())\n",
    "train = train[train['psd_score'] > 150].drop('psd_score', axis=1)"
   ]
  },
  {
   "cell_type": "markdown",
   "metadata": {},
   "source": [
    "## test"
   ]
  },
  {
   "cell_type": "code",
   "execution_count": 7,
   "metadata": {},
   "outputs": [
    {
     "data": {
      "text/plain": [
       "D.suzukii         9925\n",
       "D.melanogaster    8575\n",
       "Name: labels, dtype: int64"
      ]
     },
     "execution_count": 7,
     "metadata": {},
     "output_type": "execute_result"
    }
   ],
   "source": [
    "test_meb = mebios.df[mebios.df.labels.isin(['D.melanogasterR', 'D.suzukiiR'])]\n",
    "test_p49 = pcfruit49.df\n",
    "test = pd.concat([test_meb, test_p49])\n",
    "test.labels = test.labels.apply(lambda x: x.replace(\" \", \"\")[:-1])\n",
    "test.labels.value_counts()"
   ]
  },
  {
   "cell_type": "code",
   "execution_count": 8,
   "metadata": {},
   "outputs": [],
   "source": [
    "test['psd_score'] = get_clean_wingbeats(names=test.fnames.tolist())\n",
    "test = test[test['psd_score'] > 150].drop('psd_score', axis=1)"
   ]
  },
  {
   "cell_type": "markdown",
   "metadata": {},
   "source": [
    "### data splitting"
   ]
  },
  {
   "cell_type": "code",
   "execution_count": 9,
   "metadata": {},
   "outputs": [
    {
     "name": "stdout",
     "output_type": "stream",
     "text": [
      "train: \n",
      "D.suzukii         14949\n",
      "D.melanogaster     7917\n",
      "dtype: int64\n",
      "\n",
      "test: \n",
      "D.suzukii         5011\n",
      "D.melanogaster    2612\n",
      "dtype: int64\n"
     ]
    }
   ],
   "source": [
    "random_splitting = True\n",
    "\n",
    "if random_splitting:\n",
    "    tmp = pd.concat([train, test])\n",
    "    X_train, X_test, y_train, y_test = train_test_split(tmp.fnames.tolist(), tmp.labels.tolist(), shuffle=True, random_state=42)\n",
    "else:\n",
    "    X_train = train.fnames.tolist()\n",
    "    X_test = test.fnames.tolist()\n",
    "    y_train = train.labels.tolist()\n",
    "    y_test = test.labels.tolist()\n",
    "\n",
    "print(f\"train: \\n{pd.Series(y_train).value_counts()}\\n\")\n",
    "print(f\"test: \\n{pd.Series(y_test).value_counts()}\")"
   ]
  },
  {
   "cell_type": "code",
   "execution_count": 10,
   "metadata": {},
   "outputs": [
    {
     "data": {
      "text/plain": [
       "1    5011\n",
       "0    2612\n",
       "dtype: int64"
      ]
     },
     "execution_count": 10,
     "metadata": {},
     "output_type": "execute_result"
    }
   ],
   "source": [
    "le = LabelEncoder()\n",
    "y_train = le.fit_transform(y_train)\n",
    "y_test = le.transform(y_test)\n",
    "pd.Series(y_test).value_counts()"
   ]
  },
  {
   "cell_type": "code",
   "execution_count": 11,
   "metadata": {},
   "outputs": [],
   "source": [
    "traincf = TrainConfiguration(nb_classes=2, setting='rawflt', model_name='tmp123', monitor='val_accuracy')"
   ]
  },
  {
   "cell_type": "code",
   "execution_count": 12,
   "metadata": {},
   "outputs": [
    {
     "name": "stdout",
     "output_type": "stream",
     "text": [
      "############ INPUT SHAPE:(5000, 1)\n"
     ]
    }
   ],
   "source": [
    "modelconf = ModelConfiguration(model_setting='conv1d', data_setting='rawflt', nb_classes=2)\n",
    "model = modelconf.config\n",
    "model.compile(optimizer='adam', loss='binary_crossentropy', metrics=['accuracy'])"
   ]
  },
  {
   "cell_type": "code",
   "execution_count": 13,
   "metadata": {},
   "outputs": [],
   "source": [
    "X_train, X_val, y_train, y_val = train_test_split(X_train, y_train, random_state=42, shuffle=True)"
   ]
  },
  {
   "cell_type": "code",
   "execution_count": 14,
   "metadata": {},
   "outputs": [
    {
     "name": "stdout",
     "output_type": "stream",
     "text": [
      "Epoch 1/100\n",
      "535/536 [============================>.] - ETA: 0s - loss: 0.3203 - accuracy: 0.8727\n",
      "Epoch 00001: val_accuracy improved from -inf to 0.34021, saving model to /home/kalfasyan/projects/wingbeat_frequencies/temp_data/tmp123.h5\n",
      "536/536 [==============================] - 46s 86ms/step - loss: 0.3199 - accuracy: 0.8729 - val_loss: 6.4576 - val_accuracy: 0.3402\n",
      "Epoch 2/100\n",
      "535/536 [============================>.] - ETA: 0s - loss: 0.2004 - accuracy: 0.9261\n",
      "Epoch 00002: val_accuracy improved from 0.34021 to 0.52895, saving model to /home/kalfasyan/projects/wingbeat_frequencies/temp_data/tmp123.h5\n",
      "536/536 [==============================] - 44s 82ms/step - loss: 0.2003 - accuracy: 0.9261 - val_loss: 3.7006 - val_accuracy: 0.5289\n",
      "Epoch 3/100\n",
      "535/536 [============================>.] - ETA: 0s - loss: 0.1702 - accuracy: 0.9380\n",
      "Epoch 00003: val_accuracy did not improve from 0.52895\n",
      "536/536 [==============================] - 44s 82ms/step - loss: 0.1701 - accuracy: 0.9380 - val_loss: 6.4691 - val_accuracy: 0.4175\n",
      "Epoch 4/100\n",
      "535/536 [============================>.] - ETA: 0s - loss: 0.1519 - accuracy: 0.9443\n",
      "Epoch 00004: val_accuracy did not improve from 0.52895\n",
      "536/536 [==============================] - 44s 82ms/step - loss: 0.1518 - accuracy: 0.9443 - val_loss: 7.1448 - val_accuracy: 0.3741\n",
      "Epoch 5/100\n",
      "535/536 [============================>.] - ETA: 0s - loss: 0.1375 - accuracy: 0.9512\n",
      "Epoch 00005: val_accuracy did not improve from 0.52895\n",
      "\n",
      "Epoch 00005: ReduceLROnPlateau reducing learning rate to 0.00010000000474974513.\n",
      "536/536 [==============================] - 44s 82ms/step - loss: 0.1374 - accuracy: 0.9513 - val_loss: 8.5961 - val_accuracy: 0.3859\n",
      "Epoch 6/100\n",
      "535/536 [============================>.] - ETA: 0s - loss: 0.1030 - accuracy: 0.9643\n",
      "Epoch 00006: val_accuracy improved from 0.52895 to 0.95767, saving model to /home/kalfasyan/projects/wingbeat_frequencies/temp_data/tmp123.h5\n",
      "536/536 [==============================] - 44s 82ms/step - loss: 0.1028 - accuracy: 0.9643 - val_loss: 0.1295 - val_accuracy: 0.9577\n",
      "Epoch 7/100\n",
      "535/536 [============================>.] - ETA: 0s - loss: 0.0852 - accuracy: 0.9697\n",
      "Epoch 00007: val_accuracy did not improve from 0.95767\n",
      "536/536 [==============================] - 44s 83ms/step - loss: 0.0851 - accuracy: 0.9697 - val_loss: 0.4879 - val_accuracy: 0.8434\n",
      "Epoch 8/100\n",
      "535/536 [============================>.] - ETA: 0s - loss: 0.0746 - accuracy: 0.9753\n",
      "Epoch 00008: val_accuracy did not improve from 0.95767\n",
      "536/536 [==============================] - 44s 83ms/step - loss: 0.0746 - accuracy: 0.9753 - val_loss: 1.5613 - val_accuracy: 0.6717\n",
      "Epoch 9/100\n",
      "535/536 [============================>.] - ETA: 0s - loss: 0.0657 - accuracy: 0.9805\n",
      "Epoch 00009: val_accuracy did not improve from 0.95767\n",
      "\n",
      "Epoch 00009: ReduceLROnPlateau reducing learning rate to 1.0000000474974514e-05.\n",
      "536/536 [==============================] - 44s 82ms/step - loss: 0.0656 - accuracy: 0.9805 - val_loss: 5.6826 - val_accuracy: 0.4864\n",
      "Epoch 10/100\n",
      "535/536 [============================>.] - ETA: 0s - loss: 0.0545 - accuracy: 0.9842\n",
      "Epoch 00010: val_accuracy improved from 0.95767 to 0.96152, saving model to /home/kalfasyan/projects/wingbeat_frequencies/temp_data/tmp123.h5\n",
      "536/536 [==============================] - 44s 82ms/step - loss: 0.0545 - accuracy: 0.9843 - val_loss: 0.1165 - val_accuracy: 0.9615\n",
      "Epoch 11/100\n",
      "535/536 [============================>.] - ETA: 0s - loss: 0.0538 - accuracy: 0.9848\n",
      "Epoch 00011: val_accuracy did not improve from 0.96152\n",
      "536/536 [==============================] - 44s 82ms/step - loss: 0.0538 - accuracy: 0.9848 - val_loss: 0.1206 - val_accuracy: 0.9596\n",
      "Epoch 12/100\n",
      "535/536 [============================>.] - ETA: 0s - loss: 0.0519 - accuracy: 0.9856\n",
      "Epoch 00012: val_accuracy did not improve from 0.96152\n",
      "536/536 [==============================] - 44s 82ms/step - loss: 0.0519 - accuracy: 0.9857 - val_loss: 0.1185 - val_accuracy: 0.9608\n",
      "Epoch 13/100\n",
      "535/536 [============================>.] - ETA: 0s - loss: 0.0495 - accuracy: 0.9867\n",
      "Epoch 00013: val_accuracy did not improve from 0.96152\n",
      "\n",
      "Epoch 00013: ReduceLROnPlateau reducing learning rate to 1.0000000656873453e-06.\n",
      "536/536 [==============================] - 44s 82ms/step - loss: 0.0494 - accuracy: 0.9868 - val_loss: 0.1412 - val_accuracy: 0.9542\n",
      "Epoch 14/100\n",
      "535/536 [============================>.] - ETA: 0s - loss: 0.0486 - accuracy: 0.9866\n",
      "Epoch 00014: val_accuracy improved from 0.96152 to 0.96169, saving model to /home/kalfasyan/projects/wingbeat_frequencies/temp_data/tmp123.h5\n",
      "536/536 [==============================] - 44s 82ms/step - loss: 0.0485 - accuracy: 0.9866 - val_loss: 0.1139 - val_accuracy: 0.9617\n",
      "Epoch 15/100\n",
      "535/536 [============================>.] - ETA: 0s - loss: 0.0478 - accuracy: 0.9874\n",
      "Epoch 00015: val_accuracy did not improve from 0.96169\n",
      "536/536 [==============================] - 44s 82ms/step - loss: 0.0478 - accuracy: 0.9874 - val_loss: 0.1140 - val_accuracy: 0.9615\n",
      "Epoch 16/100\n",
      "535/536 [============================>.] - ETA: 0s - loss: 0.0474 - accuracy: 0.9871\n",
      "Epoch 00016: val_accuracy did not improve from 0.96169\n",
      "536/536 [==============================] - 44s 82ms/step - loss: 0.0474 - accuracy: 0.9871 - val_loss: 0.1140 - val_accuracy: 0.9615\n",
      "Epoch 17/100\n",
      "535/536 [============================>.] - ETA: 0s - loss: 0.0474 - accuracy: 0.9869\n",
      "Epoch 00017: val_accuracy did not improve from 0.96169\n",
      "\n",
      "Epoch 00017: ReduceLROnPlateau reducing learning rate to 1.0000001111620805e-07.\n",
      "536/536 [==============================] - 44s 82ms/step - loss: 0.0474 - accuracy: 0.9869 - val_loss: 0.1142 - val_accuracy: 0.9613\n",
      "Epoch 18/100\n",
      "535/536 [============================>.] - ETA: 0s - loss: 0.0483 - accuracy: 0.9869\n",
      "Epoch 00018: val_accuracy did not improve from 0.96169\n",
      "536/536 [==============================] - 44s 83ms/step - loss: 0.0482 - accuracy: 0.9869 - val_loss: 0.1138 - val_accuracy: 0.9615\n",
      "Epoch 19/100\n",
      "535/536 [============================>.] - ETA: 0s - loss: 0.0477 - accuracy: 0.9871\n",
      "Epoch 00019: val_accuracy did not improve from 0.96169\n",
      "536/536 [==============================] - 44s 82ms/step - loss: 0.0476 - accuracy: 0.9871 - val_loss: 0.1139 - val_accuracy: 0.9615\n",
      "Epoch 20/100\n",
      "535/536 [============================>.] - ETA: 0s - loss: 0.0474 - accuracy: 0.9872\n",
      "Epoch 00020: val_accuracy did not improve from 0.96169\n",
      "\n",
      "Epoch 00020: ReduceLROnPlateau reducing learning rate to 1.000000082740371e-08.\n",
      "536/536 [==============================] - 44s 82ms/step - loss: 0.0473 - accuracy: 0.9872 - val_loss: 0.1139 - val_accuracy: 0.9615\n",
      "Epoch 21/100\n",
      "535/536 [============================>.] - ETA: 0s - loss: 0.0469 - accuracy: 0.9877\n",
      "Epoch 00021: val_accuracy did not improve from 0.96169\n",
      "536/536 [==============================] - 44s 82ms/step - loss: 0.0468 - accuracy: 0.9877 - val_loss: 0.1138 - val_accuracy: 0.9615\n",
      "Epoch 00021: early stopping\n"
     ]
    }
   ],
   "source": [
    "h = model.fit_generator(train_generator(X_train, y_train, \n",
    "                                    batch_size=traincf.batch_size,\n",
    "                                    target_names=np.unique(y_test).tolist(),\n",
    "                                    setting=traincf.setting,\n",
    "                                    preprocessing_train_stats='',\n",
    "                                    using_conv2d=False),\n",
    "                    steps_per_epoch = int(math.ceil(float(len(X_train)) / float(traincf.batch_size))),\n",
    "                    epochs = traincf.epochs,\n",
    "                    validation_data = valid_generator(X_val, y_val,\n",
    "                                                        batch_size=traincf.batch_size,\n",
    "                                                        target_names=np.unique(y_test).tolist(),\n",
    "                                                        setting=traincf.setting,\n",
    "                                                        preprocessing_train_stats='',\n",
    "                                                        using_conv2d=False),\n",
    "                    validation_steps=int(math.ceil(float(len(X_val))/float(traincf.batch_size))),\n",
    "                    callbacks=traincf.callbacks_list)"
   ]
  },
  {
   "cell_type": "code",
   "execution_count": 15,
   "metadata": {},
   "outputs": [],
   "source": [
    "pred = model.predict_generator(valid_generator(X_test, y_test,\n",
    "                                    batch_size=traincf.batch_size,\n",
    "                                    target_names=np.unique(y_test).tolist(),\n",
    "                                    setting=traincf.setting,\n",
    "                                    preprocessing_train_stats='',\n",
    "                                    using_conv2d=False),\n",
    "                              steps=int(math.ceil(float(len(X_test))/float(traincf.batch_size))))"
   ]
  },
  {
   "cell_type": "code",
   "execution_count": 16,
   "metadata": {},
   "outputs": [
    {
     "data": {
      "text/plain": [
       "0.9552889462478107"
      ]
     },
     "execution_count": 16,
     "metadata": {},
     "output_type": "execute_result"
    }
   ],
   "source": [
    "from sklearn.metrics import balanced_accuracy_score, confusion_matrix\n",
    "\n",
    "balanced_accuracy_score(y_true=y_test, y_pred=np.argmax(pred, axis=1))"
   ]
  },
  {
   "cell_type": "code",
   "execution_count": 17,
   "metadata": {},
   "outputs": [
    {
     "data": {
      "text/plain": [
       "array([[2466,  146],\n",
       "       [ 168, 4843]])"
      ]
     },
     "execution_count": 17,
     "metadata": {},
     "output_type": "execute_result"
    }
   ],
   "source": [
    "confusion_matrix(y_true=y_test, y_pred=np.argmax(pred, axis=1))"
   ]
  },
  {
   "cell_type": "code",
   "execution_count": 18,
   "metadata": {},
   "outputs": [],
   "source": [
    "cm = confusion_matrix(y_true=y_test, y_pred=np.argmax(pred, axis=1))"
   ]
  },
  {
   "cell_type": "code",
   "execution_count": 19,
   "metadata": {},
   "outputs": [
    {
     "data": {
      "text/plain": [
       "1    4989\n",
       "0    2634\n",
       "dtype: int64"
      ]
     },
     "execution_count": 19,
     "metadata": {},
     "output_type": "execute_result"
    }
   ],
   "source": [
    "pd.Series(np.argmax(pred, axis=1)).value_counts()"
   ]
  },
  {
   "cell_type": "code",
   "execution_count": null,
   "metadata": {},
   "outputs": [],
   "source": []
  },
  {
   "cell_type": "code",
   "execution_count": null,
   "metadata": {},
   "outputs": [],
   "source": []
  },
  {
   "cell_type": "code",
   "execution_count": 30,
   "metadata": {},
   "outputs": [],
   "source": [
    "names_mels = mebios.df[mebios.df.labels.isin(['D.melanogasterL','D.melanogasterR'])].fnames.tolist()"
   ]
  },
  {
   "cell_type": "code",
   "execution_count": 95,
   "metadata": {
    "scrolled": true
   },
   "outputs": [],
   "source": [
    "z = make_df_parallel(names=names_mels, setting='psdflt')"
   ]
  },
  {
   "cell_type": "code",
   "execution_count": 125,
   "metadata": {},
   "outputs": [
    {
     "data": {
      "text/plain": [
       "<matplotlib.axes._subplots.AxesSubplot at 0x7fc2c8170908>"
      ]
     },
     "execution_count": 125,
     "metadata": {},
     "output_type": "execute_result"
    },
    {
     "data": {
      "image/png": "[encoded data removed]",
      "text/plain": [
       "<Figure size 432x288 with 1 Axes>"
      ]
     },
     "metadata": {
      "needs_background": "light"
     },
     "output_type": "display_data"
    }
   ],
   "source": [
    "z.iloc[np.random.randint(0,1000),:].plot()"
   ]
  },
  {
   "cell_type": "code",
   "execution_count": 94,
   "metadata": {},
   "outputs": [
    {
     "data": {
      "text/plain": [
       "[<matplotlib.lines.Line2D at 0x7fc2d00e5160>]"
      ]
     },
     "execution_count": 94,
     "metadata": {},
     "output_type": "execute_result"
    },
    {
     "data": {
      "image/png": "[encoded data removed]",
      "text/plain": [
       "<Figure size 432x288 with 1 Axes>"
      ]
     },
     "metadata": {
      "needs_background": "light"
     },
     "output_type": "display_data"
    }
   ],
   "source": [
    "import matplotlib.pyplot as plt\n",
    "plt.plot(z.values[np.random.randint(0,1000),:])\n",
    "\n"
   ]
  },
  {
   "cell_type": "code",
   "execution_count": 140,
   "metadata": {},
   "outputs": [
    {
     "data": {
      "image/png": "[encoded data removed]",
      "text/plain": [
       "<Figure size 1728x288 with 1 Axes>"
      ]
     },
     "metadata": {
      "needs_background": "light"
     },
     "output_type": "display_data"
    }
   ],
   "source": [
    "rodr.parse_filenames()\n",
    "rodr.plot_daterange(start='20200224', end='20200415')"
   ]
  }
 ],
 "metadata": {
  "kernelspec": {
   "display_name": "Python 3.6.7 64-bit ('wbtf2': conda)",
   "language": "python",
   "name": "python36764bitwbtf2conda5dc1528f930b4fd3b2b41f99d6c0636e"
  },
  "language_info": {
   "codemirror_mode": {
    "name": "ipython",
    "version": 3
   },
   "file_extension": ".py",
   "mimetype": "text/x-python",
   "name": "python",
   "nbconvert_exporter": "python",
   "pygments_lexer": "ipython3",
   "version": "3.6.7"
  }
 },
 "nbformat": 4,
 "nbformat_minor": 4
}
