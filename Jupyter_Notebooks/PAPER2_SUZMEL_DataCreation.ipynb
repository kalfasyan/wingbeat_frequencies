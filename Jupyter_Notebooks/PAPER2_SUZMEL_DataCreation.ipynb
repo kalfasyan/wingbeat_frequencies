{
 "cells": [
  {
   "cell_type": "code",
   "execution_count": 1,
   "metadata": {},
   "outputs": [],
   "source": [
    "%reset -f\n",
    "import sys\n",
    "sys.path.insert(0, \"..\")\n",
    "from wavhandler import *\n",
    "from configs import DatasetConfiguration\n",
    "from utils_train import *\n",
    "from configs import *\n",
    "import numpy as np\n",
    "import math\n",
    "from sklearn.preprocessing import LabelEncoder\n",
    "from sklearn.utils import shuffle\n",
    "from sklearn.model_selection import train_test_split\n",
    "from sklearn.metrics import confusion_matrix, balanced_accuracy_score, classification_report, make_scorer, log_loss\n",
    "from sklearn.preprocessing import LabelBinarizer\n",
    "from sklearn.model_selection import train_test_split\n",
    "from sklearn.utils import class_weight\n",
    "import os\n",
    "import pandas as pd\n",
    "import seaborn as sb\n",
    "import matplotlib.pyplot as plt\n",
    "from tensorflow.keras import regularizers\n",
    "from tensorflow.keras.layers import Input\n",
    "from tensorflow.keras import optimizers\n",
    "from tensorflow.keras.models import Model\n",
    "from tensorflow.keras.models import Sequential\n",
    "from tensorflow.keras.layers import Dense, Flatten, Dropout\n",
    "import seaborn as sb\n",
    "import deepdish as dd\n",
    "\n",
    "seed = 42\n",
    "np.random.seed(seed=seed)\n",
    "\n",
    "splitting = 'custom'\n",
    "data_setting = 'rawflt'\n",
    "model_setting = 'conv1d'\n",
    "\n",
    "clean = True"
   ]
  },
  {
   "cell_type": "markdown",
   "metadata": {},
   "source": [
    "### data collecting"
   ]
  },
  {
   "cell_type": "code",
   "execution_count": 2,
   "metadata": {},
   "outputs": [
    {
     "name": "stdout",
     "output_type": "stream",
     "text": [
      "Dataset - Suzukii_RL - exists: True\n"
     ]
    },
    {
     "data": {
      "text/plain": [
       "L    16501\n",
       "R    11457\n",
       "Name: labels, dtype: int64"
      ]
     },
     "execution_count": 2,
     "metadata": {},
     "output_type": "execute_result"
    }
   ],
   "source": [
    "mebios = DatasetConfiguration(names=['Suzukii_RL'])\n",
    "mebios.select_all(); \n",
    "mebios.read();\n",
    "if clean:\n",
    "    mebios.clean();\n",
    "mebios.df.labels.value_counts()"
   ]
  },
  {
   "cell_type": "code",
   "execution_count": 3,
   "metadata": {},
   "outputs": [
    {
     "name": "stdout",
     "output_type": "stream",
     "text": [
      "Dataset - Rodrigo - exists: True\n",
      "['20200309', '20200305', '20200302', '20200311', '20200310', '20200228', '20200307', '20200304', '20200301', '20200303', '20200308', '20200229', '20200316', '20200315', '20200306', '20200227', '20200314', '20200313', '20200312']\n",
      "3912 train filenames, 994 test filenames\n"
     ]
    },
    {
     "data": {
      "image/png": "[encoded data removed]",
      "text/plain": [
       "<Figure size 432x288 with 1 Axes>"
      ]
     },
     "metadata": {
      "needs_background": "light"
     },
     "output_type": "display_data"
    }
   ],
   "source": [
    "rodr_tr,rodr_ts = train_test_filenames2(dataset='Rodrigo',species='D. melanogaster', clean=clean, plot=True, test_dates=['20200310','20200311','20200312', '20200313', '20200314', '20200315','20200316'])"
   ]
  },
  {
   "cell_type": "code",
   "execution_count": 4,
   "metadata": {},
   "outputs": [
    {
     "name": "stdout",
     "output_type": "stream",
     "text": [
      "Dataset - Rodrigo - exists: True\n"
     ]
    },
    {
     "data": {
      "text/plain": [
       "D. suzukii    866\n",
       "Name: labels, dtype: int64"
      ]
     },
     "execution_count": 4,
     "metadata": {},
     "output_type": "execute_result"
    }
   ],
   "source": [
    "rodsuz = DatasetConfiguration(names=['Rodrigo'])\n",
    "rodsuz.select(name='Rodrigo', species=['D. suzukii'])\n",
    "rodsuz.read()\n",
    "if clean:\n",
    "    rodsuz.clean()\n",
    "rodsuz.df.labels.value_counts()    "
   ]
  },
  {
   "cell_type": "code",
   "execution_count": 5,
   "metadata": {},
   "outputs": [
    {
     "name": "stdout",
     "output_type": "stream",
     "text": [
      "Dataset - Melanogaster_RL - exists: True\n"
     ]
    },
    {
     "data": {
      "text/plain": [
       "D. melanogaster    524\n",
       "Name: labels, dtype: int64"
      ]
     },
     "execution_count": 5,
     "metadata": {},
     "output_type": "execute_result"
    }
   ],
   "source": [
    "mebiosmel = DatasetConfiguration(names=['Melanogaster_RL'])\n",
    "mebiosmel.select(name='Melanogaster_RL', species=['W'])\n",
    "mebiosmel.read()\n",
    "if clean:\n",
    "    mebiosmel.clean()\n",
    "mebiosmel.df.labels = mebiosmel.df.labels.apply(lambda x: x.replace(\"W\", \"D. melanogaster\"))\n",
    "mebiosmel.df.labels.value_counts()"
   ]
  },
  {
   "cell_type": "code",
   "execution_count": 6,
   "metadata": {},
   "outputs": [
    {
     "name": "stdout",
     "output_type": "stream",
     "text": [
      "Dataset - LG - exists: True\n",
      "['20180925', '20180922', '20180923', '20180920', '20180921', '20180919', '20180924', '20180926']\n",
      "5379 train filenames, 1745 test filenames\n"
     ]
    },
    {
     "data": {
      "image/png": "[encoded data removed]",
      "text/plain": [
       "<Figure size 432x288 with 1 Axes>"
      ]
     },
     "metadata": {
      "needs_background": "light"
     },
     "output_type": "display_data"
    }
   ],
   "source": [
    "lg_tr, lg_ts = train_test_filenames2(dataset='LG',species='LG_zapr_26_09', clean=clean, plot=True, test_dates=['20180926', '20180925'])\n",
    "lg_tr.labels = lg_tr.labels.apply(lambda x: f'{x.replace(\"LG_zapr_26_09\", \"Zaprionus\")}')\n",
    "lg_ts.labels = lg_ts.labels.apply(lambda x: f'{x.replace(\"LG_zapr_26_09\", \"Zaprionus\")}')"
   ]
  },
  {
   "cell_type": "markdown",
   "metadata": {},
   "source": [
    "## train"
   ]
  },
  {
   "cell_type": "code",
   "execution_count": 7,
   "metadata": {},
   "outputs": [
    {
     "data": {
      "text/plain": [
       "D. suzukii         16501\n",
       "Zaprionus           5379\n",
       "D. melanogaster     3912\n",
       "Name: labels, dtype: int64"
      ]
     },
     "execution_count": 7,
     "metadata": {},
     "output_type": "execute_result"
    }
   ],
   "source": [
    "train_meb = mebios.df[mebios.df.labels.isin(['L'])]\n",
    "train = pd.concat([train_meb, rodr_tr, lg_tr])\n",
    "train.labels = train.labels.apply(lambda x: f'{x.replace(\"L\", \"D. suzukii\")}')\n",
    "train.labels.value_counts()"
   ]
  },
  {
   "cell_type": "markdown",
   "metadata": {},
   "source": [
    "## test"
   ]
  },
  {
   "cell_type": "code",
   "execution_count": 8,
   "metadata": {},
   "outputs": [
    {
     "name": "stderr",
     "output_type": "stream",
     "text": [
      "/home/kalfasyan/anaconda3/envs/wbtf/lib/python3.7/site-packages/pandas/core/generic.py:5303: SettingWithCopyWarning: \n",
      "A value is trying to be set on a copy of a slice from a DataFrame.\n",
      "Try using .loc[row_indexer,col_indexer] = value instead\n",
      "\n",
      "See the caveats in the documentation: https://pandas.pydata.org/pandas-docs/stable/user_guide/indexing.html#returning-a-view-versus-a-copy\n",
      "  self[name] = value\n"
     ]
    },
    {
     "data": {
      "text/plain": [
       "D. suzukii         12323\n",
       "Zaprionus           1745\n",
       "D. melanogaster     1518\n",
       "Name: labels, dtype: int64"
      ]
     },
     "execution_count": 8,
     "metadata": {},
     "output_type": "execute_result"
    }
   ],
   "source": [
    "test_meb = mebios.df[mebios.df.labels.isin(['R'])]\n",
    "test_meb.labels = test_meb.labels.apply(lambda x: x.replace(\"R\", \"D. suzukii\"))\n",
    "test = pd.concat([test_meb, rodr_ts, rodsuz.df,lg_ts, mebiosmel.df])\n",
    "test.labels.value_counts()"
   ]
  },
  {
   "cell_type": "code",
   "execution_count": 9,
   "metadata": {},
   "outputs": [
    {
     "data": {
      "text/plain": [
       "0"
      ]
     },
     "execution_count": 9,
     "metadata": {},
     "output_type": "execute_result"
    }
   ],
   "source": [
    "pd.concat([train, test]).duplicated().sum()"
   ]
  },
  {
   "cell_type": "markdown",
   "metadata": {},
   "source": [
    "### data splitting"
   ]
  },
  {
   "cell_type": "code",
   "execution_count": 10,
   "metadata": {},
   "outputs": [
    {
     "name": "stdout",
     "output_type": "stream",
     "text": [
      "train: \n",
      "D. suzukii         16501\n",
      "Zaprionus           5379\n",
      "D. melanogaster     3912\n",
      "dtype: int64\n",
      "\n",
      "test: \n",
      "D. suzukii         12323\n",
      "Zaprionus           1745\n",
      "D. melanogaster     1518\n",
      "dtype: int64\n"
     ]
    }
   ],
   "source": [
    "if splitting == 'random':\n",
    "    tmp = pd.concat([train, test])\n",
    "    X_train, X_test, y_train, y_test = train_test_split(tmp.fnames.tolist(), tmp.labels.tolist(), shuffle=True, random_state=42)\n",
    "elif splitting == 'custom':\n",
    "    X_train = train.fnames.tolist()\n",
    "    X_test = test.fnames.tolist()\n",
    "    y_train = train.labels.tolist()\n",
    "    y_test = test.labels.tolist()\n",
    "else:\n",
    "    raise ValueError('Wrong splitting method')\n",
    "    \n",
    "print(f\"train: \\n{pd.Series(y_train).value_counts()}\\n\")\n",
    "print(f\"test: \\n{pd.Series(y_test).value_counts()}\")"
   ]
  },
  {
   "cell_type": "code",
   "execution_count": 11,
   "metadata": {},
   "outputs": [
    {
     "data": {
      "text/plain": [
       "1    12323\n",
       "2     1745\n",
       "0     1518\n",
       "dtype: int64"
      ]
     },
     "execution_count": 11,
     "metadata": {},
     "output_type": "execute_result"
    }
   ],
   "source": [
    "le = LabelEncoder()\n",
    "y_train = le.fit_transform(y_train)\n",
    "y_test = le.transform(y_test)\n",
    "pd.Series(y_test).value_counts()"
   ]
  },
  {
   "cell_type": "code",
   "execution_count": 12,
   "metadata": {},
   "outputs": [],
   "source": [
    "X_train, X_val, y_train, y_val = train_test_split(X_train, y_train, random_state=42, shuffle=True)"
   ]
  },
  {
   "cell_type": "markdown",
   "metadata": {},
   "source": [
    "# Saving"
   ]
  },
  {
   "cell_type": "code",
   "execution_count": 13,
   "metadata": {},
   "outputs": [],
   "source": [
    "pd.DataFrame(zip(X_train, y_train), columns=['x','y']).to_csv(f\"{TEMP_DATADIR}/df_train_{data_setting}_{model_setting}_{splitting}.csv\", index=False)"
   ]
  },
  {
   "cell_type": "code",
   "execution_count": 14,
   "metadata": {},
   "outputs": [],
   "source": [
    "pd.DataFrame(zip(X_val, y_val), columns=['x','y']).to_csv(f\"{TEMP_DATADIR}/df_val_{data_setting}_{model_setting}_{splitting}.csv\", index=False)"
   ]
  },
  {
   "cell_type": "code",
   "execution_count": 15,
   "metadata": {},
   "outputs": [],
   "source": [
    "pd.DataFrame(zip(X_test, y_test), columns=['x','y']).to_csv(f\"{TEMP_DATADIR}/df_test_{data_setting}_{model_setting}_{splitting}.csv\", index=False)"
   ]
  },
  {
   "cell_type": "code",
   "execution_count": null,
   "metadata": {},
   "outputs": [],
   "source": []
  }
 ],
 "metadata": {
  "kernelspec": {
   "display_name": "Python 3",
   "language": "python",
   "name": "python3"
  },
  "language_info": {
   "codemirror_mode": {
    "name": "ipython",
    "version": 3
   },
   "file_extension": ".py",
   "mimetype": "text/x-python",
   "name": "python",
   "nbconvert_exporter": "python",
   "pygments_lexer": "ipython3",
   "version": "3.7.7"
  }
 },
 "nbformat": 4,
 "nbformat_minor": 4
}
