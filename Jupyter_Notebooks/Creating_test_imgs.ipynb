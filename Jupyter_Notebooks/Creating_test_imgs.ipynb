{
 "cells": [
  {
   "cell_type": "code",
   "execution_count": 1,
   "metadata": {},
   "outputs": [
    {
     "name": "stderr",
     "output_type": "stream",
     "text": [
      "ERROR:root:Invalid alias: The name clear can't be aliased because it is another magic command.\n",
      "ERROR:root:Invalid alias: The name more can't be aliased because it is another magic command.\n",
      "ERROR:root:Invalid alias: The name less can't be aliased because it is another magic command.\n",
      "ERROR:root:Invalid alias: The name man can't be aliased because it is another magic command.\n",
      "Using TensorFlow backend.\n"
     ]
    }
   ],
   "source": [
    "%reset -f\n",
    "import sys\n",
    "sys.path.insert(0,'..')\n",
    "import glob, os, sys, io\n",
    "import pandas as pd\n",
    "import matplotlib.pyplot as plt\n",
    "import numpy as np\n",
    "import multiprocessing\n",
    "from sklearn.model_selection import train_test_split\n",
    "from sklearn.utils import shuffle\n",
    "\n",
    "import keras\n",
    "from keras.applications.densenet import DenseNet121\n",
    "from keras.preprocessing.image import ImageDataGenerator\n",
    "\n",
    "from wavhandler import *\n",
    "from utils import *\n",
    "from tqdm import tqdm\n",
    "import logging\n",
    "logger = logging.getLogger()\n",
    "logger.propagate = False\n",
    "logger.setLevel(logging.ERROR)\n",
    "np.random.seed(0)\n",
    "import seaborn as sns\n",
    "sns.set()\n",
    "\n",
    "seed = 2018\n",
    "np.random.seed(seed)"
   ]
  },
  {
   "cell_type": "code",
   "execution_count": 4,
   "metadata": {},
   "outputs": [
    {
     "name": "stderr",
     "output_type": "stream",
     "text": [
      "100%|██████████| 6/6 [00:01<00:00,  3.90it/s]\n"
     ]
    }
   ],
   "source": [
    "filenames, y = get_data(dataset='MOSQUITOES_IMGS_train', nr_signals=np.inf, only_names=True, text_labels=True)\n",
    "\n",
    "X_names, y = shuffle(filenames, y, random_state = seed)\n",
    "X_train, X_test, y_train, y_test = train_test_split(X_names, y, stratify = y, test_size = 0.1, random_state = seed)"
   ]
  },
  {
   "cell_type": "code",
   "execution_count": 4,
   "metadata": {},
   "outputs": [],
   "source": [
    "df = pd.DataFrame(X_names, columns=['names'])\n",
    "df['classes'] = y\n",
    "sample_dfs = []\n",
    "for i, sub in df.groupby('classes'):\n",
    "    sample_dfs.append(sub.sample(1500))\n",
    "new = pd.concat(sample_dfs, axis=0)"
   ]
  },
  {
   "cell_type": "code",
   "execution_count": 5,
   "metadata": {},
   "outputs": [],
   "source": [
    "X_test = new.names.tolist()\n",
    "y_test = new.classes.tolist()"
   ]
  },
  {
   "cell_type": "markdown",
   "metadata": {},
   "source": [
    "# MOVING FILES TO TEST"
   ]
  },
  {
   "cell_type": "code",
   "execution_count": 12,
   "metadata": {},
   "outputs": [
    {
     "name": "stderr",
     "output_type": "stream",
     "text": [
      "100%|██████████| 9000/9000 [00:00<00:00, 15098.01it/s]\n"
     ]
    }
   ],
   "source": [
    "for file in tqdm(X_test):\n",
    "    new_filename = file.replace('/train/','/test/')\n",
    "    dirName = '/'.join(new_filename.split('/')[:-1]) + '/'\n",
    "    if not os.path.exists(dirName):\n",
    "        os.mkdir(dirName)\n",
    "\n",
    "    os.rename(file,new_filename)"
   ]
  },
  {
   "cell_type": "markdown",
   "metadata": {},
   "source": [
    "# MOVING THEM BACK"
   ]
  },
  {
   "cell_type": "code",
   "execution_count": 2,
   "metadata": {},
   "outputs": [
    {
     "name": "stderr",
     "output_type": "stream",
     "text": [
      "100%|██████████| 6/6 [00:00<00:00, 117.52it/s]\n"
     ]
    }
   ],
   "source": [
    "filenames, y = get_data(dataset='MOSQUITOES_IMGS_test', nr_signals=np.inf, only_names=True, text_labels=True)"
   ]
  },
  {
   "cell_type": "code",
   "execution_count": 7,
   "metadata": {},
   "outputs": [
    {
     "name": "stderr",
     "output_type": "stream",
     "text": [
      "  0%|          | 0/9000 [00:00<?, ?it/s]"
     ]
    },
    {
     "name": "stdout",
     "output_type": "stream",
     "text": [
      "/home/kalfasyan/data/insects/Wingbeats_spectrograms/test/Ae. aegypti/F170209_171613_142_G_050.jpg\n",
      "/home/kalfasyan/data/insects/Wingbeats_spectrograms/train/Ae. aegypti/F170209_171613_142_G_050.jpg\n"
     ]
    },
    {
     "name": "stderr",
     "output_type": "stream",
     "text": [
      "\n"
     ]
    }
   ],
   "source": [
    "for file in tqdm(filenames):\n",
    "    print(file)\n",
    "    new_filename = file.replace('/test/','/train/')\n",
    "#     os.rename(file,new_filename)\n",
    "#     print(new_filename)\n",
    "#     break"
   ]
  },
  {
   "cell_type": "code",
   "execution_count": null,
   "metadata": {},
   "outputs": [],
   "source": []
  }
 ],
 "metadata": {
  "kernelspec": {
   "display_name": "Python 3",
   "language": "python",
   "name": "python3"
  },
  "language_info": {
   "codemirror_mode": {
    "name": "ipython",
    "version": 3
   },
   "file_extension": ".py",
   "mimetype": "text/x-python",
   "name": "python",
   "nbconvert_exporter": "python",
   "pygments_lexer": "ipython3",
   "version": "3.7.3"
  }
 },
 "nbformat": 4,
 "nbformat_minor": 2
}
