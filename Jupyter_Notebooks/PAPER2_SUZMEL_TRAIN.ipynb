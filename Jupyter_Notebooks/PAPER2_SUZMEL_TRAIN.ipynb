{
 "cells": [
  {
   "cell_type": "code",
   "execution_count": 1,
   "metadata": {},
   "outputs": [
    {
     "name": "stderr",
     "output_type": "stream",
     "text": [
      "/home/kalfasyan/anaconda3/envs/wbtf/lib/python3.7/site-packages/tensorflow/python/framework/dtypes.py:516: FutureWarning: Passing (type, 1) or '1type' as a synonym of type is deprecated; in a future version of numpy, it will be understood as (type, (1,)) / '(1,)type'.\n",
      "  _np_qint8 = np.dtype([(\"qint8\", np.int8, 1)])\n",
      "/home/kalfasyan/anaconda3/envs/wbtf/lib/python3.7/site-packages/tensorflow/python/framework/dtypes.py:517: FutureWarning: Passing (type, 1) or '1type' as a synonym of type is deprecated; in a future version of numpy, it will be understood as (type, (1,)) / '(1,)type'.\n",
      "  _np_quint8 = np.dtype([(\"quint8\", np.uint8, 1)])\n",
      "/home/kalfasyan/anaconda3/envs/wbtf/lib/python3.7/site-packages/tensorflow/python/framework/dtypes.py:518: FutureWarning: Passing (type, 1) or '1type' as a synonym of type is deprecated; in a future version of numpy, it will be understood as (type, (1,)) / '(1,)type'.\n",
      "  _np_qint16 = np.dtype([(\"qint16\", np.int16, 1)])\n",
      "/home/kalfasyan/anaconda3/envs/wbtf/lib/python3.7/site-packages/tensorflow/python/framework/dtypes.py:519: FutureWarning: Passing (type, 1) or '1type' as a synonym of type is deprecated; in a future version of numpy, it will be understood as (type, (1,)) / '(1,)type'.\n",
      "  _np_quint16 = np.dtype([(\"quint16\", np.uint16, 1)])\n",
      "/home/kalfasyan/anaconda3/envs/wbtf/lib/python3.7/site-packages/tensorflow/python/framework/dtypes.py:520: FutureWarning: Passing (type, 1) or '1type' as a synonym of type is deprecated; in a future version of numpy, it will be understood as (type, (1,)) / '(1,)type'.\n",
      "  _np_qint32 = np.dtype([(\"qint32\", np.int32, 1)])\n",
      "/home/kalfasyan/anaconda3/envs/wbtf/lib/python3.7/site-packages/tensorflow/python/framework/dtypes.py:525: FutureWarning: Passing (type, 1) or '1type' as a synonym of type is deprecated; in a future version of numpy, it will be understood as (type, (1,)) / '(1,)type'.\n",
      "  np_resource = np.dtype([(\"resource\", np.ubyte, 1)])\n",
      "/home/kalfasyan/anaconda3/envs/wbtf/lib/python3.7/site-packages/tensorboard/compat/tensorflow_stub/dtypes.py:541: FutureWarning: Passing (type, 1) or '1type' as a synonym of type is deprecated; in a future version of numpy, it will be understood as (type, (1,)) / '(1,)type'.\n",
      "  _np_qint8 = np.dtype([(\"qint8\", np.int8, 1)])\n",
      "/home/kalfasyan/anaconda3/envs/wbtf/lib/python3.7/site-packages/tensorboard/compat/tensorflow_stub/dtypes.py:542: FutureWarning: Passing (type, 1) or '1type' as a synonym of type is deprecated; in a future version of numpy, it will be understood as (type, (1,)) / '(1,)type'.\n",
      "  _np_quint8 = np.dtype([(\"quint8\", np.uint8, 1)])\n",
      "/home/kalfasyan/anaconda3/envs/wbtf/lib/python3.7/site-packages/tensorboard/compat/tensorflow_stub/dtypes.py:543: FutureWarning: Passing (type, 1) or '1type' as a synonym of type is deprecated; in a future version of numpy, it will be understood as (type, (1,)) / '(1,)type'.\n",
      "  _np_qint16 = np.dtype([(\"qint16\", np.int16, 1)])\n",
      "/home/kalfasyan/anaconda3/envs/wbtf/lib/python3.7/site-packages/tensorboard/compat/tensorflow_stub/dtypes.py:544: FutureWarning: Passing (type, 1) or '1type' as a synonym of type is deprecated; in a future version of numpy, it will be understood as (type, (1,)) / '(1,)type'.\n",
      "  _np_quint16 = np.dtype([(\"quint16\", np.uint16, 1)])\n",
      "/home/kalfasyan/anaconda3/envs/wbtf/lib/python3.7/site-packages/tensorboard/compat/tensorflow_stub/dtypes.py:545: FutureWarning: Passing (type, 1) or '1type' as a synonym of type is deprecated; in a future version of numpy, it will be understood as (type, (1,)) / '(1,)type'.\n",
      "  _np_qint32 = np.dtype([(\"qint32\", np.int32, 1)])\n",
      "/home/kalfasyan/anaconda3/envs/wbtf/lib/python3.7/site-packages/tensorboard/compat/tensorflow_stub/dtypes.py:550: FutureWarning: Passing (type, 1) or '1type' as a synonym of type is deprecated; in a future version of numpy, it will be understood as (type, (1,)) / '(1,)type'.\n",
      "  np_resource = np.dtype([(\"resource\", np.ubyte, 1)])\n"
     ]
    }
   ],
   "source": [
    "%reset -f\n",
    "import sys\n",
    "sys.path.insert(0, \"..\")\n",
    "from wavhandler import *\n",
    "from configs import DatasetConfiguration\n",
    "from utils_train import *\n",
    "from configs import *\n",
    "import numpy as np\n",
    "import math\n",
    "from sklearn.preprocessing import LabelEncoder\n",
    "from sklearn.utils import shuffle\n",
    "from sklearn.model_selection import train_test_split\n",
    "from sklearn.metrics import confusion_matrix, balanced_accuracy_score, classification_report, make_scorer, log_loss\n",
    "from sklearn.preprocessing import LabelBinarizer\n",
    "from sklearn.model_selection import train_test_split\n",
    "from sklearn.utils import class_weight\n",
    "import os\n",
    "import pandas as pd\n",
    "import seaborn as sb\n",
    "import matplotlib.pyplot as plt\n",
    "from tensorflow.keras import regularizers\n",
    "from tensorflow.keras.layers import Input\n",
    "from tensorflow.keras import optimizers\n",
    "from tensorflow.keras.models import Model\n",
    "from tensorflow.keras.models import Sequential\n",
    "from tensorflow.keras.layers import Dense, Flatten, Dropout\n",
    "import seaborn as sb\n",
    "import deepdish as dd\n",
    "\n",
    "seed = 42\n",
    "np.random.seed(seed=seed)\n",
    "\n",
    "splitting = 'custom'\n",
    "data_setting = 'rawflt'\n",
    "model_setting = 'dl4tsc_inc'\n",
    "nb_classes = 2\n",
    "# clean = True"
   ]
  },
  {
   "cell_type": "markdown",
   "metadata": {},
   "source": [
    "### data collecting"
   ]
  },
  {
   "cell_type": "code",
   "execution_count": 2,
   "metadata": {},
   "outputs": [],
   "source": [
    "train = pd.read_csv(f\"{TEMP_DATADIR}/df_train_{data_setting}_{splitting}.csv\", index_col=False)\n",
    "X_train = train.x.tolist()\n",
    "y_train = train.y.tolist()"
   ]
  },
  {
   "cell_type": "code",
   "execution_count": 3,
   "metadata": {},
   "outputs": [],
   "source": [
    "val = pd.read_csv(f\"{TEMP_DATADIR}/df_val_{data_setting}_{splitting}.csv\", index_col=False)\n",
    "X_val = val.x.tolist()\n",
    "y_val = val.y.tolist()"
   ]
  },
  {
   "cell_type": "code",
   "execution_count": 4,
   "metadata": {},
   "outputs": [],
   "source": [
    "test = pd.read_csv(f\"{TEMP_DATADIR}/df_test_{data_setting}_{splitting}.csv\", index_col=False)\n",
    "X_test = test.x.tolist()\n",
    "y_test = test.y.tolist()"
   ]
  },
  {
   "cell_type": "code",
   "execution_count": 5,
   "metadata": {},
   "outputs": [
    {
     "name": "stdout",
     "output_type": "stream",
     "text": [
      "train: \n",
      "1    13636\n",
      "0     4172\n",
      "dtype: int64\n",
      "\n",
      "val: \n",
      "1    4542\n",
      "0    1394\n",
      "dtype: int64\n",
      "\n",
      "test: \n",
      "1    12337\n",
      "0     1950\n",
      "dtype: int64\n"
     ]
    }
   ],
   "source": [
    "print(f\"train: \\n{pd.Series(y_train).value_counts()}\\n\")\n",
    "print(f\"val: \\n{pd.Series(y_val).value_counts()}\\n\")\n",
    "print(f\"test: \\n{pd.Series(y_test).value_counts()}\")"
   ]
  },
  {
   "cell_type": "markdown",
   "metadata": {},
   "source": [
    "### training"
   ]
  },
  {
   "cell_type": "code",
   "execution_count": 6,
   "metadata": {},
   "outputs": [],
   "source": [
    "traincf = TrainConfiguration(nb_classes=nb_classes, setting=data_setting,model_name=f\"Flies_{data_setting}_{model_setting}_{splitting}\", monitor='val_acc')"
   ]
  },
  {
   "cell_type": "code",
   "execution_count": 7,
   "metadata": {},
   "outputs": [
    {
     "name": "stdout",
     "output_type": "stream",
     "text": [
      "############ INPUT SHAPE:(5000, 1)\n",
      "/home/kalfasyan/projects/wingbeat_frequencies/temp_data/\n",
      "WARNING:tensorflow:From /home/kalfasyan/anaconda3/envs/wbtf/lib/python3.7/site-packages/tensorflow/python/ops/init_ops.py:1251: calling VarianceScaling.__init__ (from tensorflow.python.ops.init_ops) with dtype is deprecated and will be removed in a future version.\n",
      "Instructions for updating:\n",
      "Call initializer instance with the dtype argument instead of passing it to the constructor\n",
      "Last 5 layers:\n",
      "batch_normalization_17\n",
      "activation_18\n",
      "global_average_pooling1d_1\n",
      "dense_1\n",
      "activation_19\n"
     ]
    }
   ],
   "source": [
    "modelconf = ModelConfiguration(model_setting=model_setting, data_setting=data_setting, nb_classes=nb_classes)\n",
    "model = modelconf.config\n",
    "print(\"Last 5 layers:\")\n",
    "for i in model.layers[-5:]:\n",
    "    print(i.name)"
   ]
  },
  {
   "cell_type": "code",
   "execution_count": 8,
   "metadata": {},
   "outputs": [],
   "source": [
    "model.compile(optimizer='adam', loss='categorical_crossentropy', metrics=['accuracy'])"
   ]
  },
  {
   "cell_type": "code",
   "execution_count": 9,
   "metadata": {},
   "outputs": [
    {
     "name": "stdout",
     "output_type": "stream",
     "text": [
      "{0: 2.134228187919463, 1: 0.6529774127310062}\n"
     ]
    }
   ],
   "source": [
    "from sklearn.utils import class_weight\n",
    "weights = class_weight.compute_class_weight('balanced', classes=np.unique(y_train), y=y_train)\n",
    "class_weights = {i : weights[i] for i in range(nb_classes)}\n",
    "print(class_weights)"
   ]
  },
  {
   "cell_type": "code",
   "execution_count": 10,
   "metadata": {},
   "outputs": [
    {
     "name": "stdout",
     "output_type": "stream",
     "text": [
      "Epoch 1/100\n",
      "556/557 [============================>.] - ETA: 0s - loss: 0.3695 - acc: 0.8391\n",
      "Epoch 00001: val_acc improved from -inf to 0.82901, saving model to /home/kalfasyan/projects/wingbeat_frequencies/temp_data/Flies_rawflt_dl4tsc_inc_custom.h5\n",
      "557/557 [==============================] - 172s 309ms/step - loss: 0.3697 - acc: 0.8389 - val_loss: 0.3769 - val_acc: 0.8290\n",
      "Epoch 2/100\n",
      "556/557 [============================>.] - ETA: 0s - loss: 0.2671 - acc: 0.8980\n",
      "Epoch 00002: val_acc did not improve from 0.82901\n",
      "557/557 [==============================] - 159s 285ms/step - loss: 0.2673 - acc: 0.8978 - val_loss: 2.4839 - val_acc: 0.4274\n",
      "Epoch 3/100\n",
      "556/557 [============================>.] - ETA: 0s - loss: 0.2242 - acc: 0.9160\n",
      "Epoch 00003: val_acc did not improve from 0.82901\n",
      "557/557 [==============================] - 159s 286ms/step - loss: 0.2245 - acc: 0.9158 - val_loss: 1.9102 - val_acc: 0.4944\n",
      "Epoch 4/100\n",
      "556/557 [============================>.] - ETA: 0s - loss: 0.1906 - acc: 0.9298\n",
      "Epoch 00004: val_acc did not improve from 0.82901\n",
      "\n",
      "Epoch 00004: ReduceLROnPlateau reducing learning rate to 0.00010000000474974513.\n",
      "557/557 [==============================] - 159s 286ms/step - loss: 0.1906 - acc: 0.9298 - val_loss: 0.6490 - val_acc: 0.7872\n",
      "Epoch 5/100\n",
      "556/557 [============================>.] - ETA: 0s - loss: 0.1310 - acc: 0.9559\n",
      "Epoch 00005: val_acc improved from 0.82901 to 0.95148, saving model to /home/kalfasyan/projects/wingbeat_frequencies/temp_data/Flies_rawflt_dl4tsc_inc_custom.h5\n",
      "557/557 [==============================] - 159s 286ms/step - loss: 0.1310 - acc: 0.9559 - val_loss: 0.1426 - val_acc: 0.9515\n",
      "Epoch 6/100\n",
      "556/557 [============================>.] - ETA: 0s - loss: 0.1159 - acc: 0.9610\n",
      "Epoch 00006: val_acc did not improve from 0.95148\n",
      "557/557 [==============================] - 159s 285ms/step - loss: 0.1159 - acc: 0.9610 - val_loss: 0.1470 - val_acc: 0.9483\n",
      "Epoch 7/100\n",
      "556/557 [============================>.] - ETA: 0s - loss: 0.1077 - acc: 0.9640\n",
      "Epoch 00007: val_acc did not improve from 0.95148\n",
      "557/557 [==============================] - 159s 286ms/step - loss: 0.1077 - acc: 0.9639 - val_loss: 0.1547 - val_acc: 0.9447\n",
      "Epoch 8/100\n",
      "556/557 [============================>.] - ETA: 0s - loss: 0.1010 - acc: 0.9670\n",
      "Epoch 00008: val_acc did not improve from 0.95148\n",
      "\n",
      "Epoch 00008: ReduceLROnPlateau reducing learning rate to 1.0000000474974514e-05.\n",
      "557/557 [==============================] - 159s 286ms/step - loss: 0.1010 - acc: 0.9669 - val_loss: 0.1620 - val_acc: 0.9402\n",
      "Epoch 9/100\n",
      "556/557 [============================>.] - ETA: 0s - loss: 0.0911 - acc: 0.9701\n",
      "Epoch 00009: val_acc improved from 0.95148 to 0.97254, saving model to /home/kalfasyan/projects/wingbeat_frequencies/temp_data/Flies_rawflt_dl4tsc_inc_custom.h5\n",
      "557/557 [==============================] - 160s 287ms/step - loss: 0.0911 - acc: 0.9701 - val_loss: 0.0864 - val_acc: 0.9725\n",
      "Epoch 10/100\n",
      "556/557 [============================>.] - ETA: 0s - loss: 0.0889 - acc: 0.9719\n",
      "Epoch 00010: val_acc did not improve from 0.97254\n",
      "557/557 [==============================] - 160s 288ms/step - loss: 0.0890 - acc: 0.9719 - val_loss: 0.0873 - val_acc: 0.9725\n",
      "Epoch 11/100\n",
      "556/557 [============================>.] - ETA: 0s - loss: 0.0878 - acc: 0.9724\n",
      "Epoch 00011: val_acc did not improve from 0.97254\n",
      "557/557 [==============================] - 160s 287ms/step - loss: 0.0878 - acc: 0.9724 - val_loss: 0.0872 - val_acc: 0.9724\n",
      "Epoch 12/100\n",
      "556/557 [============================>.] - ETA: 0s - loss: 0.0868 - acc: 0.9729\n",
      "Epoch 00012: val_acc improved from 0.97254 to 0.97271, saving model to /home/kalfasyan/projects/wingbeat_frequencies/temp_data/Flies_rawflt_dl4tsc_inc_custom.h5\n",
      "557/557 [==============================] - 160s 288ms/step - loss: 0.0869 - acc: 0.9729 - val_loss: 0.0869 - val_acc: 0.9727\n",
      "Epoch 13/100\n",
      "556/557 [============================>.] - ETA: 0s - loss: 0.0859 - acc: 0.9730\n",
      "Epoch 00013: val_acc did not improve from 0.97271\n",
      "557/557 [==============================] - 161s 288ms/step - loss: 0.0859 - acc: 0.9730 - val_loss: 0.0865 - val_acc: 0.9724\n",
      "Epoch 14/100\n",
      "556/557 [============================>.] - ETA: 0s - loss: 0.0850 - acc: 0.9734\n",
      "Epoch 00014: val_acc did not improve from 0.97271\n",
      "557/557 [==============================] - 161s 288ms/step - loss: 0.0851 - acc: 0.9734 - val_loss: 0.0862 - val_acc: 0.9724\n",
      "Epoch 15/100\n",
      "556/557 [============================>.] - ETA: 0s - loss: 0.0842 - acc: 0.9734\n",
      "Epoch 00015: val_acc did not improve from 0.97271\n",
      "\n",
      "Epoch 00015: ReduceLROnPlateau reducing learning rate to 1.0000000656873453e-06.\n",
      "557/557 [==============================] - 161s 289ms/step - loss: 0.0842 - acc: 0.9734 - val_loss: 0.0859 - val_acc: 0.9727\n",
      "Epoch 16/100\n",
      "556/557 [============================>.] - ETA: 0s - loss: 0.0837 - acc: 0.9722\n",
      "Epoch 00016: val_acc did not improve from 0.97271\n",
      "557/557 [==============================] - 161s 289ms/step - loss: 0.0837 - acc: 0.9722 - val_loss: 0.0878 - val_acc: 0.9724\n",
      "Epoch 17/100\n",
      "556/557 [============================>.] - ETA: 0s - loss: 0.0831 - acc: 0.9734\n",
      "Epoch 00017: val_acc did not improve from 0.97271\n",
      "557/557 [==============================] - 161s 290ms/step - loss: 0.0831 - acc: 0.9734 - val_loss: 0.0860 - val_acc: 0.9725\n",
      "Epoch 18/100\n",
      "556/557 [============================>.] - ETA: 0s - loss: 0.0829 - acc: 0.9736\n",
      "Epoch 00018: val_acc did not improve from 0.97271\n",
      "\n",
      "Epoch 00018: ReduceLROnPlateau reducing learning rate to 1.0000001111620805e-07.\n",
      "557/557 [==============================] - 162s 290ms/step - loss: 0.0829 - acc: 0.9737 - val_loss: 0.0854 - val_acc: 0.9727\n",
      "Epoch 19/100\n",
      "556/557 [============================>.] - ETA: 0s - loss: 0.0827 - acc: 0.9739\n",
      "Epoch 00019: val_acc did not improve from 0.97271\n",
      "557/557 [==============================] - 161s 290ms/step - loss: 0.0827 - acc: 0.9739 - val_loss: 0.0861 - val_acc: 0.9725\n",
      "Epoch 00019: early stopping\n"
     ]
    }
   ],
   "source": [
    "h = model.fit(train_generator(X_train, y_train, \n",
    "                                    batch_size=traincf.batch_size,\n",
    "                                    target_names=np.unique(y_test).tolist(),\n",
    "                                    setting=traincf.setting,\n",
    "                                     preprocessing_train_stats=''),\n",
    "                    steps_per_epoch = int(math.ceil(float(len(X_train)) / float(traincf.batch_size))),\n",
    "                    epochs = traincf.epochs,\n",
    "                    validation_data = valid_generator(X_val, y_val,\n",
    "                                                        batch_size=traincf.batch_size,\n",
    "                                                        target_names=np.unique(y_test).tolist(),\n",
    "                                                        setting=traincf.setting,\n",
    "                                                         preprocessing_train_stats=''),\n",
    "                    validation_steps=int(math.ceil(float(len(X_val))/float(traincf.batch_size))),\n",
    "                    callbacks=traincf.callbacks_list,\n",
    "             class_weight=class_weights)"
   ]
  },
  {
   "cell_type": "code",
   "execution_count": 11,
   "metadata": {},
   "outputs": [],
   "source": [
    "pred = model.predict_generator(valid_generator(X_test, y_test,\n",
    "                                    batch_size=traincf.batch_size,\n",
    "                                    target_names=np.unique(y_test).tolist(),\n",
    "                                    setting=traincf.setting,\n",
    "                                  preprocessing_train_stats=''),\n",
    "                              steps=int(math.ceil(float(len(X_test))/float(traincf.batch_size))))"
   ]
  },
  {
   "cell_type": "code",
   "execution_count": 12,
   "metadata": {},
   "outputs": [
    {
     "data": {
      "text/plain": [
       "0.851770014320067"
      ]
     },
     "execution_count": 12,
     "metadata": {},
     "output_type": "execute_result"
    }
   ],
   "source": [
    "from sklearn.metrics import balanced_accuracy_score, confusion_matrix\n",
    "\n",
    "balanced_accuracy_score(y_true=y_test, y_pred=np.argmax(pred, axis=1))"
   ]
  },
  {
   "cell_type": "code",
   "execution_count": 13,
   "metadata": {},
   "outputs": [
    {
     "data": {
      "text/plain": [
       "<matplotlib.axes._subplots.AxesSubplot at 0x7f0577ffc190>"
      ]
     },
     "execution_count": 13,
     "metadata": {},
     "output_type": "execute_result"
    },
    {
     "data": {
      "image/png": "[encoded data removed]",
      "text/plain": [
       "<Figure size 432x288 with 2 Axes>"
      ]
     },
     "metadata": {
      "needs_background": "light"
     },
     "output_type": "display_data"
    }
   ],
   "source": [
    "import seaborn as sns\n",
    "\n",
    "cm = confusion_matrix(y_true=y_test, y_pred=np.argmax(pred, axis=1))\n",
    "# cm = cm.astype(np.float) / cm.astype(np.float).sum(axis=0)\n",
    "\n",
    "sns.heatmap(cm, annot=True, fmt='g')"
   ]
  },
  {
   "cell_type": "markdown",
   "metadata": {},
   "source": [
    "#### 0=melanogaster, 1=suzukii, 2=zaprionus"
   ]
  },
  {
   "cell_type": "code",
   "execution_count": 14,
   "metadata": {},
   "outputs": [
    {
     "data": {
      "text/plain": [
       "1    12337\n",
       "0     1950\n",
       "dtype: int64"
      ]
     },
     "execution_count": 14,
     "metadata": {},
     "output_type": "execute_result"
    }
   ],
   "source": [
    "pd.Series(y_test).value_counts()"
   ]
  },
  {
   "cell_type": "code",
   "execution_count": 15,
   "metadata": {},
   "outputs": [],
   "source": [
    "y_pred = np.argmax(pred, axis=1)\n",
    "\n",
    "sub = pd.concat([pd.Series(y_test), pd.Series(X_test)], axis=1)\n",
    "sub['preds'] = y_pred\n",
    "sub.columns = ['labels','fnames','preds']\n",
    "sub['datestr'] = get_wingbeat_dates(sub.fnames)[2]"
   ]
  },
  {
   "cell_type": "code",
   "execution_count": null,
   "metadata": {},
   "outputs": [],
   "source": []
  },
  {
   "cell_type": "code",
   "execution_count": 16,
   "metadata": {},
   "outputs": [],
   "source": [
    "sub.to_csv(f'{TEMP_DATADIR}/df_{model_setting}_{data_setting}_{splitting}.csv', index=False)"
   ]
  },
  {
   "cell_type": "code",
   "execution_count": null,
   "metadata": {},
   "outputs": [],
   "source": []
  }
 ],
 "metadata": {
  "kernelspec": {
   "display_name": "Python 3",
   "language": "python",
   "name": "python3"
  },
  "language_info": {
   "codemirror_mode": {
    "name": "ipython",
    "version": 3
   },
   "file_extension": ".py",
   "mimetype": "text/x-python",
   "name": "python",
   "nbconvert_exporter": "python",
   "pygments_lexer": "ipython3",
   "version": "3.7.9"
  }
 },
 "nbformat": 4,
 "nbformat_minor": 4
}
