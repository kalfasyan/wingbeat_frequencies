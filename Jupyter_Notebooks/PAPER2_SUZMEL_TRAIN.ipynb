{
 "cells": [
  {
   "cell_type": "code",
   "execution_count": 8,
   "metadata": {},
   "outputs": [],
   "source": [
    "%reset -f\n",
    "import sys\n",
    "sys.path.insert(0, \"..\")\n",
    "from wavhandler import *\n",
    "from configs import DatasetConfiguration\n",
    "from utils_train import *\n",
    "from configs import *\n",
    "import numpy as np\n",
    "import math\n",
    "from sklearn.preprocessing import LabelEncoder\n",
    "from sklearn.utils import shuffle\n",
    "from sklearn.model_selection import train_test_split\n",
    "from sklearn.metrics import confusion_matrix, balanced_accuracy_score, classification_report, make_scorer, log_loss\n",
    "from sklearn.preprocessing import LabelBinarizer\n",
    "from sklearn.model_selection import train_test_split\n",
    "from sklearn.utils import class_weight\n",
    "import os\n",
    "import pandas as pd\n",
    "import seaborn as sb\n",
    "import matplotlib.pyplot as plt\n",
    "from tensorflow.keras import regularizers\n",
    "from tensorflow.keras.layers import Input\n",
    "from tensorflow.keras import optimizers\n",
    "from tensorflow.keras.models import Model\n",
    "from tensorflow.keras.models import Sequential\n",
    "from tensorflow.keras.layers import Dense, Flatten, Dropout\n",
    "import seaborn as sb\n",
    "import deepdish as dd\n",
    "\n",
    "seed = 42\n",
    "np.random.seed(seed=seed)\n",
    "\n",
    "splitting = 'custom'\n",
    "data_setting = 'rawflt'\n",
    "model_setting = 'conv1d'\n",
    "nb_classes = 2\n",
    "# clean = True"
   ]
  },
  {
   "cell_type": "markdown",
   "metadata": {},
   "source": [
    "### data collecting"
   ]
  },
  {
   "cell_type": "code",
   "execution_count": 9,
   "metadata": {},
   "outputs": [],
   "source": [
    "train = pd.read_csv(f\"{TEMP_DATADIR}/df_train_{data_setting}_{model_setting}_{splitting}.csv\", index_col=False)\n",
    "X_train = train.x.tolist()\n",
    "y_train = train.y.tolist()"
   ]
  },
  {
   "cell_type": "code",
   "execution_count": 10,
   "metadata": {},
   "outputs": [],
   "source": [
    "val = pd.read_csv(f\"{TEMP_DATADIR}/df_val_{data_setting}_{model_setting}_{splitting}.csv\", index_col=False)\n",
    "X_val = val.x.tolist()\n",
    "y_val = val.y.tolist()"
   ]
  },
  {
   "cell_type": "code",
   "execution_count": 11,
   "metadata": {},
   "outputs": [],
   "source": [
    "test = pd.read_csv(f\"{TEMP_DATADIR}/df_test_{data_setting}_{model_setting}_{splitting}.csv\", index_col=False)\n",
    "X_test = test.x.tolist()\n",
    "y_test = test.y.tolist()"
   ]
  },
  {
   "cell_type": "code",
   "execution_count": 12,
   "metadata": {},
   "outputs": [
    {
     "name": "stdout",
     "output_type": "stream",
     "text": [
      "train: \n",
      "1    12377\n",
      "0     3658\n",
      "dtype: int64\n",
      "\n",
      "val: \n",
      "1    4124\n",
      "0    1221\n",
      "dtype: int64\n",
      "\n",
      "test: \n",
      "1    11457\n",
      "0     1157\n",
      "dtype: int64\n"
     ]
    }
   ],
   "source": [
    "print(f\"train: \\n{pd.Series(y_train).value_counts()}\\n\")\n",
    "print(f\"val: \\n{pd.Series(y_val).value_counts()}\\n\")\n",
    "print(f\"test: \\n{pd.Series(y_test).value_counts()}\")"
   ]
  },
  {
   "cell_type": "markdown",
   "metadata": {},
   "source": [
    "### training"
   ]
  },
  {
   "cell_type": "code",
   "execution_count": 13,
   "metadata": {},
   "outputs": [],
   "source": [
    "traincf = TrainConfiguration(nb_classes=nb_classes, setting=data_setting,model_name=f\"Flies_{data_setting}_{model_setting}_{splitting}\", monitor='val_acc')"
   ]
  },
  {
   "cell_type": "code",
   "execution_count": 14,
   "metadata": {},
   "outputs": [
    {
     "name": "stdout",
     "output_type": "stream",
     "text": [
      "############ INPUT SHAPE:(5000, 1)\n"
     ]
    }
   ],
   "source": [
    "modelconf = ModelConfiguration(model_setting=model_setting, data_setting=data_setting, nb_classes=nb_classes)\n",
    "model = modelconf.config"
   ]
  },
  {
   "cell_type": "code",
   "execution_count": 15,
   "metadata": {},
   "outputs": [],
   "source": [
    "model.compile(optimizer='adam', loss='categorical_crossentropy', metrics=['accuracy'])"
   ]
  },
  {
   "cell_type": "code",
   "execution_count": 16,
   "metadata": {},
   "outputs": [
    {
     "name": "stdout",
     "output_type": "stream",
     "text": [
      "{0: 2.191771459814106, 1: 0.6477740971156177}\n"
     ]
    }
   ],
   "source": [
    "from sklearn.utils import class_weight\n",
    "weights = class_weight.compute_class_weight('balanced', classes=np.unique(y_train), y=y_train)\n",
    "class_weights = {i : weights[i] for i in range(nb_classes)}\n",
    "print(class_weights)"
   ]
  },
  {
   "cell_type": "code",
   "execution_count": 17,
   "metadata": {},
   "outputs": [
    {
     "name": "stdout",
     "output_type": "stream",
     "text": [
      "Epoch 1/100\n",
      "501/502 [============================>.] - ETA: 0s - loss: 0.3173 - acc: 0.8617\n",
      "Epoch 00001: val_acc improved from -inf to 0.77568, saving model to /home/kalfasyan/projects/wingbeat_frequencies/temp_data/Flies_rawflt_conv1d_custom.h5\n",
      "502/502 [==============================] - 25s 51ms/step - loss: 0.3171 - acc: 0.8617 - val_loss: 1.1515 - val_acc: 0.7757\n",
      "Epoch 2/100\n",
      "501/502 [============================>.] - ETA: 0s - loss: 0.2052 - acc: 0.9228\n",
      "Epoch 00002: val_acc improved from 0.77568 to 0.91562, saving model to /home/kalfasyan/projects/wingbeat_frequencies/temp_data/Flies_rawflt_conv1d_custom.h5\n",
      "502/502 [==============================] - 24s 47ms/step - loss: 0.2052 - acc: 0.9227 - val_loss: 0.3319 - val_acc: 0.9156\n",
      "Epoch 3/100\n",
      "501/502 [============================>.] - ETA: 0s - loss: 0.1674 - acc: 0.9397\n",
      "Epoch 00003: val_acc did not improve from 0.91562\n",
      "502/502 [==============================] - 24s 47ms/step - loss: 0.1673 - acc: 0.9397 - val_loss: 0.9684 - val_acc: 0.7383\n",
      "Epoch 4/100\n",
      "501/502 [============================>.] - ETA: 0s - loss: 0.1411 - acc: 0.9513\n",
      "Epoch 00004: val_acc did not improve from 0.91562\n",
      "502/502 [==============================] - 24s 47ms/step - loss: 0.1412 - acc: 0.9512 - val_loss: 9.4018 - val_acc: 0.2284\n",
      "Epoch 5/100\n",
      "501/502 [============================>.] - ETA: 0s - loss: 0.1242 - acc: 0.9555\n",
      "Epoch 00005: val_acc did not improve from 0.91562\n",
      "\n",
      "Epoch 00005: ReduceLROnPlateau reducing learning rate to 0.00010000000474974513.\n",
      "502/502 [==============================] - 24s 48ms/step - loss: 0.1240 - acc: 0.9555 - val_loss: 4.9654 - val_acc: 0.3549\n",
      "Epoch 6/100\n",
      "501/502 [============================>.] - ETA: 0s - loss: 0.0847 - acc: 0.9707\n",
      "Epoch 00006: val_acc improved from 0.91562 to 0.97287, saving model to /home/kalfasyan/projects/wingbeat_frequencies/temp_data/Flies_rawflt_conv1d_custom.h5\n",
      "502/502 [==============================] - 24s 48ms/step - loss: 0.0846 - acc: 0.9708 - val_loss: 0.0807 - val_acc: 0.9729\n",
      "Epoch 7/100\n",
      "501/502 [============================>.] - ETA: 0s - loss: 0.0684 - acc: 0.9769\n",
      "Epoch 00007: val_acc improved from 0.97287 to 0.97643, saving model to /home/kalfasyan/projects/wingbeat_frequencies/temp_data/Flies_rawflt_conv1d_custom.h5\n",
      "502/502 [==============================] - 24s 49ms/step - loss: 0.0683 - acc: 0.9769 - val_loss: 0.0676 - val_acc: 0.9764\n",
      "Epoch 8/100\n",
      "501/502 [============================>.] - ETA: 0s - loss: 0.0602 - acc: 0.9803\n",
      "Epoch 00008: val_acc did not improve from 0.97643\n",
      "502/502 [==============================] - 24s 49ms/step - loss: 0.0601 - acc: 0.9803 - val_loss: 0.0671 - val_acc: 0.9751\n",
      "Epoch 9/100\n",
      "501/502 [============================>.] - ETA: 0s - loss: 0.0493 - acc: 0.9842\n",
      "Epoch 00009: val_acc did not improve from 0.97643\n",
      "502/502 [==============================] - 24s 49ms/step - loss: 0.0492 - acc: 0.9842 - val_loss: 0.0727 - val_acc: 0.9732\n",
      "Epoch 10/100\n",
      "501/502 [============================>.] - ETA: 0s - loss: 0.0419 - acc: 0.9868\n",
      "Epoch 00010: val_acc did not improve from 0.97643\n",
      "\n",
      "Epoch 00010: ReduceLROnPlateau reducing learning rate to 1.0000000474974514e-05.\n",
      "502/502 [==============================] - 24s 48ms/step - loss: 0.0419 - acc: 0.9868 - val_loss: 0.0708 - val_acc: 0.9757\n",
      "Epoch 11/100\n",
      "501/502 [============================>.] - ETA: 0s - loss: 0.0341 - acc: 0.9889\n",
      "Epoch 00011: val_acc did not improve from 0.97643\n",
      "502/502 [==============================] - 25s 49ms/step - loss: 0.0341 - acc: 0.9889 - val_loss: 0.0737 - val_acc: 0.9753\n",
      "Epoch 12/100\n",
      "501/502 [============================>.] - ETA: 0s - loss: 0.0318 - acc: 0.9902\n",
      "Epoch 00012: val_acc did not improve from 0.97643\n",
      "502/502 [==============================] - 24s 48ms/step - loss: 0.0318 - acc: 0.9902 - val_loss: 0.0716 - val_acc: 0.9764\n",
      "Epoch 13/100\n",
      "501/502 [============================>.] - ETA: 0s - loss: 0.0306 - acc: 0.9913\n",
      "Epoch 00013: val_acc did not improve from 0.97643\n",
      "\n",
      "Epoch 00013: ReduceLROnPlateau reducing learning rate to 1.0000000656873453e-06.\n",
      "502/502 [==============================] - 25s 49ms/step - loss: 0.0306 - acc: 0.9913 - val_loss: 0.0719 - val_acc: 0.9764\n",
      "Epoch 14/100\n",
      "501/502 [============================>.] - ETA: 0s - loss: 0.0289 - acc: 0.9911\n",
      "Epoch 00014: val_acc improved from 0.97643 to 0.97661, saving model to /home/kalfasyan/projects/wingbeat_frequencies/temp_data/Flies_rawflt_conv1d_custom.h5\n",
      "502/502 [==============================] - 25s 50ms/step - loss: 0.0289 - acc: 0.9911 - val_loss: 0.0710 - val_acc: 0.9766\n",
      "Epoch 15/100\n",
      "501/502 [============================>.] - ETA: 0s - loss: 0.0291 - acc: 0.9915\n",
      "Epoch 00015: val_acc did not improve from 0.97661\n",
      "502/502 [==============================] - 25s 49ms/step - loss: 0.0291 - acc: 0.9915 - val_loss: 0.0710 - val_acc: 0.9766\n",
      "Epoch 16/100\n",
      "501/502 [============================>.] - ETA: 0s - loss: 0.0285 - acc: 0.9921\n",
      "Epoch 00016: val_acc did not improve from 0.97661\n",
      "502/502 [==============================] - 25s 49ms/step - loss: 0.0285 - acc: 0.9921 - val_loss: 0.0709 - val_acc: 0.9766\n",
      "Epoch 17/100\n",
      "501/502 [============================>.] - ETA: 0s - loss: 0.0290 - acc: 0.9913\n",
      "Epoch 00017: val_acc improved from 0.97661 to 0.97680, saving model to /home/kalfasyan/projects/wingbeat_frequencies/temp_data/Flies_rawflt_conv1d_custom.h5\n",
      "502/502 [==============================] - 25s 50ms/step - loss: 0.0290 - acc: 0.9913 - val_loss: 0.0710 - val_acc: 0.9768\n",
      "Epoch 18/100\n",
      "501/502 [============================>.] - ETA: 0s - loss: 0.0294 - acc: 0.9909\n",
      "Epoch 00018: val_acc did not improve from 0.97680\n",
      "502/502 [==============================] - 25s 50ms/step - loss: 0.0294 - acc: 0.9909 - val_loss: 0.0709 - val_acc: 0.9768\n",
      "Epoch 19/100\n",
      "501/502 [============================>.] - ETA: 0s - loss: 0.0288 - acc: 0.9910\n",
      "Epoch 00019: val_acc did not improve from 0.97680\n",
      "502/502 [==============================] - 25s 50ms/step - loss: 0.0288 - acc: 0.9910 - val_loss: 0.0708 - val_acc: 0.9768\n",
      "Epoch 20/100\n",
      "501/502 [============================>.] - ETA: 0s - loss: 0.0282 - acc: 0.9916\n",
      "Epoch 00020: val_acc did not improve from 0.97680\n",
      "\n",
      "Epoch 00020: ReduceLROnPlateau reducing learning rate to 1.0000001111620805e-07.\n",
      "502/502 [==============================] - 25s 51ms/step - loss: 0.0282 - acc: 0.9916 - val_loss: 0.0709 - val_acc: 0.9768\n",
      "Epoch 21/100\n",
      "501/502 [============================>.] - ETA: 0s - loss: 0.0289 - acc: 0.9916\n",
      "Epoch 00021: val_acc did not improve from 0.97680\n",
      "502/502 [==============================] - 26s 51ms/step - loss: 0.0289 - acc: 0.9916 - val_loss: 0.0708 - val_acc: 0.9768\n",
      "Epoch 22/100\n",
      "500/502 [============================>.] - ETA: 0s - loss: 0.0288 - acc: 0.9916\n",
      "Epoch 00022: val_acc did not improve from 0.97680\n",
      "502/502 [==============================] - 26s 51ms/step - loss: 0.0288 - acc: 0.9916 - val_loss: 0.0708 - val_acc: 0.9768\n",
      "Epoch 23/100\n",
      "500/502 [============================>.] - ETA: 0s - loss: 0.0280 - acc: 0.9916\n",
      "Epoch 00023: val_acc did not improve from 0.97680\n",
      "\n",
      "Epoch 00023: ReduceLROnPlateau reducing learning rate to 1.000000082740371e-08.\n",
      "502/502 [==============================] - 26s 52ms/step - loss: 0.0280 - acc: 0.9915 - val_loss: 0.0708 - val_acc: 0.9768\n",
      "Epoch 24/100\n",
      "501/502 [============================>.] - ETA: 0s - loss: 0.0291 - acc: 0.9910\n",
      "Epoch 00024: val_acc did not improve from 0.97680\n",
      "502/502 [==============================] - 26s 51ms/step - loss: 0.0291 - acc: 0.9910 - val_loss: 0.0708 - val_acc: 0.9768\n",
      "Epoch 00024: early stopping\n"
     ]
    }
   ],
   "source": [
    "h = model.fit(train_generator(X_train, y_train, \n",
    "                                    batch_size=traincf.batch_size,\n",
    "                                    target_names=np.unique(y_test).tolist(),\n",
    "                                    setting=traincf.setting,\n",
    "                                     preprocessing_train_stats=''),\n",
    "                    steps_per_epoch = int(math.ceil(float(len(X_train)) / float(traincf.batch_size))),\n",
    "                    epochs = traincf.epochs,\n",
    "                    validation_data = valid_generator(X_val, y_val,\n",
    "                                                        batch_size=traincf.batch_size,\n",
    "                                                        target_names=np.unique(y_test).tolist(),\n",
    "                                                        setting=traincf.setting,\n",
    "                                                         preprocessing_train_stats=''),\n",
    "                    validation_steps=int(math.ceil(float(len(X_val))/float(traincf.batch_size))),\n",
    "                    callbacks=traincf.callbacks_list,\n",
    "             class_weight=class_weights)"
   ]
  },
  {
   "cell_type": "code",
   "execution_count": 18,
   "metadata": {},
   "outputs": [],
   "source": [
    "pred = model.predict_generator(valid_generator(X_test, y_test,\n",
    "                                    batch_size=traincf.batch_size,\n",
    "                                    target_names=np.unique(y_test).tolist(),\n",
    "                                    setting=traincf.setting,\n",
    "                                  preprocessing_train_stats=''),\n",
    "                              steps=int(math.ceil(float(len(X_test))/float(traincf.batch_size))))"
   ]
  },
  {
   "cell_type": "code",
   "execution_count": 40,
   "metadata": {},
   "outputs": [
    {
     "name": "stdout",
     "output_type": "stream",
     "text": [
      "Model: \"sequential_9\"\n",
      "_________________________________________________________________\n",
      "Layer (type)                 Output Shape              Param #   \n",
      "=================================================================\n",
      "conv1d_10 (Conv1D)           (None, 4998, 16)          64        \n",
      "_________________________________________________________________\n",
      "conv1d_11 (Conv1D)           (None, 4996, 16)          784       \n",
      "_________________________________________________________________\n",
      "batch_normalization_5 (Batch (None, 4996, 16)          64        \n",
      "_________________________________________________________________\n",
      "conv1d_12 (Conv1D)           (None, 4994, 32)          1568      \n",
      "_________________________________________________________________\n",
      "conv1d_13 (Conv1D)           (None, 4992, 32)          3104      \n",
      "_________________________________________________________________\n",
      "batch_normalization_6 (Batch (None, 4992, 32)          128       \n",
      "_________________________________________________________________\n",
      "max_pooling1d_3 (MaxPooling1 (None, 2496, 32)          0         \n",
      "_________________________________________________________________\n",
      "conv1d_14 (Conv1D)           (None, 2494, 64)          6208      \n",
      "_________________________________________________________________\n",
      "conv1d_15 (Conv1D)           (None, 2492, 64)          12352     \n",
      "_________________________________________________________________\n",
      "batch_normalization_7 (Batch (None, 2492, 64)          256       \n",
      "_________________________________________________________________\n",
      "max_pooling1d_4 (MaxPooling1 (None, 1246, 64)          0         \n",
      "_________________________________________________________________\n",
      "conv1d_16 (Conv1D)           (None, 1244, 128)         24704     \n",
      "_________________________________________________________________\n",
      "conv1d_17 (Conv1D)           (None, 1242, 128)         49280     \n",
      "_________________________________________________________________\n",
      "batch_normalization_8 (Batch (None, 1242, 128)         512       \n",
      "_________________________________________________________________\n",
      "max_pooling1d_5 (MaxPooling1 (None, 621, 128)          0         \n",
      "_________________________________________________________________\n",
      "conv1d_18 (Conv1D)           (None, 619, 256)          98560     \n",
      "_________________________________________________________________\n",
      "conv1d_19 (Conv1D)           (None, 617, 256)          196864    \n",
      "_________________________________________________________________\n",
      "batch_normalization_9 (Batch (None, 617, 256)          1024      \n",
      "_________________________________________________________________\n",
      "global_average_pooling1d_1 ( (None, 256)               0         \n",
      "_________________________________________________________________\n",
      "dropout_1 (Dropout)          (None, 256)               0         \n",
      "_________________________________________________________________\n",
      "dense_1 (Dense)              (None, 2)                 514       \n",
      "=================================================================\n",
      "Total params: 395,986\n",
      "Trainable params: 394,994\n",
      "Non-trainable params: 992\n",
      "_________________________________________________________________\n"
     ]
    }
   ],
   "source": [
    "\n",
    "newmodel = Sequential()\n",
    "for layer in model.layers[:-1]: # go through until last layer\n",
    "    newmodel.add(layer)\n",
    "#     print(layer.trainable)\n",
    "newmodel.summary()"
   ]
  },
  {
   "cell_type": "code",
   "execution_count": 41,
   "metadata": {},
   "outputs": [],
   "source": [
    "p = newmodel.predict_generator(valid_generator(X_test, y_test,\n",
    "                                    batch_size=traincf.batch_size,\n",
    "                                    target_names=np.unique(y_test).tolist(),\n",
    "                                    setting=traincf.setting,\n",
    "                                  preprocessing_train_stats=''),\n",
    "                              steps=int(math.ceil(float(len(X_test))/float(traincf.batch_size))))"
   ]
  },
  {
   "cell_type": "code",
   "execution_count": 42,
   "metadata": {},
   "outputs": [
    {
     "data": {
      "text/plain": [
       "(12614, 2)"
      ]
     },
     "execution_count": 42,
     "metadata": {},
     "output_type": "execute_result"
    }
   ],
   "source": [
    "p.shape"
   ]
  },
  {
   "cell_type": "code",
   "execution_count": 43,
   "metadata": {},
   "outputs": [
    {
     "data": {
      "text/plain": [
       "array([[-0.5373466 ,  0.79083043],\n",
       "       [ 2.1108184 , -1.6893862 ],\n",
       "       [ 1.7117776 , -1.3436459 ],\n",
       "       ...,\n",
       "       [ 1.620618  , -1.2572244 ],\n",
       "       [ 7.971927  , -7.792308  ],\n",
       "       [ 0.2702724 , -0.08621213]], dtype=float32)"
      ]
     },
     "execution_count": 43,
     "metadata": {},
     "output_type": "execute_result"
    }
   ],
   "source": [
    "p"
   ]
  },
  {
   "cell_type": "code",
   "execution_count": 19,
   "metadata": {},
   "outputs": [
    {
     "data": {
      "text/plain": [
       "0.8903637206769681"
      ]
     },
     "execution_count": 19,
     "metadata": {},
     "output_type": "execute_result"
    }
   ],
   "source": [
    "from sklearn.metrics import balanced_accuracy_score, confusion_matrix\n",
    "\n",
    "balanced_accuracy_score(y_true=y_test, y_pred=np.argmax(pred, axis=1))"
   ]
  },
  {
   "cell_type": "code",
   "execution_count": 20,
   "metadata": {},
   "outputs": [
    {
     "data": {
      "text/plain": [
       "<matplotlib.axes._subplots.AxesSubplot at 0x7fc3c0391490>"
      ]
     },
     "execution_count": 20,
     "metadata": {},
     "output_type": "execute_result"
    },
    {
     "data": {
      "image/png": "[encoded data removed]",
      "text/plain": [
       "<Figure size 432x288 with 2 Axes>"
      ]
     },
     "metadata": {
      "needs_background": "light"
     },
     "output_type": "display_data"
    }
   ],
   "source": [
    "import seaborn as sns\n",
    "\n",
    "cm = confusion_matrix(y_true=y_test, y_pred=np.argmax(pred, axis=1))\n",
    "# cm = cm.astype(np.float) / cm.astype(np.float).sum(axis=0)\n",
    "\n",
    "sns.heatmap(cm, annot=True, fmt='g')"
   ]
  },
  {
   "cell_type": "markdown",
   "metadata": {},
   "source": [
    "#### 0=melanogaster, 1=suzukii, 2=zaprionus"
   ]
  },
  {
   "cell_type": "code",
   "execution_count": 13,
   "metadata": {},
   "outputs": [
    {
     "data": {
      "text/plain": [
       "1    11457\n",
       "0     1157\n",
       "dtype: int64"
      ]
     },
     "execution_count": 13,
     "metadata": {},
     "output_type": "execute_result"
    }
   ],
   "source": [
    "pd.Series(y_test).value_counts()"
   ]
  },
  {
   "cell_type": "code",
   "execution_count": 14,
   "metadata": {},
   "outputs": [],
   "source": [
    "y_pred = np.argmax(pred, axis=1)\n",
    "\n",
    "sub = pd.concat([pd.Series(y_test), pd.Series(X_test)], axis=1)\n",
    "sub['preds'] = y_pred\n",
    "sub.columns = ['labels','fnames','preds']\n",
    "sub['datestr'] = get_wingbeat_dates(sub.fnames)[2]"
   ]
  },
  {
   "cell_type": "code",
   "execution_count": null,
   "metadata": {},
   "outputs": [],
   "source": []
  },
  {
   "cell_type": "code",
   "execution_count": 15,
   "metadata": {},
   "outputs": [],
   "source": [
    "sub.to_csv(f'{TEMP_DATADIR}/df_{model_setting}_{data_setting}_{splitting}.csv', index=False)"
   ]
  },
  {
   "cell_type": "code",
   "execution_count": null,
   "metadata": {},
   "outputs": [],
   "source": []
  },
  {
   "cell_type": "markdown",
   "metadata": {},
   "source": [
    "### Loading MosquitoNet and removing its last 2 layers"
   ]
  },
  {
   "cell_type": "code",
   "execution_count": null,
   "metadata": {
    "scrolled": true
   },
   "outputs": [],
   "source": [
    "merged = False\n",
    "\n",
    "using_conv2d = False\n",
    "if merged:\n",
    "    # Merging the mosquito genuses together\n",
    "    y_train = pd.Series(y_train).replace({1:0, 3:2, 5:4}).replace({2:1, 4:2}).tolist()\n",
    "    y_val = pd.Series(y_val).replace({1:0, 3:2, 5:4}).replace({2:1, 4:2}).tolist()\n",
    "    y_test = pd.Series(y_test).replace({1:0, 3:2, 5:4}).replace({2:1, 4:2}).tolist()\n",
    "\n",
    "    # Defining model parameters\n",
    "    modelname = f\"FliesTL_{data_setting}_{model_setting}_{splitting}_merged{merged}\"\n",
    "    traincf = TrainConfiguration(nb_classes=3, setting=data_setting, model_name=modelname)\n",
    "    d.target_classes = ['Aedes','Anopheles','Culex']\n",
    "    traincf.target_names = np.unique(d.target_classes)\n",
    "    traincf.targets = len(traincf.target_names)    \n",
    "    model = ModelConfiguration(model_setting=model_setting, data_setting=data_setting, nb_classes=3).config\n",
    "else:\n",
    "    modelname = f\"FliesTL_{data_setting}_{model_setting}_{splitting}_merged{merged}\"\n",
    "    traincf = TrainConfiguration(nb_classes=6, setting=data_setting, model_name=modelname)\n",
    "    model = ModelConfiguration(model_setting=model_setting, data_setting=data_setting, nb_classes=6).config\n",
    "\n",
    "model.load_weights(TEMP_DATADIR+modelname+'.h5')\n",
    "model.compile(loss='categorical_crossentropy', optimizer='adam', metrics=['accuracy'])\n",
    "\n",
    "\n",
    "# NOT LOADING MODELS\n",
    "model.summary()\n",
    "\n",
    "if data_setting in ['raw', 'rawflt','psd','psdflt', 'psd_dB','psd_dBflt']:\n",
    "    # cut_mosquito_model is the model without its last dropout and softmax\n",
    "    cut_mosquito_model = Model(model.inputs, model.layers[-3].output)\n",
    "elif data_setting in ['stft','stftflt']:\n",
    "    cut_mosquito_model = Model(model.inputs, model.layers[-2].output)"
   ]
  },
  {
   "cell_type": "code",
   "execution_count": null,
   "metadata": {},
   "outputs": [],
   "source": [
    "input_shape=cut_mosquito_model.output_shape[1:]\n",
    "\n",
    "### Creating a shallow model to put on top of Mosquito model\n",
    "top_model = Sequential()\n",
    "top_model.add(Flatten(input_shape=input_shape))\n",
    "top_model.add(Dropout(0.5))\n",
    "top_model.add(Dense(3, activation='softmax'))\n",
    "top_model.compile(loss='categorical_crossentropy', optimizer='adam', metrics=['accuracy'])"
   ]
  },
  {
   "cell_type": "code",
   "execution_count": null,
   "metadata": {},
   "outputs": [],
   "source": [
    "Xf_xtracted_train = cut_mosquito_model.predict(valid_generator(X_train, \n",
    "                                                y_train, \n",
    "                                                batch_size=128, \n",
    "                                                setting=data_setting, \n",
    "                                                preprocessing_train_stats='',\n",
    "                                                target_names=np.unique(y_test).tolist()),\n",
    "                                            steps = int(math.ceil(float(len(X_train)) / float(128))))\n",
    "\n",
    "Xf_xtracted_val = cut_mosquito_model.predict(valid_generator(X_val, \n",
    "                                                y_val, \n",
    "                                                batch_size=128, \n",
    "                                                preprocessing_train_stats='',\n",
    "                                                setting=data_setting, \n",
    "                                                target_names=np.unique(y_test).tolist()),\n",
    "                                            steps = int(math.ceil(float(len(X_val)) / float(128))))    "
   ]
  },
  {
   "cell_type": "code",
   "execution_count": null,
   "metadata": {},
   "outputs": [],
   "source": [
    "from sklearn.utils import class_weight\n",
    "\n",
    "weights = class_weight.compute_class_weight('balanced', classes=np.unique(y_train), y=y_train)\n",
    "class_weights = {i : weights[i] for i in range(3)}\n",
    "\n",
    "### Training Shallow model for a few epochs\n",
    "traincf_flies = TrainConfiguration(nb_classes=3, setting='rawflt', monitor='val_accuracy', \n",
    "                                   model_name=f'top_model_flies', batch_size=32, epochs=10)"
   ]
  },
  {
   "cell_type": "code",
   "execution_count": null,
   "metadata": {},
   "outputs": [],
   "source": [
    "from tensorflow.keras.utils import to_categorical\n",
    "\n",
    "top_model.fit(Xf_xtracted_train, to_categorical(y_train, num_classes=3), \n",
    "              validation_data=(Xf_xtracted_val,to_categorical(y_val, num_classes=3)),\n",
    "              batch_size=traincf_flies.batch_size, \n",
    "              epochs=traincf_flies.epochs, \n",
    "              callbacks=traincf_flies.callbacks_list,\n",
    "             class_weight=class_weights,\n",
    "             verbose=1);"
   ]
  },
  {
   "cell_type": "code",
   "execution_count": null,
   "metadata": {},
   "outputs": [],
   "source": [
    "### Adding shallow model on top of the cut Mosquito model\n",
    "inputA = Input(cut_mosquito_model.input_shape[1:])\n",
    "outputA = cut_mosquito_model(inputA)\n",
    "outputB = top_model(outputA)\n",
    "modelC = Model(inputA, outputB)\n",
    "modelC.compile(loss='categorical_crossentropy',\n",
    "              optimizer='adam',#optimizers.SGD(lr=1e-3, momentum=0.9),\n",
    "              metrics=['accuracy'])\n",
    "### Training MosquitoNet+Shallow\n",
    "traincf_flies = TrainConfiguration(nb_classes=3, setting=data_setting, monitor='val_accuracy', model_name=f'whole_model_flies', batch_size=32)\n",
    "h = modelC.fit(train_generator(X_train, y_train, \n",
    "                                    batch_size=traincf_flies.batch_size,\n",
    "                                    target_names=np.unique(y_test).tolist(),\n",
    "                                    preprocessing_train_stats='',\n",
    "                                    setting=traincf_flies.setting),\n",
    "                    steps_per_epoch = int(math.ceil(float(len(X_train)) / float(traincf_flies.batch_size))),\n",
    "                    epochs = traincf_flies.epochs,\n",
    "                    validation_data = valid_generator(X_val, y_val,\n",
    "                                                        batch_size=traincf_flies.batch_size,\n",
    "                                                        target_names=np.unique(y_test).tolist(),\n",
    "                                                        preprocessing_train_stats='',\n",
    "                                                        setting=traincf_flies.setting),\n",
    "                    validation_steps=int(math.ceil(float(len(X_test))/float(traincf_flies.batch_size))),\n",
    "                    callbacks=traincf_flies.callbacks_list, \n",
    "                    class_weight=class_weights, \n",
    "                    verbose=1);\n",
    "\n",
    "yf_pred = modelC.predict(valid_generator(X_test, \n",
    "                        y_test, \n",
    "                        batch_size=128, \n",
    "                        setting=data_setting, \n",
    "                         preprocessing_train_stats='',\n",
    "                        target_names=np.unique(y_test).tolist()),\n",
    "                    steps = int(math.ceil(float(len(X_test)) / float(128))))"
   ]
  },
  {
   "cell_type": "code",
   "execution_count": null,
   "metadata": {},
   "outputs": [],
   "source": []
  },
  {
   "cell_type": "code",
   "execution_count": null,
   "metadata": {},
   "outputs": [],
   "source": [
    "balanced_accuracy_score(y_true=y_test, y_pred=np.argmax(yf_pred, axis=1))"
   ]
  },
  {
   "cell_type": "code",
   "execution_count": null,
   "metadata": {},
   "outputs": [],
   "source": []
  },
  {
   "cell_type": "code",
   "execution_count": null,
   "metadata": {},
   "outputs": [],
   "source": []
  },
  {
   "cell_type": "code",
   "execution_count": null,
   "metadata": {},
   "outputs": [],
   "source": []
  },
  {
   "cell_type": "code",
   "execution_count": null,
   "metadata": {},
   "outputs": [],
   "source": []
  },
  {
   "cell_type": "code",
   "execution_count": null,
   "metadata": {},
   "outputs": [],
   "source": []
  },
  {
   "cell_type": "code",
   "execution_count": null,
   "metadata": {},
   "outputs": [],
   "source": []
  }
 ],
 "metadata": {
  "kernelspec": {
   "display_name": "Python 3",
   "language": "python",
   "name": "python3"
  },
  "language_info": {
   "codemirror_mode": {
    "name": "ipython",
    "version": 3
   },
   "file_extension": ".py",
   "mimetype": "text/x-python",
   "name": "python",
   "nbconvert_exporter": "python",
   "pygments_lexer": "ipython3",
   "version": "3.7.9"
  }
 },
 "nbformat": 4,
 "nbformat_minor": 4
}
