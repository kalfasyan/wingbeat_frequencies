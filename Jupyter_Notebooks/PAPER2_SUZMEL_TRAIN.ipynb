{
 "cells": [
  {
   "cell_type": "code",
   "execution_count": 1,
   "metadata": {},
   "outputs": [],
   "source": [
    "%reset -f\n",
    "import sys\n",
    "sys.path.insert(0, \"..\")\n",
    "from wavhandler import *\n",
    "from configs import DatasetConfiguration\n",
    "from utils_train import *\n",
    "from configs import *\n",
    "import numpy as np\n",
    "import math\n",
    "from sklearn.preprocessing import LabelEncoder\n",
    "from sklearn.utils import shuffle\n",
    "from sklearn.model_selection import train_test_split\n",
    "from sklearn.metrics import confusion_matrix, balanced_accuracy_score, classification_report, make_scorer, log_loss\n",
    "from sklearn.preprocessing import LabelBinarizer\n",
    "from sklearn.model_selection import train_test_split\n",
    "from sklearn.utils import class_weight\n",
    "import os\n",
    "import pandas as pd\n",
    "import seaborn as sb\n",
    "import matplotlib.pyplot as plt\n",
    "from tensorflow.keras import regularizers\n",
    "from tensorflow.keras.layers import Input\n",
    "from tensorflow.keras import optimizers\n",
    "from tensorflow.keras.models import Model\n",
    "from tensorflow.keras.models import Sequential\n",
    "from tensorflow.keras.layers import Dense, Flatten, Dropout\n",
    "import seaborn as sb\n",
    "import deepdish as dd\n",
    "\n",
    "seed = 42\n",
    "np.random.seed(seed=seed)\n",
    "\n",
    "splitting = 'custom'\n",
    "data_setting = 'rawflt'\n",
    "model_setting = 'conv1d'\n",
    "nb_classes = 2\n",
    "# clean = True"
   ]
  },
  {
   "cell_type": "markdown",
   "metadata": {},
   "source": [
    "### data collecting"
   ]
  },
  {
   "cell_type": "code",
   "execution_count": 2,
   "metadata": {},
   "outputs": [],
   "source": [
    "train = pd.read_csv(f\"{TEMP_DATADIR}/df_train_{data_setting}_{model_setting}_{splitting}.csv\", index_col=False)\n",
    "X_train = train.x.tolist()\n",
    "y_train = train.y.tolist()"
   ]
  },
  {
   "cell_type": "code",
   "execution_count": 3,
   "metadata": {},
   "outputs": [],
   "source": [
    "val = pd.read_csv(f\"{TEMP_DATADIR}/df_val_{data_setting}_{model_setting}_{splitting}.csv\", index_col=False)\n",
    "X_val = val.x.tolist()\n",
    "y_val = val.y.tolist()"
   ]
  },
  {
   "cell_type": "code",
   "execution_count": 4,
   "metadata": {},
   "outputs": [],
   "source": [
    "test = pd.read_csv(f\"{TEMP_DATADIR}/df_test_{data_setting}_{model_setting}_{splitting}.csv\", index_col=False)\n",
    "X_test = test.x.tolist()\n",
    "y_test = test.y.tolist()"
   ]
  },
  {
   "cell_type": "code",
   "execution_count": 5,
   "metadata": {},
   "outputs": [
    {
     "name": "stdout",
     "output_type": "stream",
     "text": [
      "train: \n",
      "1    12377\n",
      "0     3658\n",
      "dtype: int64\n",
      "\n",
      "val: \n",
      "1    4124\n",
      "0    1221\n",
      "dtype: int64\n",
      "\n",
      "test: \n",
      "1    11457\n",
      "0     1157\n",
      "dtype: int64\n"
     ]
    }
   ],
   "source": [
    "print(f\"train: \\n{pd.Series(y_train).value_counts()}\\n\")\n",
    "print(f\"val: \\n{pd.Series(y_val).value_counts()}\\n\")\n",
    "print(f\"test: \\n{pd.Series(y_test).value_counts()}\")"
   ]
  },
  {
   "cell_type": "markdown",
   "metadata": {},
   "source": [
    "### training"
   ]
  },
  {
   "cell_type": "code",
   "execution_count": 6,
   "metadata": {},
   "outputs": [],
   "source": [
    "traincf = TrainConfiguration(nb_classes=nb_classes, setting=data_setting, model_name=f\"Flies_{data_setting}_{model_setting}_{splitting}\", monitor='val_accuracy')"
   ]
  },
  {
   "cell_type": "code",
   "execution_count": 7,
   "metadata": {},
   "outputs": [
    {
     "name": "stdout",
     "output_type": "stream",
     "text": [
      "############ INPUT SHAPE:(5000, 1)\n"
     ]
    }
   ],
   "source": [
    "modelconf = ModelConfiguration(model_setting=model_setting, data_setting=data_setting, nb_classes=nb_classes)\n",
    "model = modelconf.config\n",
    "model.compile(optimizer='adam', loss='categorical_crossentropy', metrics=['accuracy'])"
   ]
  },
  {
   "cell_type": "code",
   "execution_count": 8,
   "metadata": {},
   "outputs": [
    {
     "name": "stdout",
     "output_type": "stream",
     "text": [
      "{0: 2.191771459814106, 1: 0.6477740971156177}\n"
     ]
    }
   ],
   "source": [
    "from sklearn.utils import class_weight\n",
    "weights = class_weight.compute_class_weight('balanced', classes=np.unique(y_train), y=y_train)\n",
    "class_weights = {i : weights[i] for i in range(nb_classes)}\n",
    "print(class_weights)"
   ]
  },
  {
   "cell_type": "code",
   "execution_count": 9,
   "metadata": {},
   "outputs": [
    {
     "name": "stdout",
     "output_type": "stream",
     "text": [
      "Epoch 1/100\n",
      "502/502 [==============================] - ETA: 0s - loss: 0.3196 - accuracy: 0.8598\n",
      "Epoch 00001: val_accuracy improved from -inf to 0.77268, saving model to /home/kalfasyan/projects/wingbeat_frequencies/temp_data/Flies_rawflt_conv1d_custom.h5\n",
      "502/502 [==============================] - 44s 88ms/step - loss: 0.3196 - accuracy: 0.8598 - val_loss: 1.2154 - val_accuracy: 0.7727 - lr: 0.0010\n",
      "Epoch 2/100\n",
      "500/502 [============================>.] - ETA: 0s - loss: 0.2135 - accuracy: 0.9197\n",
      "Epoch 00002: val_accuracy did not improve from 0.77268\n",
      "502/502 [==============================] - 22s 43ms/step - loss: 0.2138 - accuracy: 0.9197 - val_loss: 4.9542 - val_accuracy: 0.2782 - lr: 0.0010\n",
      "Epoch 3/100\n",
      "501/502 [============================>.] - ETA: 0s - loss: 0.1668 - accuracy: 0.9404\n",
      "Epoch 00003: val_accuracy did not improve from 0.77268\n",
      "502/502 [==============================] - 22s 43ms/step - loss: 0.1668 - accuracy: 0.9404 - val_loss: 1.7614 - val_accuracy: 0.5371 - lr: 0.0010\n",
      "Epoch 4/100\n",
      "501/502 [============================>.] - ETA: 0s - loss: 0.1442 - accuracy: 0.9482\n",
      "Epoch 00004: val_accuracy improved from 0.77268 to 0.86978, saving model to /home/kalfasyan/projects/wingbeat_frequencies/temp_data/Flies_rawflt_conv1d_custom.h5\n",
      "502/502 [==============================] - 22s 44ms/step - loss: 0.1442 - accuracy: 0.9482 - val_loss: 0.4502 - val_accuracy: 0.8698 - lr: 0.0010\n",
      "Epoch 5/100\n",
      "501/502 [============================>.] - ETA: 0s - loss: 0.1246 - accuracy: 0.9573\n",
      "Epoch 00005: val_accuracy did not improve from 0.86978\n",
      "502/502 [==============================] - 22s 44ms/step - loss: 0.1246 - accuracy: 0.9573 - val_loss: 1.1379 - val_accuracy: 0.5317 - lr: 0.0010\n",
      "Epoch 6/100\n",
      "501/502 [============================>.] - ETA: 0s - loss: 0.1104 - accuracy: 0.9602\n",
      "Epoch 00006: val_accuracy improved from 0.86978 to 0.92760, saving model to /home/kalfasyan/projects/wingbeat_frequencies/temp_data/Flies_rawflt_conv1d_custom.h5\n",
      "502/502 [==============================] - 22s 44ms/step - loss: 0.1104 - accuracy: 0.9602 - val_loss: 0.3014 - val_accuracy: 0.9276 - lr: 0.0010\n",
      "Epoch 7/100\n",
      "501/502 [============================>.] - ETA: 0s - loss: 0.0919 - accuracy: 0.9666\n",
      "Epoch 00007: val_accuracy did not improve from 0.92760\n",
      "502/502 [==============================] - 22s 44ms/step - loss: 0.0918 - accuracy: 0.9666 - val_loss: 0.2691 - val_accuracy: 0.9020 - lr: 0.0010\n",
      "Epoch 8/100\n",
      "501/502 [============================>.] - ETA: 0s - loss: 0.0853 - accuracy: 0.9696\n",
      "Epoch 00008: val_accuracy did not improve from 0.92760\n",
      "502/502 [==============================] - 22s 43ms/step - loss: 0.0853 - accuracy: 0.9696 - val_loss: 0.2535 - val_accuracy: 0.9076 - lr: 0.0010\n",
      "Epoch 9/100\n",
      "501/502 [============================>.] - ETA: 0s - loss: 0.0747 - accuracy: 0.9731\n",
      "Epoch 00009: val_accuracy did not improve from 0.92760\n",
      "\n",
      "Epoch 00009: ReduceLROnPlateau reducing learning rate to 0.00010000000474974513.\n",
      "502/502 [==============================] - 22s 44ms/step - loss: 0.0747 - accuracy: 0.9731 - val_loss: 0.4486 - val_accuracy: 0.8223 - lr: 0.0010\n",
      "Epoch 10/100\n",
      "501/502 [============================>.] - ETA: 0s - loss: 0.0416 - accuracy: 0.9857\n",
      "Epoch 00010: val_accuracy improved from 0.92760 to 0.94256, saving model to /home/kalfasyan/projects/wingbeat_frequencies/temp_data/Flies_rawflt_conv1d_custom.h5\n",
      "502/502 [==============================] - 22s 44ms/step - loss: 0.0415 - accuracy: 0.9857 - val_loss: 0.1632 - val_accuracy: 0.9426 - lr: 1.0000e-04\n",
      "Epoch 11/100\n",
      "501/502 [============================>.] - ETA: 0s - loss: 0.0288 - accuracy: 0.9900\n",
      "Epoch 00011: val_accuracy improved from 0.94256 to 0.97175, saving model to /home/kalfasyan/projects/wingbeat_frequencies/temp_data/Flies_rawflt_conv1d_custom.h5\n",
      "502/502 [==============================] - 22s 44ms/step - loss: 0.0288 - accuracy: 0.9900 - val_loss: 0.0850 - val_accuracy: 0.9717 - lr: 1.0000e-04\n",
      "Epoch 12/100\n",
      "501/502 [============================>.] - ETA: 0s - loss: 0.0224 - accuracy: 0.9935\n",
      "Epoch 00012: val_accuracy did not improve from 0.97175\n",
      "502/502 [==============================] - 22s 44ms/step - loss: 0.0224 - accuracy: 0.9935 - val_loss: 0.0880 - val_accuracy: 0.9716 - lr: 1.0000e-04\n",
      "Epoch 13/100\n",
      "501/502 [============================>.] - ETA: 0s - loss: 0.0175 - accuracy: 0.9956\n",
      "Epoch 00013: val_accuracy improved from 0.97175 to 0.97418, saving model to /home/kalfasyan/projects/wingbeat_frequencies/temp_data/Flies_rawflt_conv1d_custom.h5\n",
      "502/502 [==============================] - 22s 44ms/step - loss: 0.0175 - accuracy: 0.9956 - val_loss: 0.0823 - val_accuracy: 0.9742 - lr: 1.0000e-04\n",
      "Epoch 14/100\n",
      "501/502 [============================>.] - ETA: 0s - loss: 0.0133 - accuracy: 0.9971\n",
      "Epoch 00014: val_accuracy did not improve from 0.97418\n",
      "502/502 [==============================] - 22s 44ms/step - loss: 0.0133 - accuracy: 0.9971 - val_loss: 0.0866 - val_accuracy: 0.9740 - lr: 1.0000e-04\n",
      "Epoch 15/100\n",
      "501/502 [============================>.] - ETA: 0s - loss: 0.0098 - accuracy: 0.9984\n",
      "Epoch 00015: val_accuracy did not improve from 0.97418\n",
      "502/502 [==============================] - 22s 44ms/step - loss: 0.0098 - accuracy: 0.9984 - val_loss: 0.1140 - val_accuracy: 0.9650 - lr: 1.0000e-04\n",
      "Epoch 16/100\n",
      "501/502 [============================>.] - ETA: 0s - loss: 0.0079 - accuracy: 0.9989\n",
      "Epoch 00016: val_accuracy did not improve from 0.97418\n",
      "\n",
      "Epoch 00016: ReduceLROnPlateau reducing learning rate to 1.0000000474974514e-05.\n",
      "502/502 [==============================] - 22s 44ms/step - loss: 0.0079 - accuracy: 0.9989 - val_loss: 0.3891 - val_accuracy: 0.8818 - lr: 1.0000e-04\n",
      "Epoch 17/100\n",
      "501/502 [============================>.] - ETA: 0s - loss: 0.0055 - accuracy: 0.9994\n",
      "Epoch 00017: val_accuracy improved from 0.97418 to 0.97456, saving model to /home/kalfasyan/projects/wingbeat_frequencies/temp_data/Flies_rawflt_conv1d_custom.h5\n",
      "502/502 [==============================] - 22s 44ms/step - loss: 0.0055 - accuracy: 0.9994 - val_loss: 0.0897 - val_accuracy: 0.9746 - lr: 1.0000e-05\n",
      "Epoch 18/100\n",
      "501/502 [============================>.] - ETA: 0s - loss: 0.0051 - accuracy: 0.9997\n",
      "Epoch 00018: val_accuracy improved from 0.97456 to 0.97493, saving model to /home/kalfasyan/projects/wingbeat_frequencies/temp_data/Flies_rawflt_conv1d_custom.h5\n",
      "502/502 [==============================] - 22s 44ms/step - loss: 0.0051 - accuracy: 0.9997 - val_loss: 0.0884 - val_accuracy: 0.9749 - lr: 1.0000e-05\n",
      "Epoch 19/100\n",
      "501/502 [============================>.] - ETA: 0s - loss: 0.0045 - accuracy: 0.9997\n",
      "Epoch 00019: val_accuracy improved from 0.97493 to 0.97512, saving model to /home/kalfasyan/projects/wingbeat_frequencies/temp_data/Flies_rawflt_conv1d_custom.h5\n",
      "502/502 [==============================] - 22s 45ms/step - loss: 0.0045 - accuracy: 0.9997 - val_loss: 0.0891 - val_accuracy: 0.9751 - lr: 1.0000e-05\n",
      "Epoch 20/100\n",
      "501/502 [============================>.] - ETA: 0s - loss: 0.0047 - accuracy: 0.9998\n",
      "Epoch 00020: val_accuracy did not improve from 0.97512\n",
      "502/502 [==============================] - 22s 44ms/step - loss: 0.0047 - accuracy: 0.9998 - val_loss: 0.0888 - val_accuracy: 0.9747 - lr: 1.0000e-05\n",
      "Epoch 21/100\n",
      "501/502 [============================>.] - ETA: 0s - loss: 0.0041 - accuracy: 0.9998\n",
      "Epoch 00021: val_accuracy did not improve from 0.97512\n",
      "502/502 [==============================] - 22s 44ms/step - loss: 0.0041 - accuracy: 0.9998 - val_loss: 0.0906 - val_accuracy: 0.9740 - lr: 1.0000e-05\n",
      "Epoch 22/100\n",
      "501/502 [============================>.] - ETA: 0s - loss: 0.0039 - accuracy: 0.9998\n",
      "Epoch 00022: val_accuracy did not improve from 0.97512\n",
      "\n",
      "Epoch 00022: ReduceLROnPlateau reducing learning rate to 1.0000000656873453e-06.\n",
      "502/502 [==============================] - 22s 44ms/step - loss: 0.0039 - accuracy: 0.9998 - val_loss: 0.0904 - val_accuracy: 0.9742 - lr: 1.0000e-05\n",
      "Epoch 23/100\n",
      "501/502 [============================>.] - ETA: 0s - loss: 0.0036 - accuracy: 0.9998\n",
      "Epoch 00023: val_accuracy did not improve from 0.97512\n",
      "502/502 [==============================] - 22s 44ms/step - loss: 0.0036 - accuracy: 0.9998 - val_loss: 0.0908 - val_accuracy: 0.9749 - lr: 1.0000e-06\n",
      "Epoch 24/100\n",
      "501/502 [============================>.] - ETA: 0s - loss: 0.0037 - accuracy: 0.9999\n",
      "Epoch 00024: val_accuracy did not improve from 0.97512\n",
      "502/502 [==============================] - 22s 44ms/step - loss: 0.0037 - accuracy: 0.9999 - val_loss: 0.0907 - val_accuracy: 0.9749 - lr: 1.0000e-06\n",
      "Epoch 25/100\n",
      "501/502 [============================>.] - ETA: 0s - loss: 0.0038 - accuracy: 0.9999\n",
      "Epoch 00025: val_accuracy did not improve from 0.97512\n",
      "\n",
      "Epoch 00025: ReduceLROnPlateau reducing learning rate to 1.0000001111620805e-07.\n",
      "502/502 [==============================] - 22s 44ms/step - loss: 0.0038 - accuracy: 0.9999 - val_loss: 0.0905 - val_accuracy: 0.9749 - lr: 1.0000e-06\n",
      "Epoch 26/100\n",
      "501/502 [============================>.] - ETA: 0s - loss: 0.0039 - accuracy: 0.9998\n",
      "Epoch 00026: val_accuracy did not improve from 0.97512\n",
      "502/502 [==============================] - 22s 44ms/step - loss: 0.0039 - accuracy: 0.9998 - val_loss: 0.0908 - val_accuracy: 0.9749 - lr: 1.0000e-07\n",
      "Epoch 00026: early stopping\n"
     ]
    }
   ],
   "source": [
    "h = model.fit(train_generator(X_train, y_train, \n",
    "                                    batch_size=traincf.batch_size,\n",
    "                                    target_names=np.unique(y_test).tolist(),\n",
    "                                    setting=traincf.setting,\n",
    "                                     preprocessing_train_stats=''),\n",
    "                    steps_per_epoch = int(math.ceil(float(len(X_train)) / float(traincf.batch_size))),\n",
    "                    epochs = traincf.epochs,\n",
    "                    validation_data = valid_generator(X_val, y_val,\n",
    "                                                        batch_size=traincf.batch_size,\n",
    "                                                        target_names=np.unique(y_test).tolist(),\n",
    "                                                        setting=traincf.setting,\n",
    "                                                         preprocessing_train_stats=''),\n",
    "                    validation_steps=int(math.ceil(float(len(X_val))/float(traincf.batch_size))),\n",
    "                    callbacks=traincf.callbacks_list,\n",
    "             class_weight=class_weights)"
   ]
  },
  {
   "cell_type": "code",
   "execution_count": 10,
   "metadata": {},
   "outputs": [
    {
     "name": "stdout",
     "output_type": "stream",
     "text": [
      "WARNING:tensorflow:From <ipython-input-10-f14ba622748d>:6: Model.predict_generator (from tensorflow.python.keras.engine.training) is deprecated and will be removed in a future version.\n",
      "Instructions for updating:\n",
      "Please use Model.predict, which supports generators.\n"
     ]
    }
   ],
   "source": [
    "pred = model.predict_generator(valid_generator(X_test, y_test,\n",
    "                                    batch_size=traincf.batch_size,\n",
    "                                    target_names=np.unique(y_test).tolist(),\n",
    "                                    setting=traincf.setting,\n",
    "                                  preprocessing_train_stats=''),\n",
    "                              steps=int(math.ceil(float(len(X_test))/float(traincf.batch_size))))"
   ]
  },
  {
   "cell_type": "code",
   "execution_count": 11,
   "metadata": {},
   "outputs": [
    {
     "data": {
      "text/plain": [
       "0.8902360402267726"
      ]
     },
     "execution_count": 11,
     "metadata": {},
     "output_type": "execute_result"
    }
   ],
   "source": [
    "from sklearn.metrics import balanced_accuracy_score, confusion_matrix\n",
    "\n",
    "balanced_accuracy_score(y_true=y_test, y_pred=np.argmax(pred, axis=1))"
   ]
  },
  {
   "cell_type": "code",
   "execution_count": 12,
   "metadata": {},
   "outputs": [
    {
     "data": {
      "text/plain": [
       "<matplotlib.axes._subplots.AxesSubplot at 0x7fceac197bd0>"
      ]
     },
     "execution_count": 12,
     "metadata": {},
     "output_type": "execute_result"
    },
    {
     "data": {
      "image/png": "[encoded data removed]",
      "text/plain": [
       "<Figure size 432x288 with 2 Axes>"
      ]
     },
     "metadata": {
      "needs_background": "light"
     },
     "output_type": "display_data"
    }
   ],
   "source": [
    "import seaborn as sns\n",
    "\n",
    "cm = confusion_matrix(y_true=y_test, y_pred=np.argmax(pred, axis=1))\n",
    "# cm = cm.astype(np.float) / cm.astype(np.float).sum(axis=0)\n",
    "\n",
    "sns.heatmap(cm, annot=True, fmt='g')"
   ]
  },
  {
   "cell_type": "markdown",
   "metadata": {},
   "source": [
    "#### 0=melanogaster, 1=suzukii, 2=zaprionus"
   ]
  },
  {
   "cell_type": "code",
   "execution_count": 13,
   "metadata": {},
   "outputs": [
    {
     "data": {
      "text/plain": [
       "1    11457\n",
       "0     1157\n",
       "dtype: int64"
      ]
     },
     "execution_count": 13,
     "metadata": {},
     "output_type": "execute_result"
    }
   ],
   "source": [
    "pd.Series(y_test).value_counts()"
   ]
  },
  {
   "cell_type": "code",
   "execution_count": 14,
   "metadata": {},
   "outputs": [],
   "source": [
    "y_pred = np.argmax(pred, axis=1)\n",
    "\n",
    "sub = pd.concat([pd.Series(y_test), pd.Series(X_test)], axis=1)\n",
    "sub['preds'] = y_pred\n",
    "sub.columns = ['labels','fnames','preds']\n",
    "sub['datestr'] = get_wingbeat_dates(sub.fnames)[2]"
   ]
  },
  {
   "cell_type": "code",
   "execution_count": null,
   "metadata": {},
   "outputs": [],
   "source": []
  },
  {
   "cell_type": "code",
   "execution_count": 15,
   "metadata": {},
   "outputs": [],
   "source": [
    "sub.to_csv(f'{TEMP_DATADIR}/df_{model_setting}_{data_setting}_{splitting}.csv', index=False)"
   ]
  },
  {
   "cell_type": "code",
   "execution_count": null,
   "metadata": {},
   "outputs": [],
   "source": []
  },
  {
   "cell_type": "markdown",
   "metadata": {},
   "source": [
    "### Loading MosquitoNet and removing its last 2 layers"
   ]
  },
  {
   "cell_type": "code",
   "execution_count": null,
   "metadata": {
    "scrolled": true
   },
   "outputs": [],
   "source": [
    "merged = False\n",
    "\n",
    "using_conv2d = False\n",
    "if merged:\n",
    "    # Merging the mosquito genuses together\n",
    "    y_train = pd.Series(y_train).replace({1:0, 3:2, 5:4}).replace({2:1, 4:2}).tolist()\n",
    "    y_val = pd.Series(y_val).replace({1:0, 3:2, 5:4}).replace({2:1, 4:2}).tolist()\n",
    "    y_test = pd.Series(y_test).replace({1:0, 3:2, 5:4}).replace({2:1, 4:2}).tolist()\n",
    "\n",
    "    # Defining model parameters\n",
    "    modelname = f\"FliesTL_{data_setting}_{model_setting}_{splitting}_merged{merged}\"\n",
    "    traincf = TrainConfiguration(nb_classes=3, setting=data_setting, model_name=modelname)\n",
    "    d.target_classes = ['Aedes','Anopheles','Culex']\n",
    "    traincf.target_names = np.unique(d.target_classes)\n",
    "    traincf.targets = len(traincf.target_names)    \n",
    "    model = ModelConfiguration(model_setting=model_setting, data_setting=data_setting, nb_classes=3).config\n",
    "else:\n",
    "    modelname = f\"FliesTL_{data_setting}_{model_setting}_{splitting}_merged{merged}\"\n",
    "    traincf = TrainConfiguration(nb_classes=6, setting=data_setting, model_name=modelname)\n",
    "    model = ModelConfiguration(model_setting=model_setting, data_setting=data_setting, nb_classes=6).config\n",
    "\n",
    "model.load_weights(TEMP_DATADIR+modelname+'.h5')\n",
    "model.compile(loss='categorical_crossentropy', optimizer='adam', metrics=['accuracy'])\n",
    "\n",
    "\n",
    "# NOT LOADING MODELS\n",
    "model.summary()\n",
    "\n",
    "if data_setting in ['raw', 'rawflt','psd','psdflt', 'psd_dB','psd_dBflt']:\n",
    "    # cut_mosquito_model is the model without its last dropout and softmax\n",
    "    cut_mosquito_model = Model(model.inputs, model.layers[-3].output)\n",
    "elif data_setting in ['stft','stftflt']:\n",
    "    cut_mosquito_model = Model(model.inputs, model.layers[-2].output)"
   ]
  },
  {
   "cell_type": "code",
   "execution_count": null,
   "metadata": {},
   "outputs": [],
   "source": [
    "input_shape=cut_mosquito_model.output_shape[1:]\n",
    "\n",
    "### Creating a shallow model to put on top of Mosquito model\n",
    "top_model = Sequential()\n",
    "top_model.add(Flatten(input_shape=input_shape))\n",
    "top_model.add(Dropout(0.5))\n",
    "top_model.add(Dense(3, activation='softmax'))\n",
    "top_model.compile(loss='categorical_crossentropy', optimizer='adam', metrics=['accuracy'])"
   ]
  },
  {
   "cell_type": "code",
   "execution_count": null,
   "metadata": {},
   "outputs": [],
   "source": [
    "Xf_xtracted_train = cut_mosquito_model.predict(valid_generator(X_train, \n",
    "                                                y_train, \n",
    "                                                batch_size=128, \n",
    "                                                setting=data_setting, \n",
    "                                                preprocessing_train_stats='',\n",
    "                                                target_names=np.unique(y_test).tolist()),\n",
    "                                            steps = int(math.ceil(float(len(X_train)) / float(128))))\n",
    "\n",
    "Xf_xtracted_val = cut_mosquito_model.predict(valid_generator(X_val, \n",
    "                                                y_val, \n",
    "                                                batch_size=128, \n",
    "                                                preprocessing_train_stats='',\n",
    "                                                setting=data_setting, \n",
    "                                                target_names=np.unique(y_test).tolist()),\n",
    "                                            steps = int(math.ceil(float(len(X_val)) / float(128))))    "
   ]
  },
  {
   "cell_type": "code",
   "execution_count": null,
   "metadata": {},
   "outputs": [],
   "source": [
    "from sklearn.utils import class_weight\n",
    "\n",
    "weights = class_weight.compute_class_weight('balanced', classes=np.unique(y_train), y=y_train)\n",
    "class_weights = {i : weights[i] for i in range(3)}\n",
    "\n",
    "### Training Shallow model for a few epochs\n",
    "traincf_flies = TrainConfiguration(nb_classes=3, setting='rawflt', monitor='val_accuracy', \n",
    "                                   model_name=f'top_model_flies', batch_size=32, epochs=10)"
   ]
  },
  {
   "cell_type": "code",
   "execution_count": null,
   "metadata": {},
   "outputs": [],
   "source": [
    "from tensorflow.keras.utils import to_categorical\n",
    "\n",
    "top_model.fit(Xf_xtracted_train, to_categorical(y_train, num_classes=3), \n",
    "              validation_data=(Xf_xtracted_val,to_categorical(y_val, num_classes=3)),\n",
    "              batch_size=traincf_flies.batch_size, \n",
    "              epochs=traincf_flies.epochs, \n",
    "              callbacks=traincf_flies.callbacks_list,\n",
    "             class_weight=class_weights,\n",
    "             verbose=1);"
   ]
  },
  {
   "cell_type": "code",
   "execution_count": null,
   "metadata": {},
   "outputs": [],
   "source": [
    "### Adding shallow model on top of the cut Mosquito model\n",
    "inputA = Input(cut_mosquito_model.input_shape[1:])\n",
    "outputA = cut_mosquito_model(inputA)\n",
    "outputB = top_model(outputA)\n",
    "modelC = Model(inputA, outputB)\n",
    "modelC.compile(loss='categorical_crossentropy',\n",
    "              optimizer='adam',#optimizers.SGD(lr=1e-3, momentum=0.9),\n",
    "              metrics=['accuracy'])\n",
    "### Training MosquitoNet+Shallow\n",
    "traincf_flies = TrainConfiguration(nb_classes=3, setting=data_setting, monitor='val_accuracy', model_name=f'whole_model_flies', batch_size=32)\n",
    "h = modelC.fit(train_generator(X_train, y_train, \n",
    "                                    batch_size=traincf_flies.batch_size,\n",
    "                                    target_names=np.unique(y_test).tolist(),\n",
    "                                    preprocessing_train_stats='',\n",
    "                                    setting=traincf_flies.setting),\n",
    "                    steps_per_epoch = int(math.ceil(float(len(X_train)) / float(traincf_flies.batch_size))),\n",
    "                    epochs = traincf_flies.epochs,\n",
    "                    validation_data = valid_generator(X_val, y_val,\n",
    "                                                        batch_size=traincf_flies.batch_size,\n",
    "                                                        target_names=np.unique(y_test).tolist(),\n",
    "                                                        preprocessing_train_stats='',\n",
    "                                                        setting=traincf_flies.setting),\n",
    "                    validation_steps=int(math.ceil(float(len(X_test))/float(traincf_flies.batch_size))),\n",
    "                    callbacks=traincf_flies.callbacks_list, \n",
    "                    class_weight=class_weights, \n",
    "                    verbose=1);\n",
    "\n",
    "yf_pred = modelC.predict(valid_generator(X_test, \n",
    "                        y_test, \n",
    "                        batch_size=128, \n",
    "                        setting=data_setting, \n",
    "                         preprocessing_train_stats='',\n",
    "                        target_names=np.unique(y_test).tolist()),\n",
    "                    steps = int(math.ceil(float(len(X_test)) / float(128))))"
   ]
  },
  {
   "cell_type": "code",
   "execution_count": null,
   "metadata": {},
   "outputs": [],
   "source": []
  },
  {
   "cell_type": "code",
   "execution_count": null,
   "metadata": {},
   "outputs": [],
   "source": [
    "balanced_accuracy_score(y_true=y_test, y_pred=np.argmax(yf_pred, axis=1))"
   ]
  },
  {
   "cell_type": "code",
   "execution_count": null,
   "metadata": {},
   "outputs": [],
   "source": []
  },
  {
   "cell_type": "code",
   "execution_count": null,
   "metadata": {},
   "outputs": [],
   "source": []
  },
  {
   "cell_type": "code",
   "execution_count": null,
   "metadata": {},
   "outputs": [],
   "source": []
  },
  {
   "cell_type": "code",
   "execution_count": null,
   "metadata": {},
   "outputs": [],
   "source": []
  },
  {
   "cell_type": "code",
   "execution_count": null,
   "metadata": {},
   "outputs": [],
   "source": []
  },
  {
   "cell_type": "code",
   "execution_count": null,
   "metadata": {},
   "outputs": [],
   "source": []
  }
 ],
 "metadata": {
  "kernelspec": {
   "display_name": "Python 3",
   "language": "python",
   "name": "python3"
  },
  "language_info": {
   "codemirror_mode": {
    "name": "ipython",
    "version": 3
   },
   "file_extension": ".py",
   "mimetype": "text/x-python",
   "name": "python",
   "nbconvert_exporter": "python",
   "pygments_lexer": "ipython3",
   "version": "3.7.9"
  }
 },
 "nbformat": 4,
 "nbformat_minor": 4
}
