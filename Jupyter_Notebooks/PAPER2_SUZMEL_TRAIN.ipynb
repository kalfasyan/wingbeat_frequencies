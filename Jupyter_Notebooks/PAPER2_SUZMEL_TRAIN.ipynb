{
 "cells": [
  {
   "cell_type": "code",
   "execution_count": 1,
   "metadata": {},
   "outputs": [],
   "source": [
    "%reset -f\n",
    "import sys\n",
    "sys.path.insert(0, \"..\")\n",
    "from wavhandler import Dataset\n",
    "import numpy as np\n",
    "import math\n",
    "from sklearn.preprocessing import LabelEncoder\n",
    "from sklearn.utils import shuffle\n",
    "from sklearn.model_selection import train_test_split\n",
    "from sklearn.metrics import confusion_matrix, balanced_accuracy_score, classification_report, make_scorer, log_loss\n",
    "from utils_train import *\n",
    "import deepdish as dd\n",
    "from configs import DatasetConfiguration\n",
    "import os\n",
    "import pandas as pd\n",
    "from sklearn.metrics import confusion_matrix\n",
    "import seaborn as sb\n",
    "import matplotlib.pyplot as plt\n",
    "from tensorflow.keras.models import Model\n",
    "\n",
    "seed = 42\n",
    "np.random.seed(seed=seed)\n",
    "\n",
    "splitting = 'custom'\n",
    "data_setting = 'rawflt'\n",
    "model_setting = 'conv1d'\n",
    "\n",
    "clean = True"
   ]
  },
  {
   "cell_type": "markdown",
   "metadata": {},
   "source": [
    "## Reading Flies data and splitting into Train/Val/Test"
   ]
  },
  {
   "cell_type": "code",
   "execution_count": null,
   "metadata": {},
   "outputs": [],
   "source": [
    "from tensorflow.keras.models import Sequential\n",
    "from tensorflow.keras.layers import Dense, Flatten, Dropout\n",
    "from sklearn.preprocessing import LabelBinarizer\n",
    "from sklearn.metrics import accuracy_score, balanced_accuracy_score, classification_report, confusion_matrix\n",
    "import seaborn as sb\n",
    "from tensorflow.keras.layers import Input\n",
    "from tensorflow.keras import optimizers\n",
    "from sklearn.model_selection import train_test_split\n",
    "from tensorflow.keras import regularizers\n",
    "from sklearn.utils import class_weight\n",
    "import deepdish as dd\n",
    "from wavhandler import *"
   ]
  },
  {
   "cell_type": "markdown",
   "metadata": {},
   "source": [
    "### data collecting"
   ]
  },
  {
   "cell_type": "code",
   "execution_count": null,
   "metadata": {},
   "outputs": [],
   "source": [
    "mebios = DatasetConfiguration(names=['Suzukii_RL'])\n",
    "mebios.select_all(); \n",
    "mebios.read();\n",
    "if clean:\n",
    "    mebios.clean();\n",
    "mebios.df.labels.value_counts()"
   ]
  },
  {
   "cell_type": "code",
   "execution_count": null,
   "metadata": {},
   "outputs": [],
   "source": [
    "rodr_tr,rodr_ts = train_test_filenames2(dataset='Rodrigo',species='D. melanogaster', clean=clean, plot=True, test_dates=['20200310','20200311','20200312', '20200313', '20200314', '20200315','20200316'])"
   ]
  },
  {
   "cell_type": "code",
   "execution_count": null,
   "metadata": {},
   "outputs": [],
   "source": [
    "rodsuz = DatasetConfiguration(names=['Rodrigo'])\n",
    "rodsuz.select(name='Rodrigo', species=['D. suzukii'])\n",
    "rodsuz.read()\n",
    "if clean:\n",
    "    rodsuz.clean()\n",
    "rodsuz.df.labels.value_counts()    "
   ]
  },
  {
   "cell_type": "code",
   "execution_count": null,
   "metadata": {},
   "outputs": [],
   "source": [
    "mebiosmel = DatasetConfiguration(names=['Melanogaster_RL'])\n",
    "mebiosmel.select(name='Melanogaster_RL', species=['W'])\n",
    "mebiosmel.read()\n",
    "if clean:\n",
    "    mebiosmel.clean()\n",
    "mebiosmel.df.labels = mebiosmel.df.labels.apply(lambda x: x.replace(\"W\", \"D. melanogaster\"))\n",
    "mebiosmel.df.labels.value_counts()"
   ]
  },
  {
   "cell_type": "code",
   "execution_count": 7,
   "metadata": {},
   "outputs": [
    {
     "name": "stdout",
     "output_type": "stream",
     "text": [
      "Dataset - LG - exists: True\n",
      "['20180925', '20180922', '20180923', '20180920', '20180921', '20180919', '20180924', '20180926']\n",
      "5379 train filenames, 1745 test filenames\n"
     ]
    },
    {
     "data": {
      "image/png": "[encoded data removed]",
      "text/plain": [
       "<Figure size 432x288 with 1 Axes>"
      ]
     },
     "metadata": {
      "needs_background": "light"
     },
     "output_type": "display_data"
    }
   ],
   "source": [
    "lg_tr, lg_ts = train_test_filenames2(dataset='LG',species='LG_zapr_26_09', clean=clean, plot=True, test_dates=['20180926', '20180925'])"
   ]
  },
  {
   "cell_type": "markdown",
   "metadata": {},
   "source": [
    "## train"
   ]
  },
  {
   "cell_type": "code",
   "execution_count": 8,
   "metadata": {},
   "outputs": [
    {
     "data": {
      "text/plain": [
       "D. suzukii         11457\n",
       "LG_zapr_26_09       5379\n",
       "D. melanogaster     3912\n",
       "Name: labels, dtype: int64"
      ]
     },
     "execution_count": 8,
     "metadata": {},
     "output_type": "execute_result"
    }
   ],
   "source": [
    "train_meb = mebios.df[mebios.df.labels.isin(['R'])]\n",
    "train = pd.concat([train_meb, rodr_tr, lg_tr])\n",
    "train.labels = train.labels.apply(lambda x: f'{x.replace(\"R\", \"D. suzukii\")}')\n",
    "train.labels.value_counts()"
   ]
  },
  {
   "cell_type": "markdown",
   "metadata": {},
   "source": [
    "## test"
   ]
  },
  {
   "cell_type": "code",
   "execution_count": 9,
   "metadata": {},
   "outputs": [
    {
     "name": "stderr",
     "output_type": "stream",
     "text": [
      "/home/kalfasyan/anaconda3/envs/wbtf/lib/python3.7/site-packages/pandas/core/generic.py:5303: SettingWithCopyWarning: \n",
      "A value is trying to be set on a copy of a slice from a DataFrame.\n",
      "Try using .loc[row_indexer,col_indexer] = value instead\n",
      "\n",
      "See the caveats in the documentation: https://pandas.pydata.org/pandas-docs/stable/user_guide/indexing.html#returning-a-view-versus-a-copy\n",
      "  self[name] = value\n"
     ]
    },
    {
     "data": {
      "text/plain": [
       "D. suzukii         17367\n",
       "LG_zapr_26_09       1745\n",
       "D. melanogaster     1443\n",
       "Name: labels, dtype: int64"
      ]
     },
     "execution_count": 9,
     "metadata": {},
     "output_type": "execute_result"
    }
   ],
   "source": [
    "test_meb = mebios.df[mebios.df.labels.isin(['L'])]\n",
    "test_meb.labels = test_meb.labels.apply(lambda x: x.replace(\"L\", \"D. suzukii\"))\n",
    "test = pd.concat([test_meb, rodr_ts, rodsuz.df,lg_ts, mebiosmel.df])\n",
    "test.labels.value_counts()"
   ]
  },
  {
   "cell_type": "markdown",
   "metadata": {},
   "source": [
    "### data splitting"
   ]
  },
  {
   "cell_type": "code",
   "execution_count": 10,
   "metadata": {},
   "outputs": [
    {
     "name": "stdout",
     "output_type": "stream",
     "text": [
      "train: \n",
      "D. suzukii         11457\n",
      "LG_zapr_26_09       5379\n",
      "D. melanogaster     3912\n",
      "dtype: int64\n",
      "\n",
      "test: \n",
      "D. suzukii         17367\n",
      "LG_zapr_26_09       1745\n",
      "D. melanogaster     1443\n",
      "dtype: int64\n"
     ]
    }
   ],
   "source": [
    "if splitting == 'random':\n",
    "    tmp = pd.concat([train, test])\n",
    "    X_train, X_test, y_train, y_test = train_test_split(tmp.fnames.tolist(), tmp.labels.tolist(), shuffle=True, random_state=42)\n",
    "elif splitting == 'custom':\n",
    "    X_train = train.fnames.tolist()\n",
    "    X_test = test.fnames.tolist()\n",
    "    y_train = train.labels.tolist()\n",
    "    y_test = test.labels.tolist()\n",
    "else:\n",
    "    raise ValueError('Wrong splitting method')\n",
    "    \n",
    "print(f\"train: \\n{pd.Series(y_train).value_counts()}\\n\")\n",
    "print(f\"test: \\n{pd.Series(y_test).value_counts()}\")"
   ]
  },
  {
   "cell_type": "code",
   "execution_count": 11,
   "metadata": {},
   "outputs": [
    {
     "data": {
      "text/plain": [
       "1    17367\n",
       "2     1745\n",
       "0     1443\n",
       "dtype: int64"
      ]
     },
     "execution_count": 11,
     "metadata": {},
     "output_type": "execute_result"
    }
   ],
   "source": [
    "le = LabelEncoder()\n",
    "y_train = le.fit_transform(y_train)\n",
    "y_test = le.transform(y_test)\n",
    "pd.Series(y_test).value_counts()"
   ]
  },
  {
   "cell_type": "markdown",
   "metadata": {},
   "source": [
    "### training"
   ]
  },
  {
   "cell_type": "code",
   "execution_count": 12,
   "metadata": {},
   "outputs": [],
   "source": [
    "traincf = TrainConfiguration(nb_classes=3, setting=data_setting, model_name=f\"Flies_{data_setting}_{model_setting}_{splitting}\", monitor='val_accuracy')"
   ]
  },
  {
   "cell_type": "code",
   "execution_count": 13,
   "metadata": {},
   "outputs": [
    {
     "name": "stdout",
     "output_type": "stream",
     "text": [
      "############ INPUT SHAPE:(5000, 1)\n"
     ]
    }
   ],
   "source": [
    "modelconf = ModelConfiguration(model_setting=model_setting, data_setting=data_setting, nb_classes=3)\n",
    "model = modelconf.config\n",
    "model.compile(optimizer='adam', loss='categorical_crossentropy', metrics=['accuracy'])"
   ]
  },
  {
   "cell_type": "code",
   "execution_count": 14,
   "metadata": {},
   "outputs": [],
   "source": [
    "X_train, X_val, y_train, y_val = train_test_split(X_train, y_train, random_state=42, shuffle=True)"
   ]
  },
  {
   "cell_type": "code",
   "execution_count": 15,
   "metadata": {},
   "outputs": [
    {
     "name": "stdout",
     "output_type": "stream",
     "text": [
      "Epoch 1/100\n",
      "487/487 [==============================] - ETA: 0s - loss: 0.2642 - accuracy: 0.8987\n",
      "Epoch 00001: val_accuracy improved from -inf to 0.24908, saving model to /home/kalfasyan/projects/wingbeat_frequencies/temp_data/Flies_rawflt_conv1d_custom.h5\n",
      "487/487 [==============================] - 90s 186ms/step - loss: 0.2642 - accuracy: 0.8987 - val_loss: 6.0700 - val_accuracy: 0.2491 - lr: 0.0010\n",
      "Epoch 2/100\n",
      "487/487 [==============================] - ETA: 0s - loss: 0.1615 - accuracy: 0.9425\n",
      "Epoch 00002: val_accuracy improved from 0.24908 to 0.85984, saving model to /home/kalfasyan/projects/wingbeat_frequencies/temp_data/Flies_rawflt_conv1d_custom.h5\n",
      "487/487 [==============================] - 21s 44ms/step - loss: 0.1615 - accuracy: 0.9425 - val_loss: 0.3384 - val_accuracy: 0.8598 - lr: 0.0010\n",
      "Epoch 3/100\n",
      "487/487 [==============================] - ETA: 0s - loss: 0.1332 - accuracy: 0.9528\n",
      "Epoch 00003: val_accuracy improved from 0.85984 to 0.92848, saving model to /home/kalfasyan/projects/wingbeat_frequencies/temp_data/Flies_rawflt_conv1d_custom.h5\n",
      "487/487 [==============================] - 21s 44ms/step - loss: 0.1332 - accuracy: 0.9528 - val_loss: 0.2012 - val_accuracy: 0.9285 - lr: 0.0010\n",
      "Epoch 4/100\n",
      "486/487 [============================>.] - ETA: 0s - loss: 0.1174 - accuracy: 0.9578\n",
      "Epoch 00004: val_accuracy improved from 0.92848 to 0.93156, saving model to /home/kalfasyan/projects/wingbeat_frequencies/temp_data/Flies_rawflt_conv1d_custom.h5\n",
      "487/487 [==============================] - 21s 44ms/step - loss: 0.1175 - accuracy: 0.9578 - val_loss: 0.1661 - val_accuracy: 0.9316 - lr: 0.0010\n",
      "Epoch 5/100\n",
      "487/487 [==============================] - ETA: 0s - loss: 0.1063 - accuracy: 0.9606\n",
      "Epoch 00005: val_accuracy improved from 0.93156 to 0.95277, saving model to /home/kalfasyan/projects/wingbeat_frequencies/temp_data/Flies_rawflt_conv1d_custom.h5\n",
      "487/487 [==============================] - 21s 44ms/step - loss: 0.1063 - accuracy: 0.9606 - val_loss: 0.1706 - val_accuracy: 0.9528 - lr: 0.0010\n",
      "Epoch 6/100\n",
      "487/487 [==============================] - ETA: 0s - loss: 0.0946 - accuracy: 0.9638\n",
      "Epoch 00006: val_accuracy did not improve from 0.95277\n",
      "487/487 [==============================] - 21s 44ms/step - loss: 0.0946 - accuracy: 0.9638 - val_loss: 0.4264 - val_accuracy: 0.8753 - lr: 0.0010\n",
      "Epoch 7/100\n",
      "487/487 [==============================] - ETA: 0s - loss: 0.0922 - accuracy: 0.9659\n",
      "Epoch 00007: val_accuracy did not improve from 0.95277\n",
      "487/487 [==============================] - 21s 44ms/step - loss: 0.0922 - accuracy: 0.9659 - val_loss: 0.1727 - val_accuracy: 0.9333 - lr: 0.0010\n",
      "Epoch 8/100\n",
      "487/487 [==============================] - ETA: 0s - loss: 0.0781 - accuracy: 0.9706\n",
      "Epoch 00008: val_accuracy did not improve from 0.95277\n",
      "\n",
      "Epoch 00008: ReduceLROnPlateau reducing learning rate to 0.00010000000474974513.\n",
      "487/487 [==============================] - 21s 43ms/step - loss: 0.0781 - accuracy: 0.9706 - val_loss: 0.1611 - val_accuracy: 0.9404 - lr: 0.0010\n",
      "Epoch 9/100\n",
      "486/487 [============================>.] - ETA: 0s - loss: 0.0548 - accuracy: 0.9795\n",
      "Epoch 00009: val_accuracy improved from 0.95277 to 0.97185, saving model to /home/kalfasyan/projects/wingbeat_frequencies/temp_data/Flies_rawflt_conv1d_custom.h5\n",
      "487/487 [==============================] - 21s 44ms/step - loss: 0.0548 - accuracy: 0.9795 - val_loss: 0.0758 - val_accuracy: 0.9719 - lr: 1.0000e-04\n",
      "Epoch 10/100\n",
      "487/487 [==============================] - ETA: 0s - loss: 0.0457 - accuracy: 0.9842\n",
      "Epoch 00010: val_accuracy did not improve from 0.97185\n",
      "487/487 [==============================] - 21s 44ms/step - loss: 0.0457 - accuracy: 0.9842 - val_loss: 0.0792 - val_accuracy: 0.9690 - lr: 1.0000e-04\n",
      "Epoch 11/100\n",
      "486/487 [============================>.] - ETA: 0s - loss: 0.0400 - accuracy: 0.9869\n",
      "Epoch 00011: val_accuracy did not improve from 0.97185\n",
      "487/487 [==============================] - 21s 43ms/step - loss: 0.0400 - accuracy: 0.9870 - val_loss: 0.0790 - val_accuracy: 0.9703 - lr: 1.0000e-04\n",
      "Epoch 12/100\n",
      "487/487 [==============================] - ETA: 0s - loss: 0.0337 - accuracy: 0.9894\n",
      "Epoch 00012: val_accuracy did not improve from 0.97185\n",
      "\n",
      "Epoch 00012: ReduceLROnPlateau reducing learning rate to 1.0000000474974514e-05.\n",
      "487/487 [==============================] - 20s 42ms/step - loss: 0.0337 - accuracy: 0.9894 - val_loss: 0.0882 - val_accuracy: 0.9676 - lr: 1.0000e-04\n",
      "Epoch 13/100\n",
      "487/487 [==============================] - ETA: 0s - loss: 0.0286 - accuracy: 0.9913\n",
      "Epoch 00013: val_accuracy improved from 0.97185 to 0.97494, saving model to /home/kalfasyan/projects/wingbeat_frequencies/temp_data/Flies_rawflt_conv1d_custom.h5\n",
      "487/487 [==============================] - 20s 42ms/step - loss: 0.0286 - accuracy: 0.9913 - val_loss: 0.0666 - val_accuracy: 0.9749 - lr: 1.0000e-05\n",
      "Epoch 14/100\n",
      "487/487 [==============================] - ETA: 0s - loss: 0.0275 - accuracy: 0.9922\n",
      "Epoch 00014: val_accuracy improved from 0.97494 to 0.97513, saving model to /home/kalfasyan/projects/wingbeat_frequencies/temp_data/Flies_rawflt_conv1d_custom.h5\n",
      "487/487 [==============================] - 20s 42ms/step - loss: 0.0275 - accuracy: 0.9922 - val_loss: 0.0676 - val_accuracy: 0.9751 - lr: 1.0000e-05\n",
      "Epoch 15/100\n",
      "485/487 [============================>.] - ETA: 0s - loss: 0.0264 - accuracy: 0.9927\n",
      "Epoch 00015: val_accuracy improved from 0.97513 to 0.97532, saving model to /home/kalfasyan/projects/wingbeat_frequencies/temp_data/Flies_rawflt_conv1d_custom.h5\n",
      "487/487 [==============================] - 21s 42ms/step - loss: 0.0264 - accuracy: 0.9927 - val_loss: 0.0675 - val_accuracy: 0.9753 - lr: 1.0000e-05\n",
      "Epoch 16/100\n",
      "485/487 [============================>.] - ETA: 0s - loss: 0.0257 - accuracy: 0.9932\n",
      "Epoch 00016: val_accuracy did not improve from 0.97532\n",
      "487/487 [==============================] - 20s 42ms/step - loss: 0.0257 - accuracy: 0.9933 - val_loss: 0.0683 - val_accuracy: 0.9751 - lr: 1.0000e-05\n",
      "Epoch 17/100\n",
      "485/487 [============================>.] - ETA: 0s - loss: 0.0252 - accuracy: 0.9934\n",
      "Epoch 00017: val_accuracy did not improve from 0.97532\n",
      "487/487 [==============================] - 20s 42ms/step - loss: 0.0252 - accuracy: 0.9934 - val_loss: 0.0694 - val_accuracy: 0.9749 - lr: 1.0000e-05\n",
      "Epoch 18/100\n",
      "487/487 [==============================] - ETA: 0s - loss: 0.0242 - accuracy: 0.9937\n",
      "Epoch 00018: val_accuracy did not improve from 0.97532\n",
      "\n",
      "Epoch 00018: ReduceLROnPlateau reducing learning rate to 1.0000000656873453e-06.\n",
      "487/487 [==============================] - 20s 42ms/step - loss: 0.0242 - accuracy: 0.9937 - val_loss: 0.0697 - val_accuracy: 0.9749 - lr: 1.0000e-05\n",
      "Epoch 19/100\n",
      "487/487 [==============================] - ETA: 0s - loss: 0.0236 - accuracy: 0.9936\n",
      "Epoch 00019: val_accuracy did not improve from 0.97532\n",
      "487/487 [==============================] - 20s 42ms/step - loss: 0.0236 - accuracy: 0.9936 - val_loss: 0.0685 - val_accuracy: 0.9749 - lr: 1.0000e-06\n",
      "Epoch 20/100\n",
      "487/487 [==============================] - ETA: 0s - loss: 0.0237 - accuracy: 0.9938\n",
      "Epoch 00020: val_accuracy did not improve from 0.97532\n",
      "487/487 [==============================] - 20s 42ms/step - loss: 0.0237 - accuracy: 0.9938 - val_loss: 0.0684 - val_accuracy: 0.9751 - lr: 1.0000e-06\n",
      "Epoch 21/100\n",
      "485/487 [============================>.] - ETA: 0s - loss: 0.0236 - accuracy: 0.9937\n",
      "Epoch 00021: val_accuracy did not improve from 0.97532\n",
      "\n",
      "Epoch 00021: ReduceLROnPlateau reducing learning rate to 1.0000001111620805e-07.\n",
      "487/487 [==============================] - 20s 42ms/step - loss: 0.0236 - accuracy: 0.9938 - val_loss: 0.0683 - val_accuracy: 0.9751 - lr: 1.0000e-06\n",
      "Epoch 22/100\n",
      "487/487 [==============================] - ETA: 0s - loss: 0.0235 - accuracy: 0.9936\n",
      "Epoch 00022: val_accuracy did not improve from 0.97532\n",
      "487/487 [==============================] - 20s 42ms/step - loss: 0.0235 - accuracy: 0.9936 - val_loss: 0.0683 - val_accuracy: 0.9751 - lr: 1.0000e-07\n",
      "Epoch 00022: early stopping\n"
     ]
    }
   ],
   "source": [
    "h = model.fit(train_generator(X_train, y_train, \n",
    "                                    batch_size=traincf.batch_size,\n",
    "                                    target_names=np.unique(y_test).tolist(),\n",
    "                                    setting=traincf.setting,\n",
    "                                     preprocessing_train_stats=''),\n",
    "                    steps_per_epoch = int(math.ceil(float(len(X_train)) / float(traincf.batch_size))),\n",
    "                    epochs = traincf.epochs,\n",
    "                    validation_data = valid_generator(X_val, y_val,\n",
    "                                                        batch_size=traincf.batch_size,\n",
    "                                                        target_names=np.unique(y_test).tolist(),\n",
    "                                                        setting=traincf.setting,\n",
    "                                                         preprocessing_train_stats=''),\n",
    "                    validation_steps=int(math.ceil(float(len(X_val))/float(traincf.batch_size))),\n",
    "                    callbacks=traincf.callbacks_list)"
   ]
  },
  {
   "cell_type": "code",
   "execution_count": 16,
   "metadata": {},
   "outputs": [
    {
     "name": "stdout",
     "output_type": "stream",
     "text": [
      "WARNING:tensorflow:From <ipython-input-16-f14ba622748d>:6: Model.predict_generator (from tensorflow.python.keras.engine.training) is deprecated and will be removed in a future version.\n",
      "Instructions for updating:\n",
      "Please use Model.predict, which supports generators.\n"
     ]
    }
   ],
   "source": [
    "pred = model.predict_generator(valid_generator(X_test, y_test,\n",
    "                                    batch_size=traincf.batch_size,\n",
    "                                    target_names=np.unique(y_test).tolist(),\n",
    "                                    setting=traincf.setting,\n",
    "                                  preprocessing_train_stats=''),\n",
    "                              steps=int(math.ceil(float(len(X_test))/float(traincf.batch_size))))"
   ]
  },
  {
   "cell_type": "code",
   "execution_count": 17,
   "metadata": {},
   "outputs": [
    {
     "data": {
      "text/plain": [
       "0.9236051231214472"
      ]
     },
     "execution_count": 17,
     "metadata": {},
     "output_type": "execute_result"
    }
   ],
   "source": [
    "from sklearn.metrics import balanced_accuracy_score, confusion_matrix\n",
    "\n",
    "balanced_accuracy_score(y_true=y_test, y_pred=np.argmax(pred, axis=1))"
   ]
  },
  {
   "cell_type": "code",
   "execution_count": 18,
   "metadata": {},
   "outputs": [
    {
     "data": {
      "text/plain": [
       "<matplotlib.axes._subplots.AxesSubplot at 0x7f51f0de49d0>"
      ]
     },
     "execution_count": 18,
     "metadata": {},
     "output_type": "execute_result"
    },
    {
     "data": {
      "image/png": "[encoded data removed]",
      "text/plain": [
       "<Figure size 432x288 with 2 Axes>"
      ]
     },
     "metadata": {
      "needs_background": "light"
     },
     "output_type": "display_data"
    }
   ],
   "source": [
    "import seaborn as sns\n",
    "\n",
    "cm = confusion_matrix(y_true=y_test, y_pred=np.argmax(pred, axis=1))\n",
    "cm = cm.astype(np.float) / cm.astype(np.float).sum(axis=1)\n",
    "\n",
    "sns.heatmap(cm, annot=True, fmt='.3g')"
   ]
  },
  {
   "cell_type": "markdown",
   "metadata": {},
   "source": [
    "#### 0=melanogaster, 1=suzukii, 2=zaprionus"
   ]
  },
  {
   "cell_type": "code",
   "execution_count": 19,
   "metadata": {},
   "outputs": [
    {
     "name": "stdout",
     "output_type": "stream",
     "text": [
      "{'D. melanogaster': 0, 'D. suzukii': 1, 'LG_zapr_26_09': 2}\n"
     ]
    },
    {
     "data": {
      "text/plain": [
       "1    17367\n",
       "2     1745\n",
       "0     1443\n",
       "dtype: int64"
      ]
     },
     "execution_count": 19,
     "metadata": {},
     "output_type": "execute_result"
    }
   ],
   "source": [
    "print(get_labelencoder_mapping(le))\n",
    "pd.Series(y_test).value_counts()"
   ]
  },
  {
   "cell_type": "code",
   "execution_count": 20,
   "metadata": {},
   "outputs": [],
   "source": [
    "y_pred = np.argmax(pred, axis=1)\n",
    "\n",
    "sub = pd.concat([pd.Series(y_test), pd.Series(X_test)], axis=1)\n",
    "sub['preds'] = y_pred\n",
    "sub.columns = ['labels','fnames','preds']\n",
    "sub['datestr'] = get_wingbeat_dates(sub.fnames)[2]"
   ]
  },
  {
   "cell_type": "code",
   "execution_count": 21,
   "metadata": {},
   "outputs": [],
   "source": [
    "sub.to_csv(f'{TEMP_DATADIR}/df_{model_setting}_{data_setting}_{splitting}.csv', index=False)"
   ]
  },
  {
   "cell_type": "code",
   "execution_count": null,
   "metadata": {},
   "outputs": [],
   "source": []
  },
  {
   "cell_type": "markdown",
   "metadata": {},
   "source": [
    "### Loading MosquitoNet and removing its last 2 layers"
   ]
  },
  {
   "cell_type": "code",
   "execution_count": null,
   "metadata": {
    "scrolled": true
   },
   "outputs": [],
   "source": [
    "merged = False\n",
    "\n",
    "using_conv2d = False\n",
    "if merged:\n",
    "    # Merging the mosquito genuses together\n",
    "    y_train = pd.Series(y_train).replace({1:0, 3:2, 5:4}).replace({2:1, 4:2}).tolist()\n",
    "    y_val = pd.Series(y_val).replace({1:0, 3:2, 5:4}).replace({2:1, 4:2}).tolist()\n",
    "    y_test = pd.Series(y_test).replace({1:0, 3:2, 5:4}).replace({2:1, 4:2}).tolist()\n",
    "\n",
    "    # Defining model parameters\n",
    "    modelname = f\"FliesTL_{data_setting}_{model_setting}_{splitting}_merged{merged}\"\n",
    "    traincf = TrainConfiguration(nb_classes=3, setting=data_setting, model_name=modelname)\n",
    "    d.target_classes = ['Aedes','Anopheles','Culex']\n",
    "    traincf.target_names = np.unique(d.target_classes)\n",
    "    traincf.targets = len(traincf.target_names)    \n",
    "    model = ModelConfiguration(model_setting=model_setting, data_setting=data_setting, nb_classes=3).config\n",
    "else:\n",
    "    modelname = f\"FliesTL_{data_setting}_{model_setting}_{splitting}_merged{merged}\"\n",
    "    traincf = TrainConfiguration(nb_classes=6, setting=data_setting, model_name=modelname)\n",
    "    model = ModelConfiguration(model_setting=model_setting, data_setting=data_setting, nb_classes=6).config\n",
    "\n",
    "model.load_weights(TEMP_DATADIR+modelname+'.h5')\n",
    "model.compile(loss='categorical_crossentropy', optimizer='adam', metrics=['accuracy'])\n",
    "\n",
    "\n",
    "# NOT LOADING MODELS\n",
    "model.summary()\n",
    "\n",
    "if data_setting in ['raw', 'rawflt','psd','psdflt', 'psd_dB','psd_dBflt']:\n",
    "    # cut_mosquito_model is the model without its last dropout and softmax\n",
    "    cut_mosquito_model = Model(model.inputs, model.layers[-3].output)\n",
    "elif data_setting in ['stft','stftflt']:\n",
    "    cut_mosquito_model = Model(model.inputs, model.layers[-2].output)"
   ]
  },
  {
   "cell_type": "code",
   "execution_count": null,
   "metadata": {},
   "outputs": [],
   "source": [
    "input_shape=cut_mosquito_model.output_shape[1:]\n",
    "\n",
    "### Creating a shallow model to put on top of Mosquito model\n",
    "top_model = Sequential()\n",
    "top_model.add(Flatten(input_shape=input_shape))\n",
    "top_model.add(Dropout(0.5))\n",
    "top_model.add(Dense(3, activation='softmax'))\n",
    "top_model.compile(loss='categorical_crossentropy', optimizer='adam', metrics=['accuracy'])"
   ]
  },
  {
   "cell_type": "code",
   "execution_count": null,
   "metadata": {},
   "outputs": [],
   "source": [
    "Xf_xtracted_train = cut_mosquito_model.predict(valid_generator(X_train, \n",
    "                                                y_train, \n",
    "                                                batch_size=128, \n",
    "                                                setting=data_setting, \n",
    "                                                preprocessing_train_stats='',\n",
    "                                                target_names=np.unique(y_test).tolist()),\n",
    "                                            steps = int(math.ceil(float(len(X_train)) / float(128))))\n",
    "\n",
    "Xf_xtracted_val = cut_mosquito_model.predict(valid_generator(X_val, \n",
    "                                                y_val, \n",
    "                                                batch_size=128, \n",
    "                                                preprocessing_train_stats='',\n",
    "                                                setting=data_setting, \n",
    "                                                target_names=np.unique(y_test).tolist()),\n",
    "                                            steps = int(math.ceil(float(len(X_val)) / float(128))))    "
   ]
  },
  {
   "cell_type": "code",
   "execution_count": null,
   "metadata": {},
   "outputs": [],
   "source": [
    "from sklearn.utils import class_weight\n",
    "\n",
    "weights = class_weight.compute_class_weight('balanced', classes=np.unique(y_train), y=y_train)\n",
    "class_weights = {i : weights[i] for i in range(3)}\n",
    "\n",
    "### Training Shallow model for a few epochs\n",
    "traincf_flies = TrainConfiguration(nb_classes=3, setting='rawflt', monitor='val_accuracy', \n",
    "                                   model_name=f'top_model_flies', batch_size=32, epochs=10)"
   ]
  },
  {
   "cell_type": "code",
   "execution_count": null,
   "metadata": {},
   "outputs": [],
   "source": [
    "from tensorflow.keras.utils import to_categorical\n",
    "\n",
    "top_model.fit(Xf_xtracted_train, to_categorical(y_train, num_classes=3), \n",
    "              validation_data=(Xf_xtracted_val,to_categorical(y_val, num_classes=3)),\n",
    "              batch_size=traincf_flies.batch_size, \n",
    "              epochs=traincf_flies.epochs, \n",
    "              callbacks=traincf_flies.callbacks_list,\n",
    "             class_weight=class_weights,\n",
    "             verbose=1);"
   ]
  },
  {
   "cell_type": "code",
   "execution_count": null,
   "metadata": {},
   "outputs": [],
   "source": [
    "### Adding shallow model on top of the cut Mosquito model\n",
    "inputA = Input(cut_mosquito_model.input_shape[1:])\n",
    "outputA = cut_mosquito_model(inputA)\n",
    "outputB = top_model(outputA)\n",
    "modelC = Model(inputA, outputB)\n",
    "modelC.compile(loss='categorical_crossentropy',\n",
    "              optimizer='adam',#optimizers.SGD(lr=1e-3, momentum=0.9),\n",
    "              metrics=['accuracy'])\n",
    "### Training MosquitoNet+Shallow\n",
    "traincf_flies = TrainConfiguration(nb_classes=3, setting=data_setting, monitor='val_accuracy', model_name=f'whole_model_flies', batch_size=32)\n",
    "h = modelC.fit(train_generator(X_train, y_train, \n",
    "                                    batch_size=traincf_flies.batch_size,\n",
    "                                    target_names=np.unique(y_test).tolist(),\n",
    "                                    preprocessing_train_stats='',\n",
    "                                    setting=traincf_flies.setting),\n",
    "                    steps_per_epoch = int(math.ceil(float(len(X_train)) / float(traincf_flies.batch_size))),\n",
    "                    epochs = traincf_flies.epochs,\n",
    "                    validation_data = valid_generator(X_val, y_val,\n",
    "                                                        batch_size=traincf_flies.batch_size,\n",
    "                                                        target_names=np.unique(y_test).tolist(),\n",
    "                                                        preprocessing_train_stats='',\n",
    "                                                        setting=traincf_flies.setting),\n",
    "                    validation_steps=int(math.ceil(float(len(X_test))/float(traincf_flies.batch_size))),\n",
    "                    callbacks=traincf_flies.callbacks_list, \n",
    "                    class_weight=class_weights, \n",
    "                    verbose=1);\n",
    "\n",
    "yf_pred = modelC.predict(valid_generator(X_test, \n",
    "                        y_test, \n",
    "                        batch_size=128, \n",
    "                        setting=data_setting, \n",
    "                         preprocessing_train_stats='',\n",
    "                        target_names=np.unique(y_test).tolist()),\n",
    "                    steps = int(math.ceil(float(len(X_test)) / float(128))))"
   ]
  },
  {
   "cell_type": "code",
   "execution_count": null,
   "metadata": {},
   "outputs": [],
   "source": []
  },
  {
   "cell_type": "code",
   "execution_count": 26,
   "metadata": {},
   "outputs": [
    {
     "data": {
      "text/plain": [
       "0.9469511247636517"
      ]
     },
     "execution_count": 26,
     "metadata": {},
     "output_type": "execute_result"
    }
   ],
   "source": [
    "balanced_accuracy_score(y_true=y_test, y_pred=np.argmax(yf_pred, axis=1))"
   ]
  },
  {
   "cell_type": "code",
   "execution_count": null,
   "metadata": {},
   "outputs": [],
   "source": []
  },
  {
   "cell_type": "code",
   "execution_count": null,
   "metadata": {},
   "outputs": [],
   "source": []
  },
  {
   "cell_type": "code",
   "execution_count": null,
   "metadata": {},
   "outputs": [],
   "source": []
  },
  {
   "cell_type": "code",
   "execution_count": null,
   "metadata": {},
   "outputs": [],
   "source": []
  },
  {
   "cell_type": "code",
   "execution_count": null,
   "metadata": {},
   "outputs": [],
   "source": []
  },
  {
   "cell_type": "code",
   "execution_count": null,
   "metadata": {},
   "outputs": [],
   "source": []
  }
 ],
 "metadata": {
  "kernelspec": {
   "display_name": "Python 3",
   "language": "python",
   "name": "python3"
  },
  "language_info": {
   "codemirror_mode": {
    "name": "ipython",
    "version": 3
   },
   "file_extension": ".py",
   "mimetype": "text/x-python",
   "name": "python",
   "nbconvert_exporter": "python",
   "pygments_lexer": "ipython3",
   "version": "3.7.7"
  }
 },
 "nbformat": 4,
 "nbformat_minor": 4
}
