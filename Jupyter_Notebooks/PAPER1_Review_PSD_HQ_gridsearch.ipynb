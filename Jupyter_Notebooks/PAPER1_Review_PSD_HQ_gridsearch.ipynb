{
 "cells": [
  {
   "cell_type": "code",
   "execution_count": null,
   "metadata": {},
   "outputs": [],
   "source": [
    "import sys\n",
    "sys.path.insert(0,'..')\n",
    "from wavhandler import *\n",
    "import numpy as np\n",
    "import pandas as pd\n",
    "import math\n",
    "import matplotlib.pyplot as plt\n",
    "from sklearn.preprocessing import LabelEncoder\n",
    "from sklearn.utils import shuffle\n",
    "from sklearn.model_selection import train_test_split\n",
    "from utils_train import train_test_val_split, TrainConfiguration, train_generator\n",
    "from utils_train import valid_generator,mosquito_data_split, train_model_ml\n",
    "import deepdish as dd\n",
    "from joblib import dump, load\n",
    "from sklearn.metrics import confusion_matrix, classification_report, balanced_accuracy_score, log_loss\n",
    "from sklearn.model_selection import cross_val_score\n",
    "seed = 42\n",
    "np.random.seed(seed=seed)"
   ]
  },
  {
   "cell_type": "code",
   "execution_count": null,
   "metadata": {},
   "outputs": [],
   "source": [
    "splitting = \"random\"\n",
    "data_setting = \"psdHQ\"\n",
    "model_setting = \"knn\"\n",
    "\n",
    "assert splitting in ['random','randomcv','custom'], \"Wrong splitting method given.\"\n",
    "assert data_setting in ['raw','psd_dB','psdHQ'], \"Wrong data settting given.\"\n",
    "assert model_setting in ['knn','randomforest','xgboost']\n",
    "\n",
    "data = Dataset('Wingbeats')\n",
    "print(data.target_classes)"
   ]
  },
  {
   "cell_type": "code",
   "execution_count": null,
   "metadata": {},
   "outputs": [],
   "source": [
    "print(f'SPLITTING DATA {splitting}')\n",
    "X_train, X_val, X_test, y_train, y_val, y_test = mosquito_data_split(splitting=splitting, dataset=data)"
   ]
  },
  {
   "cell_type": "code",
   "execution_count": null,
   "metadata": {},
   "outputs": [],
   "source": [
    "x_test = make_df_parallel(names=X_test, setting=data_setting).values"
   ]
  },
  {
   "cell_type": "markdown",
   "metadata": {},
   "source": [
    "## if \"RANDOM\""
   ]
  },
  {
   "cell_type": "code",
   "execution_count": null,
   "metadata": {
    "scrolled": true
   },
   "outputs": [],
   "source": [
    "results = {}\n",
    "X_train.extend(X_val)\n",
    "y_train.extend(y_val)\n",
    "x_train = make_df_parallel(names=X_train, setting=data_setting).values\n",
    "x_val = make_df_parallel(names=X_val, setting=data_setting).values"
   ]
  },
  {
   "cell_type": "code",
   "execution_count": null,
   "metadata": {},
   "outputs": [],
   "source": [
    "from sklearn.model_selection import GridSearchCV, cross_validate\n",
    "from sklearn.metrics import make_scorer\n",
    "from sklearn.neighbors import KNeighborsClassifier\n",
    "import multiprocessing\n",
    "n_cpus = multiprocessing.cpu_count()"
   ]
  },
  {
   "cell_type": "code",
   "execution_count": null,
   "metadata": {},
   "outputs": [],
   "source": [
    "estimator = KNeighborsClassifier(n_neighbors=11, weights='uniform',metric='manhattan', n_jobs=min(8,n_cpus))\n",
    "parameters = {'n_neighbors':('7','9','11','13','15','17'), 'weights':('uniform','distance'), 'metric': ('manhattan','euclidean')}"
   ]
  },
  {
   "cell_type": "code",
   "execution_count": null,
   "metadata": {},
   "outputs": [],
   "source": [
    "clf = GridSearchCV(estimator, parameters)"
   ]
  },
  {
   "cell_type": "code",
   "execution_count": null,
   "metadata": {},
   "outputs": [],
   "source": [
    "cvfolds = 5\n",
    "cv_results = cross_validate(estimator, x_train, y_train, cv=cvfolds, \n",
    "                            return_estimator=True, \n",
    "                            return_train_score=True, \n",
    "                            scoring=make_scorer(balanced_accuracy_score),\n",
    "                            verbose=1, \n",
    "                            n_jobs=min(8, n_cpus)) "
   ]
  },
  {
   "cell_type": "code",
   "execution_count": null,
   "metadata": {},
   "outputs": [],
   "source": []
  }
 ],
 "metadata": {
  "kernelspec": {
   "display_name": "Python 3.7.7 64-bit ('wbtf': conda)",
   "language": "python",
   "name": "python37764bitwbtfconda7452cad71d844540837907339fd3ac8f"
  },
  "language_info": {
   "codemirror_mode": {
    "name": "ipython",
    "version": 3
   },
   "file_extension": ".py",
   "mimetype": "text/x-python",
   "name": "python",
   "nbconvert_exporter": "python",
   "pygments_lexer": "ipython3",
   "version": "3.7.9"
  }
 },
 "nbformat": 4,
 "nbformat_minor": 4
}
