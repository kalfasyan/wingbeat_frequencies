{
 "cells": [
  {
   "cell_type": "code",
   "execution_count": 23,
   "metadata": {},
   "outputs": [],
   "source": [
    "%reset -f\n",
    "import sys\n",
    "sys.path.insert(0,'..')\n",
    "from utils import *\n",
    "from wavhandler import *\n",
    "import os\n",
    "import soundfile as sf\n",
    "import matplotlib.pyplot as plt\n",
    "from utils import np_hist, butter_highpass_filter"
   ]
  },
  {
   "cell_type": "code",
   "execution_count": 30,
   "metadata": {},
   "outputs": [
    {
     "name": "stdout",
     "output_type": "stream",
     "text": [
      "Data: Natural Light.\n",
      "Read 200 filenames in 0.11 seconds.\n"
     ]
    }
   ],
   "source": [
    "dataset = Dataset('Pcfruit')\n",
    "selection = 'Natural Light'\n",
    "setting = 'raw'\n",
    "\n",
    "savepath = '/home/kalfasyan/Desktop/Pcfruit_light_experiments/{}'.format(selection)\n",
    "if not os.path.isdir(savepath):\n",
    "    os.mkdir(savepath)\n",
    "subpath = savepath + '/{}/'.format(setting)\n",
    "if not os.path.isdir(subpath):\n",
    "    os.mkdir(subpath)\n",
    "\n",
    "dataset.read(data=selection, loadmat=False)"
   ]
  },
  {
   "cell_type": "code",
   "execution_count": 31,
   "metadata": {},
   "outputs": [
    {
     "name": "stdout",
     "output_type": "stream",
     "text": [
      "0\n",
      "1\n",
      "2\n",
      "3\n",
      "4\n",
      "5\n",
      "6\n",
      "7\n",
      "8\n",
      "9\n",
      "10\n",
      "11\n",
      "12\n",
      "13\n",
      "14\n",
      "15\n",
      "16\n",
      "17\n",
      "18\n",
      "19\n",
      "20\n",
      "21\n",
      "22\n",
      "23\n",
      "24\n",
      "25\n",
      "26\n",
      "27\n",
      "28\n",
      "29\n",
      "30\n",
      "31\n",
      "32\n",
      "33\n",
      "34\n",
      "35\n",
      "36\n",
      "37\n",
      "38\n",
      "39\n",
      "40\n",
      "41\n",
      "42\n",
      "43\n",
      "44\n",
      "45\n",
      "46\n",
      "47\n",
      "48\n",
      "49\n",
      "50\n",
      "51\n",
      "52\n",
      "53\n",
      "54\n",
      "55\n",
      "56\n",
      "57\n",
      "58\n",
      "59\n",
      "60\n",
      "61\n",
      "62\n",
      "63\n",
      "64\n",
      "65\n",
      "66\n",
      "67\n",
      "68\n",
      "69\n",
      "70\n",
      "71\n",
      "72\n",
      "73\n",
      "74\n",
      "75\n",
      "76\n",
      "77\n",
      "78\n",
      "79\n",
      "80\n",
      "81\n",
      "82\n",
      "83\n",
      "84\n",
      "85\n",
      "86\n",
      "87\n",
      "88\n",
      "89\n",
      "90\n",
      "91\n",
      "92\n",
      "93\n",
      "94\n",
      "95\n",
      "96\n",
      "97\n",
      "98\n",
      "99\n",
      "100\n",
      "101\n",
      "102\n",
      "103\n",
      "104\n",
      "105\n",
      "106\n",
      "107\n",
      "108\n",
      "109\n",
      "110\n",
      "111\n",
      "112\n",
      "113\n",
      "114\n",
      "115\n",
      "116\n",
      "117\n",
      "118\n",
      "119\n",
      "120\n",
      "121\n",
      "122\n",
      "123\n",
      "124\n",
      "125\n",
      "126\n",
      "127\n",
      "128\n",
      "129\n",
      "130\n",
      "131\n",
      "132\n",
      "133\n",
      "134\n",
      "135\n",
      "136\n",
      "137\n",
      "138\n",
      "139\n",
      "140\n",
      "141\n",
      "142\n",
      "143\n",
      "144\n",
      "145\n",
      "146\n",
      "147\n",
      "148\n",
      "149\n",
      "150\n",
      "151\n",
      "152\n",
      "153\n",
      "154\n",
      "155\n",
      "156\n",
      "157\n",
      "158\n",
      "159\n",
      "160\n",
      "161\n",
      "162\n",
      "163\n",
      "164\n",
      "165\n",
      "166\n",
      "167\n",
      "168\n",
      "169\n",
      "170\n",
      "171\n",
      "172\n",
      "173\n",
      "174\n",
      "175\n",
      "176\n",
      "177\n",
      "178\n",
      "179\n",
      "180\n",
      "181\n",
      "182\n",
      "183\n",
      "184\n",
      "185\n",
      "186\n",
      "187\n",
      "188\n",
      "189\n",
      "190\n",
      "191\n",
      "192\n",
      "193\n",
      "194\n",
      "195\n",
      "196\n",
      "197\n",
      "198\n",
      "199\n"
     ]
    }
   ],
   "source": [
    "# %matplotlib widget\n",
    "\n",
    "if setting == 'psd':\n",
    "    zL = dataset.make_array(setting=setting).iloc[:,:300]\n",
    "else:\n",
    "    zL = dataset.make_array(setting=setting)\n",
    "    \n",
    "plt.close('all')\n",
    "for i in range(zL.shape[0]):\n",
    "    print(i)\n",
    "    plt.figure(figsize=(24,14))\n",
    "    \n",
    "    if setting == 'raw':\n",
    "        plt.plot(zL.iloc[i].values)\n",
    "        plt.ylim(-.15,.15)\n",
    "    elif setting == 'psd':\n",
    "        ax = zL.iloc[i].plot()\n",
    "        ax.set_xlabel('Frequency (Hz)')\n",
    "    elif setting == 'spectrograms':\n",
    "        tmp = zL.iloc[i].values.reshape((129,120))\n",
    "        plt.imshow(tmp)\n",
    "        plt.ylabel = 'Frequency (Hz)'\n",
    "        plt.yticks([])\n",
    "        plt.xlabel = 'Time (0 - 0.625secs)'\n",
    "    else:\n",
    "        ax = zL.iloc[i].plot()\n",
    "        ax.set_xlabel('# samples')\n",
    "    plt.savefig(subpath+'{}_{}_{}.png'.format(selection,setting,i), format='png', bbox_inches = 'tight', pad_inches = 0)\n",
    "    plt.close()\n",
    "#     if i > 25:\n",
    "#         break"
   ]
  },
  {
   "cell_type": "code",
   "execution_count": 27,
   "metadata": {},
   "outputs": [],
   "source": [
    "dataset.get_sensor_features()"
   ]
  },
  {
   "cell_type": "code",
   "execution_count": 15,
   "metadata": {},
   "outputs": [
    {
     "data": {
      "text/plain": [
       "<pandas.core.groupby.generic.DataFrameGroupBy object at 0x7f727e6fc780>"
      ]
     },
     "execution_count": 15,
     "metadata": {},
     "output_type": "execute_result"
    }
   ],
   "source": [
    "dataset.df_features.groupby('datestr')"
   ]
  },
  {
   "cell_type": "code",
   "execution_count": null,
   "metadata": {},
   "outputs": [],
   "source": []
  },
  {
   "cell_type": "code",
   "execution_count": null,
   "metadata": {},
   "outputs": [],
   "source": []
  },
  {
   "cell_type": "code",
   "execution_count": null,
   "metadata": {},
   "outputs": [],
   "source": []
  },
  {
   "cell_type": "code",
   "execution_count": null,
   "metadata": {},
   "outputs": [],
   "source": []
  },
  {
   "cell_type": "code",
   "execution_count": null,
   "metadata": {},
   "outputs": [],
   "source": []
  },
  {
   "cell_type": "code",
   "execution_count": null,
   "metadata": {},
   "outputs": [],
   "source": []
  },
  {
   "cell_type": "code",
   "execution_count": 44,
   "metadata": {},
   "outputs": [
    {
     "data": {
      "application/vnd.jupyter.widget-view+json": {
       "model_id": "ff9224a4a8f24273bdf2fd2da44a70b2",
       "version_major": 2,
       "version_minor": 0
      },
      "text/plain": [
       "Canvas(toolbar=Toolbar(toolitems=[('Home', 'Reset original view', 'home', 'home'), ('Back', 'Back to previous …"
      ]
     },
     "metadata": {},
     "output_type": "display_data"
    }
   ],
   "source": [
    "plt.figure()\n",
    "dataset.plot_activity_times()"
   ]
  },
  {
   "cell_type": "code",
   "execution_count": 43,
   "metadata": {},
   "outputs": [
    {
     "name": "stdout",
     "output_type": "stream",
     "text": [
      "320\n"
     ]
    },
    {
     "data": {
      "application/vnd.jupyter.widget-view+json": {
       "model_id": "8d22dbdd85ed45deb4d7bd7561ece355",
       "version_major": 2,
       "version_minor": 0
      },
      "text/plain": [
       "Canvas(toolbar=Toolbar(toolitems=[('Home', 'Reset original view', 'home', 'home'), ('Back', 'Back to previous …"
      ]
     },
     "metadata": {},
     "output_type": "display_data"
    },
    {
     "data": {
      "application/vnd.jupyter.widget-view+json": {
       "model_id": "fc29f132c3864e6082df5351c91f65aa",
       "version_major": 2,
       "version_minor": 0
      },
      "text/plain": [
       "Canvas(toolbar=Toolbar(toolitems=[('Home', 'Reset original view', 'home', 'home'), ('Back', 'Back to previous …"
      ]
     },
     "metadata": {},
     "output_type": "display_data"
    },
    {
     "data": {
      "application/vnd.jupyter.widget-view+json": {
       "model_id": "59568fbb4011404c866f13fbcf91751b",
       "version_major": 2,
       "version_minor": 0
      },
      "text/plain": [
       "Canvas(toolbar=Toolbar(toolitems=[('Home', 'Reset original view', 'home', 'home'), ('Back', 'Back to previous …"
      ]
     },
     "metadata": {},
     "output_type": "display_data"
    },
    {
     "data": {
      "application/vnd.jupyter.widget-view+json": {
       "model_id": "e800adad38c744568c0005b1988677a7",
       "version_major": 2,
       "version_minor": 0
      },
      "text/plain": [
       "Canvas(toolbar=Toolbar(toolitems=[('Home', 'Reset original view', 'home', 'home'), ('Back', 'Back to previous …"
      ]
     },
     "metadata": {},
     "output_type": "display_data"
    },
    {
     "data": {
      "application/vnd.jupyter.widget-view+json": {
       "model_id": "70efffc91cc049858250db5208e9c5e2",
       "version_major": 2,
       "version_minor": 0
      },
      "text/plain": [
       "Canvas(toolbar=Toolbar(toolitems=[('Home', 'Reset original view', 'home', 'home'), ('Back', 'Back to previous …"
      ]
     },
     "metadata": {},
     "output_type": "display_data"
    }
   ],
   "source": [
    "%matplotlib widget\n",
    "\n",
    "save = False\n",
    "\n",
    "rdm = np.random.randint(0,raw.shape[0]) #7905 # 1495 # 9063 # 113 #106 # 148final\n",
    "print(rdm)\n",
    "\n",
    "point = 0\n",
    "point2 = -1\n",
    "\n",
    "sig = raw.iloc[rdm,point:point2].values\n",
    "sig_series = pd.Series(sig)\n",
    "filtered = butter_highpass_filter(sig, 180, fs=F_S, order=B_ORDER)\n",
    "\n",
    "# RAW WAVEFORM\n",
    "plt.figure(figsize=(20,15))\n",
    "plt.plot(sig)\n",
    "plt.ylim(-.15,.15)\n",
    "if save:\n",
    "    plt.savefig('/home/kalfasyan/Desktop/a_raw.eps', format='eps', bbox_inches = 'tight', pad_inches = 0)\n",
    "\n",
    "# ZOOMED RAW WAVEFORM\n",
    "plt.figure(figsize=(20,15))\n",
    "plt.plot(pd.Series(sig).iloc[1050:1450])\n",
    "plt.ylim(-.12,.10)\n",
    "if save:\n",
    "    plt.savefig('/home/kalfasyan/Desktop/a_zoom.eps', format='eps', bbox_inches = 'tight', pad_inches = 0)\n",
    "\n",
    "psd_dB_series = pd.Series(transform_data(sig))\n",
    "psd_dB_series.index = np.linspace(0,4096,129)\n",
    "\n",
    "# PSD_dB \n",
    "plt.figure()\n",
    "psd_dB_series.plot(figsize=(14,10), rot='vertical', grid=False)\n",
    "if save:\n",
    "    plt.savefig('/home/kalfasyan/Desktop/a_psd_dB.eps', format='eps', bbox_inches = 'tight', pad_inches = 0)\n",
    "\n",
    "# PSD_high quality\n",
    "plt.figure()\n",
    "z = power_spectral_density(data=raw.iloc[rdm,point:point2], noverlap=128+64, nperseg=256, nfft=8128)\n",
    "psd_series = z.pow_amp.iloc[:800]\n",
    "psd_series.index = z.frequency.iloc[:800]\n",
    "psd_series.plot(rot=90, figsize=(14,10), grid=False, xticks=np.arange(0,800,10.))\n",
    "if save:\n",
    "    plt.savefig('/home/kalfasyan/Desktop/a_psd_full.eps', format='eps', bbox_inches = 'tight', pad_inches = 0)\n",
    "\n",
    "# SPECTROGRAM\n",
    "plt.figure(figsize=(10,10))\n",
    "import librosa\n",
    "spect = librosa.stft(raw.iloc[rdm,point:point2].values, n_fft = N_FFT, hop_length = HOP_LEN)\n",
    "spect = librosa.amplitude_to_db(np.abs(spect))\n",
    "plt.imshow(spect, origin='lower')\n",
    "\n",
    "if save:\n",
    "    plt.savefig('/home/kalfasyan/Desktop/a_spec.eps', format='eps', bbox_inches = 'tight', pad_inches = 0)"
   ]
  },
  {
   "cell_type": "code",
   "execution_count": 30,
   "metadata": {},
   "outputs": [
    {
     "data": {
      "application/vnd.jupyter.widget-view+json": {
       "model_id": "",
       "version_major": 2,
       "version_minor": 0
      },
      "text/plain": [
       "Canvas(toolbar=Toolbar(toolitems=[('Home', 'Reset original view', 'home', 'home'), ('Back', 'Back to previous …"
      ]
     },
     "metadata": {},
     "output_type": "display_data"
    },
    {
     "data": {
      "text/plain": [
       "<matplotlib.image.AxesImage at 0x7ff786e4bba8>"
      ]
     },
     "execution_count": 30,
     "metadata": {},
     "output_type": "execute_result"
    }
   ],
   "source": [
    "plt.figure()\n",
    "spect = librosa.stft(raw.iloc[rdm,point:point2].values, n_fft = N_FFT, hop_length = HOP_LEN)\n",
    "spect = np.abs(spect)\n",
    "plt.imshow(spect, origin='lower')#, extent=[0,128,0,120])"
   ]
  },
  {
   "cell_type": "code",
   "execution_count": 50,
   "metadata": {},
   "outputs": [],
   "source": [
    "plt.close('all')"
   ]
  },
  {
   "cell_type": "code",
   "execution_count": null,
   "metadata": {},
   "outputs": [],
   "source": []
  }
 ],
 "metadata": {
  "file_extension": ".py",
  "kernelspec": {
   "display_name": "Python 3",
   "language": "python",
   "name": "python3"
  },
  "language_info": {
   "codemirror_mode": {
    "name": "ipython",
    "version": 3
   },
   "file_extension": ".py",
   "mimetype": "text/x-python",
   "name": "python",
   "nbconvert_exporter": "python",
   "pygments_lexer": "ipython3",
   "version": "3.6.7"
  },
  "mimetype": "text/x-python",
  "name": "python",
  "npconvert_exporter": "python",
  "pygments_lexer": "ipython3",
  "version": 3
 },
 "nbformat": 4,
 "nbformat_minor": 4
}
