{
 "cells": [
  {
   "cell_type": "code",
   "execution_count": 1,
   "metadata": {},
   "outputs": [
    {
     "name": "stderr",
     "output_type": "stream",
     "text": [
      "ERROR:root:Invalid alias: The name clear can't be aliased because it is another magic command.\n",
      "ERROR:root:Invalid alias: The name more can't be aliased because it is another magic command.\n",
      "ERROR:root:Invalid alias: The name less can't be aliased because it is another magic command.\n",
      "ERROR:root:Invalid alias: The name man can't be aliased because it is another magic command.\n"
     ]
    }
   ],
   "source": [
    "%reset -f\n",
    "import sys\n",
    "sys.path.insert(0,'..')\n",
    "# from utils import *\n",
    "from wavhandler import *\n",
    "# import os\n",
    "# import soundfile as sf\n",
    "import matplotlib.pyplot as plt\n",
    "# from sklearn.utils import shuffle\n",
    "# import xgboost\n",
    "# from sklearn.model_selection import train_test_split\n",
    "# from sklearn.metrics import accuracy_score\n",
    "# from imblearn.under_sampling import RandomUnderSampler\n",
    "from scipy.stats import spearmanr\n",
    "from scipy.spatial import distance\n",
    "# from utils import *\n",
    "\n",
    "import seaborn as sns\n",
    "import logging"
   ]
  },
  {
   "cell_type": "code",
   "execution_count": null,
   "metadata": {},
   "outputs": [],
   "source": [
    "dataset1 = Dataset('pcfruit')\n",
    "dataset1.target_classes = [i for i in dataset1.target_classes if \"D. suzukii\" in i.split('_')]\n",
    "dataset1.load(only_names=False, text_labels=True, nr_signals=np.inf);\n",
    "#X_trand1 = transform_data(dataset1.X, setting='psd_dB')\n",
    "\n",
    "dataset2 = Dataset('LG')\n",
    "dataset2.target_classes = [i for i in dataset2.target_classes if \"drosophila\" not in i.split('_')]\n",
    "dataset2.load(only_names=False, text_labels=True, nr_signals=np.inf);\n",
    "#X_trand2 = transform_data(dataset2.X, setting='psd_dB')\n",
    "\n",
    "print(np.unique(dataset1.target_classes))\n",
    "print(np.unique(dataset2.target_classes))"
   ]
  },
  {
   "cell_type": "code",
   "execution_count": null,
   "metadata": {},
   "outputs": [],
   "source": [
    "merged = merge_datasets_to_dict(vars(dataset1), vars(dataset2))#, namedtuple=True)"
   ]
  },
  {
   "cell_type": "code",
   "execution_count": null,
   "metadata": {},
   "outputs": [],
   "source": [
    "from sklearn.preprocessing import LabelEncoder\n",
    "le = LabelEncoder()\n",
    "merged['y'] = le.fit_transform(merged['y'])\n",
    "pd.Series(merged['y']).value_counts()"
   ]
  },
  {
   "cell_type": "code",
   "execution_count": null,
   "metadata": {},
   "outputs": [],
   "source": [
    "from utils_train import *\n",
    "make_classification_conv1d(merged['X'], merged['y'], model_name=\"testing_\")\n",
    "# make_classification_ml(merged['X'], merged['y'], clf_name='xgboost')"
   ]
  },
  {
   "cell_type": "markdown",
   "metadata": {},
   "source": [
    "### 2 example signals"
   ]
  },
  {
   "cell_type": "code",
   "execution_count": null,
   "metadata": {},
   "outputs": [],
   "source": [
    "\n",
    "X = dataset1.X\n",
    "\n",
    "it1 = X[np.random.randint(0,X.shape[0]),:]\n",
    "it2 = X[np.random.randint(0,X.shape[0]),:]\n",
    "\n",
    "plt.figure(figsize=(18,4))\n",
    "plt.subplot(1,2,1)\n",
    "plt.plot(it1)\n",
    "plt.subplot(1,2,2)\n",
    "plt.plot(it2)"
   ]
  },
  {
   "cell_type": "markdown",
   "metadata": {},
   "source": [
    "## Similarity Matrix"
   ]
  },
  {
   "cell_type": "code",
   "execution_count": null,
   "metadata": {},
   "outputs": [],
   "source": [
    "z = similarity_matrix(X, distance.correlation, plot=True, uptr=True)"
   ]
  },
  {
   "cell_type": "code",
   "execution_count": null,
   "metadata": {},
   "outputs": [],
   "source": [
    "tmp = dataset1.X[:120,:]\n",
    "D1 = similarity_matrix(tmp, distance.correlation, plot=True)"
   ]
  },
  {
   "cell_type": "code",
   "execution_count": null,
   "metadata": {},
   "outputs": [],
   "source": [
    "D2 = similarity_matrix(dataset2.X[:120,:], distance.correlation, plot=True)"
   ]
  },
  {
   "cell_type": "code",
   "execution_count": null,
   "metadata": {},
   "outputs": [],
   "source": [
    "%reset -f\n",
    "from utils_train import *\n",
    "from wavhandler import *\n",
    "dataset1 = Dataset('thomas')\n",
    "dataset1.load(only_names=False, text_labels=False, nr_signals=10);"
   ]
  },
  {
   "cell_type": "code",
   "execution_count": null,
   "metadata": {},
   "outputs": [],
   "source": [
    "XX = transform_data(dataset1.X)\n",
    "print(XX.shape)\n",
    "make_classification_ml(XX, dataset1.y)"
   ]
  },
  {
   "cell_type": "code",
   "execution_count": null,
   "metadata": {},
   "outputs": [],
   "source": [
    "make_classification_conv1d(dataset1.X, dataset1.y, model_name=\"testing_\")"
   ]
  },
  {
   "cell_type": "code",
   "execution_count": null,
   "metadata": {},
   "outputs": [],
   "source": [
    "make_classification_conv2d(dataset1.filenames, dataset1.y, model_name=\"test_\", setting='stft')"
   ]
  },
  {
   "cell_type": "code",
   "execution_count": null,
   "metadata": {},
   "outputs": [],
   "source": []
  }
 ],
 "metadata": {
  "kernelspec": {
   "display_name": "Python 3",
   "language": "python",
   "name": "python3"
  },
  "language_info": {
   "codemirror_mode": {
    "name": "ipython",
    "version": 3
   },
   "file_extension": ".py",
   "mimetype": "text/x-python",
   "name": "python",
   "nbconvert_exporter": "python",
   "pygments_lexer": "ipython3",
   "version": "3.7.3"
  }
 },
 "nbformat": 4,
 "nbformat_minor": 2
}
