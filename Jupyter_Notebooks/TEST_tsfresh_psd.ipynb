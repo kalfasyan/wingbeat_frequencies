{
 "cells": [
  {
   "cell_type": "code",
   "execution_count": 1,
   "metadata": {},
   "outputs": [],
   "source": [
    "%reset -f\n",
    "import glob, os, sys, io\n",
    "sys.path.insert(1, os.path.join(sys.path[0], '..'))\n",
    "import pandas as pd\n",
    "import numpy as np\n",
    "\n",
    "from wavhandler import *\n",
    "from utils import *\n",
    "import multiprocessing\n",
    "import matplotlib.pyplot as plt\n",
    "import seaborn as sn\n",
    "from sklearn.metrics import confusion_matrix\n",
    "sn.set()\n",
    "\n",
    "import logging\n",
    "logger = logging.getLogger()\n",
    "logger.propagate = False\n",
    "logger.setLevel(logging.ERROR)\n",
    "np.random.seed(0)"
   ]
  },
  {
   "cell_type": "code",
   "execution_count": 2,
   "metadata": {},
   "outputs": [],
   "source": [
    "df_mosquitos = pd.read_pickle('./data/mosquitos.pkl')"
   ]
  },
  {
   "cell_type": "markdown",
   "metadata": {},
   "source": [
    "# Creating dataframes that contain PSDs for each insect class"
   ]
  },
  {
   "cell_type": "code",
   "execution_count": 3,
   "metadata": {},
   "outputs": [],
   "source": [
    "sz = 10000\n",
    "df_an = make_df_parallel(df_mosquitos, setting='psd', insect_class='Anopheles', sample_size=sz).T\n",
    "df_an['label'] = 'an'\n",
    "df_ae = make_df_parallel(df_mosquitos, setting='psd',insect_class='Aedes', sample_size=sz).T\n",
    "df_ae['label'] = 'ae'\n",
    "df_cu = make_df_parallel(df_mosquitos, setting='psd',insect_class='Culex', sample_size=sz).T\n",
    "df_cu['label'] = 'cu'"
   ]
  },
  {
   "cell_type": "code",
   "execution_count": 4,
   "metadata": {},
   "outputs": [],
   "source": [
    "df_concat = pd.concat([df_ae, df_an, df_cu], axis=0, sort=False)\n",
    "df_concat.dropna(how='all', axis=1, inplace=True)\n",
    "df_concat.dropna(how='any', axis=0, inplace=True)\n",
    "df_concat.head()\n",
    "labelarray = df_concat.label.values\n",
    "#df_concat.drop('label', axis=1, inplace=True)"
   ]
  },
  {
   "cell_type": "code",
   "execution_count": 5,
   "metadata": {},
   "outputs": [],
   "source": [
    "df_an = tsfresh_transform(df_an.drop('label', axis=1).T)\n",
    "df_ae = tsfresh_transform(df_ae.drop('label', axis=1).T)\n",
    "df_cu = tsfresh_transform(df_cu.drop('label', axis=1).T)"
   ]
  },
  {
   "cell_type": "code",
   "execution_count": 6,
   "metadata": {},
   "outputs": [
    {
     "name": "stderr",
     "output_type": "stream",
     "text": [
      "Feature Extraction: 100%|██████████| 20/20 [08:09<00:00, 12.73s/it]\n",
      "Feature Extraction: 100%|██████████| 20/20 [11:12<00:00, 12.64s/it]\n",
      "Feature Extraction: 100%|██████████| 20/20 [10:20<00:00, 12.80s/it]\n"
     ]
    }
   ],
   "source": [
    "from tsfresh import extract_features\n",
    "features_an = extract_features(df_an, column_id='id', column_sort='time')\n",
    "#features_an['label'] = 'an'\n",
    "features_ae = extract_features(df_ae, column_id='id', column_sort='time')\n",
    "#features_ae['label'] = 'ae'\n",
    "features_cu = extract_features(df_cu, column_id='id', column_sort='time')\n",
    "#features_cu['label'] = 'cu'"
   ]
  },
  {
   "cell_type": "code",
   "execution_count": 7,
   "metadata": {},
   "outputs": [],
   "source": [
    "featurelist = [features_ae, \n",
    "                features_an, \n",
    "                features_cu]\n",
    "\n",
    "df = pd.concat(featurelist, axis=0)\n",
    "df.reset_index().drop('id',axis=1, inplace=True)"
   ]
  },
  {
   "cell_type": "code",
   "execution_count": 8,
   "metadata": {},
   "outputs": [],
   "source": [
    "DF = pd.DataFrame(np.concatenate((df.values, df_concat.values), axis=1)).drop(0,axis=1)"
   ]
  },
  {
   "cell_type": "code",
   "execution_count": 9,
   "metadata": {},
   "outputs": [
    {
     "name": "stdout",
     "output_type": "stream",
     "text": [
      "Name: XGBoost, ac: 0.853833\n"
     ]
    }
   ],
   "source": [
    "from sklearn.model_selection import train_test_split\n",
    "from sklearn.model_selection import cross_val_score\n",
    "import xgboost\n",
    "from sklearn.metrics import accuracy_score\n",
    "from sklearn.utils import shuffle\n",
    "\n",
    "X, y = shuffle(DF.values[:,:-1], DF.values[:,-1], random_state=3)\n",
    "#del df\n",
    "\n",
    "\"\"\"\n",
    "from imblearn.under_sampling import RandomUnderSampler\n",
    "ros = RandomUnderSampler(random_state=0)\n",
    "ros.fit(X,y)\n",
    "X, y = ros.fit_resample(X,y)\n",
    "print('After undersampling: \\n{}\\n'.format(pd.DataFrame(y).iloc[:,0].value_counts()))\n",
    "\"\"\"\n",
    "\n",
    "X_train, X_test, y_train, y_test = train_test_split(X, y, test_size=0.20, random_state=0)\n",
    "\n",
    "classifier = xgboost.XGBClassifier(n_estimators=650, learning_rate=0.2, n_jobs=-1)\n",
    "classifier.fit(X_train, y_train)\n",
    "\n",
    "y_pred = classifier.predict(X_test)\n",
    "ac = accuracy_score(y_test, y_pred)\n",
    "print(\"Name: %s, ac: %f\" % ('XGBoost', ac))"
   ]
  },
  {
   "cell_type": "code",
   "execution_count": 12,
   "metadata": {},
   "outputs": [
    {
     "data": {
      "text/html": [
       "<div>\n",
       "<style scoped>\n",
       "    .dataframe tbody tr th:only-of-type {\n",
       "        vertical-align: middle;\n",
       "    }\n",
       "\n",
       "    .dataframe tbody tr th {\n",
       "        vertical-align: top;\n",
       "    }\n",
       "\n",
       "    .dataframe thead th {\n",
       "        text-align: right;\n",
       "    }\n",
       "</style>\n",
       "<table border=\"1\" class=\"dataframe\">\n",
       "  <thead>\n",
       "    <tr style=\"text-align: right;\">\n",
       "      <th></th>\n",
       "      <th>0</th>\n",
       "    </tr>\n",
       "  </thead>\n",
       "  <tbody>\n",
       "    <tr>\n",
       "      <th>0</th>\n",
       "      <td>0.000301</td>\n",
       "    </tr>\n",
       "    <tr>\n",
       "      <th>1</th>\n",
       "      <td>0.000677</td>\n",
       "    </tr>\n",
       "    <tr>\n",
       "      <th>2</th>\n",
       "      <td>0.001730</td>\n",
       "    </tr>\n",
       "    <tr>\n",
       "      <th>3</th>\n",
       "      <td>0.001203</td>\n",
       "    </tr>\n",
       "    <tr>\n",
       "      <th>4</th>\n",
       "      <td>0.000752</td>\n",
       "    </tr>\n",
       "    <tr>\n",
       "      <th>5</th>\n",
       "      <td>0.000226</td>\n",
       "    </tr>\n",
       "    <tr>\n",
       "      <th>6</th>\n",
       "      <td>0.000451</td>\n",
       "    </tr>\n",
       "    <tr>\n",
       "      <th>7</th>\n",
       "      <td>0.000827</td>\n",
       "    </tr>\n",
       "    <tr>\n",
       "      <th>8</th>\n",
       "      <td>0.001128</td>\n",
       "    </tr>\n",
       "    <tr>\n",
       "      <th>9</th>\n",
       "      <td>0.002106</td>\n",
       "    </tr>\n",
       "  </tbody>\n",
       "</table>\n",
       "</div>"
      ],
      "text/plain": [
       "          0\n",
       "0  0.000301\n",
       "1  0.000677\n",
       "2  0.001730\n",
       "3  0.001203\n",
       "4  0.000752\n",
       "5  0.000226\n",
       "6  0.000451\n",
       "7  0.000827\n",
       "8  0.001128\n",
       "9  0.002106"
      ]
     },
     "execution_count": 12,
     "metadata": {},
     "output_type": "execute_result"
    }
   ],
   "source": [
    "feature_importances = pd.DataFrame(classifier.feature_importances_)\n",
    "#                                    index = df.columns)\n",
    "#                                    columns=['importance']).sort_values('importance', ascending=False)\n",
    "feature_importances.head(10)"
   ]
  },
  {
   "cell_type": "code",
   "execution_count": null,
   "metadata": {},
   "outputs": [],
   "source": []
  }
 ],
 "metadata": {
  "kernelspec": {
   "display_name": "Python 3",
   "language": "python",
   "name": "python3"
  },
  "language_info": {
   "codemirror_mode": {
    "name": "ipython",
    "version": 3
   },
   "file_extension": ".py",
   "mimetype": "text/x-python",
   "name": "python",
   "nbconvert_exporter": "python",
   "pygments_lexer": "ipython3",
   "version": "3.6.7"
  }
 },
 "nbformat": 4,
 "nbformat_minor": 2
}
