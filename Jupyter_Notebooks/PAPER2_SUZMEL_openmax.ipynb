{
 "cells": [
  {
   "cell_type": "code",
   "execution_count": null,
   "metadata": {},
   "outputs": [],
   "source": [
    "%reset -f\n",
    "import sys\n",
    "sys.path.insert(0, \"..\")\n",
    "from wavhandler import *\n",
    "from configs import DatasetConfiguration\n",
    "from utils_train import *\n",
    "from configs import *\n",
    "import numpy as np\n",
    "import math\n",
    "from sklearn.preprocessing import LabelEncoder\n",
    "from sklearn.utils import shuffle\n",
    "from sklearn.model_selection import train_test_split\n",
    "from sklearn.metrics import confusion_matrix, balanced_accuracy_score, classification_report, make_scorer, log_loss\n",
    "from sklearn.preprocessing import LabelBinarizer\n",
    "from sklearn.model_selection import train_test_split\n",
    "from sklearn.utils import class_weight\n",
    "import os\n",
    "import pandas as pd\n",
    "import matplotlib.pyplot as plt\n",
    "from tensorflow.keras import regularizers\n",
    "from tensorflow.keras.layers import Input\n",
    "from tensorflow.keras import optimizers\n",
    "from tensorflow.keras.models import Model\n",
    "from tensorflow.keras.models import Sequential\n",
    "from tensorflow.keras.layers import GlobalAveragePooling2D, Dropout, Dense, Flatten\n",
    "import seaborn as sb\n",
    "import deepdish as dd\n",
    "import seaborn as sns\n",
    "from utils_openmax import *\n",
    "\n",
    "seed = 42\n",
    "np.random.seed(seed=seed)\n",
    "\n",
    "\n",
    "data_setting = 'rawflt'\n",
    "nb_classes = 2\n",
    "splitting = 'custom'\n",
    "if data_setting.startswith('raw'):\n",
    "    model_setting = 'dl4tsc_inc'#'dl4tsc_inc'#'conv1d'\n",
    "else:\n",
    "    model_setting = 'DenseNet121'"
   ]
  },
  {
   "cell_type": "markdown",
   "metadata": {},
   "source": [
    "### data collecting"
   ]
  },
  {
   "cell_type": "code",
   "execution_count": 15,
   "metadata": {},
   "outputs": [
    {
     "name": "stdout",
     "output_type": "stream",
     "text": [
      "train: \n",
      "1    13636\n",
      "0     4172\n",
      "dtype: int64\n",
      "\n",
      "val: \n",
      "1    4542\n",
      "0    1394\n",
      "dtype: int64\n",
      "\n",
      "test: \n",
      "1    12337\n",
      "0     1950\n",
      "dtype: int64\n"
     ]
    }
   ],
   "source": [
    "train = pd.read_csv(f\"{TEMP_DATADIR}/df_train_{data_setting}_{splitting}.csv\", index_col=False)\n",
    "X_train = train.x.tolist()\n",
    "y_train = train.y.tolist()\n",
    "\n",
    "val = pd.read_csv(f\"{TEMP_DATADIR}/df_val_{data_setting}_{splitting}.csv\", index_col=False)\n",
    "X_val = val.x.tolist()\n",
    "y_val = val.y.tolist()\n",
    "\n",
    "test = pd.read_csv(f\"{TEMP_DATADIR}/df_test_{data_setting}_{splitting}.csv\", index_col=False)\n",
    "X_test = test.x.tolist()\n",
    "y_test = test.y.tolist()\n",
    "\n",
    "print(f\"train: \\n{pd.Series(y_train).value_counts()}\\n\")\n",
    "print(f\"val: \\n{pd.Series(y_val).value_counts()}\\n\")\n",
    "print(f\"test: \\n{pd.Series(y_test).value_counts()}\")"
   ]
  },
  {
   "cell_type": "code",
   "execution_count": 16,
   "metadata": {},
   "outputs": [],
   "source": [
    "from sklearn.model_selection import train_test_split\n",
    "X_test, X_calibopenmax, y_test, y_calibopenmax = train_test_split(X_test, y_test, test_size=0.15, shuffle=True, random_state=42)"
   ]
  },
  {
   "cell_type": "code",
   "execution_count": 7,
   "metadata": {},
   "outputs": [
    {
     "name": "stdout",
     "output_type": "stream",
     "text": [
      "Dataset - LG - exists: True\n"
     ]
    }
   ],
   "source": [
    "lg = DatasetConfiguration(names=['LG'])\n",
    "lg.select(name='LG', species=['LG_zapr_26_09'])\n",
    "lg.read()\n",
    "\n",
    "y_zap = lg.labels.apply(lambda x: 2).values\n",
    "X_zap = lg.fnames.tolist()\n",
    "\n",
    "# print(len(X_test), len(y_test))\n",
    "# X_test.extend(X_zap)\n",
    "# y_test.extend(y_zap)\n",
    "# print(len(X_test), len(y_test))"
   ]
  },
  {
   "cell_type": "markdown",
   "metadata": {},
   "source": [
    "## Loading model"
   ]
  },
  {
   "cell_type": "code",
   "execution_count": 17,
   "metadata": {},
   "outputs": [
    {
     "name": "stdout",
     "output_type": "stream",
     "text": [
      "############ INPUT SHAPE:(5000, 1)\n",
      "/home/kalfasyan/projects/wingbeat_frequencies/temp_data/\n",
      "WARNING:tensorflow:From /home/kalfasyan/anaconda3/envs/wbtf/lib/python3.7/site-packages/tensorflow/python/ops/init_ops.py:1251: calling VarianceScaling.__init__ (from tensorflow.python.ops.init_ops) with dtype is deprecated and will be removed in a future version.\n",
      "Instructions for updating:\n",
      "Call initializer instance with the dtype argument instead of passing it to the constructor\n",
      "Model name: /home/kalfasyan/projects/wingbeat_frequencies/temp_data//Flies_rawflt_dl4tsc_inc_custom.h5\n"
     ]
    }
   ],
   "source": [
    "splitting = 'custom'\n",
    "modelname = f'{TEMP_DATADIR}/Flies_{data_setting}_{model_setting}_{splitting}.h5'\n",
    "\n",
    "traincf = TrainConfiguration(nb_classes=nb_classes, setting=data_setting, model_name=modelname)\n",
    "model = ModelConfiguration(model_setting=model_setting, data_setting=data_setting, nb_classes=nb_classes).config\n",
    "print(f\"Model name: {modelname}\")\n",
    "model.load_weights(modelname)\n",
    "\n",
    "# model.compile(loss='categorical_crossentropy', optimizer='adam', metrics=['accuracy'])"
   ]
  },
  {
   "cell_type": "code",
   "execution_count": 18,
   "metadata": {},
   "outputs": [],
   "source": [
    "base_output = model.layers[-2].output\n",
    "# new_output = Dense(nb_classes, activation=\"softmax\")(base_output)\n",
    "newmodel = Model(inputs=model.inputs, outputs=base_output)\n",
    "newmodel.compile(loss='categorical_crossentropy', optimizer='adam', metrics=['accuracy'])"
   ]
  },
  {
   "cell_type": "code",
   "execution_count": 19,
   "metadata": {},
   "outputs": [],
   "source": [
    "if False:\n",
    "    pred = newmodel.predict(valid_generator(X_train, y_train,\n",
    "                                         batch_size=traincf.batch_size,\n",
    "                                         target_names=np.unique(y_test).tolist(),\n",
    "                                         setting=traincf.setting,\n",
    "                                         preprocessing_train_stats=''),\n",
    "                         steps=int(math.ceil(float(len(X_test))/float(traincf.batch_size))))\n",
    "    from utils_openmax import *\n",
    "    mavs, scores = compute_mavs_and_scores(pred, y_train, nb_classes=2)\n",
    "    dists = calc_dists(mavs,scores)\n",
    "    joblib.dump(scores, os.path.join(TEMP_DATADIR, \"train_scores.joblib\"))\n",
    "    joblib.dump(mavs, os.path.join(TEMP_DATADIR, \"mavs.joblib\"))\n",
    "    joblib.dump(dists, os.path.join(TEMP_DATADIR, \"dists.joblib\"))\n",
    "else:\n",
    "    import joblib\n",
    "    scores = joblib.load( os.path.join(TEMP_DATADIR, \"train_scores.joblib\"))\n",
    "    mavs = joblib.load( os.path.join(TEMP_DATADIR, \"mavs.joblib\"))\n",
    "    dists = joblib.load( os.path.join(TEMP_DATADIR, \"dists.joblib\"))"
   ]
  },
  {
   "cell_type": "code",
   "execution_count": 21,
   "metadata": {
    "scrolled": true
   },
   "outputs": [
    {
     "name": "stdout",
     "output_type": "stream",
     "text": [
      "\n",
      "Testing tailsize: 4,alpha: 1\n"
     ]
    },
    {
     "name": "stderr",
     "output_type": "stream",
     "text": [
      "/home/kalfasyan/anaconda3/envs/wbtf/lib/python3.7/site-packages/sklearn/metrics/_classification.py:1859: UserWarning: y_pred contains classes not in y_true\n",
      "  warnings.warn('y_pred contains classes not in y_true')\n"
     ]
    },
    {
     "name": "stdout",
     "output_type": "stream",
     "text": [
      "acc: 0.49, acc_openmax: 0.47\n",
      "F1 score: 0.48, Openmax score: 0.32\n",
      "\n",
      "Testing tailsize: 4,alpha: 2\n",
      "acc: 0.49, acc_openmax: 0.48\n",
      "F1 score: 0.48, Openmax score: 0.48\n",
      "\n",
      "Testing tailsize: 5,alpha: 1\n",
      "acc: 0.49, acc_openmax: 0.47\n",
      "F1 score: 0.48, Openmax score: 0.32\n",
      "\n",
      "Testing tailsize: 5,alpha: 2\n",
      "acc: 0.49, acc_openmax: 0.48\n",
      "F1 score: 0.48, Openmax score: 0.48\n",
      "\n",
      "Testing tailsize: 6,alpha: 1\n",
      "acc: 0.49, acc_openmax: 0.47\n",
      "F1 score: 0.48, Openmax score: 0.32\n",
      "\n",
      "Testing tailsize: 6,alpha: 2\n",
      "acc: 0.49, acc_openmax: 0.48\n",
      "F1 score: 0.48, Openmax score: 0.48\n",
      "\n",
      "Testing tailsize: 7,alpha: 1\n",
      "acc: 0.49, acc_openmax: 0.47\n",
      "F1 score: 0.48, Openmax score: 0.32\n",
      "\n",
      "Testing tailsize: 7,alpha: 2\n",
      "acc: 0.49, acc_openmax: 0.48\n",
      "F1 score: 0.48, Openmax score: 0.48\n",
      "\n",
      "Testing tailsize: 8,alpha: 1\n",
      "acc: 0.49, acc_openmax: 0.47\n",
      "F1 score: 0.48, Openmax score: 0.32\n",
      "\n",
      "Testing tailsize: 8,alpha: 2\n",
      "acc: 0.49, acc_openmax: 0.48\n",
      "F1 score: 0.48, Openmax score: 0.48\n",
      "\n",
      "Testing tailsize: 9,alpha: 1\n",
      "acc: 0.49, acc_openmax: 0.47\n",
      "F1 score: 0.48, Openmax score: 0.32\n",
      "\n",
      "Testing tailsize: 9,alpha: 2\n",
      "acc: 0.49, acc_openmax: 0.48\n",
      "F1 score: 0.48, Openmax score: 0.48\n",
      "\n",
      "Testing tailsize: 10,alpha: 1\n",
      "acc: 0.49, acc_openmax: 0.47\n",
      "F1 score: 0.48, Openmax score: 0.32\n",
      "\n",
      "Testing tailsize: 10,alpha: 2\n",
      "acc: 0.49, acc_openmax: 0.49\n",
      "F1 score: 0.48, Openmax score: 0.48\n",
      "\n",
      "Testing tailsize: 11,alpha: 1\n",
      "acc: 0.49, acc_openmax: 0.47\n",
      "F1 score: 0.48, Openmax score: 0.32\n",
      "\n",
      "Testing tailsize: 11,alpha: 2\n",
      "acc: 0.49, acc_openmax: 0.49\n",
      "F1 score: 0.48, Openmax score: 0.48\n",
      "\n",
      "Testing tailsize: 12,alpha: 1\n",
      "acc: 0.49, acc_openmax: 0.47\n",
      "F1 score: 0.48, Openmax score: 0.32\n",
      "\n",
      "Testing tailsize: 12,alpha: 2\n",
      "acc: 0.49, acc_openmax: 0.49\n",
      "F1 score: 0.48, Openmax score: 0.48\n",
      "\n",
      "Testing tailsize: 13,alpha: 1\n",
      "acc: 0.49, acc_openmax: 0.47\n",
      "F1 score: 0.48, Openmax score: 0.32\n",
      "\n",
      "Testing tailsize: 13,alpha: 2\n",
      "acc: 0.49, acc_openmax: 0.49\n",
      "F1 score: 0.48, Openmax score: 0.48\n",
      "\n",
      "Testing tailsize: 14,alpha: 1\n",
      "acc: 0.49, acc_openmax: 0.47\n",
      "F1 score: 0.48, Openmax score: 0.32\n",
      "\n",
      "Testing tailsize: 14,alpha: 2\n",
      "acc: 0.49, acc_openmax: 0.49\n",
      "F1 score: 0.48, Openmax score: 0.48\n",
      "\n",
      "Testing tailsize: 15,alpha: 1\n",
      "acc: 0.49, acc_openmax: 0.47\n",
      "F1 score: 0.48, Openmax score: 0.32\n",
      "\n",
      "Testing tailsize: 15,alpha: 2\n",
      "acc: 0.49, acc_openmax: 0.49\n",
      "F1 score: 0.48, Openmax score: 0.48\n",
      "\n",
      "Testing tailsize: 16,alpha: 1\n",
      "acc: 0.49, acc_openmax: 0.47\n",
      "F1 score: 0.48, Openmax score: 0.32\n",
      "\n",
      "Testing tailsize: 16,alpha: 2\n",
      "acc: 0.49, acc_openmax: 0.49\n",
      "F1 score: 0.48, Openmax score: 0.48\n",
      "\n",
      "Testing tailsize: 17,alpha: 1\n",
      "acc: 0.49, acc_openmax: 0.47\n",
      "F1 score: 0.48, Openmax score: 0.32\n",
      "\n",
      "Testing tailsize: 17,alpha: 2\n",
      "acc: 0.49, acc_openmax: 0.49\n",
      "F1 score: 0.48, Openmax score: 0.48\n",
      "\n",
      "Testing tailsize: 18,alpha: 1\n",
      "acc: 0.49, acc_openmax: 0.47\n",
      "F1 score: 0.48, Openmax score: 0.32\n",
      "\n",
      "Testing tailsize: 18,alpha: 2\n",
      "acc: 0.49, acc_openmax: 0.49\n",
      "F1 score: 0.48, Openmax score: 0.48\n",
      "\n",
      "Testing tailsize: 19,alpha: 1\n",
      "acc: 0.49, acc_openmax: 0.47\n",
      "F1 score: 0.48, Openmax score: 0.32\n",
      "\n",
      "Testing tailsize: 19,alpha: 2\n",
      "acc: 0.49, acc_openmax: 0.49\n",
      "F1 score: 0.48, Openmax score: 0.48\n",
      "\n",
      "Testing tailsize: 20,alpha: 1\n",
      "acc: 0.49, acc_openmax: 0.47\n",
      "F1 score: 0.48, Openmax score: 0.32\n",
      "\n",
      "Testing tailsize: 20,alpha: 2\n",
      "acc: 0.49, acc_openmax: 0.49\n",
      "F1 score: 0.48, Openmax score: 0.48\n",
      "\n",
      "Testing tailsize: 40,alpha: 1\n",
      "acc: 0.49, acc_openmax: 0.48\n",
      "F1 score: 0.48, Openmax score: 0.32\n",
      "\n",
      "Testing tailsize: 40,alpha: 2\n",
      "acc: 0.49, acc_openmax: 0.49\n",
      "F1 score: 0.48, Openmax score: 0.48\n",
      "\n",
      "Testing tailsize: 60,alpha: 1\n",
      "acc: 0.49, acc_openmax: 0.48\n",
      "F1 score: 0.48, Openmax score: 0.32\n",
      "\n",
      "Testing tailsize: 60,alpha: 2\n",
      "acc: 0.49, acc_openmax: 0.49\n",
      "F1 score: 0.48, Openmax score: 0.48\n",
      "\n",
      "Testing tailsize: 80,alpha: 1\n",
      "acc: 0.49, acc_openmax: 0.48\n",
      "F1 score: 0.48, Openmax score: 0.32\n",
      "\n",
      "Testing tailsize: 80,alpha: 2\n",
      "acc: 0.49, acc_openmax: 0.49\n",
      "F1 score: 0.48, Openmax score: 0.48\n",
      "\n",
      "Best params:\n",
      "tail best: 40, alpha_best: 2 f1_best: 0.4770769553669005\n"
     ]
    }
   ],
   "source": [
    "predval = newmodel.predict(valid_generator(X_calibopenmax, y_calibopenmax,\n",
    "                                     batch_size=traincf.batch_size,\n",
    "                                     target_names=np.unique(y_val).tolist(),\n",
    "                                     setting=traincf.setting,\n",
    "                                     preprocessing_train_stats=''),\n",
    "                     steps=int(math.ceil(float(len(X_calibopenmax))/float(traincf.batch_size))))\n",
    "scoresval = compute_test_or_val_scores(predval, y_calibopenmax, nb_classes=2)\n",
    "validate_openmax(mavs,dists,scoresval,np.array(y_calibopenmax),distance_type='eucos')"
   ]
  },
  {
   "cell_type": "markdown",
   "metadata": {},
   "source": [
    "## Testing openmax"
   ]
  },
  {
   "cell_type": "code",
   "execution_count": 22,
   "metadata": {},
   "outputs": [],
   "source": [
    "predtest = newmodel.predict(valid_generator(X_test, y_test,\n",
    "                                     batch_size=traincf.batch_size,\n",
    "                                     target_names=np.unique(y_test).tolist(),\n",
    "                                     setting=traincf.setting,\n",
    "                                     preprocessing_train_stats=''),\n",
    "                     steps=int(math.ceil(float(len(X_test))/float(traincf.batch_size))))"
   ]
  },
  {
   "cell_type": "code",
   "execution_count": 23,
   "metadata": {},
   "outputs": [],
   "source": [
    "scorestest = compute_test_or_val_scores(predtest, y_test, nb_classes=2)"
   ]
  },
  {
   "cell_type": "code",
   "execution_count": 24,
   "metadata": {
    "scrolled": true
   },
   "outputs": [],
   "source": [
    "prob_y, prob_openmax = compute_openmax(mavs, dists, scorestest, np.unique(y_test), 'eucos', eu_weight=5e-3, tail=40, alpha=2);"
   ]
  },
  {
   "cell_type": "code",
   "execution_count": 25,
   "metadata": {},
   "outputs": [
    {
     "data": {
      "text/plain": [
       "array([[4.21952800e-02, 9.15607344e-01, 4.21973762e-02],\n",
       "       [9.63803594e-01, 1.71805756e-02, 1.90158299e-02],\n",
       "       [9.98462240e-01, 6.92532927e-04, 8.45226855e-04],\n",
       "       ...,\n",
       "       [5.56353335e-01, 2.19004471e-01, 2.24642193e-01],\n",
       "       [2.58475491e-01, 4.83043557e-01, 2.58480952e-01],\n",
       "       [2.78842540e-02, 9.44229965e-01, 2.78857811e-02]])"
      ]
     },
     "execution_count": 25,
     "metadata": {},
     "output_type": "execute_result"
    }
   ],
   "source": [
    "np.array(prob_openmax)"
   ]
  },
  {
   "cell_type": "code",
   "execution_count": 32,
   "metadata": {},
   "outputs": [],
   "source": [
    "df_openmax = pd.DataFrame(prob_openmax).round(decimals=2)"
   ]
  },
  {
   "cell_type": "code",
   "execution_count": 33,
   "metadata": {},
   "outputs": [],
   "source": [
    "predopenmax = df_openmax.idxmax(axis=1).values"
   ]
  },
  {
   "cell_type": "code",
   "execution_count": 34,
   "metadata": {},
   "outputs": [
    {
     "data": {
      "text/html": [
       "<div>\n",
       "<style scoped>\n",
       "    .dataframe tbody tr th:only-of-type {\n",
       "        vertical-align: middle;\n",
       "    }\n",
       "\n",
       "    .dataframe tbody tr th {\n",
       "        vertical-align: top;\n",
       "    }\n",
       "\n",
       "    .dataframe thead th {\n",
       "        text-align: right;\n",
       "    }\n",
       "</style>\n",
       "<table border=\"1\" class=\"dataframe\">\n",
       "  <thead>\n",
       "    <tr style=\"text-align: right;\">\n",
       "      <th></th>\n",
       "      <th>0</th>\n",
       "      <th>1</th>\n",
       "      <th>2</th>\n",
       "    </tr>\n",
       "  </thead>\n",
       "  <tbody>\n",
       "    <tr>\n",
       "      <th>0</th>\n",
       "      <td>0.04</td>\n",
       "      <td>0.92</td>\n",
       "      <td>0.04</td>\n",
       "    </tr>\n",
       "    <tr>\n",
       "      <th>1</th>\n",
       "      <td>0.96</td>\n",
       "      <td>0.02</td>\n",
       "      <td>0.02</td>\n",
       "    </tr>\n",
       "    <tr>\n",
       "      <th>2</th>\n",
       "      <td>1.00</td>\n",
       "      <td>0.00</td>\n",
       "      <td>0.00</td>\n",
       "    </tr>\n",
       "    <tr>\n",
       "      <th>3</th>\n",
       "      <td>0.83</td>\n",
       "      <td>0.08</td>\n",
       "      <td>0.09</td>\n",
       "    </tr>\n",
       "    <tr>\n",
       "      <th>4</th>\n",
       "      <td>0.92</td>\n",
       "      <td>0.04</td>\n",
       "      <td>0.04</td>\n",
       "    </tr>\n",
       "    <tr>\n",
       "      <th>...</th>\n",
       "      <td>...</td>\n",
       "      <td>...</td>\n",
       "      <td>...</td>\n",
       "    </tr>\n",
       "    <tr>\n",
       "      <th>12138</th>\n",
       "      <td>0.00</td>\n",
       "      <td>1.00</td>\n",
       "      <td>0.00</td>\n",
       "    </tr>\n",
       "    <tr>\n",
       "      <th>12139</th>\n",
       "      <td>0.06</td>\n",
       "      <td>0.88</td>\n",
       "      <td>0.06</td>\n",
       "    </tr>\n",
       "    <tr>\n",
       "      <th>12140</th>\n",
       "      <td>0.56</td>\n",
       "      <td>0.22</td>\n",
       "      <td>0.22</td>\n",
       "    </tr>\n",
       "    <tr>\n",
       "      <th>12141</th>\n",
       "      <td>0.26</td>\n",
       "      <td>0.48</td>\n",
       "      <td>0.26</td>\n",
       "    </tr>\n",
       "    <tr>\n",
       "      <th>12142</th>\n",
       "      <td>0.03</td>\n",
       "      <td>0.94</td>\n",
       "      <td>0.03</td>\n",
       "    </tr>\n",
       "  </tbody>\n",
       "</table>\n",
       "<p>12143 rows × 3 columns</p>\n",
       "</div>"
      ],
      "text/plain": [
       "          0     1     2\n",
       "0      0.04  0.92  0.04\n",
       "1      0.96  0.02  0.02\n",
       "2      1.00  0.00  0.00\n",
       "3      0.83  0.08  0.09\n",
       "4      0.92  0.04  0.04\n",
       "...     ...   ...   ...\n",
       "12138  0.00  1.00  0.00\n",
       "12139  0.06  0.88  0.06\n",
       "12140  0.56  0.22  0.22\n",
       "12141  0.26  0.48  0.26\n",
       "12142  0.03  0.94  0.03\n",
       "\n",
       "[12143 rows x 3 columns]"
      ]
     },
     "execution_count": 34,
     "metadata": {},
     "output_type": "execute_result"
    }
   ],
   "source": [
    "df_openmax"
   ]
  },
  {
   "cell_type": "code",
   "execution_count": 73,
   "metadata": {},
   "outputs": [
    {
     "data": {
      "text/html": [
       "<div>\n",
       "<style scoped>\n",
       "    .dataframe tbody tr th:only-of-type {\n",
       "        vertical-align: middle;\n",
       "    }\n",
       "\n",
       "    .dataframe tbody tr th {\n",
       "        vertical-align: top;\n",
       "    }\n",
       "\n",
       "    .dataframe thead th {\n",
       "        text-align: right;\n",
       "    }\n",
       "</style>\n",
       "<table border=\"1\" class=\"dataframe\">\n",
       "  <thead>\n",
       "    <tr style=\"text-align: right;\">\n",
       "      <th></th>\n",
       "      <th>0</th>\n",
       "      <th>1</th>\n",
       "    </tr>\n",
       "  </thead>\n",
       "  <tbody>\n",
       "    <tr>\n",
       "      <th>0</th>\n",
       "      <td>0.13102</td>\n",
       "      <td>0.86898</td>\n",
       "    </tr>\n",
       "    <tr>\n",
       "      <th>1</th>\n",
       "      <td>0.95431</td>\n",
       "      <td>0.04569</td>\n",
       "    </tr>\n",
       "    <tr>\n",
       "      <th>2</th>\n",
       "      <td>0.95561</td>\n",
       "      <td>0.04439</td>\n",
       "    </tr>\n",
       "    <tr>\n",
       "      <th>3</th>\n",
       "      <td>0.00040</td>\n",
       "      <td>0.99960</td>\n",
       "    </tr>\n",
       "    <tr>\n",
       "      <th>4</th>\n",
       "      <td>0.02279</td>\n",
       "      <td>0.97721</td>\n",
       "    </tr>\n",
       "    <tr>\n",
       "      <th>...</th>\n",
       "      <td>...</td>\n",
       "      <td>...</td>\n",
       "    </tr>\n",
       "    <tr>\n",
       "      <th>14282</th>\n",
       "      <td>0.38251</td>\n",
       "      <td>0.61749</td>\n",
       "    </tr>\n",
       "    <tr>\n",
       "      <th>14283</th>\n",
       "      <td>0.99972</td>\n",
       "      <td>0.00028</td>\n",
       "    </tr>\n",
       "    <tr>\n",
       "      <th>14284</th>\n",
       "      <td>0.71711</td>\n",
       "      <td>0.28289</td>\n",
       "    </tr>\n",
       "    <tr>\n",
       "      <th>14285</th>\n",
       "      <td>0.06285</td>\n",
       "      <td>0.93715</td>\n",
       "    </tr>\n",
       "    <tr>\n",
       "      <th>14286</th>\n",
       "      <td>0.63217</td>\n",
       "      <td>0.36783</td>\n",
       "    </tr>\n",
       "  </tbody>\n",
       "</table>\n",
       "<p>14287 rows × 2 columns</p>\n",
       "</div>"
      ],
      "text/plain": [
       "             0        1\n",
       "0      0.13102  0.86898\n",
       "1      0.95431  0.04569\n",
       "2      0.95561  0.04439\n",
       "3      0.00040  0.99960\n",
       "4      0.02279  0.97721\n",
       "...        ...      ...\n",
       "14282  0.38251  0.61749\n",
       "14283  0.99972  0.00028\n",
       "14284  0.71711  0.28289\n",
       "14285  0.06285  0.93715\n",
       "14286  0.63217  0.36783\n",
       "\n",
       "[14287 rows x 2 columns]"
      ]
     },
     "execution_count": 73,
     "metadata": {},
     "output_type": "execute_result"
    }
   ],
   "source": [
    "pd.DataFrame(softmax(predtest, axis=1)).round(decimals=5)"
   ]
  },
  {
   "cell_type": "code",
   "execution_count": 29,
   "metadata": {},
   "outputs": [],
   "source": [
    "from scipy.special import softmax"
   ]
  },
  {
   "cell_type": "code",
   "execution_count": null,
   "metadata": {},
   "outputs": [],
   "source": []
  },
  {
   "cell_type": "code",
   "execution_count": null,
   "metadata": {},
   "outputs": [],
   "source": []
  },
  {
   "cell_type": "code",
   "execution_count": null,
   "metadata": {},
   "outputs": [],
   "source": []
  },
  {
   "cell_type": "code",
   "execution_count": 30,
   "metadata": {},
   "outputs": [
    {
     "data": {
      "text/plain": [
       "0.8535876727199883"
      ]
     },
     "execution_count": 30,
     "metadata": {},
     "output_type": "execute_result"
    }
   ],
   "source": [
    "balanced_accuracy_score(y_true=y_test, y_pred=np.argmax(softmax(predtest, axis=1), axis=1))"
   ]
  },
  {
   "cell_type": "code",
   "execution_count": 35,
   "metadata": {},
   "outputs": [
    {
     "name": "stderr",
     "output_type": "stream",
     "text": [
      "/home/kalfasyan/anaconda3/envs/wbtf/lib/python3.7/site-packages/sklearn/metrics/_classification.py:1859: UserWarning: y_pred contains classes not in y_true\n",
      "  warnings.warn('y_pred contains classes not in y_true')\n"
     ]
    },
    {
     "data": {
      "text/plain": [
       "0.5048591142867358"
      ]
     },
     "execution_count": 35,
     "metadata": {},
     "output_type": "execute_result"
    }
   ],
   "source": [
    "balanced_accuracy_score(y_true=y_test, y_pred=predopenmax)"
   ]
  },
  {
   "cell_type": "code",
   "execution_count": 99,
   "metadata": {},
   "outputs": [],
   "source": [
    "# df_openmax['labels'] = y_test"
   ]
  },
  {
   "cell_type": "code",
   "execution_count": 102,
   "metadata": {},
   "outputs": [
    {
     "data": {
      "text/plain": [
       "<matplotlib.axes._subplots.AxesSubplot at 0x7f6ef5c153d0>"
      ]
     },
     "execution_count": 102,
     "metadata": {},
     "output_type": "execute_result"
    },
    {
     "data": {
      "image/png": "[encoded data removed]",
      "text/plain": [
       "<Figure size 432x288 with 1 Axes>"
      ]
     },
     "metadata": {
      "needs_background": "light"
     },
     "output_type": "display_data"
    }
   ],
   "source": [
    "df_openmax.iloc[:,:-1].boxplot(showfliers=False)"
   ]
  },
  {
   "cell_type": "code",
   "execution_count": 98,
   "metadata": {},
   "outputs": [
    {
     "data": {
      "text/plain": [
       "<matplotlib.axes._subplots.AxesSubplot at 0x7f6ef5c7bc90>"
      ]
     },
     "execution_count": 98,
     "metadata": {},
     "output_type": "execute_result"
    },
    {
     "data": {
      "image/png": "[encoded data removed]",
      "text/plain": [
       "<Figure size 432x288 with 1 Axes>"
      ]
     },
     "metadata": {
      "needs_background": "light"
     },
     "output_type": "display_data"
    }
   ],
   "source": [
    "df_openmax.boxplot(showfliers=False)"
   ]
  },
  {
   "cell_type": "code",
   "execution_count": null,
   "metadata": {},
   "outputs": [],
   "source": []
  },
  {
   "cell_type": "code",
   "execution_count": null,
   "metadata": {},
   "outputs": [],
   "source": [
    "# custom 0\n",
    "plt.figure(figsize=(28,16))\n",
    "import umap\n",
    "import umap.plot\n",
    "\n",
    "mapper = umap.UMAP(random_state=seed).fit(np.array(prob_openmax))\n",
    "umap.plot.points(mapper, labels=np.array(y_test))\n",
    "# plt.savefig(f'{TEMP_DATADIR}/umap_{splitting}_{cust}_{layer_name}.eps', format='eps', bbox_inches = 'tight', pad_inches = 0)"
   ]
  },
  {
   "cell_type": "code",
   "execution_count": null,
   "metadata": {},
   "outputs": [],
   "source": []
  }
 ],
 "metadata": {
  "kernelspec": {
   "display_name": "Python 3.7.7 64-bit ('wbtf': conda)",
   "language": "python",
   "name": "python37764bitwbtfconda7452cad71d844540837907339fd3ac8f"
  },
  "language_info": {
   "codemirror_mode": {
    "name": "ipython",
    "version": 3
   },
   "file_extension": ".py",
   "mimetype": "text/x-python",
   "name": "python",
   "nbconvert_exporter": "python",
   "pygments_lexer": "ipython3",
   "version": "3.7.9"
  }
 },
 "nbformat": 4,
 "nbformat_minor": 4
}
