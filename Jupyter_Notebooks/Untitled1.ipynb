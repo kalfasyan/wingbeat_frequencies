{
 "cells": [
  {
   "cell_type": "code",
   "execution_count": 1,
   "metadata": {},
   "outputs": [
    {
     "name": "stderr",
     "output_type": "stream",
     "text": [
      "ERROR:root:Invalid alias: The name clear can't be aliased because it is another magic command.\n",
      "ERROR:root:Invalid alias: The name more can't be aliased because it is another magic command.\n",
      "ERROR:root:Invalid alias: The name less can't be aliased because it is another magic command.\n",
      "ERROR:root:Invalid alias: The name man can't be aliased because it is another magic command.\n"
     ]
    }
   ],
   "source": [
    "%reset -f\n",
    "import sys\n",
    "sys.path.insert(0,'..')\n",
    "from wavhandler import *\n",
    "import matplotlib.pyplot as plt\n",
    "from pandas.plotting import register_matplotlib_converters\n",
    "import seaborn as sns\n",
    "register_matplotlib_converters()"
   ]
  },
  {
   "cell_type": "code",
   "execution_count": 2,
   "metadata": {},
   "outputs": [],
   "source": [
    "sns.reset_orig\n",
    "def test_inds(dataset, dates=[], plot=True, figsize=(20,4)):\n",
    "    # Return indexes for given dates list (dates in tuples)\n",
    "    import datetime\n",
    "    if len(dates):\n",
    "        # Read all sensor features for given Dataset\n",
    "        dataset.get_sensor_features();\n",
    "        # Create dataframe with date column\n",
    "        df = dataset.df_features[['filenames','datestr']]\n",
    "        if plot:\n",
    "            # Make a histogram that shows counts for each day/month combination\n",
    "            df.groupby('datestr').count().plot(kind=\"bar\", figsize=figsize)\n",
    "        # Count and collect signals for specified dates \n",
    "        lst = []\n",
    "        for dt, sub in df.groupby(\"datestr\"):\n",
    "            if dt in dates:\n",
    "                lst = lst + sub.index.tolist()\n",
    "    print(\"{} test data.\".format(len(lst)))\n",
    "    return np.array(lst)\n",
    "\n",
    "def test_days(dataset):\n",
    "    dataset.get_sensor_features();\n",
    "    df = dataset.df_features\n",
    "    total = df.shape[0]\n",
    "    day_counts = []\n",
    "    daystrings = []\n",
    "    for dt, sub in df.groupby('datestr'):\n",
    "        day_counts.append(sub.shape[0])\n",
    "        daystrings.append(dt)\n",
    "\n",
    "    series = pd.Series(day_counts)\n",
    "\n",
    "    for w in range(len(day_counts)):\n",
    "        z = series.rolling(window=w).sum().apply(lambda x: x> 0.1*total)\n",
    "        last_ind = z.last_valid_index()\n",
    "        if z[w]:\n",
    "            break\n",
    "    early_days = daystrings[0:w]\n",
    "\n",
    "    for w in range(len(day_counts)):\n",
    "        z = series.rolling(window=w).sum().apply(lambda x: x> 0.1*total)\n",
    "        last_ind = z.last_valid_index()\n",
    "        if z[last_ind]:\n",
    "            break\n",
    "    late_days = daystrings[last_ind-w : last_ind]\n",
    "    \n",
    "    return early_days, late_days"
   ]
  },
  {
   "cell_type": "code",
   "execution_count": 3,
   "metadata": {},
   "outputs": [
    {
     "name": "stdout",
     "output_type": "stream",
     "text": [
      "Data: P_Cichorii.\n",
      "Read 1600 filenames in 0.09 seconds.\n",
      "Loaded data into matrix in 0.57 seconds.\n",
      "1075 filenames after cleaning.\n",
      "115 test data.\n"
     ]
    },
    {
     "data": {
      "image/png": "[encoded data removed]",
      "text/plain": [
       "<Figure size 1440x288 with 1 Axes>"
      ]
     },
     "metadata": {
      "needs_background": "light"
     },
     "output_type": "display_data"
    }
   ],
   "source": [
    "data1 = Dataset('Leafminers')\n",
    "data1.read(data=data1.target_classes[0], setting='psd_dB')\n",
    "data1.clean(threshold=10, plot=False)\n",
    "dates = test_days(data1)[0]\n",
    "inds_1 = test_inds(data1, dates=dates)"
   ]
  },
  {
   "cell_type": "code",
   "execution_count": 203,
   "metadata": {},
   "outputs": [
    {
     "data": {
      "text/plain": [
       "'(2019,01,31)'"
      ]
     },
     "execution_count": 203,
     "metadata": {},
     "output_type": "execute_result"
    }
   ],
   "source": [
    "data1 = Dataset('Leafminers')\n",
    "data1.read(data=data1.target_classes[0], setting='psd_dB')\n",
    "data1.clean(threshold=10, plot=False)\n",
    "dates = test_days(data1)[0]\n",
    "inds_1 = test_inds(data1, dates=dates)"
   ]
  },
  {
   "cell_type": "code",
   "execution_count": null,
   "metadata": {},
   "outputs": [],
   "source": []
  },
  {
   "cell_type": "code",
   "execution_count": null,
   "metadata": {},
   "outputs": [],
   "source": []
  },
  {
   "cell_type": "code",
   "execution_count": null,
   "metadata": {},
   "outputs": [],
   "source": []
  }
 ],
 "metadata": {
  "kernelspec": {
   "display_name": "Python 3",
   "language": "python",
   "name": "python3"
  },
  "language_info": {
   "codemirror_mode": {
    "name": "ipython",
    "version": 3
   },
   "file_extension": ".py",
   "mimetype": "text/x-python",
   "name": "python",
   "nbconvert_exporter": "python",
   "pygments_lexer": "ipython3",
   "version": "3.6.7"
  }
 },
 "nbformat": 4,
 "nbformat_minor": 4
}
