{
 "cells": [
  {
   "cell_type": "code",
   "execution_count": 37,
   "metadata": {},
   "outputs": [],
   "source": [
    "%reset -f\n",
    "import sys\n",
    "sys.path.insert(0,'..')\n",
    "from wavhandler import *\n",
    "# from utils_train import train_test_val_split\n",
    "from pandas.plotting import register_matplotlib_converters\n",
    "from utils_train import test_inds, test_days\n",
    "register_matplotlib_converters()\n",
    "import numpy as np\n",
    "\n",
    "np.random.seed(42)"
   ]
  },
  {
   "cell_type": "code",
   "execution_count": 38,
   "metadata": {},
   "outputs": [
    {
     "name": "stdout",
     "output_type": "stream",
     "text": [
      "['Ae. aegypti', 'Ae. albopictus', 'An. arabiensis', 'An. gambiae', 'C. pipiens', 'C. quinquefasciatus']\n"
     ]
    }
   ],
   "source": [
    "data = Dataset('Wingbeats')\n",
    "print(data.target_classes)"
   ]
  },
  {
   "cell_type": "code",
   "execution_count": 39,
   "metadata": {},
   "outputs": [
    {
     "name": "stdout",
     "output_type": "stream",
     "text": [
      "Data: Ae. aegypti.\n",
      "Read 85553 filenames in 2.53 seconds.\n",
      "Data: Ae. albopictus.\n",
      "Read 20231 filenames in 2.36 seconds.\n",
      "Data: An. arabiensis.\n",
      "Read 19297 filenames in 2.37 seconds.\n",
      "Data: An. gambiae.\n",
      "Read 49471 filenames in 2.37 seconds.\n",
      "Data: C. pipiens.\n",
      "Read 30415 filenames in 2.48 seconds.\n",
      "Data: C. quinquefasciatus.\n",
      "Read 74599 filenames in 2.43 seconds.\n"
     ]
    }
   ],
   "source": [
    "data.read('Ae. aegypti', loadmat=False)\n",
    "x1 = data.filenames.sample(14800)\n",
    "data.read('Ae. albopictus', loadmat=False)\n",
    "x2 = data.filenames.sample(14800)\n",
    "data.read('An. arabiensis', loadmat=False)\n",
    "x3 = data.filenames.sample(14800)\n",
    "data.read('An. gambiae', loadmat=False)\n",
    "x4 = data.filenames.sample(14800)\n",
    "data.read('C. pipiens', loadmat=False)\n",
    "x5 = data.filenames.sample(14800)\n",
    "data.read('C. quinquefasciatus', loadmat=False)\n",
    "x6 = data.filenames.sample(14800)"
   ]
  },
  {
   "cell_type": "code",
   "execution_count": 40,
   "metadata": {},
   "outputs": [],
   "source": [
    "X = pd.concat([x1, x2, x3, x4, x5, x6], axis=0)\n",
    "y = X.apply(lambda x: x.split('/')[len(BASE_DIR.split('/'))])"
   ]
  },
  {
   "cell_type": "code",
   "execution_count": 41,
   "metadata": {},
   "outputs": [],
   "source": [
    "from sklearn.preprocessing import LabelEncoder\n",
    "\n",
    "le = LabelEncoder()\n",
    "y = le.fit_transform(y)"
   ]
  },
  {
   "cell_type": "code",
   "execution_count": 42,
   "metadata": {},
   "outputs": [],
   "source": [
    "from sklearn.utils import shuffle\n",
    "from utils_train import train_test_val_split\n",
    "\n",
    "X,y = shuffle(X.tolist(),y.tolist(), random_state=0)\n",
    "\n",
    "X_train, X_test, X_val, y_train, y_test, y_val = train_test_val_split(X,y,test_size=0.13514, val_size=0.2)"
   ]
  },
  {
   "cell_type": "code",
   "execution_count": 48,
   "metadata": {},
   "outputs": [
    {
     "name": "stdout",
     "output_type": "stream",
     "text": [
      "[('Ae. aegypti', 0), ('C. quinquefasciatus', 1), ('Ae. albopictus', 2), ('An. gambiae', 3), ('C. pipiens', 4), ('An. arabiensis', 5)]\n"
     ]
    },
    {
     "data": {
      "text/plain": [
       "An. arabiensis         10240\n",
       "An. gambiae            10240\n",
       "Ae. albopictus         10240\n",
       "C. quinquefasciatus    10240\n",
       "Ae. aegypti            10240\n",
       "C. pipiens             10239\n",
       "dtype: int64"
      ]
     },
     "execution_count": 48,
     "metadata": {},
     "output_type": "execute_result"
    }
   ],
   "source": [
    "keys = pd.Series(le.inverse_transform(y_train)).value_counts().index.tolist()\n",
    "values = pd.Series(y_train).value_counts().index.tolist()\n",
    "mapping = dict(zip(keys, values))\n",
    "print(sorted(mapping.items(), key=lambda x: x[1]))\n",
    "vcounts = pd.Series(y_train).value_counts()\n",
    "vcounts.index = mapping.keys()\n",
    "vcounts"
   ]
  },
  {
   "cell_type": "markdown",
   "metadata": {},
   "source": [
    "## Modelling"
   ]
  },
  {
   "cell_type": "code",
   "execution_count": 66,
   "metadata": {},
   "outputs": [],
   "source": [
    "from utils_train import *\n",
    "from sklearn.model_selection import train_test_split\n",
    "from tensorflow.keras.models import Sequential\n",
    "from tensorflow.keras.layers import Dense, Dropout, Activation\n",
    "from tensorflow.keras.layers import Conv1D, GlobalAveragePooling1D, MaxPooling1D\n",
    "from tensorflow.keras.optimizers import SGD\n",
    "from tensorflow.keras.layers import BatchNormalization\n",
    "from sklearn.model_selection import train_test_split\n",
    "from tensorflow.keras.callbacks import ModelCheckpoint, EarlyStopping, ReduceLROnPlateau, CSVLogger\n",
    "from tensorflow.keras.utils import to_categorical\n",
    "from wavhandler import *\n",
    "import math\n",
    "from utils_train import TrainConfiguration"
   ]
  },
  {
   "cell_type": "code",
   "execution_count": 67,
   "metadata": {},
   "outputs": [],
   "source": [
    "traincf = TrainConfiguration(X=X_train, y=y_train)"
   ]
  },
  {
   "cell_type": "code",
   "execution_count": 68,
   "metadata": {},
   "outputs": [],
   "source": [
    "#model_name='mosquitoes_validation_2' \n",
    "#setting='raw'\n",
    "#top_weights_path = TEMP_DATADIR + str(model_name) + '.h5'\n",
    "targets = 6\n",
    "#batch_size = 32\n",
    "\n",
    "# Build the Neural Network\n",
    "model = Sequential()\n",
    "\n",
    "model.add(Conv1D(16, 3, activation='relu', input_shape=(5000, 1)))\n",
    "model.add(Conv1D(16, 3, activation='relu'))\n",
    "model.add(BatchNormalization())\n",
    "\n",
    "model.add(Conv1D(32, 3, activation='relu'))\n",
    "model.add(Conv1D(32, 3, activation='relu'))\n",
    "model.add(BatchNormalization())\n",
    "\n",
    "model.add(MaxPooling1D(2))\n",
    "model.add(Conv1D(64, 3, activation='relu'))\n",
    "model.add(Conv1D(64, 3, activation='relu'))\n",
    "model.add(BatchNormalization())\n",
    "\n",
    "model.add(MaxPooling1D(2))\n",
    "model.add(Conv1D(128, 3, activation='relu'))\n",
    "model.add(Conv1D(128, 3, activation='relu'))\n",
    "model.add(BatchNormalization())\n",
    "\n",
    "model.add(MaxPooling1D(2))\n",
    "model.add(Conv1D(256, 3, activation='relu'))\n",
    "model.add(Conv1D(256, 3, activation='relu'))\n",
    "model.add(BatchNormalization())\n",
    "model.add(GlobalAveragePooling1D())\n",
    "\n",
    "model.add(Dropout(0.5))\n",
    "model.add(Dense(targets, activation='softmax'))\n",
    "\n",
    "model.compile(loss='categorical_crossentropy',\n",
    "            optimizer='adam',\n",
    "            metrics=['accuracy'])\n",
    "\n",
    "callbacks_list = traincf.callbacks_list"
   ]
  },
  {
   "cell_type": "code",
   "execution_count": null,
   "metadata": {},
   "outputs": [
    {
     "name": "stdout",
     "output_type": "stream",
     "text": [
      "Epoch 1/100\n"
     ]
    }
   ],
   "source": [
    "model.fit_generator(train_generator(X_train, y_train, batch_size=traincf.batch_size,\n",
    "                                   target_names=traincf.target_names,\n",
    "                                   setting=traincf.setting),\n",
    "                   steps_per_epoch = int(math.ceil(float(len(X_train)) / float(traincf.batch_size))),\n",
    "                   epochs=traincf.epochs,\n",
    "                   validation_data = valid_generator(X_val, y_val,\n",
    "                                                    batch_size=traincf.batch_size,\n",
    "                                                    target_names=traincf.target_names,\n",
    "                                                    setting=traincf.setting),\n",
    "                    validation_steps=int(math.ceil(float(len(X_val))/float(traincf.batch_size))),\n",
    "                    callbacks = traincf.callbacks_list)"
   ]
  },
  {
   "cell_type": "code",
   "execution_count": null,
   "metadata": {},
   "outputs": [],
   "source": [
    "model.load_weights(traincf.top_weights_path)\n",
    "y_pred = model.predict_generator(valid_generator(X_test, \n",
    "                                                    y_test, \n",
    "                                                    batch_size=traincf.batch_size, \n",
    "                                                    setting=traincf.setting, \n",
    "                                                    target_names=traincf.target_names),\n",
    "        steps = int(math.ceil(float(len(X_test)) / float(traincf.batch_size))))"
   ]
  },
  {
   "cell_type": "code",
   "execution_count": null,
   "metadata": {},
   "outputs": [],
   "source": [
    "import seaborn as sns\n",
    "sns.set()\n",
    "import matplotlib.pyplot as plt\n",
    "x = confusion_matrix(np.array(y_test), np.argmax(y_pred, axis=1))\n",
    "\n",
    "plt.figure(figsize=(16,12))\n",
    "sns.set(font_scale=1.2)\n",
    "ticks = ['Ae. aegypti',' Ae. albopictus','An. arabiensis','An. gambiae','C. pipiens','C. quinquefasciatus']\n",
    "ticks_short = ['Ae. aeg','Ae. alb','An. arab','An. gambiae','C. pip','C. quin']\n",
    "sns.heatmap(x, annot=True, fmt='.0f', xticklabels=ticks, yticklabels=ticks_short)"
   ]
  },
  {
   "cell_type": "code",
   "execution_count": null,
   "metadata": {},
   "outputs": [],
   "source": [
    "model.load_weights(traincf.top_weights_path)\n",
    "loss, acc = model.evaluate_generator(valid_generator(X_test, \n",
    "                                                    y_test, \n",
    "                                                    batch_size=traincf.batch_size, \n",
    "                                                    setting=traincf.setting, \n",
    "                                                    target_names=traincf.target_names),\n",
    "        steps = int(math.ceil(float(len(X_test)) / float(traincf.batch_size))))\n",
    "\n",
    "print('loss', loss)\n",
    "print('Test accuracy:', acc)"
   ]
  },
  {
   "cell_type": "code",
   "execution_count": null,
   "metadata": {},
   "outputs": [],
   "source": [
    "from sklearn.metrics import balanced_accuracy_score\n",
    "\n",
    "balanced_accuracy_score(np.array(y_test), np.argmax(y_pred, axis=1))"
   ]
  }
 ],
 "metadata": {
  "file_extension": ".py",
  "kernelspec": {
   "display_name": "Python 3",
   "language": "python",
   "name": "python3"
  },
  "language_info": {
   "codemirror_mode": {
    "name": "ipython",
    "version": 3
   },
   "file_extension": ".py",
   "mimetype": "text/x-python",
   "name": "python",
   "nbconvert_exporter": "python",
   "pygments_lexer": "ipython3",
   "version": "3.6.7"
  },
  "mimetype": "text/x-python",
  "name": "python",
  "npconvert_exporter": "python",
  "pygments_lexer": "ipython3",
  "version": 3
 },
 "nbformat": 4,
 "nbformat_minor": 2
}
