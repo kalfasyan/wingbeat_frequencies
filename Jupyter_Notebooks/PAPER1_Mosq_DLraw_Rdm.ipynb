{
 "cells": [
  {
   "cell_type": "code",
   "execution_count": 1,
   "metadata": {},
   "outputs": [
    {
     "name": "stderr",
     "output_type": "stream",
     "text": [
      "WARNING: Logging before flag parsing goes to stderr.\n",
      "W1120 13:52:57.457938 139807970166592 __init__.py:321] Limited tf.compat.v2.summary API due to missing TensorBoard installation.\n",
      "W1120 13:52:57.531672 139807970166592 __init__.py:321] Limited tf.compat.v2.summary API due to missing TensorBoard installation.\n",
      "W1120 13:52:57.568414 139807970166592 __init__.py:352] Limited tf.summary API due to missing TensorBoard installation.\n"
     ]
    }
   ],
   "source": [
    "%reset -f\n",
    "import sys\n",
    "sys.path.insert(0,'..')\n",
    "from wavhandler import *\n",
    "# from utils_train import train_test_val_split\n",
    "from pandas.plotting import register_matplotlib_converters\n",
    "from utils_train import test_inds, test_days\n",
    "register_matplotlib_converters()\n",
    "import numpy as np\n",
    "\n",
    "np.random.seed(42)"
   ]
  },
  {
   "cell_type": "code",
   "execution_count": 2,
   "metadata": {},
   "outputs": [
    {
     "name": "stdout",
     "output_type": "stream",
     "text": [
      "['Ae. aegypti', 'Ae. albopictus', 'An. arabiensis', 'An. gambiae', 'C. pipiens', 'C. quinquefasciatus']\n"
     ]
    }
   ],
   "source": [
    "data = Dataset('Wingbeats')\n",
    "print(data.target_classes)"
   ]
  },
  {
   "cell_type": "code",
   "execution_count": 3,
   "metadata": {},
   "outputs": [
    {
     "name": "stdout",
     "output_type": "stream",
     "text": [
      "Data: Ae. aegypti.\n",
      "Read 85553 filenames in 5.28 seconds.\n",
      "Data: Ae. albopictus.\n",
      "Read 20231 filenames in 2.27 seconds.\n",
      "Data: An. arabiensis.\n",
      "Read 19297 filenames in 2.26 seconds.\n",
      "Data: An. gambiae.\n",
      "Read 49471 filenames in 2.26 seconds.\n",
      "Data: C. pipiens.\n",
      "Read 30415 filenames in 2.26 seconds.\n",
      "Data: C. quinquefasciatus.\n",
      "Read 74599 filenames in 2.26 seconds.\n"
     ]
    }
   ],
   "source": [
    "data.read('Ae. aegypti', loadmat=False)\n",
    "x1 = data.filenames.sample(14800)\n",
    "data.read('Ae. albopictus', loadmat=False)\n",
    "x2 = data.filenames.sample(14800)\n",
    "data.read('An. arabiensis', loadmat=False)\n",
    "x3 = data.filenames.sample(14800)\n",
    "data.read('An. gambiae', loadmat=False)\n",
    "x4 = data.filenames.sample(14800)\n",
    "data.read('C. pipiens', loadmat=False)\n",
    "x5 = data.filenames.sample(14800)\n",
    "data.read('C. quinquefasciatus', loadmat=False)\n",
    "x6 = data.filenames.sample(14800)"
   ]
  },
  {
   "cell_type": "code",
   "execution_count": 4,
   "metadata": {},
   "outputs": [],
   "source": [
    "X = pd.concat([x1, x2, x3, x4, x5, x6], axis=0)\n",
    "y = X.apply(lambda x: x.split('/')[len(BASE_DIR.split('/'))])"
   ]
  },
  {
   "cell_type": "code",
   "execution_count": 5,
   "metadata": {},
   "outputs": [],
   "source": [
    "from sklearn.preprocessing import LabelEncoder\n",
    "\n",
    "text_y = y\n",
    "le = LabelEncoder()\n",
    "y = le.fit_transform(y.copy())"
   ]
  },
  {
   "cell_type": "code",
   "execution_count": 6,
   "metadata": {},
   "outputs": [],
   "source": [
    "from sklearn.utils import shuffle\n",
    "from utils_train import train_test_val_split\n",
    "\n",
    "X,y = shuffle(X.tolist(),y.tolist(), random_state=0)\n",
    "\n",
    "X_train, X_test, X_val, y_train, y_test, y_val = train_test_val_split(X,y,test_size=0.13514, val_size=0.2)"
   ]
  },
  {
   "cell_type": "code",
   "execution_count": 7,
   "metadata": {},
   "outputs": [
    {
     "name": "stdout",
     "output_type": "stream",
     "text": [
      "[('Ae. albopictus', 0), ('An. gambiae', 1), ('An. arabiensis', 2), ('Ae. aegypti', 3), ('C. pipiens', 4), ('C. quinquefasciatus', 5)]\n"
     ]
    },
    {
     "data": {
      "text/plain": [
       "C. quinquefasciatus    10240\n",
       "Ae. aegypti            10240\n",
       "An. arabiensis         10240\n",
       "An. gambiae            10240\n",
       "Ae. albopictus         10240\n",
       "C. pipiens             10239\n",
       "dtype: int64"
      ]
     },
     "execution_count": 7,
     "metadata": {},
     "output_type": "execute_result"
    }
   ],
   "source": [
    "keys = pd.Series(le.inverse_transform(y_train)).value_counts().index.tolist()\n",
    "values = pd.Series(y_train).value_counts().index.tolist()\n",
    "mapping = dict(zip(keys, values))\n",
    "print(sorted(mapping.items(), key=lambda x: x[1]))\n",
    "vcounts = pd.Series(y_train).value_counts()\n",
    "vcounts.index = mapping.keys()\n",
    "vcounts"
   ]
  },
  {
   "cell_type": "markdown",
   "metadata": {},
   "source": [
    "## Modelling"
   ]
  },
  {
   "cell_type": "code",
   "execution_count": 8,
   "metadata": {},
   "outputs": [],
   "source": [
    "from utils_train import *\n",
    "from sklearn.model_selection import train_test_split\n",
    "from tensorflow.keras.models import Sequential\n",
    "from tensorflow.keras.layers import Dense, Dropout, Activation\n",
    "from tensorflow.keras.layers import Conv1D, GlobalAveragePooling1D, MaxPooling1D\n",
    "from tensorflow.keras.optimizers import SGD\n",
    "from tensorflow.keras.layers import BatchNormalization\n",
    "from sklearn.model_selection import train_test_split\n",
    "from tensorflow.keras.callbacks import ModelCheckpoint, EarlyStopping, ReduceLROnPlateau, CSVLogger\n",
    "from tensorflow.keras.utils import to_categorical\n",
    "from wavhandler import *\n",
    "import math\n",
    "from utils_train import TrainConfiguration"
   ]
  },
  {
   "cell_type": "code",
   "execution_count": 9,
   "metadata": {},
   "outputs": [],
   "source": [
    "traincf = TrainConfiguration(X=X_train, y=y_train)"
   ]
  },
  {
   "cell_type": "code",
   "execution_count": 10,
   "metadata": {},
   "outputs": [],
   "source": [
    "#model_name='mosquitoes_validation_2' \n",
    "#setting='raw'\n",
    "#top_weights_path = TEMP_DATADIR + str(model_name) + '.h5'\n",
    "targets = 6\n",
    "#batch_size = 32\n",
    "\n",
    "# Build the Neural Network\n",
    "model = Sequential()\n",
    "\n",
    "model.add(Conv1D(16, 3, activation='relu', input_shape=(5000, 1)))\n",
    "model.add(Conv1D(16, 3, activation='relu'))\n",
    "model.add(BatchNormalization())\n",
    "\n",
    "model.add(Conv1D(32, 3, activation='relu'))\n",
    "model.add(Conv1D(32, 3, activation='relu'))\n",
    "model.add(BatchNormalization())\n",
    "\n",
    "model.add(MaxPooling1D(2))\n",
    "model.add(Conv1D(64, 3, activation='relu'))\n",
    "model.add(Conv1D(64, 3, activation='relu'))\n",
    "model.add(BatchNormalization())\n",
    "\n",
    "model.add(MaxPooling1D(2))\n",
    "model.add(Conv1D(128, 3, activation='relu'))\n",
    "model.add(Conv1D(128, 3, activation='relu'))\n",
    "model.add(BatchNormalization())\n",
    "\n",
    "model.add(MaxPooling1D(2))\n",
    "model.add(Conv1D(256, 3, activation='relu'))\n",
    "model.add(Conv1D(256, 3, activation='relu'))\n",
    "model.add(BatchNormalization())\n",
    "model.add(GlobalAveragePooling1D())\n",
    "\n",
    "model.add(Dropout(0.5))\n",
    "model.add(Dense(targets, activation='softmax'))\n",
    "\n",
    "model.compile(loss='categorical_crossentropy',\n",
    "            optimizer='adam',\n",
    "            metrics=['accuracy'])\n",
    "\n",
    "callbacks_list = traincf.callbacks_list"
   ]
  },
  {
   "cell_type": "code",
   "execution_count": 11,
   "metadata": {},
   "outputs": [
    {
     "name": "stdout",
     "output_type": "stream",
     "text": [
      "Epoch 1/100\n",
      "1919/1920 [============================>.] - ETA: 0s - loss: 0.6889 - accuracy: 0.7391\n",
      "Epoch 00001: val_accuracy improved from -inf to 0.42363, saving model to /home/kalfasyan/projects/wingbeat_frequencies/Jupyter_Notebooks/temp_data/test.h5\n",
      "1920/1920 [==============================] - 691s 360ms/step - loss: 0.6888 - accuracy: 0.7391 - val_loss: 3.6828 - val_accuracy: 0.4236\n",
      "Epoch 2/100\n",
      "1919/1920 [============================>.] - ETA: 0s - loss: 0.4667 - accuracy: 0.8244\n",
      "Epoch 00002: val_accuracy improved from 0.42363 to 0.60137, saving model to /home/kalfasyan/projects/wingbeat_frequencies/Jupyter_Notebooks/temp_data/test.h5\n",
      "1920/1920 [==============================] - 524s 273ms/step - loss: 0.4666 - accuracy: 0.8244 - val_loss: 2.1166 - val_accuracy: 0.6014\n",
      "Epoch 3/100\n",
      "1919/1920 [============================>.] - ETA: 0s - loss: 0.4118 - accuracy: 0.8454\n",
      "Epoch 00003: val_accuracy improved from 0.60137 to 0.67331, saving model to /home/kalfasyan/projects/wingbeat_frequencies/Jupyter_Notebooks/temp_data/test.h5\n",
      "1920/1920 [==============================] - 520s 271ms/step - loss: 0.4117 - accuracy: 0.8454 - val_loss: 1.3124 - val_accuracy: 0.6733\n",
      "Epoch 4/100\n",
      "1919/1920 [============================>.] - ETA: 0s - loss: 0.3678 - accuracy: 0.8610\n",
      "Epoch 00004: val_accuracy improved from 0.67331 to 0.76055, saving model to /home/kalfasyan/projects/wingbeat_frequencies/Jupyter_Notebooks/temp_data/test.h5\n",
      "1920/1920 [==============================] - 520s 271ms/step - loss: 0.3677 - accuracy: 0.8610 - val_loss: 0.7478 - val_accuracy: 0.7605\n",
      "Epoch 5/100\n",
      "1919/1920 [============================>.] - ETA: 0s - loss: 0.3355 - accuracy: 0.8741\n",
      "Epoch 00005: val_accuracy did not improve from 0.76055\n",
      "1920/1920 [==============================] - 519s 270ms/step - loss: 0.3355 - accuracy: 0.8741 - val_loss: 2.3342 - val_accuracy: 0.5608\n",
      "Epoch 6/100\n",
      "1919/1920 [============================>.] - ETA: 0s - loss: 0.3068 - accuracy: 0.8843\n",
      "Epoch 00006: val_accuracy did not improve from 0.76055\n",
      "1920/1920 [==============================] - 519s 270ms/step - loss: 0.3067 - accuracy: 0.8843 - val_loss: 3.1998 - val_accuracy: 0.6288\n",
      "Epoch 7/100\n",
      "1919/1920 [============================>.] - ETA: 0s - loss: 0.2818 - accuracy: 0.8929\n",
      "Epoch 00007: val_accuracy improved from 0.76055 to 0.83503, saving model to /home/kalfasyan/projects/wingbeat_frequencies/Jupyter_Notebooks/temp_data/test.h5\n",
      "1920/1920 [==============================] - 634s 330ms/step - loss: 0.2817 - accuracy: 0.8930 - val_loss: 0.4658 - val_accuracy: 0.8350\n",
      "Epoch 8/100\n",
      "1919/1920 [============================>.] - ETA: 0s - loss: 0.2590 - accuracy: 0.9004\n",
      "Epoch 00008: val_accuracy did not improve from 0.83503\n",
      "1920/1920 [==============================] - 663s 345ms/step - loss: 0.2590 - accuracy: 0.9004 - val_loss: 0.5353 - val_accuracy: 0.8230\n",
      "Epoch 9/100\n",
      "1919/1920 [============================>.] - ETA: 0s - loss: 0.2393 - accuracy: 0.9093\n",
      "Epoch 00009: val_accuracy did not improve from 0.83503\n",
      "1920/1920 [==============================] - 664s 346ms/step - loss: 0.2393 - accuracy: 0.9093 - val_loss: 0.7147 - val_accuracy: 0.8092\n",
      "Epoch 10/100\n",
      "1919/1920 [============================>.] - ETA: 0s - loss: 0.2159 - accuracy: 0.9184\n",
      "Epoch 00010: val_accuracy did not improve from 0.83503\n",
      "\n",
      "Epoch 00010: ReduceLROnPlateau reducing learning rate to 0.00010000000474974513.\n",
      "1920/1920 [==============================] - 668s 348ms/step - loss: 0.2159 - accuracy: 0.9184 - val_loss: 8.4733 - val_accuracy: 0.3518\n",
      "Epoch 11/100\n",
      "1919/1920 [============================>.] - ETA: 0s - loss: 0.1659 - accuracy: 0.9386\n",
      "Epoch 00011: val_accuracy improved from 0.83503 to 0.87624, saving model to /home/kalfasyan/projects/wingbeat_frequencies/Jupyter_Notebooks/temp_data/test.h5\n",
      "1920/1920 [==============================] - 667s 347ms/step - loss: 0.1658 - accuracy: 0.9386 - val_loss: 0.3649 - val_accuracy: 0.8762\n",
      "Epoch 12/100\n",
      "1919/1920 [============================>.] - ETA: 0s - loss: 0.1352 - accuracy: 0.9511\n",
      "Epoch 00012: val_accuracy did not improve from 0.87624\n",
      "1920/1920 [==============================] - 674s 351ms/step - loss: 0.1352 - accuracy: 0.9512 - val_loss: 0.4850 - val_accuracy: 0.8605\n",
      "Epoch 13/100\n",
      "1919/1920 [============================>.] - ETA: 0s - loss: 0.1175 - accuracy: 0.9588\n",
      "Epoch 00013: val_accuracy did not improve from 0.87624\n",
      "1920/1920 [==============================] - 682s 355ms/step - loss: 0.1175 - accuracy: 0.9589 - val_loss: 0.4652 - val_accuracy: 0.8656\n",
      "Epoch 14/100\n",
      "1919/1920 [============================>.] - ETA: 0s - loss: 0.1029 - accuracy: 0.9652\n",
      "Epoch 00014: val_accuracy improved from 0.87624 to 0.89023, saving model to /home/kalfasyan/projects/wingbeat_frequencies/Jupyter_Notebooks/temp_data/test.h5\n",
      "1920/1920 [==============================] - 670s 349ms/step - loss: 0.1028 - accuracy: 0.9652 - val_loss: 0.3356 - val_accuracy: 0.8902\n",
      "Epoch 15/100\n",
      "1919/1920 [============================>.] - ETA: 0s - loss: 0.0897 - accuracy: 0.9713\n",
      "Epoch 00015: val_accuracy did not improve from 0.89023\n",
      "1920/1920 [==============================] - 671s 350ms/step - loss: 0.0896 - accuracy: 0.9713 - val_loss: 0.4832 - val_accuracy: 0.8663\n",
      "Epoch 16/100\n",
      "1919/1920 [============================>.] - ETA: 0s - loss: 0.0776 - accuracy: 0.9760\n",
      "Epoch 00016: val_accuracy did not improve from 0.89023\n",
      "1920/1920 [==============================] - 671s 350ms/step - loss: 0.0776 - accuracy: 0.9760 - val_loss: 0.4122 - val_accuracy: 0.8790\n",
      "Epoch 17/100\n",
      "1919/1920 [============================>.] - ETA: 0s - loss: 0.0664 - accuracy: 0.9811\n",
      "Epoch 00017: val_accuracy improved from 0.89023 to 0.89232, saving model to /home/kalfasyan/projects/wingbeat_frequencies/Jupyter_Notebooks/temp_data/test.h5\n",
      "1920/1920 [==============================] - 675s 351ms/step - loss: 0.0664 - accuracy: 0.9811 - val_loss: 0.3606 - val_accuracy: 0.8923\n",
      "Epoch 18/100\n",
      "1919/1920 [============================>.] - ETA: 0s - loss: 0.0560 - accuracy: 0.9851\n",
      "Epoch 00018: val_accuracy did not improve from 0.89232\n",
      "1920/1920 [==============================] - 673s 350ms/step - loss: 0.0559 - accuracy: 0.9851 - val_loss: 0.4255 - val_accuracy: 0.8809\n",
      "Epoch 19/100\n",
      "1919/1920 [============================>.] - ETA: 0s - loss: 0.0466 - accuracy: 0.9887\n",
      "Epoch 00019: val_accuracy did not improve from 0.89232\n",
      "1920/1920 [==============================] - 671s 349ms/step - loss: 0.0466 - accuracy: 0.9887 - val_loss: 0.8517 - val_accuracy: 0.8335\n",
      "Epoch 20/100\n",
      "1919/1920 [============================>.] - ETA: 0s - loss: 0.0373 - accuracy: 0.9922\n",
      "Epoch 00020: val_accuracy did not improve from 0.89232\n",
      "\n",
      "Epoch 00020: ReduceLROnPlateau reducing learning rate to 1.0000000474974514e-05.\n",
      "1920/1920 [==============================] - 672s 350ms/step - loss: 0.0373 - accuracy: 0.9922 - val_loss: 0.8383 - val_accuracy: 0.8359\n",
      "Epoch 21/100\n",
      "1919/1920 [============================>.] - ETA: 0s - loss: 0.0322 - accuracy: 0.9932\n",
      "Epoch 00021: val_accuracy improved from 0.89232 to 0.89414, saving model to /home/kalfasyan/projects/wingbeat_frequencies/Jupyter_Notebooks/temp_data/test.h5\n",
      "1920/1920 [==============================] - 672s 350ms/step - loss: 0.0322 - accuracy: 0.9932 - val_loss: 0.4085 - val_accuracy: 0.8941\n",
      "Epoch 22/100\n",
      "1919/1920 [============================>.] - ETA: 0s - loss: 0.0292 - accuracy: 0.9948\n",
      "Epoch 00022: val_accuracy improved from 0.89414 to 0.89512, saving model to /home/kalfasyan/projects/wingbeat_frequencies/Jupyter_Notebooks/temp_data/test.h5\n",
      "1920/1920 [==============================] - 675s 352ms/step - loss: 0.0292 - accuracy: 0.9948 - val_loss: 0.4103 - val_accuracy: 0.8951\n",
      "Epoch 23/100\n",
      "1919/1920 [============================>.] - ETA: 0s - loss: 0.0277 - accuracy: 0.9952\n",
      "Epoch 00023: val_accuracy did not improve from 0.89512\n",
      "1920/1920 [==============================] - 675s 352ms/step - loss: 0.0277 - accuracy: 0.9952 - val_loss: 0.4153 - val_accuracy: 0.8926\n",
      "Epoch 24/100\n",
      "1919/1920 [============================>.] - ETA: 0s - loss: 0.0265 - accuracy: 0.9957\n",
      "Epoch 00024: val_accuracy did not improve from 0.89512\n",
      "1920/1920 [==============================] - 675s 351ms/step - loss: 0.0265 - accuracy: 0.9957 - val_loss: 0.4216 - val_accuracy: 0.8933\n",
      "Epoch 25/100\n",
      "1919/1920 [============================>.] - ETA: 0s - loss: 0.0255 - accuracy: 0.9961\n",
      "Epoch 00025: val_accuracy did not improve from 0.89512\n",
      "\n",
      "Epoch 00025: ReduceLROnPlateau reducing learning rate to 1.0000000656873453e-06.\n",
      "1920/1920 [==============================] - 673s 350ms/step - loss: 0.0255 - accuracy: 0.9961 - val_loss: 0.4161 - val_accuracy: 0.8935\n",
      "Epoch 26/100\n",
      "1919/1920 [============================>.] - ETA: 0s - loss: 0.0245 - accuracy: 0.9964\n",
      "Epoch 00026: val_accuracy did not improve from 0.89512\n",
      "1920/1920 [==============================] - 671s 350ms/step - loss: 0.0245 - accuracy: 0.9964 - val_loss: 0.4172 - val_accuracy: 0.8944\n",
      "Epoch 27/100\n",
      "1919/1920 [============================>.] - ETA: 0s - loss: 0.0244 - accuracy: 0.9964\n",
      "Epoch 00027: val_accuracy did not improve from 0.89512\n",
      "1920/1920 [==============================] - 673s 351ms/step - loss: 0.0244 - accuracy: 0.9964 - val_loss: 0.4173 - val_accuracy: 0.8941\n",
      "Epoch 28/100\n",
      "1919/1920 [============================>.] - ETA: 0s - loss: 0.0243 - accuracy: 0.9963\n",
      "Epoch 00028: val_accuracy did not improve from 0.89512\n",
      "\n",
      "Epoch 00028: ReduceLROnPlateau reducing learning rate to 1.0000001111620805e-07.\n",
      "1920/1920 [==============================] - 674s 351ms/step - loss: 0.0243 - accuracy: 0.9963 - val_loss: 0.4177 - val_accuracy: 0.8943\n",
      "Epoch 29/100\n",
      "1919/1920 [============================>.] - ETA: 0s - loss: 0.0237 - accuracy: 0.9968\n",
      "Epoch 00029: val_accuracy did not improve from 0.89512\n",
      "1920/1920 [==============================] - 662s 345ms/step - loss: 0.0237 - accuracy: 0.9968 - val_loss: 0.4178 - val_accuracy: 0.8941\n",
      "Epoch 00029: early stopping\n"
     ]
    },
    {
     "data": {
      "text/plain": [
       "<tensorflow.python.keras.callbacks.History at 0x7f26c2a34eb8>"
      ]
     },
     "execution_count": 11,
     "metadata": {},
     "output_type": "execute_result"
    }
   ],
   "source": [
    "model.fit_generator(train_generator(X_train, y_train, batch_size=traincf.batch_size,\n",
    "                                   target_names=traincf.target_names,\n",
    "                                   setting=traincf.setting),\n",
    "                   steps_per_epoch = int(math.ceil(float(len(X_train)) / float(traincf.batch_size))),\n",
    "                   epochs=traincf.epochs,\n",
    "                   validation_data = valid_generator(X_val, y_val,\n",
    "                                                    batch_size=traincf.batch_size,\n",
    "                                                    target_names=traincf.target_names,\n",
    "                                                    setting=traincf.setting),\n",
    "                    validation_steps=int(math.ceil(float(len(X_val))/float(traincf.batch_size))),\n",
    "                    callbacks = traincf.callbacks_list)"
   ]
  },
  {
   "cell_type": "code",
   "execution_count": 12,
   "metadata": {},
   "outputs": [],
   "source": [
    "model.load_weights(traincf.top_weights_path)\n",
    "y_pred = model.predict_generator(valid_generator(X_test, \n",
    "                                                    y_test, \n",
    "                                                    batch_size=traincf.batch_size, \n",
    "                                                    setting=traincf.setting, \n",
    "                                                    target_names=traincf.target_names),\n",
    "        steps = int(math.ceil(float(len(X_test)) / float(traincf.batch_size))))"
   ]
  },
  {
   "cell_type": "code",
   "execution_count": 13,
   "metadata": {},
   "outputs": [
    {
     "data": {
      "text/plain": [
       "<matplotlib.axes._subplots.AxesSubplot at 0x7f26c28d9198>"
      ]
     },
     "execution_count": 13,
     "metadata": {},
     "output_type": "execute_result"
    },
    {
     "data": {
      "image/png": "[encoded data removed]",
      "text/plain": [
       "<Figure size 1152x864 with 2 Axes>"
      ]
     },
     "metadata": {},
     "output_type": "display_data"
    }
   ],
   "source": [
    "import seaborn as sns\n",
    "sns.set()\n",
    "import matplotlib.pyplot as plt\n",
    "x = confusion_matrix(np.array(y_test), np.argmax(y_pred, axis=1))\n",
    "\n",
    "plt.figure(figsize=(16,12))\n",
    "sns.set(font_scale=1.2)\n",
    "ticks = ['Ae. aegypti',' Ae. albopictus','An. arabiensis','An. gambiae','C. pipiens','C. quinquefasciatus']\n",
    "ticks_short = ['Ae. aeg','Ae. alb','An. arab','An. gambiae','C. pip','C. quin']\n",
    "sns.heatmap(x, annot=True, fmt='.0f', xticklabels=ticks, yticklabels=ticks_short)"
   ]
  },
  {
   "cell_type": "code",
   "execution_count": 14,
   "metadata": {},
   "outputs": [
    {
     "name": "stdout",
     "output_type": "stream",
     "text": [
      "loss 0.40943151832486385\n",
      "Test accuracy: 0.89384216\n"
     ]
    }
   ],
   "source": [
    "model.load_weights(traincf.top_weights_path)\n",
    "loss, acc = model.evaluate_generator(valid_generator(X_test, \n",
    "                                                    y_test, \n",
    "                                                    batch_size=traincf.batch_size, \n",
    "                                                    setting=traincf.setting, \n",
    "                                                    target_names=traincf.target_names),\n",
    "        steps = int(math.ceil(float(len(X_test)) / float(traincf.batch_size))))\n",
    "\n",
    "print('loss', loss)\n",
    "print('Test accuracy:', acc)"
   ]
  },
  {
   "cell_type": "code",
   "execution_count": 15,
   "metadata": {},
   "outputs": [
    {
     "data": {
      "text/plain": [
       "0.893836998167583"
      ]
     },
     "execution_count": 15,
     "metadata": {},
     "output_type": "execute_result"
    }
   ],
   "source": [
    "from sklearn.metrics import balanced_accuracy_score\n",
    "\n",
    "balanced_accuracy_score(np.array(y_test), np.argmax(y_pred, axis=1))"
   ]
  },
  {
   "cell_type": "code",
   "execution_count": null,
   "metadata": {},
   "outputs": [],
   "source": []
  }
 ],
 "metadata": {
  "file_extension": ".py",
  "kernelspec": {
   "display_name": "Python 3",
   "language": "python",
   "name": "python3"
  },
  "language_info": {
   "codemirror_mode": {
    "name": "ipython",
    "version": 3
   },
   "file_extension": ".py",
   "mimetype": "text/x-python",
   "name": "python",
   "nbconvert_exporter": "python",
   "pygments_lexer": "ipython3",
   "version": "3.6.7"
  },
  "mimetype": "text/x-python",
  "name": "python",
  "npconvert_exporter": "python",
  "pygments_lexer": "ipython3",
  "version": 3
 },
 "nbformat": 4,
 "nbformat_minor": 2
}
