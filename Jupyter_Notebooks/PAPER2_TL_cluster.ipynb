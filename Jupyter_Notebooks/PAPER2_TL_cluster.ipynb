{
 "cells": [
  {
   "cell_type": "code",
   "execution_count": 1,
   "metadata": {},
   "outputs": [],
   "source": [
    "%reset -f\n",
    "import sys\n",
    "sys.path.insert(0, \"..\")\n",
    "from wavhandler import Dataset\n",
    "import numpy as np\n",
    "import math\n",
    "from sklearn.preprocessing import LabelEncoder\n",
    "from sklearn.utils import shuffle\n",
    "from sklearn.model_selection import train_test_split\n",
    "from sklearn.metrics import confusion_matrix, balanced_accuracy_score, classification_report, make_scorer, log_loss\n",
    "from utils_train import *\n",
    "import deepdish as dd\n",
    "from configs import DatasetConfiguration\n",
    "import os\n",
    "import pandas as pd\n",
    "from sklearn.metrics import confusion_matrix\n",
    "import seaborn as sb\n",
    "import matplotlib.pyplot as plt\n",
    "\n",
    "seed = 42\n",
    "np.random.seed(seed=seed)\n",
    "\n",
    "splitting = 'random'\n",
    "data_setting = 'raw'\n",
    "model_setting = 'dl4tsc_inc'\n",
    "\n",
    "assert splitting in ['random','randomcv','custom'], \"Wrong splitting method given.\"\n",
    "assert data_setting in ['raw','stft','psd_dB', 'cwt'], \"Wrong data settting given.\"\n",
    "assert model_setting in ['wavenet','lstm','gru','conv1d','conv1d_psd',\n",
    "                        'DenseNet121','DenseNet169','DenseNet201',\n",
    "                        'InceptionResNetV2','VGG16','VGG19',\n",
    "                        'dl4tsc_fcn','dl4tsc_res', 'tsc_res_baseline',\n",
    "                        'tsc_fcn_baseline', 'conv1d_baseline', 'dl4tsc_inc'], \"Wrong model setting given\""
   ]
  },
  {
   "cell_type": "code",
   "execution_count": 2,
   "metadata": {},
   "outputs": [
    {
     "name": "stdout",
     "output_type": "stream",
     "text": [
      "Species: all.\n",
      "Read 10264 filenames in 0.05 seconds.\n"
     ]
    }
   ],
   "source": [
    "dataset = Dataset('Pcfruit_sensor49')\n",
    "dataset.read(loadmat=False)\n",
    "dataset.make_array(setting='raw');\n",
    "dataset.make_array(setting='psd_dB');\n",
    "\n",
    "X = dataset.filenames.tolist()\n",
    "y = dataset.y.copy()\n",
    "\n",
    "from sklearn.preprocessing import LabelEncoder\n",
    "le = LabelEncoder()\n",
    "y = le.fit_transform(y)"
   ]
  },
  {
   "cell_type": "code",
   "execution_count": 3,
   "metadata": {},
   "outputs": [],
   "source": [
    "# X_train, X_test, y_train, y_test = train_test_split(X, y, test_size=0.15, random_state=42, shuffle=True)\n",
    "X_sens49, y_sens49 = X, y"
   ]
  },
  {
   "cell_type": "markdown",
   "metadata": {},
   "source": [
    "### Creating model extractor"
   ]
  },
  {
   "cell_type": "code",
   "execution_count": 4,
   "metadata": {},
   "outputs": [
    {
     "name": "stdout",
     "output_type": "stream",
     "text": [
      "############ INPUT SHAPE:(5000, 1)\n",
      "/home/kalfasyan/projects/wingbeat_frequencies/temp_data/\n"
     ]
    }
   ],
   "source": [
    "dconf = DatasetConfiguration(names=['Wingbeats','LG','Leafminers'])\n",
    "dconf.select(name='Wingbeats',species=['Ae. aegypti','Ae. albopictus', 'C. quinquefasciatus', 'C. pipiens'])\n",
    "dconf.select(name='LG', species=['LG_zapr_26_09'])\n",
    "dconf.select(name='Leafminers', species=['P_Cichorii'])\n",
    "dconf.read()\n",
    "\n",
    "using_conv2d = False\n",
    "traincf = TrainConfiguration(dataset=dconf, setting=data_setting, model_name=f'paper2_{splitting}_{data_setting}_{model_setting}_weights')\n",
    "modelconf = ModelConfiguration(model_setting=model_setting, data_setting=data_setting, target_names=traincf.target_names).config\n",
    "\n",
    "modelconf.load_weights(traincf.top_weights_path)\n",
    "\n",
    "from tensorflow.keras.models import Model\n",
    "from tensorflow.keras.layers import Dense\n",
    "\n",
    "new_model = Model(modelconf.inputs, modelconf.layers[-2].output)\n",
    "x = Dense(traincf.targets, activation='relu')(new_model.layers[-1].output)\n",
    "x = Dense(traincf.targets, activation='softmax')(x)\n",
    "\n",
    "del modelconf\n",
    "model = Model(inputs=new_model.inputs, outputs=x)\n",
    "\n"
   ]
  },
  {
   "cell_type": "code",
   "execution_count": 5,
   "metadata": {},
   "outputs": [],
   "source": [
    "xtractor_model = Model(inputs=model.input, outputs=model.get_layer(model.layers[-2].name).output)"
   ]
  },
  {
   "cell_type": "code",
   "execution_count": 6,
   "metadata": {},
   "outputs": [],
   "source": [
    "# Xx = xtractor_model.predict_generator(valid_generator(X_sens49, \n",
    "#                                                 y_sens49, \n",
    "#                                                 batch_size=traincf.batch_size, \n",
    "#                                                 setting=traincf.setting, \n",
    "#                                                 target_names=traincf.target_names,\n",
    "#                                                 preprocessing_train_stats='',\n",
    "#                                                 using_conv2d=using_conv2d),\n",
    "#         steps = int(math.ceil(float(len(X_sens49)) / float(traincf.batch_size))))"
   ]
  },
  {
   "cell_type": "markdown",
   "metadata": {},
   "source": [
    "## Modelling pca features of 2 flies"
   ]
  },
  {
   "cell_type": "code",
   "execution_count": 7,
   "metadata": {},
   "outputs": [],
   "source": [
    "# 0.84 accuracy\n",
    "\n",
    "# from sklearn.decomposition import PCA\n",
    "# from sklearn.preprocessing import StandardScaler\n",
    "\n",
    "\n",
    "# X_std = StandardScaler(with_std=True).fit_transform(Xx)\n",
    "\n",
    "# pca = PCA(n_components=6)\n",
    "\n",
    "# X_final =pca.fit_transform(X_std)\n",
    "\n",
    "# plt.figure(figsize=(15,10))\n",
    "# sb.scatterplot(X_final[:,0], X_final[:,1],\n",
    "#                 alpha=0.5, \n",
    "#                 legend='full', \n",
    "#                 style=y_test,\n",
    "# #                 size=sub.y_hours,\n",
    "#                 hue=y_test, # HERE SELECT HOURS OR DAYS\n",
    "#                )#palette=sns.color_palette(\"cubehelix\", 8)) \n",
    "# plt.xlabel('component 1')\n",
    "# plt.ylabel('component 2')\n",
    "# plt.show()\n",
    "\n",
    "# from sklearn.linear_model import LogisticRegression\n",
    "# from sklearn.ensemble import RandomForestClassifier\n",
    "# from sklearn.model_selection import cross_val_score\n",
    "# from sklearn.tree import DecisionTreeClassifier\n",
    "# from xgboost import XGBClassifier\n",
    "\n",
    "# estimator = XGBClassifier(n_estimators=150, n_jobs=8) #LogisticRegression(solver='lbfgs', n_jobs=-1)\n",
    "# estimator.fit(X_final, y_test)\n",
    "\n",
    "# np.mean(cross_val_score(estimator, X_final, y_test, cv=5))"
   ]
  },
  {
   "cell_type": "markdown",
   "metadata": {},
   "source": [
    "## Visualization of all insects"
   ]
  },
  {
   "cell_type": "markdown",
   "metadata": {},
   "source": [
    "### Fetching pre-trained test data"
   ]
  },
  {
   "cell_type": "code",
   "execution_count": 8,
   "metadata": {},
   "outputs": [],
   "source": [
    "dconf = DatasetConfiguration(names=['Wingbeats','LG','Leafminers'])\n",
    "dconf.select(name='Wingbeats',species=['Ae. aegypti','Ae. albopictus', 'C. quinquefasciatus', 'C. pipiens'])\n",
    "dconf.select(name='LG', species=['LG_zapr_26_09'])\n",
    "dconf.select(name='Leafminers', species=['P_Cichorii'])\n",
    "dconf.read()"
   ]
  },
  {
   "cell_type": "code",
   "execution_count": 9,
   "metadata": {},
   "outputs": [],
   "source": [
    "X_pre = dconf.fnames.tolist()\n",
    "le_pre = LabelEncoder()\n",
    "y_pre = le_pre.fit_transform(dconf.labels.tolist())"
   ]
  },
  {
   "cell_type": "code",
   "execution_count": 10,
   "metadata": {},
   "outputs": [],
   "source": [
    "names_pre = list(get_integer_mapping(le_pre).keys())"
   ]
  },
  {
   "cell_type": "code",
   "execution_count": 11,
   "metadata": {},
   "outputs": [],
   "source": [
    "X_pre,y_pre = shuffle(X_pre, y_pre, random_state=seed)\n",
    "_, X_test_pre, _, _, y_test_pre, _ = train_test_val_split(X_pre,y_pre,test_size=0.1, val_size=0.2, random_state=seed)"
   ]
  },
  {
   "cell_type": "markdown",
   "metadata": {},
   "source": [
    "#### Adding 2 anopheles mosquitoes"
   ]
  },
  {
   "cell_type": "code",
   "execution_count": 12,
   "metadata": {},
   "outputs": [],
   "source": [
    "dconf_an = DatasetConfiguration(names=['Wingbeats'])\n",
    "dconf_an.select(name='Wingbeats',species=['An. arabiensis', 'An. gambiae'])\n",
    "dconf_an.read()"
   ]
  },
  {
   "cell_type": "code",
   "execution_count": 13,
   "metadata": {},
   "outputs": [],
   "source": [
    "sample = np.random.randint(0,len(dconf_an.fnames), 5000)\n",
    "\n",
    "X_an = dconf_an.fnames.loc[sample].tolist()\n",
    "y_an = dconf_an.labels.loc[sample].tolist()"
   ]
  },
  {
   "cell_type": "markdown",
   "metadata": {},
   "source": [
    "### Combining data"
   ]
  },
  {
   "cell_type": "code",
   "execution_count": 42,
   "metadata": {},
   "outputs": [],
   "source": [
    "X_test_all = X_test_pre + X_an #X_sens49 + X_test_pre + X_an\n",
    "\n",
    "len_bdir = len(BASE_DIR.split('/'))\n",
    "y_test_all = pd.Series(X_test_all).apply(lambda x: x.split('/')[len_bdir]).tolist()\n",
    "target_names = pd.Series(y_test_all).unique().tolist()\n",
    "\n",
    "le_all = LabelEncoder()\n",
    "y_test_all = le_all.fit_transform(y_test_all)"
   ]
  },
  {
   "cell_type": "code",
   "execution_count": 43,
   "metadata": {},
   "outputs": [
    {
     "data": {
      "text/plain": [
       "0    8555\n",
       "5    7460\n",
       "3    3568\n",
       "4    3042\n",
       "1    2023\n",
       "2    1432\n",
       "6     721\n",
       "7     160\n",
       "dtype: int64"
      ]
     },
     "execution_count": 43,
     "metadata": {},
     "output_type": "execute_result"
    }
   ],
   "source": [
    "pd.Series(y_test_all).value_counts()"
   ]
  },
  {
   "cell_type": "code",
   "execution_count": 44,
   "metadata": {},
   "outputs": [],
   "source": [
    "X_all = xtractor_model.predict_generator(valid_generator(X_test_all, \n",
    "                                                y_test_all, \n",
    "                                                batch_size=traincf.batch_size, \n",
    "                                                setting=traincf.setting, \n",
    "                                                target_names=target_names,\n",
    "                                                preprocessing_train_stats='',\n",
    "                                                using_conv2d=using_conv2d),\n",
    "        steps = int(math.ceil(float(len(X_test_all)) / float(traincf.batch_size))))"
   ]
  },
  {
   "cell_type": "markdown",
   "metadata": {},
   "source": [
    "### Plotting PCA of all"
   ]
  },
  {
   "cell_type": "code",
   "execution_count": 45,
   "metadata": {},
   "outputs": [],
   "source": [
    "# from sklearn.decomposition import PCA\n",
    "# from sklearn.preprocessing import StandardScaler\n",
    "# import seaborn as sns\n",
    "\n",
    "# X_std = StandardScaler(with_std=True).fit_transform(X_all)\n",
    "\n",
    "# pca = PCA(n_components=6)\n",
    "\n",
    "# X_final =pca.fit_transform(X_std)\n",
    "\n",
    "# plt.figure(figsize=(15,10))\n",
    "# sb.scatterplot(X_final[:,0], X_final[:,1],\n",
    "#                 alpha=0.5, \n",
    "#                 legend='full', \n",
    "# #                 style=y_test_all,\n",
    "# #                 size=sub.y_hours,\n",
    "#                 hue=y_test_all, # HERE SELECT HOURS OR DAYS\n",
    "#                palette=sns.color_palette(\"cubehelix\", len(target_names))) \n",
    "# plt.xlabel('component 1')\n",
    "# plt.ylabel('component 2')\n",
    "# plt.show()"
   ]
  },
  {
   "cell_type": "code",
   "execution_count": 46,
   "metadata": {},
   "outputs": [],
   "source": [
    "from sklearn.manifold import TSNE\n",
    "\n",
    "params = {\"learning_rate\": 10,#,100,200],#,500,1000],\n",
    "          \"perplexity\": 50,#[20,30,50,100,150],\n",
    "          \"init\": 'pca', #,'random'],\n",
    "          \"steps\": 1000}#, 5000]}  \n",
    "\n",
    "tSNE = TSNE(learning_rate=params['learning_rate'], \n",
    "            perplexity=params['perplexity'], \n",
    "            init=params['init'], \n",
    "            random_state=0, \n",
    "            n_iter=params['steps'], \n",
    "            n_jobs=-1)\n",
    "\n",
    "X_final = tSNE.fit_transform(X_all)"
   ]
  },
  {
   "cell_type": "code",
   "execution_count": 47,
   "metadata": {},
   "outputs": [],
   "source": [
    "# import seaborn as sb\n",
    "# plt.figure(figsize=(20,12))\n",
    "# sb.scatterplot(X_final[:,0], X_final[:,1],alpha=0.9, legend='full', \n",
    "#                 hue=y_test_all,\n",
    "#                 palette=sb.color_palette(\"cubehelix\", len(target_names)))\n",
    "# get_integer_mapping(le_all)"
   ]
  },
  {
   "cell_type": "code",
   "execution_count": 48,
   "metadata": {},
   "outputs": [],
   "source": [
    "# df = pd.DataFrame(X_all[:,:2], columns=['a','b'])\n",
    "# df['labels'] = y_test_all\n",
    "df = pd.DataFrame({\n",
    "'x': X_all[:,0],\n",
    "'y': X_all[:,1],\n",
    "'l': y_test_all,\n",
    "# 'group': list(get_integer_mapping(le_all).keys())\n",
    "})\n",
    "\n",
    "import seaborn as sb"
   ]
  },
  {
   "cell_type": "code",
   "execution_count": 49,
   "metadata": {},
   "outputs": [
    {
     "data": {
      "application/vnd.jupyter.widget-view+json": {
       "model_id": "0fc027db7f134765ad91c2d4b34b8062",
       "version_major": 2,
       "version_minor": 0
      },
      "text/plain": [
       "Canvas(toolbar=Toolbar(toolitems=[('Home', 'Reset original view', 'home', 'home'), ('Back', 'Back to previous …"
      ]
     },
     "metadata": {},
     "output_type": "display_data"
    }
   ],
   "source": [
    "%matplotlib widget\n",
    "\n",
    "fig = plt.figure(figsize=(16,8))\n",
    "\n",
    "# sb.scatterplot(X_final[:,0], X_final[:,1],alpha=0.9, legend='full', \n",
    "#                 hue=y_test_all,\n",
    "#                 palette=sb.color_palette(\"cubehelix\", len(target_names)))\n",
    "ax = fig.gca()\n",
    "\n",
    "ax.spines['right'].set_visible(False)\n",
    "ax.spines['top'].set_visible(False)\n",
    "\n",
    "x_min, x_max = np.min(X_final, 0), np.max(X_final, 0)\n",
    "Xxx = (X_final - x_min) / (x_max - x_min)\n",
    "\n",
    "for i in range(df.shape[0]):\n",
    "    ax.text(Xxx[i,0], Xxx[i,1], y_test_all[i], horizontalalignment='center', size='small', color = plt.cm.Set3(y_test_all[i]), fontdict = {'weight': 'bold', 'size': 4})"
   ]
  },
  {
   "cell_type": "code",
   "execution_count": 50,
   "metadata": {},
   "outputs": [
    {
     "data": {
      "text/plain": [
       "{'Ae. aegypti': 0,\n",
       " 'Ae. albopictus': 1,\n",
       " 'An. arabiensis': 2,\n",
       " 'An. gambiae': 3,\n",
       " 'C. pipiens': 4,\n",
       " 'C. quinquefasciatus': 5,\n",
       " 'LG_zapr_26_09': 6,\n",
       " 'P_Cichorii': 7}"
      ]
     },
     "execution_count": 50,
     "metadata": {},
     "output_type": "execute_result"
    }
   ],
   "source": [
    "get_integer_mapping(le_all)"
   ]
  },
  {
   "cell_type": "code",
   "execution_count": 51,
   "metadata": {},
   "outputs": [],
   "source": [
    "from scipy.special import softmax"
   ]
  },
  {
   "cell_type": "code",
   "execution_count": 52,
   "metadata": {},
   "outputs": [
    {
     "data": {
      "text/plain": [
       "array([0, 4, 4, ..., 0, 0, 0])"
      ]
     },
     "execution_count": 52,
     "metadata": {},
     "output_type": "execute_result"
    }
   ],
   "source": [
    "np.argmax(softmax(X_all, axis=1), axis=1)"
   ]
  },
  {
   "cell_type": "code",
   "execution_count": 53,
   "metadata": {},
   "outputs": [
    {
     "data": {
      "application/vnd.jupyter.widget-view+json": {
       "model_id": "79101677c2af48ca8119d6fcecdc3df5",
       "version_major": 2,
       "version_minor": 0
      },
      "text/plain": [
       "Canvas(toolbar=Toolbar(toolitems=[('Home', 'Reset original view', 'home', 'home'), ('Back', 'Back to previous …"
      ]
     },
     "metadata": {},
     "output_type": "display_data"
    },
    {
     "data": {
      "text/plain": [
       "<matplotlib.axes._subplots.AxesSubplot at 0x7f7bb1d7a978>"
      ]
     },
     "execution_count": 53,
     "metadata": {},
     "output_type": "execute_result"
    }
   ],
   "source": [
    "plt.figure()\n",
    "pd.DataFrame(X_all)[0].plot()"
   ]
  },
  {
   "cell_type": "code",
   "execution_count": null,
   "metadata": {},
   "outputs": [],
   "source": []
  },
  {
   "cell_type": "code",
   "execution_count": null,
   "metadata": {},
   "outputs": [],
   "source": []
  },
  {
   "cell_type": "code",
   "execution_count": null,
   "metadata": {},
   "outputs": [],
   "source": []
  },
  {
   "cell_type": "code",
   "execution_count": null,
   "metadata": {},
   "outputs": [],
   "source": []
  }
 ],
 "metadata": {
  "kernelspec": {
   "display_name": "Python 3",
   "language": "python",
   "name": "python3"
  },
  "language_info": {
   "codemirror_mode": {
    "name": "ipython",
    "version": 3
   },
   "file_extension": ".py",
   "mimetype": "text/x-python",
   "name": "python",
   "nbconvert_exporter": "python",
   "pygments_lexer": "ipython3",
   "version": "3.6.7"
  }
 },
 "nbformat": 4,
 "nbformat_minor": 4
}
