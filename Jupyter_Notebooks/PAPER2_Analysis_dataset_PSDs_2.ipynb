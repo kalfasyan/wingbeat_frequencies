{
 "cells": [
  {
   "cell_type": "code",
   "execution_count": 1,
   "metadata": {},
   "outputs": [],
   "source": [
    "%reset -f\n",
    "import sys\n",
    "sys.path.insert(0, \"..\")\n",
    "from wavhandler import Dataset\n",
    "import numpy as np\n",
    "import math\n",
    "from sklearn.preprocessing import LabelEncoder\n",
    "from sklearn.utils import shuffle\n",
    "from sklearn.model_selection import train_test_split\n",
    "from sklearn.metrics import confusion_matrix, balanced_accuracy_score, classification_report, make_scorer, log_loss\n",
    "from utils_train import *\n",
    "import deepdish as dd\n",
    "from configs import DatasetConfiguration\n",
    "import os\n",
    "import pandas as pd\n",
    "from sklearn.metrics import confusion_matrix\n",
    "import seaborn as sb\n",
    "import matplotlib.pyplot as plt"
   ]
  },
  {
   "cell_type": "code",
   "execution_count": 2,
   "metadata": {},
   "outputs": [
    {
     "name": "stdout",
     "output_type": "stream",
     "text": [
      "Species: all.\n",
      "Read 10264 filenames in 0.03 seconds.\n"
     ]
    }
   ],
   "source": [
    "from sklearn.utils import shuffle\n",
    "\n",
    "dataset = Dataset('Pcfruit_sensor49')\n",
    "dataset.read(loadmat=False);\n",
    "dataset.get_sensor_features(temp_humd=False);\n",
    "dataset.df_features['y'] = dataset.df_features.filenames.apply(lambda x: x.split('/')[dataset.class_path_idx])\n",
    "df = dataset.df_features"
   ]
  },
  {
   "cell_type": "code",
   "execution_count": 3,
   "metadata": {},
   "outputs": [],
   "source": [
    "mel_test_dates = ['20191216','20191217','20191220','20191221','20191222','20191223',\n",
    "                 '20191224','20191225','20191226','20191227','20191228','20191229',\n",
    "                 '20191230','20191231','20200101','20200102','20200103','20200104',\n",
    "                 '20200105','20200106',#'20200107','20200108','20200109','20200110',\n",
    "                 '20200111','20200112','20200113','20200114','20200115','20200116']#,\n",
    "#                  '20200117','20200118','20200119']\n",
    "mel_val_dates = ['20200131','20200201','20200307','20200313','20200314','20200315','20200316', '20200107','20200108','20200109','20200110']\n",
    "suz_test_dates = ['20200207',  '20200219']\n",
    "suz_val_dates = ['20200209','20200214',  '20200208']"
   ]
  },
  {
   "cell_type": "code",
   "execution_count": 4,
   "metadata": {},
   "outputs": [],
   "source": [
    "x_test_suz = df[(df.y=='D. suzukii') & (df.datestr.isin(suz_test_dates))].filenames.tolist()\n",
    "x_test_mel = df[(df.y=='D. melanogaster') & (df.datestr.isin(mel_test_dates))].filenames.tolist()\n",
    "y_test_suz = df[(df.y=='D. suzukii') & (df.datestr.isin(suz_test_dates))].y.tolist()\n",
    "y_test_mel = df[(df.y=='D. melanogaster') & (df.datestr.isin(mel_test_dates))].y.tolist()\n",
    "\n",
    "X_test = x_test_suz+x_test_mel\n",
    "y_test = y_test_suz+y_test_mel\n",
    "\n",
    "x_val_suz = df[(df.y=='D. suzukii') & (df.datestr.isin(suz_val_dates))].filenames.tolist()\n",
    "x_val_mel = df[(df.y=='D. melanogaster') & (df.datestr.isin(mel_val_dates))].filenames.tolist()\n",
    "y_val_suz = df[(df.y=='D. suzukii') & (df.datestr.isin(suz_val_dates))].y.tolist()\n",
    "y_val_mel = df[(df.y=='D. melanogaster') & (df.datestr.isin(mel_val_dates))].y.tolist()\n",
    "\n",
    "X_val = x_val_suz+x_val_mel\n",
    "y_val = y_val_suz+y_val_mel"
   ]
  },
  {
   "cell_type": "code",
   "execution_count": 5,
   "metadata": {},
   "outputs": [],
   "source": [
    "X_train = df[~df.filenames.isin(X_test+X_val)].filenames.tolist()\n",
    "y_train = df[~df.filenames.isin(X_test+X_val)].y.tolist()\n",
    "\n",
    "X_train, y_train = shuffle(X_train, y_train, random_state=42)\n",
    "X_val, y_val = shuffle(X_val, y_val, random_state=42)\n",
    "X_test, y_test = shuffle(X_test, y_test, random_state=42)\n",
    "\n",
    "\n",
    "from sklearn.preprocessing import LabelEncoder\n",
    "le = LabelEncoder()\n",
    "le.fit(y_train)\n",
    "y_train, y_val, y_test = le.transform(y_train), le.transform(y_val), le.transform(y_test)"
   ]
  },
  {
   "cell_type": "code",
   "execution_count": 6,
   "metadata": {},
   "outputs": [
    {
     "name": "stdout",
     "output_type": "stream",
     "text": [
      "Train: \n",
      "0    6473\n",
      "1    1412\n",
      "dtype: int64\n",
      "Val: \n",
      "0    1272\n",
      "1     391\n",
      "dtype: int64\n",
      "Test: \n",
      "0    549\n",
      "1    167\n",
      "dtype: int64\n"
     ]
    }
   ],
   "source": [
    "print(f\"Train: \\n{pd.Series(y_train).value_counts()}\")\n",
    "print(f\"Val: \\n{pd.Series(y_val).value_counts()}\")\n",
    "print(f\"Test: \\n{pd.Series(y_test).value_counts()}\")"
   ]
  },
  {
   "cell_type": "code",
   "execution_count": 15,
   "metadata": {},
   "outputs": [],
   "source": [
    "traincf = TrainConfiguration(dataset=dataset, setting='psdflt', model_name='mixtesttrain', monitor='val_accuracy')"
   ]
  },
  {
   "cell_type": "code",
   "execution_count": 16,
   "metadata": {},
   "outputs": [
    {
     "name": "stdout",
     "output_type": "stream",
     "text": [
      "############ INPUT SHAPE:(4097, 1)\n"
     ]
    }
   ],
   "source": [
    "modelconf = ModelConfiguration(model_setting='conv1d', data_setting='psdflt', target_names=traincf.target_names)"
   ]
  },
  {
   "cell_type": "code",
   "execution_count": 17,
   "metadata": {},
   "outputs": [],
   "source": [
    "model = modelconf.config\n",
    "model.compile(optimizer='adam', metrics=['accuracy'], loss='binary_crossentropy')\n",
    "from sklearn.utils import class_weight\n",
    "weights = class_weight.compute_class_weight('balanced', classes=np.unique(y_train), y=y_train)\n",
    "class_weights = {i : weights[i] for i in range(2)}"
   ]
  },
  {
   "cell_type": "code",
   "execution_count": 18,
   "metadata": {},
   "outputs": [
    {
     "name": "stderr",
     "output_type": "stream",
     "text": [
      "../utils_train.py:141: RuntimeWarning: divide by zero encountered in log10\n",
      "  _,data = 10*np.log10(signal.welch(data, fs=8000, scaling='density', window='hanning', nfft=8192, nperseg=256, noverlap=128+64))\n"
     ]
    },
    {
     "name": "stdout",
     "output_type": "stream",
     "text": [
      "Epoch 1/100\n",
      "247/247 [==============================] - ETA: 0s - loss: 0.4556 - accuracy: 0.7862\n",
      "Epoch 00001: val_accuracy improved from -inf to 0.18614, saving model to /home/kalfasyan/projects/wingbeat_frequencies/temp_data/mixtesttrain.h5\n",
      "247/247 [==============================] - 52s 211ms/step - loss: 0.4556 - accuracy: 0.7862 - val_loss: 1.1882 - val_accuracy: 0.1861 - lr: 0.0010\n",
      "Epoch 2/100\n",
      "247/247 [==============================] - ETA: 0s - loss: 0.4255 - accuracy: 0.8224\n",
      "Epoch 00002: val_accuracy improved from 0.18614 to 0.92391, saving model to /home/kalfasyan/projects/wingbeat_frequencies/temp_data/mixtesttrain.h5\n",
      "247/247 [==============================] - 52s 209ms/step - loss: 0.4255 - accuracy: 0.8224 - val_loss: 0.4840 - val_accuracy: 0.9239 - lr: 0.0010\n",
      "Epoch 3/100\n",
      "247/247 [==============================] - ETA: 0s - loss: 0.4154 - accuracy: 0.8278\n",
      "Epoch 00003: val_accuracy did not improve from 0.92391\n",
      "247/247 [==============================] - 51s 206ms/step - loss: 0.4154 - accuracy: 0.8278 - val_loss: 1.5031 - val_accuracy: 0.2027 - lr: 0.0010\n",
      "Epoch 4/100\n",
      "247/247 [==============================] - ETA: 0s - loss: 0.4125 - accuracy: 0.8282\n",
      "Epoch 00004: val_accuracy did not improve from 0.92391\n",
      "247/247 [==============================] - 51s 206ms/step - loss: 0.4125 - accuracy: 0.8282 - val_loss: 0.2601 - val_accuracy: 0.9062 - lr: 0.0010\n",
      "Epoch 5/100\n",
      "247/247 [==============================] - ETA: 0s - loss: 0.4051 - accuracy: 0.8356\n",
      "Epoch 00005: val_accuracy did not improve from 0.92391\n",
      "\n",
      "Epoch 00005: ReduceLROnPlateau reducing learning rate to 0.00010000000474974513.\n",
      "247/247 [==============================] - 51s 208ms/step - loss: 0.4051 - accuracy: 0.8356 - val_loss: 0.7193 - val_accuracy: 0.5796 - lr: 0.0010\n",
      "Epoch 6/100\n",
      "247/247 [==============================] - ETA: 0s - loss: 0.3898 - accuracy: 0.8462\n",
      "Epoch 00006: val_accuracy did not improve from 0.92391\n",
      "247/247 [==============================] - 51s 206ms/step - loss: 0.3898 - accuracy: 0.8462 - val_loss: 0.4799 - val_accuracy: 0.7255 - lr: 1.0000e-04\n",
      "Epoch 7/100\n",
      "247/247 [==============================] - ETA: 0s - loss: 0.3871 - accuracy: 0.8422\n",
      "Epoch 00007: val_accuracy did not improve from 0.92391\n",
      "247/247 [==============================] - 51s 207ms/step - loss: 0.3871 - accuracy: 0.8422 - val_loss: 0.8322 - val_accuracy: 0.5524 - lr: 1.0000e-04\n",
      "Epoch 8/100\n",
      "247/247 [==============================] - ETA: 0s - loss: 0.3887 - accuracy: 0.8375\n",
      "Epoch 00008: val_accuracy did not improve from 0.92391\n",
      "\n",
      "Epoch 00008: ReduceLROnPlateau reducing learning rate to 1.0000000474974514e-05.\n",
      "247/247 [==============================] - 51s 207ms/step - loss: 0.3887 - accuracy: 0.8375 - val_loss: 0.7702 - val_accuracy: 0.5951 - lr: 1.0000e-04\n",
      "Epoch 9/100\n",
      "247/247 [==============================] - ETA: 0s - loss: 0.3801 - accuracy: 0.8413\n",
      "Epoch 00009: val_accuracy did not improve from 0.92391\n",
      "247/247 [==============================] - 51s 207ms/step - loss: 0.3801 - accuracy: 0.8413 - val_loss: 0.6249 - val_accuracy: 0.7102 - lr: 1.0000e-05\n",
      "Epoch 00009: early stopping\n"
     ]
    }
   ],
   "source": [
    "traingen = train_generator(X_train, y_train, \n",
    "                           batch_size=traincf.batch_size,\n",
    "                           target_names=traincf.target_names,\n",
    "                           setting=traincf.setting,\n",
    "                           preprocessing_train_stats='')\n",
    "\n",
    "valgen = valid_generator(X_val, y_val,\n",
    "                        batch_size=traincf.batch_size,\n",
    "                        target_names=traincf.target_names,\n",
    "                        setting=traincf.setting,\n",
    "                        preprocessing_train_stats='')\n",
    "\n",
    "h = model.fit(traingen,\n",
    "                steps_per_epoch = int(math.ceil(float(len(X_train)) / float(traincf.batch_size))),\n",
    "                epochs = traincf.epochs,\n",
    "                validation_data = valgen,\n",
    "                validation_steps=int(math.ceil(float(len(X_test))/float(traincf.batch_size))),\n",
    "                callbacks=traincf.callbacks_list, \n",
    "                class_weight=class_weights, \n",
    "                verbose=1);"
   ]
  },
  {
   "cell_type": "code",
   "execution_count": 19,
   "metadata": {},
   "outputs": [],
   "source": [
    "data_setting = 'psdflt'\n",
    "y_pred = model.predict(valid_generator(X_test, \n",
    "                        y_test, \n",
    "                        batch_size=128, \n",
    "                        setting=data_setting, \n",
    "                        target_names=traincf.target_names,\n",
    "                       preprocessing_train_stats=''),\n",
    "                    steps = int(math.ceil(float(len(X_test)) / float(128))))"
   ]
  },
  {
   "cell_type": "code",
   "execution_count": 20,
   "metadata": {},
   "outputs": [],
   "source": [
    "y_pred_argmax = np.argmax(y_pred, axis=1)\n",
    "cm = confusion_matrix(y_test, y_pred_argmax).astype(float)"
   ]
  },
  {
   "cell_type": "code",
   "execution_count": 21,
   "metadata": {},
   "outputs": [
    {
     "data": {
      "text/plain": [
       "0.5889696017800464"
      ]
     },
     "execution_count": 21,
     "metadata": {},
     "output_type": "execute_result"
    }
   ],
   "source": [
    "balanced_accuracy_score(y_true=y_test, y_pred=y_pred_argmax)"
   ]
  },
  {
   "cell_type": "code",
   "execution_count": 22,
   "metadata": {},
   "outputs": [
    {
     "data": {
      "text/plain": [
       "<matplotlib.axes._subplots.AxesSubplot at 0x7f4444588150>"
      ]
     },
     "execution_count": 22,
     "metadata": {},
     "output_type": "execute_result"
    },
    {
     "data": {
      "image/png": "[encoded data removed]",
      "text/plain": [
       "<Figure size 432x288 with 2 Axes>"
      ]
     },
     "metadata": {
      "needs_background": "light"
     },
     "output_type": "display_data"
    }
   ],
   "source": [
    "import seaborn as sns\n",
    "sns.heatmap(cm, annot=True, fmt='g')"
   ]
  },
  {
   "cell_type": "code",
   "execution_count": null,
   "metadata": {},
   "outputs": [],
   "source": []
  }
 ],
 "metadata": {
  "kernelspec": {
   "display_name": "Python 3",
   "language": "python",
   "name": "python3"
  },
  "language_info": {
   "codemirror_mode": {
    "name": "ipython",
    "version": 3
   },
   "file_extension": ".py",
   "mimetype": "text/x-python",
   "name": "python",
   "nbconvert_exporter": "python",
   "pygments_lexer": "ipython3",
   "version": "3.7.7"
  }
 },
 "nbformat": 4,
 "nbformat_minor": 4
}
