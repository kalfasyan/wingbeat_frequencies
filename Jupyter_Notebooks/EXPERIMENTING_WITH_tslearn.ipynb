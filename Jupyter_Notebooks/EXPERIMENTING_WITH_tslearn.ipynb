{
 "cells": [
  {
   "cell_type": "code",
   "execution_count": 5,
   "metadata": {},
   "outputs": [],
   "source": [
    "%reset -f\n",
    "import sys\n",
    "sys.path.insert(0, '..')\n",
    "from wavhandler import *\n",
    "import numpy as np\n",
    "from tslearn.neighbors import KNeighborsTimeSeriesClassifier\n",
    "from tslearn.utils import to_time_series_dataset\n",
    "from utils_train import *"
   ]
  },
  {
   "cell_type": "code",
   "execution_count": 6,
   "metadata": {},
   "outputs": [
    {
     "name": "stdout",
     "output_type": "stream",
     "text": [
      "Species: Ae. aegypti.\n",
      "Read 85553 filenames in 2.39 seconds.\n",
      "['20170209', '20170208', '20170210', '20170206', '20170213', '20170211', '20170207', '20161213', '20170212', '20161212']\n",
      "82989 train filenames, 2564 test filenames\n",
      "Species: Ae. albopictus.\n",
      "Read 20231 filenames in 2.46 seconds.\n",
      "['20170301', '20170228', '20170227', '20170103', '20170102']\n",
      "17440 train filenames, 2791 test filenames\n",
      "Species: An. arabiensis.\n",
      "Read 19297 filenames in 2.42 seconds.\n",
      "['20170313', '20170202', '20170315', '20170314', '20170318', '20170204', '20170201', '20170131', '20170203', '20170317', '20170320', '20170319', '20170316', '20170205', '20170206', '20170130']\n",
      "12897 train filenames, 2831 test filenames\n",
      "Species: An. gambiae.\n",
      "Read 49471 filenames in 2.38 seconds.\n",
      "['20170110', '20170109', '20170116', '20170119', '20170120', '20170117', '20170121', '20170118', '20170122', '20170123']\n",
      "45471 train filenames, 4000 test filenames\n",
      "Species: C. quinquefasciatus.\n",
      "Read 74599 filenames in 2.40 seconds.\n",
      "['20161220', '20161219', '20161221']\n",
      "41552 train filenames, 33047 test filenames\n",
      "Species: C. pipiens.\n",
      "Read 30415 filenames in 2.43 seconds.\n",
      "['20161206', '20161205', '20170215', '20170216', '20170220', '20170217', '20170214', '20170213', '20170219', '20170218']\n",
      "28353 train filenames, 2062 test filenames\n"
     ]
    }
   ],
   "source": [
    "data = Dataset('Wingbeats')\n",
    "splitting = 'randomcv'\n",
    "\n",
    "X_train, X_val, X_test, y_train, y_val, y_test = mosquito_data_split(splitting=splitting, dataset=data)"
   ]
  },
  {
   "cell_type": "code",
   "execution_count": 7,
   "metadata": {},
   "outputs": [],
   "source": [
    "x_train = to_time_series_dataset(make_df_parallel(names=X_train, setting='psd_dB').values)\n",
    "x_test = to_time_series_dataset(make_df_parallel(names=X_test, setting='psd_dB').values)"
   ]
  },
  {
   "cell_type": "code",
   "execution_count": 8,
   "metadata": {},
   "outputs": [],
   "source": [
    "knn = KNeighborsTimeSeriesClassifier(metric=\"dtw\", n_jobs=-1, n_neighbors=11)"
   ]
  },
  {
   "cell_type": "code",
   "execution_count": 9,
   "metadata": {},
   "outputs": [
    {
     "data": {
      "text/plain": [
       "KNeighborsTimeSeriesClassifier(metric='dtw', metric_params=None, n_jobs=-1,\n",
       "                               n_neighbors=11, weights='uniform')"
      ]
     },
     "execution_count": 9,
     "metadata": {},
     "output_type": "execute_result"
    }
   ],
   "source": [
    "knn.fit(x_train, y_train)"
   ]
  },
  {
   "cell_type": "code",
   "execution_count": 10,
   "metadata": {},
   "outputs": [
    {
     "data": {
      "text/plain": [
       "0.4078333333333333"
      ]
     },
     "execution_count": 10,
     "metadata": {},
     "output_type": "execute_result"
    }
   ],
   "source": [
    "knn.score(x_test, y_test)"
   ]
  },
  {
   "cell_type": "code",
   "execution_count": null,
   "metadata": {},
   "outputs": [],
   "source": []
  }
 ],
 "metadata": {
  "kernelspec": {
   "display_name": "wbtf2",
   "language": "python",
   "name": "wbtf2"
  },
  "language_info": {
   "codemirror_mode": {
    "name": "ipython",
    "version": 3
   },
   "file_extension": ".py",
   "mimetype": "text/x-python",
   "name": "python",
   "nbconvert_exporter": "python",
   "pygments_lexer": "ipython3",
   "version": "3.6.7"
  }
 },
 "nbformat": 4,
 "nbformat_minor": 2
}
