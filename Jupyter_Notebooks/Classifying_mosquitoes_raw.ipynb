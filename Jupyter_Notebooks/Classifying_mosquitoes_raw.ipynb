{
 "cells": [
  {
   "cell_type": "code",
   "execution_count": 1,
   "metadata": {},
   "outputs": [],
   "source": [
    "%reset -f\n",
    "import sys\n",
    "sys.path.insert(0,'..')\n",
    "# import tensorflow as tf\n",
    "from sklearn.model_selection import train_test_split\n",
    "from tensorflow.keras.models import Sequential\n",
    "from tensorflow.keras.layers import Dense, Dropout, Activation\n",
    "from tensorflow.keras.layers import Conv1D, GlobalAveragePooling1D, MaxPooling1D\n",
    "from tensorflow.keras.optimizers import SGD\n",
    "from tensorflow.keras.layers import BatchNormalization\n",
    "from sklearn.model_selection import train_test_split\n",
    "from tensorflow.keras.callbacks import ModelCheckpoint, EarlyStopping, ReduceLROnPlateau, CSVLogger\n",
    "from tensorflow.keras.utils import to_categorical\n",
    "from tensorflow.keras import utils\n",
    "from wavhandler import *\n",
    "from utils_train import train_test_val_split"
   ]
  },
  {
   "cell_type": "code",
   "execution_count": 2,
   "metadata": {},
   "outputs": [
    {
     "name": "stdout",
     "output_type": "stream",
     "text": [
      "Data: Chicorii.\n",
      "Read 1451 filenames in 0.02 seconds.\n",
      "Loaded data into matrix in 0.53 seconds.\n",
      "Data: LG_drosophila_10_09.\n",
      "Read 5536 filenames in 0.14 seconds.\n",
      "Loaded data into matrix in 1.31 seconds.\n",
      "Data: LG_zapr_26_09.\n",
      "Read 7210 filenames in 0.11 seconds.\n",
      "Loaded data into matrix in 1.55 seconds.\n",
      "Data: D. suzukii.\n",
      "Read 6423 filenames in 0.05 seconds.\n",
      "Loaded data into matrix in 1.35 seconds.\n"
     ]
    }
   ],
   "source": [
    "data1 = Dataset('Leafminers')\n",
    "data1.read(data=data1.target_classes[0], setting='psd_dB', labels='text')\n",
    "data2 = Dataset('LG')\n",
    "data2.read(data=data2.target_classes[0], setting='psd_dB', labels='text')\n",
    "data3 = Dataset('LG')\n",
    "data3.read(data=data3.target_classes[1], setting='psd_dB', labels='text')\n",
    "data4 = Dataset('Pcfruit')\n",
    "data4.read(data=data4.target_classes[1], setting='psd_dB', labels='text')"
   ]
  },
  {
   "cell_type": "code",
   "execution_count": 3,
   "metadata": {},
   "outputs": [
    {
     "data": {
      "text/html": [
       "<div>\n",
       "<style scoped>\n",
       "    .dataframe tbody tr th:only-of-type {\n",
       "        vertical-align: middle;\n",
       "    }\n",
       "\n",
       "    .dataframe tbody tr th {\n",
       "        vertical-align: top;\n",
       "    }\n",
       "\n",
       "    .dataframe thead th {\n",
       "        text-align: right;\n",
       "    }\n",
       "</style>\n",
       "<table border=\"1\" class=\"dataframe\">\n",
       "  <thead>\n",
       "    <tr style=\"text-align: right;\">\n",
       "      <th></th>\n",
       "      <th>fnames</th>\n",
       "      <th>y</th>\n",
       "    </tr>\n",
       "  </thead>\n",
       "  <tbody>\n",
       "    <tr>\n",
       "      <th>3151</th>\n",
       "      <td>/home/kalfasyan/data/insects/LG/LG_drosophila_...</td>\n",
       "      <td>LG_drosophila_10_09</td>\n",
       "    </tr>\n",
       "    <tr>\n",
       "      <th>15758</th>\n",
       "      <td>/home/kalfasyan/data/insects/Pcfruit/D. suzuki...</td>\n",
       "      <td>D. suzukii</td>\n",
       "    </tr>\n",
       "    <tr>\n",
       "      <th>18217</th>\n",
       "      <td>/home/kalfasyan/data/insects/Pcfruit/D. suzuki...</td>\n",
       "      <td>D. suzukii</td>\n",
       "    </tr>\n",
       "    <tr>\n",
       "      <th>4008</th>\n",
       "      <td>/home/kalfasyan/data/insects/LG/LG_drosophila_...</td>\n",
       "      <td>LG_drosophila_10_09</td>\n",
       "    </tr>\n",
       "    <tr>\n",
       "      <th>2445</th>\n",
       "      <td>/home/kalfasyan/data/insects/LG/LG_drosophila_...</td>\n",
       "      <td>LG_drosophila_10_09</td>\n",
       "    </tr>\n",
       "    <tr>\n",
       "      <th>8932</th>\n",
       "      <td>/home/kalfasyan/data/insects/LG/LG_zapr_26_09/...</td>\n",
       "      <td>LG_zapr_26_09</td>\n",
       "    </tr>\n",
       "    <tr>\n",
       "      <th>18640</th>\n",
       "      <td>/home/kalfasyan/data/insects/Pcfruit/D. suzuki...</td>\n",
       "      <td>D. suzukii</td>\n",
       "    </tr>\n",
       "    <tr>\n",
       "      <th>13875</th>\n",
       "      <td>/home/kalfasyan/data/insects/Pcfruit/D. suzuki...</td>\n",
       "      <td>D. suzukii</td>\n",
       "    </tr>\n",
       "    <tr>\n",
       "      <th>3004</th>\n",
       "      <td>/home/kalfasyan/data/insects/LG/LG_drosophila_...</td>\n",
       "      <td>LG_drosophila_10_09</td>\n",
       "    </tr>\n",
       "    <tr>\n",
       "      <th>9231</th>\n",
       "      <td>/home/kalfasyan/data/insects/LG/LG_zapr_26_09/...</td>\n",
       "      <td>LG_zapr_26_09</td>\n",
       "    </tr>\n",
       "  </tbody>\n",
       "</table>\n",
       "</div>"
      ],
      "text/plain": [
       "                                                  fnames                    y\n",
       "3151   /home/kalfasyan/data/insects/LG/LG_drosophila_...  LG_drosophila_10_09\n",
       "15758  /home/kalfasyan/data/insects/Pcfruit/D. suzuki...           D. suzukii\n",
       "18217  /home/kalfasyan/data/insects/Pcfruit/D. suzuki...           D. suzukii\n",
       "4008   /home/kalfasyan/data/insects/LG/LG_drosophila_...  LG_drosophila_10_09\n",
       "2445   /home/kalfasyan/data/insects/LG/LG_drosophila_...  LG_drosophila_10_09\n",
       "8932   /home/kalfasyan/data/insects/LG/LG_zapr_26_09/...        LG_zapr_26_09\n",
       "18640  /home/kalfasyan/data/insects/Pcfruit/D. suzuki...           D. suzukii\n",
       "13875  /home/kalfasyan/data/insects/Pcfruit/D. suzuki...           D. suzukii\n",
       "3004   /home/kalfasyan/data/insects/LG/LG_drosophila_...  LG_drosophila_10_09\n",
       "9231   /home/kalfasyan/data/insects/LG/LG_zapr_26_09/...        LG_zapr_26_09"
      ]
     },
     "execution_count": 3,
     "metadata": {},
     "output_type": "execute_result"
    }
   ],
   "source": [
    "data1.clean(plot=False)\n",
    "data2.clean(plot=False)\n",
    "data3.clean(plot=False)\n",
    "data4.clean(plot=False)\n",
    "\n",
    "data = pd.DataFrame()\n",
    "data['fnames'] = pd.concat([data1.filenames, data2.filenames, data3.filenames, data4.filenames], axis=0).reset_index(drop=True)\n",
    "data['y'] = data.fnames.apply(lambda x: x.split('/')[6])\n",
    "# big.dropna(how='any', axis=1, inplace=True)\n",
    "data.sample(10)"
   ]
  },
  {
   "cell_type": "code",
   "execution_count": 4,
   "metadata": {},
   "outputs": [],
   "source": [
    "X,y = data.fnames, data.y"
   ]
  },
  {
   "cell_type": "code",
   "execution_count": 5,
   "metadata": {},
   "outputs": [],
   "source": [
    "# X,y = data.filenames.values.reshape(-1,1), data.y.values\n",
    "\n",
    "model_name='first_' \n",
    "setting='raw'"
   ]
  },
  {
   "cell_type": "code",
   "execution_count": 6,
   "metadata": {},
   "outputs": [],
   "source": [
    "top_weights_path = TEMP_DATADIR + str(model_name) + '.h5'\n",
    "targets = len(np.unique(y))\n",
    "\n",
    "from sklearn.preprocessing import LabelEncoder\n",
    "\n",
    "le = LabelEncoder()\n",
    "y = le.fit_transform(y)\n",
    "\n",
    "if setting == 'psd_dB':\n",
    "    X = transform_data(X, setting=setting)\n",
    "\n",
    "X_train, X_test, X_val, y_train, y_test, y_val = train_test_val_split(X.tolist(),y.tolist(), random_state=0)\n",
    "\n"
   ]
  },
  {
   "cell_type": "markdown",
   "metadata": {},
   "source": [
    "## MODEL"
   ]
  },
  {
   "cell_type": "code",
   "execution_count": 7,
   "metadata": {},
   "outputs": [],
   "source": [
    "# Build the Neural Network\n",
    "model = Sequential()\n",
    "\n",
    "model.add(Conv1D(16, 3, activation='relu', input_shape=(5000, 1)))\n",
    "model.add(Conv1D(16, 3, activation='relu'))\n",
    "model.add(BatchNormalization())\n",
    "\n",
    "model.add(Conv1D(32, 3, activation='relu'))\n",
    "model.add(Conv1D(32, 3, activation='relu'))\n",
    "model.add(BatchNormalization())\n",
    "\n",
    "model.add(MaxPooling1D(2))\n",
    "model.add(Conv1D(64, 3, activation='relu'))\n",
    "model.add(Conv1D(64, 3, activation='relu'))\n",
    "model.add(BatchNormalization())\n",
    "\n",
    "model.add(MaxPooling1D(2))\n",
    "model.add(Conv1D(128, 3, activation='relu'))\n",
    "model.add(Conv1D(128, 3, activation='relu'))\n",
    "model.add(BatchNormalization())\n",
    "\n",
    "model.add(MaxPooling1D(2))\n",
    "model.add(Conv1D(256, 3, activation='relu'))\n",
    "model.add(Conv1D(256, 3, activation='relu'))\n",
    "model.add(BatchNormalization())\n",
    "model.add(GlobalAveragePooling1D())\n",
    "\n",
    "model.add(Dropout(0.5))\n",
    "model.add(Dense(targets, activation='softmax'))"
   ]
  },
  {
   "cell_type": "markdown",
   "metadata": {},
   "source": [
    "## Compile and fit"
   ]
  },
  {
   "cell_type": "code",
   "execution_count": 8,
   "metadata": {},
   "outputs": [],
   "source": [
    "model.compile(loss='categorical_crossentropy',\n",
    "            optimizer='adam',\n",
    "            metrics=['accuracy'])\n",
    "\n",
    "callbacks_list = [ModelCheckpoint(top_weights_path, monitor = 'val_accuracy', verbose = 1, save_best_only = True, save_weights_only = True),\n",
    "    EarlyStopping(monitor = 'val_accuracy', patience = 6, verbose = 1),\n",
    "    ReduceLROnPlateau(monitor = 'val_accuracy', factor = 0.1, patience = 3, verbose = 1),\n",
    "    CSVLogger('model_' + str(model_name) + '.log')]\n"
   ]
  },
  {
   "cell_type": "code",
   "execution_count": 10,
   "metadata": {},
   "outputs": [
    {
     "name": "stdout",
     "output_type": "stream",
     "text": [
      "Epoch 1/100\n",
      "435/436 [============================>.] - ETA: 0s - loss: 0.0759 - accuracy: 0.9733"
     ]
    },
    {
     "name": "stderr",
     "output_type": "stream",
     "text": [
      "W1002 16:15:21.626078 140203200026432 callbacks.py:990] Can save best model only with val_acc available, skipping.\n",
      "W1002 16:15:21.627251 140203200026432 callbacks.py:1250] Early stopping conditioned on metric `val_acc` which is not available. Available metrics are: loss,accuracy,val_loss,val_accuracy\n",
      "W1002 16:15:21.629468 140203200026432 callbacks.py:1824] Reduce LR on plateau conditioned on metric `val_acc` which is not available. Available metrics are: loss,accuracy,val_loss,val_accuracy,lr\n"
     ]
    },
    {
     "name": "stdout",
     "output_type": "stream",
     "text": [
      "436/436 [==============================] - 118s 270ms/step - loss: 0.0757 - accuracy: 0.9734 - val_loss: 0.9976 - val_accuracy: 0.6906\n",
      "Epoch 2/100\n",
      "435/436 [============================>.] - ETA: 0s - loss: 0.0597 - accuracy: 0.9777"
     ]
    },
    {
     "name": "stderr",
     "output_type": "stream",
     "text": [
      "W1002 16:17:19.717518 140203200026432 callbacks.py:990] Can save best model only with val_acc available, skipping.\n",
      "W1002 16:17:19.718674 140203200026432 callbacks.py:1250] Early stopping conditioned on metric `val_acc` which is not available. Available metrics are: loss,accuracy,val_loss,val_accuracy\n",
      "W1002 16:17:19.720137 140203200026432 callbacks.py:1824] Reduce LR on plateau conditioned on metric `val_acc` which is not available. Available metrics are: loss,accuracy,val_loss,val_accuracy,lr\n"
     ]
    },
    {
     "name": "stdout",
     "output_type": "stream",
     "text": [
      "436/436 [==============================] - 118s 271ms/step - loss: 0.0596 - accuracy: 0.9777 - val_loss: 5.4728 - val_accuracy: 0.5995\n",
      "Epoch 3/100\n",
      "435/436 [============================>.] - ETA: 0s - loss: 0.0520 - accuracy: 0.9825"
     ]
    },
    {
     "name": "stderr",
     "output_type": "stream",
     "text": [
      "W1002 16:19:16.266637 140203200026432 callbacks.py:990] Can save best model only with val_acc available, skipping.\n",
      "W1002 16:19:16.267837 140203200026432 callbacks.py:1250] Early stopping conditioned on metric `val_acc` which is not available. Available metrics are: loss,accuracy,val_loss,val_accuracy\n",
      "W1002 16:19:16.269996 140203200026432 callbacks.py:1824] Reduce LR on plateau conditioned on metric `val_acc` which is not available. Available metrics are: loss,accuracy,val_loss,val_accuracy,lr\n"
     ]
    },
    {
     "name": "stdout",
     "output_type": "stream",
     "text": [
      "436/436 [==============================] - 117s 267ms/step - loss: 0.0519 - accuracy: 0.9825 - val_loss: 1.5431 - val_accuracy: 0.6931\n",
      "Epoch 4/100\n",
      "435/436 [============================>.] - ETA: 0s - loss: 0.0484 - accuracy: 0.9819"
     ]
    },
    {
     "name": "stderr",
     "output_type": "stream",
     "text": [
      "W1002 16:21:13.448678 140203200026432 callbacks.py:990] Can save best model only with val_acc available, skipping.\n",
      "W1002 16:21:13.449935 140203200026432 callbacks.py:1250] Early stopping conditioned on metric `val_acc` which is not available. Available metrics are: loss,accuracy,val_loss,val_accuracy\n",
      "W1002 16:21:13.451884 140203200026432 callbacks.py:1824] Reduce LR on plateau conditioned on metric `val_acc` which is not available. Available metrics are: loss,accuracy,val_loss,val_accuracy,lr\n"
     ]
    },
    {
     "name": "stdout",
     "output_type": "stream",
     "text": [
      "436/436 [==============================] - 117s 269ms/step - loss: 0.0484 - accuracy: 0.9819 - val_loss: 7.1667 - val_accuracy: 0.5226\n",
      "Epoch 5/100\n",
      "435/436 [============================>.] - ETA: 0s - loss: 0.0433 - accuracy: 0.9843"
     ]
    },
    {
     "name": "stderr",
     "output_type": "stream",
     "text": [
      "W1002 16:23:10.680356 140203200026432 callbacks.py:990] Can save best model only with val_acc available, skipping.\n",
      "W1002 16:23:10.681504 140203200026432 callbacks.py:1250] Early stopping conditioned on metric `val_acc` which is not available. Available metrics are: loss,accuracy,val_loss,val_accuracy\n",
      "W1002 16:23:10.683624 140203200026432 callbacks.py:1824] Reduce LR on plateau conditioned on metric `val_acc` which is not available. Available metrics are: loss,accuracy,val_loss,val_accuracy,lr\n"
     ]
    },
    {
     "name": "stdout",
     "output_type": "stream",
     "text": [
      "436/436 [==============================] - 117s 269ms/step - loss: 0.0433 - accuracy: 0.9844 - val_loss: 1.0363 - val_accuracy: 0.7421\n",
      "Epoch 6/100\n",
      "435/436 [============================>.] - ETA: 0s - loss: 0.0363 - accuracy: 0.9866"
     ]
    },
    {
     "name": "stderr",
     "output_type": "stream",
     "text": [
      "W1002 16:25:06.960806 140203200026432 callbacks.py:990] Can save best model only with val_acc available, skipping.\n",
      "W1002 16:25:06.962081 140203200026432 callbacks.py:1250] Early stopping conditioned on metric `val_acc` which is not available. Available metrics are: loss,accuracy,val_loss,val_accuracy\n",
      "W1002 16:25:06.963544 140203200026432 callbacks.py:1824] Reduce LR on plateau conditioned on metric `val_acc` which is not available. Available metrics are: loss,accuracy,val_loss,val_accuracy,lr\n"
     ]
    },
    {
     "name": "stdout",
     "output_type": "stream",
     "text": [
      "436/436 [==============================] - 116s 267ms/step - loss: 0.0362 - accuracy: 0.9866 - val_loss: 0.4820 - val_accuracy: 0.8468\n",
      "Epoch 7/100\n",
      "435/436 [============================>.] - ETA: 0s - loss: 0.0364 - accuracy: 0.9874"
     ]
    },
    {
     "name": "stderr",
     "output_type": "stream",
     "text": [
      "W1002 16:27:01.073248 140203200026432 callbacks.py:990] Can save best model only with val_acc available, skipping.\n",
      "W1002 16:27:01.074451 140203200026432 callbacks.py:1250] Early stopping conditioned on metric `val_acc` which is not available. Available metrics are: loss,accuracy,val_loss,val_accuracy\n",
      "W1002 16:27:01.076211 140203200026432 callbacks.py:1824] Reduce LR on plateau conditioned on metric `val_acc` which is not available. Available metrics are: loss,accuracy,val_loss,val_accuracy,lr\n"
     ]
    },
    {
     "name": "stdout",
     "output_type": "stream",
     "text": [
      "436/436 [==============================] - 114s 262ms/step - loss: 0.0364 - accuracy: 0.9874 - val_loss: 0.1175 - val_accuracy: 0.9626\n",
      "Epoch 8/100\n",
      "435/436 [============================>.] - ETA: 0s - loss: 0.0340 - accuracy: 0.9870"
     ]
    },
    {
     "name": "stderr",
     "output_type": "stream",
     "text": [
      "W1002 16:28:54.670559 140203200026432 callbacks.py:990] Can save best model only with val_acc available, skipping.\n",
      "W1002 16:28:54.671768 140203200026432 callbacks.py:1250] Early stopping conditioned on metric `val_acc` which is not available. Available metrics are: loss,accuracy,val_loss,val_accuracy\n",
      "W1002 16:28:54.673866 140203200026432 callbacks.py:1824] Reduce LR on plateau conditioned on metric `val_acc` which is not available. Available metrics are: loss,accuracy,val_loss,val_accuracy,lr\n"
     ]
    },
    {
     "name": "stdout",
     "output_type": "stream",
     "text": [
      "436/436 [==============================] - 114s 261ms/step - loss: 0.0340 - accuracy: 0.9870 - val_loss: 3.8358 - val_accuracy: 0.5738\n",
      "Epoch 9/100\n",
      "435/436 [============================>.] - ETA: 0s - loss: 0.0265 - accuracy: 0.9905"
     ]
    },
    {
     "name": "stderr",
     "output_type": "stream",
     "text": [
      "W1002 16:30:48.218841 140203200026432 callbacks.py:990] Can save best model only with val_acc available, skipping.\n",
      "W1002 16:30:48.220091 140203200026432 callbacks.py:1250] Early stopping conditioned on metric `val_acc` which is not available. Available metrics are: loss,accuracy,val_loss,val_accuracy\n",
      "W1002 16:30:48.222440 140203200026432 callbacks.py:1824] Reduce LR on plateau conditioned on metric `val_acc` which is not available. Available metrics are: loss,accuracy,val_loss,val_accuracy,lr\n"
     ]
    },
    {
     "name": "stdout",
     "output_type": "stream",
     "text": [
      "436/436 [==============================] - 114s 260ms/step - loss: 0.0265 - accuracy: 0.9905 - val_loss: 5.8466 - val_accuracy: 0.5225\n",
      "Epoch 10/100\n",
      "435/436 [============================>.] - ETA: 0s - loss: 0.0241 - accuracy: 0.9917"
     ]
    },
    {
     "name": "stderr",
     "output_type": "stream",
     "text": [
      "W1002 16:32:41.713566 140203200026432 callbacks.py:990] Can save best model only with val_acc available, skipping.\n",
      "W1002 16:32:41.714544 140203200026432 callbacks.py:1250] Early stopping conditioned on metric `val_acc` which is not available. Available metrics are: loss,accuracy,val_loss,val_accuracy\n",
      "W1002 16:32:41.716111 140203200026432 callbacks.py:1824] Reduce LR on plateau conditioned on metric `val_acc` which is not available. Available metrics are: loss,accuracy,val_loss,val_accuracy,lr\n"
     ]
    },
    {
     "name": "stdout",
     "output_type": "stream",
     "text": [
      "436/436 [==============================] - 113s 260ms/step - loss: 0.0241 - accuracy: 0.9918 - val_loss: 3.5432 - val_accuracy: 0.6185\n",
      "Epoch 11/100\n",
      "435/436 [============================>.] - ETA: 0s - loss: 0.0206 - accuracy: 0.9920"
     ]
    },
    {
     "name": "stderr",
     "output_type": "stream",
     "text": [
      "W1002 16:34:35.286649 140203200026432 callbacks.py:990] Can save best model only with val_acc available, skipping.\n",
      "W1002 16:34:35.287894 140203200026432 callbacks.py:1250] Early stopping conditioned on metric `val_acc` which is not available. Available metrics are: loss,accuracy,val_loss,val_accuracy\n",
      "W1002 16:34:35.289910 140203200026432 callbacks.py:1824] Reduce LR on plateau conditioned on metric `val_acc` which is not available. Available metrics are: loss,accuracy,val_loss,val_accuracy,lr\n"
     ]
    },
    {
     "name": "stdout",
     "output_type": "stream",
     "text": [
      "436/436 [==============================] - 114s 260ms/step - loss: 0.0206 - accuracy: 0.9920 - val_loss: 6.4892 - val_accuracy: 0.5405\n",
      "Epoch 12/100\n",
      "435/436 [============================>.] - ETA: 0s - loss: 0.0228 - accuracy: 0.9915"
     ]
    },
    {
     "name": "stderr",
     "output_type": "stream",
     "text": [
      "W1002 16:36:29.256746 140203200026432 callbacks.py:990] Can save best model only with val_acc available, skipping.\n",
      "W1002 16:36:29.258342 140203200026432 callbacks.py:1250] Early stopping conditioned on metric `val_acc` which is not available. Available metrics are: loss,accuracy,val_loss,val_accuracy\n",
      "W1002 16:36:29.260779 140203200026432 callbacks.py:1824] Reduce LR on plateau conditioned on metric `val_acc` which is not available. Available metrics are: loss,accuracy,val_loss,val_accuracy,lr\n"
     ]
    },
    {
     "name": "stdout",
     "output_type": "stream",
     "text": [
      "436/436 [==============================] - 114s 261ms/step - loss: 0.0228 - accuracy: 0.9915 - val_loss: 8.3956 - val_accuracy: 0.4452\n",
      "Epoch 13/100\n",
      "435/436 [============================>.] - ETA: 0s - loss: 0.0171 - accuracy: 0.9950"
     ]
    },
    {
     "name": "stderr",
     "output_type": "stream",
     "text": [
      "W1002 16:38:27.882879 140203200026432 callbacks.py:990] Can save best model only with val_acc available, skipping.\n",
      "W1002 16:38:27.884010 140203200026432 callbacks.py:1250] Early stopping conditioned on metric `val_acc` which is not available. Available metrics are: loss,accuracy,val_loss,val_accuracy\n",
      "W1002 16:38:27.885983 140203200026432 callbacks.py:1824] Reduce LR on plateau conditioned on metric `val_acc` which is not available. Available metrics are: loss,accuracy,val_loss,val_accuracy,lr\n"
     ]
    },
    {
     "name": "stdout",
     "output_type": "stream",
     "text": [
      "436/436 [==============================] - 119s 272ms/step - loss: 0.0171 - accuracy: 0.9951 - val_loss: 1.4155 - val_accuracy: 0.8523\n",
      "Epoch 14/100\n",
      "435/436 [============================>.] - ETA: 0s - loss: 0.0180 - accuracy: 0.9929"
     ]
    },
    {
     "name": "stderr",
     "output_type": "stream",
     "text": [
      "W1002 16:40:25.974848 140203200026432 callbacks.py:990] Can save best model only with val_acc available, skipping.\n",
      "W1002 16:40:25.976255 140203200026432 callbacks.py:1250] Early stopping conditioned on metric `val_acc` which is not available. Available metrics are: loss,accuracy,val_loss,val_accuracy\n",
      "W1002 16:40:25.978126 140203200026432 callbacks.py:1824] Reduce LR on plateau conditioned on metric `val_acc` which is not available. Available metrics are: loss,accuracy,val_loss,val_accuracy,lr\n"
     ]
    },
    {
     "name": "stdout",
     "output_type": "stream",
     "text": [
      "436/436 [==============================] - 118s 271ms/step - loss: 0.0181 - accuracy: 0.9928 - val_loss: 5.4094 - val_accuracy: 0.5851\n",
      "Epoch 15/100\n",
      "435/436 [============================>.] - ETA: 0s - loss: 0.0186 - accuracy: 0.9925"
     ]
    },
    {
     "name": "stderr",
     "output_type": "stream",
     "text": [
      "W1002 16:42:22.244681 140203200026432 callbacks.py:990] Can save best model only with val_acc available, skipping.\n",
      "W1002 16:42:22.245881 140203200026432 callbacks.py:1250] Early stopping conditioned on metric `val_acc` which is not available. Available metrics are: loss,accuracy,val_loss,val_accuracy\n",
      "W1002 16:42:22.247189 140203200026432 callbacks.py:1824] Reduce LR on plateau conditioned on metric `val_acc` which is not available. Available metrics are: loss,accuracy,val_loss,val_accuracy,lr\n"
     ]
    },
    {
     "name": "stdout",
     "output_type": "stream",
     "text": [
      "436/436 [==============================] - 116s 267ms/step - loss: 0.0186 - accuracy: 0.9925 - val_loss: 0.9146 - val_accuracy: 0.6839\n",
      "Epoch 16/100\n",
      "435/436 [============================>.] - ETA: 0s - loss: 0.0111 - accuracy: 0.9959"
     ]
    },
    {
     "name": "stderr",
     "output_type": "stream",
     "text": [
      "W1002 16:44:19.034771 140203200026432 callbacks.py:990] Can save best model only with val_acc available, skipping.\n",
      "W1002 16:44:19.036037 140203200026432 callbacks.py:1250] Early stopping conditioned on metric `val_acc` which is not available. Available metrics are: loss,accuracy,val_loss,val_accuracy\n",
      "W1002 16:44:19.038257 140203200026432 callbacks.py:1824] Reduce LR on plateau conditioned on metric `val_acc` which is not available. Available metrics are: loss,accuracy,val_loss,val_accuracy,lr\n"
     ]
    },
    {
     "name": "stdout",
     "output_type": "stream",
     "text": [
      "436/436 [==============================] - 117s 268ms/step - loss: 0.0111 - accuracy: 0.9959 - val_loss: 7.2239 - val_accuracy: 0.5051\n",
      "Epoch 17/100\n",
      "435/436 [============================>.] - ETA: 0s - loss: 0.0185 - accuracy: 0.9933"
     ]
    },
    {
     "name": "stderr",
     "output_type": "stream",
     "text": [
      "W1002 16:46:13.463681 140203200026432 callbacks.py:990] Can save best model only with val_acc available, skipping.\n",
      "W1002 16:46:13.464849 140203200026432 callbacks.py:1250] Early stopping conditioned on metric `val_acc` which is not available. Available metrics are: loss,accuracy,val_loss,val_accuracy\n",
      "W1002 16:46:13.466928 140203200026432 callbacks.py:1824] Reduce LR on plateau conditioned on metric `val_acc` which is not available. Available metrics are: loss,accuracy,val_loss,val_accuracy,lr\n"
     ]
    },
    {
     "name": "stdout",
     "output_type": "stream",
     "text": [
      "436/436 [==============================] - 114s 262ms/step - loss: 0.0185 - accuracy: 0.9933 - val_loss: 0.2409 - val_accuracy: 0.9421\n",
      "Epoch 18/100\n",
      "435/436 [============================>.] - ETA: 0s - loss: 0.0104 - accuracy: 0.9963"
     ]
    },
    {
     "name": "stderr",
     "output_type": "stream",
     "text": [
      "W1002 16:48:06.653754 140203200026432 callbacks.py:990] Can save best model only with val_acc available, skipping.\n",
      "W1002 16:48:06.654926 140203200026432 callbacks.py:1250] Early stopping conditioned on metric `val_acc` which is not available. Available metrics are: loss,accuracy,val_loss,val_accuracy\n",
      "W1002 16:48:06.656295 140203200026432 callbacks.py:1824] Reduce LR on plateau conditioned on metric `val_acc` which is not available. Available metrics are: loss,accuracy,val_loss,val_accuracy,lr\n"
     ]
    },
    {
     "name": "stdout",
     "output_type": "stream",
     "text": [
      "436/436 [==============================] - 113s 260ms/step - loss: 0.0103 - accuracy: 0.9963 - val_loss: 0.6489 - val_accuracy: 0.8960\n",
      "Epoch 19/100\n",
      "435/436 [============================>.] - ETA: 0s - loss: 0.0096 - accuracy: 0.9963"
     ]
    },
    {
     "name": "stderr",
     "output_type": "stream",
     "text": [
      "W1002 16:50:00.205523 140203200026432 callbacks.py:990] Can save best model only with val_acc available, skipping.\n",
      "W1002 16:50:00.206901 140203200026432 callbacks.py:1250] Early stopping conditioned on metric `val_acc` which is not available. Available metrics are: loss,accuracy,val_loss,val_accuracy\n",
      "W1002 16:50:00.208820 140203200026432 callbacks.py:1824] Reduce LR on plateau conditioned on metric `val_acc` which is not available. Available metrics are: loss,accuracy,val_loss,val_accuracy,lr\n"
     ]
    },
    {
     "name": "stdout",
     "output_type": "stream",
     "text": [
      "436/436 [==============================] - 114s 260ms/step - loss: 0.0096 - accuracy: 0.9963 - val_loss: 8.1699 - val_accuracy: 0.4687\n",
      "Epoch 20/100\n",
      "405/436 [==========================>...] - ETA: 7s - loss: 0.0240 - accuracy: 0.9917"
     ]
    },
    {
     "name": "stderr",
     "output_type": "stream",
     "text": [
      "E1002 16:51:43.023529 140203200026432 ultratb.py:155] Internal Python error in the inspect module.\n",
      "Below is the traceback from this internal error.\n",
      "\n"
     ]
    },
    {
     "name": "stdout",
     "output_type": "stream",
     "text": [
      "Traceback (most recent call last):\n",
      "  File \"/home/kalfasyan/miniconda3/envs/wbtf2/lib/python3.6/site-packages/IPython/core/interactiveshell.py\", line 3326, in run_code\n",
      "    exec(code_obj, self.user_global_ns, self.user_ns)\n",
      "  File \"<ipython-input-10-c93a4729dc6c>\", line 15, in <module>\n",
      "    callbacks = callbacks_list)\n",
      "  File \"/home/kalfasyan/miniconda3/envs/wbtf2/lib/python3.6/site-packages/tensorflow_core/python/keras/engine/training.py\", line 1297, in fit_generator\n",
      "    steps_name='steps_per_epoch')\n",
      "  File \"/home/kalfasyan/miniconda3/envs/wbtf2/lib/python3.6/site-packages/tensorflow_core/python/keras/engine/training_generator.py\", line 265, in model_iteration\n",
      "    batch_outs = batch_function(*batch_data)\n",
      "  File \"/home/kalfasyan/miniconda3/envs/wbtf2/lib/python3.6/site-packages/tensorflow_core/python/keras/engine/training.py\", line 973, in train_on_batch\n",
      "    class_weight=class_weight, reset_metrics=reset_metrics)\n",
      "  File \"/home/kalfasyan/miniconda3/envs/wbtf2/lib/python3.6/site-packages/tensorflow_core/python/keras/engine/training_v2_utils.py\", line 264, in train_on_batch\n",
      "    output_loss_metrics=model._output_loss_metrics)\n",
      "  File \"/home/kalfasyan/miniconda3/envs/wbtf2/lib/python3.6/site-packages/tensorflow_core/python/keras/engine/training_eager.py\", line 311, in train_on_batch\n",
      "    output_loss_metrics=output_loss_metrics))\n",
      "  File \"/home/kalfasyan/miniconda3/envs/wbtf2/lib/python3.6/site-packages/tensorflow_core/python/keras/engine/training_eager.py\", line 268, in _process_single_batch\n",
      "    grads = tape.gradient(scaled_total_loss, trainable_weights)\n",
      "  File \"/home/kalfasyan/miniconda3/envs/wbtf2/lib/python3.6/site-packages/tensorflow_core/python/eager/backprop.py\", line 1014, in gradient\n",
      "    unconnected_gradients=unconnected_gradients)\n",
      "  File \"/home/kalfasyan/miniconda3/envs/wbtf2/lib/python3.6/site-packages/tensorflow_core/python/eager/imperative_grad.py\", line 76, in imperative_grad\n",
      "    compat.as_str(unconnected_gradients.value))\n",
      "  File \"/home/kalfasyan/miniconda3/envs/wbtf2/lib/python3.6/site-packages/tensorflow_core/python/eager/backprop.py\", line 138, in _gradient_function\n",
      "    return grad_fn(mock_op, *out_grads)\n",
      "  File \"/home/kalfasyan/miniconda3/envs/wbtf2/lib/python3.6/site-packages/tensorflow_core/python/ops/math_grad.py\", line 1319, in _DivNoNanGrad\n",
      "    math_ops.reduce_sum(math_ops.div_no_nan(grad, y), rx), sx),\n",
      "  File \"/home/kalfasyan/miniconda3/envs/wbtf2/lib/python3.6/site-packages/tensorflow_core/python/util/dispatch.py\", line 180, in wrapper\n",
      "    return target(*args, **kwargs)\n",
      "  File \"/home/kalfasyan/miniconda3/envs/wbtf2/lib/python3.6/site-packages/tensorflow_core/python/ops/math_ops.py\", line 1118, in div_no_nan\n",
      "    return gen_math_ops.div_no_nan(x, y, name=name)\n",
      "  File \"/home/kalfasyan/miniconda3/envs/wbtf2/lib/python3.6/site-packages/tensorflow_core/python/ops/gen_math_ops.py\", line 3526, in div_no_nan\n",
      "    name, _ctx._post_execution_callbacks, x, y)\n",
      "KeyboardInterrupt\n",
      "\n",
      "During handling of the above exception, another exception occurred:\n",
      "\n",
      "Traceback (most recent call last):\n",
      "  File \"/home/kalfasyan/miniconda3/envs/wbtf2/lib/python3.6/site-packages/IPython/core/interactiveshell.py\", line 2040, in showtraceback\n",
      "    stb = value._render_traceback_()\n",
      "AttributeError: 'KeyboardInterrupt' object has no attribute '_render_traceback_'\n",
      "\n",
      "During handling of the above exception, another exception occurred:\n",
      "\n",
      "Traceback (most recent call last):\n",
      "  File \"/home/kalfasyan/miniconda3/envs/wbtf2/lib/python3.6/site-packages/IPython/core/ultratb.py\", line 1101, in get_records\n",
      "    return _fixed_getinnerframes(etb, number_of_lines_of_context, tb_offset)\n",
      "  File \"/home/kalfasyan/miniconda3/envs/wbtf2/lib/python3.6/site-packages/IPython/core/ultratb.py\", line 319, in wrapped\n",
      "    return f(*args, **kwargs)\n",
      "  File \"/home/kalfasyan/miniconda3/envs/wbtf2/lib/python3.6/site-packages/IPython/core/ultratb.py\", line 353, in _fixed_getinnerframes\n",
      "    records = fix_frame_records_filenames(inspect.getinnerframes(etb, context))\n",
      "  File \"/home/kalfasyan/miniconda3/envs/wbtf2/lib/python3.6/inspect.py\", line 1488, in getinnerframes\n",
      "    frameinfo = (tb.tb_frame,) + getframeinfo(tb, context)\n",
      "  File \"/home/kalfasyan/miniconda3/envs/wbtf2/lib/python3.6/inspect.py\", line 1446, in getframeinfo\n",
      "    filename = getsourcefile(frame) or getfile(frame)\n",
      "  File \"/home/kalfasyan/miniconda3/envs/wbtf2/lib/python3.6/inspect.py\", line 696, in getsourcefile\n",
      "    if getattr(getmodule(object, filename), '__loader__', None) is not None:\n",
      "  File \"/home/kalfasyan/miniconda3/envs/wbtf2/lib/python3.6/inspect.py\", line 742, in getmodule\n",
      "    os.path.realpath(f)] = module.__name__\n",
      "  File \"/home/kalfasyan/miniconda3/envs/wbtf2/lib/python3.6/posixpath.py\", line 388, in realpath\n",
      "    path, ok = _joinrealpath(filename[:0], filename, {})\n",
      "  File \"/home/kalfasyan/miniconda3/envs/wbtf2/lib/python3.6/posixpath.py\", line 421, in _joinrealpath\n",
      "    newpath = join(path, name)\n",
      "  File \"/home/kalfasyan/miniconda3/envs/wbtf2/lib/python3.6/posixpath.py\", line 86, in join\n",
      "    for b in map(os.fspath, p):\n",
      "KeyboardInterrupt\n"
     ]
    },
    {
     "ename": "KeyboardInterrupt",
     "evalue": "",
     "output_type": "error",
     "traceback": [
      "\u001b[0;31m---------------------------------------------------------------------------\u001b[0m"
     ]
    }
   ],
   "source": [
    "import math\n",
    "from utils_train import train_generator, valid_generator\n",
    "target_names = list(np.unique(data.y))\n",
    "batch_size = 32\n",
    "model.fit_generator(train_generator(X_train, y_train, batch_size=batch_size,\n",
    "                                   target_names=target_names,\n",
    "                                   setting=setting),\n",
    "                   steps_per_epoch = int(math.ceil(float(len(X_train)) / float(batch_size))),\n",
    "                   epochs=100,\n",
    "                   validation_data = valid_generator(X_val, y_val,\n",
    "                                                    batch_size=batch_size,\n",
    "                                                    target_names=target_names,\n",
    "                                                    setting=setting),\n",
    "                    validation_steps=int(math.ceil(float(len(X_test))/float(batch_size))),\n",
    "                    callbacks = callbacks_list)"
   ]
  },
  {
   "cell_type": "markdown",
   "metadata": {},
   "source": [
    "## Test model"
   ]
  },
  {
   "cell_type": "code",
   "execution_count": null,
   "metadata": {},
   "outputs": [],
   "source": [
    "model.load_weights(top_weights_path)\n",
    "loss, acc = model.evaluate_generator(valid_generator(X_test, \n",
    "                                                    y_test, \n",
    "                                                    batch_size=batch_size, \n",
    "                                                    setting=setting, \n",
    "                                                    target_names=target_names),\n",
    "        steps = int(math.ceil(float(len(X_test)) / float(batch_size))))\n",
    "\n",
    "print('loss', loss)\n",
    "print('Test accuracy:', acc)\n",
    "\n",
    "from tensorflow.keras.models import model_from_yaml\n",
    "# serialize model to YAML\n",
    "model_yaml = model.to_yaml()\n",
    "with open(TEMP_DATADIR + model_name + \"_raw_final.yaml\", \"w\") as yaml_file:\n",
    "    yaml_file.write(model_yaml)"
   ]
  },
  {
   "cell_type": "code",
   "execution_count": null,
   "metadata": {},
   "outputs": [],
   "source": []
  },
  {
   "cell_type": "code",
   "execution_count": null,
   "metadata": {},
   "outputs": [],
   "source": []
  }
 ],
 "metadata": {
  "kernelspec": {
   "display_name": "Python 3",
   "language": "python",
   "name": "python3"
  },
  "language_info": {
   "codemirror_mode": {
    "name": "ipython",
    "version": 3
   },
   "file_extension": ".py",
   "mimetype": "text/x-python",
   "name": "python",
   "nbconvert_exporter": "python",
   "pygments_lexer": "ipython3",
   "version": "3.6.7"
  }
 },
 "nbformat": 4,
 "nbformat_minor": 2
}
