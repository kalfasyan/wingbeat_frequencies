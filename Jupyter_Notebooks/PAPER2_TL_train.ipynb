{
 "cells": [
  {
   "cell_type": "code",
   "execution_count": 1,
   "metadata": {},
   "outputs": [],
   "source": [
    "%reset -f\n",
    "import sys\n",
    "sys.path.insert(0, \"..\")\n",
    "from wavhandler import Dataset\n",
    "import numpy as np\n",
    "import math\n",
    "from sklearn.preprocessing import LabelEncoder\n",
    "from sklearn.utils import shuffle\n",
    "from sklearn.model_selection import train_test_split\n",
    "from sklearn.metrics import confusion_matrix, balanced_accuracy_score, classification_report, make_scorer, log_loss\n",
    "from utils_train import *\n",
    "import deepdish as dd\n",
    "from configs import DatasetConfiguration\n",
    "import os\n",
    "import pandas as pd\n",
    "from sklearn.metrics import confusion_matrix\n",
    "import seaborn as sb\n",
    "import matplotlib.pyplot as plt\n",
    "\n",
    "seed = 42\n",
    "np.random.seed(seed=seed)\n",
    "\n",
    "splitting = 'random'\n",
    "data_setting = 'raw'\n",
    "model_setting = 'dl4tsc_inc'\n",
    "\n",
    "assert splitting in ['random','randomcv','custom'], \"Wrong splitting method given.\"\n",
    "assert data_setting in ['raw','stft','psd_dB', 'cwt'], \"Wrong data settting given.\"\n",
    "assert model_setting in ['wavenet','lstm','gru','conv1d','conv1d_psd',\n",
    "                        'DenseNet121','DenseNet169','DenseNet201',\n",
    "                        'InceptionResNetV2','VGG16','VGG19',\n",
    "                        'dl4tsc_fcn','dl4tsc_res', 'tsc_res_baseline',\n",
    "                        'tsc_fcn_baseline', 'conv1d_baseline', 'dl4tsc_inc'], \"Wrong model setting given\""
   ]
  },
  {
   "cell_type": "code",
   "execution_count": null,
   "metadata": {},
   "outputs": [],
   "source": []
  },
  {
   "cell_type": "code",
   "execution_count": null,
   "metadata": {},
   "outputs": [],
   "source": []
  },
  {
   "cell_type": "code",
   "execution_count": 2,
   "metadata": {},
   "outputs": [],
   "source": [
    "dconf = DatasetConfiguration(names=['Wingbeats','LG','Leafminers'])\n",
    "dconf.select(name='Wingbeats',species=['Ae. aegypti','Ae. albopictus', 'C. quinquefasciatus', 'C. pipiens'])\n",
    "dconf.select(name='LG', species=['LG_zapr_26_09'])\n",
    "dconf.select(name='Leafminers', species=['P_Cichorii'])\n",
    "dconf.read()"
   ]
  },
  {
   "cell_type": "code",
   "execution_count": 3,
   "metadata": {},
   "outputs": [
    {
     "name": "stdout",
     "output_type": "stream",
     "text": [
      "['Ae. aegypti', 'Ae. albopictus', 'C. quinquefasciatus', 'C. pipiens', 'LG_zapr_26_09', 'P_Cichorii']\n",
      "Ae. aegypti            85553\n",
      "C. quinquefasciatus    74599\n",
      "C. pipiens             30415\n",
      "Ae. albopictus         20231\n",
      "LG_zapr_26_09           7210\n",
      "P_Cichorii              1600\n",
      "dtype: int64\n"
     ]
    }
   ],
   "source": [
    "print(dconf.target_classes)\n",
    "print(dconf.labels.value_counts())"
   ]
  },
  {
   "cell_type": "code",
   "execution_count": 4,
   "metadata": {},
   "outputs": [],
   "source": [
    "X = dconf.fnames.tolist()\n",
    "le = LabelEncoder()\n",
    "y = le.fit_transform(dconf.labels.tolist())"
   ]
  },
  {
   "cell_type": "code",
   "execution_count": 5,
   "metadata": {},
   "outputs": [],
   "source": [
    "def get_integer_mapping(le):\n",
    "    '''\n",
    "    Return a dict mapping labels to their integer values\n",
    "    from an SKlearn LabelEncoder\n",
    "    le = a fitted SKlearn LabelEncoder\n",
    "    '''\n",
    "    res = {}\n",
    "    for cl in le.classes_:\n",
    "        res.update({cl:le.transform([cl])[0]})\n",
    "\n",
    "    return res\n",
    "\n",
    "names = list(get_integer_mapping(le).keys())"
   ]
  },
  {
   "cell_type": "code",
   "execution_count": 6,
   "metadata": {},
   "outputs": [],
   "source": [
    "X,y = shuffle(X, y, random_state=seed)\n",
    "X_train, X_test, X_val, y_train, y_test, y_val = train_test_val_split(X,y,test_size=0.1, val_size=0.2, random_state=seed)"
   ]
  },
  {
   "cell_type": "code",
   "execution_count": 7,
   "metadata": {},
   "outputs": [
    {
     "name": "stdout",
     "output_type": "stream",
     "text": [
      "############ INPUT SHAPE:(5000, 1)\n",
      "/home/kalfasyan/projects/wingbeat_frequencies/temp_data/\n"
     ]
    }
   ],
   "source": [
    "using_conv2d = False\n",
    "traincf = TrainConfiguration(dataset=dconf, setting=data_setting, model_name=f'paper2_{splitting}_{data_setting}_{model_setting}_weights')\n",
    "modelconf = ModelConfiguration(model_setting=model_setting, data_setting=data_setting, target_names=traincf.target_names).config"
   ]
  },
  {
   "cell_type": "code",
   "execution_count": 8,
   "metadata": {},
   "outputs": [],
   "source": [
    "from tensorflow.keras.models import Model\n",
    "from tensorflow.keras.layers import Dense\n",
    "\n",
    "new_model = Model(modelconf.inputs, modelconf.layers[-2].output)\n",
    "x = Dense(traincf.targets, activation='relu')(new_model.layers[-1].output)\n",
    "x = Dense(traincf.targets, activation='softmax')(x)\n",
    "\n",
    "del modelconf\n",
    "model = Model(inputs=new_model.inputs, outputs=x)"
   ]
  },
  {
   "cell_type": "code",
   "execution_count": 9,
   "metadata": {},
   "outputs": [],
   "source": [
    "model.compile(loss='categorical_crossentropy', optimizer='adam', metrics=['accuracy'])"
   ]
  },
  {
   "cell_type": "code",
   "execution_count": 10,
   "metadata": {},
   "outputs": [],
   "source": [
    "train_stats = calculate_train_statistics(X_train=X_train, setting=data_setting)"
   ]
  },
  {
   "cell_type": "code",
   "execution_count": 11,
   "metadata": {},
   "outputs": [
    {
     "name": "stdout",
     "output_type": "stream",
     "text": [
      "Epoch 1/100\n",
      "4941/4942 [============================>.] - ETA: 0s - loss: 0.2916 - accuracy: 0.8962\n",
      "Epoch 00001: val_loss improved from inf to 0.27689, saving model to /home/kalfasyan/projects/wingbeat_frequencies/temp_data/paper2_random_raw_dl4tsc_inc_weights.h5\n",
      "4942/4942 [==============================] - 1505s 305ms/step - loss: 0.2916 - accuracy: 0.8962 - val_loss: 0.2769 - val_accuracy: 0.8956\n",
      "Epoch 2/100\n",
      "4941/4942 [============================>.] - ETA: 0s - loss: 0.1823 - accuracy: 0.9352\n",
      "Epoch 00002: val_loss improved from 0.27689 to 0.22482, saving model to /home/kalfasyan/projects/wingbeat_frequencies/temp_data/paper2_random_raw_dl4tsc_inc_weights.h5\n",
      "4942/4942 [==============================] - 1497s 303ms/step - loss: 0.1823 - accuracy: 0.9352 - val_loss: 0.2248 - val_accuracy: 0.9162\n",
      "Epoch 3/100\n",
      "4941/4942 [============================>.] - ETA: 0s - loss: 0.1551 - accuracy: 0.9449\n",
      "Epoch 00003: val_loss improved from 0.22482 to 0.18700, saving model to /home/kalfasyan/projects/wingbeat_frequencies/temp_data/paper2_random_raw_dl4tsc_inc_weights.h5\n",
      "4942/4942 [==============================] - 1497s 303ms/step - loss: 0.1551 - accuracy: 0.9449 - val_loss: 0.1870 - val_accuracy: 0.9336\n",
      "Epoch 4/100\n",
      "4941/4942 [============================>.] - ETA: 0s - loss: 0.1388 - accuracy: 0.9508\n",
      "Epoch 00004: val_loss did not improve from 0.18700\n",
      "4942/4942 [==============================] - 1497s 303ms/step - loss: 0.1388 - accuracy: 0.9508 - val_loss: 0.2772 - val_accuracy: 0.8984\n",
      "Epoch 5/100\n",
      "4941/4942 [============================>.] - ETA: 0s - loss: 0.1281 - accuracy: 0.9543\n",
      "Epoch 00005: val_loss did not improve from 0.18700\n",
      "4942/4942 [==============================] - 1504s 304ms/step - loss: 0.1281 - accuracy: 0.9543 - val_loss: 0.2304 - val_accuracy: 0.9119\n",
      "Epoch 6/100\n",
      "4941/4942 [============================>.] - ETA: 0s - loss: 0.1185 - accuracy: 0.9576\n",
      "Epoch 00006: val_loss did not improve from 0.18700\n",
      "\n",
      "Epoch 00006: ReduceLROnPlateau reducing learning rate to 0.00010000000474974513.\n",
      "4942/4942 [==============================] - 1519s 307ms/step - loss: 0.1185 - accuracy: 0.9576 - val_loss: 0.3419 - val_accuracy: 0.8639\n",
      "Epoch 7/100\n",
      "4941/4942 [============================>.] - ETA: 0s - loss: 0.0861 - accuracy: 0.9691\n",
      "Epoch 00007: val_loss improved from 0.18700 to 0.09623, saving model to /home/kalfasyan/projects/wingbeat_frequencies/temp_data/paper2_random_raw_dl4tsc_inc_weights.h5\n",
      "4942/4942 [==============================] - 1518s 307ms/step - loss: 0.0861 - accuracy: 0.9691 - val_loss: 0.0962 - val_accuracy: 0.9650\n",
      "Epoch 8/100\n",
      "4941/4942 [============================>.] - ETA: 0s - loss: 0.0788 - accuracy: 0.9717\n",
      "Epoch 00008: val_loss improved from 0.09623 to 0.09279, saving model to /home/kalfasyan/projects/wingbeat_frequencies/temp_data/paper2_random_raw_dl4tsc_inc_weights.h5\n",
      "4942/4942 [==============================] - 1518s 307ms/step - loss: 0.0788 - accuracy: 0.9717 - val_loss: 0.0928 - val_accuracy: 0.9673\n",
      "Epoch 9/100\n",
      "4941/4942 [============================>.] - ETA: 0s - loss: 0.0748 - accuracy: 0.9732\n",
      "Epoch 00009: val_loss did not improve from 0.09279\n",
      "4942/4942 [==============================] - 1518s 307ms/step - loss: 0.0748 - accuracy: 0.9732 - val_loss: 0.0970 - val_accuracy: 0.9660\n",
      "Epoch 10/100\n",
      "4941/4942 [============================>.] - ETA: 0s - loss: 0.0716 - accuracy: 0.9743\n",
      "Epoch 00010: val_loss did not improve from 0.09279\n",
      "4942/4942 [==============================] - 1512s 306ms/step - loss: 0.0716 - accuracy: 0.9743 - val_loss: 0.0967 - val_accuracy: 0.9655\n",
      "Epoch 11/100\n",
      "4941/4942 [============================>.] - ETA: 0s - loss: 0.0689 - accuracy: 0.9753\n",
      "Epoch 00011: val_loss did not improve from 0.09279\n",
      "\n",
      "Epoch 00011: ReduceLROnPlateau reducing learning rate to 1.0000000474974514e-05.\n",
      "4942/4942 [==============================] - 1512s 306ms/step - loss: 0.0689 - accuracy: 0.9753 - val_loss: 0.0991 - val_accuracy: 0.9653\n",
      "Epoch 12/100\n",
      "4941/4942 [============================>.] - ETA: 0s - loss: 0.0638 - accuracy: 0.9772\n",
      "Epoch 00012: val_loss improved from 0.09279 to 0.08282, saving model to /home/kalfasyan/projects/wingbeat_frequencies/temp_data/paper2_random_raw_dl4tsc_inc_weights.h5\n",
      "4942/4942 [==============================] - 1513s 306ms/step - loss: 0.0638 - accuracy: 0.9772 - val_loss: 0.0828 - val_accuracy: 0.9699\n",
      "Epoch 13/100\n",
      "4941/4942 [============================>.] - ETA: 0s - loss: 0.0627 - accuracy: 0.9779\n",
      "Epoch 00013: val_loss improved from 0.08282 to 0.07844, saving model to /home/kalfasyan/projects/wingbeat_frequencies/temp_data/paper2_random_raw_dl4tsc_inc_weights.h5\n",
      "4942/4942 [==============================] - 1516s 307ms/step - loss: 0.0627 - accuracy: 0.9779 - val_loss: 0.0784 - val_accuracy: 0.9728\n",
      "Epoch 14/100\n",
      "4941/4942 [============================>.] - ETA: 0s - loss: 0.0622 - accuracy: 0.9780\n",
      "Epoch 00014: val_loss did not improve from 0.07844\n",
      "4942/4942 [==============================] - 1533s 310ms/step - loss: 0.0622 - accuracy: 0.9780 - val_loss: 0.0817 - val_accuracy: 0.9711\n",
      "Epoch 15/100\n",
      "4941/4942 [============================>.] - ETA: 0s - loss: 0.0617 - accuracy: 0.9781\n",
      "Epoch 00015: val_loss did not improve from 0.07844\n",
      "4942/4942 [==============================] - 1515s 307ms/step - loss: 0.0617 - accuracy: 0.9781 - val_loss: 0.0794 - val_accuracy: 0.9716\n",
      "Epoch 16/100\n",
      "4941/4942 [============================>.] - ETA: 0s - loss: 0.0613 - accuracy: 0.9782\n",
      "Epoch 00016: val_loss did not improve from 0.07844\n",
      "\n",
      "Epoch 00016: ReduceLROnPlateau reducing learning rate to 1.0000000656873453e-06.\n",
      "4942/4942 [==============================] - 1514s 306ms/step - loss: 0.0613 - accuracy: 0.9782 - val_loss: 0.0829 - val_accuracy: 0.9715\n",
      "Epoch 17/100\n",
      "4941/4942 [============================>.] - ETA: 0s - loss: 0.0606 - accuracy: 0.9783\n",
      "Epoch 00017: val_loss did not improve from 0.07844\n",
      "4942/4942 [==============================] - 1517s 307ms/step - loss: 0.0606 - accuracy: 0.9783 - val_loss: 0.0794 - val_accuracy: 0.9718\n",
      "Epoch 18/100\n",
      "4941/4942 [============================>.] - ETA: 0s - loss: 0.0605 - accuracy: 0.9785\n",
      "Epoch 00018: val_loss improved from 0.07844 to 0.07844, saving model to /home/kalfasyan/projects/wingbeat_frequencies/temp_data/paper2_random_raw_dl4tsc_inc_weights.h5\n",
      "4942/4942 [==============================] - 1508s 305ms/step - loss: 0.0605 - accuracy: 0.9785 - val_loss: 0.0784 - val_accuracy: 0.9728\n",
      "Epoch 19/100\n",
      "4941/4942 [============================>.] - ETA: 0s - loss: 0.0605 - accuracy: 0.9785\n",
      "Epoch 00019: val_loss did not improve from 0.07844\n",
      "\n",
      "Epoch 00019: ReduceLROnPlateau reducing learning rate to 1.0000001111620805e-07.\n",
      "4942/4942 [==============================] - 1510s 306ms/step - loss: 0.0605 - accuracy: 0.9785 - val_loss: 0.0824 - val_accuracy: 0.9709\n",
      "Epoch 20/100\n",
      "4941/4942 [============================>.] - ETA: 0s - loss: 0.0604 - accuracy: 0.9785\n",
      "Epoch 00020: val_loss did not improve from 0.07844\n",
      "4942/4942 [==============================] - 1513s 306ms/step - loss: 0.0604 - accuracy: 0.9785 - val_loss: 0.0789 - val_accuracy: 0.9723\n",
      "Epoch 21/100\n",
      "4941/4942 [============================>.] - ETA: 0s - loss: 0.0603 - accuracy: 0.9784\n",
      "Epoch 00021: val_loss did not improve from 0.07844\n",
      "4942/4942 [==============================] - 1514s 306ms/step - loss: 0.0603 - accuracy: 0.9784 - val_loss: 0.0814 - val_accuracy: 0.9719\n",
      "Epoch 22/100\n",
      "4941/4942 [============================>.] - ETA: 0s - loss: 0.0603 - accuracy: 0.9785\n",
      "Epoch 00022: val_loss did not improve from 0.07844\n",
      "\n",
      "Epoch 00022: ReduceLROnPlateau reducing learning rate to 1.000000082740371e-08.\n",
      "4942/4942 [==============================] - 1513s 306ms/step - loss: 0.0603 - accuracy: 0.9785 - val_loss: 0.0788 - val_accuracy: 0.9718\n",
      "Epoch 23/100\n",
      "4941/4942 [============================>.] - ETA: 0s - loss: 0.0603 - accuracy: 0.9784\n",
      "Epoch 00023: val_loss did not improve from 0.07844\n",
      "4942/4942 [==============================] - 1442s 292ms/step - loss: 0.0603 - accuracy: 0.9784 - val_loss: 0.0802 - val_accuracy: 0.9721\n",
      "Epoch 24/100\n",
      "4941/4942 [============================>.] - ETA: 0s - loss: 0.0603 - accuracy: 0.9784\n",
      "Epoch 00024: val_loss did not improve from 0.07844\n",
      "4942/4942 [==============================] - 1440s 291ms/step - loss: 0.0603 - accuracy: 0.9784 - val_loss: 0.0821 - val_accuracy: 0.9707\n",
      "Epoch 25/100\n",
      "4941/4942 [============================>.] - ETA: 0s - loss: 0.0603 - accuracy: 0.9784\n",
      "Epoch 00025: val_loss improved from 0.07844 to 0.07742, saving model to /home/kalfasyan/projects/wingbeat_frequencies/temp_data/paper2_random_raw_dl4tsc_inc_weights.h5\n",
      "4942/4942 [==============================] - 1442s 292ms/step - loss: 0.0603 - accuracy: 0.9784 - val_loss: 0.0774 - val_accuracy: 0.9733\n",
      "Epoch 26/100\n",
      "4941/4942 [============================>.] - ETA: 0s - loss: 0.0603 - accuracy: 0.9784\n",
      "Epoch 00026: val_loss did not improve from 0.07742\n",
      "4942/4942 [==============================] - 1439s 291ms/step - loss: 0.0603 - accuracy: 0.9784 - val_loss: 0.0809 - val_accuracy: 0.9718\n",
      "Epoch 27/100\n",
      "4941/4942 [============================>.] - ETA: 0s - loss: 0.0603 - accuracy: 0.9784\n",
      "Epoch 00027: val_loss did not improve from 0.07742\n",
      "4942/4942 [==============================] - 1439s 291ms/step - loss: 0.0603 - accuracy: 0.9784 - val_loss: 0.0798 - val_accuracy: 0.9719\n",
      "Epoch 28/100\n",
      "4941/4942 [============================>.] - ETA: 0s - loss: 0.0603 - accuracy: 0.9784\n",
      "Epoch 00028: val_loss did not improve from 0.07742\n",
      "\n",
      "Epoch 00028: ReduceLROnPlateau reducing learning rate to 1.000000082740371e-09.\n",
      "4942/4942 [==============================] - 1445s 292ms/step - loss: 0.0603 - accuracy: 0.9784 - val_loss: 0.0822 - val_accuracy: 0.9715\n",
      "Epoch 29/100\n",
      "4941/4942 [============================>.] - ETA: 0s - loss: 0.0603 - accuracy: 0.9784\n",
      "Epoch 00029: val_loss did not improve from 0.07742\n",
      "4942/4942 [==============================] - 1435s 290ms/step - loss: 0.0603 - accuracy: 0.9784 - val_loss: 0.0797 - val_accuracy: 0.9716\n",
      "Epoch 30/100\n",
      "4941/4942 [============================>.] - ETA: 0s - loss: 0.0603 - accuracy: 0.9784\n",
      "Epoch 00030: val_loss did not improve from 0.07742\n",
      "4942/4942 [==============================] - 1435s 290ms/step - loss: 0.0603 - accuracy: 0.9784 - val_loss: 0.0789 - val_accuracy: 0.9724\n",
      "Epoch 31/100\n",
      "4941/4942 [============================>.] - ETA: 0s - loss: 0.0603 - accuracy: 0.9784\n",
      "Epoch 00031: val_loss did not improve from 0.07742\n",
      "\n",
      "Epoch 00031: ReduceLROnPlateau reducing learning rate to 1.000000082740371e-10.\n",
      "4942/4942 [==============================] - 1432s 290ms/step - loss: 0.0603 - accuracy: 0.9784 - val_loss: 0.0819 - val_accuracy: 0.9709\n",
      "Epoch 32/100\n",
      "4941/4942 [============================>.] - ETA: 0s - loss: 0.0603 - accuracy: 0.9784\n",
      "Epoch 00032: val_loss did not improve from 0.07742\n",
      "4942/4942 [==============================] - 1432s 290ms/step - loss: 0.0603 - accuracy: 0.9784 - val_loss: 0.0798 - val_accuracy: 0.9720\n",
      "Epoch 00032: early stopping\n"
     ]
    }
   ],
   "source": [
    "# Actual training\n",
    "h = model.fit_generator(train_generator(X_train, y_train, \n",
    "                                    batch_size=traincf.batch_size,\n",
    "                                    target_names=traincf.target_names,\n",
    "                                    setting=traincf.setting,\n",
    "                                    preprocessing_train_stats=train_stats,\n",
    "                                    using_conv2d=using_conv2d),\n",
    "                    steps_per_epoch = int(math.ceil(float(len(X_train)) / float(traincf.batch_size))),\n",
    "                    epochs = traincf.epochs,\n",
    "                    validation_data = valid_generator(X_val, y_val,\n",
    "                                                        batch_size=traincf.batch_size,\n",
    "                                                        target_names=traincf.target_names,\n",
    "                                                        setting=traincf.setting,\n",
    "                                                        preprocessing_train_stats=train_stats,\n",
    "                                                        using_conv2d=using_conv2d),\n",
    "                    validation_steps=int(math.ceil(float(len(X_test))/float(traincf.batch_size))),\n",
    "                    callbacks=traincf.callbacks_list,\n",
    "                    use_multiprocessing=False,\n",
    "                    workers=1,\n",
    "                    max_queue_size=32)"
   ]
  },
  {
   "cell_type": "code",
   "execution_count": 12,
   "metadata": {},
   "outputs": [],
   "source": [
    "results = {}\n",
    "results['train_loss'] = h.history['loss']\n",
    "results['train_score'] = h.history['accuracy']\n",
    "results['val_loss'] = h.history['val_loss']\n",
    "results['val_score'] = h.history['val_accuracy']\n",
    "results['lr'] = h.history['lr']"
   ]
  },
  {
   "cell_type": "code",
   "execution_count": 13,
   "metadata": {},
   "outputs": [],
   "source": [
    "# model.save(f'../temp_data/paper2_{splitting}_{data_setting}_{model_setting}_weights.h5')"
   ]
  },
  {
   "cell_type": "code",
   "execution_count": 14,
   "metadata": {},
   "outputs": [],
   "source": [
    "model.load_weights(traincf.top_weights_path)\n",
    "\n",
    "y_pred = model.predict_generator(valid_generator(X_test, \n",
    "                                                y_test, \n",
    "                                                batch_size=traincf.batch_size, \n",
    "                                                setting=traincf.setting, \n",
    "                                                target_names=traincf.target_names,\n",
    "                                                preprocessing_train_stats=train_stats,\n",
    "                                                using_conv2d=using_conv2d),\n",
    "        steps = int(math.ceil(float(len(X_test)) / float(traincf.batch_size))))"
   ]
  },
  {
   "cell_type": "code",
   "execution_count": 15,
   "metadata": {},
   "outputs": [],
   "source": [
    "# CALCULATING METRICS\n",
    "results['bacc'] = balanced_accuracy_score(np.array(y_test), np.argmax(y_pred, axis=1))\n",
    "results['test_loss'] = log_loss(y_test, y_pred)"
   ]
  },
  {
   "cell_type": "code",
   "execution_count": 21,
   "metadata": {},
   "outputs": [
    {
     "name": "stdout",
     "output_type": "stream",
     "text": [
      "0.97844636\n",
      "0.973272\n",
      "0.9688450110697837\n"
     ]
    }
   ],
   "source": [
    "val_loss = results['val_loss']\n",
    "idx = pd.Series(val_loss).idxmin()\n",
    "print(results['train_score'][idx])\n",
    "print(results['val_score'][idx])\n",
    "print(results['bacc'])\n",
    "results['train_score_best'] = results['train_score'][idx]\n",
    "results['val_score_best'] = results['val_score'][idx]"
   ]
  },
  {
   "cell_type": "code",
   "execution_count": 22,
   "metadata": {},
   "outputs": [
    {
     "data": {
      "text/plain": [
       "<matplotlib.axes._subplots.AxesSubplot at 0x7fcf8f97f2e8>"
      ]
     },
     "execution_count": 22,
     "metadata": {},
     "output_type": "execute_result"
    },
    {
     "data": {
      "image/png": "[encoded data removed]",
      "text/plain": [
       "<Figure size 1008x720 with 2 Axes>"
      ]
     },
     "metadata": {
      "needs_background": "light"
     },
     "output_type": "display_data"
    }
   ],
   "source": [
    "plt.figure(figsize=(14,10))\n",
    "cm = confusion_matrix(y_test, np.argmax(y_pred, axis=1))\n",
    "results['cm'] = cm\n",
    "sb.heatmap(cm, annot=True, fmt='g', xticklabels=names, yticklabels=names)"
   ]
  },
  {
   "cell_type": "code",
   "execution_count": 23,
   "metadata": {},
   "outputs": [],
   "source": [
    "dd.io.save(f'../temp_data/paper2_{splitting}_{data_setting}_{model_setting}_results.h5', {'results':results})"
   ]
  },
  {
   "cell_type": "code",
   "execution_count": null,
   "metadata": {},
   "outputs": [],
   "source": []
  },
  {
   "cell_type": "code",
   "execution_count": 25,
   "metadata": {},
   "outputs": [],
   "source": [
    "loaded = dd.io.load(f'../temp_data/paper2_{splitting}_{data_setting}_{model_setting}_results.h5')['results']"
   ]
  },
  {
   "cell_type": "code",
   "execution_count": 61,
   "metadata": {},
   "outputs": [
    {
     "data": {
      "text/html": [
       "<div>\n",
       "<style scoped>\n",
       "    .dataframe tbody tr th:only-of-type {\n",
       "        vertical-align: middle;\n",
       "    }\n",
       "\n",
       "    .dataframe tbody tr th {\n",
       "        vertical-align: top;\n",
       "    }\n",
       "\n",
       "    .dataframe thead th {\n",
       "        text-align: right;\n",
       "    }\n",
       "</style>\n",
       "<table border=\"1\" class=\"dataframe\">\n",
       "  <thead>\n",
       "    <tr style=\"text-align: right;\">\n",
       "      <th></th>\n",
       "      <th>Ae. aegypti</th>\n",
       "      <th>Ae. albopictus</th>\n",
       "      <th>C. pipiens</th>\n",
       "      <th>C. quinquefasciatus</th>\n",
       "      <th>LG_zapr_26_09</th>\n",
       "      <th>P_Cichorii</th>\n",
       "      <th>true</th>\n",
       "      <th>pred</th>\n",
       "    </tr>\n",
       "  </thead>\n",
       "  <tbody>\n",
       "    <tr>\n",
       "      <td>14442</td>\n",
       "      <td>1.114512e-06</td>\n",
       "      <td>6.093138e-08</td>\n",
       "      <td>6.342278e-07</td>\n",
       "      <td>9.999982e-01</td>\n",
       "      <td>1.185315e-10</td>\n",
       "      <td>9.279045e-11</td>\n",
       "      <td>3</td>\n",
       "      <td>3</td>\n",
       "    </tr>\n",
       "    <tr>\n",
       "      <td>684</td>\n",
       "      <td>9.269226e-01</td>\n",
       "      <td>2.153806e-05</td>\n",
       "      <td>6.709854e-04</td>\n",
       "      <td>7.238462e-02</td>\n",
       "      <td>1.715035e-07</td>\n",
       "      <td>8.387077e-08</td>\n",
       "      <td>0</td>\n",
       "      <td>0</td>\n",
       "    </tr>\n",
       "    <tr>\n",
       "      <td>20700</td>\n",
       "      <td>1.276878e-07</td>\n",
       "      <td>1.455766e-08</td>\n",
       "      <td>1.204571e-06</td>\n",
       "      <td>9.999987e-01</td>\n",
       "      <td>4.160124e-12</td>\n",
       "      <td>5.903260e-13</td>\n",
       "      <td>3</td>\n",
       "      <td>3</td>\n",
       "    </tr>\n",
       "    <tr>\n",
       "      <td>5762</td>\n",
       "      <td>9.999368e-01</td>\n",
       "      <td>1.625076e-05</td>\n",
       "      <td>2.106419e-07</td>\n",
       "      <td>4.675199e-05</td>\n",
       "      <td>1.491454e-08</td>\n",
       "      <td>6.647306e-09</td>\n",
       "      <td>0</td>\n",
       "      <td>0</td>\n",
       "    </tr>\n",
       "    <tr>\n",
       "      <td>20925</td>\n",
       "      <td>8.261108e-01</td>\n",
       "      <td>1.584686e-01</td>\n",
       "      <td>1.626943e-04</td>\n",
       "      <td>1.388885e-02</td>\n",
       "      <td>5.690748e-07</td>\n",
       "      <td>1.368491e-03</td>\n",
       "      <td>0</td>\n",
       "      <td>0</td>\n",
       "    </tr>\n",
       "    <tr>\n",
       "      <td>11017</td>\n",
       "      <td>9.964775e-01</td>\n",
       "      <td>3.511332e-03</td>\n",
       "      <td>2.585894e-06</td>\n",
       "      <td>8.480039e-06</td>\n",
       "      <td>5.481864e-10</td>\n",
       "      <td>7.995676e-08</td>\n",
       "      <td>0</td>\n",
       "      <td>0</td>\n",
       "    </tr>\n",
       "    <tr>\n",
       "      <td>18498</td>\n",
       "      <td>2.031358e-03</td>\n",
       "      <td>6.877955e-06</td>\n",
       "      <td>2.464902e-01</td>\n",
       "      <td>7.514716e-01</td>\n",
       "      <td>3.633059e-10</td>\n",
       "      <td>9.354473e-10</td>\n",
       "      <td>3</td>\n",
       "      <td>3</td>\n",
       "    </tr>\n",
       "    <tr>\n",
       "      <td>2096</td>\n",
       "      <td>2.256095e-04</td>\n",
       "      <td>1.805585e-06</td>\n",
       "      <td>1.763242e-05</td>\n",
       "      <td>9.997548e-01</td>\n",
       "      <td>6.722204e-10</td>\n",
       "      <td>1.007712e-07</td>\n",
       "      <td>3</td>\n",
       "      <td>3</td>\n",
       "    </tr>\n",
       "    <tr>\n",
       "      <td>3690</td>\n",
       "      <td>3.917453e-06</td>\n",
       "      <td>4.448560e-07</td>\n",
       "      <td>2.458330e-06</td>\n",
       "      <td>9.999931e-01</td>\n",
       "      <td>1.659533e-10</td>\n",
       "      <td>8.991236e-10</td>\n",
       "      <td>3</td>\n",
       "      <td>3</td>\n",
       "    </tr>\n",
       "    <tr>\n",
       "      <td>9857</td>\n",
       "      <td>1.209833e-08</td>\n",
       "      <td>8.948978e-08</td>\n",
       "      <td>9.999999e-01</td>\n",
       "      <td>7.886385e-11</td>\n",
       "      <td>1.483858e-08</td>\n",
       "      <td>5.192738e-10</td>\n",
       "      <td>2</td>\n",
       "      <td>2</td>\n",
       "    </tr>\n",
       "  </tbody>\n",
       "</table>\n",
       "</div>"
      ],
      "text/plain": [
       "        Ae. aegypti  Ae. albopictus    C. pipiens  C. quinquefasciatus  \\\n",
       "14442  1.114512e-06    6.093138e-08  6.342278e-07         9.999982e-01   \n",
       "684    9.269226e-01    2.153806e-05  6.709854e-04         7.238462e-02   \n",
       "20700  1.276878e-07    1.455766e-08  1.204571e-06         9.999987e-01   \n",
       "5762   9.999368e-01    1.625076e-05  2.106419e-07         4.675199e-05   \n",
       "20925  8.261108e-01    1.584686e-01  1.626943e-04         1.388885e-02   \n",
       "11017  9.964775e-01    3.511332e-03  2.585894e-06         8.480039e-06   \n",
       "18498  2.031358e-03    6.877955e-06  2.464902e-01         7.514716e-01   \n",
       "2096   2.256095e-04    1.805585e-06  1.763242e-05         9.997548e-01   \n",
       "3690   3.917453e-06    4.448560e-07  2.458330e-06         9.999931e-01   \n",
       "9857   1.209833e-08    8.948978e-08  9.999999e-01         7.886385e-11   \n",
       "\n",
       "       LG_zapr_26_09    P_Cichorii  true  pred  \n",
       "14442   1.185315e-10  9.279045e-11     3     3  \n",
       "684     1.715035e-07  8.387077e-08     0     0  \n",
       "20700   4.160124e-12  5.903260e-13     3     3  \n",
       "5762    1.491454e-08  6.647306e-09     0     0  \n",
       "20925   5.690748e-07  1.368491e-03     0     0  \n",
       "11017   5.481864e-10  7.995676e-08     0     0  \n",
       "18498   3.633059e-10  9.354473e-10     3     3  \n",
       "2096    6.722204e-10  1.007712e-07     3     3  \n",
       "3690    1.659533e-10  8.991236e-10     3     3  \n",
       "9857    1.483858e-08  5.192738e-10     2     2  "
      ]
     },
     "execution_count": 61,
     "metadata": {},
     "output_type": "execute_result"
    }
   ],
   "source": [
    "df = pd.concat([pd.DataFrame(y_pred, columns=names), pd.Series(y_test, name='true')],axis=1)\n",
    "df['pred'] = pd.DataFrame(y_pred, columns=[0,1,2,3,4,5]).idxmax(axis=1)\n",
    "df[(df.true != df.pred) & (df.true==5)]"
   ]
  }
 ],
 "metadata": {
  "kernelspec": {
   "display_name": "Python 3",
   "language": "python",
   "name": "python3"
  },
  "language_info": {
   "codemirror_mode": {
    "name": "ipython",
    "version": 3
   },
   "file_extension": ".py",
   "mimetype": "text/x-python",
   "name": "python",
   "nbconvert_exporter": "python",
   "pygments_lexer": "ipython3",
   "version": "3.6.7"
  }
 },
 "nbformat": 4,
 "nbformat_minor": 4
}
