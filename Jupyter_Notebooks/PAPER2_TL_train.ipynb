{
 "cells": [
  {
   "cell_type": "code",
   "execution_count": null,
   "metadata": {},
   "outputs": [],
   "source": [
    "%reset -f\n",
    "import sys\n",
    "sys.path.insert(0, \"..\")\n",
    "from wavhandler import Dataset\n",
    "import numpy as np\n",
    "import math\n",
    "from sklearn.preprocessing import LabelEncoder\n",
    "from sklearn.utils import shuffle\n",
    "from sklearn.model_selection import train_test_split\n",
    "from sklearn.metrics import confusion_matrix, balanced_accuracy_score, classification_report, make_scorer, log_loss\n",
    "from utils_train import *\n",
    "import deepdish as dd\n",
    "from configs import DatasetConfiguration\n",
    "import os\n",
    "import pandas as pd\n",
    "from sklearn.metrics import confusion_matrix\n",
    "import seaborn as sb\n",
    "import matplotlib.pyplot as plt\n",
    "\n",
    "seed = 42\n",
    "np.random.seed(seed=seed)\n",
    "\n",
    "splitting = 'random'\n",
    "data_setting = 'stftflt'\n",
    "model_setting = 'DenseNet121'\n",
    "\n",
    "# assert splitting in ['random','randomcv','custom'], \"Wrong splitting method given.\"\n",
    "# assert data_setting in ['raw','stft','psd_dB', 'cwt'], \"Wrong data settting given.\"\n",
    "# assert model_setting in ['wavenet','lstm','gru','conv1d','conv1d_psd',\n",
    "#                         'DenseNet121','DenseNet169','DenseNet201',\n",
    "#                         'InceptionResNetV2','VGG16','VGG19',\n",
    "#                         'dl4tsc_fcn','dl4tsc_res', 'tsc_res_baseline',\n",
    "#                         'tsc_fcn_baseline', 'conv1d_baseline', 'dl4tsc_inc'], \"Wrong model setting given\""
   ]
  },
  {
   "cell_type": "code",
   "execution_count": null,
   "metadata": {},
   "outputs": [],
   "source": [
    "data = Dataset('Wingbeats')\n",
    "print(data.target_classes)\n",
    "\n",
    "print(f'SPLITTING DATA {splitting}')\n",
    "X_train, X_val, X_test, y_train, y_val, y_test, le = mosquito_data_split(splitting=splitting, dataset=data, downsampling=True, return_label_encoder=True)"
   ]
  },
  {
   "cell_type": "code",
   "execution_count": null,
   "metadata": {},
   "outputs": [],
   "source": [
    "dataset = data\n",
    "flag = ''\n",
    "traincf = TrainConfiguration(nb_classes=6, setting=data_setting, model_name=f'MosquitoNET_{data_setting}_{model_setting}_{splitting}_{flag}')\n",
    "using_conv2d = False\n",
    "\n",
    "model = ModelConfiguration(model_setting=model_setting, data_setting=data_setting, nb_classes=6).config\n",
    "\n",
    "model.compile(loss='categorical_crossentropy', optimizer='adam', metrics=['accuracy'])\n",
    "\n",
    "# Actual training\n",
    "h = model.fit(train_generator(X_train, y_train, \n",
    "                                    batch_size=traincf.batch_size,\n",
    "                                    target_names=np.unique(y_test).tolist(),\n",
    "                                    setting=traincf.setting,\n",
    "                                    preprocessing_train_stats='',\n",
    "                                    using_conv2d=using_conv2d),\n",
    "                    steps_per_epoch = int(math.ceil(float(len(X_train)) / float(traincf.batch_size))),\n",
    "                    epochs = traincf.epochs,\n",
    "                    validation_data = valid_generator(X_val, y_val,\n",
    "                                                        batch_size=traincf.batch_size,\n",
    "                                                        target_names=np.unique(y_test).tolist(),\n",
    "                                                        setting=traincf.setting,\n",
    "                                                        preprocessing_train_stats='',\n",
    "                                                        using_conv2d=using_conv2d),\n",
    "                    validation_steps=int(math.ceil(float(len(X_test))/float(traincf.batch_size))),\n",
    "                    callbacks=traincf.callbacks_list,\n",
    "                    use_multiprocessing=False,\n",
    "                    workers=1,\n",
    "                    max_queue_size=32)"
   ]
  },
  {
   "cell_type": "code",
   "execution_count": null,
   "metadata": {},
   "outputs": [],
   "source": [
    "train_loss = h.history['loss']\n",
    "train_score = h.history['accuracy']\n",
    "val_loss = h.history['val_loss']\n",
    "val_score = h.history['val_accuracy']\n",
    "lr = h.history['lr']\n",
    "\n",
    "# LOADING TRAINED WEIGHTS\n",
    "model.load_weights(traincf.top_weights_path)\n",
    "\n",
    "y_pred = model.predict(valid_generator(X_test, \n",
    "                                                y_test, \n",
    "                                                batch_size=traincf.batch_size, \n",
    "                                                setting=traincf.setting, \n",
    "                                                target_names=np.unique(y_test).tolist(),\n",
    "                                                preprocessing_train_stats='',\n",
    "                                                using_conv2d=using_conv2d),\n",
    "        steps = int(math.ceil(float(len(X_test)) / float(traincf.batch_size))))"
   ]
  },
  {
   "cell_type": "code",
   "execution_count": null,
   "metadata": {},
   "outputs": [],
   "source": []
  }
 ],
 "metadata": {
  "kernelspec": {
   "display_name": "Python 3",
   "language": "python",
   "name": "python3"
  },
  "language_info": {
   "codemirror_mode": {
    "name": "ipython",
    "version": 3
   },
   "file_extension": ".py",
   "mimetype": "text/x-python",
   "name": "python",
   "nbconvert_exporter": "python",
   "pygments_lexer": "ipython3",
   "version": "3.7.7"
  }
 },
 "nbformat": 4,
 "nbformat_minor": 4
}
