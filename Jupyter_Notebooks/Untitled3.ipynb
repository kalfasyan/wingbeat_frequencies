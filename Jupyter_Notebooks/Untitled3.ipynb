{
 "cells": [
  {
   "cell_type": "code",
   "execution_count": 84,
   "metadata": {},
   "outputs": [],
   "source": [
    "%reset -f\n",
    "import sys\n",
    "sys.path.insert(0, \"..\")\n",
    "from wavhandler import *\n",
    "import numpy as np\n",
    "import math\n",
    "from sklearn.preprocessing import LabelEncoder\n",
    "from sklearn.utils import shuffle\n",
    "from sklearn.model_selection import train_test_split\n",
    "from sklearn.metrics import confusion_matrix, balanced_accuracy_score, classification_report, make_scorer, log_loss\n",
    "from utils_train import *\n",
    "import deepdish as dd\n",
    "from configs import DatasetConfiguration\n",
    "import os\n",
    "import pandas as pd\n",
    "from sklearn.metrics import confusion_matrix\n",
    "import seaborn as sb\n",
    "import matplotlib.pyplot as plt\n",
    "from utils import *"
   ]
  },
  {
   "cell_type": "code",
   "execution_count": 6,
   "metadata": {},
   "outputs": [
    {
     "name": "stdout",
     "output_type": "stream",
     "text": [
      "Dataset - Melanogaster_RL - exists: True\n"
     ]
    },
    {
     "data": {
      "text/plain": [
       "L    867\n",
       "W    682\n",
       "R    301\n",
       "Name: labels, dtype: int64"
      ]
     },
     "execution_count": 6,
     "metadata": {},
     "output_type": "execute_result"
    }
   ],
   "source": [
    "mebios = DatasetConfiguration(names=['Melanogaster_RL'])\n",
    "mebios.select_all(); \n",
    "mebios.read();\n",
    "mebios.df.labels.value_counts()"
   ]
  },
  {
   "cell_type": "code",
   "execution_count": 7,
   "metadata": {},
   "outputs": [],
   "source": [
    "z = get_clean_wingbeats(names=mebios.fnames.tolist())\n",
    "# test = test[test['psd_score'] > 150].drop('psd_score', axis=1)"
   ]
  },
  {
   "cell_type": "code",
   "execution_count": 15,
   "metadata": {},
   "outputs": [],
   "source": [
    "q = make_df_parallel(names=mebios.fnames.tolist(), setting='psdflt')"
   ]
  },
  {
   "cell_type": "code",
   "execution_count": 83,
   "metadata": {},
   "outputs": [
    {
     "data": {
      "text/plain": [
       "<matplotlib.axes._subplots.AxesSubplot at 0x7f501828dad0>"
      ]
     },
     "execution_count": 83,
     "metadata": {},
     "output_type": "execute_result"
    },
    {
     "data": {
      "image/png": "[encoded data removed]",
      "text/plain": [
       "<Figure size 432x288 with 1 Axes>"
      ]
     },
     "metadata": {
      "needs_background": "light"
     },
     "output_type": "display_data"
    }
   ],
   "source": [
    "q.iloc[np.random.randint(0,400),:].plot()"
   ]
  },
  {
   "cell_type": "code",
   "execution_count": null,
   "metadata": {},
   "outputs": [],
   "source": []
  },
  {
   "cell_type": "code",
   "execution_count": null,
   "metadata": {},
   "outputs": [],
   "source": []
  },
  {
   "cell_type": "code",
   "execution_count": null,
   "metadata": {},
   "outputs": [],
   "source": []
  },
  {
   "cell_type": "code",
   "execution_count": 85,
   "metadata": {},
   "outputs": [
    {
     "name": "stdout",
     "output_type": "stream",
     "text": [
      "Dataset - Wingbeats - exists: True\n"
     ]
    },
    {
     "data": {
      "text/plain": [
       "Ae. aegypti            85553\n",
       "C. quinquefasciatus    74599\n",
       "An. gambiae            49471\n",
       "C. pipiens             30415\n",
       "Ae. albopictus         20231\n",
       "An. arabiensis         19297\n",
       "Name: labels, dtype: int64"
      ]
     },
     "execution_count": 85,
     "metadata": {},
     "output_type": "execute_result"
    }
   ],
   "source": [
    "mebios = DatasetConfiguration(names=['Wingbeats'])\n",
    "mebios.select_all(); \n",
    "mebios.read();\n",
    "mebios.df.labels.value_counts()"
   ]
  },
  {
   "cell_type": "code",
   "execution_count": 86,
   "metadata": {},
   "outputs": [],
   "source": [
    "mebios.parse_filenames()"
   ]
  },
  {
   "cell_type": "code",
   "execution_count": 114,
   "metadata": {},
   "outputs": [],
   "source": [
    "# mebios.df_info[mebios.df_info.wavnames.apply(lambda x: ''.join(x.split('_')[:2])).duplicated()].sort_values(by='wavnames')"
   ]
  },
  {
   "cell_type": "code",
   "execution_count": 145,
   "metadata": {},
   "outputs": [
    {
     "data": {
      "text/html": [
       "<div>\n",
       "<style scoped>\n",
       "    .dataframe tbody tr th:only-of-type {\n",
       "        vertical-align: middle;\n",
       "    }\n",
       "\n",
       "    .dataframe tbody tr th {\n",
       "        vertical-align: top;\n",
       "    }\n",
       "\n",
       "    .dataframe thead th {\n",
       "        text-align: right;\n",
       "    }\n",
       "</style>\n",
       "<table border=\"1\" class=\"dataframe\">\n",
       "  <thead>\n",
       "    <tr style=\"text-align: right;\">\n",
       "      <th></th>\n",
       "      <th>fnames</th>\n",
       "      <th>labels</th>\n",
       "      <th>wavnames</th>\n",
       "      <th>date</th>\n",
       "      <th>datestr</th>\n",
       "      <th>date_day</th>\n",
       "      <th>date_hour</th>\n",
       "      <th>gain</th>\n",
       "      <th>temperature</th>\n",
       "      <th>humidity</th>\n",
       "    </tr>\n",
       "  </thead>\n",
       "  <tbody>\n",
       "    <tr>\n",
       "      <th>278049</th>\n",
       "      <td>/home/kalfasyan/data/insects/Wingbeats/C. pipi...</td>\n",
       "      <td>C. pipiens</td>\n",
       "      <td>F161205_171633_190_G_050</td>\n",
       "      <td>2016-12-05 17:16:33</td>\n",
       "      <td>20161205</td>\n",
       "      <td>5</td>\n",
       "      <td>17</td>\n",
       "      <td>050</td>\n",
       "      <td>NaN</td>\n",
       "      <td>NaN</td>\n",
       "    </tr>\n",
       "    <tr>\n",
       "      <th>278793</th>\n",
       "      <td>/home/kalfasyan/data/insects/Wingbeats/C. pipi...</td>\n",
       "      <td>C. pipiens</td>\n",
       "      <td>F161205_175713_244_G_050</td>\n",
       "      <td>2016-12-05 17:57:13</td>\n",
       "      <td>20161205</td>\n",
       "      <td>5</td>\n",
       "      <td>17</td>\n",
       "      <td>050</td>\n",
       "      <td>NaN</td>\n",
       "      <td>NaN</td>\n",
       "    </tr>\n",
       "    <tr>\n",
       "      <th>278785</th>\n",
       "      <td>/home/kalfasyan/data/insects/Wingbeats/C. pipi...</td>\n",
       "      <td>C. pipiens</td>\n",
       "      <td>F161205_180003_246_G_050</td>\n",
       "      <td>2016-12-05 18:00:03</td>\n",
       "      <td>20161205</td>\n",
       "      <td>5</td>\n",
       "      <td>18</td>\n",
       "      <td>050</td>\n",
       "      <td>NaN</td>\n",
       "      <td>NaN</td>\n",
       "    </tr>\n",
       "    <tr>\n",
       "      <th>278778</th>\n",
       "      <td>/home/kalfasyan/data/insects/Wingbeats/C. pipi...</td>\n",
       "      <td>C. pipiens</td>\n",
       "      <td>F161205_182920_030_G_050</td>\n",
       "      <td>2016-12-05 18:29:20</td>\n",
       "      <td>20161205</td>\n",
       "      <td>5</td>\n",
       "      <td>18</td>\n",
       "      <td>050</td>\n",
       "      <td>NaN</td>\n",
       "      <td>NaN</td>\n",
       "    </tr>\n",
       "    <tr>\n",
       "      <th>249641</th>\n",
       "      <td>/home/kalfasyan/data/insects/Wingbeats/C. pipi...</td>\n",
       "      <td>C. pipiens</td>\n",
       "      <td>F161205_184040_046_G_050</td>\n",
       "      <td>2016-12-05 18:40:40</td>\n",
       "      <td>20161205</td>\n",
       "      <td>5</td>\n",
       "      <td>18</td>\n",
       "      <td>050</td>\n",
       "      <td>NaN</td>\n",
       "      <td>NaN</td>\n",
       "    </tr>\n",
       "    <tr>\n",
       "      <th>...</th>\n",
       "      <td>...</td>\n",
       "      <td>...</td>\n",
       "      <td>...</td>\n",
       "      <td>...</td>\n",
       "      <td>...</td>\n",
       "      <td>...</td>\n",
       "      <td>...</td>\n",
       "      <td>...</td>\n",
       "      <td>...</td>\n",
       "      <td>...</td>\n",
       "    </tr>\n",
       "    <tr>\n",
       "      <th>270489</th>\n",
       "      <td>/home/kalfasyan/data/insects/Wingbeats/C. pipi...</td>\n",
       "      <td>C. pipiens</td>\n",
       "      <td>F170220_031507_219_G_050_T_25.9_H_73.6</td>\n",
       "      <td>2017-02-20 03:15:07</td>\n",
       "      <td>20170220</td>\n",
       "      <td>20</td>\n",
       "      <td>3</td>\n",
       "      <td>050</td>\n",
       "      <td>25.9</td>\n",
       "      <td>73.6</td>\n",
       "    </tr>\n",
       "    <tr>\n",
       "      <th>251681</th>\n",
       "      <td>/home/kalfasyan/data/insects/Wingbeats/C. pipi...</td>\n",
       "      <td>C. pipiens</td>\n",
       "      <td>F170220_043913_054_G_050_T_25.9_H_69.7</td>\n",
       "      <td>2017-02-20 04:39:13</td>\n",
       "      <td>20170220</td>\n",
       "      <td>20</td>\n",
       "      <td>4</td>\n",
       "      <td>050</td>\n",
       "      <td>25.9</td>\n",
       "      <td>69.7</td>\n",
       "    </tr>\n",
       "    <tr>\n",
       "      <th>272275</th>\n",
       "      <td>/home/kalfasyan/data/insects/Wingbeats/C. pipi...</td>\n",
       "      <td>C. pipiens</td>\n",
       "      <td>F170220_073816_150_G_050_T_25.9_H_68.7</td>\n",
       "      <td>2017-02-20 07:38:16</td>\n",
       "      <td>20170220</td>\n",
       "      <td>20</td>\n",
       "      <td>7</td>\n",
       "      <td>050</td>\n",
       "      <td>25.9</td>\n",
       "      <td>68.7</td>\n",
       "    </tr>\n",
       "    <tr>\n",
       "      <th>272288</th>\n",
       "      <td>/home/kalfasyan/data/insects/Wingbeats/C. pipi...</td>\n",
       "      <td>C. pipiens</td>\n",
       "      <td>F170220_082855_171_G_050_T_25.2_H_64.3</td>\n",
       "      <td>2017-02-20 08:28:55</td>\n",
       "      <td>20170220</td>\n",
       "      <td>20</td>\n",
       "      <td>8</td>\n",
       "      <td>050</td>\n",
       "      <td>25.2</td>\n",
       "      <td>64.3</td>\n",
       "    </tr>\n",
       "    <tr>\n",
       "      <th>272299</th>\n",
       "      <td>/home/kalfasyan/data/insects/Wingbeats/C. pipi...</td>\n",
       "      <td>C. pipiens</td>\n",
       "      <td>F170220_083900_177_G_050_T_25.9_H_67.2</td>\n",
       "      <td>2017-02-20 08:39:00</td>\n",
       "      <td>20170220</td>\n",
       "      <td>20</td>\n",
       "      <td>8</td>\n",
       "      <td>050</td>\n",
       "      <td>25.9</td>\n",
       "      <td>67.2</td>\n",
       "    </tr>\n",
       "  </tbody>\n",
       "</table>\n",
       "<p>356 rows × 10 columns</p>\n",
       "</div>"
      ],
      "text/plain": [
       "                                                   fnames      labels  \\\n",
       "278049  /home/kalfasyan/data/insects/Wingbeats/C. pipi...  C. pipiens   \n",
       "278793  /home/kalfasyan/data/insects/Wingbeats/C. pipi...  C. pipiens   \n",
       "278785  /home/kalfasyan/data/insects/Wingbeats/C. pipi...  C. pipiens   \n",
       "278778  /home/kalfasyan/data/insects/Wingbeats/C. pipi...  C. pipiens   \n",
       "249641  /home/kalfasyan/data/insects/Wingbeats/C. pipi...  C. pipiens   \n",
       "...                                                   ...         ...   \n",
       "270489  /home/kalfasyan/data/insects/Wingbeats/C. pipi...  C. pipiens   \n",
       "251681  /home/kalfasyan/data/insects/Wingbeats/C. pipi...  C. pipiens   \n",
       "272275  /home/kalfasyan/data/insects/Wingbeats/C. pipi...  C. pipiens   \n",
       "272288  /home/kalfasyan/data/insects/Wingbeats/C. pipi...  C. pipiens   \n",
       "272299  /home/kalfasyan/data/insects/Wingbeats/C. pipi...  C. pipiens   \n",
       "\n",
       "                                      wavnames                date   datestr  \\\n",
       "278049                F161205_171633_190_G_050 2016-12-05 17:16:33  20161205   \n",
       "278793                F161205_175713_244_G_050 2016-12-05 17:57:13  20161205   \n",
       "278785                F161205_180003_246_G_050 2016-12-05 18:00:03  20161205   \n",
       "278778                F161205_182920_030_G_050 2016-12-05 18:29:20  20161205   \n",
       "249641                F161205_184040_046_G_050 2016-12-05 18:40:40  20161205   \n",
       "...                                        ...                 ...       ...   \n",
       "270489  F170220_031507_219_G_050_T_25.9_H_73.6 2017-02-20 03:15:07  20170220   \n",
       "251681  F170220_043913_054_G_050_T_25.9_H_69.7 2017-02-20 04:39:13  20170220   \n",
       "272275  F170220_073816_150_G_050_T_25.9_H_68.7 2017-02-20 07:38:16  20170220   \n",
       "272288  F170220_082855_171_G_050_T_25.2_H_64.3 2017-02-20 08:28:55  20170220   \n",
       "272299  F170220_083900_177_G_050_T_25.9_H_67.2 2017-02-20 08:39:00  20170220   \n",
       "\n",
       "        date_day  date_hour gain  temperature  humidity  \n",
       "278049         5         17  050          NaN       NaN  \n",
       "278793         5         17  050          NaN       NaN  \n",
       "278785         5         18  050          NaN       NaN  \n",
       "278778         5         18  050          NaN       NaN  \n",
       "249641         5         18  050          NaN       NaN  \n",
       "...          ...        ...  ...          ...       ...  \n",
       "270489        20          3  050         25.9      73.6  \n",
       "251681        20          4  050         25.9      69.7  \n",
       "272275        20          7  050         25.9      68.7  \n",
       "272288        20          8  050         25.2      64.3  \n",
       "272299        20          8  050         25.9      67.2  \n",
       "\n",
       "[356 rows x 10 columns]"
      ]
     },
     "execution_count": 145,
     "metadata": {},
     "output_type": "execute_result"
    }
   ],
   "source": [
    "sub = mebios.df_info[mebios.df_info.labels == 'C. pipiens']\n",
    "sub[sub.wavnames.apply(lambda x: ''.join(x.split('_')[:2])).duplicated()].sort_values(by='wavnames')"
   ]
  },
  {
   "cell_type": "code",
   "execution_count": 169,
   "metadata": {},
   "outputs": [
    {
     "data": {
      "text/plain": [
       "<matplotlib.collections.PathCollection at 0x7f4ff3402450>"
      ]
     },
     "execution_count": 169,
     "metadata": {},
     "output_type": "execute_result"
    },
    {
     "data": {
      "image/png": "[encoded data removed]",
      "text/plain": [
       "<Figure size 2160x1008 with 1 Axes>"
      ]
     },
     "metadata": {
      "needs_background": "light"
     },
     "output_type": "display_data"
    }
   ],
   "source": [
    "q1 = sub[sub.wavnames.apply(lambda x: ''.join(x.split('_')[:2])).duplicated(keep=False)].date\n",
    "q2 = q1.reset_index(drop=True).index.values\n",
    "plt.figure(figsize=(30,14))\n",
    "plt.scatter(q2,q1)"
   ]
  }
 ],
 "metadata": {
  "kernelspec": {
   "display_name": "Python 3",
   "language": "python",
   "name": "python3"
  },
  "language_info": {
   "codemirror_mode": {
    "name": "ipython",
    "version": 3
   },
   "file_extension": ".py",
   "mimetype": "text/x-python",
   "name": "python",
   "nbconvert_exporter": "python",
   "pygments_lexer": "ipython3",
   "version": "3.7.7"
  }
 },
 "nbformat": 4,
 "nbformat_minor": 4
}
