{
 "cells": [
  {
   "cell_type": "code",
   "execution_count": 2,
   "metadata": {},
   "outputs": [
    {
     "name": "stdout",
     "output_type": "stream",
     "text": [
      "['Ae. aegypti', 'Ae. albopictus', 'An. arabiensis', 'An. gambiae', 'C. pipiens', 'C. quinquefasciatus']\n",
      "SPLITTING DATA random\n",
      "Species: Ae. aegypti.\n",
      "Read 85553 filenames in 1.70 seconds.\n",
      "Species: Ae. albopictus.\n",
      "Read 20231 filenames in 1.71 seconds.\n",
      "Species: An. arabiensis.\n",
      "Read 19297 filenames in 1.66 seconds.\n",
      "Species: An. gambiae.\n",
      "Read 49471 filenames in 1.66 seconds.\n",
      "Species: C. pipiens.\n",
      "Read 30415 filenames in 1.69 seconds.\n",
      "Species: C. quinquefasciatus.\n",
      "Read 74599 filenames in 1.68 seconds.\n"
     ]
    }
   ],
   "source": [
    "%reset -f\n",
    "import sys\n",
    "sys.path.insert(0, '..')\n",
    "from wavhandler import Dataset\n",
    "import numpy as np\n",
    "import math\n",
    "from sklearn.preprocessing import LabelEncoder\n",
    "from sklearn.utils import shuffle\n",
    "from sklearn.model_selection import train_test_split\n",
    "from utils_train import train_test_val_split, TrainConfiguration, train_generator, valid_generator,mosquito_data_split, train_model_dl\n",
    "seed = 42\n",
    "np.random.seed(seed=seed)\n",
    "\n",
    "splitting = \"random\"\n",
    "data_setting = \"raw\"\n",
    "model_setting = \"conv1d\"\n",
    "\n",
    "assert splitting in ['random','randomcv','custom'], \"Wrong splitting method given.\"\n",
    "assert data_setting in ['raw','stft','psd_dB'], \"Wrong data settting given.\"\n",
    "assert model_setting in ['wavenet','lstm','gru','conv1d','conv1d_psd',\n",
    "                        'DenseNet121','DenseNet169','DenseNet201',\n",
    "                        'InceptionResNetV2','VGG16','VGG19'], \"Wrong model setting given\"\n",
    "\n",
    "data = Dataset('Wingbeats')\n",
    "print(data.target_classes)\n",
    "\n",
    "print(f'SPLITTING DATA {splitting}')\n",
    "X_train, X_val, X_test, y_train, y_val, y_test = mosquito_data_split(splitting=splitting, dataset=data)"
   ]
  },
  {
   "cell_type": "code",
   "execution_count": 3,
   "metadata": {},
   "outputs": [],
   "source": [
    "from wavhandler import make_df_parallel\n",
    "x_train = make_df_parallel(names=X_train, setting='raw')\n",
    "x_test = make_df_parallel(names=X_test, setting='raw')"
   ]
  },
  {
   "cell_type": "code",
   "execution_count": 4,
   "metadata": {},
   "outputs": [],
   "source": [
    "x_train = np.expand_dims(x_train.values, axis=-1)\n",
    "x_test = np.expand_dims(x_test.values, axis=-1)"
   ]
  },
  {
   "cell_type": "code",
   "execution_count": null,
   "metadata": {},
   "outputs": [],
   "source": []
  },
  {
   "cell_type": "code",
   "execution_count": 5,
   "metadata": {},
   "outputs": [
    {
     "name": "stdout",
     "output_type": "stream",
     "text": [
      "Model: \"model_1\"\n",
      "_________________________________________________________________\n",
      "Layer (type)                 Output Shape              Param #   \n",
      "=================================================================\n",
      "input_1 (InputLayer)         [(None, 5000, 1)]         0         \n",
      "_________________________________________________________________\n",
      "conv1d (Conv1D)              (None, 5000, 32)          128       \n",
      "_________________________________________________________________\n",
      "max_pooling1d (MaxPooling1D) (None, 2500, 32)          0         \n",
      "_________________________________________________________________\n",
      "conv1d_1 (Conv1D)            (None, 2500, 1)           97        \n",
      "_________________________________________________________________\n",
      "max_pooling1d_1 (MaxPooling1 (None, 1250, 1)           0         \n",
      "_________________________________________________________________\n",
      "conv1d_2 (Conv1D)            (None, 1250, 16)          64        \n",
      "_________________________________________________________________\n",
      "up_sampling1d (UpSampling1D) (None, 2500, 16)          0         \n",
      "_________________________________________________________________\n",
      "conv1d_3 (Conv1D)            (None, 2500, 32)          1568      \n",
      "_________________________________________________________________\n",
      "up_sampling1d_1 (UpSampling1 (None, 5000, 32)          0         \n",
      "_________________________________________________________________\n",
      "conv1d_4 (Conv1D)            (None, 5000, 1)           33        \n",
      "=================================================================\n",
      "Total params: 1,890\n",
      "Trainable params: 1,890\n",
      "Non-trainable params: 0\n",
      "_________________________________________________________________\n"
     ]
    }
   ],
   "source": [
    "from tensorflow.keras.layers import Input, Dense, Conv1D, MaxPooling1D, UpSampling1D\n",
    "from tensorflow.keras.models import Model\n",
    "\n",
    "input_ts = Input(shape=(5000,1))\n",
    "\n",
    "x = Conv1D(32, 3, activation=\"relu\", padding=\"same\")(input_ts)\n",
    "x = MaxPooling1D(2 )(x)\n",
    "\n",
    "x = Conv1D(1, 3, activation=\"relu\", padding=\"same\")(x)\n",
    "\n",
    "encoded = MaxPooling1D(2 )(x)\n",
    "\n",
    "encoder = Model(input_ts, encoded)\n",
    "\n",
    "x = Conv1D(16, 3, activation=\"relu\", padding=\"same\")(encoded)\n",
    "x = UpSampling1D(2)(x) \n",
    "\n",
    "x = Conv1D(32, 3, activation='relu', padding=\"same\")(x)\n",
    "x = UpSampling1D(2)(x)\n",
    "\n",
    "decoded = Conv1D(1, 1, activation='tanh', padding='same')(x)\n",
    "\n",
    "convolutional_autoencoder = Model(input_ts, decoded)\n",
    "\n",
    "convolutional_autoencoder.summary()\n",
    "\n",
    "optimizer = \"nadam\"\n",
    "loss = \"mean_absolute_error\"\n",
    "\n",
    "convolutional_autoencoder.compile(optimizer=optimizer, loss=loss)"
   ]
  },
  {
   "cell_type": "code",
   "execution_count": 6,
   "metadata": {},
   "outputs": [
    {
     "name": "stdout",
     "output_type": "stream",
     "text": [
      "Train on 61439 samples\n",
      "Epoch 1/10\n",
      "61439/61439 [==============================] - 64s 1ms/sample - loss: 0.0027\n",
      "Epoch 2/10\n",
      "61439/61439 [==============================] - 54s 876us/sample - loss: 0.0023\n",
      "Epoch 3/10\n",
      "61439/61439 [==============================] - 53s 865us/sample - loss: 0.0022\n",
      "Epoch 4/10\n",
      "61439/61439 [==============================] - 54s 880us/sample - loss: 0.0021\n",
      "Epoch 5/10\n",
      "61439/61439 [==============================] - 55s 892us/sample - loss: 0.0021\n",
      "Epoch 6/10\n",
      "61439/61439 [==============================] - 54s 883us/sample - loss: 0.0021\n",
      "Epoch 7/10\n",
      "61439/61439 [==============================] - 53s 867us/sample - loss: 0.0021\n",
      "Epoch 8/10\n",
      "61439/61439 [==============================] - 55s 901us/sample - loss: 0.0021\n",
      "Epoch 9/10\n",
      "61439/61439 [==============================] - 55s 895us/sample - loss: 0.0021\n",
      "Epoch 10/10\n",
      "61439/61439 [==============================] - 55s 897us/sample - loss: 0.0021\n"
     ]
    },
    {
     "data": {
      "text/plain": [
       "<tensorflow.python.keras.callbacks.History at 0x7fcf6ce84f98>"
      ]
     },
     "execution_count": 6,
     "metadata": {},
     "output_type": "execute_result"
    }
   ],
   "source": [
    "convolutional_autoencoder.fit(x_train, x_train,\n",
    "                epochs=10,\n",
    "                batch_size=32,\n",
    "                shuffle=True,\n",
    "                verbose = 1)"
   ]
  },
  {
   "cell_type": "code",
   "execution_count": null,
   "metadata": {},
   "outputs": [],
   "source": []
  },
  {
   "cell_type": "code",
   "execution_count": null,
   "metadata": {},
   "outputs": [],
   "source": []
  }
 ],
 "metadata": {
  "kernelspec": {
   "display_name": "Python 3",
   "language": "python",
   "name": "python3"
  },
  "language_info": {
   "codemirror_mode": {
    "name": "ipython",
    "version": 3
   },
   "file_extension": ".py",
   "mimetype": "text/x-python",
   "name": "python",
   "nbconvert_exporter": "python",
   "pygments_lexer": "ipython3",
   "version": "3.6.7"
  }
 },
 "nbformat": 4,
 "nbformat_minor": 4
}
