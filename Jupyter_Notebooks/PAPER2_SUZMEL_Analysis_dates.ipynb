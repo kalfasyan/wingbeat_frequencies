{
 "cells": [
  {
   "cell_type": "code",
   "execution_count": 7,
   "metadata": {},
   "outputs": [],
   "source": [
    "%reset -f\n",
    "import sys\n",
    "sys.path.insert(0, \"..\")\n",
    "from wavhandler import *\n",
    "from configs import DatasetConfiguration\n",
    "from utils_train import *\n",
    "from configs import *\n",
    "import numpy as np\n",
    "import math\n",
    "from sklearn.preprocessing import LabelEncoder\n",
    "from sklearn.utils import shuffle\n",
    "from sklearn.model_selection import train_test_split\n",
    "from sklearn.metrics import confusion_matrix, balanced_accuracy_score, classification_report, make_scorer, log_loss\n",
    "from sklearn.preprocessing import LabelBinarizer\n",
    "from sklearn.model_selection import train_test_split\n",
    "from sklearn.utils import class_weight\n",
    "import os\n",
    "import pandas as pd\n",
    "import seaborn as sb\n",
    "import matplotlib.pyplot as plt\n",
    "from tensorflow.keras import regularizers\n",
    "from tensorflow.keras.layers import Input\n",
    "from tensorflow.keras import optimizers\n",
    "from tensorflow.keras.models import Model\n",
    "from tensorflow.keras.models import Sequential\n",
    "from tensorflow.keras.layers import Dense, Flatten, Dropout\n",
    "import seaborn as sb\n",
    "import deepdish as dd\n",
    "\n",
    "seed = 42\n",
    "np.random.seed(seed=seed)\n",
    "\n",
    "splitting = 'custom'\n",
    "data_setting = 'rawflt'\n",
    "\n",
    "clean = False"
   ]
  },
  {
   "cell_type": "markdown",
   "metadata": {},
   "source": [
    "### data collecting"
   ]
  },
  {
   "cell_type": "code",
   "execution_count": 8,
   "metadata": {},
   "outputs": [
    {
     "name": "stdout",
     "output_type": "stream",
     "text": [
      "Dataset - Suzukii_RL - exists: True\n",
      "Before cleaning: \n",
      "L    21940\n",
      "R    14348\n",
      "Name: labels, dtype: int64\n"
     ]
    },
    {
     "data": {
      "text/plain": [
       "L    21940\n",
       "R    14348\n",
       "Name: labels, dtype: int64"
      ]
     },
     "execution_count": 8,
     "metadata": {},
     "output_type": "execute_result"
    }
   ],
   "source": [
    "mebios = DatasetConfiguration(names=['Suzukii_RL'])\n",
    "mebios.select_all(); \n",
    "mebios.read();\n",
    "print(f\"Before cleaning: \\n{mebios.df.labels.value_counts()}\")\n",
    "if clean:\n",
    "    mebios.clean();\n",
    "mebios.df.labels.value_counts()"
   ]
  },
  {
   "cell_type": "code",
   "execution_count": 9,
   "metadata": {},
   "outputs": [
    {
     "name": "stdout",
     "output_type": "stream",
     "text": [
      "Before cleaning:\n",
      "Dataset - Rodrigo - exists: True\n",
      "['20200309', '20200305', '20200302', '20200311', '20200310', '20200228', '20200307', '20200304', '20200301', '20200303', '20200306', '20200308', '20200229', '20200316', '20200315', '20200227', '20200313', '20200314', '20200312']\n",
      "7145 train filenames, 1593 test filenames\n",
      "After cleaning\n",
      "Dataset - Rodrigo - exists: True\n",
      "['20200309', '20200305', '20200302', '20200311', '20200310', '20200228', '20200307', '20200304', '20200301', '20200303', '20200306', '20200308', '20200229', '20200316', '20200315', '20200227', '20200313', '20200314', '20200312']\n",
      "7145 train filenames, 1593 test filenames\n"
     ]
    }
   ],
   "source": [
    "print(\"Before cleaning:\")\n",
    "rodr_tr,rodr_ts = train_test_filenames2(dataset='Rodrigo',species='D. melanogaster', clean=False, plot=False, test_dates=['20200310','20200311','20200312', '20200313', '20200314', '20200315','20200316'])\n",
    "print(\"After cleaning\")\n",
    "rodr_tr,rodr_ts = train_test_filenames2(dataset='Rodrigo',species='D. melanogaster', clean=clean, plot=False, test_dates=['20200310','20200311','20200312', '20200313', '20200314', '20200315','20200316'])"
   ]
  },
  {
   "cell_type": "code",
   "execution_count": 10,
   "metadata": {},
   "outputs": [
    {
     "name": "stdout",
     "output_type": "stream",
     "text": [
      "Dataset - Rodrigo - exists: True\n",
      "Before cleaning: \n",
      "D. suzukii    1098\n",
      "Name: labels, dtype: int64\n"
     ]
    },
    {
     "data": {
      "text/plain": [
       "D. suzukii    1098\n",
       "Name: labels, dtype: int64"
      ]
     },
     "execution_count": 10,
     "metadata": {},
     "output_type": "execute_result"
    }
   ],
   "source": [
    "rodsuz = DatasetConfiguration(names=['Rodrigo'])\n",
    "rodsuz.select(name='Rodrigo', species=['D. suzukii'])\n",
    "rodsuz.read()\n",
    "print(f\"Before cleaning: \\n{rodsuz.df.labels.value_counts()}\")\n",
    "if clean:\n",
    "    rodsuz.clean()\n",
    "rodsuz.df.labels.value_counts()    "
   ]
  },
  {
   "cell_type": "code",
   "execution_count": 11,
   "metadata": {},
   "outputs": [
    {
     "name": "stdout",
     "output_type": "stream",
     "text": [
      "Dataset - Melanogaster_RL - exists: True\n",
      "Before cleaning: \n",
      "X    2086\n",
      "Name: labels, dtype: int64\n"
     ]
    },
    {
     "data": {
      "text/plain": [
       "D. melanogaster    2086\n",
       "Name: labels, dtype: int64"
      ]
     },
     "execution_count": 11,
     "metadata": {},
     "output_type": "execute_result"
    }
   ],
   "source": [
    "mebiosmelX = DatasetConfiguration(names=['Melanogaster_RL'])\n",
    "mebiosmelX.select(name='Melanogaster_RL', species=['X'])\n",
    "mebiosmelX.read()\n",
    "print(f\"Before cleaning: \\n{mebiosmelX.df.labels.value_counts()}\")\n",
    "if clean:\n",
    "    mebiosmelX.clean()\n",
    "mebiosmelX.df.labels = mebiosmelX.df.labels.apply(lambda x: x.replace(\"X\", \"D. melanogaster\"))\n",
    "mebiosmelX.df.labels.value_counts()"
   ]
  },
  {
   "cell_type": "code",
   "execution_count": 12,
   "metadata": {},
   "outputs": [
    {
     "name": "stdout",
     "output_type": "stream",
     "text": [
      "Dataset - Melanogaster_RL - exists: True\n",
      "Before cleaning: \n",
      "W    1882\n",
      "Name: labels, dtype: int64\n"
     ]
    },
    {
     "data": {
      "text/plain": [
       "D. melanogaster    1882\n",
       "Name: labels, dtype: int64"
      ]
     },
     "execution_count": 12,
     "metadata": {},
     "output_type": "execute_result"
    }
   ],
   "source": [
    "mebiosmelW = DatasetConfiguration(names=['Melanogaster_RL'])\n",
    "mebiosmelW.select(name='Melanogaster_RL', species=['W'])\n",
    "mebiosmelW.read()\n",
    "print(f\"Before cleaning: \\n{mebiosmelW.df.labels.value_counts()}\")\n",
    "if clean:\n",
    "    mebiosmelW.clean()\n",
    "mebiosmelW.df.labels = mebiosmelW.df.labels.apply(lambda x: x.replace(\"W\", \"D. melanogaster\"))\n",
    "mebiosmelW.df.labels.value_counts()"
   ]
  },
  {
   "cell_type": "code",
   "execution_count": 13,
   "metadata": {},
   "outputs": [
    {
     "name": "stdout",
     "output_type": "stream",
     "text": [
      "Dataset - Melanogaster_RL - exists: True\n",
      "Before cleaning: \n",
      "Y    9716\n",
      "Name: labels, dtype: int64\n"
     ]
    },
    {
     "data": {
      "text/plain": [
       "D. melanogaster    9716\n",
       "Name: labels, dtype: int64"
      ]
     },
     "execution_count": 13,
     "metadata": {},
     "output_type": "execute_result"
    }
   ],
   "source": [
    "mebiosmelY = DatasetConfiguration(names=['Melanogaster_RL'])\n",
    "mebiosmelY.select(name='Melanogaster_RL', species=['Y'])\n",
    "mebiosmelY.read()\n",
    "print(f\"Before cleaning: \\n{mebiosmelY.df.labels.value_counts()}\")\n",
    "if clean:\n",
    "    mebiosmelY.clean()\n",
    "mebiosmelY.df.labels = mebiosmelY.df.labels.apply(lambda x: x.replace(\"Y\", \"D. melanogaster\"))\n",
    "mebiosmelY.df.labels.value_counts()"
   ]
  },
  {
   "cell_type": "code",
   "execution_count": 25,
   "metadata": {},
   "outputs": [],
   "source": [
    "mebiosmelY.parse_filenames()\n",
    "mebiosmelW.parse_filenames()\n",
    "mebiosmelX.parse_filenames()\n",
    "mebios.parse_filenames()"
   ]
  },
  {
   "cell_type": "code",
   "execution_count": 35,
   "metadata": {},
   "outputs": [
    {
     "data": {
      "text/plain": [
       "<matplotlib.legend.Legend at 0x7f5ecb954490>"
      ]
     },
     "execution_count": 35,
     "metadata": {},
     "output_type": "execute_result"
    },
    {
     "data": {
      "image/png": "[encoded data removed]",
      "text/plain": [
       "<Figure size 1728x288 with 1 Axes>"
      ]
     },
     "metadata": {
      "needs_background": "light"
     },
     "output_type": "display_data"
    }
   ],
   "source": [
    "start='20200623' \n",
    "end='20201119'\n",
    "mebios.plot_daterange(start=start, end=end)\n",
    "mebiosmelW.plot_daterange(start=start, end=end)\n",
    "mebiosmelX.plot_daterange(start=start, end=end)\n",
    "mebiosmelY.plot_daterange(start=start, end=end)\n",
    "plt.legend(['Suzukii','W','X','Y'])"
   ]
  }
 ],
 "metadata": {
  "kernelspec": {
   "display_name": "Python 3.7.7 64-bit ('wbtf': conda)",
   "language": "python",
   "name": "python37764bitwbtfconda7452cad71d844540837907339fd3ac8f"
  },
  "language_info": {
   "codemirror_mode": {
    "name": "ipython",
    "version": 3
   },
   "file_extension": ".py",
   "mimetype": "text/x-python",
   "name": "python",
   "nbconvert_exporter": "python",
   "pygments_lexer": "ipython3",
   "version": "3.7.9"
  }
 },
 "nbformat": 4,
 "nbformat_minor": 4
}
