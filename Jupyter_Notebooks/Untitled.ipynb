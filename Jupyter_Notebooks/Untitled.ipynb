{
 "cells": [
  {
   "cell_type": "code",
   "execution_count": 4,
   "metadata": {},
   "outputs": [],
   "source": [
    "%reset -f\n",
    "import sys\n",
    "sys.path.insert(0, \"..\")\n",
    "from wavhandler import *\n",
    "from configs import DatasetConfiguration\n",
    "from utils_train import *\n",
    "from configs import *\n",
    "import numpy as np\n",
    "import math\n",
    "from sklearn.preprocessing import LabelEncoder\n",
    "from sklearn.utils import shuffle\n",
    "from sklearn.model_selection import train_test_split\n",
    "from sklearn.metrics import confusion_matrix, balanced_accuracy_score, classification_report, make_scorer, log_loss\n",
    "from sklearn.preprocessing import LabelBinarizer\n",
    "from sklearn.model_selection import train_test_split\n",
    "from sklearn.utils import class_weight\n",
    "import os\n",
    "import pandas as pd\n",
    "import matplotlib.pyplot as plt\n",
    "from tensorflow.keras import regularizers\n",
    "from tensorflow.keras.layers import Input\n",
    "from tensorflow.keras import optimizers\n",
    "from tensorflow.keras.models import Model\n",
    "from tensorflow.keras.models import Sequential\n",
    "from tensorflow.keras.layers import GlobalAveragePooling2D, Dropout, Dense, Flatten\n",
    "import seaborn as sb\n",
    "import deepdish as dd\n",
    "import seaborn as sns\n",
    "\n",
    "seed = 42\n",
    "np.random.seed(seed=seed)\n",
    "\n",
    "\n",
    "data_setting = 'rawflt'\n",
    "nb_classes = 2\n",
    "splitting = 'custom'\n",
    "if data_setting.startswith('raw'):\n",
    "    model_setting = 'conv1d'#'dl4tsc_inc'#'conv1d'\n",
    "else:\n",
    "    model_setting = 'DenseNet121'"
   ]
  },
  {
   "cell_type": "markdown",
   "metadata": {},
   "source": [
    "### data collecting"
   ]
  },
  {
   "cell_type": "code",
   "execution_count": 5,
   "metadata": {},
   "outputs": [
    {
     "name": "stdout",
     "output_type": "stream",
     "text": [
      "train: \n",
      "1    12377\n",
      "0     3658\n",
      "dtype: int64\n",
      "\n",
      "val: \n",
      "1    4124\n",
      "0    1221\n",
      "dtype: int64\n",
      "\n",
      "test: \n",
      "1    11457\n",
      "0     1157\n",
      "dtype: int64\n"
     ]
    }
   ],
   "source": [
    "train = pd.read_csv(f\"{TEMP_DATADIR}/df_train_{data_setting}_{model_setting}_{splitting}.csv\", index_col=False)\n",
    "X_train = train.x.tolist()\n",
    "y_train = train.y.tolist()\n",
    "\n",
    "val = pd.read_csv(f\"{TEMP_DATADIR}/df_val_{data_setting}_{model_setting}_{splitting}.csv\", index_col=False)\n",
    "X_val = val.x.tolist()\n",
    "y_val = val.y.tolist()\n",
    "\n",
    "test = pd.read_csv(f\"{TEMP_DATADIR}/df_test_{data_setting}_{model_setting}_{splitting}.csv\", index_col=False)\n",
    "X_test = test.x.tolist()\n",
    "y_test = test.y.tolist()\n",
    "\n",
    "print(f\"train: \\n{pd.Series(y_train).value_counts()}\\n\")\n",
    "print(f\"val: \\n{pd.Series(y_val).value_counts()}\\n\")\n",
    "print(f\"test: \\n{pd.Series(y_test).value_counts()}\")"
   ]
  },
  {
   "cell_type": "markdown",
   "metadata": {},
   "source": [
    "## Loading model"
   ]
  },
  {
   "cell_type": "code",
   "execution_count": 6,
   "metadata": {},
   "outputs": [
    {
     "name": "stdout",
     "output_type": "stream",
     "text": [
      "############ INPUT SHAPE:(5000, 1)\n",
      "Model name: /home/kalfasyan/projects/wingbeat_frequencies/temp_data//Flies_rawflt_conv1d_custom.h5\n"
     ]
    }
   ],
   "source": [
    "TL = False\n",
    "\n",
    "if TL:\n",
    "    data = Dataset('Wingbeats')\n",
    "    dataset = data\n",
    "    splitting='random'\n",
    "    modelname = f'{TEMP_DATADIR}/Flies_TL_{data_setting}_{model_setting}_{splitting}.h5'\n",
    "\n",
    "    flag = ''\n",
    "    traincf = TrainConfiguration(nb_classes=6, setting=data_setting, model_name=f'MosquitoNET_{data_setting}_{model_setting}_{splitting}_{flag}')\n",
    "    using_conv2d = False\n",
    "    base_model = ModelConfiguration(model_setting=model_setting, data_setting=data_setting, nb_classes=6).config\n",
    "    base_model.compile(loss='categorical_crossentropy', optimizer='adam', metrics=['accuracy'])\n",
    "    # no need to load mosquito weights, we load directly transfer-learned weights after this \"if\" statement\n",
    "\n",
    "    if data_setting == 'rawflt':\n",
    "        if model_setting=='dl4tsc_inc':\n",
    "            base_output = base_model.layers[-2].output\n",
    "            new_output = Dense(nb_classes, activation=\"softmax\")(base_output)\n",
    "            model = Model(inputs=base_model.inputs, outputs=new_output)\n",
    "        else:\n",
    "            model = Sequential()\n",
    "            for layer in base_model.layers[:-1]: # go through until last layer\n",
    "                model.add(layer)\n",
    "            #     print(layer.trainable)\n",
    "            model.add(Dense(nb_classes, activation='softmax'))\n",
    "    elif data_setting == 'stftflt':\n",
    "        base_output = base_model.layers[-2].output\n",
    "        new_output = Dense(nb_classes, activation=\"softmax\")(base_output)\n",
    "        model = Model(inputs=base_model.inputs, outputs=new_output)\n",
    "else:\n",
    "    \n",
    "    splitting = 'custom'\n",
    "    modelname = f'{TEMP_DATADIR}/Flies_{data_setting}_{model_setting}_{splitting}.h5'\n",
    "    \n",
    "    traincf = TrainConfiguration(nb_classes=nb_classes, setting=data_setting, model_name=modelname)\n",
    "    model = ModelConfiguration(model_setting=model_setting, data_setting=data_setting, nb_classes=nb_classes).config\n",
    "print(f\"Model name: {modelname}\")\n",
    "model.load_weights(modelname)\n",
    "\n",
    "model.compile(loss='categorical_crossentropy', optimizer='adam', metrics=['accuracy'])"
   ]
  },
  {
   "cell_type": "code",
   "execution_count": 7,
   "metadata": {},
   "outputs": [],
   "source": [
    "# model.summary()"
   ]
  },
  {
   "cell_type": "code",
   "execution_count": 8,
   "metadata": {},
   "outputs": [],
   "source": [
    "pred = model.predict(valid_generator(X_test, y_test,\n",
    "                                     batch_size=traincf.batch_size,\n",
    "                                     target_names=np.unique(y_test).tolist(),\n",
    "                                     setting=traincf.setting,\n",
    "                                     preprocessing_train_stats=''),\n",
    "                     steps=int(math.ceil(float(len(X_test))/float(traincf.batch_size))))"
   ]
  },
  {
   "cell_type": "code",
   "execution_count": 23,
   "metadata": {},
   "outputs": [],
   "source": [
    "from utils_openmax import compute_mavs_and_scores"
   ]
  },
  {
   "cell_type": "code",
   "execution_count": 25,
   "metadata": {},
   "outputs": [],
   "source": [
    "mavs, scores = compute_mavs_and_scores(pred, np.array(y_test), nb_classes=nb_classes)"
   ]
  },
  {
   "cell_type": "code",
   "execution_count": null,
   "metadata": {},
   "outputs": [],
   "source": []
  },
  {
   "cell_type": "code",
   "execution_count": null,
   "metadata": {},
   "outputs": [],
   "source": []
  },
  {
   "cell_type": "code",
   "execution_count": null,
   "metadata": {},
   "outputs": [],
   "source": []
  },
  {
   "cell_type": "code",
   "execution_count": 7,
   "metadata": {},
   "outputs": [
    {
     "name": "stdout",
     "output_type": "stream",
     "text": [
      "0.89\n"
     ]
    },
    {
     "data": {
      "image/png": "[encoded data removed]",
      "text/plain": [
       "<Figure size 1440x1008 with 2 Axes>"
      ]
     },
     "metadata": {},
     "output_type": "display_data"
    }
   ],
   "source": [
    "y_pred=np.argmax(pred, axis=1)\n",
    "\n",
    "mapping = {0:'Melanogaster', 1: 'Suzukii', 2: 'Zaprionus'}\n",
    "\n",
    "k = np.array(list(mapping.keys()))\n",
    "v = np.array(list(mapping.values()))\n",
    "\n",
    "mapping_ar = np.zeros(k.max()+1,dtype=v.dtype) #k,v from approach #1\n",
    "mapping_ar[k] = v\n",
    "y_test_mapped = mapping_ar[y_test]\n",
    "y_pred_mapped = mapping_ar[y_pred]\n",
    "ba = balanced_accuracy_score(y_true=y_test_mapped, y_pred=y_pred_mapped)\n",
    "print(f\"{ba:.2f}\")\n",
    "cm = confusion_matrix(y_true=y_test_mapped, y_pred=y_pred_mapped,normalize='pred')\n",
    "\n",
    "sns.set(font_scale=1.4)\n",
    "plt.figure(figsize=(20,14))\n",
    "lbls = np.unique(y_test_mapped)\n",
    "sns.heatmap(cm, annot=True, fmt='.3f', xticklabels=lbls, yticklabels=lbls)\n",
    "plt.yticks(rotation=0)\n",
    "plt.savefig(f'{TEMP_DATADIR}/result_TL{TL}_{data_setting}_{model_setting}_{splitting}_{ba:.2f}.png', format='png', bbox_inches='tight')"
   ]
  }
 ],
 "metadata": {
  "kernelspec": {
   "display_name": "Python 3.7.7 64-bit ('wbtf': conda)",
   "language": "python",
   "name": "python37764bitwbtfconda7452cad71d844540837907339fd3ac8f"
  },
  "language_info": {
   "codemirror_mode": {
    "name": "ipython",
    "version": 3
   },
   "file_extension": ".py",
   "mimetype": "text/x-python",
   "name": "python",
   "nbconvert_exporter": "python",
   "pygments_lexer": "ipython3",
   "version": "3.7.9"
  }
 },
 "nbformat": 4,
 "nbformat_minor": 4
}
