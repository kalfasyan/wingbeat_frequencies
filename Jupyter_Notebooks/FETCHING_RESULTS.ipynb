{
 "cells": [
  {
   "cell_type": "code",
   "execution_count": 27,
   "metadata": {},
   "outputs": [],
   "source": [
    "%reset -f\n",
    "import sys\n",
    "sys.path.insert(0, '..')\n",
    "from wavhandler import *\n",
    "import deepdish as dd\n",
    "import os\n",
    "import glob\n",
    "from natsort import natsorted\n",
    "!cd /home/kalfasyan/projects/wingbeat_frequencies/temp_data/from_cluster/"
   ]
  },
  {
   "cell_type": "code",
   "execution_count": 28,
   "metadata": {},
   "outputs": [
    {
     "name": "stdout",
     "output_type": "stream",
     "text": [
      "/home/kalfasyan/projects/wingbeat_frequencies/temp_data/from_cluster\n"
     ]
    }
   ],
   "source": [
    "os.chdir('/home/kalfasyan/projects/wingbeat_frequencies/temp_data/from_cluster/')\n",
    "!pwd"
   ]
  },
  {
   "cell_type": "code",
   "execution_count": 29,
   "metadata": {},
   "outputs": [],
   "source": [
    "def extract_dl_results(d, custom=False):\n",
    "    idx_bst = d['val_loss'].index(min(d['val_loss']))\n",
    "    train_score = d['train_score'][idx_bst]\n",
    "    val_score = d['val_score'][idx_bst]\n",
    "#     train_loss = d['train_loss'][idx_bst]\n",
    "#     val_loss = d['val_loss'][idx_bst]\n",
    "    balanced_acc_test = d['balanced_acc_test']\n",
    "    logloss_test = d['logloss_test']\n",
    "    if custom:\n",
    "        return train_score,val_score,balanced_acc_test,logloss_test\n",
    "    else:\n",
    "        return f'{train_score:.2f}/{val_score:.2f}/{balanced_acc_test:.2f}, {logloss_test:.2f}'\n",
    "\n",
    "def extract_ml_results(d, custom=False):\n",
    "    train_score = d['train_score']\n",
    "    val_score = d['val_score']\n",
    "    balanced_acc_test = d['balanced_acc_test']\n",
    "    logloss_test = d['logloss_test']\n",
    "    if custom:\n",
    "        return train_score,val_score,balanced_acc_test,logloss_test\n",
    "    else:\n",
    "        return f'{train_score:.2f}/{val_score:.2f}/{balanced_acc_test:.2f}, {logloss_test:.2f}'\n",
    "\n",
    "fnames_dl = natsorted(glob.glob('/home/kalfasyan/projects/wingbeat_frequencies/temp_data/dl/**results.h5'))\n",
    "#fnames_dl\n",
    "fnames_ml = natsorted(glob.glob('/home/kalfasyan/projects/wingbeat_frequencies/temp_data/ml/**results.h5'))"
   ]
  },
  {
   "cell_type": "code",
   "execution_count": 30,
   "metadata": {},
   "outputs": [
    {
     "name": "stdout",
     "output_type": "stream",
     "text": [
      "custom_psd_dB_knn_result:\t\t 0.79/0.72/0.49, 8.49\n",
      "custom_psd_dB_randomforest_result:\t\t 0.97/0.74/0.49, 1.45\n",
      "custom_psd_dB_xgboost_result:\t\t 0.99/0.80/0.53, 2.05\n",
      "random_psd_dB_knn_result:\t\t 0.78/0.73/0.73, 2.02\n",
      "random_psd_dB_randomforest_result:\t\t 0.97/0.77/0.76, 0.71\n",
      "random_psd_dB_xgboost_result:\t\t 0.98/0.83/0.82, 0.50\n",
      "randomcv_psd_dB_knn_result:\t\t 0.78/0.75/0.50, 8.39\n",
      "randomcv_psd_dB_randomforest_result:\t\t 0.97/0.78/0.49, 1.47\n",
      "randomcv_psd_dB_xgboost_result:\t\t 0.98/0.83/0.54, 1.92\n"
     ]
    }
   ],
   "source": [
    "for f in fnames_ml:\n",
    "    d = dd.io.load(f)['results']\n",
    "    f = f.split('/')[-1][:-4]\n",
    "    lk = list(d.keys())\n",
    "    if len(lk) == 1:\n",
    "        if lk[0] == 'random':\n",
    "            print(f\"{f}:\\t\\t {extract_ml_results(d['random'])}\")\n",
    "        elif lk[0] == 'randomcv':\n",
    "            print(f\"{f}:\\t\\t {extract_ml_results(d['randomcv'])}\")\n",
    "    elif len(lk) == 11:\n",
    "        print(f\"{f}:\\t\\t {extract_ml_results(d)}\")\n",
    "#         tmp = []\n",
    "#         for i in range(5):\n",
    "#             tmp.append(extract_ml_results(d[f'custom_{i}'], custom=True))\n",
    "#         stacked = np.vstack(tmp)\n",
    "#         stacked = np.mean(stacked, axis=0)\n",
    "#         print(f'{f}:\\t\\t {stacked[0]:.2f}/{stacked[1]:.2f}/{stacked[2]:.2f}, {stacked[3]:.2f}')"
   ]
  },
  {
   "cell_type": "code",
   "execution_count": 18,
   "metadata": {},
   "outputs": [
    {
     "data": {
      "text/plain": [
       "'0.79/0.72/0.49, 8.49'"
      ]
     },
     "execution_count": 18,
     "metadata": {},
     "output_type": "execute_result"
    }
   ],
   "source": [
    "extract_ml_results(d, custom=False)"
   ]
  },
  {
   "cell_type": "code",
   "execution_count": null,
   "metadata": {},
   "outputs": [],
   "source": []
  },
  {
   "cell_type": "code",
   "execution_count": 9,
   "metadata": {},
   "outputs": [
    {
     "data": {
      "text/plain": [
       "['randomcv']"
      ]
     },
     "execution_count": 9,
     "metadata": {},
     "output_type": "execute_result"
    }
   ],
   "source": [
    "lk"
   ]
  },
  {
   "cell_type": "code",
   "execution_count": 5,
   "metadata": {},
   "outputs": [
    {
     "name": "stderr",
     "output_type": "stream",
     "text": [
      "/home/kalfasyan/miniconda3/envs/wbtf2/lib/python3.6/site-packages/deepdish/io/hdf5io.py:655: UserWarning: This file was saved with a newer version of deepdish. Please upgrade to make sure it loads correctly.\n",
      "  warnings.warn('This file was saved with a newer version of '\n"
     ]
    },
    {
     "name": "stdout",
     "output_type": "stream",
     "text": [
      "custom_psd_dB_conv1d_result:\t\t 0.88/0.81/0.54, 1.97\n",
      "custom_psd_dB_gru_result:\t\t 0.89/0.81/0.54, 2.00\n",
      "custom_raw_conv1d_result:\t\t 0.96/0.90/0.68, 1.42\n",
      "custom_raw_gru_result:\t\t 0.95/0.89/0.68, 1.31\n",
      "custom_stft_DenseNet121_result:\t\t 0.97/0.90/0.64, 2.16\n",
      "custom_stft_VGG19_result:\t\t 0.17/0.17/0.17, 28.78\n",
      "random_psd_dB_conv1d_result:\t\t 0.87/0.83/0.84, 0.46\n",
      "random_psd_dB_gru_result:\t\t 0.89/0.84/0.84, 0.48\n",
      "random_raw_conv1d_result:\t\t 0.93/0.91/0.90, 0.27\n",
      "random_raw_gru_result:\t\t 0.95/0.90/0.90, 0.29\n",
      "random_stft_DenseNet121_result:\t\t 0.97/0.92/0.92, 0.24\n",
      "random_stft_VGG19_result:\t\t 0.17/0.17/0.17, 28.78\n",
      "randomcv_psd_dB_conv1d_result:\t\t 0.88/0.84/0.54, 1.89\n",
      "randomcv_psd_dB_gru_result:\t\t 0.90/0.84/0.54, 2.13\n",
      "randomcv_raw_conv1d_result:\t\t 0.93/0.91/0.68, 1.24\n",
      "randomcv_raw_gru_result:\t\t 0.94/0.91/0.67, 1.31\n",
      "randomcv_stft_DenseNet121_result:\t\t 0.95/0.92/0.63, 1.61\n",
      "randomcv_stft_VGG19_result:\t\t 0.17/0.17/0.17, 28.78\n"
     ]
    }
   ],
   "source": [
    "for f in fnames_dl:\n",
    "    d = dd.io.load(f)['results']\n",
    "    f = f.split('/')[-1][:-4]\n",
    "    lk = list(d.keys())\n",
    "\n",
    "    if len(lk) == 1:\n",
    "        if lk[0] == 'random':\n",
    "            print(f\"{f}:\\t\\t {extract_dl_results(d['random'])}\")\n",
    "        elif lk[0] == 'randomcv':\n",
    "            print(f\"{f}:\\t\\t {extract_dl_results(d['randomcv'])}\")\n",
    "    elif len(lk) == 5:\n",
    "        tmp = []\n",
    "        for i in range(5):\n",
    "            tmp.append(extract_dl_results(d[f'custom_{i}'], custom=True))\n",
    "        stacked = np.vstack(tmp)\n",
    "        stacked = np.mean(stacked, axis=0)\n",
    "        print(f'{f}:\\t\\t {stacked[0]:.2f}/{stacked[1]:.2f}/{stacked[2]:.2f}, {stacked[3]:.2f}')\n"
   ]
  },
  {
   "cell_type": "code",
   "execution_count": 26,
   "metadata": {},
   "outputs": [
    {
     "data": {
      "text/plain": [
       "array([ 0.16666667,  0.16850001,  0.16666667, 28.78231366])"
      ]
     },
     "execution_count": 26,
     "metadata": {},
     "output_type": "execute_result"
    }
   ],
   "source": [
    "np.mean(np.vstack(tmp), axis=0)"
   ]
  },
  {
   "cell_type": "code",
   "execution_count": null,
   "metadata": {},
   "outputs": [],
   "source": []
  },
  {
   "cell_type": "code",
   "execution_count": null,
   "metadata": {},
   "outputs": [],
   "source": []
  }
 ],
 "metadata": {
  "kernelspec": {
   "display_name": "Python 3",
   "language": "python",
   "name": "python3"
  },
  "language_info": {
   "codemirror_mode": {
    "name": "ipython",
    "version": 3
   },
   "file_extension": ".py",
   "mimetype": "text/x-python",
   "name": "python",
   "nbconvert_exporter": "python",
   "pygments_lexer": "ipython3",
   "version": "3.6.7"
  }
 },
 "nbformat": 4,
 "nbformat_minor": 4
}
