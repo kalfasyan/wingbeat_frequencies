{
 "cells": [
  {
   "cell_type": "code",
   "execution_count": 1,
   "metadata": {},
   "outputs": [],
   "source": [
    "%reset -f\n",
    "import sys\n",
    "sys.path.insert(0, \"..\")\n",
    "from wavhandler import Dataset\n",
    "import numpy as np\n",
    "import math\n",
    "from sklearn.preprocessing import LabelEncoder\n",
    "from sklearn.utils import shuffle\n",
    "from sklearn.model_selection import train_test_split\n",
    "from sklearn.metrics import confusion_matrix, balanced_accuracy_score, classification_report, make_scorer, log_loss\n",
    "from utils_train import *\n",
    "import deepdish as dd\n",
    "from configs import DatasetConfiguration\n",
    "import os\n",
    "import pandas as pd\n",
    "from sklearn.metrics import confusion_matrix\n",
    "import seaborn as sb\n",
    "import matplotlib.pyplot as plt\n",
    "\n",
    "seed = 42\n",
    "np.random.seed(seed=seed)\n",
    "\n",
    "splitting = 'custom'\n",
    "data_setting = 'raw'\n",
    "model_setting = 'conv1d'"
   ]
  },
  {
   "cell_type": "code",
   "execution_count": 2,
   "metadata": {},
   "outputs": [
    {
     "name": "stdout",
     "output_type": "stream",
     "text": [
      "Species: all.\n",
      "Read 279566 filenames in 0.71 seconds.\n"
     ]
    }
   ],
   "source": [
    "d = Dataset('Wingbeats')\n",
    "d.read(loadmat=False)"
   ]
  },
  {
   "cell_type": "code",
   "execution_count": 3,
   "metadata": {},
   "outputs": [
    {
     "name": "stdout",
     "output_type": "stream",
     "text": [
      "Species: Ae. aegypti.\n",
      "Read 85553 filenames in 1.49 seconds.\n",
      "['20170209', '20161213', '20161212', '20170212', '20170208', '20170207', '20170206', '20170210', '20170211', '20170213']\n",
      "82989 train filenames, 2564 test filenames\n",
      "Species: Ae. albopictus.\n",
      "Read 20231 filenames in 1.51 seconds.\n",
      "['20170228', '20170103', '20170301', '20170227', '20170102']\n",
      "17440 train filenames, 2791 test filenames\n",
      "Species: An. arabiensis.\n",
      "Read 19297 filenames in 1.47 seconds.\n",
      "['20170203', '20170204', '20170318', '20170202', '20170130', '20170319', '20170201', '20170315', '20170316', '20170314', '20170205', '20170317', '20170131', '20170206', '20170313', '20170320']\n",
      "12897 train filenames, 2831 test filenames\n",
      "Species: An. gambiae.\n",
      "Read 49471 filenames in 1.47 seconds.\n",
      "['20170109', '20170110', '20170120', '20170121', '20170122', '20170117', '20170123', '20170116', '20170119', '20170118']\n",
      "45471 train filenames, 4000 test filenames\n",
      "Species: C. quinquefasciatus.\n",
      "Read 74599 filenames in 1.49 seconds.\n",
      "['20161220', '20161219', '20161221']\n",
      "41552 train filenames, 33047 test filenames\n",
      "Species: C. pipiens.\n",
      "Read 30415 filenames in 1.48 seconds.\n",
      "['20161206', '20170214', '20170215', '20170219', '20170216', '20170213', '20170217', '20170218', '20170220', '20161205']\n",
      "28353 train filenames, 2062 test filenames\n"
     ]
    }
   ],
   "source": [
    "X_train, X_val, X_test, y_train, y_val, y_test = mosquito_data_split(splitting=splitting, dataset=d, downsampling=False)"
   ]
  },
  {
   "cell_type": "code",
   "execution_count": 4,
   "metadata": {},
   "outputs": [],
   "source": [
    "X_train, X_val, y_train, y_val = X_train[0], X_val[0], y_train[0], y_val[0]\n",
    "from sklearn.utils import shuffle\n",
    "X_train, y_train = shuffle(X_train, y_train, random_state=seed)\n",
    "X_val, y_val = shuffle(X_val, y_val, random_state=seed)"
   ]
  },
  {
   "cell_type": "code",
   "execution_count": 5,
   "metadata": {},
   "outputs": [
    {
     "name": "stdout",
     "output_type": "stream",
     "text": [
      "############ INPUT SHAPE:(5000, 1)\n"
     ]
    }
   ],
   "source": [
    "using_conv2d = False\n",
    "traincf = TrainConfiguration(dataset=d, setting=data_setting, model_name=f'TL_{splitting}_{data_setting}_{model_setting}_weights')\n",
    "model = ModelConfiguration(model_setting=model_setting, data_setting=data_setting, target_names=traincf.target_names).config"
   ]
  },
  {
   "cell_type": "code",
   "execution_count": 6,
   "metadata": {},
   "outputs": [],
   "source": [
    "model.compile(loss='categorical_crossentropy', optimizer='adam', metrics=['accuracy'])"
   ]
  },
  {
   "cell_type": "code",
   "execution_count": 7,
   "metadata": {},
   "outputs": [],
   "source": [
    "# model.load_weights('../temp_data/custom_raw_conv1d_0.h5')"
   ]
  },
  {
   "cell_type": "code",
   "execution_count": 8,
   "metadata": {},
   "outputs": [],
   "source": [
    "# train_stats = calculate_train_statistics(X_train=X_train, setting=data_setting)"
   ]
  },
  {
   "cell_type": "code",
   "execution_count": 9,
   "metadata": {},
   "outputs": [
    {
     "name": "stdout",
     "output_type": "stream",
     "text": [
      "Epoch 1/100\n",
      "5717/5718 [============================>.] - ETA: 0s - loss: 0.3941 - accuracy: 0.8622\n",
      "Epoch 00001: val_loss improved from inf to 1.93834, saving model to /home/kalfasyan/projects/wingbeat_frequencies/temp_data/TL_custom_raw_conv1d_weights.h5\n",
      "5718/5718 [==============================] - 413s 72ms/step - loss: 0.3941 - accuracy: 0.8622 - val_loss: 1.9383 - val_accuracy: 0.6764\n",
      "Epoch 2/100\n",
      "5717/5718 [============================>.] - ETA: 0s - loss: 0.2581 - accuracy: 0.9100\n",
      "Epoch 00002: val_loss improved from 1.93834 to 1.85837, saving model to /home/kalfasyan/projects/wingbeat_frequencies/temp_data/TL_custom_raw_conv1d_weights.h5\n",
      "5718/5718 [==============================] - 413s 72ms/step - loss: 0.2581 - accuracy: 0.9100 - val_loss: 1.8584 - val_accuracy: 0.6484\n",
      "Epoch 3/100\n",
      "5717/5718 [============================>.] - ETA: 0s - loss: 0.2196 - accuracy: 0.9230\n",
      "Epoch 00003: val_loss did not improve from 1.85837\n",
      "5718/5718 [==============================] - 412s 72ms/step - loss: 0.2196 - accuracy: 0.9230 - val_loss: 5.8305 - val_accuracy: 0.4990\n",
      "Epoch 4/100\n",
      "5717/5718 [============================>.] - ETA: 0s - loss: 0.1969 - accuracy: 0.9310\n",
      "Epoch 00004: val_loss improved from 1.85837 to 1.44959, saving model to /home/kalfasyan/projects/wingbeat_frequencies/temp_data/TL_custom_raw_conv1d_weights.h5\n",
      "5718/5718 [==============================] - 412s 72ms/step - loss: 0.1968 - accuracy: 0.9310 - val_loss: 1.4496 - val_accuracy: 0.7282\n",
      "Epoch 5/100\n",
      "5717/5718 [============================>.] - ETA: 0s - loss: 0.1795 - accuracy: 0.9369\n",
      "Epoch 00005: val_loss did not improve from 1.44959\n",
      "5718/5718 [==============================] - 415s 73ms/step - loss: 0.1795 - accuracy: 0.9369 - val_loss: 5.6765 - val_accuracy: 0.4211\n",
      "Epoch 6/100\n",
      "5717/5718 [============================>.] - ETA: 0s - loss: 0.1629 - accuracy: 0.9424\n",
      "Epoch 00006: val_loss did not improve from 1.44959\n",
      "5718/5718 [==============================] - 421s 74ms/step - loss: 0.1629 - accuracy: 0.9424 - val_loss: 5.5402 - val_accuracy: 0.5365\n",
      "Epoch 7/100\n",
      "5717/5718 [============================>.] - ETA: 0s - loss: 0.1503 - accuracy: 0.9468\n",
      "Epoch 00007: val_loss did not improve from 1.44959\n",
      "\n",
      "Epoch 00007: ReduceLROnPlateau reducing learning rate to 0.00010000000474974513.\n",
      "5718/5718 [==============================] - 421s 74ms/step - loss: 0.1503 - accuracy: 0.9468 - val_loss: 8.5860 - val_accuracy: 0.3125\n",
      "Epoch 8/100\n",
      "5717/5718 [============================>.] - ETA: 0s - loss: 0.1112 - accuracy: 0.9605\n",
      "Epoch 00008: val_loss did not improve from 1.44959\n",
      "5718/5718 [==============================] - 421s 74ms/step - loss: 0.1111 - accuracy: 0.9605 - val_loss: 1.4844 - val_accuracy: 0.7636\n",
      "Epoch 9/100\n",
      "5717/5718 [============================>.] - ETA: 0s - loss: 0.0971 - accuracy: 0.9654\n",
      "Epoch 00009: val_loss improved from 1.44959 to 1.17409, saving model to /home/kalfasyan/projects/wingbeat_frequencies/temp_data/TL_custom_raw_conv1d_weights.h5\n",
      "5718/5718 [==============================] - 422s 74ms/step - loss: 0.0971 - accuracy: 0.9654 - val_loss: 1.1741 - val_accuracy: 0.8021\n",
      "Epoch 10/100\n",
      "5717/5718 [============================>.] - ETA: 0s - loss: 0.0890 - accuracy: 0.9684\n",
      "Epoch 00010: val_loss did not improve from 1.17409\n",
      "5718/5718 [==============================] - 421s 74ms/step - loss: 0.0890 - accuracy: 0.9684 - val_loss: 4.3777 - val_accuracy: 0.5834\n",
      "Epoch 11/100\n",
      "5717/5718 [============================>.] - ETA: 0s - loss: 0.0822 - accuracy: 0.9711\n",
      "Epoch 00011: val_loss did not improve from 1.17409\n",
      "5718/5718 [==============================] - 421s 74ms/step - loss: 0.0822 - accuracy: 0.9711 - val_loss: 4.5306 - val_accuracy: 0.6167\n",
      "Epoch 12/100\n",
      "5717/5718 [============================>.] - ETA: 0s - loss: 0.0760 - accuracy: 0.9730\n",
      "Epoch 00012: val_loss did not improve from 1.17409\n",
      "\n",
      "Epoch 00012: ReduceLROnPlateau reducing learning rate to 1.0000000474974514e-05.\n",
      "5718/5718 [==============================] - 422s 74ms/step - loss: 0.0760 - accuracy: 0.9730 - val_loss: 3.3122 - val_accuracy: 0.6625\n",
      "Epoch 13/100\n",
      "5717/5718 [============================>.] - ETA: 0s - loss: 0.0688 - accuracy: 0.9759\n",
      "Epoch 00013: val_loss improved from 1.17409 to 0.36594, saving model to /home/kalfasyan/projects/wingbeat_frequencies/temp_data/TL_custom_raw_conv1d_weights.h5\n",
      "5718/5718 [==============================] - 421s 74ms/step - loss: 0.0688 - accuracy: 0.9759 - val_loss: 0.3659 - val_accuracy: 0.8971\n",
      "Epoch 14/100\n",
      "5717/5718 [============================>.] - ETA: 0s - loss: 0.0669 - accuracy: 0.9769\n",
      "Epoch 00014: val_loss improved from 0.36594 to 0.33421, saving model to /home/kalfasyan/projects/wingbeat_frequencies/temp_data/TL_custom_raw_conv1d_weights.h5\n",
      "5718/5718 [==============================] - 421s 74ms/step - loss: 0.0668 - accuracy: 0.9770 - val_loss: 0.3342 - val_accuracy: 0.9015\n",
      "Epoch 15/100\n",
      "5717/5718 [============================>.] - ETA: 0s - loss: 0.0660 - accuracy: 0.9773\n",
      "Epoch 00015: val_loss improved from 0.33421 to 0.33119, saving model to /home/kalfasyan/projects/wingbeat_frequencies/temp_data/TL_custom_raw_conv1d_weights.h5\n",
      "5718/5718 [==============================] - 422s 74ms/step - loss: 0.0660 - accuracy: 0.9773 - val_loss: 0.3312 - val_accuracy: 0.9022\n",
      "Epoch 16/100\n",
      "5717/5718 [============================>.] - ETA: 0s - loss: 0.0652 - accuracy: 0.9776\n",
      "Epoch 00016: val_loss did not improve from 0.33119\n",
      "5718/5718 [==============================] - 423s 74ms/step - loss: 0.0652 - accuracy: 0.9776 - val_loss: 0.3484 - val_accuracy: 0.8992\n",
      "Epoch 17/100\n",
      "5717/5718 [============================>.] - ETA: 0s - loss: 0.0641 - accuracy: 0.9780\n",
      "Epoch 00017: val_loss did not improve from 0.33119\n",
      "5718/5718 [==============================] - 423s 74ms/step - loss: 0.0640 - accuracy: 0.9780 - val_loss: 0.3380 - val_accuracy: 0.9016\n",
      "Epoch 18/100\n",
      "5717/5718 [============================>.] - ETA: 0s - loss: 0.0635 - accuracy: 0.9783\n",
      "Epoch 00018: val_loss did not improve from 0.33119\n",
      "\n",
      "Epoch 00018: ReduceLROnPlateau reducing learning rate to 1.0000000656873453e-06.\n",
      "5718/5718 [==============================] - 422s 74ms/step - loss: 0.0635 - accuracy: 0.9783 - val_loss: 0.3405 - val_accuracy: 0.9007\n",
      "Epoch 19/100\n",
      "5717/5718 [============================>.] - ETA: 0s - loss: 0.0621 - accuracy: 0.9790\n",
      "Epoch 00019: val_loss did not improve from 0.33119\n",
      "5718/5718 [==============================] - 421s 74ms/step - loss: 0.0621 - accuracy: 0.9790 - val_loss: 0.3359 - val_accuracy: 0.9023\n",
      "Epoch 20/100\n",
      "5717/5718 [============================>.] - ETA: 0s - loss: 0.0626 - accuracy: 0.9786\n",
      "Epoch 00020: val_loss did not improve from 0.33119\n",
      "5718/5718 [==============================] - 422s 74ms/step - loss: 0.0626 - accuracy: 0.9786 - val_loss: 0.3369 - val_accuracy: 0.9023\n",
      "Epoch 21/100\n",
      "5717/5718 [============================>.] - ETA: 0s - loss: 0.0623 - accuracy: 0.9788\n",
      "Epoch 00021: val_loss did not improve from 0.33119\n",
      "\n",
      "Epoch 00021: ReduceLROnPlateau reducing learning rate to 1.0000001111620805e-07.\n",
      "5718/5718 [==============================] - 421s 74ms/step - loss: 0.0622 - accuracy: 0.9788 - val_loss: 0.3361 - val_accuracy: 0.9020\n",
      "Epoch 22/100\n",
      "5717/5718 [============================>.] - ETA: 0s - loss: 0.0621 - accuracy: 0.9783\n",
      "Epoch 00022: val_loss did not improve from 0.33119\n",
      "5718/5718 [==============================] - 421s 74ms/step - loss: 0.0621 - accuracy: 0.9783 - val_loss: 0.3358 - val_accuracy: 0.9020\n",
      "Epoch 00022: early stopping\n"
     ]
    }
   ],
   "source": [
    "h = model.fit_generator(train_generator(X_train, y_train, \n",
    "                                    batch_size=traincf.batch_size,\n",
    "                                    target_names=traincf.target_names,\n",
    "                                    setting=traincf.setting,\n",
    "                                    preprocessing_train_stats='',\n",
    "                                    using_conv2d=using_conv2d),\n",
    "                    steps_per_epoch = int(math.ceil(float(len(X_train)) / float(traincf.batch_size))),\n",
    "                    epochs = traincf.epochs,\n",
    "                    validation_data = valid_generator(X_val, y_val,\n",
    "                                                        batch_size=traincf.batch_size,\n",
    "                                                        target_names=traincf.target_names,\n",
    "                                                        setting=traincf.setting,\n",
    "                                                        preprocessing_train_stats='',\n",
    "                                                        using_conv2d=using_conv2d),\n",
    "                    validation_steps=int(math.ceil(float(len(X_test))/float(traincf.batch_size))),\n",
    "                    callbacks=traincf.callbacks_list)"
   ]
  },
  {
   "cell_type": "code",
   "execution_count": null,
   "metadata": {},
   "outputs": [],
   "source": []
  },
  {
   "cell_type": "code",
   "execution_count": 11,
   "metadata": {},
   "outputs": [],
   "source": [
    "features = model.predict_generator(valid_generator(X_test, y_test, \n",
    "                                                  batch_size=traincf.batch_size, \n",
    "                                                  setting=traincf.setting, \n",
    "                                                  target_names=traincf.target_names,\n",
    "                                                  preprocessing_train_stats=''),\n",
    "                                  steps = int(math.ceil(float(len(X_test)) / float(traincf.batch_size))))"
   ]
  },
  {
   "cell_type": "code",
   "execution_count": 12,
   "metadata": {},
   "outputs": [
    {
     "data": {
      "text/plain": [
       "(47295, 6)"
      ]
     },
     "execution_count": 12,
     "metadata": {},
     "output_type": "execute_result"
    }
   ],
   "source": [
    "features.shape"
   ]
  },
  {
   "cell_type": "code",
   "execution_count": 33,
   "metadata": {},
   "outputs": [
    {
     "data": {
      "text/plain": [
       "<matplotlib.axes._subplots.AxesSubplot at 0x7fcabe02a5f8>"
      ]
     },
     "execution_count": 33,
     "metadata": {},
     "output_type": "execute_result"
    },
    {
     "data": {
      "image/png": "[encoded data removed]",
      "text/plain": [
       "<Figure size 864x432 with 2 Axes>"
      ]
     },
     "metadata": {
      "needs_background": "light"
     },
     "output_type": "display_data"
    }
   ],
   "source": [
    "from sklearn.metrics import confusion_matrix\n",
    "import seaborn as sb\n",
    "plt.figure(figsize=(12,6))\n",
    "cm = confusion_matrix(np.argmax(features, axis=1), y_test)\n",
    "cm = cm.astype(np.float) / cm.astype(np.float).sum(axis=1)\n",
    "sb.heatmap(cm, annot=True)"
   ]
  }
 ],
 "metadata": {
  "kernelspec": {
   "display_name": "Python 3",
   "language": "python",
   "name": "python3"
  },
  "language_info": {
   "codemirror_mode": {
    "name": "ipython",
    "version": 3
   },
   "file_extension": ".py",
   "mimetype": "text/x-python",
   "name": "python",
   "nbconvert_exporter": "python",
   "pygments_lexer": "ipython3",
   "version": "3.6.7"
  }
 },
 "nbformat": 4,
 "nbformat_minor": 4
}
