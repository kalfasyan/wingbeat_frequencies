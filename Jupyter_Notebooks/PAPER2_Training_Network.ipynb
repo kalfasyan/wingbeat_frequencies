{
 "cells": [
  {
   "cell_type": "code",
   "execution_count": 43,
   "metadata": {},
   "outputs": [],
   "source": [
    "%reset -f\n",
    "import sys\n",
    "sys.path.insert(0, \"..\")\n",
    "from wavhandler import Dataset\n",
    "import numpy as np\n",
    "import math\n",
    "from sklearn.preprocessing import LabelEncoder\n",
    "from sklearn.utils import shuffle\n",
    "from sklearn.model_selection import train_test_split\n",
    "from sklearn.metrics import confusion_matrix, balanced_accuracy_score, classification_report, make_scorer, log_loss\n",
    "from utils_train import *\n",
    "import deepdish as dd\n",
    "from configs import DatasetConfiguration\n",
    "import os\n",
    "import pandas as pd\n",
    "from sklearn.metrics import confusion_matrix\n",
    "import seaborn as sb\n",
    "import matplotlib.pyplot as plt\n",
    "\n",
    "seed = 42\n",
    "np.random.seed(seed=seed)\n",
    "\n",
    "splitting = 'custom'\n",
    "data_setting = 'raw'\n",
    "model_setting = 'conv1d'\n",
    "\n",
    "d = Dataset('Wingbeats')\n",
    "d.read(loadmat=False)\n",
    "\n",
    "X_train, X_val, X_test, y_train, y_val, y_test, le = mosquito_data_split(splitting=splitting, dataset=d, downsampling=False, return_label_encoder=True)\n",
    "\n",
    "X_train, X_val, y_train, y_val = X_train[0], X_val[0], y_train[0], y_val[0]\n",
    "from sklearn.utils import shuffle\n",
    "X_train, y_train = shuffle(X_train, y_train, random_state=seed)\n",
    "X_val, y_val = shuffle(X_val, y_val, random_state=seed)\n",
    "\n",
    "get_labelencoder_mapping(le)"
   ]
  },
  {
   "cell_type": "markdown",
   "metadata": {},
   "source": [
    "## Choosing model (6 classes or 3-merged)"
   ]
  },
  {
   "cell_type": "code",
   "execution_count": 43,
   "metadata": {},
   "outputs": [],
   "source": [
    "# Merging the mosquito genuses together\n",
    "y_train = pd.Series(y_train).replace({1:0, 3:2, 5:4}).replace({2:1, 4:2}).tolist()\n",
    "y_val = pd.Series(y_val).replace({1:0, 3:2, 5:4}).replace({2:1, 4:2}).tolist()\n",
    "y_test = pd.Series(y_test).replace({1:0, 3:2, 5:4}).replace({2:1, 4:2}).tolist()\n",
    "\n",
    "# Defining model parameters\n",
    "modelname = f'TL_{splitting}_{data_setting}_{model_setting}_MERGED_weights'\n",
    "using_conv2d = False\n",
    "traincf = TrainConfiguration(dataset=d, setting=data_setting, model_name=modelname)\n",
    "model = ModelConfiguration(model_setting=model_setting, data_setting=data_setting, target_names=traincf.target_names).config\n",
    "\n",
    "model.compile(loss='categorical_crossentropy', optimizer='adam', metrics=['accuracy'])\n",
    "\n",
    "# train_stats = calculate_train_statistics(X_train=X_train, setting=data_setting)"
   ]
  },
  {
   "cell_type": "markdown",
   "metadata": {},
   "source": [
    "### Model training"
   ]
  },
  {
   "cell_type": "code",
   "execution_count": 44,
   "metadata": {},
   "outputs": [
    {
     "name": "stdout",
     "output_type": "stream",
     "text": [
      "Epoch 1/100\n",
      "5717/5718 [============================>.] - ETA: 0s - loss: 0.2815 - accuracy: 0.8930\n",
      "Epoch 00001: val_loss improved from inf to 0.94372, saving model to /home/kalfasyan/projects/wingbeat_frequencies/temp_data/TL_custom_raw_conv1d_MERGED_weights.h5\n",
      "5718/5718 [==============================] - 419s 73ms/step - loss: 0.2815 - accuracy: 0.8930 - val_loss: 0.9437 - val_accuracy: 0.7794\n",
      "Epoch 2/100\n",
      "5717/5718 [============================>.] - ETA: 0s - loss: 0.1697 - accuracy: 0.9366\n",
      "Epoch 00002: val_loss improved from 0.94372 to 0.46158, saving model to /home/kalfasyan/projects/wingbeat_frequencies/temp_data/TL_custom_raw_conv1d_MERGED_weights.h5\n",
      "5718/5718 [==============================] - 417s 73ms/step - loss: 0.1697 - accuracy: 0.9366 - val_loss: 0.4616 - val_accuracy: 0.8726\n",
      "Epoch 3/100\n",
      "5717/5718 [============================>.] - ETA: 0s - loss: 0.1419 - accuracy: 0.9474\n",
      "Epoch 00003: val_loss did not improve from 0.46158\n",
      "5718/5718 [==============================] - 418s 73ms/step - loss: 0.1419 - accuracy: 0.9474 - val_loss: 2.0191 - val_accuracy: 0.6772\n",
      "Epoch 4/100\n",
      "5717/5718 [============================>.] - ETA: 0s - loss: 0.1230 - accuracy: 0.9549\n",
      "Epoch 00004: val_loss did not improve from 0.46158\n",
      "5718/5718 [==============================] - 419s 73ms/step - loss: 0.1230 - accuracy: 0.9549 - val_loss: 0.8125 - val_accuracy: 0.8455\n",
      "Epoch 5/100\n",
      "5717/5718 [============================>.] - ETA: 0s - loss: 0.1093 - accuracy: 0.9598\n",
      "Epoch 00005: val_loss did not improve from 0.46158\n",
      "\n",
      "Epoch 00005: ReduceLROnPlateau reducing learning rate to 0.00010000000474974513.\n",
      "5718/5718 [==============================] - 415s 73ms/step - loss: 0.1093 - accuracy: 0.9598 - val_loss: 3.9391 - val_accuracy: 0.6864\n",
      "Epoch 6/100\n",
      "5717/5718 [============================>.] - ETA: 0s - loss: 0.0740 - accuracy: 0.9733\n",
      "Epoch 00006: val_loss did not improve from 0.46158\n",
      "5718/5718 [==============================] - 414s 72ms/step - loss: 0.0739 - accuracy: 0.9733 - val_loss: 2.7252 - val_accuracy: 0.7683\n",
      "Epoch 7/100\n",
      "5717/5718 [============================>.] - ETA: 0s - loss: 0.0624 - accuracy: 0.9773\n",
      "Epoch 00007: val_loss did not improve from 0.46158\n",
      "5718/5718 [==============================] - 412s 72ms/step - loss: 0.0624 - accuracy: 0.9773 - val_loss: 1.7849 - val_accuracy: 0.7948\n",
      "Epoch 8/100\n",
      "5717/5718 [============================>.] - ETA: 0s - loss: 0.0560 - accuracy: 0.9799\n",
      "Epoch 00008: val_loss did not improve from 0.46158\n",
      "\n",
      "Epoch 00008: ReduceLROnPlateau reducing learning rate to 1.0000000474974514e-05.\n",
      "5718/5718 [==============================] - 421s 74ms/step - loss: 0.0560 - accuracy: 0.9799 - val_loss: 3.9673 - val_accuracy: 0.6318\n",
      "Epoch 9/100\n",
      "5717/5718 [============================>.] - ETA: 0s - loss: 0.0487 - accuracy: 0.9829\n",
      "Epoch 00009: val_loss improved from 0.46158 to 0.11812, saving model to /home/kalfasyan/projects/wingbeat_frequencies/temp_data/TL_custom_raw_conv1d_MERGED_weights.h5\n",
      "5718/5718 [==============================] - 429s 75ms/step - loss: 0.0487 - accuracy: 0.9829 - val_loss: 0.1181 - val_accuracy: 0.9611\n",
      "Epoch 10/100\n",
      "5717/5718 [============================>.] - ETA: 0s - loss: 0.0469 - accuracy: 0.9832\n",
      "Epoch 00010: val_loss did not improve from 0.11812\n",
      "5718/5718 [==============================] - 408s 71ms/step - loss: 0.0469 - accuracy: 0.9832 - val_loss: 0.1523 - val_accuracy: 0.9526\n",
      "Epoch 11/100\n",
      "5717/5718 [============================>.] - ETA: 0s - loss: 0.0463 - accuracy: 0.9837\n",
      "Epoch 00011: val_loss improved from 0.11812 to 0.11047, saving model to /home/kalfasyan/projects/wingbeat_frequencies/temp_data/TL_custom_raw_conv1d_MERGED_weights.h5\n",
      "5718/5718 [==============================] - 409s 72ms/step - loss: 0.0463 - accuracy: 0.9837 - val_loss: 0.1105 - val_accuracy: 0.9636\n",
      "Epoch 12/100\n",
      "5717/5718 [============================>.] - ETA: 0s - loss: 0.0451 - accuracy: 0.9841\n",
      "Epoch 00012: val_loss did not improve from 0.11047\n",
      "5718/5718 [==============================] - 419s 73ms/step - loss: 0.0451 - accuracy: 0.9841 - val_loss: 0.2923 - val_accuracy: 0.9238\n",
      "Epoch 13/100\n",
      "5717/5718 [============================>.] - ETA: 0s - loss: 0.0443 - accuracy: 0.9844\n",
      "Epoch 00013: val_loss did not improve from 0.11047\n",
      "5718/5718 [==============================] - 431s 75ms/step - loss: 0.0443 - accuracy: 0.9844 - val_loss: 0.4299 - val_accuracy: 0.9019\n",
      "Epoch 14/100\n",
      "5717/5718 [============================>.] - ETA: 0s - loss: 0.0439 - accuracy: 0.9847\n",
      "Epoch 00014: val_loss did not improve from 0.11047\n",
      "\n",
      "Epoch 00014: ReduceLROnPlateau reducing learning rate to 1.0000000656873453e-06.\n",
      "5718/5718 [==============================] - 425s 74ms/step - loss: 0.0439 - accuracy: 0.9847 - val_loss: 0.2358 - val_accuracy: 0.9344\n",
      "Epoch 15/100\n",
      "5717/5718 [============================>.] - ETA: 0s - loss: 0.0429 - accuracy: 0.9851\n",
      "Epoch 00015: val_loss improved from 0.11047 to 0.10593, saving model to /home/kalfasyan/projects/wingbeat_frequencies/temp_data/TL_custom_raw_conv1d_MERGED_weights.h5\n",
      "5718/5718 [==============================] - 426s 75ms/step - loss: 0.0429 - accuracy: 0.9851 - val_loss: 0.1059 - val_accuracy: 0.9647\n",
      "Epoch 16/100\n",
      "5717/5718 [============================>.] - ETA: 0s - loss: 0.0428 - accuracy: 0.9850\n",
      "Epoch 00016: val_loss did not improve from 0.10593\n",
      "5718/5718 [==============================] - 426s 75ms/step - loss: 0.0428 - accuracy: 0.9850 - val_loss: 0.1070 - val_accuracy: 0.9646\n",
      "Epoch 17/100\n",
      "5717/5718 [============================>.] - ETA: 0s - loss: 0.0430 - accuracy: 0.9850\n",
      "Epoch 00017: val_loss improved from 0.10593 to 0.10562, saving model to /home/kalfasyan/projects/wingbeat_frequencies/temp_data/TL_custom_raw_conv1d_MERGED_weights.h5\n",
      "5718/5718 [==============================] - 424s 74ms/step - loss: 0.0430 - accuracy: 0.9850 - val_loss: 0.1056 - val_accuracy: 0.9650\n",
      "Epoch 18/100\n",
      "5717/5718 [============================>.] - ETA: 0s - loss: 0.0425 - accuracy: 0.9854\n",
      "Epoch 00018: val_loss did not improve from 0.10562\n",
      "5718/5718 [==============================] - 426s 75ms/step - loss: 0.0425 - accuracy: 0.9854 - val_loss: 0.1059 - val_accuracy: 0.9647\n",
      "Epoch 19/100\n",
      "5717/5718 [============================>.] - ETA: 0s - loss: 0.0423 - accuracy: 0.9852\n",
      "Epoch 00019: val_loss did not improve from 0.10562\n",
      "5718/5718 [==============================] - 426s 74ms/step - loss: 0.0423 - accuracy: 0.9852 - val_loss: 0.1059 - val_accuracy: 0.9647\n",
      "Epoch 20/100\n",
      "5717/5718 [============================>.] - ETA: 0s - loss: 0.0424 - accuracy: 0.9852\n",
      "Epoch 00020: val_loss improved from 0.10562 to 0.10495, saving model to /home/kalfasyan/projects/wingbeat_frequencies/temp_data/TL_custom_raw_conv1d_MERGED_weights.h5\n",
      "5718/5718 [==============================] - 426s 74ms/step - loss: 0.0424 - accuracy: 0.9852 - val_loss: 0.1050 - val_accuracy: 0.9646\n",
      "Epoch 21/100\n",
      "5717/5718 [============================>.] - ETA: 0s - loss: 0.0424 - accuracy: 0.9853\n",
      "Epoch 00021: val_loss did not improve from 0.10495\n",
      "5718/5718 [==============================] - 423s 74ms/step - loss: 0.0424 - accuracy: 0.9853 - val_loss: 0.1062 - val_accuracy: 0.9649\n",
      "Epoch 22/100\n",
      "5717/5718 [============================>.] - ETA: 0s - loss: 0.0423 - accuracy: 0.9854\n",
      "Epoch 00022: val_loss did not improve from 0.10495\n",
      "5718/5718 [==============================] - 423s 74ms/step - loss: 0.0422 - accuracy: 0.9854 - val_loss: 0.1068 - val_accuracy: 0.9647\n",
      "Epoch 23/100\n",
      "5717/5718 [============================>.] - ETA: 0s - loss: 0.0422 - accuracy: 0.9854\n",
      "Epoch 00023: val_loss did not improve from 0.10495\n",
      "\n",
      "Epoch 00023: ReduceLROnPlateau reducing learning rate to 1.0000001111620805e-07.\n",
      "5718/5718 [==============================] - 424s 74ms/step - loss: 0.0422 - accuracy: 0.9854 - val_loss: 0.1055 - val_accuracy: 0.9649\n",
      "Epoch 24/100\n",
      "5717/5718 [============================>.] - ETA: 0s - loss: 0.0421 - accuracy: 0.9855\n",
      "Epoch 00024: val_loss improved from 0.10495 to 0.10483, saving model to /home/kalfasyan/projects/wingbeat_frequencies/temp_data/TL_custom_raw_conv1d_MERGED_weights.h5\n",
      "5718/5718 [==============================] - 421s 74ms/step - loss: 0.0421 - accuracy: 0.9855 - val_loss: 0.1048 - val_accuracy: 0.9647\n",
      "Epoch 25/100\n",
      "5717/5718 [============================>.] - ETA: 0s - loss: 0.0421 - accuracy: 0.9854\n",
      "Epoch 00025: val_loss did not improve from 0.10483\n",
      "5718/5718 [==============================] - 423s 74ms/step - loss: 0.0420 - accuracy: 0.9854 - val_loss: 0.1057 - val_accuracy: 0.9648\n",
      "Epoch 26/100\n",
      "5717/5718 [============================>.] - ETA: 0s - loss: 0.0421 - accuracy: 0.9853\n",
      "Epoch 00026: val_loss did not improve from 0.10483\n",
      "5718/5718 [==============================] - 423s 74ms/step - loss: 0.0421 - accuracy: 0.9853 - val_loss: 0.1052 - val_accuracy: 0.9648\n",
      "Epoch 27/100\n",
      "5717/5718 [============================>.] - ETA: 0s - loss: 0.0419 - accuracy: 0.9856\n",
      "Epoch 00027: val_loss did not improve from 0.10483\n",
      "\n",
      "Epoch 00027: ReduceLROnPlateau reducing learning rate to 1.000000082740371e-08.\n",
      "5718/5718 [==============================] - 426s 75ms/step - loss: 0.0419 - accuracy: 0.9856 - val_loss: 0.1064 - val_accuracy: 0.9644\n",
      "Epoch 28/100\n",
      "5717/5718 [============================>.] - ETA: 0s - loss: 0.0420 - accuracy: 0.9853\n",
      "Epoch 00028: val_loss improved from 0.10483 to 0.10435, saving model to /home/kalfasyan/projects/wingbeat_frequencies/temp_data/TL_custom_raw_conv1d_MERGED_weights.h5\n",
      "5718/5718 [==============================] - 426s 75ms/step - loss: 0.0420 - accuracy: 0.9853 - val_loss: 0.1043 - val_accuracy: 0.9649\n",
      "Epoch 29/100\n",
      "5717/5718 [============================>.] - ETA: 0s - loss: 0.0422 - accuracy: 0.9853\n",
      "Epoch 00029: val_loss did not improve from 0.10435\n",
      "5718/5718 [==============================] - 427s 75ms/step - loss: 0.0422 - accuracy: 0.9853 - val_loss: 0.1061 - val_accuracy: 0.9645\n",
      "Epoch 30/100\n",
      "5717/5718 [============================>.] - ETA: 0s - loss: 0.0420 - accuracy: 0.9856\n",
      "Epoch 00030: val_loss did not improve from 0.10435\n",
      "5718/5718 [==============================] - 426s 75ms/step - loss: 0.0420 - accuracy: 0.9856 - val_loss: 0.1053 - val_accuracy: 0.9648\n",
      "Epoch 31/100\n",
      "5717/5718 [============================>.] - ETA: 0s - loss: 0.0422 - accuracy: 0.9854\n",
      "Epoch 00031: val_loss did not improve from 0.10435\n",
      "\n",
      "Epoch 00031: ReduceLROnPlateau reducing learning rate to 1.000000082740371e-09.\n",
      "5718/5718 [==============================] - 426s 75ms/step - loss: 0.0422 - accuracy: 0.9854 - val_loss: 0.1054 - val_accuracy: 0.9648\n",
      "Epoch 32/100\n",
      "5717/5718 [============================>.] - ETA: 0s - loss: 0.0421 - accuracy: 0.9854\n",
      "Epoch 00032: val_loss did not improve from 0.10435\n",
      "5718/5718 [==============================] - 426s 75ms/step - loss: 0.0421 - accuracy: 0.9854 - val_loss: 0.1054 - val_accuracy: 0.9649\n",
      "Epoch 33/100\n",
      "5717/5718 [============================>.] - ETA: 0s - loss: 0.0421 - accuracy: 0.9855\n",
      "Epoch 00033: val_loss did not improve from 0.10435\n",
      "5718/5718 [==============================] - 426s 75ms/step - loss: 0.0421 - accuracy: 0.9855 - val_loss: 0.1059 - val_accuracy: 0.9647\n",
      "Epoch 34/100\n",
      "5717/5718 [============================>.] - ETA: 0s - loss: 0.0419 - accuracy: 0.9855\n",
      "Epoch 00034: val_loss did not improve from 0.10435\n",
      "\n",
      "Epoch 00034: ReduceLROnPlateau reducing learning rate to 1.000000082740371e-10.\n",
      "5718/5718 [==============================] - 427s 75ms/step - loss: 0.0419 - accuracy: 0.9855 - val_loss: 0.1049 - val_accuracy: 0.9649\n",
      "Epoch 35/100\n",
      "5717/5718 [============================>.] - ETA: 0s - loss: 0.0418 - accuracy: 0.9856\n",
      "Epoch 00035: val_loss did not improve from 0.10435\n",
      "5718/5718 [==============================] - 423s 74ms/step - loss: 0.0418 - accuracy: 0.9856 - val_loss: 0.1048 - val_accuracy: 0.9649\n",
      "Epoch 00035: early stopping\n"
     ]
    }
   ],
   "source": [
    "h = model.fit_generator(train_generator(X_train, y_train, \n",
    "                                    batch_size=traincf.batch_size,\n",
    "                                    target_names=traincf.target_names,\n",
    "                                    setting=traincf.setting,\n",
    "                                    preprocessing_train_stats='',\n",
    "                                    using_conv2d=using_conv2d),\n",
    "                    steps_per_epoch = int(math.ceil(float(len(X_train)) / float(traincf.batch_size))),\n",
    "                    epochs = traincf.epochs,\n",
    "                    validation_data = valid_generator(X_val, y_val,\n",
    "                                                        batch_size=traincf.batch_size,\n",
    "                                                        target_names=traincf.target_names,\n",
    "                                                        setting=traincf.setting,\n",
    "                                                        preprocessing_train_stats='',\n",
    "                                                        using_conv2d=using_conv2d),\n",
    "                    validation_steps=int(math.ceil(float(len(X_test))/float(traincf.batch_size))),\n",
    "                    callbacks=traincf.callbacks_list)"
   ]
  },
  {
   "cell_type": "code",
   "execution_count": 42,
   "metadata": {},
   "outputs": [],
   "source": [
    "# model.load_weights('../temp_data/custom_raw_conv1d_0.h5')"
   ]
  },
  {
   "cell_type": "code",
   "execution_count": 45,
   "metadata": {},
   "outputs": [],
   "source": [
    "features = model.predict_generator(valid_generator(X_test, y_test, \n",
    "                                                  batch_size=traincf.batch_size, \n",
    "                                                  setting=traincf.setting, \n",
    "                                                  target_names=traincf.target_names,\n",
    "                                                  preprocessing_train_stats=''),\n",
    "                                  steps = int(math.ceil(float(len(X_test)) / float(traincf.batch_size))))"
   ]
  },
  {
   "cell_type": "code",
   "execution_count": 46,
   "metadata": {},
   "outputs": [
    {
     "data": {
      "text/plain": [
       "(47295, 6)"
      ]
     },
     "execution_count": 46,
     "metadata": {},
     "output_type": "execute_result"
    }
   ],
   "source": [
    "features.shape"
   ]
  },
  {
   "cell_type": "markdown",
   "metadata": {},
   "source": [
    "### Confusion matrix (test set)"
   ]
  },
  {
   "cell_type": "code",
   "execution_count": 54,
   "metadata": {},
   "outputs": [
    {
     "data": {
      "text/plain": [
       "<matplotlib.axes._subplots.AxesSubplot at 0x7f5421a68470>"
      ]
     },
     "execution_count": 54,
     "metadata": {},
     "output_type": "execute_result"
    },
    {
     "data": {
      "image/png": "[encoded data removed]",
      "text/plain": [
       "<Figure size 864x432 with 2 Axes>"
      ]
     },
     "metadata": {
      "needs_background": "light"
     },
     "output_type": "display_data"
    }
   ],
   "source": [
    "from sklearn.metrics import confusion_matrix\n",
    "import seaborn as sb\n",
    "plt.figure(figsize=(12,6))\n",
    "cm = confusion_matrix(np.argmax(features, axis=1), y_test)\n",
    "cm = cm.astype(np.float) / cm.astype(np.float).sum(axis=1)\n",
    "sb.heatmap(cm, annot=True)#, fmt='g')"
   ]
  },
  {
   "cell_type": "code",
   "execution_count": null,
   "metadata": {},
   "outputs": [],
   "source": []
  }
 ],
 "metadata": {
  "kernelspec": {
   "display_name": "Python 3",
   "language": "python",
   "name": "python3"
  },
  "language_info": {
   "codemirror_mode": {
    "name": "ipython",
    "version": 3
   },
   "file_extension": ".py",
   "mimetype": "text/x-python",
   "name": "python",
   "nbconvert_exporter": "python",
   "pygments_lexer": "ipython3",
   "version": "3.6.7"
  }
 },
 "nbformat": 4,
 "nbformat_minor": 4
}
