{
 "cells": [
  {
   "cell_type": "code",
   "execution_count": 1,
   "metadata": {},
   "outputs": [
    {
     "name": "stdout",
     "output_type": "stream",
     "text": [
      "Species: all.\n",
      "Read 279566 filenames in 0.70 seconds.\n",
      "Species: Ae. aegypti.\n",
      "Read 85553 filenames in 1.46 seconds.\n",
      "['20170212', '20170211', '20170209', '20170208', '20170210', '20170207', '20170213', '20161213', '20170206', '20161212']\n",
      "82989 train filenames, 2564 test filenames\n",
      "Species: Ae. albopictus.\n",
      "Read 20231 filenames in 1.47 seconds.\n",
      "['20170301', '20170228', '20170227', '20170103', '20170102']\n",
      "17440 train filenames, 2791 test filenames\n",
      "Species: An. arabiensis.\n",
      "Read 19297 filenames in 1.46 seconds.\n",
      "['20170131', '20170317', '20170318', '20170320', '20170205', '20170203', '20170204', '20170202', '20170319', '20170313', '20170201', '20170314', '20170316', '20170130', '20170206', '20170315']\n",
      "12897 train filenames, 2831 test filenames\n",
      "Species: An. gambiae.\n",
      "Read 49471 filenames in 1.46 seconds.\n",
      "['20170121', '20170120', '20170123', '20170118', '20170117', '20170119', '20170116', '20170122', '20170109', '20170110']\n",
      "45471 train filenames, 4000 test filenames\n",
      "Species: C. quinquefasciatus.\n",
      "Read 74599 filenames in 1.46 seconds.\n",
      "['20161220', '20161219', '20161221']\n",
      "41552 train filenames, 33047 test filenames\n",
      "Species: C. pipiens.\n",
      "Read 30415 filenames in 1.46 seconds.\n",
      "['20161206', '20161205', '20170214', '20170215', '20170213', '20170217', '20170216', '20170219', '20170220', '20170218']\n",
      "28353 train filenames, 2062 test filenames\n"
     ]
    },
    {
     "data": {
      "text/plain": [
       "{'Ae. aegypti': 0,\n",
       " 'Ae. albopictus': 1,\n",
       " 'An. arabiensis': 2,\n",
       " 'An. gambiae': 3,\n",
       " 'C. pipiens': 4,\n",
       " 'C. quinquefasciatus': 5}"
      ]
     },
     "execution_count": 1,
     "metadata": {},
     "output_type": "execute_result"
    }
   ],
   "source": [
    "%reset -f\n",
    "import sys\n",
    "sys.path.insert(0, \"..\")\n",
    "from wavhandler import Dataset\n",
    "import numpy as np\n",
    "import math\n",
    "from sklearn.preprocessing import LabelEncoder\n",
    "from sklearn.utils import shuffle\n",
    "from sklearn.model_selection import train_test_split\n",
    "from sklearn.metrics import confusion_matrix, balanced_accuracy_score, classification_report, make_scorer, log_loss\n",
    "from utils_train import *\n",
    "import deepdish as dd\n",
    "from configs import DatasetConfiguration\n",
    "import os\n",
    "import pandas as pd\n",
    "from sklearn.metrics import confusion_matrix\n",
    "import seaborn as sb\n",
    "import matplotlib.pyplot as plt\n",
    "\n",
    "seed = 42\n",
    "np.random.seed(seed=seed)\n",
    "\n",
    "splitting = 'custom'\n",
    "data_setting = 'psd'\n",
    "model_setting = 'conv1d'\n",
    "\n",
    "d = Dataset('Wingbeats')\n",
    "d.read(loadmat=False)\n",
    "\n",
    "X_train, X_val, X_test, y_train, y_val, y_test, le = mosquito_data_split(splitting=splitting, dataset=d, downsampling=False, return_label_encoder=True)\n",
    "\n",
    "X_train, X_val, y_train, y_val = X_train[0], X_val[0], y_train[0], y_val[0]\n",
    "from sklearn.utils import shuffle\n",
    "X_train, y_train = shuffle(X_train, y_train, random_state=seed)\n",
    "X_val, y_val = shuffle(X_val, y_val, random_state=seed)\n",
    "\n",
    "get_labelencoder_mapping(le)"
   ]
  },
  {
   "cell_type": "markdown",
   "metadata": {},
   "source": [
    "## Choosing model (6 classes or 3-merged)"
   ]
  },
  {
   "cell_type": "code",
   "execution_count": 2,
   "metadata": {},
   "outputs": [
    {
     "name": "stdout",
     "output_type": "stream",
     "text": [
      "############ INPUT SHAPE:(4097, 1)\n"
     ]
    }
   ],
   "source": [
    "merged = True\n",
    "\n",
    "using_conv2d = False\n",
    "if merged:\n",
    "    # Merging the mosquito genuses together\n",
    "    y_train = pd.Series(y_train).replace({1:0, 3:2, 5:4}).replace({2:1, 4:2}).tolist()\n",
    "    y_val = pd.Series(y_val).replace({1:0, 3:2, 5:4}).replace({2:1, 4:2}).tolist()\n",
    "    y_test = pd.Series(y_test).replace({1:0, 3:2, 5:4}).replace({2:1, 4:2}).tolist()\n",
    "\n",
    "    # Defining model parameters\n",
    "    modelname = f'TL_{splitting}_{data_setting}_{model_setting}_MERGED_weights'\n",
    "    traincf = TrainConfiguration(dataset=d, setting=data_setting, model_name=modelname)\n",
    "    d.target_classes = ['Aedes','Anopheles','Culex']\n",
    "    traincf.target_names = np.unique(d.target_classes)\n",
    "    traincf.targets = len(traincf.target_names)    \n",
    "    model = ModelConfiguration(model_setting=model_setting, data_setting=data_setting, target_names=traincf.target_names).config\n",
    "else:\n",
    "    modelname = f'TL_{splitting}_{data_setting}_{model_setting}_weights'\n",
    "    traincf = TrainConfiguration(dataset=d, setting=data_setting, model_name=modelname)\n",
    "    model = ModelConfiguration(model_setting=model_setting, data_setting=data_setting, target_names=traincf.target_names).config\n",
    "\n",
    "model.compile(loss='categorical_crossentropy', optimizer='adam', metrics=['accuracy'])\n",
    "\n",
    "# train_stats = calculate_train_statistics(X_train=X_train, setting=data_setting)"
   ]
  },
  {
   "cell_type": "code",
   "execution_count": 3,
   "metadata": {},
   "outputs": [
    {
     "data": {
      "text/plain": [
       "['Aedes', 'Anopheles', 'Culex']"
      ]
     },
     "execution_count": 3,
     "metadata": {},
     "output_type": "execute_result"
    }
   ],
   "source": [
    "d.target_classes"
   ]
  },
  {
   "cell_type": "code",
   "execution_count": 4,
   "metadata": {},
   "outputs": [
    {
     "name": "stdout",
     "output_type": "stream",
     "text": [
      "Model: \"sequential\"\n",
      "_________________________________________________________________\n",
      "Layer (type)                 Output Shape              Param #   \n",
      "=================================================================\n",
      "conv1d (Conv1D)              (None, 4095, 16)          64        \n",
      "_________________________________________________________________\n",
      "conv1d_1 (Conv1D)            (None, 4093, 16)          784       \n",
      "_________________________________________________________________\n",
      "batch_normalization (BatchNo (None, 4093, 16)          64        \n",
      "_________________________________________________________________\n",
      "conv1d_2 (Conv1D)            (None, 4091, 32)          1568      \n",
      "_________________________________________________________________\n",
      "conv1d_3 (Conv1D)            (None, 4089, 32)          3104      \n",
      "_________________________________________________________________\n",
      "batch_normalization_1 (Batch (None, 4089, 32)          128       \n",
      "_________________________________________________________________\n",
      "max_pooling1d (MaxPooling1D) (None, 2044, 32)          0         \n",
      "_________________________________________________________________\n",
      "conv1d_4 (Conv1D)            (None, 2042, 64)          6208      \n",
      "_________________________________________________________________\n",
      "conv1d_5 (Conv1D)            (None, 2040, 64)          12352     \n",
      "_________________________________________________________________\n",
      "batch_normalization_2 (Batch (None, 2040, 64)          256       \n",
      "_________________________________________________________________\n",
      "max_pooling1d_1 (MaxPooling1 (None, 1020, 64)          0         \n",
      "_________________________________________________________________\n",
      "conv1d_6 (Conv1D)            (None, 1018, 128)         24704     \n",
      "_________________________________________________________________\n",
      "conv1d_7 (Conv1D)            (None, 1016, 128)         49280     \n",
      "_________________________________________________________________\n",
      "batch_normalization_3 (Batch (None, 1016, 128)         512       \n",
      "_________________________________________________________________\n",
      "max_pooling1d_2 (MaxPooling1 (None, 508, 128)          0         \n",
      "_________________________________________________________________\n",
      "conv1d_8 (Conv1D)            (None, 506, 256)          98560     \n",
      "_________________________________________________________________\n",
      "conv1d_9 (Conv1D)            (None, 504, 256)          196864    \n",
      "_________________________________________________________________\n",
      "batch_normalization_4 (Batch (None, 504, 256)          1024      \n",
      "_________________________________________________________________\n",
      "global_average_pooling1d (Gl (None, 256)               0         \n",
      "_________________________________________________________________\n",
      "dropout (Dropout)            (None, 256)               0         \n",
      "_________________________________________________________________\n",
      "dense (Dense)                (None, 3)                 771       \n",
      "=================================================================\n",
      "Total params: 396,243\n",
      "Trainable params: 395,251\n",
      "Non-trainable params: 992\n",
      "_________________________________________________________________\n"
     ]
    }
   ],
   "source": [
    "model.summary()"
   ]
  },
  {
   "cell_type": "code",
   "execution_count": 39,
   "metadata": {},
   "outputs": [
    {
     "data": {
      "text/plain": [
       "[<matplotlib.lines.Line2D at 0x7f191c3e4b10>]"
      ]
     },
     "execution_count": 39,
     "metadata": {},
     "output_type": "execute_result"
    },
    {
     "data": {
      "image/png": "[encoded data removed]",
      "text/plain": [
       "<Figure size 432x288 with 1 Axes>"
      ]
     },
     "metadata": {
      "needs_background": "light"
     },
     "output_type": "display_data"
    }
   ],
   "source": [
    "plt.plot(10*np.log10(next(valid_generator(X_val, y_val,\n",
    "                batch_size=traincf.batch_size,\n",
    "                target_names=traincf.target_names,\n",
    "                setting=traincf.setting,\n",
    "                preprocessing_train_stats='',\n",
    "                using_conv2d=using_conv2d))[0][0,:,:]))"
   ]
  },
  {
   "cell_type": "code",
   "execution_count": 8,
   "metadata": {},
   "outputs": [
    {
     "data": {
      "text/plain": [
       "0    20085\n",
       "2    13980\n",
       "1    11673\n",
       "dtype: int64"
      ]
     },
     "execution_count": 8,
     "metadata": {},
     "output_type": "execute_result"
    }
   ],
   "source": [
    "pd.Series(y_val).value_counts()"
   ]
  },
  {
   "cell_type": "markdown",
   "metadata": {},
   "source": [
    "### Model training"
   ]
  },
  {
   "cell_type": "code",
   "execution_count": 6,
   "metadata": {},
   "outputs": [
    {
     "name": "stdout",
     "output_type": "stream",
     "text": [
      "WARNING:tensorflow:From <ipython-input-6-e822a8809f1b>:16: Model.fit_generator (from tensorflow.python.keras.engine.training) is deprecated and will be removed in a future version.\n",
      "Instructions for updating:\n",
      "Please use Model.fit, which supports generators.\n",
      "WARNING:tensorflow:sample_weight modes were coerced from\n",
      "  ...\n",
      "    to  \n",
      "  ['...']\n",
      "WARNING:tensorflow:sample_weight modes were coerced from\n",
      "  ...\n",
      "    to  \n",
      "  ['...']\n",
      "Train for 5718 steps, validate for 1478 steps\n",
      "Epoch 1/100\n",
      "1501/5718 [======>.......................] - ETA: 8:50 - loss: 1.0684 - accuracy: 0.4400WARNING:tensorflow:Can save best model only with val_loss available, skipping.\n",
      "WARNING:tensorflow:Early stopping conditioned on metric `val_loss` which is not available. Available metrics are: loss,accuracy\n",
      "WARNING:tensorflow:Reduce LR on plateau conditioned on metric `val_loss` which is not available. Available metrics are: loss,accuracy,lr\n"
     ]
    },
    {
     "name": "stderr",
     "output_type": "stream",
     "text": [
      "ERROR:root:Internal Python error in the inspect module.\n",
      "Below is the traceback from this internal error.\n",
      "\n"
     ]
    },
    {
     "name": "stdout",
     "output_type": "stream",
     "text": [
      "Traceback (most recent call last):\n",
      "  File \"/home/kalfasyan/anaconda3/envs/wbtf/lib/python3.7/site-packages/IPython/core/interactiveshell.py\", line 3331, in run_code\n",
      "    exec(code_obj, self.user_global_ns, self.user_ns)\n",
      "  File \"<ipython-input-6-e822a8809f1b>\", line 16, in <module>\n",
      "    callbacks=traincf.callbacks_list)\n",
      "  File \"/home/kalfasyan/anaconda3/envs/wbtf/lib/python3.7/site-packages/tensorflow_core/python/util/deprecation.py\", line 324, in new_func\n",
      "    return func(*args, **kwargs)\n",
      "  File \"/home/kalfasyan/anaconda3/envs/wbtf/lib/python3.7/site-packages/tensorflow_core/python/keras/engine/training.py\", line 1306, in fit_generator\n",
      "    initial_epoch=initial_epoch)\n",
      "  File \"/home/kalfasyan/anaconda3/envs/wbtf/lib/python3.7/site-packages/tensorflow_core/python/keras/engine/training.py\", line 819, in fit\n",
      "    use_multiprocessing=use_multiprocessing)\n",
      "  File \"/home/kalfasyan/anaconda3/envs/wbtf/lib/python3.7/site-packages/tensorflow_core/python/keras/engine/training_v2.py\", line 342, in fit\n",
      "    total_epochs=epochs)\n",
      "  File \"/home/kalfasyan/anaconda3/envs/wbtf/lib/python3.7/site-packages/tensorflow_core/python/keras/engine/training_v2.py\", line 128, in run_one_epoch\n",
      "    batch_outs = execution_function(iterator)\n",
      "  File \"/home/kalfasyan/anaconda3/envs/wbtf/lib/python3.7/site-packages/tensorflow_core/python/keras/engine/training_v2_utils.py\", line 98, in execution_function\n",
      "    distributed_function(input_fn))\n",
      "  File \"/home/kalfasyan/anaconda3/envs/wbtf/lib/python3.7/site-packages/tensorflow_core/python/eager/def_function.py\", line 568, in __call__\n",
      "    result = self._call(*args, **kwds)\n",
      "  File \"/home/kalfasyan/anaconda3/envs/wbtf/lib/python3.7/site-packages/tensorflow_core/python/eager/def_function.py\", line 599, in _call\n",
      "    return self._stateless_fn(*args, **kwds)  # pylint: disable=not-callable\n",
      "  File \"/home/kalfasyan/anaconda3/envs/wbtf/lib/python3.7/site-packages/tensorflow_core/python/eager/function.py\", line 2363, in __call__\n",
      "    return graph_function._filtered_call(args, kwargs)  # pylint: disable=protected-access\n",
      "  File \"/home/kalfasyan/anaconda3/envs/wbtf/lib/python3.7/site-packages/tensorflow_core/python/eager/function.py\", line 1611, in _filtered_call\n",
      "    self.captured_inputs)\n",
      "  File \"/home/kalfasyan/anaconda3/envs/wbtf/lib/python3.7/site-packages/tensorflow_core/python/eager/function.py\", line 1692, in _call_flat\n",
      "    ctx, args, cancellation_manager=cancellation_manager))\n",
      "  File \"/home/kalfasyan/anaconda3/envs/wbtf/lib/python3.7/site-packages/tensorflow_core/python/eager/function.py\", line 545, in call\n",
      "    ctx=ctx)\n",
      "  File \"/home/kalfasyan/anaconda3/envs/wbtf/lib/python3.7/site-packages/tensorflow_core/python/eager/execute.py\", line 61, in quick_execute\n",
      "    num_outputs)\n",
      "KeyboardInterrupt\n",
      "\n",
      "During handling of the above exception, another exception occurred:\n",
      "\n",
      "Traceback (most recent call last):\n",
      "  File \"/home/kalfasyan/anaconda3/envs/wbtf/lib/python3.7/site-packages/IPython/core/interactiveshell.py\", line 2044, in showtraceback\n",
      "    stb = value._render_traceback_()\n",
      "AttributeError: 'KeyboardInterrupt' object has no attribute '_render_traceback_'\n",
      "\n",
      "During handling of the above exception, another exception occurred:\n",
      "\n",
      "Traceback (most recent call last):\n",
      "  File \"/home/kalfasyan/anaconda3/envs/wbtf/lib/python3.7/site-packages/IPython/core/ultratb.py\", line 1148, in get_records\n",
      "    return _fixed_getinnerframes(etb, number_of_lines_of_context, tb_offset)\n",
      "  File \"/home/kalfasyan/anaconda3/envs/wbtf/lib/python3.7/site-packages/IPython/core/ultratb.py\", line 316, in wrapped\n",
      "    return f(*args, **kwargs)\n",
      "  File \"/home/kalfasyan/anaconda3/envs/wbtf/lib/python3.7/site-packages/IPython/core/ultratb.py\", line 350, in _fixed_getinnerframes\n",
      "    records = fix_frame_records_filenames(inspect.getinnerframes(etb, context))\n",
      "  File \"/home/kalfasyan/anaconda3/envs/wbtf/lib/python3.7/inspect.py\", line 1502, in getinnerframes\n",
      "    frameinfo = (tb.tb_frame,) + getframeinfo(tb, context)\n",
      "  File \"/home/kalfasyan/anaconda3/envs/wbtf/lib/python3.7/inspect.py\", line 1460, in getframeinfo\n",
      "    filename = getsourcefile(frame) or getfile(frame)\n",
      "  File \"/home/kalfasyan/anaconda3/envs/wbtf/lib/python3.7/inspect.py\", line 696, in getsourcefile\n",
      "    if getattr(getmodule(object, filename), '__loader__', None) is not None:\n",
      "  File \"/home/kalfasyan/anaconda3/envs/wbtf/lib/python3.7/inspect.py\", line 733, in getmodule\n",
      "    if ismodule(module) and hasattr(module, '__file__'):\n",
      "  File \"/home/kalfasyan/anaconda3/envs/wbtf/lib/python3.7/site-packages/tensorflow/__init__.py\", line 50, in __getattr__\n",
      "    module = self._load()\n",
      "  File \"/home/kalfasyan/anaconda3/envs/wbtf/lib/python3.7/site-packages/tensorflow/__init__.py\", line 44, in _load\n",
      "    module = _importlib.import_module(self.__name__)\n",
      "  File \"/home/kalfasyan/anaconda3/envs/wbtf/lib/python3.7/importlib/__init__.py\", line 127, in import_module\n",
      "    return _bootstrap._gcd_import(name[level:], package, level)\n",
      "  File \"<frozen importlib._bootstrap>\", line 1006, in _gcd_import\n",
      "  File \"<frozen importlib._bootstrap>\", line 983, in _find_and_load\n",
      "  File \"<frozen importlib._bootstrap>\", line 967, in _find_and_load_unlocked\n",
      "  File \"<frozen importlib._bootstrap>\", line 677, in _load_unlocked\n",
      "  File \"<frozen importlib._bootstrap_external>\", line 728, in exec_module\n",
      "  File \"<frozen importlib._bootstrap>\", line 219, in _call_with_frames_removed\n",
      "  File \"/home/kalfasyan/anaconda3/envs/wbtf/lib/python3.7/site-packages/tensorflow_core/_api/v2/compat/__init__.py\", line 40, in <module>\n",
      "    from . import v2\n",
      "  File \"/home/kalfasyan/anaconda3/envs/wbtf/lib/python3.7/site-packages/tensorflow_core/_api/v2/compat/v2/__init__.py\", line 34, in <module>\n",
      "    from . import config\n",
      "  File \"<frozen importlib._bootstrap>\", line 983, in _find_and_load\n",
      "  File \"<frozen importlib._bootstrap>\", line 963, in _find_and_load_unlocked\n",
      "  File \"<frozen importlib._bootstrap>\", line 906, in _find_spec\n",
      "  File \"<frozen importlib._bootstrap_external>\", line 1280, in find_spec\n",
      "  File \"<frozen importlib._bootstrap_external>\", line 1252, in _get_spec\n",
      "  File \"<frozen importlib._bootstrap_external>\", line 1364, in find_spec\n",
      "  File \"<frozen importlib._bootstrap_external>\", line 81, in _path_stat\n",
      "KeyboardInterrupt\n"
     ]
    },
    {
     "ename": "KeyboardInterrupt",
     "evalue": "",
     "output_type": "error",
     "traceback": [
      "\u001b[0;31m---------------------------------------------------------------------------\u001b[0m"
     ]
    }
   ],
   "source": [
    "h = model.fit_generator(train_generator(X_train, y_train, \n",
    "                                    batch_size=traincf.batch_size,\n",
    "                                    target_names=traincf.target_names,\n",
    "                                    setting=traincf.setting,\n",
    "                                    preprocessing_train_stats='',\n",
    "                                    using_conv2d=using_conv2d),\n",
    "                    steps_per_epoch = int(math.ceil(float(len(X_train)) / float(traincf.batch_size))),\n",
    "                    epochs = traincf.epochs,\n",
    "                    validation_data = valid_generator(X_val, y_val,\n",
    "                                                        batch_size=traincf.batch_size,\n",
    "                                                        target_names=traincf.target_names,\n",
    "                                                        setting=traincf.setting,\n",
    "                                                        preprocessing_train_stats='',\n",
    "                                                        using_conv2d=using_conv2d),\n",
    "                    validation_steps=int(math.ceil(float(len(X_test))/float(traincf.batch_size))),\n",
    "                    callbacks=traincf.callbacks_list)"
   ]
  },
  {
   "cell_type": "code",
   "execution_count": null,
   "metadata": {},
   "outputs": [],
   "source": [
    "# model.load_weights('../temp_data/custom_raw_conv1d_0.h5')"
   ]
  },
  {
   "cell_type": "code",
   "execution_count": 8,
   "metadata": {},
   "outputs": [
    {
     "name": "stdout",
     "output_type": "stream",
     "text": [
      "WARNING:tensorflow:From <ipython-input-8-1fc1e52a5069>:6: Model.predict_generator (from tensorflow.python.keras.engine.training) is deprecated and will be removed in a future version.\n",
      "Instructions for updating:\n",
      "Please use Model.predict, which supports generators.\n"
     ]
    }
   ],
   "source": [
    "features = model.predict_generator(valid_generator(X_test, y_test, \n",
    "                                                  batch_size=traincf.batch_size, \n",
    "                                                  setting=traincf.setting, \n",
    "                                                  target_names=traincf.target_names,\n",
    "                                                  preprocessing_train_stats=''),\n",
    "                                  steps = int(math.ceil(float(len(X_test)) / float(traincf.batch_size))))"
   ]
  },
  {
   "cell_type": "code",
   "execution_count": 9,
   "metadata": {},
   "outputs": [
    {
     "data": {
      "text/plain": [
       "(47295, 3)"
      ]
     },
     "execution_count": 9,
     "metadata": {},
     "output_type": "execute_result"
    }
   ],
   "source": [
    "features.shape"
   ]
  },
  {
   "cell_type": "markdown",
   "metadata": {},
   "source": [
    "### Confusion matrix (test set)"
   ]
  },
  {
   "cell_type": "code",
   "execution_count": 10,
   "metadata": {},
   "outputs": [
    {
     "data": {
      "text/plain": [
       "<matplotlib.axes._subplots.AxesSubplot at 0x7f6353789e90>"
      ]
     },
     "execution_count": 10,
     "metadata": {},
     "output_type": "execute_result"
    },
    {
     "data": {
      "image/png": "[encoded data removed]",
      "text/plain": [
       "<Figure size 1008x576 with 2 Axes>"
      ]
     },
     "metadata": {
      "needs_background": "light"
     },
     "output_type": "display_data"
    }
   ],
   "source": [
    "from sklearn.metrics import confusion_matrix\n",
    "import seaborn as sb\n",
    "plt.figure(figsize=(14,8))\n",
    "cm = confusion_matrix(np.argmax(features, axis=1), y_test)\n",
    "cm = cm.astype(np.float) / cm.astype(np.float).sum(axis=1)\n",
    "sb.heatmap(cm, annot=True)#, fmt='g')"
   ]
  },
  {
   "cell_type": "code",
   "execution_count": 11,
   "metadata": {},
   "outputs": [
    {
     "data": {
      "text/plain": [
       "2    35109\n",
       "1     6831\n",
       "0     5355\n",
       "dtype: int64"
      ]
     },
     "execution_count": 11,
     "metadata": {},
     "output_type": "execute_result"
    }
   ],
   "source": [
    "pd.Series(y_test).value_counts()"
   ]
  },
  {
   "cell_type": "code",
   "execution_count": 12,
   "metadata": {},
   "outputs": [
    {
     "data": {
      "text/plain": [
       "2    34040\n",
       "1     7026\n",
       "0     6229\n",
       "dtype: int64"
      ]
     },
     "execution_count": 12,
     "metadata": {},
     "output_type": "execute_result"
    }
   ],
   "source": [
    "pd.Series(np.argmax(features, axis=1)).value_counts()"
   ]
  },
  {
   "cell_type": "code",
   "execution_count": null,
   "metadata": {},
   "outputs": [],
   "source": []
  }
 ],
 "metadata": {
  "kernelspec": {
   "display_name": "Python 3",
   "language": "python",
   "name": "python3"
  },
  "language_info": {
   "codemirror_mode": {
    "name": "ipython",
    "version": 3
   },
   "file_extension": ".py",
   "mimetype": "text/x-python",
   "name": "python",
   "nbconvert_exporter": "python",
   "pygments_lexer": "ipython3",
   "version": "3.7.7"
  }
 },
 "nbformat": 4,
 "nbformat_minor": 4
}
