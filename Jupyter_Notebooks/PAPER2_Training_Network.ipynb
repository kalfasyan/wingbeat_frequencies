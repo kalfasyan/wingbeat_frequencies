{
 "cells": [
  {
   "cell_type": "code",
   "execution_count": 1,
   "metadata": {},
   "outputs": [
    {
     "name": "stderr",
     "output_type": "stream",
     "text": [
      "/home/yannis/anaconda3/envs/wings/lib/python3.7/site-packages/librosa/util/decorators.py:9: NumbaDeprecationWarning: An import was requested from a module that has moved location.\n",
      "Import requested from: 'numba.decorators', please update to use 'numba.core.decorators' or pin to Numba version 0.48.0. This alias will not be present in Numba version 0.50.0.\n",
      "  from numba.decorators import jit as optional_jit\n",
      "/home/yannis/anaconda3/envs/wings/lib/python3.7/site-packages/librosa/util/decorators.py:9: NumbaDeprecationWarning: An import was requested from a module that has moved location.\n",
      "Import of 'jit' requested from: 'numba.decorators', please update to use 'numba.core.decorators' or pin to Numba version 0.48.0. This alias will not be present in Numba version 0.50.0.\n",
      "  from numba.decorators import jit as optional_jit\n"
     ]
    },
    {
     "name": "stdout",
     "output_type": "stream",
     "text": [
      "Species: all.\n",
      "Read 279566 filenames in 1.28 seconds.\n",
      "Species: Ae. aegypti.\n",
      "Read 85553 filenames in 2.69 seconds.\n",
      "['20170208', '20170210', '20161212', '20161213', '20170206', '20170207', '20170209', '20170211', '20170212', '20170213']\n",
      "82989 train filenames, 2564 test filenames\n",
      "Species: Ae. albopictus.\n",
      "Read 20231 filenames in 2.81 seconds.\n",
      "['20170102', '20170103', '20170227', '20170228', '20170301']\n",
      "17440 train filenames, 2791 test filenames\n",
      "Species: An. arabiensis.\n",
      "Read 19297 filenames in 3.15 seconds.\n",
      "['20170130', '20170131', '20170201', '20170202', '20170203', '20170204', '20170205', '20170314', '20170315', '20170317', '20170206', '20170313', '20170316', '20170318', '20170319', '20170320']\n",
      "12897 train filenames, 2831 test filenames\n",
      "Species: An. gambiae.\n",
      "Read 49471 filenames in 2.71 seconds.\n",
      "['20170116', '20170117', '20170118', '20170119', '20170120', '20170121', '20170122', '20170123', '20170109', '20170110']\n",
      "45471 train filenames, 4000 test filenames\n",
      "Species: C. quinquefasciatus.\n",
      "Read 74599 filenames in 2.70 seconds.\n",
      "['20161219', '20161220', '20161221']\n",
      "41552 train filenames, 33047 test filenames\n",
      "Species: C. pipiens.\n",
      "Read 30415 filenames in 2.71 seconds.\n",
      "['20170213', '20170214', '20170215', '20170216', '20170217', '20170218', '20170219', '20170220', '20161205', '20161206']\n",
      "28353 train filenames, 2062 test filenames\n"
     ]
    },
    {
     "data": {
      "text/plain": [
       "{'Ae. aegypti': 0,\n",
       " 'Ae. albopictus': 1,\n",
       " 'An. arabiensis': 2,\n",
       " 'An. gambiae': 3,\n",
       " 'C. pipiens': 4,\n",
       " 'C. quinquefasciatus': 5}"
      ]
     },
     "execution_count": 1,
     "metadata": {},
     "output_type": "execute_result"
    }
   ],
   "source": [
    "%reset -f\n",
    "import sys\n",
    "sys.path.insert(0, \"..\")\n",
    "from wavhandler import Dataset\n",
    "import numpy as np\n",
    "import math\n",
    "from sklearn.preprocessing import LabelEncoder\n",
    "from sklearn.utils import shuffle\n",
    "from sklearn.model_selection import train_test_split\n",
    "from sklearn.metrics import confusion_matrix, balanced_accuracy_score, classification_report, make_scorer, log_loss\n",
    "from utils_train import *\n",
    "import deepdish as dd\n",
    "from configs import DatasetConfiguration\n",
    "import os\n",
    "import pandas as pd\n",
    "from sklearn.metrics import confusion_matrix\n",
    "import seaborn as sb\n",
    "import matplotlib.pyplot as plt\n",
    "\n",
    "seed = 42\n",
    "np.random.seed(seed=seed)\n",
    "\n",
    "splitting = 'custom'\n",
    "data_setting = 'raw'\n",
    "model_setting = 'conv1d'\n",
    "\n",
    "d = Dataset('Wingbeats')\n",
    "d.read(loadmat=False)\n",
    "\n",
    "X_train, X_val, X_test, y_train, y_val, y_test, le = mosquito_data_split(splitting=splitting, dataset=d, downsampling=False, return_label_encoder=True)\n",
    "\n",
    "X_train, X_val, y_train, y_val = X_train[0], X_val[0], y_train[0], y_val[0]\n",
    "from sklearn.utils import shuffle\n",
    "X_train, y_train = shuffle(X_train, y_train, random_state=seed)\n",
    "X_val, y_val = shuffle(X_val, y_val, random_state=seed)\n",
    "\n",
    "get_labelencoder_mapping(le)"
   ]
  },
  {
   "cell_type": "markdown",
   "metadata": {},
   "source": [
    "## Choosing model (6 classes or 3-merged)"
   ]
  },
  {
   "cell_type": "code",
   "execution_count": 2,
   "metadata": {},
   "outputs": [
    {
     "name": "stdout",
     "output_type": "stream",
     "text": [
      "############ INPUT SHAPE:(5000, 1)\n"
     ]
    }
   ],
   "source": [
    "merged = False\n",
    "\n",
    "if merged:\n",
    "    # Merging the mosquito genuses together\n",
    "    y_train = pd.Series(y_train).replace({1:0, 3:2, 5:4}).replace({2:1, 4:2}).tolist()\n",
    "    y_val = pd.Series(y_val).replace({1:0, 3:2, 5:4}).replace({2:1, 4:2}).tolist()\n",
    "    y_test = pd.Series(y_test).replace({1:0, 3:2, 5:4}).replace({2:1, 4:2}).tolist()\n",
    "\n",
    "    # Defining model parameters\n",
    "    modelname = f'TL_{splitting}_{data_setting}_{model_setting}_MERGED_weights'\n",
    "else:\n",
    "    modelname = f'TL_{splitting}_{data_setting}_{model_setting}_weights'\n",
    "    \n",
    "using_conv2d = False\n",
    "traincf = TrainConfiguration(dataset=d, setting=data_setting, model_name=modelname)\n",
    "model = ModelConfiguration(model_setting=model_setting, data_setting=data_setting, target_names=traincf.target_names).config\n",
    "\n",
    "model.compile(loss='categorical_crossentropy', optimizer='adam', metrics=['accuracy'])\n",
    "\n",
    "# train_stats = calculate_train_statistics(X_train=X_train, setting=data_setting)"
   ]
  },
  {
   "cell_type": "markdown",
   "metadata": {},
   "source": [
    "### Model training"
   ]
  },
  {
   "cell_type": "code",
   "execution_count": 3,
   "metadata": {},
   "outputs": [
    {
     "name": "stdout",
     "output_type": "stream",
     "text": [
      "WARNING:tensorflow:From <ipython-input-3-e822a8809f1b>:16: Model.fit_generator (from tensorflow.python.keras.engine.training) is deprecated and will be removed in a future version.\n",
      "Instructions for updating:\n",
      "Please use Model.fit, which supports generators.\n",
      "WARNING:tensorflow:sample_weight modes were coerced from\n",
      "  ...\n",
      "    to  \n",
      "  ['...']\n",
      "WARNING:tensorflow:sample_weight modes were coerced from\n",
      "  ...\n",
      "    to  \n",
      "  ['...']\n",
      "Train for 5718 steps, validate for 1478 steps\n",
      "Epoch 1/100\n",
      "5717/5718 [============================>.] - ETA: 0s - loss: 0.4100 - accuracy: 0.8570\n",
      "Epoch 00001: val_loss improved from inf to 0.68851, saving model to /media/yannis/HGST_4TB/Ubudirs/projects/wingbeat_frequencies/temp_data/TL_custom_raw_conv1d_weights.h5\n",
      "5718/5718 [==============================] - 315s 55ms/step - loss: 0.4100 - accuracy: 0.8570 - val_loss: 0.6885 - val_accuracy: 0.7563\n",
      "Epoch 2/100\n",
      "5716/5718 [============================>.] - ETA: 0s - loss: 0.2633 - accuracy: 0.9082\n",
      "Epoch 00002: val_loss did not improve from 0.68851\n",
      "5718/5718 [==============================] - 333s 58ms/step - loss: 0.2633 - accuracy: 0.9082 - val_loss: 6.9283 - val_accuracy: 0.3883\n",
      "Epoch 3/100\n",
      "5717/5718 [============================>.] - ETA: 0s - loss: 0.2244 - accuracy: 0.9222\n",
      "Epoch 00003: val_loss did not improve from 0.68851\n",
      "5718/5718 [==============================] - 350s 61ms/step - loss: 0.2243 - accuracy: 0.9222 - val_loss: 10.9330 - val_accuracy: 0.3846\n",
      "Epoch 4/100\n",
      "5717/5718 [============================>.] - ETA: 0s - loss: 0.2009 - accuracy: 0.9295\n",
      "Epoch 00004: val_loss did not improve from 0.68851\n",
      "\n",
      "Epoch 00004: ReduceLROnPlateau reducing learning rate to 0.00010000000474974513.\n",
      "5718/5718 [==============================] - 340s 60ms/step - loss: 0.2008 - accuracy: 0.9295 - val_loss: 9.3912 - val_accuracy: 0.4308\n",
      "Epoch 5/100\n",
      "5717/5718 [============================>.] - ETA: 0s - loss: 0.1472 - accuracy: 0.9482\n",
      "Epoch 00005: val_loss did not improve from 0.68851\n",
      "5718/5718 [==============================] - 335s 59ms/step - loss: 0.1472 - accuracy: 0.9482 - val_loss: 12.7908 - val_accuracy: 0.4490\n",
      "Epoch 6/100\n",
      "5717/5718 [============================>.] - ETA: 0s - loss: 0.1330 - accuracy: 0.9532\n",
      "Epoch 00006: val_loss did not improve from 0.68851\n",
      "5718/5718 [==============================] - 307s 54ms/step - loss: 0.1330 - accuracy: 0.9532 - val_loss: 8.7416 - val_accuracy: 0.5769\n",
      "Epoch 7/100\n",
      "5717/5718 [============================>.] - ETA: 0s - loss: 0.1244 - accuracy: 0.9560\n",
      "Epoch 00007: val_loss did not improve from 0.68851\n",
      "\n",
      "Epoch 00007: ReduceLROnPlateau reducing learning rate to 1.0000000474974514e-05.\n",
      "5718/5718 [==============================] - 300s 52ms/step - loss: 0.1244 - accuracy: 0.9560 - val_loss: 3.2713 - val_accuracy: 0.7029\n",
      "Epoch 8/100\n",
      "5716/5718 [============================>.] - ETA: 0s - loss: 0.1147 - accuracy: 0.9596\n",
      "Epoch 00008: val_loss improved from 0.68851 to 0.46529, saving model to /media/yannis/HGST_4TB/Ubudirs/projects/wingbeat_frequencies/temp_data/TL_custom_raw_conv1d_weights.h5\n",
      "5718/5718 [==============================] - 300s 52ms/step - loss: 0.1147 - accuracy: 0.9596 - val_loss: 0.4653 - val_accuracy: 0.8683\n",
      "Epoch 9/100\n",
      "5716/5718 [============================>.] - ETA: 0s - loss: 0.1133 - accuracy: 0.9598\n",
      "Epoch 00009: val_loss improved from 0.46529 to 0.32730, saving model to /media/yannis/HGST_4TB/Ubudirs/projects/wingbeat_frequencies/temp_data/TL_custom_raw_conv1d_weights.h5\n",
      "5718/5718 [==============================] - 300s 52ms/step - loss: 0.1133 - accuracy: 0.9598 - val_loss: 0.3273 - val_accuracy: 0.8951\n",
      "Epoch 10/100\n",
      "5717/5718 [============================>.] - ETA: 0s - loss: 0.1120 - accuracy: 0.9603\n",
      "Epoch 00010: val_loss did not improve from 0.32730\n",
      "5718/5718 [==============================] - 300s 52ms/step - loss: 0.1120 - accuracy: 0.9603 - val_loss: 0.6868 - val_accuracy: 0.8397\n",
      "Epoch 11/100\n",
      "5716/5718 [============================>.] - ETA: 0s - loss: 0.1106 - accuracy: 0.9610\n",
      "Epoch 00011: val_loss did not improve from 0.32730\n",
      "5718/5718 [==============================] - 300s 52ms/step - loss: 0.1106 - accuracy: 0.9610 - val_loss: 0.6790 - val_accuracy: 0.8404\n",
      "Epoch 12/100\n",
      "5716/5718 [============================>.] - ETA: 0s - loss: 0.1100 - accuracy: 0.9612\n",
      "Epoch 00012: val_loss improved from 0.32730 to 0.30688, saving model to /media/yannis/HGST_4TB/Ubudirs/projects/wingbeat_frequencies/temp_data/TL_custom_raw_conv1d_weights.h5\n",
      "5718/5718 [==============================] - 300s 52ms/step - loss: 0.1100 - accuracy: 0.9612 - val_loss: 0.3069 - val_accuracy: 0.8997\n",
      "Epoch 13/100\n",
      "5716/5718 [============================>.] - ETA: 0s - loss: 0.1088 - accuracy: 0.9618\n",
      "Epoch 00013: val_loss did not improve from 0.30688\n",
      "5718/5718 [==============================] - 300s 52ms/step - loss: 0.1088 - accuracy: 0.9618 - val_loss: 0.3134 - val_accuracy: 0.8986\n",
      "Epoch 14/100\n",
      "5716/5718 [============================>.] - ETA: 0s - loss: 0.1086 - accuracy: 0.9616\n",
      "Epoch 00014: val_loss did not improve from 0.30688\n",
      "5718/5718 [==============================] - 300s 52ms/step - loss: 0.1086 - accuracy: 0.9616 - val_loss: 0.3152 - val_accuracy: 0.8983\n",
      "Epoch 15/100\n",
      "5716/5718 [============================>.] - ETA: 0s - loss: 0.1075 - accuracy: 0.9619\n",
      "Epoch 00015: val_loss improved from 0.30688 to 0.30655, saving model to /media/yannis/HGST_4TB/Ubudirs/projects/wingbeat_frequencies/temp_data/TL_custom_raw_conv1d_weights.h5\n",
      "5718/5718 [==============================] - 300s 52ms/step - loss: 0.1075 - accuracy: 0.9619 - val_loss: 0.3065 - val_accuracy: 0.8999\n",
      "Epoch 16/100\n",
      "5716/5718 [============================>.] - ETA: 0s - loss: 0.1064 - accuracy: 0.9625\n",
      "Epoch 00016: val_loss did not improve from 0.30655\n",
      "5718/5718 [==============================] - 300s 52ms/step - loss: 0.1064 - accuracy: 0.9625 - val_loss: 0.3187 - val_accuracy: 0.8974\n",
      "Epoch 17/100\n",
      "5717/5718 [============================>.] - ETA: 0s - loss: 0.1061 - accuracy: 0.9624\n",
      "Epoch 00017: val_loss did not improve from 0.30655\n",
      "5718/5718 [==============================] - 310s 54ms/step - loss: 0.1061 - accuracy: 0.9624 - val_loss: 0.3375 - val_accuracy: 0.8928\n",
      "Epoch 18/100\n",
      "5717/5718 [============================>.] - ETA: 0s - loss: 0.1055 - accuracy: 0.9624\n",
      "Epoch 00018: val_loss did not improve from 0.30655\n",
      "\n",
      "Epoch 00018: ReduceLROnPlateau reducing learning rate to 1.0000000656873453e-06.\n",
      "5718/5718 [==============================] - 332s 58ms/step - loss: 0.1054 - accuracy: 0.9624 - val_loss: 0.3156 - val_accuracy: 0.8990\n",
      "Epoch 19/100\n",
      "5716/5718 [============================>.] - ETA: 0s - loss: 0.1039 - accuracy: 0.9631\n",
      "Epoch 00019: val_loss did not improve from 0.30655\n",
      "5718/5718 [==============================] - 300s 52ms/step - loss: 0.1039 - accuracy: 0.9631 - val_loss: 0.3120 - val_accuracy: 0.8995\n",
      "Epoch 20/100\n",
      "5717/5718 [============================>.] - ETA: 0s - loss: 0.1038 - accuracy: 0.9634\n",
      "Epoch 00020: val_loss did not improve from 0.30655\n",
      "5718/5718 [==============================] - 300s 52ms/step - loss: 0.1038 - accuracy: 0.9634 - val_loss: 0.3103 - val_accuracy: 0.8998\n",
      "Epoch 21/100\n",
      "5717/5718 [============================>.] - ETA: 0s - loss: 0.1039 - accuracy: 0.9632\n",
      "Epoch 00021: val_loss did not improve from 0.30655\n",
      "\n",
      "Epoch 00021: ReduceLROnPlateau reducing learning rate to 1.0000001111620805e-07.\n",
      "5718/5718 [==============================] - 300s 52ms/step - loss: 0.1039 - accuracy: 0.9632 - val_loss: 0.3127 - val_accuracy: 0.8996\n",
      "Epoch 22/100\n",
      "5717/5718 [============================>.] - ETA: 0s - loss: 0.1034 - accuracy: 0.9633\n",
      "Epoch 00022: val_loss did not improve from 0.30655\n",
      "5718/5718 [==============================] - 300s 52ms/step - loss: 0.1034 - accuracy: 0.9633 - val_loss: 0.3104 - val_accuracy: 0.9002\n",
      "Epoch 00022: early stopping\n"
     ]
    }
   ],
   "source": [
    "h = model.fit_generator(train_generator(X_train, y_train, \n",
    "                                    batch_size=traincf.batch_size,\n",
    "                                    target_names=traincf.target_names,\n",
    "                                    setting=traincf.setting,\n",
    "                                    preprocessing_train_stats='',\n",
    "                                    using_conv2d=using_conv2d),\n",
    "                    steps_per_epoch = int(math.ceil(float(len(X_train)) / float(traincf.batch_size))),\n",
    "                    epochs = traincf.epochs,\n",
    "                    validation_data = valid_generator(X_val, y_val,\n",
    "                                                        batch_size=traincf.batch_size,\n",
    "                                                        target_names=traincf.target_names,\n",
    "                                                        setting=traincf.setting,\n",
    "                                                        preprocessing_train_stats='',\n",
    "                                                        using_conv2d=using_conv2d),\n",
    "                    validation_steps=int(math.ceil(float(len(X_test))/float(traincf.batch_size))),\n",
    "                    callbacks=traincf.callbacks_list)"
   ]
  },
  {
   "cell_type": "code",
   "execution_count": 8,
   "metadata": {},
   "outputs": [],
   "source": [
    "# model.load_weights('../temp_data/custom_raw_conv1d_0.h5')"
   ]
  },
  {
   "cell_type": "code",
   "execution_count": 9,
   "metadata": {},
   "outputs": [],
   "source": [
    "features = model.predict_generator(valid_generator(X_test, y_test, \n",
    "                                                  batch_size=traincf.batch_size, \n",
    "                                                  setting=traincf.setting, \n",
    "                                                  target_names=traincf.target_names,\n",
    "                                                  preprocessing_train_stats=''),\n",
    "                                  steps = int(math.ceil(float(len(X_test)) / float(traincf.batch_size))))"
   ]
  },
  {
   "cell_type": "code",
   "execution_count": 10,
   "metadata": {},
   "outputs": [
    {
     "data": {
      "text/plain": [
       "(47295, 6)"
      ]
     },
     "execution_count": 10,
     "metadata": {},
     "output_type": "execute_result"
    }
   ],
   "source": [
    "features.shape"
   ]
  },
  {
   "cell_type": "markdown",
   "metadata": {},
   "source": [
    "### Confusion matrix (test set)"
   ]
  },
  {
   "cell_type": "code",
   "execution_count": 12,
   "metadata": {},
   "outputs": [
    {
     "data": {
      "text/plain": [
       "<matplotlib.axes._subplots.AxesSubplot at 0x7f913122a890>"
      ]
     },
     "execution_count": 12,
     "metadata": {},
     "output_type": "execute_result"
    },
    {
     "data": {
      "image/png": "[encoded data removed]",
      "text/plain": [
       "<Figure size 1008x576 with 2 Axes>"
      ]
     },
     "metadata": {
      "needs_background": "light"
     },
     "output_type": "display_data"
    }
   ],
   "source": [
    "from sklearn.metrics import confusion_matrix\n",
    "import seaborn as sb\n",
    "plt.figure(figsize=(14,8))\n",
    "cm = confusion_matrix(np.argmax(features, axis=1), y_test)\n",
    "cm = cm.astype(np.float) / cm.astype(np.float).sum(axis=1)\n",
    "sb.heatmap(cm, annot=True)#, fmt='g')"
   ]
  },
  {
   "cell_type": "code",
   "execution_count": null,
   "metadata": {},
   "outputs": [],
   "source": []
  }
 ],
 "metadata": {
  "kernelspec": {
   "display_name": "Python 3",
   "language": "python",
   "name": "python3"
  },
  "language_info": {
   "codemirror_mode": {
    "name": "ipython",
    "version": 3
   },
   "file_extension": ".py",
   "mimetype": "text/x-python",
   "name": "python",
   "nbconvert_exporter": "python",
   "pygments_lexer": "ipython3",
   "version": "3.7.6"
  }
 },
 "nbformat": 4,
 "nbformat_minor": 4
}
