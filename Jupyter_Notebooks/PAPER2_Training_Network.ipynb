{
 "cells": [
  {
   "cell_type": "code",
   "execution_count": 1,
   "metadata": {},
   "outputs": [
    {
     "name": "stdout",
     "output_type": "stream",
     "text": [
      "Species: all.\n",
      "Read 279566 filenames in 0.63 seconds.\n",
      "Species: Ae. aegypti.\n",
      "Read 85553 filenames in 1.38 seconds.\n",
      "Species: Ae. albopictus.\n",
      "Read 20231 filenames in 1.37 seconds.\n",
      "Species: An. arabiensis.\n",
      "Read 19297 filenames in 1.37 seconds.\n",
      "Species: An. gambiae.\n",
      "Read 49471 filenames in 1.37 seconds.\n",
      "Species: C. pipiens.\n",
      "Read 30415 filenames in 1.46 seconds.\n",
      "Species: C. quinquefasciatus.\n",
      "Read 74599 filenames in 1.47 seconds.\n"
     ]
    },
    {
     "data": {
      "text/plain": [
       "{'Ae. aegypti': 0,\n",
       " 'Ae. albopictus': 1,\n",
       " 'An. arabiensis': 2,\n",
       " 'An. gambiae': 3,\n",
       " 'C. pipiens': 4,\n",
       " 'C. quinquefasciatus': 5}"
      ]
     },
     "execution_count": 1,
     "metadata": {},
     "output_type": "execute_result"
    }
   ],
   "source": [
    "%reset -f\n",
    "import sys\n",
    "sys.path.insert(0, \"..\")\n",
    "from wavhandler import Dataset\n",
    "import numpy as np\n",
    "import math\n",
    "from sklearn.preprocessing import LabelEncoder\n",
    "from sklearn.utils import shuffle\n",
    "from sklearn.model_selection import train_test_split\n",
    "from sklearn.metrics import confusion_matrix, balanced_accuracy_score, classification_report, make_scorer, log_loss\n",
    "from utils_train import *\n",
    "import deepdish as dd\n",
    "from configs import DatasetConfiguration\n",
    "import os\n",
    "import pandas as pd\n",
    "from sklearn.metrics import confusion_matrix\n",
    "import seaborn as sb\n",
    "import matplotlib.pyplot as plt\n",
    "\n",
    "seed = 42\n",
    "np.random.seed(seed=seed)\n",
    "\n",
    "splitting = 'random'\n",
    "data_setting = 'rawflt'\n",
    "model_setting = 'conv1d'\n",
    "\n",
    "d = Dataset('Wingbeats')\n",
    "d.read(loadmat=False)\n",
    "\n",
    "X_train, X_val, X_test, y_train, y_val, y_test, le = mosquito_data_split(splitting=splitting, dataset=d, downsampling=False, return_label_encoder=True)\n",
    "\n",
    "# X_train, X_val, y_train, y_val = X_train[0], X_val[0], y_train[0], y_val[0]\n",
    "from sklearn.utils import shuffle\n",
    "X_train, y_train = shuffle(X_train, y_train, random_state=seed)\n",
    "X_val, y_val = shuffle(X_val, y_val, random_state=seed)\n",
    "\n",
    "get_labelencoder_mapping(le)"
   ]
  },
  {
   "cell_type": "markdown",
   "metadata": {},
   "source": [
    "## Choosing model (6 classes or 3-merged)"
   ]
  },
  {
   "cell_type": "code",
   "execution_count": 2,
   "metadata": {},
   "outputs": [
    {
     "name": "stdout",
     "output_type": "stream",
     "text": [
      "############ INPUT SHAPE:(5000, 1)\n"
     ]
    }
   ],
   "source": [
    "merged = False\n",
    "\n",
    "using_conv2d = False\n",
    "if merged:\n",
    "    # Merging the mosquito genuses together\n",
    "    y_train = pd.Series(y_train).replace({1:0, 3:2, 5:4}).replace({2:1, 4:2}).tolist()\n",
    "    y_val = pd.Series(y_val).replace({1:0, 3:2, 5:4}).replace({2:1, 4:2}).tolist()\n",
    "    y_test = pd.Series(y_test).replace({1:0, 3:2, 5:4}).replace({2:1, 4:2}).tolist()\n",
    "\n",
    "    # Defining model parameters\n",
    "    modelname = f'TL_{splitting}_{data_setting}_{model_setting}_MERGED_weights'\n",
    "    traincf = TrainConfiguration(nb_classes=3, setting=data_setting, model_name=modelname)\n",
    "    d.target_classes = ['Aedes','Anopheles','Culex']\n",
    "    traincf.target_names = np.unique(d.target_classes)\n",
    "    traincf.targets = len(traincf.target_names)    \n",
    "    model = ModelConfiguration(nb_classes=3, model_setting=model_setting, data_setting=data_setting).config\n",
    "else:\n",
    "    modelname = f'TL_{splitting}_{data_setting}_{model_setting}_weights'\n",
    "    traincf = TrainConfiguration(nb_classes=6, setting=data_setting, model_name=modelname)\n",
    "    model = ModelConfiguration(nb_classes=6, model_setting=model_setting, data_setting=data_setting).config\n",
    "\n",
    "model.compile(loss='categorical_crossentropy', optimizer='adam', metrics=['accuracy'])\n",
    "\n",
    "# train_stats = calculate_train_statistics(X_train=X_train, setting=data_setting)"
   ]
  },
  {
   "cell_type": "code",
   "execution_count": 3,
   "metadata": {},
   "outputs": [
    {
     "data": {
      "text/plain": [
       "['Ae. aegypti',\n",
       " 'Ae. albopictus',\n",
       " 'An. arabiensis',\n",
       " 'An. gambiae',\n",
       " 'C. pipiens',\n",
       " 'C. quinquefasciatus']"
      ]
     },
     "execution_count": 3,
     "metadata": {},
     "output_type": "execute_result"
    }
   ],
   "source": [
    "d.target_classes"
   ]
  },
  {
   "cell_type": "code",
   "execution_count": 4,
   "metadata": {
    "scrolled": true
   },
   "outputs": [
    {
     "name": "stdout",
     "output_type": "stream",
     "text": [
      "Model: \"sequential\"\n",
      "_________________________________________________________________\n",
      "Layer (type)                 Output Shape              Param #   \n",
      "=================================================================\n",
      "conv1d (Conv1D)              (None, 4998, 16)          64        \n",
      "_________________________________________________________________\n",
      "conv1d_1 (Conv1D)            (None, 4996, 16)          784       \n",
      "_________________________________________________________________\n",
      "batch_normalization (BatchNo (None, 4996, 16)          64        \n",
      "_________________________________________________________________\n",
      "conv1d_2 (Conv1D)            (None, 4994, 32)          1568      \n",
      "_________________________________________________________________\n",
      "conv1d_3 (Conv1D)            (None, 4992, 32)          3104      \n",
      "_________________________________________________________________\n",
      "batch_normalization_1 (Batch (None, 4992, 32)          128       \n",
      "_________________________________________________________________\n",
      "max_pooling1d (MaxPooling1D) (None, 2496, 32)          0         \n",
      "_________________________________________________________________\n",
      "conv1d_4 (Conv1D)            (None, 2494, 64)          6208      \n",
      "_________________________________________________________________\n",
      "conv1d_5 (Conv1D)            (None, 2492, 64)          12352     \n",
      "_________________________________________________________________\n",
      "batch_normalization_2 (Batch (None, 2492, 64)          256       \n",
      "_________________________________________________________________\n",
      "max_pooling1d_1 (MaxPooling1 (None, 1246, 64)          0         \n",
      "_________________________________________________________________\n",
      "conv1d_6 (Conv1D)            (None, 1244, 128)         24704     \n",
      "_________________________________________________________________\n",
      "conv1d_7 (Conv1D)            (None, 1242, 128)         49280     \n",
      "_________________________________________________________________\n",
      "batch_normalization_3 (Batch (None, 1242, 128)         512       \n",
      "_________________________________________________________________\n",
      "max_pooling1d_2 (MaxPooling1 (None, 621, 128)          0         \n",
      "_________________________________________________________________\n",
      "conv1d_8 (Conv1D)            (None, 619, 256)          98560     \n",
      "_________________________________________________________________\n",
      "conv1d_9 (Conv1D)            (None, 617, 256)          196864    \n",
      "_________________________________________________________________\n",
      "batch_normalization_4 (Batch (None, 617, 256)          1024      \n",
      "_________________________________________________________________\n",
      "global_average_pooling1d (Gl (None, 256)               0         \n",
      "_________________________________________________________________\n",
      "dropout (Dropout)            (None, 256)               0         \n",
      "_________________________________________________________________\n",
      "dense (Dense)                (None, 6)                 1542      \n",
      "=================================================================\n",
      "Total params: 397,014\n",
      "Trainable params: 396,022\n",
      "Non-trainable params: 992\n",
      "_________________________________________________________________\n"
     ]
    }
   ],
   "source": [
    "model.summary()"
   ]
  },
  {
   "cell_type": "code",
   "execution_count": 5,
   "metadata": {},
   "outputs": [],
   "source": [
    "# sig = next(valid_generator(X_val, y_val,\n",
    "#                 batch_size=traincf.batch_size,\n",
    "#                 target_names=traincf.target_names,\n",
    "#                 setting=traincf.setting,\n",
    "#                 preprocessing_train_stats='',\n",
    "#                 using_conv2d=using_conv2d))[0][0,:,:]\n",
    "# plt.plot(sig)"
   ]
  },
  {
   "cell_type": "code",
   "execution_count": 6,
   "metadata": {},
   "outputs": [
    {
     "data": {
      "text/plain": [
       "0    14798\n",
       "5    12904\n",
       "3     8557\n",
       "4     5261\n",
       "1     3499\n",
       "2     3338\n",
       "dtype: int64"
      ]
     },
     "execution_count": 6,
     "metadata": {},
     "output_type": "execute_result"
    }
   ],
   "source": [
    "pd.Series(y_val).value_counts()"
   ]
  },
  {
   "cell_type": "markdown",
   "metadata": {},
   "source": [
    "### Model training"
   ]
  },
  {
   "cell_type": "code",
   "execution_count": 7,
   "metadata": {},
   "outputs": [
    {
     "name": "stdout",
     "output_type": "stream",
     "text": [
      "WARNING:tensorflow:From <ipython-input-7-6739bb08fcb5>:16: Model.fit_generator (from tensorflow.python.keras.engine.training) is deprecated and will be removed in a future version.\n",
      "Instructions for updating:\n",
      "Please use Model.fit, which supports generators.\n",
      "Epoch 1/100\n",
      "6045/6045 [==============================] - ETA: 0s - loss: 0.6138 - accuracy: 0.7768\n",
      "Epoch 00001: val_loss improved from inf to 5.48953, saving model to /home/kalfasyan/projects/wingbeat_frequencies/temp_data/TL_random_rawflt_conv1d_weights.h5\n",
      "6045/6045 [==============================] - 3339s 552ms/step - loss: 0.6138 - accuracy: 0.7768 - val_loss: 5.4895 - val_accuracy: 0.0776 - lr: 0.0010\n",
      "Epoch 2/100\n",
      "6044/6045 [============================>.] - ETA: 0s - loss: 0.4243 - accuracy: 0.8471\n",
      "Epoch 00002: val_loss did not improve from 5.48953\n",
      "6045/6045 [==============================] - 386s 64ms/step - loss: 0.4243 - accuracy: 0.8471 - val_loss: 9.0918 - val_accuracy: 0.5143 - lr: 0.0010\n",
      "Epoch 3/100\n",
      "6045/6045 [==============================] - ETA: 0s - loss: 0.3602 - accuracy: 0.8701\n",
      "Epoch 00003: val_loss did not improve from 5.48953\n",
      "6045/6045 [==============================] - 250s 41ms/step - loss: 0.3602 - accuracy: 0.8701 - val_loss: 10.9601 - val_accuracy: 0.2925 - lr: 0.0010\n",
      "Epoch 4/100\n",
      "6044/6045 [============================>.] - ETA: 0s - loss: 0.3227 - accuracy: 0.8832\n",
      "Epoch 00004: val_loss did not improve from 5.48953\n",
      "\n",
      "Epoch 00004: ReduceLROnPlateau reducing learning rate to 0.00010000000474974513.\n",
      "6045/6045 [==============================] - 250s 41ms/step - loss: 0.3227 - accuracy: 0.8831 - val_loss: 11.2924 - val_accuracy: 0.2764 - lr: 0.0010\n",
      "Epoch 5/100\n",
      "6045/6045 [==============================] - ETA: 0s - loss: 0.2519 - accuracy: 0.9089\n",
      "Epoch 00005: val_loss improved from 5.48953 to 5.26952, saving model to /home/kalfasyan/projects/wingbeat_frequencies/temp_data/TL_random_rawflt_conv1d_weights.h5\n",
      "6045/6045 [==============================] - 251s 41ms/step - loss: 0.2519 - accuracy: 0.9089 - val_loss: 5.2695 - val_accuracy: 0.4514 - lr: 1.0000e-04\n",
      "Epoch 6/100\n",
      "6045/6045 [==============================] - ETA: 0s - loss: 0.2343 - accuracy: 0.9143\n",
      "Epoch 00006: val_loss did not improve from 5.26952\n",
      "6045/6045 [==============================] - 250s 41ms/step - loss: 0.2343 - accuracy: 0.9143 - val_loss: 8.9825 - val_accuracy: 0.3682 - lr: 1.0000e-04\n",
      "Epoch 7/100\n",
      "6045/6045 [==============================] - ETA: 0s - loss: 0.2239 - accuracy: 0.9179\n",
      "Epoch 00007: val_loss did not improve from 5.26952\n",
      "6045/6045 [==============================] - 250s 41ms/step - loss: 0.2239 - accuracy: 0.9179 - val_loss: 10.8170 - val_accuracy: 0.3149 - lr: 1.0000e-04\n",
      "Epoch 8/100\n",
      "6045/6045 [==============================] - ETA: 0s - loss: 0.2152 - accuracy: 0.9214\n",
      "Epoch 00008: val_loss did not improve from 5.26952\n",
      "\n",
      "Epoch 00008: ReduceLROnPlateau reducing learning rate to 1.0000000474974514e-05.\n",
      "6045/6045 [==============================] - 250s 41ms/step - loss: 0.2152 - accuracy: 0.9214 - val_loss: 254.9037 - val_accuracy: 0.1522 - lr: 1.0000e-04\n",
      "Epoch 9/100\n",
      "6045/6045 [==============================] - ETA: 0s - loss: 0.2029 - accuracy: 0.9264\n",
      "Epoch 00009: val_loss improved from 5.26952 to 0.33585, saving model to /home/kalfasyan/projects/wingbeat_frequencies/temp_data/TL_random_rawflt_conv1d_weights.h5\n",
      "6045/6045 [==============================] - 252s 42ms/step - loss: 0.2029 - accuracy: 0.9264 - val_loss: 0.3359 - val_accuracy: 0.8979 - lr: 1.0000e-05\n",
      "Epoch 10/100\n",
      "6045/6045 [==============================] - ETA: 0s - loss: 0.2008 - accuracy: 0.9266\n",
      "Epoch 00010: val_loss did not improve from 0.33585\n",
      "6045/6045 [==============================] - 250s 41ms/step - loss: 0.2008 - accuracy: 0.9266 - val_loss: 8.9123 - val_accuracy: 0.7255 - lr: 1.0000e-05\n",
      "Epoch 11/100\n",
      "6044/6045 [============================>.] - ETA: 0s - loss: 0.1988 - accuracy: 0.9273\n",
      "Epoch 00011: val_loss did not improve from 0.33585\n",
      "6045/6045 [==============================] - 251s 42ms/step - loss: 0.1988 - accuracy: 0.9273 - val_loss: 12.9442 - val_accuracy: 0.6466 - lr: 1.0000e-05\n",
      "Epoch 12/100\n",
      "6045/6045 [==============================] - ETA: 0s - loss: 0.1981 - accuracy: 0.9277\n",
      "Epoch 00012: val_loss did not improve from 0.33585\n",
      "\n",
      "Epoch 00012: ReduceLROnPlateau reducing learning rate to 1.0000000656873453e-06.\n",
      "6045/6045 [==============================] - 251s 42ms/step - loss: 0.1981 - accuracy: 0.9277 - val_loss: 0.4780 - val_accuracy: 0.8824 - lr: 1.0000e-05\n",
      "Epoch 13/100\n",
      "6044/6045 [============================>.] - ETA: 0s - loss: 0.1966 - accuracy: 0.9283\n",
      "Epoch 00013: val_loss improved from 0.33585 to 0.22828, saving model to /home/kalfasyan/projects/wingbeat_frequencies/temp_data/TL_random_rawflt_conv1d_weights.h5\n",
      "6045/6045 [==============================] - 250s 41ms/step - loss: 0.1966 - accuracy: 0.9283 - val_loss: 0.2283 - val_accuracy: 0.9195 - lr: 1.0000e-06\n",
      "Epoch 14/100\n",
      "6045/6045 [==============================] - ETA: 0s - loss: 0.1958 - accuracy: 0.9283\n",
      "Epoch 00014: val_loss did not improve from 0.22828\n",
      "6045/6045 [==============================] - 251s 42ms/step - loss: 0.1958 - accuracy: 0.9283 - val_loss: 0.2287 - val_accuracy: 0.9208 - lr: 1.0000e-06\n",
      "Epoch 15/100\n",
      "6045/6045 [==============================] - ETA: 0s - loss: 0.1961 - accuracy: 0.9286\n",
      "Epoch 00015: val_loss improved from 0.22828 to 0.22760, saving model to /home/kalfasyan/projects/wingbeat_frequencies/temp_data/TL_random_rawflt_conv1d_weights.h5\n",
      "6045/6045 [==============================] - 252s 42ms/step - loss: 0.1961 - accuracy: 0.9286 - val_loss: 0.2276 - val_accuracy: 0.9197 - lr: 1.0000e-06\n",
      "Epoch 16/100\n",
      "6045/6045 [==============================] - ETA: 0s - loss: 0.1957 - accuracy: 0.9284\n",
      "Epoch 00016: val_loss improved from 0.22760 to 0.22608, saving model to /home/kalfasyan/projects/wingbeat_frequencies/temp_data/TL_random_rawflt_conv1d_weights.h5\n",
      "6045/6045 [==============================] - 251s 42ms/step - loss: 0.1957 - accuracy: 0.9284 - val_loss: 0.2261 - val_accuracy: 0.9197 - lr: 1.0000e-06\n",
      "Epoch 17/100\n",
      "6044/6045 [============================>.] - ETA: 0s - loss: 0.1962 - accuracy: 0.9288\n",
      "Epoch 00017: val_loss did not improve from 0.22608\n",
      "6045/6045 [==============================] - 251s 42ms/step - loss: 0.1962 - accuracy: 0.9288 - val_loss: 0.2293 - val_accuracy: 0.9205 - lr: 1.0000e-06\n",
      "Epoch 18/100\n",
      "6044/6045 [============================>.] - ETA: 0s - loss: 0.1958 - accuracy: 0.9288\n",
      "Epoch 00018: val_loss did not improve from 0.22608\n",
      "6045/6045 [==============================] - 251s 42ms/step - loss: 0.1958 - accuracy: 0.9288 - val_loss: 0.2467 - val_accuracy: 0.9142 - lr: 1.0000e-06\n",
      "Epoch 19/100\n",
      "6045/6045 [==============================] - ETA: 0s - loss: 0.1959 - accuracy: 0.9287\n",
      "Epoch 00019: val_loss did not improve from 0.22608\n",
      "\n",
      "Epoch 00019: ReduceLROnPlateau reducing learning rate to 1.0000001111620805e-07.\n",
      "6045/6045 [==============================] - 251s 41ms/step - loss: 0.1959 - accuracy: 0.9287 - val_loss: 0.2324 - val_accuracy: 0.9184 - lr: 1.0000e-06\n",
      "Epoch 20/100\n",
      "6044/6045 [============================>.] - ETA: 0s - loss: 0.1950 - accuracy: 0.9292\n",
      "Epoch 00020: val_loss improved from 0.22608 to 0.22605, saving model to /home/kalfasyan/projects/wingbeat_frequencies/temp_data/TL_random_rawflt_conv1d_weights.h5\n",
      "6045/6045 [==============================] - 250s 41ms/step - loss: 0.1950 - accuracy: 0.9292 - val_loss: 0.2260 - val_accuracy: 0.9202 - lr: 1.0000e-07\n",
      "Epoch 21/100\n",
      "6044/6045 [============================>.] - ETA: 0s - loss: 0.1956 - accuracy: 0.9288\n",
      "Epoch 00021: val_loss did not improve from 0.22605\n",
      "6045/6045 [==============================] - 251s 41ms/step - loss: 0.1956 - accuracy: 0.9288 - val_loss: 0.2262 - val_accuracy: 0.9205 - lr: 1.0000e-07\n",
      "Epoch 22/100\n",
      "6045/6045 [==============================] - ETA: 0s - loss: 0.1951 - accuracy: 0.9286\n",
      "Epoch 00022: val_loss did not improve from 0.22605\n",
      "\n",
      "Epoch 00022: ReduceLROnPlateau reducing learning rate to 1.000000082740371e-08.\n",
      "6045/6045 [==============================] - 251s 41ms/step - loss: 0.1951 - accuracy: 0.9286 - val_loss: 0.2273 - val_accuracy: 0.9205 - lr: 1.0000e-07\n",
      "Epoch 23/100\n",
      "6044/6045 [============================>.] - ETA: 0s - loss: 0.1958 - accuracy: 0.9282\n",
      "Epoch 00023: val_loss did not improve from 0.22605\n",
      "6045/6045 [==============================] - 250s 41ms/step - loss: 0.1958 - accuracy: 0.9282 - val_loss: 0.2295 - val_accuracy: 0.9195 - lr: 1.0000e-08\n",
      "Epoch 24/100\n",
      "6045/6045 [==============================] - ETA: 0s - loss: 0.1952 - accuracy: 0.9291\n",
      "Epoch 00024: val_loss improved from 0.22605 to 0.22382, saving model to /home/kalfasyan/projects/wingbeat_frequencies/temp_data/TL_random_rawflt_conv1d_weights.h5\n",
      "6045/6045 [==============================] - 250s 41ms/step - loss: 0.1952 - accuracy: 0.9291 - val_loss: 0.2238 - val_accuracy: 0.9208 - lr: 1.0000e-08\n",
      "Epoch 25/100\n",
      "6044/6045 [============================>.] - ETA: 0s - loss: 0.1954 - accuracy: 0.9291\n",
      "Epoch 00025: val_loss did not improve from 0.22382\n",
      "6045/6045 [==============================] - 251s 42ms/step - loss: 0.1954 - accuracy: 0.9291 - val_loss: 0.2255 - val_accuracy: 0.9199 - lr: 1.0000e-08\n",
      "Epoch 26/100\n",
      "6045/6045 [==============================] - ETA: 0s - loss: 0.1955 - accuracy: 0.9287\n",
      "Epoch 00026: val_loss did not improve from 0.22382\n",
      "6045/6045 [==============================] - 251s 42ms/step - loss: 0.1955 - accuracy: 0.9287 - val_loss: 0.2298 - val_accuracy: 0.9198 - lr: 1.0000e-08\n",
      "Epoch 27/100\n",
      "6044/6045 [============================>.] - ETA: 0s - loss: 0.1952 - accuracy: 0.9291\n",
      "Epoch 00027: val_loss did not improve from 0.22382\n",
      "\n",
      "Epoch 00027: ReduceLROnPlateau reducing learning rate to 1.000000082740371e-09.\n",
      "6045/6045 [==============================] - 251s 42ms/step - loss: 0.1952 - accuracy: 0.9291 - val_loss: 0.2264 - val_accuracy: 0.9204 - lr: 1.0000e-08\n",
      "Epoch 28/100\n",
      "6045/6045 [==============================] - ETA: 0s - loss: 0.1953 - accuracy: 0.9287\n",
      "Epoch 00028: val_loss did not improve from 0.22382\n",
      "6045/6045 [==============================] - 252s 42ms/step - loss: 0.1953 - accuracy: 0.9287 - val_loss: 0.2285 - val_accuracy: 0.9198 - lr: 1.0000e-09\n",
      "Epoch 29/100\n",
      "6044/6045 [============================>.] - ETA: 0s - loss: 0.1953 - accuracy: 0.9293\n",
      "Epoch 00029: val_loss did not improve from 0.22382\n",
      "6045/6045 [==============================] - 252s 42ms/step - loss: 0.1953 - accuracy: 0.9293 - val_loss: 0.2255 - val_accuracy: 0.9206 - lr: 1.0000e-09\n",
      "Epoch 30/100\n",
      "6045/6045 [==============================] - ETA: 0s - loss: 0.1955 - accuracy: 0.9291\n",
      "Epoch 00030: val_loss did not improve from 0.22382\n",
      "\n",
      "Epoch 00030: ReduceLROnPlateau reducing learning rate to 1.000000082740371e-10.\n",
      "6045/6045 [==============================] - 251s 42ms/step - loss: 0.1955 - accuracy: 0.9291 - val_loss: 0.2257 - val_accuracy: 0.9200 - lr: 1.0000e-09\n",
      "Epoch 31/100\n",
      "6045/6045 [==============================] - ETA: 0s - loss: 0.1957 - accuracy: 0.9290\n",
      "Epoch 00031: val_loss did not improve from 0.22382\n",
      "6045/6045 [==============================] - 251s 42ms/step - loss: 0.1957 - accuracy: 0.9290 - val_loss: 0.2270 - val_accuracy: 0.9209 - lr: 1.0000e-10\n",
      "Epoch 00031: early stopping\n"
     ]
    }
   ],
   "source": [
    "h = model.fit(train_generator(X_train, y_train, \n",
    "                                    batch_size=traincf.batch_size,\n",
    "                                    target_names=np.unique(y_test).tolist(),\n",
    "                                    setting=traincf.setting,\n",
    "                                    preprocessing_train_stats='',\n",
    "                                    using_conv2d=using_conv2d),\n",
    "                    steps_per_epoch = int(math.ceil(float(len(X_train)) / float(traincf.batch_size))),\n",
    "                    epochs = traincf.epochs,\n",
    "                    validation_data = valid_generator(X_val, y_val,\n",
    "                                                        batch_size=traincf.batch_size,\n",
    "                                                        target_names=np.unique(y_test).tolist(),\n",
    "                                                        setting=traincf.setting,\n",
    "                                                        preprocessing_train_stats='',\n",
    "                                                        using_conv2d=using_conv2d),\n",
    "                    validation_steps=int(math.ceil(float(len(X_test))/float(traincf.batch_size))),\n",
    "                    callbacks=traincf.callbacks_list)"
   ]
  },
  {
   "cell_type": "code",
   "execution_count": 8,
   "metadata": {},
   "outputs": [],
   "source": [
    "# model.load_weights('../temp_data/custom_raw_conv1d_0.h5')"
   ]
  },
  {
   "cell_type": "code",
   "execution_count": 10,
   "metadata": {},
   "outputs": [
    {
     "name": "stdout",
     "output_type": "stream",
     "text": [
      "WARNING:tensorflow:From <ipython-input-10-9b788a01dfe7>:6: Model.predict_generator (from tensorflow.python.keras.engine.training) is deprecated and will be removed in a future version.\n",
      "Instructions for updating:\n",
      "Please use Model.predict, which supports generators.\n"
     ]
    }
   ],
   "source": [
    "features = model.predict_generator(valid_generator(X_test, y_test, \n",
    "                                                  batch_size=traincf.batch_size, \n",
    "                                                  setting=traincf.setting, \n",
    "                                                  target_names=np.unique(y_test).tolist(),\n",
    "                                                  preprocessing_train_stats=''),\n",
    "                                  steps = int(math.ceil(float(len(X_test)) / float(traincf.batch_size))))"
   ]
  },
  {
   "cell_type": "code",
   "execution_count": 11,
   "metadata": {},
   "outputs": [
    {
     "data": {
      "text/plain": [
       "(37781, 6)"
      ]
     },
     "execution_count": 11,
     "metadata": {},
     "output_type": "execute_result"
    }
   ],
   "source": [
    "features.shape"
   ]
  },
  {
   "cell_type": "markdown",
   "metadata": {},
   "source": [
    "### Confusion matrix (test set)"
   ]
  },
  {
   "cell_type": "code",
   "execution_count": 12,
   "metadata": {},
   "outputs": [
    {
     "data": {
      "text/plain": [
       "<matplotlib.axes._subplots.AxesSubplot at 0x7fedea4edd50>"
      ]
     },
     "execution_count": 12,
     "metadata": {},
     "output_type": "execute_result"
    },
    {
     "data": {
      "image/png": "[encoded data removed]",
      "text/plain": [
       "<Figure size 1008x576 with 2 Axes>"
      ]
     },
     "metadata": {
      "needs_background": "light"
     },
     "output_type": "display_data"
    }
   ],
   "source": [
    "from sklearn.metrics import confusion_matrix\n",
    "import seaborn as sb\n",
    "plt.figure(figsize=(14,8))\n",
    "cm = confusion_matrix(np.argmax(features, axis=1), y_test)\n",
    "cm = cm.astype(np.float) / cm.astype(np.float).sum(axis=1)\n",
    "sb.heatmap(cm, annot=True)#, fmt='g')"
   ]
  },
  {
   "cell_type": "code",
   "execution_count": 13,
   "metadata": {},
   "outputs": [
    {
     "data": {
      "text/plain": [
       "0    11562\n",
       "5    10081\n",
       "3     6686\n",
       "4     4110\n",
       "1     2734\n",
       "2     2608\n",
       "dtype: int64"
      ]
     },
     "execution_count": 13,
     "metadata": {},
     "output_type": "execute_result"
    }
   ],
   "source": [
    "pd.Series(y_test).value_counts()"
   ]
  },
  {
   "cell_type": "code",
   "execution_count": 14,
   "metadata": {},
   "outputs": [
    {
     "data": {
      "text/plain": [
       "0    11652\n",
       "5    10016\n",
       "3     6794\n",
       "4     4158\n",
       "1     2637\n",
       "2     2524\n",
       "dtype: int64"
      ]
     },
     "execution_count": 14,
     "metadata": {},
     "output_type": "execute_result"
    }
   ],
   "source": [
    "pd.Series(np.argmax(features, axis=1)).value_counts()"
   ]
  },
  {
   "cell_type": "code",
   "execution_count": null,
   "metadata": {},
   "outputs": [],
   "source": []
  },
  {
   "cell_type": "code",
   "execution_count": null,
   "metadata": {},
   "outputs": [],
   "source": []
  },
  {
   "cell_type": "code",
   "execution_count": 15,
   "metadata": {},
   "outputs": [
    {
     "name": "stdout",
     "output_type": "stream",
     "text": [
      "Species: all.\n",
      "Read 279566 filenames in 0.66 seconds.\n",
      "Species: Ae. aegypti.\n",
      "Read 85553 filenames in 1.45 seconds.\n",
      "['20170212', '20170211', '20170209', '20170208', '20170210', '20170207', '20170213', '20161213', '20170206', '20161212']\n",
      "82989 train filenames, 2564 test filenames\n",
      "Species: Ae. albopictus.\n",
      "Read 20231 filenames in 1.45 seconds.\n",
      "['20170301', '20170228', '20170227', '20170103', '20170102']\n",
      "17440 train filenames, 2791 test filenames\n",
      "Species: An. arabiensis.\n",
      "Read 19297 filenames in 1.45 seconds.\n",
      "['20170131', '20170317', '20170318', '20170320', '20170205', '20170203', '20170204', '20170202', '20170319', '20170313', '20170201', '20170314', '20170316', '20170130', '20170206', '20170315']\n",
      "12897 train filenames, 2831 test filenames\n",
      "Species: An. gambiae.\n",
      "Read 49471 filenames in 1.44 seconds.\n",
      "['20170121', '20170120', '20170123', '20170118', '20170117', '20170119', '20170116', '20170122', '20170109', '20170110']\n",
      "45471 train filenames, 4000 test filenames\n",
      "Species: C. quinquefasciatus.\n",
      "Read 74599 filenames in 1.41 seconds.\n",
      "['20161220', '20161219', '20161221']\n",
      "41552 train filenames, 33047 test filenames\n",
      "Species: C. pipiens.\n",
      "Read 30415 filenames in 1.40 seconds.\n",
      "['20161206', '20161205', '20170214', '20170215', '20170213', '20170217', '20170216', '20170219', '20170220', '20170218']\n",
      "28353 train filenames, 2062 test filenames\n"
     ]
    },
    {
     "data": {
      "text/plain": [
       "{'Ae. aegypti': 0,\n",
       " 'Ae. albopictus': 1,\n",
       " 'An. arabiensis': 2,\n",
       " 'An. gambiae': 3,\n",
       " 'C. pipiens': 4,\n",
       " 'C. quinquefasciatus': 5}"
      ]
     },
     "execution_count": 15,
     "metadata": {},
     "output_type": "execute_result"
    }
   ],
   "source": [
    "%reset -f\n",
    "import sys\n",
    "sys.path.insert(0, \"..\")\n",
    "from wavhandler import Dataset\n",
    "import numpy as np\n",
    "import math\n",
    "from sklearn.preprocessing import LabelEncoder\n",
    "from sklearn.utils import shuffle\n",
    "from sklearn.model_selection import train_test_split\n",
    "from sklearn.metrics import confusion_matrix, balanced_accuracy_score, classification_report, make_scorer, log_loss\n",
    "from utils_train import *\n",
    "import deepdish as dd\n",
    "from configs import DatasetConfiguration\n",
    "import os\n",
    "import pandas as pd\n",
    "from sklearn.metrics import confusion_matrix\n",
    "import seaborn as sb\n",
    "import matplotlib.pyplot as plt\n",
    "\n",
    "seed = 42\n",
    "np.random.seed(seed=seed)\n",
    "\n",
    "splitting = 'custom'\n",
    "data_setting = 'rawflt'\n",
    "model_setting = 'conv1d'\n",
    "\n",
    "d = Dataset('Wingbeats')\n",
    "d.read(loadmat=False)\n",
    "\n",
    "X_train, X_val, X_test, y_train, y_val, y_test, le = mosquito_data_split(splitting=splitting, dataset=d, downsampling=False, return_label_encoder=True)\n",
    "\n",
    "X_train, X_val, y_train, y_val = X_train[0], X_val[0], y_train[0], y_val[0]\n",
    "from sklearn.utils import shuffle\n",
    "X_train, y_train = shuffle(X_train, y_train, random_state=seed)\n",
    "X_val, y_val = shuffle(X_val, y_val, random_state=seed)\n",
    "\n",
    "get_labelencoder_mapping(le)"
   ]
  },
  {
   "cell_type": "code",
   "execution_count": null,
   "metadata": {},
   "outputs": [],
   "source": []
  },
  {
   "cell_type": "markdown",
   "metadata": {},
   "source": [
    "## Choosing model (6 classes or 3-merged)"
   ]
  },
  {
   "cell_type": "code",
   "execution_count": 16,
   "metadata": {},
   "outputs": [
    {
     "name": "stdout",
     "output_type": "stream",
     "text": [
      "############ INPUT SHAPE:(5000, 1)\n"
     ]
    }
   ],
   "source": [
    "merged = False\n",
    "\n",
    "using_conv2d = False\n",
    "if merged:\n",
    "    # Merging the mosquito genuses together\n",
    "    y_train = pd.Series(y_train).replace({1:0, 3:2, 5:4}).replace({2:1, 4:2}).tolist()\n",
    "    y_val = pd.Series(y_val).replace({1:0, 3:2, 5:4}).replace({2:1, 4:2}).tolist()\n",
    "    y_test = pd.Series(y_test).replace({1:0, 3:2, 5:4}).replace({2:1, 4:2}).tolist()\n",
    "\n",
    "    # Defining model parameters\n",
    "    modelname = f'TL_{splitting}_{data_setting}_{model_setting}_MERGED_weights'\n",
    "    traincf = TrainConfiguration(nb_classes=3, setting=data_setting, model_name=modelname)\n",
    "    d.target_classes = ['Aedes','Anopheles','Culex']\n",
    "    traincf.target_names = np.unique(d.target_classes)\n",
    "    traincf.targets = len(traincf.target_names)    \n",
    "    model = ModelConfiguration(nb_classes=3, model_setting=model_setting, data_setting=data_setting).config\n",
    "else:\n",
    "    modelname = f'TL_{splitting}_{data_setting}_{model_setting}_weights'\n",
    "    traincf = TrainConfiguration(nb_classes=6, setting=data_setting, model_name=modelname)\n",
    "    model = ModelConfiguration(nb_classes=6, model_setting=model_setting, data_setting=data_setting).config\n",
    "\n",
    "model.compile(loss='categorical_crossentropy', optimizer='adam', metrics=['accuracy'])\n",
    "\n",
    "# train_stats = calculate_train_statistics(X_train=X_train, setting=data_setting)"
   ]
  },
  {
   "cell_type": "code",
   "execution_count": 17,
   "metadata": {},
   "outputs": [
    {
     "data": {
      "text/plain": [
       "['Ae. aegypti',\n",
       " 'Ae. albopictus',\n",
       " 'An. arabiensis',\n",
       " 'An. gambiae',\n",
       " 'C. pipiens',\n",
       " 'C. quinquefasciatus']"
      ]
     },
     "execution_count": 17,
     "metadata": {},
     "output_type": "execute_result"
    }
   ],
   "source": [
    "d.target_classes"
   ]
  },
  {
   "cell_type": "code",
   "execution_count": 18,
   "metadata": {
    "scrolled": true
   },
   "outputs": [
    {
     "name": "stdout",
     "output_type": "stream",
     "text": [
      "Model: \"sequential_1\"\n",
      "_________________________________________________________________\n",
      "Layer (type)                 Output Shape              Param #   \n",
      "=================================================================\n",
      "conv1d_10 (Conv1D)           (None, 4998, 16)          64        \n",
      "_________________________________________________________________\n",
      "conv1d_11 (Conv1D)           (None, 4996, 16)          784       \n",
      "_________________________________________________________________\n",
      "batch_normalization_5 (Batch (None, 4996, 16)          64        \n",
      "_________________________________________________________________\n",
      "conv1d_12 (Conv1D)           (None, 4994, 32)          1568      \n",
      "_________________________________________________________________\n",
      "conv1d_13 (Conv1D)           (None, 4992, 32)          3104      \n",
      "_________________________________________________________________\n",
      "batch_normalization_6 (Batch (None, 4992, 32)          128       \n",
      "_________________________________________________________________\n",
      "max_pooling1d_3 (MaxPooling1 (None, 2496, 32)          0         \n",
      "_________________________________________________________________\n",
      "conv1d_14 (Conv1D)           (None, 2494, 64)          6208      \n",
      "_________________________________________________________________\n",
      "conv1d_15 (Conv1D)           (None, 2492, 64)          12352     \n",
      "_________________________________________________________________\n",
      "batch_normalization_7 (Batch (None, 2492, 64)          256       \n",
      "_________________________________________________________________\n",
      "max_pooling1d_4 (MaxPooling1 (None, 1246, 64)          0         \n",
      "_________________________________________________________________\n",
      "conv1d_16 (Conv1D)           (None, 1244, 128)         24704     \n",
      "_________________________________________________________________\n",
      "conv1d_17 (Conv1D)           (None, 1242, 128)         49280     \n",
      "_________________________________________________________________\n",
      "batch_normalization_8 (Batch (None, 1242, 128)         512       \n",
      "_________________________________________________________________\n",
      "max_pooling1d_5 (MaxPooling1 (None, 621, 128)          0         \n",
      "_________________________________________________________________\n",
      "conv1d_18 (Conv1D)           (None, 619, 256)          98560     \n",
      "_________________________________________________________________\n",
      "conv1d_19 (Conv1D)           (None, 617, 256)          196864    \n",
      "_________________________________________________________________\n",
      "batch_normalization_9 (Batch (None, 617, 256)          1024      \n",
      "_________________________________________________________________\n",
      "global_average_pooling1d_1 ( (None, 256)               0         \n",
      "_________________________________________________________________\n",
      "dropout_1 (Dropout)          (None, 256)               0         \n",
      "_________________________________________________________________\n",
      "dense_1 (Dense)              (None, 6)                 1542      \n",
      "=================================================================\n",
      "Total params: 397,014\n",
      "Trainable params: 396,022\n",
      "Non-trainable params: 992\n",
      "_________________________________________________________________\n"
     ]
    }
   ],
   "source": [
    "model.summary()"
   ]
  },
  {
   "cell_type": "code",
   "execution_count": 19,
   "metadata": {},
   "outputs": [],
   "source": [
    "# sig = next(valid_generator(X_val, y_val,\n",
    "#                 batch_size=traincf.batch_size,\n",
    "#                 target_names=traincf.target_names,\n",
    "#                 setting=traincf.setting,\n",
    "#                 preprocessing_train_stats='',\n",
    "#                 using_conv2d=using_conv2d))[0][0,:,:]\n",
    "# plt.plot(sig)"
   ]
  },
  {
   "cell_type": "code",
   "execution_count": 20,
   "metadata": {},
   "outputs": [
    {
     "data": {
      "text/plain": [
       "0    16597\n",
       "3     9094\n",
       "5     8310\n",
       "4     5670\n",
       "1     3488\n",
       "2     2579\n",
       "dtype: int64"
      ]
     },
     "execution_count": 20,
     "metadata": {},
     "output_type": "execute_result"
    }
   ],
   "source": [
    "pd.Series(y_val).value_counts()"
   ]
  },
  {
   "cell_type": "markdown",
   "metadata": {},
   "source": [
    "### Model training"
   ]
  },
  {
   "cell_type": "code",
   "execution_count": 21,
   "metadata": {},
   "outputs": [
    {
     "name": "stdout",
     "output_type": "stream",
     "text": [
      "Epoch 1/100\n",
      "5718/5718 [==============================] - ETA: 0s - loss: 0.5837 - accuracy: 0.7894\n",
      "Epoch 00001: val_loss improved from inf to 5.69266, saving model to /home/kalfasyan/projects/wingbeat_frequencies/temp_data/TL_custom_rawflt_conv1d_weights.h5\n",
      "5718/5718 [==============================] - 264s 46ms/step - loss: 0.5837 - accuracy: 0.7894 - val_loss: 5.6927 - val_accuracy: 0.4094 - lr: 0.0010\n",
      "Epoch 2/100\n",
      "5717/5718 [============================>.] - ETA: 0s - loss: 0.3868 - accuracy: 0.8627\n",
      "Epoch 00002: val_loss did not improve from 5.69266\n",
      "5718/5718 [==============================] - 233s 41ms/step - loss: 0.3868 - accuracy: 0.8627 - val_loss: 5.9591 - val_accuracy: 0.3920 - lr: 0.0010\n",
      "Epoch 3/100\n",
      "5717/5718 [============================>.] - ETA: 0s - loss: 0.3213 - accuracy: 0.8862\n",
      "Epoch 00003: val_loss did not improve from 5.69266\n",
      "5718/5718 [==============================] - 233s 41ms/step - loss: 0.3213 - accuracy: 0.8862 - val_loss: 119.8134 - val_accuracy: 0.0563 - lr: 0.0010\n",
      "Epoch 4/100\n",
      "5717/5718 [============================>.] - ETA: 0s - loss: 0.2860 - accuracy: 0.8991\n",
      "Epoch 00004: val_loss did not improve from 5.69266\n",
      "\n",
      "Epoch 00004: ReduceLROnPlateau reducing learning rate to 0.00010000000474974513.\n",
      "5718/5718 [==============================] - 233s 41ms/step - loss: 0.2860 - accuracy: 0.8991 - val_loss: 47.8539 - val_accuracy: 0.1047 - lr: 0.0010\n",
      "Epoch 5/100\n",
      "5717/5718 [============================>.] - ETA: 0s - loss: 0.2198 - accuracy: 0.9226\n",
      "Epoch 00005: val_loss did not improve from 5.69266\n",
      "5718/5718 [==============================] - 233s 41ms/step - loss: 0.2198 - accuracy: 0.9226 - val_loss: 6.8242 - val_accuracy: 0.4481 - lr: 1.0000e-04\n",
      "Epoch 6/100\n",
      "5717/5718 [============================>.] - ETA: 0s - loss: 0.2041 - accuracy: 0.9280\n",
      "Epoch 00006: val_loss improved from 5.69266 to 0.46388, saving model to /home/kalfasyan/projects/wingbeat_frequencies/temp_data/TL_custom_rawflt_conv1d_weights.h5\n",
      "5718/5718 [==============================] - 233s 41ms/step - loss: 0.2041 - accuracy: 0.9280 - val_loss: 0.4639 - val_accuracy: 0.8474 - lr: 1.0000e-04\n",
      "Epoch 7/100\n",
      "5717/5718 [============================>.] - ETA: 0s - loss: 0.1937 - accuracy: 0.9314\n",
      "Epoch 00007: val_loss did not improve from 0.46388\n",
      "5718/5718 [==============================] - 232s 41ms/step - loss: 0.1937 - accuracy: 0.9314 - val_loss: 19.5357 - val_accuracy: 0.3156 - lr: 1.0000e-04\n",
      "Epoch 8/100\n",
      "5717/5718 [============================>.] - ETA: 0s - loss: 0.1860 - accuracy: 0.9344\n",
      "Epoch 00008: val_loss did not improve from 0.46388\n",
      "5718/5718 [==============================] - 232s 41ms/step - loss: 0.1860 - accuracy: 0.9344 - val_loss: 46.3984 - val_accuracy: 0.2562 - lr: 1.0000e-04\n",
      "Epoch 9/100\n",
      "5717/5718 [============================>.] - ETA: 0s - loss: 0.1780 - accuracy: 0.9366\n",
      "Epoch 00009: val_loss did not improve from 0.46388\n",
      "\n",
      "Epoch 00009: ReduceLROnPlateau reducing learning rate to 1.0000000474974514e-05.\n",
      "5718/5718 [==============================] - 232s 41ms/step - loss: 0.1780 - accuracy: 0.9366 - val_loss: 5.9154 - val_accuracy: 0.4216 - lr: 1.0000e-04\n",
      "Epoch 10/100\n",
      "5717/5718 [============================>.] - ETA: 0s - loss: 0.1669 - accuracy: 0.9408\n",
      "Epoch 00010: val_loss did not improve from 0.46388\n",
      "5718/5718 [==============================] - 233s 41ms/step - loss: 0.1669 - accuracy: 0.9408 - val_loss: 0.5818 - val_accuracy: 0.8419 - lr: 1.0000e-05\n",
      "Epoch 11/100\n",
      "5716/5718 [============================>.] - ETA: 0s - loss: 0.1647 - accuracy: 0.9418\n",
      "Epoch 00011: val_loss improved from 0.46388 to 0.43748, saving model to /home/kalfasyan/projects/wingbeat_frequencies/temp_data/TL_custom_rawflt_conv1d_weights.h5\n",
      "5718/5718 [==============================] - 233s 41ms/step - loss: 0.1647 - accuracy: 0.9418 - val_loss: 0.4375 - val_accuracy: 0.8598 - lr: 1.0000e-05\n",
      "Epoch 12/100\n",
      "5717/5718 [============================>.] - ETA: 0s - loss: 0.1632 - accuracy: 0.9419\n",
      "Epoch 00012: val_loss improved from 0.43748 to 0.41859, saving model to /home/kalfasyan/projects/wingbeat_frequencies/temp_data/TL_custom_rawflt_conv1d_weights.h5\n",
      "5718/5718 [==============================] - 232s 41ms/step - loss: 0.1632 - accuracy: 0.9419 - val_loss: 0.4186 - val_accuracy: 0.8615 - lr: 1.0000e-05\n",
      "Epoch 13/100\n",
      "5717/5718 [============================>.] - ETA: 0s - loss: 0.1624 - accuracy: 0.9426\n",
      "Epoch 00013: val_loss did not improve from 0.41859\n",
      "5718/5718 [==============================] - 232s 41ms/step - loss: 0.1624 - accuracy: 0.9426 - val_loss: 0.5644 - val_accuracy: 0.8426 - lr: 1.0000e-05\n",
      "Epoch 14/100\n",
      "5717/5718 [============================>.] - ETA: 0s - loss: 0.1612 - accuracy: 0.9432\n",
      "Epoch 00014: val_loss did not improve from 0.41859\n",
      "5718/5718 [==============================] - 233s 41ms/step - loss: 0.1612 - accuracy: 0.9432 - val_loss: 0.6139 - val_accuracy: 0.8388 - lr: 1.0000e-05\n",
      "Epoch 15/100\n",
      "5717/5718 [============================>.] - ETA: 0s - loss: 0.1613 - accuracy: 0.9432\n",
      "Epoch 00015: val_loss did not improve from 0.41859\n",
      "\n",
      "Epoch 00015: ReduceLROnPlateau reducing learning rate to 1.0000000656873453e-06.\n",
      "5718/5718 [==============================] - 232s 41ms/step - loss: 0.1613 - accuracy: 0.9432 - val_loss: 3.6184 - val_accuracy: 0.7260 - lr: 1.0000e-05\n",
      "Epoch 16/100\n",
      "5717/5718 [============================>.] - ETA: 0s - loss: 0.1587 - accuracy: 0.9442\n",
      "Epoch 00016: val_loss improved from 0.41859 to 0.39932, saving model to /home/kalfasyan/projects/wingbeat_frequencies/temp_data/TL_custom_rawflt_conv1d_weights.h5\n",
      "5718/5718 [==============================] - 232s 41ms/step - loss: 0.1587 - accuracy: 0.9442 - val_loss: 0.3993 - val_accuracy: 0.8678 - lr: 1.0000e-06\n",
      "Epoch 17/100\n",
      "5717/5718 [============================>.] - ETA: 0s - loss: 0.1589 - accuracy: 0.9436\n",
      "Epoch 00017: val_loss improved from 0.39932 to 0.38647, saving model to /home/kalfasyan/projects/wingbeat_frequencies/temp_data/TL_custom_rawflt_conv1d_weights.h5\n",
      "5718/5718 [==============================] - 232s 41ms/step - loss: 0.1589 - accuracy: 0.9436 - val_loss: 0.3865 - val_accuracy: 0.8725 - lr: 1.0000e-06\n",
      "Epoch 18/100\n",
      "5717/5718 [============================>.] - ETA: 0s - loss: 0.1591 - accuracy: 0.9440\n",
      "Epoch 00018: val_loss improved from 0.38647 to 0.38514, saving model to /home/kalfasyan/projects/wingbeat_frequencies/temp_data/TL_custom_rawflt_conv1d_weights.h5\n",
      "5718/5718 [==============================] - 232s 41ms/step - loss: 0.1591 - accuracy: 0.9440 - val_loss: 0.3851 - val_accuracy: 0.8744 - lr: 1.0000e-06\n",
      "Epoch 19/100\n",
      "5717/5718 [============================>.] - ETA: 0s - loss: 0.1582 - accuracy: 0.9441\n",
      "Epoch 00019: val_loss did not improve from 0.38514\n",
      "5718/5718 [==============================] - 232s 41ms/step - loss: 0.1582 - accuracy: 0.9441 - val_loss: 0.4017 - val_accuracy: 0.8676 - lr: 1.0000e-06\n",
      "Epoch 20/100\n",
      "5717/5718 [============================>.] - ETA: 0s - loss: 0.1583 - accuracy: 0.9442\n",
      "Epoch 00020: val_loss did not improve from 0.38514\n",
      "5718/5718 [==============================] - 232s 41ms/step - loss: 0.1583 - accuracy: 0.9442 - val_loss: 0.3920 - val_accuracy: 0.8707 - lr: 1.0000e-06\n",
      "Epoch 21/100\n",
      "5717/5718 [============================>.] - ETA: 0s - loss: 0.1588 - accuracy: 0.9441\n",
      "Epoch 00021: val_loss did not improve from 0.38514\n",
      "\n",
      "Epoch 00021: ReduceLROnPlateau reducing learning rate to 1.0000001111620805e-07.\n",
      "5718/5718 [==============================] - 232s 41ms/step - loss: 0.1588 - accuracy: 0.9441 - val_loss: 0.4030 - val_accuracy: 0.8663 - lr: 1.0000e-06\n",
      "Epoch 22/100\n",
      "5717/5718 [============================>.] - ETA: 0s - loss: 0.1580 - accuracy: 0.9442\n",
      "Epoch 00022: val_loss improved from 0.38514 to 0.38274, saving model to /home/kalfasyan/projects/wingbeat_frequencies/temp_data/TL_custom_rawflt_conv1d_weights.h5\n",
      "5718/5718 [==============================] - 234s 41ms/step - loss: 0.1580 - accuracy: 0.9442 - val_loss: 0.3827 - val_accuracy: 0.8749 - lr: 1.0000e-07\n",
      "Epoch 23/100\n",
      "5717/5718 [============================>.] - ETA: 0s - loss: 0.1580 - accuracy: 0.9442\n",
      "Epoch 00023: val_loss improved from 0.38274 to 0.38173, saving model to /home/kalfasyan/projects/wingbeat_frequencies/temp_data/TL_custom_rawflt_conv1d_weights.h5\n",
      "5718/5718 [==============================] - 233s 41ms/step - loss: 0.1580 - accuracy: 0.9442 - val_loss: 0.3817 - val_accuracy: 0.8748 - lr: 1.0000e-07\n",
      "Epoch 24/100\n",
      "5717/5718 [============================>.] - ETA: 0s - loss: 0.1581 - accuracy: 0.9443\n",
      "Epoch 00024: val_loss did not improve from 0.38173\n",
      "5718/5718 [==============================] - 232s 41ms/step - loss: 0.1581 - accuracy: 0.9444 - val_loss: 0.3829 - val_accuracy: 0.8750 - lr: 1.0000e-07\n",
      "Epoch 25/100\n",
      "5717/5718 [============================>.] - ETA: 0s - loss: 0.1580 - accuracy: 0.9446\n",
      "Epoch 00025: val_loss improved from 0.38173 to 0.38124, saving model to /home/kalfasyan/projects/wingbeat_frequencies/temp_data/TL_custom_rawflt_conv1d_weights.h5\n",
      "5718/5718 [==============================] - 233s 41ms/step - loss: 0.1580 - accuracy: 0.9446 - val_loss: 0.3812 - val_accuracy: 0.8750 - lr: 1.0000e-07\n",
      "Epoch 26/100\n",
      "5717/5718 [============================>.] - ETA: 0s - loss: 0.1579 - accuracy: 0.9442\n",
      "Epoch 00026: val_loss improved from 0.38124 to 0.38069, saving model to /home/kalfasyan/projects/wingbeat_frequencies/temp_data/TL_custom_rawflt_conv1d_weights.h5\n",
      "5718/5718 [==============================] - 232s 41ms/step - loss: 0.1579 - accuracy: 0.9442 - val_loss: 0.3807 - val_accuracy: 0.8754 - lr: 1.0000e-07\n",
      "Epoch 27/100\n",
      "5717/5718 [============================>.] - ETA: 0s - loss: 0.1577 - accuracy: 0.9442\n",
      "Epoch 00027: val_loss did not improve from 0.38069\n",
      "5718/5718 [==============================] - 232s 41ms/step - loss: 0.1577 - accuracy: 0.9442 - val_loss: 0.3821 - val_accuracy: 0.8746 - lr: 1.0000e-07\n",
      "Epoch 28/100\n",
      "5717/5718 [============================>.] - ETA: 0s - loss: 0.1589 - accuracy: 0.9440\n",
      "Epoch 00028: val_loss did not improve from 0.38069\n",
      "5718/5718 [==============================] - 232s 41ms/step - loss: 0.1589 - accuracy: 0.9440 - val_loss: 0.3824 - val_accuracy: 0.8753 - lr: 1.0000e-07\n",
      "Epoch 29/100\n",
      "5717/5718 [============================>.] - ETA: 0s - loss: 0.1576 - accuracy: 0.9446\n",
      "Epoch 00029: val_loss improved from 0.38069 to 0.37965, saving model to /home/kalfasyan/projects/wingbeat_frequencies/temp_data/TL_custom_rawflt_conv1d_weights.h5\n",
      "5718/5718 [==============================] - 232s 41ms/step - loss: 0.1576 - accuracy: 0.9446 - val_loss: 0.3797 - val_accuracy: 0.8753 - lr: 1.0000e-07\n",
      "Epoch 30/100\n",
      "5717/5718 [============================>.] - ETA: 0s - loss: 0.1579 - accuracy: 0.9444\n",
      "Epoch 00030: val_loss did not improve from 0.37965\n",
      "5718/5718 [==============================] - 232s 41ms/step - loss: 0.1579 - accuracy: 0.9444 - val_loss: 0.3808 - val_accuracy: 0.8751 - lr: 1.0000e-07\n",
      "Epoch 31/100\n",
      "5717/5718 [============================>.] - ETA: 0s - loss: 0.1582 - accuracy: 0.9441\n",
      "Epoch 00031: val_loss did not improve from 0.37965\n",
      "5718/5718 [==============================] - 232s 41ms/step - loss: 0.1582 - accuracy: 0.9441 - val_loss: 0.3802 - val_accuracy: 0.8752 - lr: 1.0000e-07\n",
      "Epoch 32/100\n",
      "5717/5718 [============================>.] - ETA: 0s - loss: 0.1579 - accuracy: 0.9446\n",
      "Epoch 00032: val_loss did not improve from 0.37965\n",
      "\n",
      "Epoch 00032: ReduceLROnPlateau reducing learning rate to 1.000000082740371e-08.\n",
      "5718/5718 [==============================] - 232s 41ms/step - loss: 0.1579 - accuracy: 0.9446 - val_loss: 0.3815 - val_accuracy: 0.8748 - lr: 1.0000e-07\n",
      "Epoch 33/100\n",
      "5717/5718 [============================>.] - ETA: 0s - loss: 0.1574 - accuracy: 0.9447\n",
      "Epoch 00033: val_loss did not improve from 0.37965\n",
      "5718/5718 [==============================] - 232s 41ms/step - loss: 0.1574 - accuracy: 0.9447 - val_loss: 0.3823 - val_accuracy: 0.8748 - lr: 1.0000e-08\n",
      "Epoch 34/100\n",
      "5717/5718 [============================>.] - ETA: 0s - loss: 0.1580 - accuracy: 0.9443\n",
      "Epoch 00034: val_loss did not improve from 0.37965\n",
      "5718/5718 [==============================] - 236s 41ms/step - loss: 0.1580 - accuracy: 0.9444 - val_loss: 0.3814 - val_accuracy: 0.8748 - lr: 1.0000e-08\n",
      "Epoch 35/100\n",
      "5717/5718 [============================>.] - ETA: 0s - loss: 0.1582 - accuracy: 0.9443\n",
      "Epoch 00035: val_loss did not improve from 0.37965\n",
      "\n",
      "Epoch 00035: ReduceLROnPlateau reducing learning rate to 1.000000082740371e-09.\n",
      "5718/5718 [==============================] - 246s 43ms/step - loss: 0.1582 - accuracy: 0.9443 - val_loss: 0.3806 - val_accuracy: 0.8752 - lr: 1.0000e-08\n",
      "Epoch 36/100\n",
      "5717/5718 [============================>.] - ETA: 0s - loss: 0.1580 - accuracy: 0.9444\n",
      "Epoch 00036: val_loss did not improve from 0.37965\n",
      "5718/5718 [==============================] - 243s 43ms/step - loss: 0.1580 - accuracy: 0.9444 - val_loss: 0.3806 - val_accuracy: 0.8753 - lr: 1.0000e-09\n",
      "Epoch 00036: early stopping\n"
     ]
    }
   ],
   "source": [
    "h = model.fit(train_generator(X_train, y_train, \n",
    "                                    batch_size=traincf.batch_size,\n",
    "                                    target_names=np.unique(y_test).tolist(),\n",
    "                                    setting=traincf.setting,\n",
    "                                    preprocessing_train_stats='',\n",
    "                                    using_conv2d=using_conv2d),\n",
    "                    steps_per_epoch = int(math.ceil(float(len(X_train)) / float(traincf.batch_size))),\n",
    "                    epochs = traincf.epochs,\n",
    "                    validation_data = valid_generator(X_val, y_val,\n",
    "                                                        batch_size=traincf.batch_size,\n",
    "                                                        target_names=np.unique(y_test).tolist(),\n",
    "                                                        setting=traincf.setting,\n",
    "                                                        preprocessing_train_stats='',\n",
    "                                                        using_conv2d=using_conv2d),\n",
    "                    validation_steps=int(math.ceil(float(len(X_test))/float(traincf.batch_size))),\n",
    "                    callbacks=traincf.callbacks_list)"
   ]
  },
  {
   "cell_type": "code",
   "execution_count": 22,
   "metadata": {},
   "outputs": [],
   "source": [
    "# model.load_weights('../temp_data/custom_raw_conv1d_0.h5')"
   ]
  },
  {
   "cell_type": "code",
   "execution_count": 24,
   "metadata": {},
   "outputs": [],
   "source": [
    "features = model.predict_generator(valid_generator(X_test, y_test, \n",
    "                                                  batch_size=traincf.batch_size, \n",
    "                                                  setting=traincf.setting, \n",
    "                                                  target_names=np.unique(y_test).tolist(),\n",
    "                                                  preprocessing_train_stats=''),\n",
    "                                  steps = int(math.ceil(float(len(X_test)) / float(traincf.batch_size))))"
   ]
  },
  {
   "cell_type": "code",
   "execution_count": 25,
   "metadata": {},
   "outputs": [
    {
     "data": {
      "text/plain": [
       "(47295, 6)"
      ]
     },
     "execution_count": 25,
     "metadata": {},
     "output_type": "execute_result"
    }
   ],
   "source": [
    "features.shape"
   ]
  },
  {
   "cell_type": "markdown",
   "metadata": {},
   "source": [
    "### Confusion matrix (test set)"
   ]
  },
  {
   "cell_type": "code",
   "execution_count": 26,
   "metadata": {},
   "outputs": [
    {
     "data": {
      "text/plain": [
       "<matplotlib.axes._subplots.AxesSubplot at 0x7fede3b6aa50>"
      ]
     },
     "execution_count": 26,
     "metadata": {},
     "output_type": "execute_result"
    },
    {
     "data": {
      "image/png": "[encoded data removed]",
      "text/plain": [
       "<Figure size 1008x576 with 2 Axes>"
      ]
     },
     "metadata": {
      "needs_background": "light"
     },
     "output_type": "display_data"
    }
   ],
   "source": [
    "from sklearn.metrics import confusion_matrix\n",
    "import seaborn as sb\n",
    "plt.figure(figsize=(14,8))\n",
    "cm = confusion_matrix(np.argmax(features, axis=1), y_test)\n",
    "cm = cm.astype(np.float) / cm.astype(np.float).sum(axis=1)\n",
    "sb.heatmap(cm, annot=True)#, fmt='g')"
   ]
  },
  {
   "cell_type": "code",
   "execution_count": 27,
   "metadata": {},
   "outputs": [
    {
     "data": {
      "text/plain": [
       "5    33047\n",
       "3     4000\n",
       "2     2831\n",
       "1     2791\n",
       "0     2564\n",
       "4     2062\n",
       "dtype: int64"
      ]
     },
     "execution_count": 27,
     "metadata": {},
     "output_type": "execute_result"
    }
   ],
   "source": [
    "pd.Series(y_test).value_counts()"
   ]
  },
  {
   "cell_type": "code",
   "execution_count": 28,
   "metadata": {},
   "outputs": [
    {
     "data": {
      "text/plain": [
       "5    32212\n",
       "0     5679\n",
       "3     4528\n",
       "2     2360\n",
       "4     1847\n",
       "1      669\n",
       "dtype: int64"
      ]
     },
     "execution_count": 28,
     "metadata": {},
     "output_type": "execute_result"
    }
   ],
   "source": [
    "pd.Series(np.argmax(features, axis=1)).value_counts()"
   ]
  },
  {
   "cell_type": "code",
   "execution_count": null,
   "metadata": {},
   "outputs": [],
   "source": []
  }
 ],
 "metadata": {
  "kernelspec": {
   "display_name": "Python 3",
   "language": "python",
   "name": "python3"
  },
  "language_info": {
   "codemirror_mode": {
    "name": "ipython",
    "version": 3
   },
   "file_extension": ".py",
   "mimetype": "text/x-python",
   "name": "python",
   "nbconvert_exporter": "python",
   "pygments_lexer": "ipython3",
   "version": "3.7.9"
  }
 },
 "nbformat": 4,
 "nbformat_minor": 4
}
