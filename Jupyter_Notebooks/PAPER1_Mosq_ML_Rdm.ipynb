{
 "cells": [
  {
   "cell_type": "code",
   "execution_count": 1,
   "metadata": {},
   "outputs": [],
   "source": [
    "%reset -f\n",
    "import sys\n",
    "sys.path.insert(0,'..')\n",
    "from wavhandler import *\n",
    "# from utils_train import train_test_val_split\n",
    "from pandas.plotting import register_matplotlib_converters\n",
    "from utils_train import test_inds, test_days\n",
    "register_matplotlib_converters()\n",
    "import numpy as np\n",
    "\n",
    "np.random.seed(42)"
   ]
  },
  {
   "cell_type": "code",
   "execution_count": 2,
   "metadata": {},
   "outputs": [
    {
     "name": "stdout",
     "output_type": "stream",
     "text": [
      "['Ae. aegypti', 'Ae. albopictus', 'An. arabiensis', 'An. gambiae', 'C. pipiens', 'C. quinquefasciatus']\n"
     ]
    }
   ],
   "source": [
    "data = Dataset('Wingbeats')\n",
    "print(data.target_classes)"
   ]
  },
  {
   "cell_type": "code",
   "execution_count": 3,
   "metadata": {},
   "outputs": [
    {
     "name": "stdout",
     "output_type": "stream",
     "text": [
      "Data: Ae. aegypti.\n",
      "Read 85553 filenames in 2.36 seconds.\n",
      "Data: Ae. albopictus.\n",
      "Read 20231 filenames in 2.30 seconds.\n",
      "Data: An. arabiensis.\n",
      "Read 19297 filenames in 2.27 seconds.\n",
      "Data: An. gambiae.\n",
      "Read 49471 filenames in 2.26 seconds.\n",
      "Data: C. pipiens.\n",
      "Read 30415 filenames in 2.25 seconds.\n",
      "Data: C. quinquefasciatus.\n",
      "Read 74599 filenames in 2.25 seconds.\n"
     ]
    }
   ],
   "source": [
    "data.read('Ae. aegypti', loadmat=False)\n",
    "x1 = data.filenames.sample(14800)\n",
    "data.read('Ae. albopictus', loadmat=False)\n",
    "x2 = data.filenames.sample(14800)\n",
    "data.read('An. arabiensis', loadmat=False)\n",
    "x3 = data.filenames.sample(14800)\n",
    "data.read('An. gambiae', loadmat=False)\n",
    "x4 = data.filenames.sample(14800)\n",
    "data.read('C. pipiens', loadmat=False)\n",
    "x5 = data.filenames.sample(14800)\n",
    "data.read('C. quinquefasciatus', loadmat=False)\n",
    "x6 = data.filenames.sample(14800)"
   ]
  },
  {
   "cell_type": "code",
   "execution_count": 18,
   "metadata": {},
   "outputs": [],
   "source": [
    "X = pd.concat([x1, x2, x3, x4, x5, x6], axis=0)\n",
    "y = X.apply(lambda x: x.split('/')[len(BASE_DIR.split('/'))])"
   ]
  },
  {
   "cell_type": "code",
   "execution_count": 19,
   "metadata": {},
   "outputs": [],
   "source": [
    "from sklearn.preprocessing import LabelEncoder\n",
    "\n",
    "le = LabelEncoder()\n",
    "y = le.fit_transform(y)"
   ]
  },
  {
   "cell_type": "code",
   "execution_count": 20,
   "metadata": {},
   "outputs": [],
   "source": [
    "from sklearn.utils import shuffle\n",
    "from utils_train import train_test_val_split\n",
    "\n",
    "X,y = shuffle(X.tolist(),y.tolist(), random_state=0)\n",
    "\n",
    "X_train, X_test, X_val, y_train, y_test, y_val = train_test_val_split(X,y,test_size=0.13514, val_size=0.2)"
   ]
  },
  {
   "cell_type": "code",
   "execution_count": 21,
   "metadata": {},
   "outputs": [
    {
     "name": "stdout",
     "output_type": "stream",
     "text": [
      "[('An. gambiae', 0), ('Ae. albopictus', 1), ('Ae. aegypti', 2), ('An. arabiensis', 3), ('C. pipiens', 4), ('C. quinquefasciatus', 5)]\n"
     ]
    },
    {
     "data": {
      "text/plain": [
       "C. quinquefasciatus    10240\n",
       "An. arabiensis         10240\n",
       "Ae. aegypti            10240\n",
       "Ae. albopictus         10240\n",
       "An. gambiae            10240\n",
       "C. pipiens             10239\n",
       "dtype: int64"
      ]
     },
     "execution_count": 21,
     "metadata": {},
     "output_type": "execute_result"
    }
   ],
   "source": [
    "keys = pd.Series(le.inverse_transform(y_train)).value_counts().index.tolist()\n",
    "values = pd.Series(y_train).value_counts().index.tolist()\n",
    "mapping = dict(zip(keys, values))\n",
    "print(sorted(mapping.items(), key=lambda x: x[1]))\n",
    "vcounts = pd.Series(y_train).value_counts()\n",
    "vcounts.index = mapping.keys()\n",
    "vcounts"
   ]
  },
  {
   "cell_type": "code",
   "execution_count": 22,
   "metadata": {},
   "outputs": [],
   "source": [
    "df_train = make_df_parallel(setting='raw', names=X_train+X_val)\n",
    "# df_val = make_df_parallel(setting='psd_dB', names=X_val)\n",
    "df_test = make_df_parallel(setting='raw', names=X_test)"
   ]
  },
  {
   "cell_type": "code",
   "execution_count": 23,
   "metadata": {},
   "outputs": [],
   "source": [
    "y_train = y_train + y_val"
   ]
  },
  {
   "cell_type": "markdown",
   "metadata": {},
   "source": [
    "## MODELING"
   ]
  },
  {
   "cell_type": "markdown",
   "metadata": {},
   "source": [
    "## k-Nearest Neighbors"
   ]
  },
  {
   "cell_type": "code",
   "execution_count": 24,
   "metadata": {},
   "outputs": [],
   "source": [
    "from sklearn.preprocessing import StandardScaler\n",
    "\n",
    "sc = StandardScaler()#with_std=True)\n",
    "\n",
    "x_train = sc.fit_transform(df_train.values)\n",
    "x_test = sc.fit_transform(df_test.values)\n"
   ]
  },
  {
   "cell_type": "code",
   "execution_count": 25,
   "metadata": {},
   "outputs": [],
   "source": [
    "from sklearn.neighbors import KNeighborsClassifier\n",
    "from sklearn.model_selection import GridSearchCV, cross_val_score\n",
    "\n",
    "# grid_params = {\n",
    "#     'n_neighbors': [11, 13, 15],\n",
    "#     'weights': ['uniform', 'distance'],\n",
    "#     'metric': ['euclidean', 'manhattan']\n",
    "# }\n",
    "\n",
    "# gs = GridSearchCV(KNeighborsClassifier(),\n",
    "#                  grid_params,\n",
    "#                  verbose=1,\n",
    "#                  cv=5,\n",
    "#                  n_jobs=-1)\n",
    "\n",
    "# gs_results = gs.fit(x_train, y_train)"
   ]
  },
  {
   "cell_type": "code",
   "execution_count": 26,
   "metadata": {},
   "outputs": [],
   "source": [
    "# plt.plot(x_train[0])"
   ]
  },
  {
   "cell_type": "code",
   "execution_count": 27,
   "metadata": {},
   "outputs": [
    {
     "data": {
      "text/plain": [
       "'0.21.3'"
      ]
     },
     "execution_count": 27,
     "metadata": {},
     "output_type": "execute_result"
    }
   ],
   "source": [
    "import sklearn\n",
    "sklearn.__version__"
   ]
  },
  {
   "cell_type": "code",
   "execution_count": null,
   "metadata": {},
   "outputs": [],
   "source": [
    "# from sklearn.naive_bayes import GaussianNB\n",
    "from sklearn.ensemble import RandomForestClassifier\n",
    "\n",
    "# classifier = LogisticRegression( solver='saga', penalty='elasticnet', l1_ratio=0.3, multi_class='ovr', max_iter=300, n_jobs=-1)\n",
    "# from sklearn.neural_network import MLPClassifier\n",
    "# classifier = MLPClassifier(solver='lbfgs', alpha=1e-5, max_iter=1000, activation='relu',\n",
    "#                             hidden_layer_sizes=(30,), learning_rate='adaptive', verbose=True)\n",
    "\n",
    "classifier = RandomForestClassifier(n_estimators=100, n_jobs=-1, )\n",
    "\n",
    "classifier.fit(x_train, y_train)"
   ]
  },
  {
   "cell_type": "code",
   "execution_count": null,
   "metadata": {},
   "outputs": [],
   "source": [
    "# classifier = gs_results.best_estimator_\n",
    "\n",
    "# classifier.fit(df_train.values, y_train)\n",
    "y_pred = classifier.predict(df_test.values)\n",
    "\n",
    "import matplotlib.pyplot as plt\n",
    "from sklearn.metrics import confusion_matrix,balanced_accuracy_score\n",
    "import seaborn as sns\n",
    "sns.set(font_scale=2.) \n",
    "\n",
    "# Calculating confusion matrix\n",
    "cm = confusion_matrix(y_test, y_pred)\n",
    "\n",
    "# Creating heatmap\n",
    "plt.figure(figsize=(24,18))\n",
    "cmap = sns.cubehelix_palette(50, hue=0.05, rot=0, light=0.9, dark=0, as_cmap=True)\n",
    "sns.heatmap(cm, annot=True, fmt='g', cmap=cmap)\n",
    "\n",
    "# Saving figure\n",
    "# plt.savefig('/home/kalfasyan/Desktop/confusion_mat_knn.eps', format='eps')\n",
    "ac = balanced_accuracy_score(y_test, y_pred)\n",
    "print('Balanced Accuracy Score: {}'.format(ac))"
   ]
  },
  {
   "cell_type": "code",
   "execution_count": null,
   "metadata": {},
   "outputs": [],
   "source": []
  }
 ],
 "metadata": {
  "kernelspec": {
   "display_name": "Python 3",
   "language": "python",
   "name": "python3"
  },
  "language_info": {
   "codemirror_mode": {
    "name": "ipython",
    "version": 3
   },
   "file_extension": ".py",
   "mimetype": "text/x-python",
   "name": "python",
   "nbconvert_exporter": "python",
   "pygments_lexer": "ipython3",
   "version": "3.6.7"
  }
 },
 "nbformat": 4,
 "nbformat_minor": 2
}
