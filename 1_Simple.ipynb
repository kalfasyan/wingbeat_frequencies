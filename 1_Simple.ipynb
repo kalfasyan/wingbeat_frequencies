{
 "cells": [
  {
   "cell_type": "code",
   "execution_count": 23,
   "metadata": {},
   "outputs": [],
   "source": [
    "import pandas as pd\n",
    "from wavhandler import *\n",
    "import matplotlib.pyplot as plt\n",
    "import seaborn as sns; sns.set()\n",
    "import logging\n",
    "logger = logging.getLogger()\n",
    "logger.setLevel(logging.WARN)\n",
    "\n",
    "plt.rcParams['figure.figsize'] = [14, 10]\n"
   ]
  },
  {
   "cell_type": "markdown",
   "metadata": {},
   "source": [
    "## Dataframe Overview"
   ]
  },
  {
   "cell_type": "code",
   "execution_count": 29,
   "metadata": {},
   "outputs": [
    {
     "data": {
      "text/html": [
       "<div>\n",
       "<style scoped>\n",
       "    .dataframe tbody tr th:only-of-type {\n",
       "        vertical-align: middle;\n",
       "    }\n",
       "\n",
       "    .dataframe tbody tr th {\n",
       "        vertical-align: top;\n",
       "    }\n",
       "\n",
       "    .dataframe thead th {\n",
       "        text-align: right;\n",
       "    }\n",
       "</style>\n",
       "<table border=\"1\" class=\"dataframe\">\n",
       "  <thead>\n",
       "    <tr style=\"text-align: right;\">\n",
       "      <th></th>\n",
       "      <th>fname</th>\n",
       "      <th>names</th>\n",
       "      <th>class</th>\n",
       "      <th>subclass</th>\n",
       "      <th>date</th>\n",
       "      <th>path_len</th>\n",
       "      <th>fname_len</th>\n",
       "      <th>humidity</th>\n",
       "      <th>temperature</th>\n",
       "      <th>evaluation</th>\n",
       "      <th>0</th>\n",
       "      <th>1</th>\n",
       "      <th>2</th>\n",
       "      <th>3</th>\n",
       "      <th>4</th>\n",
       "      <th>5</th>\n",
       "      <th>ampl_1</th>\n",
       "      <th>ampl_2</th>\n",
       "      <th>ampl_3</th>\n",
       "    </tr>\n",
       "  </thead>\n",
       "  <tbody>\n",
       "    <tr>\n",
       "      <th>105952</th>\n",
       "      <td>F170130_162038_168_G_050</td>\n",
       "      <td>/home/yannis/data/insects/Potamitis/Wingbeats/...</td>\n",
       "      <td>Anopheles</td>\n",
       "      <td>An. arabiensis</td>\n",
       "      <td>2017-01-30 16:00:37</td>\n",
       "      <td>11</td>\n",
       "      <td>5</td>\n",
       "      <td>NaN</td>\n",
       "      <td>NaN</td>\n",
       "      <td>0</td>\n",
       "      <td>468.75</td>\n",
       "      <td>937.50</td>\n",
       "      <td>NaN</td>\n",
       "      <td>NaN</td>\n",
       "      <td>NaN</td>\n",
       "      <td>NaN</td>\n",
       "      <td>0.028351</td>\n",
       "      <td>0.028229</td>\n",
       "      <td>0.027954</td>\n",
       "    </tr>\n",
       "    <tr>\n",
       "      <th>205193</th>\n",
       "      <td>F161219_110844_226_G_050</td>\n",
       "      <td>/home/yannis/data/insects/Potamitis/Wingbeats/...</td>\n",
       "      <td>Culex</td>\n",
       "      <td>C. quinquefasciatus</td>\n",
       "      <td>2016-12-19 11:08:26</td>\n",
       "      <td>11</td>\n",
       "      <td>5</td>\n",
       "      <td>NaN</td>\n",
       "      <td>NaN</td>\n",
       "      <td>1</td>\n",
       "      <td>468.75</td>\n",
       "      <td>937.50</td>\n",
       "      <td>1375.00</td>\n",
       "      <td>NaN</td>\n",
       "      <td>NaN</td>\n",
       "      <td>NaN</td>\n",
       "      <td>0.061279</td>\n",
       "      <td>0.060516</td>\n",
       "      <td>0.060425</td>\n",
       "    </tr>\n",
       "    <tr>\n",
       "      <th>170491</th>\n",
       "      <td>F170123_112241_197_G_050</td>\n",
       "      <td>/home/yannis/data/insects/Potamitis/Wingbeats/...</td>\n",
       "      <td>Anopheles</td>\n",
       "      <td>An. gambiae</td>\n",
       "      <td>2017-01-23 11:22:27</td>\n",
       "      <td>11</td>\n",
       "      <td>5</td>\n",
       "      <td>NaN</td>\n",
       "      <td>NaN</td>\n",
       "      <td>0</td>\n",
       "      <td>843.75</td>\n",
       "      <td>NaN</td>\n",
       "      <td>NaN</td>\n",
       "      <td>NaN</td>\n",
       "      <td>NaN</td>\n",
       "      <td>NaN</td>\n",
       "      <td>0.038971</td>\n",
       "      <td>0.038635</td>\n",
       "      <td>0.038055</td>\n",
       "    </tr>\n",
       "    <tr>\n",
       "      <th>41314</th>\n",
       "      <td>F170209_195835_225_G_050</td>\n",
       "      <td>/home/yannis/data/insects/Potamitis/Wingbeats/...</td>\n",
       "      <td>Aedes</td>\n",
       "      <td>Ae. aegypti</td>\n",
       "      <td>2017-02-09 19:56:59</td>\n",
       "      <td>11</td>\n",
       "      <td>5</td>\n",
       "      <td>NaN</td>\n",
       "      <td>NaN</td>\n",
       "      <td>1</td>\n",
       "      <td>625.00</td>\n",
       "      <td>1218.75</td>\n",
       "      <td>1843.75</td>\n",
       "      <td>NaN</td>\n",
       "      <td>NaN</td>\n",
       "      <td>NaN</td>\n",
       "      <td>0.025787</td>\n",
       "      <td>0.024841</td>\n",
       "      <td>0.024658</td>\n",
       "    </tr>\n",
       "    <tr>\n",
       "      <th>38634</th>\n",
       "      <td>F170209_172803_099_G_050</td>\n",
       "      <td>/home/yannis/data/insects/Potamitis/Wingbeats/...</td>\n",
       "      <td>Aedes</td>\n",
       "      <td>Ae. aegypti</td>\n",
       "      <td>2017-02-09 17:25:50</td>\n",
       "      <td>11</td>\n",
       "      <td>5</td>\n",
       "      <td>NaN</td>\n",
       "      <td>NaN</td>\n",
       "      <td>1</td>\n",
       "      <td>593.75</td>\n",
       "      <td>1187.50</td>\n",
       "      <td>1781.25</td>\n",
       "      <td>NaN</td>\n",
       "      <td>NaN</td>\n",
       "      <td>NaN</td>\n",
       "      <td>0.031067</td>\n",
       "      <td>0.030609</td>\n",
       "      <td>0.030609</td>\n",
       "    </tr>\n",
       "    <tr>\n",
       "      <th>216436</th>\n",
       "      <td>F161219_151022_205_G_050</td>\n",
       "      <td>/home/yannis/data/insects/Potamitis/Wingbeats/...</td>\n",
       "      <td>Culex</td>\n",
       "      <td>C. quinquefasciatus</td>\n",
       "      <td>2016-12-19 15:08:42</td>\n",
       "      <td>11</td>\n",
       "      <td>5</td>\n",
       "      <td>NaN</td>\n",
       "      <td>NaN</td>\n",
       "      <td>1</td>\n",
       "      <td>468.75</td>\n",
       "      <td>968.75</td>\n",
       "      <td>NaN</td>\n",
       "      <td>NaN</td>\n",
       "      <td>NaN</td>\n",
       "      <td>NaN</td>\n",
       "      <td>0.025543</td>\n",
       "      <td>0.024475</td>\n",
       "      <td>0.024323</td>\n",
       "    </tr>\n",
       "    <tr>\n",
       "      <th>210313</th>\n",
       "      <td>F161219_123448_226_G_050</td>\n",
       "      <td>/home/yannis/data/insects/Potamitis/Wingbeats/...</td>\n",
       "      <td>Culex</td>\n",
       "      <td>C. quinquefasciatus</td>\n",
       "      <td>2016-12-19 12:33:36</td>\n",
       "      <td>11</td>\n",
       "      <td>5</td>\n",
       "      <td>NaN</td>\n",
       "      <td>NaN</td>\n",
       "      <td>1</td>\n",
       "      <td>437.50</td>\n",
       "      <td>906.25</td>\n",
       "      <td>1343.75</td>\n",
       "      <td>1781.25</td>\n",
       "      <td>NaN</td>\n",
       "      <td>NaN</td>\n",
       "      <td>0.052612</td>\n",
       "      <td>0.052429</td>\n",
       "      <td>0.052094</td>\n",
       "    </tr>\n",
       "    <tr>\n",
       "      <th>111999</th>\n",
       "      <td>F170202_203025_101_G_050</td>\n",
       "      <td>/home/yannis/data/insects/Potamitis/Wingbeats/...</td>\n",
       "      <td>Anopheles</td>\n",
       "      <td>An. arabiensis</td>\n",
       "      <td>2017-02-02 20:20:06</td>\n",
       "      <td>11</td>\n",
       "      <td>5</td>\n",
       "      <td>NaN</td>\n",
       "      <td>NaN</td>\n",
       "      <td>0</td>\n",
       "      <td>750.00</td>\n",
       "      <td>1500.00</td>\n",
       "      <td>NaN</td>\n",
       "      <td>NaN</td>\n",
       "      <td>NaN</td>\n",
       "      <td>NaN</td>\n",
       "      <td>0.026642</td>\n",
       "      <td>0.025757</td>\n",
       "      <td>0.025513</td>\n",
       "    </tr>\n",
       "    <tr>\n",
       "      <th>207814</th>\n",
       "      <td>F161219_114545_031_G_050</td>\n",
       "      <td>/home/yannis/data/insects/Potamitis/Wingbeats/...</td>\n",
       "      <td>Culex</td>\n",
       "      <td>C. quinquefasciatus</td>\n",
       "      <td>2016-12-19 11:44:53</td>\n",
       "      <td>11</td>\n",
       "      <td>5</td>\n",
       "      <td>NaN</td>\n",
       "      <td>NaN</td>\n",
       "      <td>1</td>\n",
       "      <td>406.25</td>\n",
       "      <td>906.25</td>\n",
       "      <td>NaN</td>\n",
       "      <td>NaN</td>\n",
       "      <td>NaN</td>\n",
       "      <td>NaN</td>\n",
       "      <td>0.042847</td>\n",
       "      <td>0.042419</td>\n",
       "      <td>0.041779</td>\n",
       "    </tr>\n",
       "    <tr>\n",
       "      <th>120195</th>\n",
       "      <td>F170314_230148_234_G_050_T_25.9_H_75.1</td>\n",
       "      <td>/home/yannis/data/insects/Potamitis/Wingbeats/...</td>\n",
       "      <td>Anopheles</td>\n",
       "      <td>An. arabiensis</td>\n",
       "      <td>2017-03-14 23:00:27</td>\n",
       "      <td>11</td>\n",
       "      <td>9</td>\n",
       "      <td>75.1</td>\n",
       "      <td>25.9</td>\n",
       "      <td>0</td>\n",
       "      <td>843.75</td>\n",
       "      <td>1687.50</td>\n",
       "      <td>NaN</td>\n",
       "      <td>NaN</td>\n",
       "      <td>NaN</td>\n",
       "      <td>NaN</td>\n",
       "      <td>0.048981</td>\n",
       "      <td>0.047882</td>\n",
       "      <td>0.046997</td>\n",
       "    </tr>\n",
       "  </tbody>\n",
       "</table>\n",
       "</div>"
      ],
      "text/plain": [
       "                                         fname  \\\n",
       "105952                F170130_162038_168_G_050   \n",
       "205193                F161219_110844_226_G_050   \n",
       "170491                F170123_112241_197_G_050   \n",
       "41314                 F170209_195835_225_G_050   \n",
       "38634                 F170209_172803_099_G_050   \n",
       "216436                F161219_151022_205_G_050   \n",
       "210313                F161219_123448_226_G_050   \n",
       "111999                F170202_203025_101_G_050   \n",
       "207814                F161219_114545_031_G_050   \n",
       "120195  F170314_230148_234_G_050_T_25.9_H_75.1   \n",
       "\n",
       "                                                    names      class  \\\n",
       "105952  /home/yannis/data/insects/Potamitis/Wingbeats/...  Anopheles   \n",
       "205193  /home/yannis/data/insects/Potamitis/Wingbeats/...      Culex   \n",
       "170491  /home/yannis/data/insects/Potamitis/Wingbeats/...  Anopheles   \n",
       "41314   /home/yannis/data/insects/Potamitis/Wingbeats/...      Aedes   \n",
       "38634   /home/yannis/data/insects/Potamitis/Wingbeats/...      Aedes   \n",
       "216436  /home/yannis/data/insects/Potamitis/Wingbeats/...      Culex   \n",
       "210313  /home/yannis/data/insects/Potamitis/Wingbeats/...      Culex   \n",
       "111999  /home/yannis/data/insects/Potamitis/Wingbeats/...  Anopheles   \n",
       "207814  /home/yannis/data/insects/Potamitis/Wingbeats/...      Culex   \n",
       "120195  /home/yannis/data/insects/Potamitis/Wingbeats/...  Anopheles   \n",
       "\n",
       "                   subclass                 date  path_len  fname_len  \\\n",
       "105952       An. arabiensis  2017-01-30 16:00:37        11          5   \n",
       "205193  C. quinquefasciatus  2016-12-19 11:08:26        11          5   \n",
       "170491          An. gambiae  2017-01-23 11:22:27        11          5   \n",
       "41314           Ae. aegypti  2017-02-09 19:56:59        11          5   \n",
       "38634           Ae. aegypti  2017-02-09 17:25:50        11          5   \n",
       "216436  C. quinquefasciatus  2016-12-19 15:08:42        11          5   \n",
       "210313  C. quinquefasciatus  2016-12-19 12:33:36        11          5   \n",
       "111999       An. arabiensis  2017-02-02 20:20:06        11          5   \n",
       "207814  C. quinquefasciatus  2016-12-19 11:44:53        11          5   \n",
       "120195       An. arabiensis  2017-03-14 23:00:27        11          9   \n",
       "\n",
       "        humidity  temperature  evaluation       0        1        2        3  \\\n",
       "105952       NaN          NaN           0  468.75   937.50      NaN      NaN   \n",
       "205193       NaN          NaN           1  468.75   937.50  1375.00      NaN   \n",
       "170491       NaN          NaN           0  843.75      NaN      NaN      NaN   \n",
       "41314        NaN          NaN           1  625.00  1218.75  1843.75      NaN   \n",
       "38634        NaN          NaN           1  593.75  1187.50  1781.25      NaN   \n",
       "216436       NaN          NaN           1  468.75   968.75      NaN      NaN   \n",
       "210313       NaN          NaN           1  437.50   906.25  1343.75  1781.25   \n",
       "111999       NaN          NaN           0  750.00  1500.00      NaN      NaN   \n",
       "207814       NaN          NaN           1  406.25   906.25      NaN      NaN   \n",
       "120195      75.1         25.9           0  843.75  1687.50      NaN      NaN   \n",
       "\n",
       "         4   5    ampl_1    ampl_2    ampl_3  \n",
       "105952 NaN NaN  0.028351  0.028229  0.027954  \n",
       "205193 NaN NaN  0.061279  0.060516  0.060425  \n",
       "170491 NaN NaN  0.038971  0.038635  0.038055  \n",
       "41314  NaN NaN  0.025787  0.024841  0.024658  \n",
       "38634  NaN NaN  0.031067  0.030609  0.030609  \n",
       "216436 NaN NaN  0.025543  0.024475  0.024323  \n",
       "210313 NaN NaN  0.052612  0.052429  0.052094  \n",
       "111999 NaN NaN  0.026642  0.025757  0.025513  \n",
       "207814 NaN NaN  0.042847  0.042419  0.041779  \n",
       "120195 NaN NaN  0.048981  0.047882  0.046997  "
      ]
     },
     "execution_count": 29,
     "metadata": {},
     "output_type": "execute_result"
    }
   ],
   "source": [
    "df = pd.read_csv('./data/mosquitos.csv', delimiter=';')\n",
    "df.drop(['Unnamed: 0', 'Unnamed: 0.1'], axis=1, inplace=True)\n",
    "df.sample(10)"
   ]
  },
  {
   "cell_type": "markdown",
   "metadata": {},
   "source": [
    "### Examine Individual Signals"
   ]
  },
  {
   "cell_type": "code",
   "execution_count": 25,
   "metadata": {},
   "outputs": [
    {
     "data": {
      "image/png": "[encoded data removed]",
      "text/plain": [
       "<Figure size 1728x360 with 1 Axes>"
      ]
     },
     "metadata": {},
     "output_type": "display_data"
    }
   ],
   "source": [
    "## EXAMINE SIGNAL\n",
    "all_signal_names = df.set_index('fname').names.tolist()\n",
    "#signal_name = 'F170214_214608_012_G_050_T_25.9_H_62.8' ##\n",
    "signal_name = random.choice(all_signal_names).split('/')[-1][:-4]\n",
    "path_name = [df.set_index('fname').loc[signal_name].names]\n",
    "signal = read_simple(path_name)[0]\n",
    "plt.figure(figsize=(24,5))\n",
    "plt.subplot(1,2,1);plt.plot(signal);\n",
    "#signal = butter_bandpass_filter(signal, 75., 1000., 8000., order=4)\n",
    "#plt.subplot(1,2,2);plt.plot(signal);"
   ]
  },
  {
   "cell_type": "markdown",
   "metadata": {},
   "source": [
    "## Frequencies Histograms"
   ]
  },
  {
   "cell_type": "code",
   "execution_count": 26,
   "metadata": {},
   "outputs": [
    {
     "data": {
      "text/plain": [
       "<matplotlib.axes._subplots.AxesSubplot at 0x7fe2f2b9e320>"
      ]
     },
     "execution_count": 26,
     "metadata": {},
     "output_type": "execute_result"
    },
    {
     "data": {
      "image/png": "[encoded data removed]",
      "text/plain": [
       "<Figure size 1728x360 with 3 Axes>"
      ]
     },
     "metadata": {},
     "output_type": "display_data"
    }
   ],
   "source": [
    "nr_bins = 50\n",
    "plt.figure(figsize=(24,5))\n",
    "plt.subplot(1,3,1)\n",
    "plt.title('freq_1')\n",
    "df['0'].hist(bins=nr_bins)\n",
    "plt.subplot(1,3,2)\n",
    "plt.title('freq_2')\n",
    "df['1'].hist(bins=nr_bins)\n",
    "plt.subplot(1,3,3)\n",
    "plt.title('freq_3')\n",
    "df['2'].hist(bins=nr_bins)"
   ]
  },
  {
   "cell_type": "markdown",
   "metadata": {},
   "source": [
    "## Amplitudes Histograms"
   ]
  },
  {
   "cell_type": "code",
   "execution_count": 27,
   "metadata": {},
   "outputs": [
    {
     "data": {
      "text/plain": [
       "<matplotlib.axes._subplots.AxesSubplot at 0x7fe30e0204a8>"
      ]
     },
     "execution_count": 27,
     "metadata": {},
     "output_type": "execute_result"
    },
    {
     "data": {
      "image/png": "[encoded data removed]",
      "text/plain": [
       "<Figure size 1728x360 with 3 Axes>"
      ]
     },
     "metadata": {},
     "output_type": "display_data"
    }
   ],
   "source": [
    "nr_bins = 100\n",
    "plt.figure(figsize=(24,5))\n",
    "plt.subplot(1,3,1)\n",
    "df['ampl_1'].hist(bins=nr_bins)\n",
    "plt.subplot(1,3,2)\n",
    "df['ampl_2'].hist(bins=nr_bins)\n",
    "plt.subplot(1,3,3)\n",
    "df['ampl_3'].hist(bins=nr_bins)"
   ]
  },
  {
   "cell_type": "markdown",
   "metadata": {},
   "source": [
    "## Temperature"
   ]
  },
  {
   "cell_type": "code",
   "execution_count": 28,
   "metadata": {},
   "outputs": [
    {
     "name": "stdout",
     "output_type": "stream",
     "text": [
      "Percentage of NaNs: 81.33%\n"
     ]
    },
    {
     "data": {
      "image/png": "[encoded data removed]",
      "text/plain": [
       "<Figure size 864x288 with 1 Axes>"
      ]
     },
     "metadata": {},
     "output_type": "display_data"
    }
   ],
   "source": [
    "plt.figure(figsize=(12,4))\n",
    "feature = 'temperature'\n",
    "df[feature].hist()\n",
    "print('Percentage of NaNs: {:.2f}%'.format(df[feature].isnull().sum() / df[feature].shape[0] * 100.))"
   ]
  },
  {
   "cell_type": "markdown",
   "metadata": {},
   "source": [
    "## Humidity"
   ]
  },
  {
   "cell_type": "code",
   "execution_count": 8,
   "metadata": {},
   "outputs": [
    {
     "name": "stdout",
     "output_type": "stream",
     "text": [
      "Percentage of NaNs: 81.33%\n"
     ]
    },
    {
     "data": {
      "image/png": "[encoded data removed]",
      "text/plain": [
       "<Figure size 864x288 with 1 Axes>"
      ]
     },
     "metadata": {
      "needs_background": "light"
     },
     "output_type": "display_data"
    }
   ],
   "source": [
    "plt.figure(figsize=(12,4))\n",
    "feature = 'humidity'\n",
    "df[feature].hist()\n",
    "print('Percentage of NaNs: {:.2f}%'.format(df[feature].isnull().sum() / df[feature].shape[0] * 100.))"
   ]
  },
  {
   "cell_type": "code",
   "execution_count": null,
   "metadata": {},
   "outputs": [],
   "source": []
  }
 ],
 "metadata": {
  "kernelspec": {
   "display_name": "Python 3",
   "language": "python",
   "name": "python3"
  },
  "language_info": {
   "codemirror_mode": {
    "name": "ipython",
    "version": 3
   },
   "file_extension": ".py",
   "mimetype": "text/x-python",
   "name": "python",
   "nbconvert_exporter": "python",
   "pygments_lexer": "ipython3",
   "version": "3.6.7"
  }
 },
 "nbformat": 4,
 "nbformat_minor": 2
}
