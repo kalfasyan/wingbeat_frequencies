{
 "cells": [
  {
   "cell_type": "code",
   "execution_count": 1,
   "metadata": {},
   "outputs": [],
   "source": [
    "import pandas as pd\n",
    "from wavhandler import *\n",
    "import matplotlib.pyplot as plt\n",
    "import seaborn as sns; sns.set()\n",
    "import logging\n",
    "logger = logging.getLogger()\n",
    "logger.setLevel(logging.WARN)\n",
    "\n",
    "plt.rcParams['figure.figsize'] = [14, 10]\n"
   ]
  },
  {
   "cell_type": "markdown",
   "metadata": {},
   "source": [
    "## Dataframe Overview"
   ]
  },
  {
   "cell_type": "code",
   "execution_count": 9,
   "metadata": {},
   "outputs": [
    {
     "data": {
      "text/html": [
       "<div>\n",
       "<style scoped>\n",
       "    .dataframe tbody tr th:only-of-type {\n",
       "        vertical-align: middle;\n",
       "    }\n",
       "\n",
       "    .dataframe tbody tr th {\n",
       "        vertical-align: top;\n",
       "    }\n",
       "\n",
       "    .dataframe thead th {\n",
       "        text-align: right;\n",
       "    }\n",
       "</style>\n",
       "<table border=\"1\" class=\"dataframe\">\n",
       "  <thead>\n",
       "    <tr style=\"text-align: right;\">\n",
       "      <th></th>\n",
       "      <th>fname</th>\n",
       "      <th>names</th>\n",
       "      <th>class</th>\n",
       "      <th>subclass</th>\n",
       "      <th>date</th>\n",
       "      <th>path_len</th>\n",
       "      <th>fname_len</th>\n",
       "      <th>humidity</th>\n",
       "      <th>temperature</th>\n",
       "      <th>evaluation</th>\n",
       "      <th>0</th>\n",
       "      <th>1</th>\n",
       "      <th>2</th>\n",
       "      <th>3</th>\n",
       "      <th>4</th>\n",
       "      <th>5</th>\n",
       "      <th>ampl_1</th>\n",
       "      <th>ampl_2</th>\n",
       "      <th>ampl_3</th>\n",
       "    </tr>\n",
       "  </thead>\n",
       "  <tbody>\n",
       "    <tr>\n",
       "      <th>245322</th>\n",
       "      <td>F161220_031018_164_G_050</td>\n",
       "      <td>/home/yannis/data/insects/Potamitis/Wingbeats/...</td>\n",
       "      <td>Culex</td>\n",
       "      <td>C. quinquefasciatus</td>\n",
       "      <td>2016-12-20 03:08:37</td>\n",
       "      <td>11</td>\n",
       "      <td>5</td>\n",
       "      <td>NaN</td>\n",
       "      <td>NaN</td>\n",
       "      <td>0</td>\n",
       "      <td>781.25</td>\n",
       "      <td>NaN</td>\n",
       "      <td>NaN</td>\n",
       "      <td>NaN</td>\n",
       "      <td>NaN</td>\n",
       "      <td>NaN</td>\n",
       "      <td>0.026306</td>\n",
       "      <td>0.026001</td>\n",
       "      <td>0.025909</td>\n",
       "    </tr>\n",
       "    <tr>\n",
       "      <th>265668</th>\n",
       "      <td>F161220_170106_030_G_050</td>\n",
       "      <td>/home/yannis/data/insects/Potamitis/Wingbeats/...</td>\n",
       "      <td>Culex</td>\n",
       "      <td>C. quinquefasciatus</td>\n",
       "      <td>2016-12-20 17:01:02</td>\n",
       "      <td>11</td>\n",
       "      <td>5</td>\n",
       "      <td>NaN</td>\n",
       "      <td>NaN</td>\n",
       "      <td>1</td>\n",
       "      <td>468.75</td>\n",
       "      <td>968.75</td>\n",
       "      <td>1437.5</td>\n",
       "      <td>NaN</td>\n",
       "      <td>NaN</td>\n",
       "      <td>NaN</td>\n",
       "      <td>0.036774</td>\n",
       "      <td>0.036133</td>\n",
       "      <td>0.035889</td>\n",
       "    </tr>\n",
       "    <tr>\n",
       "      <th>168774</th>\n",
       "      <td>F170122_215656_016_G_050</td>\n",
       "      <td>/home/yannis/data/insects/Potamitis/Wingbeats/...</td>\n",
       "      <td>Anopheles</td>\n",
       "      <td>An. gambiae</td>\n",
       "      <td>2017-01-22 21:15:24</td>\n",
       "      <td>11</td>\n",
       "      <td>5</td>\n",
       "      <td>NaN</td>\n",
       "      <td>NaN</td>\n",
       "      <td>0</td>\n",
       "      <td>NaN</td>\n",
       "      <td>NaN</td>\n",
       "      <td>NaN</td>\n",
       "      <td>NaN</td>\n",
       "      <td>NaN</td>\n",
       "      <td>NaN</td>\n",
       "      <td>0.030884</td>\n",
       "      <td>0.030579</td>\n",
       "      <td>0.030457</td>\n",
       "    </tr>\n",
       "    <tr>\n",
       "      <th>277530</th>\n",
       "      <td>F161220_222804_116_G_050</td>\n",
       "      <td>/home/yannis/data/insects/Potamitis/Wingbeats/...</td>\n",
       "      <td>Culex</td>\n",
       "      <td>C. quinquefasciatus</td>\n",
       "      <td>2016-12-20 22:26:13</td>\n",
       "      <td>11</td>\n",
       "      <td>5</td>\n",
       "      <td>NaN</td>\n",
       "      <td>NaN</td>\n",
       "      <td>1</td>\n",
       "      <td>406.25</td>\n",
       "      <td>843.75</td>\n",
       "      <td>NaN</td>\n",
       "      <td>NaN</td>\n",
       "      <td>NaN</td>\n",
       "      <td>NaN</td>\n",
       "      <td>0.032471</td>\n",
       "      <td>0.032257</td>\n",
       "      <td>0.032135</td>\n",
       "    </tr>\n",
       "    <tr>\n",
       "      <th>220720</th>\n",
       "      <td>F161219_165228_137_G_050</td>\n",
       "      <td>/home/yannis/data/insects/Potamitis/Wingbeats/...</td>\n",
       "      <td>Culex</td>\n",
       "      <td>C. quinquefasciatus</td>\n",
       "      <td>2016-12-19 16:51:15</td>\n",
       "      <td>11</td>\n",
       "      <td>5</td>\n",
       "      <td>NaN</td>\n",
       "      <td>NaN</td>\n",
       "      <td>1</td>\n",
       "      <td>437.50</td>\n",
       "      <td>875.00</td>\n",
       "      <td>NaN</td>\n",
       "      <td>NaN</td>\n",
       "      <td>NaN</td>\n",
       "      <td>NaN</td>\n",
       "      <td>0.027435</td>\n",
       "      <td>0.026917</td>\n",
       "      <td>0.026642</td>\n",
       "    </tr>\n",
       "    <tr>\n",
       "      <th>70780</th>\n",
       "      <td>F170211_200847_037_G_050</td>\n",
       "      <td>/home/yannis/data/insects/Potamitis/Wingbeats/...</td>\n",
       "      <td>Aedes</td>\n",
       "      <td>Ae. aegypti</td>\n",
       "      <td>2017-02-11 20:06:05</td>\n",
       "      <td>11</td>\n",
       "      <td>5</td>\n",
       "      <td>NaN</td>\n",
       "      <td>NaN</td>\n",
       "      <td>1</td>\n",
       "      <td>593.75</td>\n",
       "      <td>1156.25</td>\n",
       "      <td>1750.0</td>\n",
       "      <td>NaN</td>\n",
       "      <td>NaN</td>\n",
       "      <td>NaN</td>\n",
       "      <td>0.041809</td>\n",
       "      <td>0.040955</td>\n",
       "      <td>0.040009</td>\n",
       "    </tr>\n",
       "    <tr>\n",
       "      <th>10136</th>\n",
       "      <td>F170207_133644_187_G_050</td>\n",
       "      <td>/home/yannis/data/insects/Potamitis/Wingbeats/...</td>\n",
       "      <td>Aedes</td>\n",
       "      <td>Ae. aegypti</td>\n",
       "      <td>2017-02-07 13:36:14</td>\n",
       "      <td>11</td>\n",
       "      <td>5</td>\n",
       "      <td>NaN</td>\n",
       "      <td>NaN</td>\n",
       "      <td>0</td>\n",
       "      <td>593.75</td>\n",
       "      <td>1187.50</td>\n",
       "      <td>NaN</td>\n",
       "      <td>NaN</td>\n",
       "      <td>NaN</td>\n",
       "      <td>NaN</td>\n",
       "      <td>0.021515</td>\n",
       "      <td>0.020996</td>\n",
       "      <td>0.020386</td>\n",
       "    </tr>\n",
       "    <tr>\n",
       "      <th>241923</th>\n",
       "      <td>F161220_012102_092_G_050</td>\n",
       "      <td>/home/yannis/data/insects/Potamitis/Wingbeats/...</td>\n",
       "      <td>Culex</td>\n",
       "      <td>C. quinquefasciatus</td>\n",
       "      <td>2016-12-20 01:19:21</td>\n",
       "      <td>11</td>\n",
       "      <td>5</td>\n",
       "      <td>NaN</td>\n",
       "      <td>NaN</td>\n",
       "      <td>0</td>\n",
       "      <td>NaN</td>\n",
       "      <td>NaN</td>\n",
       "      <td>NaN</td>\n",
       "      <td>NaN</td>\n",
       "      <td>NaN</td>\n",
       "      <td>NaN</td>\n",
       "      <td>0.082611</td>\n",
       "      <td>0.081329</td>\n",
       "      <td>0.080658</td>\n",
       "    </tr>\n",
       "    <tr>\n",
       "      <th>56133</th>\n",
       "      <td>F170210_190037_199_G_050</td>\n",
       "      <td>/home/yannis/data/insects/Potamitis/Wingbeats/...</td>\n",
       "      <td>Aedes</td>\n",
       "      <td>Ae. aegypti</td>\n",
       "      <td>2017-02-10 18:57:06</td>\n",
       "      <td>11</td>\n",
       "      <td>5</td>\n",
       "      <td>NaN</td>\n",
       "      <td>NaN</td>\n",
       "      <td>1</td>\n",
       "      <td>468.75</td>\n",
       "      <td>968.75</td>\n",
       "      <td>1437.5</td>\n",
       "      <td>1937.5</td>\n",
       "      <td>NaN</td>\n",
       "      <td>NaN</td>\n",
       "      <td>0.024689</td>\n",
       "      <td>0.023926</td>\n",
       "      <td>0.023834</td>\n",
       "    </tr>\n",
       "    <tr>\n",
       "      <th>59340</th>\n",
       "      <td>F170210_215626_078_G_050</td>\n",
       "      <td>/home/yannis/data/insects/Potamitis/Wingbeats/...</td>\n",
       "      <td>Aedes</td>\n",
       "      <td>Ae. aegypti</td>\n",
       "      <td>2017-02-10 21:53:22</td>\n",
       "      <td>11</td>\n",
       "      <td>5</td>\n",
       "      <td>NaN</td>\n",
       "      <td>NaN</td>\n",
       "      <td>1</td>\n",
       "      <td>437.50</td>\n",
       "      <td>906.25</td>\n",
       "      <td>1312.5</td>\n",
       "      <td>1750.0</td>\n",
       "      <td>2187.5</td>\n",
       "      <td>NaN</td>\n",
       "      <td>0.063354</td>\n",
       "      <td>0.063293</td>\n",
       "      <td>0.062866</td>\n",
       "    </tr>\n",
       "  </tbody>\n",
       "</table>\n",
       "</div>"
      ],
      "text/plain": [
       "                           fname  \\\n",
       "245322  F161220_031018_164_G_050   \n",
       "265668  F161220_170106_030_G_050   \n",
       "168774  F170122_215656_016_G_050   \n",
       "277530  F161220_222804_116_G_050   \n",
       "220720  F161219_165228_137_G_050   \n",
       "70780   F170211_200847_037_G_050   \n",
       "10136   F170207_133644_187_G_050   \n",
       "241923  F161220_012102_092_G_050   \n",
       "56133   F170210_190037_199_G_050   \n",
       "59340   F170210_215626_078_G_050   \n",
       "\n",
       "                                                    names      class  \\\n",
       "245322  /home/yannis/data/insects/Potamitis/Wingbeats/...      Culex   \n",
       "265668  /home/yannis/data/insects/Potamitis/Wingbeats/...      Culex   \n",
       "168774  /home/yannis/data/insects/Potamitis/Wingbeats/...  Anopheles   \n",
       "277530  /home/yannis/data/insects/Potamitis/Wingbeats/...      Culex   \n",
       "220720  /home/yannis/data/insects/Potamitis/Wingbeats/...      Culex   \n",
       "70780   /home/yannis/data/insects/Potamitis/Wingbeats/...      Aedes   \n",
       "10136   /home/yannis/data/insects/Potamitis/Wingbeats/...      Aedes   \n",
       "241923  /home/yannis/data/insects/Potamitis/Wingbeats/...      Culex   \n",
       "56133   /home/yannis/data/insects/Potamitis/Wingbeats/...      Aedes   \n",
       "59340   /home/yannis/data/insects/Potamitis/Wingbeats/...      Aedes   \n",
       "\n",
       "                   subclass                 date  path_len  fname_len  \\\n",
       "245322  C. quinquefasciatus  2016-12-20 03:08:37        11          5   \n",
       "265668  C. quinquefasciatus  2016-12-20 17:01:02        11          5   \n",
       "168774          An. gambiae  2017-01-22 21:15:24        11          5   \n",
       "277530  C. quinquefasciatus  2016-12-20 22:26:13        11          5   \n",
       "220720  C. quinquefasciatus  2016-12-19 16:51:15        11          5   \n",
       "70780           Ae. aegypti  2017-02-11 20:06:05        11          5   \n",
       "10136           Ae. aegypti  2017-02-07 13:36:14        11          5   \n",
       "241923  C. quinquefasciatus  2016-12-20 01:19:21        11          5   \n",
       "56133           Ae. aegypti  2017-02-10 18:57:06        11          5   \n",
       "59340           Ae. aegypti  2017-02-10 21:53:22        11          5   \n",
       "\n",
       "        humidity  temperature  evaluation       0        1       2       3  \\\n",
       "245322       NaN          NaN           0  781.25      NaN     NaN     NaN   \n",
       "265668       NaN          NaN           1  468.75   968.75  1437.5     NaN   \n",
       "168774       NaN          NaN           0     NaN      NaN     NaN     NaN   \n",
       "277530       NaN          NaN           1  406.25   843.75     NaN     NaN   \n",
       "220720       NaN          NaN           1  437.50   875.00     NaN     NaN   \n",
       "70780        NaN          NaN           1  593.75  1156.25  1750.0     NaN   \n",
       "10136        NaN          NaN           0  593.75  1187.50     NaN     NaN   \n",
       "241923       NaN          NaN           0     NaN      NaN     NaN     NaN   \n",
       "56133        NaN          NaN           1  468.75   968.75  1437.5  1937.5   \n",
       "59340        NaN          NaN           1  437.50   906.25  1312.5  1750.0   \n",
       "\n",
       "             4   5    ampl_1    ampl_2    ampl_3  \n",
       "245322     NaN NaN  0.026306  0.026001  0.025909  \n",
       "265668     NaN NaN  0.036774  0.036133  0.035889  \n",
       "168774     NaN NaN  0.030884  0.030579  0.030457  \n",
       "277530     NaN NaN  0.032471  0.032257  0.032135  \n",
       "220720     NaN NaN  0.027435  0.026917  0.026642  \n",
       "70780      NaN NaN  0.041809  0.040955  0.040009  \n",
       "10136      NaN NaN  0.021515  0.020996  0.020386  \n",
       "241923     NaN NaN  0.082611  0.081329  0.080658  \n",
       "56133      NaN NaN  0.024689  0.023926  0.023834  \n",
       "59340   2187.5 NaN  0.063354  0.063293  0.062866  "
      ]
     },
     "execution_count": 9,
     "metadata": {},
     "output_type": "execute_result"
    }
   ],
   "source": [
    "df = pd.read_csv('./data/mosquitos.csv', delimiter=';')\n",
    "df.drop(['Unnamed: 0', 'Unnamed: 0.1'], axis=1, inplace=True)\n",
    "df.sample(10)"
   ]
  },
  {
   "cell_type": "markdown",
   "metadata": {},
   "source": [
    "### Examine Individual Signals"
   ]
  },
  {
   "cell_type": "code",
   "execution_count": 4,
   "metadata": {},
   "outputs": [
    {
     "data": {
      "text/plain": [
       "[<matplotlib.lines.Line2D at 0x7f43930fb710>]"
      ]
     },
     "execution_count": 4,
     "metadata": {},
     "output_type": "execute_result"
    },
    {
     "data": {
      "image/png": "[encoded data removed]",
      "text/plain": [
       "<Figure size 432x288 with 1 Axes>"
      ]
     },
     "metadata": {
      "needs_background": "light"
     },
     "output_type": "display_data"
    }
   ],
   "source": [
    "## EXAMINE SIGNAL\n",
    "all_signal_names = df.set_index('fname').names.tolist()\n",
    "signal_name = 'F170214_214608_012_G_050_T_25.9_H_62.8' ##\n",
    "#signal_name = random.choice(all_signal_names).split('/')[-1][:-4]\n",
    "path_name = [df.set_index('fname').loc[signal_name].names]\n",
    "signal = read_simple(path_name)[0]\n",
    "#signal = butter_bandpass_filter(signal, L_CUTOFF, H_CUTOFF, F_S, order=B_ORDER)\n",
    "plt.plot(signal)"
   ]
  },
  {
   "cell_type": "markdown",
   "metadata": {},
   "source": [
    "## Frequencies Histograms"
   ]
  },
  {
   "cell_type": "code",
   "execution_count": 5,
   "metadata": {},
   "outputs": [
    {
     "data": {
      "text/plain": [
       "<matplotlib.axes._subplots.AxesSubplot at 0x7f4375236400>"
      ]
     },
     "execution_count": 5,
     "metadata": {},
     "output_type": "execute_result"
    },
    {
     "data": {
      "image/png": "[encoded data removed]",
      "text/plain": [
       "<Figure size 1728x360 with 3 Axes>"
      ]
     },
     "metadata": {
      "needs_background": "light"
     },
     "output_type": "display_data"
    }
   ],
   "source": [
    "nr_bins = 50\n",
    "plt.figure(figsize=(24,5))\n",
    "plt.subplot(1,3,1)\n",
    "plt.title('freq_1')\n",
    "df['0'].hist(bins=nr_bins)\n",
    "plt.subplot(1,3,2)\n",
    "plt.title('freq_2')\n",
    "df['1'].hist(bins=nr_bins)\n",
    "plt.subplot(1,3,3)\n",
    "plt.title('freq_3')\n",
    "df['2'].hist(bins=nr_bins)"
   ]
  },
  {
   "cell_type": "markdown",
   "metadata": {},
   "source": [
    "## Amplitudes Histograms"
   ]
  },
  {
   "cell_type": "code",
   "execution_count": 6,
   "metadata": {},
   "outputs": [
    {
     "data": {
      "text/plain": [
       "<matplotlib.axes._subplots.AxesSubplot at 0x7f435703d6a0>"
      ]
     },
     "execution_count": 6,
     "metadata": {},
     "output_type": "execute_result"
    },
    {
     "data": {
      "image/png": "[encoded data removed]",
      "text/plain": [
       "<Figure size 1728x360 with 3 Axes>"
      ]
     },
     "metadata": {
      "needs_background": "light"
     },
     "output_type": "display_data"
    }
   ],
   "source": [
    "nr_bins = 100\n",
    "plt.figure(figsize=(24,5))\n",
    "plt.subplot(1,3,1)\n",
    "df['ampl_1'].hist(bins=nr_bins)\n",
    "plt.subplot(1,3,2)\n",
    "df['ampl_2'].hist(bins=nr_bins)\n",
    "plt.subplot(1,3,3)\n",
    "df['ampl_3'].hist(bins=nr_bins)"
   ]
  },
  {
   "cell_type": "markdown",
   "metadata": {},
   "source": [
    "## Temperature"
   ]
  },
  {
   "cell_type": "code",
   "execution_count": 7,
   "metadata": {},
   "outputs": [
    {
     "name": "stdout",
     "output_type": "stream",
     "text": [
      "Percentage of NaNs: 81.33%\n"
     ]
    },
    {
     "data": {
      "image/png": "[encoded data removed]",
      "text/plain": [
       "<Figure size 864x288 with 1 Axes>"
      ]
     },
     "metadata": {
      "needs_background": "light"
     },
     "output_type": "display_data"
    }
   ],
   "source": [
    "plt.figure(figsize=(12,4))\n",
    "feature = 'temperature'\n",
    "df[feature].hist()\n",
    "print('Percentage of NaNs: {:.2f}%'.format(df[feature].isnull().sum() / df[feature].shape[0] * 100.))"
   ]
  },
  {
   "cell_type": "markdown",
   "metadata": {},
   "source": [
    "## Humidity"
   ]
  },
  {
   "cell_type": "code",
   "execution_count": 8,
   "metadata": {},
   "outputs": [
    {
     "name": "stdout",
     "output_type": "stream",
     "text": [
      "Percentage of NaNs: 81.33%\n"
     ]
    },
    {
     "data": {
      "image/png": "[encoded data removed]",
      "text/plain": [
       "<Figure size 864x288 with 1 Axes>"
      ]
     },
     "metadata": {
      "needs_background": "light"
     },
     "output_type": "display_data"
    }
   ],
   "source": [
    "plt.figure(figsize=(12,4))\n",
    "feature = 'humidity'\n",
    "df[feature].hist()\n",
    "print('Percentage of NaNs: {:.2f}%'.format(df[feature].isnull().sum() / df[feature].shape[0] * 100.))"
   ]
  },
  {
   "cell_type": "code",
   "execution_count": null,
   "metadata": {},
   "outputs": [],
   "source": []
  }
 ],
 "metadata": {
  "kernelspec": {
   "display_name": "Python 3",
   "language": "python",
   "name": "python3"
  },
  "language_info": {
   "codemirror_mode": {
    "name": "ipython",
    "version": 3
   },
   "file_extension": ".py",
   "mimetype": "text/x-python",
   "name": "python",
   "nbconvert_exporter": "python",
   "pygments_lexer": "ipython3",
   "version": "3.6.7"
  }
 },
 "nbformat": 4,
 "nbformat_minor": 2
}
