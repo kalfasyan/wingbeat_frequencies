{
 "cells": [
  {
   "cell_type": "code",
   "execution_count": 1,
   "metadata": {},
   "outputs": [
    {
     "name": "stderr",
     "output_type": "stream",
     "text": [
      "ERROR:root:Invalid alias: The name clear can't be aliased because it is another magic command.\n",
      "ERROR:root:Invalid alias: The name more can't be aliased because it is another magic command.\n",
      "ERROR:root:Invalid alias: The name less can't be aliased because it is another magic command.\n",
      "ERROR:root:Invalid alias: The name man can't be aliased because it is another magic command.\n",
      "Using TensorFlow backend.\n"
     ]
    },
    {
     "name": "stdout",
     "output_type": "stream",
     "text": [
      "Data: all.\n",
      "Read 279566 filenames in 1.03 seconds.\n"
     ]
    }
   ],
   "source": [
    "%reset -f\n",
    "import pandas as pd\n",
    "import numpy as np\n",
    "from wavhandler import *\n",
    "from utils_train import *\n",
    "\n",
    "data = Dataset('Wingbeats')\n",
    "data.read(data='all', setting='read', labels='text', loadmat=False)\n",
    "\n",
    "# data1 = Dataset('Leafminers')\n",
    "# data1.read(data=data1.target_classes[0], setting='read', loadmat=False, labels='text')\n",
    "\n",
    "# data2 = Dataset('LG')\n",
    "# data2.read(data=data2.target_classes[0], setting='read', loadmat=False, labels='text')\n",
    "\n",
    "# data3 = Dataset('LG')\n",
    "# data3.read(data=data3.target_classes[1], setting='read', loadmat=False, labels='text')\n",
    "\n",
    "# data4 = Dataset('Pcfruit')\n",
    "# data4.read(data=data4.target_classes[1], setting='read', loadmat=False, labels='text')\n",
    "\n",
    "# # data1.clean(plot=False)\n",
    "# # data2.clean(plot=False)\n",
    "# # data3.clean(plot=False)\n",
    "# # data4.clean(plot=False)\n",
    "\n",
    "# data = pd.DataFrame()\n",
    "# data['filenames'] = pd.concat([data1.filenames, data2.filenames, data3.filenames, data4.filenames], axis=0).reset_index(drop=True)\n",
    "# data['y'] = data.filenames.apply(lambda x: x.split('/')[6])\n",
    "\n",
    "X, y = data.filenames.tolist(), data.y.tolist()\n",
    "model_name='flies'\n",
    "setting='stft'"
   ]
  },
  {
   "cell_type": "code",
   "execution_count": 2,
   "metadata": {},
   "outputs": [],
   "source": [
    "seed = 2018\n",
    "np.random.seed(seed)\n",
    "import soundfile as sf\n",
    "from keras.applications.densenet import DenseNet121\n",
    "from sklearn.model_selection import train_test_split\n",
    "from sklearn.preprocessing import LabelEncoder\n",
    "from keras.layers import Input\n",
    "from keras.callbacks import ModelCheckpoint, EarlyStopping, ReduceLROnPlateau, CSVLogger\n",
    "\n",
    "current_model = DenseNet121\n",
    "\n",
    "y = LabelEncoder().fit_transform(y)\n",
    "# X = X_names#np.array(X_names).reshape(-1,1)\n",
    "\n",
    "X, y = shuffle(X, y, random_state=0) \n",
    "\n",
    "X_train, X_test, X_val, y_train, y_test, y_val = train_test_val_split(X,y, random_state=0)"
   ]
  },
  {
   "cell_type": "code",
   "execution_count": 3,
   "metadata": {},
   "outputs": [
    {
     "data": {
      "text/plain": [
       "27957"
      ]
     },
     "execution_count": 3,
     "metadata": {},
     "output_type": "execute_result"
    }
   ],
   "source": [
    "len(X_test)"
   ]
  },
  {
   "cell_type": "code",
   "execution_count": 4,
   "metadata": {},
   "outputs": [
    {
     "name": "stderr",
     "output_type": "stream",
     "text": [
      "/home/kalfasyan/miniconda3/envs/wingbeats/lib/python3.7/site-packages/keras/engine/saving.py:473: YAMLLoadWarning: calling yaml.load() without Loader=... is deprecated, as the default Loader is unsafe. Please read https://msg.pyyaml.org/load for full details.\n",
      "  config = yaml.load(yaml_string)\n",
      "WARNING:tensorflow:From /home/kalfasyan/miniconda3/envs/wingbeats/lib/python3.7/site-packages/tensorflow/python/framework/op_def_library.py:263: colocate_with (from tensorflow.python.framework.ops) is deprecated and will be removed in a future version.\n",
      "Instructions for updating:\n",
      "Colocations handled automatically by placer.\n"
     ]
    },
    {
     "name": "stdout",
     "output_type": "stream",
     "text": [
      "Loaded model from disk\n"
     ]
    }
   ],
   "source": [
    "from keras.models import model_from_yaml\n",
    "yaml_file = open('./temp_data/mosquitoes_buda_stft_wrapper.yaml', 'r')\n",
    "loaded_model_yaml = yaml_file.read()\n",
    "yaml_file.close()\n",
    "loaded_model = model_from_yaml(loaded_model_yaml)\n",
    "\n",
    "# load weights into new model\n",
    "loaded_model.load_weights(\"./temp_data/mosquitoes_buda_stft_wrapper.h5\")\n",
    "print(\"Loaded model from disk\")\n",
    "\n",
    "loaded_model.compile(loss='categorical_crossentropy',\n",
    "            optimizer='adam',\n",
    "            metrics=['accuracy'])"
   ]
  },
  {
   "cell_type": "code",
   "execution_count": 5,
   "metadata": {},
   "outputs": [],
   "source": [
    "y_pred = loaded_model.predict_generator(valid_generator(X_test, \n",
    "                                                    y_test, \n",
    "                                                    batch_size=32, \n",
    "                                                    setting=setting, \n",
    "                                                    target_names=data.y.unique().tolist()),\n",
    "        steps = int(math.ceil(float(len(X_test)) / float(32))))"
   ]
  },
  {
   "cell_type": "code",
   "execution_count": 6,
   "metadata": {},
   "outputs": [
    {
     "data": {
      "text/plain": [
       "0.9264530011837673"
      ]
     },
     "execution_count": 6,
     "metadata": {},
     "output_type": "execute_result"
    }
   ],
   "source": [
    "from sklearn.metrics import confusion_matrix,balanced_accuracy_score\n",
    "x = confusion_matrix(np.array(y_test), np.argmax(y_pred, axis=1))\n",
    "ac = balanced_accuracy_score(np.array(y_test), np.argmax(y_pred, axis=1))\n",
    "ac"
   ]
  },
  {
   "cell_type": "code",
   "execution_count": 12,
   "metadata": {},
   "outputs": [
    {
     "data": {
      "text/plain": [
       "<matplotlib.axes._subplots.AxesSubplot at 0x7f5740d7fcf8>"
      ]
     },
     "execution_count": 12,
     "metadata": {},
     "output_type": "execute_result"
    },
    {
     "data": {
      "image/png": "[encoded data removed]",
      "text/plain": [
       "<Figure size 1152x864 with 2 Axes>"
      ]
     },
     "metadata": {},
     "output_type": "display_data"
    }
   ],
   "source": [
    "from sklearn.metrics import confusion_matrix\n",
    "x = confusion_matrix(np.array(y_test), np.argmax(y_pred, axis=1))\n",
    "import seaborn as sns\n",
    "sns.set()\n",
    "import matplotlib.pyplot as plt\n",
    "\n",
    "plt.figure(figsize=(16,12))\n",
    "sns.set(font_scale=1.2)\n",
    "ticks = ['C. Leafm.', 'Suzukii','Melanogaster','Zaprionus']\n",
    "sns.heatmap(x, annot=True, fmt='.0f', xticklabels=ticks, yticklabels=ticks)"
   ]
  },
  {
   "cell_type": "code",
   "execution_count": null,
   "metadata": {},
   "outputs": [],
   "source": []
  }
 ],
 "metadata": {
  "kernelspec": {
   "display_name": "Python 3",
   "language": "python",
   "name": "python3"
  },
  "language_info": {
   "codemirror_mode": {
    "name": "ipython",
    "version": 3
   },
   "file_extension": ".py",
   "mimetype": "text/x-python",
   "name": "python",
   "nbconvert_exporter": "python",
   "pygments_lexer": "ipython3",
   "version": "3.7.3"
  }
 },
 "nbformat": 4,
 "nbformat_minor": 2
}
