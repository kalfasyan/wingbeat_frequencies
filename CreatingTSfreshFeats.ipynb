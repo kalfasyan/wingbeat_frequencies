{
 "cells": [
  {
   "cell_type": "code",
   "execution_count": 1,
   "metadata": {},
   "outputs": [],
   "source": [
    "%reset -f\n",
    "import glob, os, sys, inspect\n",
    "sys.path.insert(1, os.path.join(sys.path[0], '..'))\n",
    "\n",
    "import pandas as pd\n",
    "from wavhandler import *\n",
    "from natsort import natsorted\n",
    "from utils import *\n",
    "import matplotlib.pyplot as plt\n",
    "import numpy as np"
   ]
  },
  {
   "cell_type": "markdown",
   "metadata": {},
   "source": [
    "### Do it in chunks to avoid memory errors (didn't work)"
   ]
  },
  {
   "cell_type": "code",
   "execution_count": 2,
   "metadata": {},
   "outputs": [],
   "source": [
    "def extraction(insect_class='Aedes'):\n",
    "    from tsfresh import extract_features\n",
    "    wavhdlr = WavHandler('/home/yannis/data/insects/Potamitis/Wingbeats/{}'.format(insect_class), sample_size=10000,recursive=True)\n",
    "    wavhdlr.read()\n",
    "    wavhdlr.preprocess()\n",
    "    final = tsfresh_transform(wavhdlr.df_signals) \n",
    "    print('{} data ready for feature extraction..'.format(insect_class))\n",
    "    \n",
    "    #settings = make_tsfresh_settings()\n",
    "    features = extract_features(final, column_id='id', column_sort='time')#, kind_to_fc_parameters = settings)\n",
    "    features.set_index(wavhdlr.df_signals.columns, inplace=True)\n",
    "    return features"
   ]
  },
  {
   "cell_type": "code",
   "execution_count": null,
   "metadata": {},
   "outputs": [
    {
     "name": "stderr",
     "output_type": "stream",
     "text": [
      "DEBUG:root:datamatrix array created\n",
      "DEBUG:root:names list created\n",
      "DEBUG:root:df_signals created\n",
      "DEBUG:root:df_signals processed\n"
     ]
    },
    {
     "name": "stdout",
     "output_type": "stream",
     "text": [
      "Anopheles data ready for feature extraction..\n"
     ]
    },
    {
     "name": "stderr",
     "output_type": "stream",
     "text": [
      "Feature Extraction:  60%|██████    | 12/20 [11:34:03<4:40:21, 2102.64s/it]"
     ]
    }
   ],
   "source": [
    "features_anoph = extraction(insect_class='Anopheles')"
   ]
  },
  {
   "cell_type": "code",
   "execution_count": null,
   "metadata": {},
   "outputs": [],
   "source": [
    "features_aedes = extraction(insect_class='Aedes')"
   ]
  },
  {
   "cell_type": "code",
   "execution_count": null,
   "metadata": {},
   "outputs": [],
   "source": [
    "features_culex = extraction(insect_class='Culex')\n"
   ]
  },
  {
   "cell_type": "code",
   "execution_count": null,
   "metadata": {},
   "outputs": [],
   "source": [
    "#from tsfresh.utilities.dataframe_functions import impute\n",
    "#impute(extracted_features)\n",
    "\n",
    "featurelist = [features_aedes, \n",
    "                features_anoph, \n",
    "                features_culex]\n",
    "\n",
    "df = pd.concat(featurelist, axis=0)\n",
    "df.to_pickle('./data/combined_all.pkl')\n",
    "\n",
    "# WHEN YOU HAVE LABELS\n",
    "#from tsfresh import extract_relevant_features\n",
    "#features_filtered_direct = extract_relevant_features(timeseries, y, column_id='id', column_sort='time')\n",
    "\n",
    "#data_100 = pd.concat([features_zapr, features_dros], axis=0)"
   ]
  },
  {
   "cell_type": "code",
   "execution_count": null,
   "metadata": {},
   "outputs": [],
   "source": []
  }
 ],
 "metadata": {
  "kernelspec": {
   "display_name": "Python 3",
   "language": "python",
   "name": "python3"
  },
  "language_info": {
   "codemirror_mode": {
    "name": "ipython",
    "version": 3
   },
   "file_extension": ".py",
   "mimetype": "text/x-python",
   "name": "python",
   "nbconvert_exporter": "python",
   "pygments_lexer": "ipython3",
   "version": "3.6.7"
  }
 },
 "nbformat": 4,
 "nbformat_minor": 2
}
