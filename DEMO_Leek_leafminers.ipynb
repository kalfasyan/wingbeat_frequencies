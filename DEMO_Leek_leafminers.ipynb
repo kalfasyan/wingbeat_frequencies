{
 "cells": [
  {
   "cell_type": "code",
   "execution_count": 1,
   "metadata": {},
   "outputs": [
    {
     "name": "stderr",
     "output_type": "stream",
     "text": [
      "ERROR:root:Invalid alias: The name clear can't be aliased because it is another magic command.\n",
      "ERROR:root:Invalid alias: The name more can't be aliased because it is another magic command.\n",
      "ERROR:root:Invalid alias: The name less can't be aliased because it is another magic command.\n",
      "ERROR:root:Invalid alias: The name man can't be aliased because it is another magic command.\n"
     ]
    }
   ],
   "source": [
    "%reset -f\n",
    "import pandas as pd\n",
    "import numpy as np\n",
    "from wavhandler import *\n",
    "import soundfile as sf\n",
    "import matplotlib.pyplot as plt\n",
    "import seaborn as sns\n",
    "sns.set()\n",
    "%matplotlib inline"
   ]
  },
  {
   "cell_type": "code",
   "execution_count": 2,
   "metadata": {},
   "outputs": [
    {
     "name": "stderr",
     "output_type": "stream",
     "text": [
      "100%|██████████| 137/137 [00:06<00:00, 22.89it/s]\n"
     ]
    }
   ],
   "source": [
    "mydata = Dataset('LG2/LG_suzukii_18_09_faulty')#'leek_leafminers')#'leafminer_all')#LG2/LG_suzukii_18_09_faulty')\n",
    "mydata.load();"
   ]
  },
  {
   "cell_type": "code",
   "execution_count": 3,
   "metadata": {},
   "outputs": [],
   "source": [
    "df_feats = mydata.get_sensor_features(temp_humd=False)\n",
    "df_psd = make_df_parallel(names=mydata.filenames, setting='psd')"
   ]
  },
  {
   "cell_type": "code",
   "execution_count": null,
   "metadata": {},
   "outputs": [
    {
     "data": {
      "text/plain": [
       "Text(0.5, 1.0, 'Signal counts for March')"
      ]
     },
     "execution_count": 4,
     "metadata": {},
     "output_type": "execute_result"
    },
    {
     "data": {
      "image/png": "[encoded data removed]",
      "text/plain": [
       "<Figure size 432x288 with 1 Axes>"
      ]
     },
     "metadata": {
      "needs_background": "light"
     },
     "output_type": "display_data"
    }
   ],
   "source": [
    "df = pd.merge(df_feats.set_index('wavnames'), df_psd.T, left_index=True, right_index=True)\n",
    "df.date_day.hist(bins=np.linspace(0,31,31))\n",
    "plt.title('Signal counts for March')"
   ]
  },
  {
   "cell_type": "markdown",
   "metadata": {},
   "source": [
    "### Data Table"
   ]
  },
  {
   "cell_type": "code",
   "execution_count": null,
   "metadata": {},
   "outputs": [
    {
     "data": {
      "text/html": [
       "<div>\n",
       "<style scoped>\n",
       "    .dataframe tbody tr th:only-of-type {\n",
       "        vertical-align: middle;\n",
       "    }\n",
       "\n",
       "    .dataframe tbody tr th {\n",
       "        vertical-align: top;\n",
       "    }\n",
       "\n",
       "    .dataframe thead th {\n",
       "        text-align: right;\n",
       "    }\n",
       "</style>\n",
       "<table border=\"1\" class=\"dataframe\">\n",
       "  <thead>\n",
       "    <tr style=\"text-align: right;\">\n",
       "      <th></th>\n",
       "      <th>filenames</th>\n",
       "      <th>date</th>\n",
       "      <th>date_day</th>\n",
       "      <th>date_hour</th>\n",
       "      <th>gain</th>\n",
       "      <th>0</th>\n",
       "      <th>1</th>\n",
       "      <th>2</th>\n",
       "      <th>3</th>\n",
       "      <th>4</th>\n",
       "      <th>...</th>\n",
       "      <th>119</th>\n",
       "      <th>120</th>\n",
       "      <th>121</th>\n",
       "      <th>122</th>\n",
       "      <th>123</th>\n",
       "      <th>124</th>\n",
       "      <th>125</th>\n",
       "      <th>126</th>\n",
       "      <th>127</th>\n",
       "      <th>128</th>\n",
       "    </tr>\n",
       "  </thead>\n",
       "  <tbody>\n",
       "    <tr>\n",
       "      <th>F180910_140040_043_G_120</th>\n",
       "      <td>/home/kalfasyan/data/insects/LG2/LG_suzukii_18...</td>\n",
       "      <td>2018-09-10 14:00:40</td>\n",
       "      <td>10</td>\n",
       "      <td>14</td>\n",
       "      <td>120</td>\n",
       "      <td>0.025380</td>\n",
       "      <td>0.168421</td>\n",
       "      <td>0.024079</td>\n",
       "      <td>0.003216</td>\n",
       "      <td>0.002830</td>\n",
       "      <td>...</td>\n",
       "      <td>0.000421</td>\n",
       "      <td>0.000365</td>\n",
       "      <td>0.000303</td>\n",
       "      <td>0.000295</td>\n",
       "      <td>0.000316</td>\n",
       "      <td>0.000310</td>\n",
       "      <td>0.000391</td>\n",
       "      <td>0.000339</td>\n",
       "      <td>0.000333</td>\n",
       "      <td>0.000177</td>\n",
       "    </tr>\n",
       "    <tr>\n",
       "      <th>F180910_140024_037_G_120</th>\n",
       "      <td>/home/kalfasyan/data/insects/LG2/LG_suzukii_18...</td>\n",
       "      <td>2018-09-10 14:00:24</td>\n",
       "      <td>10</td>\n",
       "      <td>14</td>\n",
       "      <td>120</td>\n",
       "      <td>0.040555</td>\n",
       "      <td>0.500514</td>\n",
       "      <td>0.053871</td>\n",
       "      <td>0.013565</td>\n",
       "      <td>0.008387</td>\n",
       "      <td>...</td>\n",
       "      <td>0.001103</td>\n",
       "      <td>0.001038</td>\n",
       "      <td>0.001309</td>\n",
       "      <td>0.001487</td>\n",
       "      <td>0.001224</td>\n",
       "      <td>0.001116</td>\n",
       "      <td>0.001019</td>\n",
       "      <td>0.000946</td>\n",
       "      <td>0.000969</td>\n",
       "      <td>0.000466</td>\n",
       "    </tr>\n",
       "  </tbody>\n",
       "</table>\n",
       "<p>2 rows × 134 columns</p>\n",
       "</div>"
      ],
      "text/plain": [
       "                                                                  filenames  \\\n",
       "F180910_140040_043_G_120  /home/kalfasyan/data/insects/LG2/LG_suzukii_18...   \n",
       "F180910_140024_037_G_120  /home/kalfasyan/data/insects/LG2/LG_suzukii_18...   \n",
       "\n",
       "                                        date  date_day  date_hour gain  \\\n",
       "F180910_140040_043_G_120 2018-09-10 14:00:40        10         14  120   \n",
       "F180910_140024_037_G_120 2018-09-10 14:00:24        10         14  120   \n",
       "\n",
       "                                 0         1         2         3         4  \\\n",
       "F180910_140040_043_G_120  0.025380  0.168421  0.024079  0.003216  0.002830   \n",
       "F180910_140024_037_G_120  0.040555  0.500514  0.053871  0.013565  0.008387   \n",
       "\n",
       "                          ...       119       120       121       122  \\\n",
       "F180910_140040_043_G_120  ...  0.000421  0.000365  0.000303  0.000295   \n",
       "F180910_140024_037_G_120  ...  0.001103  0.001038  0.001309  0.001487   \n",
       "\n",
       "                               123       124       125       126       127  \\\n",
       "F180910_140040_043_G_120  0.000316  0.000310  0.000391  0.000339  0.000333   \n",
       "F180910_140024_037_G_120  0.001224  0.001116  0.001019  0.000946  0.000969   \n",
       "\n",
       "                               128  \n",
       "F180910_140040_043_G_120  0.000177  \n",
       "F180910_140024_037_G_120  0.000466  \n",
       "\n",
       "[2 rows x 134 columns]"
      ]
     },
     "execution_count": 5,
     "metadata": {},
     "output_type": "execute_result"
    }
   ],
   "source": [
    "df.head(2)"
   ]
  },
  {
   "cell_type": "markdown",
   "metadata": {},
   "source": [
    "## In detail: Signals per day"
   ]
  },
  {
   "cell_type": "code",
   "execution_count": null,
   "metadata": {},
   "outputs": [],
   "source": [
    "plt.figure(figsize=(20,12))\n",
    "plt.tight_layout(True)\n",
    "for w, (q,sub) in enumerate(df.groupby('date_day')):\n",
    "    alldata = read_simple(sub.filenames.tolist())[0]\n",
    "    allfreqs = []\n",
    "    for i in range(alldata.shape[1]):\n",
    "    #     plt.figure(figsize=(20,12))\n",
    "        psd = power_spectral_density(alldata[:,i], bandpass=False, nfft=8192, noverlap=None)\n",
    "        freq = psd.frequency.tolist()\n",
    "        \n",
    "    #     psd.pow_amp.plot()\n",
    "        allfreqs = allfreqs + [freq[ii] for ii in peak_finder(psd) if ii > 70]\n",
    "    plt.subplot(5,5,w+1)\n",
    "    plt.title(str(q)+' day', y=0.8)\n",
    "    plt.ylim(0,45)\n",
    "    plt.hist(allfreqs, bins=np.linspace(0,500,25))\n",
    "\n",
    "#     #     break"
   ]
  },
  {
   "cell_type": "markdown",
   "metadata": {},
   "source": [
    "## In more detail: Signals per day and per hour"
   ]
  },
  {
   "cell_type": "code",
   "execution_count": null,
   "metadata": {},
   "outputs": [],
   "source": [
    "plt.figure(figsize=(30,20))\n",
    "for w, (q,sub) in enumerate(df.groupby(['date_day', 'date_hour'])):\n",
    "    title = \"day:{}, hour {}\".format(sub.date_day.unique()[0], sub.date_hour.unique()[0])\n",
    "    alldata = read_simple(sub.filenames.tolist())[0]\n",
    "    allfreqs = []\n",
    "    for i in range(alldata.shape[1]):\n",
    "        psd = power_spectral_density(alldata[:,i], bandpass=False, nfft=8192, noverlap=None)\n",
    "        freq = psd.frequency.tolist()\n",
    "        allfreqs = allfreqs + [freq[ii] for ii in peak_finder(psd, h_threshold=0.01, d_threshold=3) if ii > 70]\n",
    "    plt.subplot(6,7,w+1)\n",
    "    plt.title(title, y=0.8)\n",
    "    plt.ylim(0,12)\n",
    "    plt.hist(allfreqs, bins=np.linspace(0,500,25))\n"
   ]
  },
  {
   "cell_type": "markdown",
   "metadata": {},
   "source": [
    "### Some random PSD examples"
   ]
  },
  {
   "cell_type": "code",
   "execution_count": null,
   "metadata": {},
   "outputs": [],
   "source": [
    "alldata = read_simple(df.filenames.tolist())[0]\n",
    "plt.figure(figsize=(20,10))\n",
    "for i in range(10):\n",
    "    psd = power_spectral_density(alldata[:,i], bandpass=False, nfft=8192, nperseg=129, noverlap=None)\n",
    "    freq = psd.frequency.tolist()\n",
    "    plt.subplot(3,4,i+1)\n",
    "    psd.pow_amp.plot()"
   ]
  },
  {
   "cell_type": "code",
   "execution_count": null,
   "metadata": {},
   "outputs": [],
   "source": [
    "\n",
    "\n",
    "\n",
    "\n",
    "\n",
    "\n",
    "\n",
    "\n",
    "\n",
    "\n"
   ]
  },
  {
   "cell_type": "markdown",
   "metadata": {},
   "source": [
    "## PCA on dB signal to see if we get groupings"
   ]
  },
  {
   "cell_type": "code",
   "execution_count": null,
   "metadata": {},
   "outputs": [],
   "source": [
    "df_pca = make_df_parallel(names=mydata.filenames, setting='psd_dB')\n",
    "print(df_pca.shape)\n",
    "df_pca.head()"
   ]
  },
  {
   "cell_type": "code",
   "execution_count": null,
   "metadata": {},
   "outputs": [],
   "source": [
    "df_pca.iloc[:,np.random.randint(0,175)].plot()"
   ]
  },
  {
   "cell_type": "code",
   "execution_count": null,
   "metadata": {},
   "outputs": [],
   "source": [
    "# df_pca.columns = df.index\n",
    "# df_pca.head()\n",
    "df.date_day.values.shape\n",
    "# X.shape\n",
    "yy = df.date_day.values\n",
    "yy.shape"
   ]
  },
  {
   "cell_type": "code",
   "execution_count": null,
   "metadata": {},
   "outputs": [],
   "source": [
    "X = df_pca.T.values\n",
    "print(X.shape)\n",
    "from sklearn.decomposition import PCA\n",
    "from sklearn.preprocessing import StandardScaler\n",
    "\n",
    "X_std = StandardScaler(with_std=False).fit_transform(X);  # standardization of data\n",
    "print(X_std.shape)\n",
    "ncomps = 2\n",
    "pca = PCA(n_components=ncomps) # 10 to get 80% explained variance\n",
    "X_final = pca.fit_transform(X_std)\n",
    "print(X_final.shape)\n",
    "print(\"EXPLAINED VARIANCE with {0:d} components: {1:.2f}\".format(ncomps,pca.explained_variance_ratio_.sum()) )\n",
    "print(df.date_day.shape)\n",
    "plt.figure(figsize=(10,8))\n",
    "sns.set_style(\"darkgrid\", {'axes.grid' : False})\n",
    "sns.scatterplot(X_final[:,0], X_final[:,1],alpha=0.8, legend='full', hue=yy, palette=sns.color_palette(\"gist_earth_r\", len(np.unique(yy)))) \n",
    "\n",
    "plt.xlabel('component 1')\n",
    "plt.ylabel('component 2')"
   ]
  },
  {
   "cell_type": "markdown",
   "metadata": {},
   "source": [
    "## Transfer Learning"
   ]
  },
  {
   "cell_type": "code",
   "execution_count": null,
   "metadata": {},
   "outputs": [],
   "source": [
    "from utils import *\n",
    "from keras.models import model_from_yaml\n",
    "from wavhandler import read_simple\n",
    "model_name = 'raw_LG'\n",
    "yaml_file = open(TEMP_DATADIR + model_name + '.yaml', 'r')\n",
    "model = yaml_file.read()\n",
    "yaml_file.close()\n",
    "model = model_from_yaml(model)"
   ]
  },
  {
   "cell_type": "code",
   "execution_count": null,
   "metadata": {},
   "outputs": [],
   "source": [
    "model.load_weights(TEMP_DATADIR + model_name + '_weights.h5')"
   ]
  },
  {
   "cell_type": "code",
   "execution_count": null,
   "metadata": {},
   "outputs": [],
   "source": [
    "model.compile(loss='categorical_crossentropy',\n",
    "              optimizer='adam',\n",
    "              metrics=['accuracy'])"
   ]
  },
  {
   "cell_type": "code",
   "execution_count": null,
   "metadata": {},
   "outputs": [],
   "source": [
    "data = read_simple(df.filenames)[0].T\n",
    "data = np.expand_dims(data, axis=-1)"
   ]
  },
  {
   "cell_type": "code",
   "execution_count": null,
   "metadata": {},
   "outputs": [],
   "source": [
    "d = model.predict(data)"
   ]
  },
  {
   "cell_type": "code",
   "execution_count": null,
   "metadata": {},
   "outputs": [],
   "source": [
    "d.shape"
   ]
  },
  {
   "cell_type": "code",
   "execution_count": null,
   "metadata": {},
   "outputs": [],
   "source": [
    "plt.figure(figsize=(10,8))\n",
    "sns.scatterplot(d[:,0], d[:,1], alpha=0.6)\n",
    "plt.xlabel('Neuron 1')\n",
    "plt.ylabel('Neuron 2')"
   ]
  },
  {
   "cell_type": "code",
   "execution_count": null,
   "metadata": {},
   "outputs": [],
   "source": [
    "plt.hist(d[:,0]); plt.title('Neuron 1')"
   ]
  },
  {
   "cell_type": "code",
   "execution_count": null,
   "metadata": {},
   "outputs": [],
   "source": [
    "plt.hist(d[:,1]); plt.title('Neuron 2')"
   ]
  },
  {
   "cell_type": "code",
   "execution_count": null,
   "metadata": {},
   "outputs": [],
   "source": [
    "from scipy.special import softmax\n",
    "df['label'] = np.argmax(softmax(d, axis=1), axis=1)"
   ]
  },
  {
   "cell_type": "code",
   "execution_count": null,
   "metadata": {},
   "outputs": [],
   "source": [
    "df.sample(5)"
   ]
  },
  {
   "cell_type": "code",
   "execution_count": null,
   "metadata": {},
   "outputs": [],
   "source": [
    "zz = 0"
   ]
  },
  {
   "cell_type": "code",
   "execution_count": null,
   "metadata": {},
   "outputs": [],
   "source": [
    "yday = (df.date_day <= zz).astype(int)\n",
    "hue = {'day': yday, 'deep': df.label}\n",
    "hue = hue['deep']\n",
    "\n",
    "X = df_pca.T.values\n",
    "print(X.shape)\n",
    "from sklearn.decomposition import PCA\n",
    "from sklearn.preprocessing import StandardScaler\n",
    "\n",
    "X_std = StandardScaler(with_std=False).fit_transform(X);  # standardization of data\n",
    "print(X_std.shape)\n",
    "ncomps = 2\n",
    "pca = PCA(n_components=ncomps) # 10 to get 80% explained variance\n",
    "X_final = pca.fit_transform(X_std)\n",
    "print(X_final.shape)\n",
    "print(\"EXPLAINED VARIANCE with {0:d} components: {1:.2f}\".format(ncomps,pca.explained_variance_ratio_.sum()) )\n",
    "print(df.date_day.shape)\n",
    "plt.figure(figsize=(10,8))\n",
    "sns.set_style(\"darkgrid\", {'axes.grid' : False})\n",
    "sns.scatterplot(X_final[:,0], X_final[:,1],alpha=0.4, legend='full', palette=sns.color_palette(\"Paired\", len(np.unique(hue))), hue=hue)#df.label)#yday)#\n",
    "plt.title(zz)\n",
    "plt.xlabel('component 1')\n",
    "plt.ylabel('component 2')\n",
    "zz += 1"
   ]
  },
  {
   "cell_type": "code",
   "execution_count": null,
   "metadata": {},
   "outputs": [],
   "source": [
    "df.label.value_counts()"
   ]
  },
  {
   "cell_type": "markdown",
   "metadata": {},
   "source": [
    "### Using a network trained on 6 mosquito classes and 2 drosophila classes"
   ]
  },
  {
   "cell_type": "code",
   "execution_count": null,
   "metadata": {},
   "outputs": [],
   "source": [
    "from utils import *\n",
    "from keras.models import model_from_yaml\n",
    "from wavhandler import read_simple\n",
    "model_name = 'raw_BIG'\n",
    "yaml_file = open(TEMP_DATADIR + model_name + '.yaml', 'r')\n",
    "model = yaml_file.read()\n",
    "yaml_file.close()\n",
    "model = model_from_yaml(model)"
   ]
  },
  {
   "cell_type": "code",
   "execution_count": null,
   "metadata": {},
   "outputs": [],
   "source": [
    "model.load_weights(TEMP_DATADIR + model_name + '_weights.h5')"
   ]
  },
  {
   "cell_type": "code",
   "execution_count": null,
   "metadata": {},
   "outputs": [],
   "source": [
    "model.compile(loss='categorical_crossentropy',\n",
    "              optimizer='adam',\n",
    "              metrics=['accuracy'])"
   ]
  },
  {
   "cell_type": "code",
   "execution_count": null,
   "metadata": {},
   "outputs": [],
   "source": [
    "data = read_simple(df.filenames)[0].T\n",
    "data = np.expand_dims(data, axis=-1)"
   ]
  },
  {
   "cell_type": "code",
   "execution_count": null,
   "metadata": {},
   "outputs": [],
   "source": [
    "d = model.predict(data)"
   ]
  },
  {
   "cell_type": "code",
   "execution_count": null,
   "metadata": {},
   "outputs": [],
   "source": [
    "d.shape"
   ]
  },
  {
   "cell_type": "code",
   "execution_count": null,
   "metadata": {},
   "outputs": [],
   "source": [
    "from sklearn.cluster import KMeans\n",
    "\n",
    "kmeans = KMeans(n_clusters=2, random_state=0).fit(d)\n"
   ]
  },
  {
   "cell_type": "code",
   "execution_count": null,
   "metadata": {},
   "outputs": [],
   "source": [
    "pd.Series(kmeans.labels_).value_counts()"
   ]
  },
  {
   "cell_type": "code",
   "execution_count": null,
   "metadata": {},
   "outputs": [],
   "source": [
    "yday = (df.date_day <= zz).astype(int)\n",
    "hue = {'day': yday, 'deep': kmeans.labels_}\n",
    "hue = hue['deep']\n",
    "\n",
    "X = d\n",
    "print(X.shape)\n",
    "from sklearn.decomposition import PCA\n",
    "from sklearn.preprocessing import StandardScaler\n",
    "\n",
    "X_std = StandardScaler(with_std=True).fit_transform(X);  # standardization of data\n",
    "print(X_std.shape)\n",
    "ncomps = 2\n",
    "pca = PCA(n_components=ncomps)\n",
    "X_final = pca.fit_transform(X_std)\n",
    "X_final[40,:] = X_final[40,:]/X_final[40,:] # NOTE: THIS IS TEMPORARY TO REMOVE/CHANGE OUTLIER\n",
    "\n",
    "print(X_final.shape)\n",
    "print(\"EXPLAINED VARIANCE with {0:d} components: {1:.2f}\".format(ncomps,pca.explained_variance_ratio_.sum()) )\n",
    "print(df.date_day.shape)\n",
    "plt.figure(figsize=(10,8))\n",
    "sns.set_style(\"darkgrid\", {'axes.grid' : False})\n",
    "sns.scatterplot(X_final[:,0], X_final[:,1],alpha=0.8, legend='full', palette=sns.color_palette(\"cubehelix\", len(np.unique(hue))), hue=hue)#df.label)#yday)#\n",
    "plt.title(zz)\n",
    "plt.xlabel('component 1')\n",
    "plt.ylabel('component 2')"
   ]
  },
  {
   "cell_type": "code",
   "execution_count": null,
   "metadata": {},
   "outputs": [],
   "source": [
    "plt.hist(np.mean(X_final, axis=1))\n",
    "plt.ylim(0,10)"
   ]
  },
  {
   "cell_type": "code",
   "execution_count": null,
   "metadata": {},
   "outputs": [],
   "source": [
    "np.argmax(np.mean(X_final, axis=1))"
   ]
  },
  {
   "cell_type": "code",
   "execution_count": null,
   "metadata": {},
   "outputs": [],
   "source": [
    "print(X_final.shape)\n",
    "np.delete(X_final, 40, axis=0).shape\n",
    "#print(X_final.shape)"
   ]
  },
  {
   "cell_type": "code",
   "execution_count": null,
   "metadata": {},
   "outputs": [],
   "source": []
  }
 ],
 "metadata": {
  "kernelspec": {
   "display_name": "Python 3",
   "language": "python",
   "name": "python3"
  },
  "language_info": {
   "codemirror_mode": {
    "name": "ipython",
    "version": 3
   },
   "file_extension": ".py",
   "mimetype": "text/x-python",
   "name": "python",
   "nbconvert_exporter": "python",
   "pygments_lexer": "ipython3",
   "version": "3.6.8"
  }
 },
 "nbformat": 4,
 "nbformat_minor": 2
}
