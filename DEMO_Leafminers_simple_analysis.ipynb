{
 "cells": [
  {
   "cell_type": "code",
   "execution_count": 202,
   "metadata": {},
   "outputs": [
    {
     "name": "stderr",
     "output_type": "stream",
     "text": [
      "ERROR:root:Invalid alias: The name clear can't be aliased because it is another magic command.\n",
      "ERROR:root:Invalid alias: The name more can't be aliased because it is another magic command.\n",
      "ERROR:root:Invalid alias: The name less can't be aliased because it is another magic command.\n",
      "ERROR:root:Invalid alias: The name man can't be aliased because it is another magic command.\n"
     ]
    }
   ],
   "source": [
    "%reset -f\n",
    "import pandas as pd\n",
    "import numpy as np\n",
    "from wavhandler import *\n",
    "import soundfile as sf\n",
    "import seaborn as sns\n",
    "sns.set()\n",
    "# import matplotlib as mpl\n",
    "import matplotlib.pyplot as plt\n",
    "plt.rc('figure', figsize=(20.0, 10.0))\n",
    "%matplotlib inline"
   ]
  },
  {
   "cell_type": "code",
   "execution_count": 203,
   "metadata": {},
   "outputs": [
    {
     "name": "stderr",
     "output_type": "stream",
     "text": [
      "100%|██████████| 10/10 [00:00<00:00, 112.93it/s]\n"
     ]
    }
   ],
   "source": [
    "mydata = Dataset('leafminer_all')#'leek_leafminers')#'leafminer_all')#LG2/LG_suzukii_18_09_faulty')\n",
    "mydata.load();"
   ]
  },
  {
   "cell_type": "code",
   "execution_count": 204,
   "metadata": {},
   "outputs": [],
   "source": [
    "df_feats = mydata.get_sensor_features(temp_humd=False)\n",
    "# df_psd = make_df_parallel(names=mydata.filenames, setting='psd_dB')\n",
    "df = df_feats"
   ]
  },
  {
   "cell_type": "code",
   "execution_count": 212,
   "metadata": {},
   "outputs": [
    {
     "name": "stderr",
     "output_type": "stream",
     "text": [
      "100%|██████████| 701/701 [00:00<00:00, 1763.26it/s]\n"
     ]
    }
   ],
   "source": [
    "from scipy import signal\n",
    "from scipy.signal import find_peaks\n",
    "\n",
    "alldata = read_simple(df.filenames.tolist())[0]\n",
    "alldata = transform_data(alldata.T)"
   ]
  },
  {
   "cell_type": "code",
   "execution_count": null,
   "metadata": {},
   "outputs": [],
   "source": []
  },
  {
   "cell_type": "code",
   "execution_count": 213,
   "metadata": {},
   "outputs": [
    {
     "data": {
      "text/plain": [
       "(701, 129)"
      ]
     },
     "execution_count": 213,
     "metadata": {},
     "output_type": "execute_result"
    }
   ],
   "source": [
    "alldata.shape"
   ]
  },
  {
   "cell_type": "code",
   "execution_count": 214,
   "metadata": {},
   "outputs": [],
   "source": [
    "first_3_freqpeaks = []\n",
    "all_freqs = []\n",
    "for i in range(len(alldata)):\n",
    "    x = alldata[i,:]\n",
    "#     x = alldata[np.random.randint(0,176),:]\n",
    "    peaks = find_peaks(x, height=-90, distance=1, width=0)#find_peaks(x, height=-90, distance=1)[0]\n",
    "    fr_peaks = pd.Series(np.linspace(0,4092,129)[peaks[0]][:3])\n",
    "    tmp = [np.NaN for i in range(3)]\n",
    "    for j in range(len(fr_peaks)):\n",
    "        tmp[j] = fr_peaks[j]\n",
    "    first_3_freqpeaks.append(pd.Series(tmp))\n",
    "    all_freqs = all_freqs + fr_peaks.tolist()\n",
    "    "
   ]
  },
  {
   "cell_type": "code",
   "execution_count": 215,
   "metadata": {},
   "outputs": [
    {
     "data": {
      "text/plain": [
       "31.96875     683\n",
       "223.78125    280\n",
       "447.56250    162\n",
       "255.75000    121\n",
       "415.59375    116\n",
       "479.53125    101\n",
       "191.81250     85\n",
       "383.62500     38\n",
       "287.71875     29\n",
       "511.50000     29\n",
       "351.65625     24\n",
       "127.87500     16\n",
       "319.68750     13\n",
       "63.93750      13\n",
       "159.84375      7\n",
       "543.46875      7\n",
       "703.31250      2\n",
       "607.40625      2\n",
       "95.90625       2\n",
       "575.43750      1\n",
       "639.37500      1\n",
       "767.25000      1\n",
       "dtype: int64"
      ]
     },
     "execution_count": 215,
     "metadata": {},
     "output_type": "execute_result"
    }
   ],
   "source": [
    "pd.Series(all_freqs).value_counts()\n",
    "# pd.Series(all_freqs).hist(bins=10, range=(0, 400))#list(np.linspace(0,4000, 20)))"
   ]
  },
  {
   "cell_type": "code",
   "execution_count": 216,
   "metadata": {},
   "outputs": [],
   "source": [
    "df_3freqpeaks = pd.concat(first_3_freqpeaks, axis=1).T"
   ]
  },
  {
   "cell_type": "code",
   "execution_count": 217,
   "metadata": {},
   "outputs": [
    {
     "data": {
      "text/html": [
       "<div>\n",
       "<style scoped>\n",
       "    .dataframe tbody tr th:only-of-type {\n",
       "        vertical-align: middle;\n",
       "    }\n",
       "\n",
       "    .dataframe tbody tr th {\n",
       "        vertical-align: top;\n",
       "    }\n",
       "\n",
       "    .dataframe thead th {\n",
       "        text-align: right;\n",
       "    }\n",
       "</style>\n",
       "<table border=\"1\" class=\"dataframe\">\n",
       "  <thead>\n",
       "    <tr style=\"text-align: right;\">\n",
       "      <th></th>\n",
       "      <th>0</th>\n",
       "      <th>1</th>\n",
       "      <th>2</th>\n",
       "    </tr>\n",
       "  </thead>\n",
       "  <tbody>\n",
       "    <tr>\n",
       "      <th>0</th>\n",
       "      <td>31.96875</td>\n",
       "      <td>639.37500</td>\n",
       "      <td>703.3125</td>\n",
       "    </tr>\n",
       "    <tr>\n",
       "      <th>1</th>\n",
       "      <td>31.96875</td>\n",
       "      <td>NaN</td>\n",
       "      <td>NaN</td>\n",
       "    </tr>\n",
       "    <tr>\n",
       "      <th>2</th>\n",
       "      <td>63.93750</td>\n",
       "      <td>415.59375</td>\n",
       "      <td>511.5000</td>\n",
       "    </tr>\n",
       "    <tr>\n",
       "      <th>3</th>\n",
       "      <td>31.96875</td>\n",
       "      <td>NaN</td>\n",
       "      <td>NaN</td>\n",
       "    </tr>\n",
       "    <tr>\n",
       "      <th>4</th>\n",
       "      <td>31.96875</td>\n",
       "      <td>NaN</td>\n",
       "      <td>NaN</td>\n",
       "    </tr>\n",
       "  </tbody>\n",
       "</table>\n",
       "</div>"
      ],
      "text/plain": [
       "          0          1         2\n",
       "0  31.96875  639.37500  703.3125\n",
       "1  31.96875        NaN       NaN\n",
       "2  63.93750  415.59375  511.5000\n",
       "3  31.96875        NaN       NaN\n",
       "4  31.96875        NaN       NaN"
      ]
     },
     "execution_count": 217,
     "metadata": {},
     "output_type": "execute_result"
    }
   ],
   "source": [
    "df_3freqpeaks.head()"
   ]
  },
  {
   "cell_type": "code",
   "execution_count": 218,
   "metadata": {},
   "outputs": [
    {
     "data": {
      "text/plain": [
       "<matplotlib.axes._subplots.AxesSubplot at 0x7fc39a6d94a8>"
      ]
     },
     "execution_count": 218,
     "metadata": {},
     "output_type": "execute_result"
    },
    {
     "data": {
      "image/png": "[encoded data removed]",
      "text/plain": [
       "<Figure size 432x288 with 1 Axes>"
      ]
     },
     "metadata": {
      "needs_background": "light"
     },
     "output_type": "display_data"
    }
   ],
   "source": [
    "df_3freqpeaks[1].hist(bins=list(np.linspace(0,400, 50)))"
   ]
  },
  {
   "cell_type": "code",
   "execution_count": 219,
   "metadata": {},
   "outputs": [
    {
     "data": {
      "text/plain": [
       "223.78125    276\n",
       "255.75000    108\n",
       "191.81250     85\n",
       "287.71875     21\n",
       "127.87500     13\n",
       "319.68750      7\n",
       "159.84375      7\n",
       "447.56250      3\n",
       "351.65625      2\n",
       "415.59375      2\n",
       "639.37500      1\n",
       "479.53125      1\n",
       "Name: 1, dtype: int64"
      ]
     },
     "execution_count": 219,
     "metadata": {},
     "output_type": "execute_result"
    }
   ],
   "source": [
    "df_3freqpeaks[1].value_counts()"
   ]
  },
  {
   "cell_type": "code",
   "execution_count": null,
   "metadata": {},
   "outputs": [],
   "source": []
  }
 ],
 "metadata": {
  "kernelspec": {
   "display_name": "Python 3",
   "language": "python",
   "name": "python3"
  },
  "language_info": {
   "codemirror_mode": {
    "name": "ipython",
    "version": 3
   },
   "file_extension": ".py",
   "mimetype": "text/x-python",
   "name": "python",
   "nbconvert_exporter": "python",
   "pygments_lexer": "ipython3",
   "version": "3.6.8"
  }
 },
 "nbformat": 4,
 "nbformat_minor": 2
}
