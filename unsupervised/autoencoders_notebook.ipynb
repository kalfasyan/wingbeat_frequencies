{
 "cells": [
  {
   "cell_type": "code",
   "execution_count": 146,
   "metadata": {},
   "outputs": [],
   "source": [
    "%reset -f\n",
    "from keras.layers import Input, Dense\n",
    "from keras.models import Model"
   ]
  },
  {
   "cell_type": "code",
   "execution_count": 147,
   "metadata": {},
   "outputs": [],
   "source": [
    "# # this is the size of our encoded representations\n",
    "# encoding_dim = 16  # 32 floats -> compression of factor 24.5, assuming the input is 784 floats\n",
    "\n",
    "# # this is our input placeholder\n",
    "# input_img = Input(shape=(129,))\n",
    "# # \"encoded\" is the encoded representation of the input\n",
    "# encoded = Dense(encoding_dim, activation='relu')(input_img)\n",
    "# # \"decoded\" is the lossy reconstruction of the input\n",
    "# decoded = Dense(129, activation='sigmoid')(encoded)\n",
    "\n",
    "# # this model maps an input to its reconstruction\n",
    "# autoencoder = Model(input_img, decoded)\n",
    "# # this model maps an input to its encoded representation\n",
    "# encoder = Model(input_img, encoded)\n",
    "# # create a placeholder for an encoded (32-dimensional) input\n",
    "# encoded_input = Input(shape=(encoding_dim,))\n",
    "# # retrieve the last layer of the autoencoder model\n",
    "# decoder_layer = autoencoder.layers[-1]\n",
    "# # create the decoder model\n",
    "# decoder = Model(encoded_input, decoder_layer(encoded_input))\n",
    "# autoencoder.compile(optimizer='adadelta', loss='binary_crossentropy')"
   ]
  },
  {
   "cell_type": "code",
   "execution_count": 220,
   "metadata": {},
   "outputs": [
    {
     "name": "stdout",
     "output_type": "stream",
     "text": [
      "_________________________________________________________________\n",
      "Layer (type)                 Output Shape              Param #   \n",
      "=================================================================\n",
      "input_75 (InputLayer)        (None, 129, 1)            0         \n",
      "_________________________________________________________________\n",
      "conv1d_211 (Conv1D)          (None, 127, 64)           256       \n",
      "_________________________________________________________________\n",
      "max_pooling1d_86 (MaxPooling (None, 63, 64)            0         \n",
      "_________________________________________________________________\n",
      "conv1d_212 (Conv1D)          (None, 61, 32)            6176      \n",
      "_________________________________________________________________\n",
      "max_pooling1d_87 (MaxPooling (None, 30, 32)            0         \n",
      "_________________________________________________________________\n",
      "conv1d_213 (Conv1D)          (None, 28, 8)             776       \n",
      "_________________________________________________________________\n",
      "max_pooling1d_88 (MaxPooling (None, 14, 8)             0         \n",
      "_________________________________________________________________\n",
      "conv1d_214 (Conv1D)          (None, 12, 8)             200       \n",
      "_________________________________________________________________\n",
      "up_sampling1d_63 (UpSampling (None, 24, 8)             0         \n",
      "_________________________________________________________________\n",
      "conv1d_215 (Conv1D)          (None, 22, 32)            800       \n",
      "_________________________________________________________________\n",
      "up_sampling1d_64 (UpSampling (None, 44, 32)            0         \n",
      "_________________________________________________________________\n",
      "conv1d_216 (Conv1D)          (None, 42, 64)            6208      \n",
      "_________________________________________________________________\n",
      "up_sampling1d_65 (UpSampling (None, 84, 64)            0         \n",
      "_________________________________________________________________\n",
      "flatten_16 (Flatten)         (None, 5376)              0         \n",
      "_________________________________________________________________\n",
      "dense_23 (Dense)             (None, 129)               693633    \n",
      "_________________________________________________________________\n",
      "reshape_3 (Reshape)          (None, 129, 1)            0         \n",
      "=================================================================\n",
      "Total params: 708,049\n",
      "Trainable params: 708,049\n",
      "Non-trainable params: 0\n",
      "_________________________________________________________________\n"
     ]
    }
   ],
   "source": [
    "from keras.layers import Input, Dense, Conv1D, MaxPooling1D, UpSampling1D, Flatten, Reshape\n",
    "from keras.models import Model\n",
    "from keras import backend as K\n",
    "\n",
    "input_img = Input(shape=(129,1))  # adapt this if using `channels_first` image data format\n",
    "\n",
    "x = Conv1D(64, 3, activation='relu', padding='valid')(input_img)\n",
    "x = MaxPooling1D((2), padding='valid')(x)\n",
    "x = Conv1D(32, (3), activation='relu', padding='valid')(x)\n",
    "x = MaxPooling1D((2), padding='valid')(x)\n",
    "x = Conv1D(8, (3), activation='relu', padding='valid')(x)\n",
    "xs = MaxPooling1D((2), padding='valid')(x)\n",
    "x = Flatten()(xs)\n",
    "encoded = Dense(8, activation='relu')(x)\n",
    "\n",
    "x = Conv1D(8, (3), activation='relu', padding='valid')(xs)\n",
    "x = UpSampling1D((2))(x)\n",
    "x = Conv1D(32, (3), activation='relu', padding='valid')(x)\n",
    "x = UpSampling1D((2))(x)\n",
    "x = Conv1D(64, (3), activation='relu')(x)\n",
    "x = UpSampling1D((2))(x)\n",
    "x = Flatten()(x)\n",
    "decoded = Dense(129, activation='relu')(x)\n",
    "decoded = Reshape((129,1))(decoded)\n",
    "#decoded = Conv1D(129, (3), activation='sigmoid', padding='valid')(x)\n",
    "\n",
    "autoencoder = Model(input_img, decoded)\n",
    "autoencoder.compile(optimizer='adam', loss='binary_crossentropy')\n",
    "\n",
    "autoencoder.summary()"
   ]
  },
  {
   "cell_type": "code",
   "execution_count": 221,
   "metadata": {},
   "outputs": [
    {
     "name": "stdout",
     "output_type": "stream",
     "text": [
      "(50000, 129)\n",
      "(10000, 129)\n",
      "(50000, 129, 1)\n",
      "(10000, 129, 1)\n"
     ]
    }
   ],
   "source": [
    "import numpy as np\n",
    "import pandas as pd\n",
    "from sklearn.utils import shuffle\n",
    "\n",
    "df = pd.read_csv('./mosquitos_test.csv', index_col=0)\n",
    "X = shuffle(df.values, random_state=3).astype('float32')\n",
    "x_train, x_test = X[:50000,:], X[50000:,:]\n",
    "print(x_train.shape)\n",
    "print(x_test.shape)\n",
    "\n",
    "x_train = np.reshape(x_train, (len(x_train), 129, 1))\n",
    "x_test = np.reshape(x_test, (len(x_test), 129, 1))\n",
    "\n",
    "print(x_train.shape)\n",
    "print(x_test.shape)"
   ]
  },
  {
   "cell_type": "code",
   "execution_count": null,
   "metadata": {},
   "outputs": [
    {
     "name": "stdout",
     "output_type": "stream",
     "text": [
      "Train on 50000 samples, validate on 10000 samples\n",
      "Epoch 1/50\n",
      "50000/50000 [==============================] - 42s 831us/step - loss: 0.0743 - val_loss: 0.0718\n",
      "Epoch 2/50\n",
      "50000/50000 [==============================] - 40s 804us/step - loss: 0.0693 - val_loss: 0.0753\n",
      "Epoch 3/50\n",
      "50000/50000 [==============================] - 41s 819us/step - loss: 0.0723 - val_loss: 0.0914\n",
      "Epoch 4/50\n",
      "14016/50000 [=======>......................] - ETA: 29s - loss: 0.0712"
     ]
    }
   ],
   "source": [
    "\n",
    "autoencoder.fit(x_train, x_train,\n",
    "                epochs=50,\n",
    "                batch_size=16,\n",
    "                shuffle=True,\n",
    "                validation_data=(x_test, x_test))\n",
    "\n",
    "# encode and decode some digits\n",
    "# note that we take them from the *test* set\n",
    "encoded_imgs = encoder.predict(x_test)\n",
    "decoded_imgs = decoder.predict(encoded_imgs)"
   ]
  },
  {
   "cell_type": "code",
   "execution_count": null,
   "metadata": {},
   "outputs": [],
   "source": [
    "# use Matplotlib (don't ask)\n",
    "import matplotlib.pyplot as plt\n",
    "\n",
    "n = 10  # how many digits we will display\n",
    "plt.figure(figsize=(20, 4))\n",
    "for i in range(n):\n",
    "    # display original\n",
    "    ax = plt.subplot(2, n, i + 1)\n",
    "    plt.plot(x_test[i])#.reshape(28, 28))\n",
    "    plt.gray()\n",
    "    ax.get_xaxis().set_visible(False)\n",
    "    ax.get_yaxis().set_visible(False)\n",
    "\n",
    "    # display reconstruction\n",
    "    ax = plt.subplot(2, n, i + 1 + n)\n",
    "    plt.plot(decoded_imgs[i])#.reshape(28, 28))\n",
    "    plt.gray()\n",
    "    ax.get_xaxis().set_visible(False)\n",
    "    ax.get_yaxis().set_visible(False)\n",
    "plt.show()"
   ]
  },
  {
   "cell_type": "code",
   "execution_count": null,
   "metadata": {},
   "outputs": [],
   "source": []
  },
  {
   "cell_type": "code",
   "execution_count": null,
   "metadata": {},
   "outputs": [],
   "source": []
  },
  {
   "cell_type": "code",
   "execution_count": null,
   "metadata": {},
   "outputs": [],
   "source": [
    "# 0.0469 loss with bs=128 and encoding_dim=15 "
   ]
  },
  {
   "cell_type": "code",
   "execution_count": null,
   "metadata": {},
   "outputs": [],
   "source": []
  },
  {
   "cell_type": "code",
   "execution_count": null,
   "metadata": {},
   "outputs": [],
   "source": []
  },
  {
   "cell_type": "code",
   "execution_count": null,
   "metadata": {},
   "outputs": [],
   "source": [
    "\n",
    "\n",
    "\n",
    "\n",
    "\n",
    "\n",
    "\n",
    "\n",
    "\n",
    "\n",
    "\n",
    "\n",
    "\n",
    "\n",
    "\n",
    "\n",
    "\n",
    "\n",
    "\n",
    "\n",
    "\n",
    "\n",
    "\n"
   ]
  },
  {
   "cell_type": "code",
   "execution_count": null,
   "metadata": {},
   "outputs": [],
   "source": []
  }
 ],
 "metadata": {
  "kernelspec": {
   "display_name": "Python 3",
   "language": "python",
   "name": "python3"
  },
  "language_info": {
   "codemirror_mode": {
    "name": "ipython",
    "version": 3
   },
   "file_extension": ".py",
   "mimetype": "text/x-python",
   "name": "python",
   "nbconvert_exporter": "python",
   "pygments_lexer": "ipython3",
   "version": "3.6.7"
  }
 },
 "nbformat": 4,
 "nbformat_minor": 2
}
