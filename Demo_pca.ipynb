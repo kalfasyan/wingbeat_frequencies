{
 "cells": [
  {
   "cell_type": "code",
   "execution_count": null,
   "metadata": {},
   "outputs": [],
   "source": [
    "%reset -f\n",
    "import glob, os, sys, io\n",
    "sys.path.insert(1, os.path.join(sys.path[0], '..'))\n",
    "import pandas as pd\n",
    "import numpy as np\n",
    "\n",
    "from wavhandler import *\n",
    "from utils import *\n",
    "import multiprocessing\n",
    "\n",
    "import logging\n",
    "logger = logging.getLogger()\n",
    "logger.propagate = False\n",
    "logger.setLevel(logging.ERROR)\n",
    "np.random.seed(0)"
   ]
  },
  {
   "cell_type": "code",
   "execution_count": null,
   "metadata": {},
   "outputs": [],
   "source": [
    "def get_psd(fname, data, plot=False):\n",
    "\n",
    "    sig_bandpass = butter_bandpass_filter(data=data, lowcut=L_CUTOFF, highcut=H_CUTOFF, fs=F_S, order=B_ORDER)\n",
    "    sig_cropped = crop_signal(sig_bandpass, window=300, intens_threshold=0.0004, offset=200)\n",
    "\n",
    "    if sig_cropped is None or sig_cropped.empty:\n",
    "        return pd.Series(np.ones(2500,)*np.nan)\n",
    "\n",
    "    psd = psd_process(sig_cropped, fs=F_S, scaling='density', window='hamming', nfft=8192, noverlap=None, crop_hz=2500)\n",
    "    psd[fname] = psd.pow_amp\n",
    "    return psd[fname]\n",
    "\n",
    "def process_parallel(path):\n",
    "    data, _ = read_simple([path])\n",
    "    fname = path.split('/')[-1][:-4]\n",
    "    return get_psd(fname, data)\n",
    "\n",
    "def make_insect_df(insect_class='Culex'):\n",
    "    print('Setting the number of cores..')\n",
    "    try:\n",
    "        cpus = multiprocessing.cpu_count()\n",
    "    except NotImplementedError:\n",
    "        cpus = 2   # arbitrary default\n",
    "\n",
    "    print('Gathering all files for selected class..')\n",
    "    wavhdlr = WavHandler('/home/yannis/data/insects/Potamitis/Wingbeats/{}'.format(insect_class), sample_size=-1, recursive=True)\n",
    "    wavhdlr.read(create_table=True)\n",
    "    names = wavhdlr.df_table.names.tolist()\n",
    "\n",
    "    print('Creating poll of processes..')\n",
    "    pool = multiprocessing.Pool(processes=cpus)\n",
    "    print('Calculating..')\n",
    "    result_list = []\n",
    "    result_list.append(pool.map(process_parallel, names))\n",
    "    print('Creating Dataframe..')\n",
    "    df = pd.concat(result_list[0], axis=1, sort=False)\n",
    "    return df"
   ]
  },
  {
   "cell_type": "code",
   "execution_count": null,
   "metadata": {},
   "outputs": [],
   "source": [
    "#df_an = make_insect_df(insect_class='Anopheles')\n",
    "#print('Saving Dataframe..')\n",
    "#df_an.to_csv('./data/df_an.csv', sep=';')"
   ]
  },
  {
   "cell_type": "code",
   "execution_count": null,
   "metadata": {},
   "outputs": [],
   "source": [
    "#df_ae = make_insect_df(insect_class='Aedes')\n",
    "#print('Saving Dataframe..')\n",
    "#df_ae.to_csv('./data/df_ae.csv', sep=';')"
   ]
  },
  {
   "cell_type": "code",
   "execution_count": null,
   "metadata": {},
   "outputs": [],
   "source": [
    "#df_cu = make_insect_df(insect_class='Culex')\n",
    "#print('Saving Dataframe..')\n",
    "#df_cu.to_csv('./data/df_cu.csv', sep=';')"
   ]
  },
  {
   "cell_type": "markdown",
   "metadata": {},
   "source": [
    "# Principal Component Analysis"
   ]
  },
  {
   "cell_type": "code",
   "execution_count": null,
   "metadata": {},
   "outputs": [],
   "source": [
    "df_an = pd.read_csv('./data/df_an.csv', delimiter=';')\n"
   ]
  },
  {
   "cell_type": "code",
   "execution_count": null,
   "metadata": {},
   "outputs": [],
   "source": [
    "print(df_an.shape)\n",
    "df_an.drop('Unnamed: 0', axis=1, inplace=True)\n",
    "print(df_an.shape)"
   ]
  },
  {
   "cell_type": "code",
   "execution_count": null,
   "metadata": {},
   "outputs": [],
   "source": [
    "df_an.head()"
   ]
  },
  {
   "cell_type": "code",
   "execution_count": null,
   "metadata": {},
   "outputs": [],
   "source": [
    "df_an = df_an[df_an.columns[~df_an.isna().any()].tolist()]\n",
    "#df_an.iloc[:,2].isnull().sum()\n",
    "X = df_an.values\n",
    "cols = df_an.columns\n",
    "del df_an\n",
    "X = X.T"
   ]
  },
  {
   "cell_type": "code",
   "execution_count": null,
   "metadata": {},
   "outputs": [],
   "source": [
    "from sklearn.decomposition import PCA\n",
    "from sklearn.preprocessing import StandardScaler\n",
    "\n",
    "#idx = np.random.randint(X.shape[0], size=10000)\n",
    "#X = X[idx,:]\n",
    "X_std = StandardScaler(with_std=False).fit_transform(X);  # standardization of data\n",
    "\n",
    "pca = PCA(n_components=3) # 10 to get 80% explained variance\n",
    "Χ_final = pca.fit_transform(X_std)\n",
    "print(\"EXPLAINED VARIANCE: {0:.2f}\".format(pca.explained_variance_ratio_.sum()) )"
   ]
  },
  {
   "cell_type": "code",
   "execution_count": null,
   "metadata": {},
   "outputs": [],
   "source": [
    "#import matplotlib.pyplot as plt\n",
    "#import seaborn as sns\n",
    "#plt.figure(figsize=(15,11))\n",
    "#sns.scatterplot(Χ_final[:,0], Χ_final[:,1] ,alpha=0.4, size=Χ_final[:,2])\n",
    "#sns.\n",
    "#plt.xlabel('component 1')\n",
    "#plt.ylabel('component 2')\n"
   ]
  },
  {
   "cell_type": "code",
   "execution_count": null,
   "metadata": {},
   "outputs": [],
   "source": [
    "df_pca = pd.DataFrame(pca.components_,index = ['PC-1','PC-2', 'PC-3'])\n",
    "df_pca"
   ]
  },
  {
   "cell_type": "code",
   "execution_count": null,
   "metadata": {},
   "outputs": [],
   "source": [
    "df_pca.loc['PC-1'].plot()"
   ]
  },
  {
   "cell_type": "code",
   "execution_count": null,
   "metadata": {},
   "outputs": [],
   "source": [
    "df_pca.loc['PC-2'].plot()"
   ]
  },
  {
   "cell_type": "code",
   "execution_count": null,
   "metadata": {},
   "outputs": [],
   "source": [
    "df_pca.loc['PC-3'].plot()"
   ]
  },
  {
   "cell_type": "code",
   "execution_count": null,
   "metadata": {},
   "outputs": [],
   "source": [
    "import plotly\n",
    "import plotly.plotly as py\n",
    "plotly.tools.set_credentials_file(username='kalfasyan', api_key='oOr9ILFmszXQYREloJTp')\n",
    "\n",
    "import plotly.graph_objs as go\n",
    "\n",
    "import numpy as np\n",
    "\n",
    "x, y, z = Χ_final[:,0], Χ_final[:,1], Χ_final[:,2]\n",
    "trace1 = go.Scatter3d(\n",
    "    x=x,\n",
    "    y=y,\n",
    "    z=z,\n",
    "    mode='markers',\n",
    "    marker=dict(\n",
    "        size=1,\n",
    "        line=dict(\n",
    "            color=z,#'rgba(217, 217, 217, 0.14)',\n",
    "            colorscale='Viridis',\n",
    "            width=0.5\n",
    "        ),\n",
    "        opacity=0.9\n",
    "    )\n",
    ")\n",
    "\n",
    "\n",
    "data = [trace1]\n",
    "layout = go.Layout(\n",
    "    margin=dict(\n",
    "        l=0,\n",
    "        r=0,\n",
    "        b=0,\n",
    "        t=0\n",
    "    )\n",
    ")\n",
    "fig = go.Figure(data=data, layout=layout)\n",
    "py.iplot(fig, filename='simple-3d-scatter')"
   ]
  },
  {
   "cell_type": "code",
   "execution_count": null,
   "metadata": {},
   "outputs": [],
   "source": []
  },
  {
   "cell_type": "code",
   "execution_count": null,
   "metadata": {},
   "outputs": [],
   "source": [
    "from sklearn.cluster import KMeans\n",
    "\n",
    "kmeans = KMeans(init='k-means++', n_clusters=2, n_init=10)\n",
    "kmeans.fit(Χ_final)"
   ]
  },
  {
   "cell_type": "code",
   "execution_count": null,
   "metadata": {},
   "outputs": [],
   "source": [
    "import plotly\n",
    "import plotly.plotly as py\n",
    "plotly.tools.set_credentials_file(username='kalfasyan', api_key='oOr9ILFmszXQYREloJTp')\n",
    "\n",
    "import plotly.graph_objs as go\n",
    "\n",
    "import numpy as np\n",
    "\n",
    "x, y, z = Χ_final[:,0], Χ_final[:,1], Χ_final[:,2]\n",
    "trace1 = go.Scatter3d(\n",
    "    x=x,\n",
    "    y=y,\n",
    "    z=z,\n",
    "    mode='markers',\n",
    "    marker=dict(\n",
    "        size=1,\n",
    "        line=dict(\n",
    "            color=kmeans.labels_,#'rgba(217, 217, 217, 0.14)',\n",
    "            colorscale='Viridis',\n",
    "            width=0.5\n",
    "        ),\n",
    "        opacity=0.9\n",
    "    )\n",
    ")\n",
    "\n",
    "\n",
    "data = [trace1]\n",
    "layout = go.Layout(\n",
    "    margin=dict(\n",
    "        l=0,\n",
    "        r=0,\n",
    "        b=0,\n",
    "        t=0\n",
    "    )\n",
    ")\n",
    "fig = go.Figure(data=data, layout=layout)\n",
    "py.iplot(fig, filename='simple-3d-scatter')"
   ]
  },
  {
   "cell_type": "markdown",
   "metadata": {},
   "source": [
    "# Edw eisai"
   ]
  },
  {
   "cell_type": "code",
   "execution_count": null,
   "metadata": {},
   "outputs": [],
   "source": [
    "df_an = df_an.transpose()\n",
    "df_an.shape"
   ]
  },
  {
   "cell_type": "code",
   "execution_count": null,
   "metadata": {},
   "outputs": [],
   "source": [
    "df_an['kmeans'] = kmeans.labels_"
   ]
  },
  {
   "cell_type": "code",
   "execution_count": null,
   "metadata": {},
   "outputs": [],
   "source": [
    "df_an.sample(10)"
   ]
  },
  {
   "cell_type": "code",
   "execution_count": null,
   "metadata": {},
   "outputs": [],
   "source": [
    "import pickle\n",
    "\n",
    "def save_obj(obj, name ):\n",
    "    with open('./data/'+ name + '.pkl', 'wb') as f:\n",
    "        pickle.dump(obj, f, pickle.HIGHEST_PROTOCOL)\n",
    "\n",
    "def load_obj(name ):\n",
    "    with open('./data/' + name + '.pkl', 'rb') as f:\n",
    "        return pickle.load(f)"
   ]
  },
  {
   "cell_type": "code",
   "execution_count": null,
   "metadata": {},
   "outputs": [],
   "source": [
    "save_obj(df_an['kmeans'].to_dict(), 'df_an_clusters')"
   ]
  },
  {
   "cell_type": "code",
   "execution_count": null,
   "metadata": {},
   "outputs": [],
   "source": []
  },
  {
   "cell_type": "code",
   "execution_count": null,
   "metadata": {},
   "outputs": [],
   "source": []
  }
 ],
 "metadata": {
  "kernelspec": {
   "display_name": "Python 3",
   "language": "python",
   "name": "python3"
  },
  "language_info": {
   "codemirror_mode": {
    "name": "ipython",
    "version": 3
   },
   "file_extension": ".py",
   "mimetype": "text/x-python",
   "name": "python",
   "nbconvert_exporter": "python",
   "pygments_lexer": "ipython3",
   "version": "3.6.7"
  }
 },
 "nbformat": 4,
 "nbformat_minor": 2
}
