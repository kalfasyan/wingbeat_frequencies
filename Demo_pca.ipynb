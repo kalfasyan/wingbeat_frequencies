{
 "cells": [
  {
   "cell_type": "code",
   "execution_count": 1,
   "metadata": {},
   "outputs": [],
   "source": [
    "%reset -f\n",
    "import glob, os, sys, io\n",
    "sys.path.insert(1, os.path.join(sys.path[0], '..'))\n",
    "import pandas as pd\n",
    "import numpy as np\n",
    "import matplotlib.pyplot as plt\n",
    "import seaborn as sns\n",
    "sns.set() \n",
    "from wavhandler import *\n",
    "from utils import *\n",
    "\n",
    "import logging\n",
    "logger = logging.getLogger()\n",
    "logger.propagate = False\n",
    "logger.setLevel(logging.ERROR)\n",
    "np.random.seed(0)"
   ]
  },
  {
   "cell_type": "code",
   "execution_count": 2,
   "metadata": {},
   "outputs": [],
   "source": [
    "df_mosquitos = pd.read_pickle('./data/mosquitos.pkl')"
   ]
  },
  {
   "cell_type": "markdown",
   "metadata": {},
   "source": [
    "# Creating dataframes that contain PSDs for each insect class"
   ]
  },
  {
   "cell_type": "code",
   "execution_count": 3,
   "metadata": {},
   "outputs": [
    {
     "name": "stderr",
     "output_type": "stream",
     "text": [
      "/home/yannis/.virtualenvs/wingbeat_frequencies/lib/python3.6/site-packages/sklearn/externals/joblib/_multiprocessing_helpers.py:38: UserWarning: [Errno 10] No child processes.  joblib will operate in serial mode\n",
      "  warnings.warn('%s.  joblib will operate in serial mode' % (e,))\n",
      "/home/yannis/.virtualenvs/wingbeat_frequencies/lib/python3.6/site-packages/sklearn/externals/joblib/_multiprocessing_helpers.py:38: UserWarning: [Errno 10] No child processes.  joblib will operate in serial mode\n",
      "  warnings.warn('%s.  joblib will operate in serial mode' % (e,))\n",
      "/home/yannis/.virtualenvs/wingbeat_frequencies/lib/python3.6/site-packages/sklearn/externals/joblib/_multiprocessing_helpers.py:38: UserWarning: [Errno 10] No child processes.  joblib will operate in serial mode\n",
      "  warnings.warn('%s.  joblib will operate in serial mode' % (e,))\n",
      "/home/yannis/.virtualenvs/wingbeat_frequencies/lib/python3.6/site-packages/sklearn/externals/joblib/_multiprocessing_helpers.py:38: UserWarning: [Errno 10] No child processes.  joblib will operate in serial mode\n",
      "  warnings.warn('%s.  joblib will operate in serial mode' % (e,))\n",
      "/home/yannis/.virtualenvs/wingbeat_frequencies/lib/python3.6/site-packages/sklearn/externals/joblib/_multiprocessing_helpers.py:38: UserWarning: [Errno 10] No child processes.  joblib will operate in serial mode\n",
      "  warnings.warn('%s.  joblib will operate in serial mode' % (e,))\n",
      "/home/yannis/.virtualenvs/wingbeat_frequencies/lib/python3.6/site-packages/sklearn/externals/joblib/_multiprocessing_helpers.py:38: UserWarning: [Errno 10] No child processes.  joblib will operate in serial mode\n",
      "  warnings.warn('%s.  joblib will operate in serial mode' % (e,))\n",
      "/home/yannis/.virtualenvs/wingbeat_frequencies/lib/python3.6/site-packages/sklearn/externals/joblib/_multiprocessing_helpers.py:38: UserWarning: [Errno 10] No child processes.  joblib will operate in serial mode\n",
      "  warnings.warn('%s.  joblib will operate in serial mode' % (e,))\n",
      "/home/yannis/.virtualenvs/wingbeat_frequencies/lib/python3.6/site-packages/sklearn/externals/joblib/_multiprocessing_helpers.py:38: UserWarning: [Errno 10] No child processes.  joblib will operate in serial mode\n",
      "  warnings.warn('%s.  joblib will operate in serial mode' % (e,))\n",
      "/home/yannis/.virtualenvs/wingbeat_frequencies/lib/python3.6/site-packages/sklearn/externals/joblib/_multiprocessing_helpers.py:38: UserWarning: [Errno 10] No child processes.  joblib will operate in serial mode\n",
      "  warnings.warn('%s.  joblib will operate in serial mode' % (e,))\n",
      "/home/yannis/.virtualenvs/wingbeat_frequencies/lib/python3.6/site-packages/sklearn/externals/joblib/_multiprocessing_helpers.py:38: UserWarning: [Errno 10] No child processes.  joblib will operate in serial mode\n",
      "  warnings.warn('%s.  joblib will operate in serial mode' % (e,))\n",
      "/home/yannis/.virtualenvs/wingbeat_frequencies/lib/python3.6/site-packages/sklearn/externals/joblib/_multiprocessing_helpers.py:38: UserWarning: [Errno 10] No child processes.  joblib will operate in serial mode\n",
      "  warnings.warn('%s.  joblib will operate in serial mode' % (e,))\n",
      "/home/yannis/.virtualenvs/wingbeat_frequencies/lib/python3.6/site-packages/sklearn/externals/joblib/_multiprocessing_helpers.py:38: UserWarning: [Errno 10] No child processes.  joblib will operate in serial mode\n",
      "  warnings.warn('%s.  joblib will operate in serial mode' % (e,))\n",
      "/home/yannis/.virtualenvs/wingbeat_frequencies/lib/python3.6/site-packages/sklearn/externals/joblib/_multiprocessing_helpers.py:38: UserWarning: [Errno 10] No child processes.  joblib will operate in serial mode\n",
      "  warnings.warn('%s.  joblib will operate in serial mode' % (e,))\n",
      "/home/yannis/.virtualenvs/wingbeat_frequencies/lib/python3.6/site-packages/sklearn/externals/joblib/_multiprocessing_helpers.py:38: UserWarning: [Errno 10] No child processes.  joblib will operate in serial mode\n",
      "  warnings.warn('%s.  joblib will operate in serial mode' % (e,))\n",
      "/home/yannis/.virtualenvs/wingbeat_frequencies/lib/python3.6/site-packages/sklearn/externals/joblib/_multiprocessing_helpers.py:38: UserWarning: [Errno 10] No child processes.  joblib will operate in serial mode\n",
      "  warnings.warn('%s.  joblib will operate in serial mode' % (e,))\n",
      "/home/yannis/.virtualenvs/wingbeat_frequencies/lib/python3.6/site-packages/sklearn/externals/joblib/_multiprocessing_helpers.py:38: UserWarning: [Errno 10] No child processes.  joblib will operate in serial mode\n",
      "  warnings.warn('%s.  joblib will operate in serial mode' % (e,))\n",
      "/home/yannis/.virtualenvs/wingbeat_frequencies/lib/python3.6/site-packages/sklearn/externals/joblib/_multiprocessing_helpers.py:38: UserWarning: [Errno 10] No child processes.  joblib will operate in serial mode\n",
      "  warnings.warn('%s.  joblib will operate in serial mode' % (e,))\n",
      "/home/yannis/.virtualenvs/wingbeat_frequencies/lib/python3.6/site-packages/sklearn/externals/joblib/_multiprocessing_helpers.py:38: UserWarning: [Errno 10] No child processes.  joblib will operate in serial mode\n",
      "  warnings.warn('%s.  joblib will operate in serial mode' % (e,))\n",
      "/home/yannis/.virtualenvs/wingbeat_frequencies/lib/python3.6/site-packages/sklearn/externals/joblib/_multiprocessing_helpers.py:38: UserWarning: [Errno 10] No child processes.  joblib will operate in serial mode\n",
      "  warnings.warn('%s.  joblib will operate in serial mode' % (e,))\n",
      "/home/yannis/.virtualenvs/wingbeat_frequencies/lib/python3.6/site-packages/sklearn/externals/joblib/_multiprocessing_helpers.py:38: UserWarning: [Errno 10] No child processes.  joblib will operate in serial mode\n",
      "  warnings.warn('%s.  joblib will operate in serial mode' % (e,))\n",
      "/home/yannis/.virtualenvs/wingbeat_frequencies/lib/python3.6/site-packages/sklearn/externals/joblib/_multiprocessing_helpers.py:38: UserWarning: [Errno 10] No child processes.  joblib will operate in serial mode\n",
      "  warnings.warn('%s.  joblib will operate in serial mode' % (e,))\n",
      "/home/yannis/.virtualenvs/wingbeat_frequencies/lib/python3.6/site-packages/sklearn/externals/joblib/_multiprocessing_helpers.py:38: UserWarning: [Errno 10] No child processes.  joblib will operate in serial mode\n",
      "  warnings.warn('%s.  joblib will operate in serial mode' % (e,))\n",
      "/home/yannis/.virtualenvs/wingbeat_frequencies/lib/python3.6/site-packages/sklearn/externals/joblib/_multiprocessing_helpers.py:38: UserWarning: [Errno 10] No child processes.  joblib will operate in serial mode\n",
      "  warnings.warn('%s.  joblib will operate in serial mode' % (e,))\n",
      "/home/yannis/.virtualenvs/wingbeat_frequencies/lib/python3.6/site-packages/sklearn/externals/joblib/_multiprocessing_helpers.py:38: UserWarning: [Errno 10] No child processes.  joblib will operate in serial mode\n",
      "  warnings.warn('%s.  joblib will operate in serial mode' % (e,))\n"
     ]
    }
   ],
   "source": [
    "sz = 500\n",
    "df_an = make_df_parallel(df_mosquitos, setting='psd', insect_class='Anopheles', sample_size=sz).T\n",
    "df_an['label'] = 'an'\n",
    "df_ae = make_df_parallel(df_mosquitos, setting='psd',insect_class='Aedes', sample_size=sz).T\n",
    "df_ae['label'] = 'ae'\n",
    "df_cu = make_df_parallel(df_mosquitos, setting='psd',insect_class='Culex', sample_size=sz).T\n",
    "df_cu['label'] = 'cu'"
   ]
  },
  {
   "cell_type": "code",
   "execution_count": 4,
   "metadata": {},
   "outputs": [
    {
     "name": "stdout",
     "output_type": "stream",
     "text": [
      "(1500, 130)\n",
      "(1500, 130)\n",
      "(1500,)\n"
     ]
    }
   ],
   "source": [
    "df_concat = pd.concat([df_ae, df_an, df_cu], axis=0, sort=False)\n",
    "print(df_concat.shape)\n",
    "df_concat.dropna(how='all', axis=1, inplace=True)\n",
    "df_concat.dropna(how='any', axis=0, inplace=True)\n",
    "print(df_concat.shape)\n",
    "df_concat.head()\n",
    "labelarray = df_concat.label.values\n",
    "df_concat.drop('label', axis=1, inplace=True)\n",
    "print(labelarray.shape)"
   ]
  },
  {
   "cell_type": "markdown",
   "metadata": {},
   "source": [
    "### Example PSD"
   ]
  },
  {
   "cell_type": "code",
   "execution_count": 5,
   "metadata": {},
   "outputs": [],
   "source": [
    "# df_concat.iloc[9,:-1].plot()"
   ]
  },
  {
   "cell_type": "markdown",
   "metadata": {},
   "source": [
    "## Principal Component Analysis (traditional)"
   ]
  },
  {
   "cell_type": "code",
   "execution_count": 6,
   "metadata": {},
   "outputs": [
    {
     "name": "stdout",
     "output_type": "stream",
     "text": [
      "Covariance matrix \n",
      "[[7.05897896e-09 6.69500292e-09 4.07217153e-09 ... 2.55892626e-12\n",
      "  2.53576666e-12 2.52470742e-12]\n",
      " [6.69500292e-09 8.26110880e-09 1.87080897e-08 ... 2.25192008e-12\n",
      "  2.19863759e-12 2.18291930e-12]\n",
      " [4.07217153e-09 1.87080897e-08 1.19077699e-07 ... 1.02517216e-12\n",
      "  7.12074005e-13 6.57607245e-13]\n",
      " ...\n",
      " [2.55892626e-12 2.25192008e-12 1.02517216e-12 ... 1.23419824e-13\n",
      "  1.20112776e-13 1.19323698e-13]\n",
      " [2.53576666e-12 2.19863759e-12 7.12074005e-13 ... 1.20112776e-13\n",
      "  1.17296673e-13 1.16510663e-13]\n",
      " [2.52470742e-12 2.18291930e-12 6.57607245e-13 ... 1.19323698e-13\n",
      "  1.16510663e-13 1.15749472e-13]]\n",
      "NumPy covariance matrix: \n",
      "[[7.05897896e-09 6.69500292e-09 4.07217153e-09 ... 2.55892626e-12\n",
      "  2.53576666e-12 2.52470742e-12]\n",
      " [6.69500292e-09 8.26110880e-09 1.87080897e-08 ... 2.25192008e-12\n",
      "  2.19863759e-12 2.18291930e-12]\n",
      " [4.07217153e-09 1.87080897e-08 1.19077699e-07 ... 1.02517216e-12\n",
      "  7.12074005e-13 6.57607245e-13]\n",
      " ...\n",
      " [2.55892626e-12 2.25192008e-12 1.02517216e-12 ... 1.23419824e-13\n",
      "  1.20112776e-13 1.19323698e-13]\n",
      " [2.53576666e-12 2.19863759e-12 7.12074005e-13 ... 1.20112776e-13\n",
      "  1.17296673e-13 1.16510663e-13]\n",
      " [2.52470742e-12 2.18291930e-12 6.57607245e-13 ... 1.19323698e-13\n",
      "  1.16510663e-13 1.15749472e-13]]\n",
      "Eigenvectors \n",
      "[[-1.15503772e-04 -5.08711630e-05  1.30068062e-05 ...  1.64089615e-05\n",
      "   5.07556187e-05 -1.78065975e-05]\n",
      " [-1.00736838e-04 -4.78031914e-05  1.40304727e-05 ... -4.59063532e-05\n",
      "  -5.16296980e-05  1.98459510e-05]\n",
      " [ 2.37793361e-06 -2.24501312e-05  1.13637324e-05 ...  5.34699015e-05\n",
      "   1.76109916e-05 -4.51016788e-06]\n",
      " ...\n",
      " [ 6.52328766e-08  5.53055403e-08 -3.28761214e-08 ... -5.08539343e-01\n",
      "  -7.06832434e-01 -1.49472812e-01]\n",
      " [ 6.01352623e-08  4.88683222e-08 -3.21363298e-08 ... -2.01194710e-01\n",
      "   5.94228295e-01 -6.08605599e-01]\n",
      " [ 5.92327398e-08  4.82790891e-08 -3.14974633e-08 ... -2.34650937e-01\n",
      "   3.23363829e-01  7.79015180e-01]]\n",
      "\n",
      "Eigenvalues \n",
      "[1.45838013e-01 1.10665063e-01 8.19561699e-02 7.59265359e-02\n",
      " 5.13599610e-02 4.73255519e-02 3.60692558e-02 3.08186761e-02\n",
      " 2.80776810e-02 1.93115172e-02 1.87565544e-02 1.71748940e-02\n",
      " 1.41836428e-02 1.24403950e-02 1.09728462e-02 1.06061973e-02\n",
      " 1.03539018e-02 8.74194990e-03 8.56008371e-03 7.79819956e-03\n",
      " 7.32933394e-03 6.80049217e-03 6.00254527e-03 5.53807825e-03\n",
      " 4.64729691e-03 4.49508636e-03 4.09252149e-03 3.63984159e-03\n",
      " 2.61077968e-03 3.33304260e-03 3.18656154e-03 3.16833704e-03\n",
      " 2.13739864e-03 2.07546913e-03 1.88425865e-03 1.70700627e-03\n",
      " 1.54498197e-03 1.41842742e-03 1.26869913e-03 1.03515873e-03\n",
      " 1.07490553e-03 8.00908684e-04 6.92968680e-04 5.97338776e-04\n",
      " 4.79796102e-04 4.53891161e-04 3.56820978e-04 2.57761603e-04\n",
      " 1.97129855e-04 9.97417415e-05 7.15268025e-05 5.32685886e-05\n",
      " 4.30398297e-05 3.37887276e-05 2.44158713e-05 2.29879707e-05\n",
      " 1.46158150e-05 1.37665539e-05 1.01506099e-05 9.01648057e-06\n",
      " 8.30331180e-06 6.79844238e-06 6.49619448e-06 4.85436102e-06\n",
      " 4.13534306e-06 3.73694567e-06 3.38060465e-06 3.10406483e-06\n",
      " 2.55495718e-06 2.43306900e-06 2.00709462e-06 1.81271658e-06\n",
      " 1.63583817e-06 1.20463422e-06 1.12289324e-06 1.02419578e-06\n",
      " 8.49819535e-07 6.85435733e-07 6.15831285e-07 6.06149963e-07\n",
      " 5.37052735e-07 5.01141868e-07 4.07164695e-07 3.44078849e-07\n",
      " 3.09304747e-07 3.17637994e-07 2.13893175e-07 2.61361284e-07\n",
      " 2.47490081e-07 1.83838641e-07 1.58248801e-07 1.23392053e-07\n",
      " 9.95993784e-08 1.09210333e-07 7.98558683e-08 7.37112408e-08\n",
      " 6.73839636e-08 4.83300842e-08 4.59958090e-08 4.01757229e-08\n",
      " 3.31736009e-08 2.68862598e-08 2.56179241e-08 2.31631991e-08\n",
      " 1.84352012e-08 1.29007519e-08 1.09374586e-08 8.91729335e-09\n",
      " 6.78726018e-09 6.52793313e-09 6.17572336e-09 4.51937763e-09\n",
      " 3.29342526e-09 2.85125705e-09 9.46094513e-10 3.68503552e-10\n",
      " 1.89932225e-10 1.57366201e-10 2.42039926e-11 6.95681515e-12\n",
      " 4.51495804e-12 5.65282958e-13 2.17804596e-13 5.71457909e-14\n",
      " 5.73567162e-15 5.80808937e-16 4.94974138e-17 2.13452204e-18]\n"
     ]
    }
   ],
   "source": [
    "from sklearn.preprocessing import StandardScaler\n",
    "\n",
    "X = df_concat.iloc[:,:-1].values\n",
    "\n",
    "idx = np.random.randint(X.shape[0], size=3000)\n",
    "X = X[idx,:]\n",
    "\n",
    "labelarray = labelarray[idx]\n",
    "y = labelarray\n",
    "\n",
    "X_std = StandardScaler(with_std=False).fit_transform(X)\n",
    "\n",
    "mean_vec = np.mean(X_std, axis=0)\n",
    "\n",
    "cov_mat = (X_std - mean_vec).T.dot((X_std - mean_vec)) / (X_std.shape[0]-1)\n",
    "print('Covariance matrix \\n%s' %cov_mat)\n",
    "\n",
    "print('NumPy covariance matrix: \\n%s' %np.cov(X_std.T))\n",
    "\n",
    "cov_mat = np.cov(X_std.T)\n",
    "\n",
    "eig_vals, eig_vecs = np.linalg.eig(cov_mat)\n",
    "\n",
    "print('Eigenvectors \\n%s' %eig_vecs)\n",
    "print('\\nEigenvalues \\n%s' %eig_vals)"
   ]
  },
  {
   "cell_type": "code",
   "execution_count": 7,
   "metadata": {},
   "outputs": [
    {
     "name": "stdout",
     "output_type": "stream",
     "text": [
      "[[ 1.15503772e-04 -5.08711630e-05  1.30068062e-05 ... -1.64089653e-05\n",
      "  -5.07556183e-05 -1.78065983e-05]\n",
      " [ 1.00736838e-04 -4.78031914e-05  1.40304727e-05 ...  4.59063575e-05\n",
      "   5.16296976e-05  1.98459519e-05]\n",
      " [-2.37793361e-06 -2.24501312e-05  1.13637324e-05 ... -5.34699018e-05\n",
      "  -1.76109914e-05 -4.51016799e-06]\n",
      " ...\n",
      " [-6.52328766e-08  5.53055403e-08 -3.28761214e-08 ...  5.08539343e-01\n",
      "   7.06832433e-01 -1.49472812e-01]\n",
      " [-6.01352623e-08  4.88683222e-08 -3.21363298e-08 ...  2.01194710e-01\n",
      "  -5.94228295e-01 -6.08605599e-01]\n",
      " [-5.92327398e-08  4.82790891e-08 -3.14974633e-08 ...  2.34650937e-01\n",
      "  -3.23363829e-01  7.79015180e-01]]\n",
      "Everything ok!\n",
      "Eigenvalues in descending order:\n",
      "0.14583801250466677\n",
      "0.11066506322002209\n",
      "0.08195616994304944\n",
      "0.07592653592863195\n",
      "0.05135996096301426\n",
      "0.04732555185803517\n",
      "0.03606925580495032\n",
      "0.03081867610378408\n",
      "0.028077680958272327\n",
      "0.01931151717617064\n",
      "0.018756554359285995\n",
      "0.017174893973726357\n"
     ]
    }
   ],
   "source": [
    "u,s,v = np.linalg.svd(X_std.T)\n",
    "print(u)\n",
    "for ev in eig_vecs.T:\n",
    "    np.testing.assert_array_almost_equal(1.0, np.linalg.norm(ev))\n",
    "print('Everything ok!')\n",
    "\n",
    "# Make a list of (eigenvalue, eigenvector) tuples\n",
    "eig_pairs = [(np.abs(eig_vals[i]), eig_vecs[:,i]) for i in range(len(eig_vals))]\n",
    "\n",
    "# Sort the (eigenvalue, eigenvector) tuples from high to low\n",
    "eig_pairs.sort(key=lambda x: x[0], reverse=True)\n",
    "\n",
    "# Visually confirm that the list is correctly sorted by decreasing eigenvalues\n",
    "print('Eigenvalues in descending order:')\n",
    "for q,i in enumerate(eig_pairs):\n",
    "    print(i[0])\n",
    "    if q>10:\n",
    "        break"
   ]
  },
  {
   "cell_type": "code",
   "execution_count": 8,
   "metadata": {},
   "outputs": [],
   "source": [
    "tot = sum(eig_vals)\n",
    "var_exp = [(i / tot)*100 for i in sorted(eig_vals, reverse=True)]\n",
    "cum_var_exp = np.cumsum(var_exp)\n",
    "cum_var_exp = cum_var_exp[:10]\n",
    "var_exp = var_exp[:10]"
   ]
  },
  {
   "cell_type": "code",
   "execution_count": 9,
   "metadata": {},
   "outputs": [
    {
     "data": {
      "image/png": "[encoded data removed]",
      "text/plain": [
       "<Figure size 432x288 with 1 Axes>"
      ]
     },
     "metadata": {},
     "output_type": "display_data"
    }
   ],
   "source": [
    "with plt.style.context('seaborn-whitegrid'):\n",
    "    plt.figure(figsize=(6, 4))\n",
    "\n",
    "    plt.bar(range(len(var_exp)), np.array(var_exp), alpha=0.5)\n",
    "    plt.step(range(len(var_exp)), cum_var_exp, where='mid', label='cumulative explained variance')\n",
    "    plt.ylabel('Explained variance ratio')\n",
    "    plt.xlabel('Principal components')\n",
    "    plt.legend(loc='best')\n",
    "    plt.tight_layout()"
   ]
  },
  {
   "cell_type": "code",
   "execution_count": 10,
   "metadata": {},
   "outputs": [
    {
     "name": "stdout",
     "output_type": "stream",
     "text": [
      "Matrix W:\n",
      " [[-1.15503772e-04 -5.08711630e-05]\n",
      " [-1.00736838e-04 -4.78031914e-05]\n",
      " [ 2.37793361e-06 -2.24501312e-05]\n",
      " [ 8.26840360e-06 -3.49141493e-05]\n",
      " [-2.08471847e-05 -2.67264864e-05]\n",
      " [-3.27636209e-05 -6.58297412e-05]\n",
      " [-6.92704341e-05 -5.66316921e-05]\n",
      " [-7.42370307e-05  5.00924328e-05]\n",
      " [-4.19750019e-05  2.27304325e-04]\n",
      " [-2.08184836e-04  4.20040305e-04]\n",
      " [-8.48443933e-04  7.46516814e-04]\n",
      " [-4.33125918e-03  5.26467198e-03]\n",
      " [-2.90395677e-02  4.21269204e-02]\n",
      " [-1.65225091e-01  1.25228224e-01]\n",
      " [-4.37023156e-01  6.47852553e-02]\n",
      " [-4.78826329e-01 -1.97295726e-01]\n",
      " [-1.91624892e-01 -3.11575363e-01]\n",
      " [ 7.83117195e-02 -3.10391993e-01]\n",
      " [ 2.05153049e-01 -2.70737386e-01]\n",
      " [ 2.03297735e-01 -1.53732449e-01]\n",
      " [ 1.63936940e-01 -6.29445809e-02]\n",
      " [ 1.17137007e-01 -4.83514335e-03]\n",
      " [ 1.02163505e-01  3.77301755e-02]\n",
      " [ 9.24407390e-02  8.10307759e-02]\n",
      " [ 8.90366465e-02  1.55372358e-01]\n",
      " [ 8.37605051e-02  2.94482111e-01]\n",
      " [ 2.68055067e-02  3.97899686e-01]\n",
      " [-9.65511631e-02  3.62874867e-01]\n",
      " [-2.27423931e-01  1.81590023e-01]\n",
      " [-2.93272352e-01  7.44086312e-03]\n",
      " [-2.73118577e-01 -1.15418685e-01]\n",
      " [-1.99343208e-01 -1.67567897e-01]\n",
      " [-9.22407023e-02 -1.60603097e-01]\n",
      " [-9.93321538e-03 -1.36681129e-01]\n",
      " [ 5.42827972e-02 -1.45492903e-01]\n",
      " [ 9.98577365e-02 -1.51131865e-01]\n",
      " [ 1.13853828e-01 -1.25688341e-01]\n",
      " [ 1.15789408e-01 -9.72257202e-02]\n",
      " [ 1.13229897e-01 -6.78868695e-02]\n",
      " [ 9.75693413e-02 -3.89862070e-02]\n",
      " [ 6.99136434e-02 -1.04757901e-02]\n",
      " [ 5.67363751e-02 -1.49771702e-03]\n",
      " [ 4.11571978e-02  4.96406165e-03]\n",
      " [ 2.89868246e-02  7.43429273e-03]\n",
      " [ 2.35249027e-02  9.48787634e-03]\n",
      " [ 2.27584725e-02  1.27623500e-02]\n",
      " [ 1.69628949e-02  1.38317412e-02]\n",
      " [ 2.06684787e-02  1.80115047e-02]\n",
      " [ 2.50759541e-02  3.09373948e-02]\n",
      " [ 2.99592855e-02  4.99287034e-02]\n",
      " [ 3.48735325e-02  6.84464341e-02]\n",
      " [ 3.52964151e-02  8.47554940e-02]\n",
      " [ 3.27983604e-02  9.48889947e-02]\n",
      " [ 2.46896722e-02  8.98687542e-02]\n",
      " [ 1.36662424e-02  7.38041197e-02]\n",
      " [ 5.06163704e-03  4.80861818e-02]\n",
      " [ 1.40004399e-03  2.49913734e-02]\n",
      " [ 1.15674945e-03  8.38973282e-03]\n",
      " [ 1.84809499e-03 -2.36287369e-05]\n",
      " [ 6.81084366e-04 -2.54949725e-03]\n",
      " [ 8.73898013e-04 -3.24026030e-03]\n",
      " [ 8.25923572e-04 -3.47025401e-03]\n",
      " [ 7.97544184e-04 -2.81762724e-03]\n",
      " [ 1.24448022e-03 -2.77513582e-03]\n",
      " [ 2.51627155e-03 -2.36914367e-03]\n",
      " [ 2.88434353e-03 -1.42951299e-03]\n",
      " [ 2.77682476e-03 -3.88435219e-04]\n",
      " [ 3.19157850e-03  2.76250866e-04]\n",
      " [ 3.10635276e-03  9.38414611e-05]\n",
      " [ 2.79583666e-03 -2.06708588e-04]\n",
      " [ 2.75524128e-03 -3.42448504e-04]\n",
      " [ 2.67080102e-03 -6.69719378e-06]\n",
      " [ 2.39979323e-03  5.23222062e-04]\n",
      " [ 1.97267838e-03  7.14775286e-04]\n",
      " [ 1.94607556e-03  1.20165534e-03]\n",
      " [ 2.17285001e-03  1.77794079e-03]\n",
      " [ 2.28567900e-03  1.84985814e-03]\n",
      " [ 2.56332821e-03  1.84949169e-03]\n",
      " [ 2.35499892e-03  2.13262208e-03]\n",
      " [ 1.68050454e-03  2.27459883e-03]\n",
      " [ 1.44010488e-03  2.15351014e-03]\n",
      " [ 1.32861211e-03  2.01957371e-03]\n",
      " [ 1.14467295e-03  1.46380859e-03]\n",
      " [ 1.09271621e-03  1.19188933e-03]\n",
      " [ 8.89492156e-04  1.07637397e-03]\n",
      " [ 8.47417461e-04  6.39589726e-04]\n",
      " [ 8.60102606e-04  3.38283188e-04]\n",
      " [ 7.30286771e-04  2.72828181e-04]\n",
      " [ 6.67711208e-04  2.45970449e-04]\n",
      " [ 6.35292112e-04  2.27435770e-04]\n",
      " [ 5.98678564e-04  1.74132033e-04]\n",
      " [ 5.64709955e-04  2.27720294e-04]\n",
      " [ 5.02155091e-04  2.50364796e-04]\n",
      " [ 5.03250242e-04  2.44239078e-04]\n",
      " [ 5.73111459e-04  2.73273471e-04]\n",
      " [ 5.64791709e-04  3.18768776e-04]\n",
      " [ 5.69630504e-04  3.33085397e-04]\n",
      " [ 5.71405055e-04  3.37505285e-04]\n",
      " [ 5.29542837e-04  3.94038083e-04]\n",
      " [ 5.23117073e-04  4.78406797e-04]\n",
      " [ 5.66155234e-04  4.77840638e-04]\n",
      " [ 5.67188489e-04  5.42509272e-04]\n",
      " [ 5.03141034e-04  5.11449536e-04]\n",
      " [ 4.74818027e-04  5.26949387e-04]\n",
      " [ 4.45365183e-04  4.84381400e-04]\n",
      " [ 4.24464116e-04  4.37085125e-04]\n",
      " [ 3.91955366e-04  4.46432118e-04]\n",
      " [ 3.61785998e-04  4.22997083e-04]\n",
      " [ 3.43198264e-04  4.01065550e-04]\n",
      " [ 3.07265320e-04  3.31581839e-04]\n",
      " [ 2.65339749e-04  2.74385698e-04]\n",
      " [ 2.47939364e-04  2.51420065e-04]\n",
      " [ 2.37138648e-04  2.35184504e-04]\n",
      " [ 2.11017736e-04  1.98024392e-04]\n",
      " [ 1.69168643e-04  1.47543895e-04]\n",
      " [ 1.42164270e-04  1.02645655e-04]\n",
      " [ 9.14133484e-05  6.79423844e-05]\n",
      " [ 5.40999318e-05  3.89353769e-05]\n",
      " [ 3.00224535e-05  2.16701790e-05]\n",
      " [ 1.31900776e-05  1.09295085e-05]\n",
      " [ 5.64828571e-06  4.70682370e-06]\n",
      " [ 1.98607624e-06  1.68521959e-06]\n",
      " [ 6.50138716e-07  5.25799827e-07]\n",
      " [ 2.07701655e-07  1.66678236e-07]\n",
      " [ 8.82863618e-08  7.10995278e-08]\n",
      " [ 6.52328766e-08  5.53055403e-08]\n",
      " [ 6.01352623e-08  4.88683222e-08]\n",
      " [ 5.92327398e-08  4.82790891e-08]]\n"
     ]
    }
   ],
   "source": [
    "matrix_w = np.hstack((eig_pairs[0][1].reshape(128,1),\n",
    "                      eig_pairs[1][1].reshape(128,1)))\n",
    "\n",
    "print('Matrix W:\\n', matrix_w)"
   ]
  },
  {
   "cell_type": "code",
   "execution_count": 11,
   "metadata": {},
   "outputs": [],
   "source": [
    "Y = X_std.dot(matrix_w)"
   ]
  },
  {
   "cell_type": "code",
   "execution_count": 12,
   "metadata": {},
   "outputs": [
    {
     "data": {
      "text/plain": [
       "array(['ae', 'an', 'cu'], dtype=object)"
      ]
     },
     "execution_count": 12,
     "metadata": {},
     "output_type": "execute_result"
    }
   ],
   "source": [
    "np.unique(y)"
   ]
  },
  {
   "cell_type": "code",
   "execution_count": 13,
   "metadata": {},
   "outputs": [
    {
     "data": {
      "image/png": "[encoded data removed]",
      "text/plain": [
       "<Figure size 1440x720 with 1 Axes>"
      ]
     },
     "metadata": {},
     "output_type": "display_data"
    }
   ],
   "source": [
    "with plt.style.context('seaborn-whitegrid'):\n",
    "    plt.figure(figsize=(20, 10))\n",
    "    for lab, col in zip(('ae', 'an', 'cu'),\n",
    "                        ('blue', 'red', 'green')):\n",
    "        plt.scatter(Y[y==lab, 0],\n",
    "                    Y[y==lab, 1],\n",
    "                    label=lab,\n",
    "                    c=col)\n",
    "    plt.xlabel('Principal Component 1')\n",
    "    plt.ylabel('Principal Component 2')\n",
    "    plt.legend(loc='lower center')\n",
    "    plt.tight_layout()\n",
    "    plt.show()"
   ]
  },
  {
   "cell_type": "code",
   "execution_count": 14,
   "metadata": {},
   "outputs": [
    {
     "data": {
      "text/plain": [
       "array([[ 0.25875998,  0.46221415],\n",
       "       [ 0.31555419,  0.03631953],\n",
       "       [-0.49334054,  0.22980097],\n",
       "       ...,\n",
       "       [ 0.37639639, -0.32375332],\n",
       "       [-0.54407058, -0.07186294],\n",
       "       [-0.62546029,  0.08010501]])"
      ]
     },
     "execution_count": 14,
     "metadata": {},
     "output_type": "execute_result"
    }
   ],
   "source": [
    "Y"
   ]
  },
  {
   "cell_type": "code",
   "execution_count": null,
   "metadata": {},
   "outputs": [],
   "source": []
  },
  {
   "cell_type": "markdown",
   "metadata": {},
   "source": [
    "# Principal Component Analysis (short)"
   ]
  },
  {
   "cell_type": "code",
   "execution_count": 89,
   "metadata": {},
   "outputs": [
    {
     "name": "stdout",
     "output_type": "stream",
     "text": [
      "EXPLAINED VARIANCE with 2 components: 0.34\n"
     ]
    }
   ],
   "source": [
    "from sklearn.decomposition import PCA\n",
    "from sklearn.preprocessing import StandardScaler\n",
    "\n",
    "X = df_concat.iloc[:,:-1].values\n",
    "idx = np.random.randint(X.shape[0], size=3000)\n",
    "X = X[idx,:]\n",
    "labelarray = labelarray[idx]\n",
    "X_std = StandardScaler(with_std=False).fit_transform(X);  # standardization of data\n",
    "\n",
    "ncomps = 2\n",
    "pca = PCA(n_components=ncomps) # 10 to get 80% explained variance\n",
    "Χ_final = pca.fit_transform(X_std)\n",
    "print(\"EXPLAINED VARIANCE with {0:d} components: {1:.2f}\".format(ncomps,pca.explained_variance_ratio_.sum()) )\n",
    "\n",
    "plt.figure(figsize=(10,8))\n",
    "sns.scatterplot(Χ_final[:,0], Χ_final[:,1], hue=labelarray, style=labelarray, alpha=0.9)\n",
    "plt.xlabel('component 1')\n",
    "plt.ylabel('component 2')"
   ]
  },
  {
   "cell_type": "code",
   "execution_count": 91,
   "metadata": {},
   "outputs": [
    {
     "data": {
      "text/html": [
       "<div>\n",
       "<style scoped>\n",
       "    .dataframe tbody tr th:only-of-type {\n",
       "        vertical-align: middle;\n",
       "    }\n",
       "\n",
       "    .dataframe tbody tr th {\n",
       "        vertical-align: top;\n",
       "    }\n",
       "\n",
       "    .dataframe thead th {\n",
       "        text-align: right;\n",
       "    }\n",
       "</style>\n",
       "<table border=\"1\" class=\"dataframe\">\n",
       "  <thead>\n",
       "    <tr style=\"text-align: right;\">\n",
       "      <th></th>\n",
       "      <th>0</th>\n",
       "      <th>1</th>\n",
       "      <th>2</th>\n",
       "      <th>3</th>\n",
       "      <th>4</th>\n",
       "      <th>5</th>\n",
       "      <th>6</th>\n",
       "      <th>7</th>\n",
       "      <th>8</th>\n",
       "      <th>9</th>\n",
       "      <th>...</th>\n",
       "      <th>118</th>\n",
       "      <th>119</th>\n",
       "      <th>120</th>\n",
       "      <th>121</th>\n",
       "      <th>122</th>\n",
       "      <th>123</th>\n",
       "      <th>124</th>\n",
       "      <th>125</th>\n",
       "      <th>126</th>\n",
       "      <th>127</th>\n",
       "    </tr>\n",
       "  </thead>\n",
       "  <tbody>\n",
       "    <tr>\n",
       "      <th>PC-1</th>\n",
       "      <td>0.000115</td>\n",
       "      <td>0.000108</td>\n",
       "      <td>0.000184</td>\n",
       "      <td>0.000747</td>\n",
       "      <td>0.001134</td>\n",
       "      <td>0.000745</td>\n",
       "      <td>0.000454</td>\n",
       "      <td>0.000379</td>\n",
       "      <td>0.000295</td>\n",
       "      <td>0.0005</td>\n",
       "      <td>...</td>\n",
       "      <td>-2.282069e-08</td>\n",
       "      <td>-2.146093e-08</td>\n",
       "      <td>-2.110493e-08</td>\n",
       "      <td>-2.021947e-08</td>\n",
       "      <td>-1.957447e-08</td>\n",
       "      <td>-1.908503e-08</td>\n",
       "      <td>-1.868154e-08</td>\n",
       "      <td>-1.835962e-08</td>\n",
       "      <td>-1.813648e-08</td>\n",
       "      <td>-1.800157e-08</td>\n",
       "    </tr>\n",
       "    <tr>\n",
       "      <th>PC-2</th>\n",
       "      <td>-0.000028</td>\n",
       "      <td>-0.000009</td>\n",
       "      <td>0.000139</td>\n",
       "      <td>0.000407</td>\n",
       "      <td>0.000531</td>\n",
       "      <td>0.000621</td>\n",
       "      <td>0.000611</td>\n",
       "      <td>0.000538</td>\n",
       "      <td>0.000515</td>\n",
       "      <td>0.0006</td>\n",
       "      <td>...</td>\n",
       "      <td>5.441365e-08</td>\n",
       "      <td>5.378476e-08</td>\n",
       "      <td>5.267317e-08</td>\n",
       "      <td>5.199374e-08</td>\n",
       "      <td>5.124892e-08</td>\n",
       "      <td>5.072738e-08</td>\n",
       "      <td>5.024313e-08</td>\n",
       "      <td>4.990112e-08</td>\n",
       "      <td>4.964876e-08</td>\n",
       "      <td>4.949870e-08</td>\n",
       "    </tr>\n",
       "  </tbody>\n",
       "</table>\n",
       "<p>2 rows × 128 columns</p>\n",
       "</div>"
      ],
      "text/plain": [
       "           0         1         2         3         4         5         6    \\\n",
       "PC-1  0.000115  0.000108  0.000184  0.000747  0.001134  0.000745  0.000454   \n",
       "PC-2 -0.000028 -0.000009  0.000139  0.000407  0.000531  0.000621  0.000611   \n",
       "\n",
       "           7         8       9        ...                118           119  \\\n",
       "PC-1  0.000379  0.000295  0.0005      ...      -2.282069e-08 -2.146093e-08   \n",
       "PC-2  0.000538  0.000515  0.0006      ...       5.441365e-08  5.378476e-08   \n",
       "\n",
       "               120           121           122           123           124  \\\n",
       "PC-1 -2.110493e-08 -2.021947e-08 -1.957447e-08 -1.908503e-08 -1.868154e-08   \n",
       "PC-2  5.267317e-08  5.199374e-08  5.124892e-08  5.072738e-08  5.024313e-08   \n",
       "\n",
       "               125           126           127  \n",
       "PC-1 -1.835962e-08 -1.813648e-08 -1.800157e-08  \n",
       "PC-2  4.990112e-08  4.964876e-08  4.949870e-08  \n",
       "\n",
       "[2 rows x 128 columns]"
      ]
     },
     "execution_count": 91,
     "metadata": {},
     "output_type": "execute_result"
    }
   ],
   "source": [
    "df_pca = pd.DataFrame(pca.components_,index = ['PC-1','PC-2'])#, 'PC-3'])\n",
    "df_pca"
   ]
  },
  {
   "cell_type": "code",
   "execution_count": 93,
   "metadata": {},
   "outputs": [
    {
     "data": {
      "text/plain": [
       "<matplotlib.axes._subplots.AxesSubplot at 0x7effdbe7c208>"
      ]
     },
     "execution_count": 93,
     "metadata": {},
     "output_type": "execute_result"
    },
    {
     "data": {
      "image/png": "[encoded data removed]",
      "text/plain": [
       "<Figure size 432x288 with 1 Axes>"
      ]
     },
     "metadata": {
      "needs_background": "light"
     },
     "output_type": "display_data"
    }
   ],
   "source": [
    "df_pca.loc['PC-1'].plot()"
   ]
  },
  {
   "cell_type": "code",
   "execution_count": 94,
   "metadata": {},
   "outputs": [
    {
     "data": {
      "text/plain": [
       "<matplotlib.axes._subplots.AxesSubplot at 0x7effd220c2e8>"
      ]
     },
     "execution_count": 94,
     "metadata": {},
     "output_type": "execute_result"
    },
    {
     "data": {
      "image/png": "[encoded data removed]",
      "text/plain": [
       "<Figure size 432x288 with 1 Axes>"
      ]
     },
     "metadata": {
      "needs_background": "light"
     },
     "output_type": "display_data"
    }
   ],
   "source": [
    "df_pca.loc['PC-2'].plot()"
   ]
  },
  {
   "cell_type": "code",
   "execution_count": 95,
   "metadata": {},
   "outputs": [],
   "source": [
    "#df_pca.loc['PC-3'].plot()"
   ]
  },
  {
   "cell_type": "markdown",
   "metadata": {},
   "source": [
    "# 3D Plot (PCA scores, 3 components)"
   ]
  },
  {
   "cell_type": "code",
   "execution_count": 14,
   "metadata": {},
   "outputs": [
    {
     "name": "stderr",
     "output_type": "stream",
     "text": [
      "/home/yannis/.virtualenvs/wingbeat_frequencies/lib/python3.6/site-packages/IPython/core/display.py:689: UserWarning:\n",
      "\n",
      "Consider using IPython.display.IFrame instead\n",
      "\n"
     ]
    },
    {
     "data": {
      "text/html": [
       "<iframe id=\"igraph\" scrolling=\"no\" style=\"border:none;\" seamless=\"seamless\" src=\"https://plot.ly/~kalfasyan/268.embed\" height=\"525px\" width=\"100%\"></iframe>"
      ],
      "text/plain": [
       "<plotly.tools.PlotlyDisplay object>"
      ]
     },
     "execution_count": 14,
     "metadata": {},
     "output_type": "execute_result"
    }
   ],
   "source": [
    "import plotly\n",
    "import plotly.plotly as py\n",
    "from sklearn.preprocessing import LabelEncoder\n",
    "plotly.tools.set_credentials_file(username='kalfasyan', api_key='oOr9ILFmszXQYREloJTp')\n",
    "\n",
    "import plotly.graph_objs as go\n",
    "\n",
    "import numpy as np\n",
    "\n",
    "x, y, z = Χ_final[:,0], Χ_final[:,1], Χ_final[:,2]\n",
    "trace1 = go.Scatter3d(\n",
    "    x=x,\n",
    "    y=y,\n",
    "    z=z,\n",
    "    mode='markers',\n",
    "    marker=dict(\n",
    "        size=4,\n",
    "        line=dict(\n",
    "            color=LabelEncoder().fit(['cu','an','ae']).transform(labelarray),#'rgba(217, 217, 217, 0.14)',\n",
    "            colorscale='Portland',\n",
    "            width=0.5\n",
    "        ),\n",
    "        opacity=0.7\n",
    "    )\n",
    ")\n",
    "\n",
    "\n",
    "data = [trace1]\n",
    "layout = go.Layout(\n",
    "    margin=dict(\n",
    "        l=0,\n",
    "        r=0,\n",
    "        b=0,\n",
    "        t=0\n",
    "    )\n",
    ")\n",
    "fig = go.Figure(data=data, layout=layout)\n",
    "py.iplot(fig, filename='simple-3d-scatter')"
   ]
  },
  {
   "cell_type": "code",
   "execution_count": null,
   "metadata": {},
   "outputs": [],
   "source": []
  },
  {
   "cell_type": "code",
   "execution_count": null,
   "metadata": {},
   "outputs": [],
   "source": [
    "\n",
    "\n",
    "\n",
    "\n",
    "\n",
    "\n",
    "\n",
    "\n",
    "\n",
    "\n",
    "\n",
    "\n",
    "\n",
    "\n",
    "\n",
    "\n",
    "\n",
    "\n",
    "\n"
   ]
  },
  {
   "cell_type": "code",
   "execution_count": null,
   "metadata": {},
   "outputs": [],
   "source": []
  },
  {
   "cell_type": "code",
   "execution_count": null,
   "metadata": {},
   "outputs": [],
   "source": []
  },
  {
   "cell_type": "code",
   "execution_count": null,
   "metadata": {},
   "outputs": [],
   "source": [
    "from sklearn.cluster import KMeans\n",
    "\n",
    "kmeans = KMeans(init='k-means++', n_clusters=2, n_init=10)\n",
    "kmeans.fit(Χ_final)\n",
    "\n",
    "\n",
    "import plotly\n",
    "import plotly.plotly as py\n",
    "plotly.tools.set_credentials_file(username='kalfasyan', api_key='oOr9ILFmszXQYREloJTp')\n",
    "\n",
    "import plotly.graph_objs as go\n",
    "\n",
    "import numpy as np\n",
    "\n",
    "x, y, z = Χ_final[:,0], Χ_final[:,1], Χ_final[:,2]\n",
    "trace1 = go.Scatter3d(\n",
    "    x=x,\n",
    "    y=y,\n",
    "    z=z,\n",
    "    mode='markers',\n",
    "    marker=dict(\n",
    "        size=1,\n",
    "        line=dict(\n",
    "            color=kmeans.labels_,#'rgba(217, 217, 217, 0.14)',\n",
    "            colorscale='Viridis',\n",
    "            width=0.5\n",
    "        ),\n",
    "        opacity=0.9\n",
    "    )\n",
    ")\n",
    "\n",
    "\n",
    "data = [trace1]\n",
    "layout = go.Layout(\n",
    "    margin=dict(\n",
    "        l=0,\n",
    "        r=0,\n",
    "        b=0,\n",
    "        t=0\n",
    "    )\n",
    ")\n",
    "fig = go.Figure(data=data, layout=layout)\n",
    "py.iplot(fig, filename='simple-3d-scatter')"
   ]
  },
  {
   "cell_type": "code",
   "execution_count": null,
   "metadata": {},
   "outputs": [],
   "source": []
  },
  {
   "cell_type": "markdown",
   "metadata": {},
   "source": [
    "# Edw eisai"
   ]
  },
  {
   "cell_type": "code",
   "execution_count": null,
   "metadata": {},
   "outputs": [],
   "source": [
    "df_an = df_an.transpose()\n",
    "df_an.shape"
   ]
  },
  {
   "cell_type": "code",
   "execution_count": null,
   "metadata": {},
   "outputs": [],
   "source": [
    "df_an['kmeans'] = kmeans.labels_"
   ]
  },
  {
   "cell_type": "code",
   "execution_count": null,
   "metadata": {},
   "outputs": [],
   "source": [
    "df_an.sample(10)"
   ]
  },
  {
   "cell_type": "code",
   "execution_count": null,
   "metadata": {},
   "outputs": [],
   "source": [
    "import pickle\n",
    "\n",
    "def save_obj(obj, name ):\n",
    "    with open('./data/'+ name + '.pkl', 'wb') as f:\n",
    "        pickle.dump(obj, f, pickle.HIGHEST_PROTOCOL)\n",
    "\n",
    "def load_obj(name ):\n",
    "    with open('./data/' + name + '.pkl', 'rb') as f:\n",
    "        return pickle.load(f)"
   ]
  },
  {
   "cell_type": "code",
   "execution_count": null,
   "metadata": {},
   "outputs": [],
   "source": [
    "save_obj(df_an['kmeans'].to_dict(), 'df_an_clusters')"
   ]
  },
  {
   "cell_type": "code",
   "execution_count": null,
   "metadata": {},
   "outputs": [],
   "source": []
  },
  {
   "cell_type": "code",
   "execution_count": null,
   "metadata": {},
   "outputs": [],
   "source": []
  }
 ],
 "metadata": {
  "kernelspec": {
   "display_name": "Python 3",
   "language": "python",
   "name": "python3"
  },
  "language_info": {
   "codemirror_mode": {
    "name": "ipython",
    "version": 3
   },
   "file_extension": ".py",
   "mimetype": "text/x-python",
   "name": "python",
   "nbconvert_exporter": "python",
   "pygments_lexer": "ipython3",
   "version": "3.6.7"
  }
 },
 "nbformat": 4,
 "nbformat_minor": 2
}
