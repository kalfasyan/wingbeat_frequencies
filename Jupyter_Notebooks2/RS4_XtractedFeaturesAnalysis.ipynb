{
 "cells": [
  {
   "cell_type": "code",
   "execution_count": 1,
   "metadata": {},
   "outputs": [],
   "source": [
    "%reset -f\n",
    "%reload_ext autoreload\n",
    "%autoreload 2\n",
    "%matplotlib inline\n",
    "%config Completer.use_jedi = False"
   ]
  },
  {
   "cell_type": "code",
   "execution_count": 2,
   "metadata": {
    "scrolled": true
   },
   "outputs": [
    {
     "name": "stderr",
     "output_type": "stream",
     "text": [
      "/home/kalfasyan/anaconda3/envs/wbtf/lib/python3.7/site-packages/tensorflow/python/framework/dtypes.py:516: FutureWarning: Passing (type, 1) or '1type' as a synonym of type is deprecated; in a future version of numpy, it will be understood as (type, (1,)) / '(1,)type'.\n",
      "  _np_qint8 = np.dtype([(\"qint8\", np.int8, 1)])\n",
      "/home/kalfasyan/anaconda3/envs/wbtf/lib/python3.7/site-packages/tensorflow/python/framework/dtypes.py:517: FutureWarning: Passing (type, 1) or '1type' as a synonym of type is deprecated; in a future version of numpy, it will be understood as (type, (1,)) / '(1,)type'.\n",
      "  _np_quint8 = np.dtype([(\"quint8\", np.uint8, 1)])\n",
      "/home/kalfasyan/anaconda3/envs/wbtf/lib/python3.7/site-packages/tensorflow/python/framework/dtypes.py:518: FutureWarning: Passing (type, 1) or '1type' as a synonym of type is deprecated; in a future version of numpy, it will be understood as (type, (1,)) / '(1,)type'.\n",
      "  _np_qint16 = np.dtype([(\"qint16\", np.int16, 1)])\n",
      "/home/kalfasyan/anaconda3/envs/wbtf/lib/python3.7/site-packages/tensorflow/python/framework/dtypes.py:519: FutureWarning: Passing (type, 1) or '1type' as a synonym of type is deprecated; in a future version of numpy, it will be understood as (type, (1,)) / '(1,)type'.\n",
      "  _np_quint16 = np.dtype([(\"quint16\", np.uint16, 1)])\n",
      "/home/kalfasyan/anaconda3/envs/wbtf/lib/python3.7/site-packages/tensorflow/python/framework/dtypes.py:520: FutureWarning: Passing (type, 1) or '1type' as a synonym of type is deprecated; in a future version of numpy, it will be understood as (type, (1,)) / '(1,)type'.\n",
      "  _np_qint32 = np.dtype([(\"qint32\", np.int32, 1)])\n",
      "/home/kalfasyan/anaconda3/envs/wbtf/lib/python3.7/site-packages/tensorflow/python/framework/dtypes.py:525: FutureWarning: Passing (type, 1) or '1type' as a synonym of type is deprecated; in a future version of numpy, it will be understood as (type, (1,)) / '(1,)type'.\n",
      "  np_resource = np.dtype([(\"resource\", np.ubyte, 1)])\n",
      "/home/kalfasyan/anaconda3/envs/wbtf/lib/python3.7/site-packages/tensorboard/compat/tensorflow_stub/dtypes.py:541: FutureWarning: Passing (type, 1) or '1type' as a synonym of type is deprecated; in a future version of numpy, it will be understood as (type, (1,)) / '(1,)type'.\n",
      "  _np_qint8 = np.dtype([(\"qint8\", np.int8, 1)])\n",
      "/home/kalfasyan/anaconda3/envs/wbtf/lib/python3.7/site-packages/tensorboard/compat/tensorflow_stub/dtypes.py:542: FutureWarning: Passing (type, 1) or '1type' as a synonym of type is deprecated; in a future version of numpy, it will be understood as (type, (1,)) / '(1,)type'.\n",
      "  _np_quint8 = np.dtype([(\"quint8\", np.uint8, 1)])\n",
      "/home/kalfasyan/anaconda3/envs/wbtf/lib/python3.7/site-packages/tensorboard/compat/tensorflow_stub/dtypes.py:543: FutureWarning: Passing (type, 1) or '1type' as a synonym of type is deprecated; in a future version of numpy, it will be understood as (type, (1,)) / '(1,)type'.\n",
      "  _np_qint16 = np.dtype([(\"qint16\", np.int16, 1)])\n",
      "/home/kalfasyan/anaconda3/envs/wbtf/lib/python3.7/site-packages/tensorboard/compat/tensorflow_stub/dtypes.py:544: FutureWarning: Passing (type, 1) or '1type' as a synonym of type is deprecated; in a future version of numpy, it will be understood as (type, (1,)) / '(1,)type'.\n",
      "  _np_quint16 = np.dtype([(\"quint16\", np.uint16, 1)])\n",
      "/home/kalfasyan/anaconda3/envs/wbtf/lib/python3.7/site-packages/tensorboard/compat/tensorflow_stub/dtypes.py:545: FutureWarning: Passing (type, 1) or '1type' as a synonym of type is deprecated; in a future version of numpy, it will be understood as (type, (1,)) / '(1,)type'.\n",
      "  _np_qint32 = np.dtype([(\"qint32\", np.int32, 1)])\n",
      "/home/kalfasyan/anaconda3/envs/wbtf/lib/python3.7/site-packages/tensorboard/compat/tensorflow_stub/dtypes.py:550: FutureWarning: Passing (type, 1) or '1type' as a synonym of type is deprecated; in a future version of numpy, it will be understood as (type, (1,)) / '(1,)type'.\n",
      "  np_resource = np.dtype([(\"resource\", np.ubyte, 1)])\n"
     ]
    }
   ],
   "source": [
    "%reset -f\n",
    "import sys\n",
    "sys.path.insert(0, \"..\")\n",
    "from wavhandler import *\n",
    "from configs import DatasetConfiguration\n",
    "from utils_train import *\n",
    "from configs import *\n",
    "import numpy as np\n",
    "import math\n",
    "from sklearn.preprocessing import LabelEncoder\n",
    "from sklearn.utils import shuffle\n",
    "from sklearn.model_selection import train_test_split\n",
    "from sklearn.metrics import confusion_matrix, balanced_accuracy_score, classification_report, make_scorer, log_loss\n",
    "from sklearn.preprocessing import LabelBinarizer\n",
    "from sklearn.model_selection import train_test_split\n",
    "from sklearn.utils import class_weight\n",
    "import os\n",
    "import pandas as pd\n",
    "import seaborn as sb\n",
    "import matplotlib.pyplot as plt\n",
    "from tensorflow.keras import regularizers\n",
    "from tensorflow.keras.layers import Input\n",
    "from tensorflow.keras import optimizers\n",
    "from tensorflow.keras.models import Model\n",
    "from tensorflow.keras.models import Sequential\n",
    "from tensorflow.keras.layers import Dense, Flatten, Dropout, Activation, GlobalAveragePooling2D\n",
    "import seaborn as sb\n",
    "import deepdish as dd\n",
    "from datahandling import read_wbt, load_wbt, get_clean_wingbeats_multiple_runs\n",
    "import tensorflow as tf\n",
    "from tensorflow.keras.utils import to_categorical\n",
    "from tensorflow.keras.losses import CategoricalCrossentropy\n",
    "from tensorflow.python.keras import backend as K\n",
    "tf.enable_eager_execution() \n",
    "\n",
    "seed = 42\n",
    "np.random.seed(seed=seed)\n",
    "\n",
    "splitting = 'custom'\n",
    "data_setting = 'rawflt'\n",
    "model_setting = 'conv1d2'\n",
    "nb_classes = 2\n",
    "# clean = True"
   ]
  },
  {
   "cell_type": "markdown",
   "metadata": {},
   "source": [
    "### LOADING DATA"
   ]
  },
  {
   "cell_type": "code",
   "execution_count": 3,
   "metadata": {},
   "outputs": [],
   "source": [
    "train = pd.read_csv(f\"{TEMP_DATADIR}/df_train_{data_setting}_{splitting}.csv\", index_col=False)\n",
    "X_train = train.x.tolist()\n",
    "y_train = train.y.tolist()"
   ]
  },
  {
   "cell_type": "code",
   "execution_count": 4,
   "metadata": {},
   "outputs": [],
   "source": [
    "val = pd.read_csv(f\"{TEMP_DATADIR}/df_val_{data_setting}_{splitting}.csv\", index_col=False)\n",
    "X_val = val.x.tolist()\n",
    "y_val = val.y.tolist()"
   ]
  },
  {
   "cell_type": "code",
   "execution_count": 5,
   "metadata": {},
   "outputs": [],
   "source": [
    "test = pd.read_csv(f\"{TEMP_DATADIR}/df_test_{data_setting}_{splitting}.csv\", index_col=False)\n",
    "X_test = test.x.tolist()\n",
    "y_test = test.y.tolist()"
   ]
  },
  {
   "cell_type": "code",
   "execution_count": 6,
   "metadata": {},
   "outputs": [
    {
     "name": "stdout",
     "output_type": "stream",
     "text": [
      "train: \n",
      "1    13644\n",
      "0     9105\n",
      "dtype: int64\n",
      "\n",
      "val: \n",
      "1    4566\n",
      "0    3017\n",
      "dtype: int64\n",
      "\n",
      "test: \n",
      "1    14637\n",
      "0    12126\n",
      "dtype: int64\n"
     ]
    }
   ],
   "source": [
    "print(f\"train: \\n{pd.Series(y_train).value_counts()}\\n\")\n",
    "print(f\"val: \\n{pd.Series(y_val).value_counts()}\\n\")\n",
    "print(f\"test: \\n{pd.Series(y_test).value_counts()}\")"
   ]
  },
  {
   "cell_type": "markdown",
   "metadata": {},
   "source": [
    "### LOADING MODEL"
   ]
  },
  {
   "cell_type": "code",
   "execution_count": 7,
   "metadata": {},
   "outputs": [
    {
     "name": "stdout",
     "output_type": "stream",
     "text": [
      "WARNING:tensorflow:Weight and gradient histograms not supported for eagerexecution, setting `histogram_freq` to `0`.\n",
      "############ INPUT SHAPE:(5000, 1)\n"
     ]
    }
   ],
   "source": [
    "traincf = TrainConfiguration(nb_classes=nb_classes, setting=data_setting,model_name=f\"Flies_{data_setting}_{model_setting}_{splitting}\", monitor='val_loss')\n",
    "modelconf = ModelConfiguration(model_setting=model_setting, data_setting=data_setting, nb_classes=nb_classes, extra_dense_layer=False)\n",
    "model = modelconf.config\n",
    "\n",
    "model.compile(optimizer='adam', loss='categorical_crossentropy', metrics=['accuracy'], run_eagerly=True)\n",
    "model.load_weights(f\"{TEMP_DATADIR}/Flies_rawflt_conv1d2_custom.h5\")\n",
    "# model.summary()"
   ]
  },
  {
   "cell_type": "code",
   "execution_count": 8,
   "metadata": {},
   "outputs": [
    {
     "name": "stdout",
     "output_type": "stream",
     "text": [
      "837/837 [==============================] - 93s 111ms/step\n"
     ]
    }
   ],
   "source": [
    "y_scores = model.predict(valid_generator(X_test, y_test,\n",
    "                                     batch_size=traincf.batch_size,\n",
    "                                     target_names=np.unique(y_test).tolist(),\n",
    "                                     setting=traincf.setting, binary_labels=True),\n",
    "                         steps=int(math.ceil(float(len(X_test))/float(traincf.batch_size))),\n",
    "                         verbose=1)"
   ]
  },
  {
   "cell_type": "code",
   "execution_count": 9,
   "metadata": {},
   "outputs": [],
   "source": [
    "df = pd.DataFrame({\"x\": X_test, \"y\": y_test, \"score0\":y_scores[:,0], \"score1\":y_scores[:,1]})\n",
    "df['pred'] = np.argmax(y_scores, axis=1)\n",
    "df[\"right\"] = df.y == df.pred"
   ]
  },
  {
   "cell_type": "code",
   "execution_count": 10,
   "metadata": {},
   "outputs": [],
   "source": [
    "y_testcat = to_categorical(y_test)\n",
    "\n",
    "cce = CategoricalCrossentropy(reduction=\"none\")\n",
    "\n",
    "loss = cce(K.variable(y_testcat), K.variable(y_scores))\n",
    "df['loss'] = pd.Series(loss.numpy()).round(6)"
   ]
  },
  {
   "cell_type": "markdown",
   "metadata": {},
   "source": [
    "# How many intermediates do we have\n",
    "#### Defining the range for intermediates (uncertain points) based on a softmax output range"
   ]
  },
  {
   "cell_type": "code",
   "execution_count": 32,
   "metadata": {},
   "outputs": [
    {
     "name": "stdout",
     "output_type": "stream",
     "text": [
      "644 within given range\n",
      "52.48%% correct for the uncertain data points (644 total), average loss: 0.6961\n",
      "94.03%% correct for certain data points (26119 total), average loss: 0.2472\n",
      "94.15%% correct for a sample of certain data points (650 total), average loss: 0.2263\n",
      "93.03%% correct for all data points (26763 total), average loss: 0.2580\n"
     ]
    },
    {
     "data": {
      "image/png": "[encoded data removed]",
      "text/plain": [
       "<Figure size 1728x576 with 20 Axes>"
      ]
     },
     "metadata": {
      "needs_background": "light"
     },
     "output_type": "display_data"
    },
    {
     "data": {
      "image/png": "[encoded data removed]",
      "text/plain": [
       "<Figure size 432x288 with 1 Axes>"
      ]
     },
     "metadata": {
      "needs_background": "light"
     },
     "output_type": "display_data"
    },
    {
     "data": {
      "image/png": "[encoded data removed]",
      "text/plain": [
       "<Figure size 432x288 with 1 Axes>"
      ]
     },
     "metadata": {
      "needs_background": "light"
     },
     "output_type": "display_data"
    }
   ],
   "source": [
    "low = 0.35\n",
    "high = 0.65\n",
    "\n",
    "df_uncertain = df[(df.score0 > low) & (df.score0 < high) | (df.score1 > low) & (df.score1 < high)].reset_index().rename(columns={'index': 'index_og'})\n",
    "print(f\"{df_uncertain.shape[0]} within given range\")\n",
    "\n",
    "df_certain = df[~((df.score0 > low) & (df.score0 < high) | (df.score1 > low) & (df.score1 < high))].reset_index().rename(columns={'index': 'index_og'})\n",
    "\n",
    "clnscore = get_clean_wingbeats_multiple_runs(names=df_uncertain.x.tolist())\n",
    "df_uncertain['clean_score'] = clnscore\n",
    "unc_idx_list = df_uncertain.index.to_series().sample(20, replace=False).tolist()\n",
    "\n",
    "plt.figure(figsize=(24,8))\n",
    "for i, idx in enumerate(unc_idx_list):\n",
    "    plt.subplot(4,5,i+1)\n",
    "    path = df_uncertain.x.loc[idx]\n",
    "    label = df_uncertain.y.loc[idx]\n",
    "    right = df_uncertain.right.loc[idx]\n",
    "    clean_score = df_uncertain.clean_score.loc[idx]\n",
    "    loss = df_uncertain.loss.loc[idx]\n",
    "    score0 = df_uncertain.score0.loc[idx]\n",
    "    score1 = df_uncertain.score1.loc[idx]\n",
    "    sig = read_wbt(path)\n",
    "    assert idx in unc_idx_list\n",
    "    plt.plot(sig)\n",
    "    plt.axis('off')\n",
    "    plt.ylim(-.035,.035)\n",
    "    plt.title(f\"{right} / {score0:.0%}S0 / {score1:.0%}S1 / {loss:.3f}L / {clean_score:.2f}C\")\n",
    "\n",
    "# Print percentage of intermediates\n",
    "correct = df_uncertain.right.sum() / df_uncertain.shape[0]\n",
    "print(f\"{correct:.2%}% correct for the uncertain data points ({df_uncertain.shape[0]} total), average loss: {df_uncertain.loss.mean():.4f}\")\n",
    "correct = df_certain.right.sum() / df_certain.shape[0]\n",
    "print(f\"{correct:.2%}% correct for certain data points ({df_certain.shape[0]} total), average loss: {df_certain.loss.mean():.4f}\")\n",
    "spl = df_certain.sample(650)\n",
    "correct = spl.right.sum() / spl.shape[0]\n",
    "print(f\"{correct:.2%}% correct for a sample of certain data points ({spl.shape[0]} total), average loss: {spl.loss.mean():.4f}\")\n",
    "correct = df.right.sum() / df.shape[0]\n",
    "print(f\"{correct:.2%}% correct for all data points ({df.shape[0]} total), average loss: {df.loss.mean():.4f}\")\n",
    "\n",
    "plt.figure()\n",
    "plt.subplot(2,1,1);np_hist(df_certain.sample(df_uncertain.shape[0]),'loss');\n",
    "plt.subplot(2,1,2);np_hist(df_uncertain,'loss')"
   ]
  },
  {
   "cell_type": "markdown",
   "metadata": {},
   "source": [
    "# Unkown Insect - Zaprionus"
   ]
  },
  {
   "cell_type": "code",
   "execution_count": 18,
   "metadata": {},
   "outputs": [
    {
     "name": "stdout",
     "output_type": "stream",
     "text": [
      "Dataset - LG - exists: True\n",
      "Before cleaning: \n",
      "LG_zapr_26_09    7210\n",
      "Name: labels, dtype: int64\n",
      "After cleaning: \n",
      "LG_zapr_26_09    7022\n",
      "Name: labels, dtype: int64\n"
     ]
    }
   ],
   "source": [
    "zaprionus = DatasetConfiguration(names=['LG'])\n",
    "zaprionus.select(name='LG', species=['LG_zapr_26_09']); \n",
    "zaprionus.read();\n",
    "print(f\"Before cleaning: \\n{zaprionus.df.labels.value_counts()}\")\n",
    "zaprionus.clean();\n",
    "print(f\"After cleaning: \\n{zaprionus.df.labels.value_counts()}\")"
   ]
  },
  {
   "cell_type": "code",
   "execution_count": 25,
   "metadata": {},
   "outputs": [
    {
     "name": "stdout",
     "output_type": "stream",
     "text": [
      "220/220 [==============================] - 5s 23ms/step\n"
     ]
    },
    {
     "data": {
      "image/png": "[encoded data removed]",
      "text/plain": [
       "<Figure size 432x288 with 1 Axes>"
      ]
     },
     "metadata": {
      "needs_background": "light"
     },
     "output_type": "display_data"
    }
   ],
   "source": [
    "y_zapscores = model.predict(valid_generator(zaprionus.fnames.tolist(), [1 for i in zaprionus.fnames], # the label here doesn't matter since it basicaly extract the last layer features\n",
    "                                     batch_size=traincf.batch_size,\n",
    "                                     target_names=np.unique(y_test).tolist(),\n",
    "                                     setting=traincf.setting, binary_labels=True),\n",
    "                         steps=int(math.ceil(float(zaprionus.df.shape[0])/float(traincf.batch_size))),\n",
    "                         verbose=1)\n",
    "pd.Series(np.argmax(y_zapscores,axis=1)).value_counts().plot(kind='bar');"
   ]
  },
  {
   "cell_type": "code",
   "execution_count": 27,
   "metadata": {},
   "outputs": [],
   "source": [
    "dfzap = pd.DataFrame({\"x\": zaprionus.fnames.tolist(), \"y\": [1 for i in zaprionus.fnames], \"score0\":y_zapscores[:,0], \"score1\":y_zapscores[:,1]})\n",
    "dfzap['pred'] = np.argmax(y_zapscores, axis=1)\n",
    "dfzap[\"right\"] = False"
   ]
  },
  {
   "cell_type": "code",
   "execution_count": 33,
   "metadata": {},
   "outputs": [
    {
     "data": {
      "image/png": "[encoded data removed]",
      "text/plain": [
       "<Figure size 432x288 with 1 Axes>"
      ]
     },
     "metadata": {
      "needs_background": "light"
     },
     "output_type": "display_data"
    }
   ],
   "source": [
    "clnscore = get_clean_wingbeats_multiple_runs(names=dfzap.x.tolist())\n",
    "dfzap['clean_score'] = clnscore\n",
    "dfzap.clean_score.hist(bins=100);\n",
    "plt.title(\"clean metric\");"
   ]
  },
  {
   "cell_type": "code",
   "execution_count": 84,
   "metadata": {},
   "outputs": [
    {
     "data": {
      "image/png": "[encoded data removed]",
      "text/plain": [
       "<Figure size 432x288 with 1 Axes>"
      ]
     },
     "metadata": {
      "needs_background": "light"
     },
     "output_type": "display_data"
    }
   ],
   "source": [
    "versions = [0,1]\n",
    "for v in versions:\n",
    "    y_zapcat = to_categorical([v for i in zaprionus.fnames])\n",
    "\n",
    "    cce = CategoricalCrossentropy(reduction=\"none\")\n",
    "\n",
    "    loss = cce(K.variable(y_zapcat), K.variable(y_zapscores))\n",
    "    dfzap[f'loss{v}'] = pd.Series(loss.numpy()).round(6)\n",
    "\n",
    "    dfzap[f'loss{v}'].hist(bins=50);\n",
    "    plt.title(\"model loss for each zaprionus data point\");"
   ]
  },
  {
   "cell_type": "code",
   "execution_count": 83,
   "metadata": {},
   "outputs": [
    {
     "data": {
      "text/plain": [
       "<matplotlib.axes._subplots.AxesSubplot at 0x7f80d056a6d0>"
      ]
     },
     "execution_count": 83,
     "metadata": {},
     "output_type": "execute_result"
    },
    {
     "data": {
      "image/png": "[encoded data removed]",
      "text/plain": [
       "<Figure size 432x288 with 1 Axes>"
      ]
     },
     "metadata": {
      "needs_background": "light"
     },
     "output_type": "display_data"
    }
   ],
   "source": [
    "dfzap[['loss0','loss1']].mean(axis=1).hist(bins=50)"
   ]
  },
  {
   "cell_type": "code",
   "execution_count": 85,
   "metadata": {},
   "outputs": [
    {
     "data": {
      "text/html": [
       "<div>\n",
       "<style scoped>\n",
       "    .dataframe tbody tr th:only-of-type {\n",
       "        vertical-align: middle;\n",
       "    }\n",
       "\n",
       "    .dataframe tbody tr th {\n",
       "        vertical-align: top;\n",
       "    }\n",
       "\n",
       "    .dataframe thead th {\n",
       "        text-align: right;\n",
       "    }\n",
       "</style>\n",
       "<table border=\"1\" class=\"dataframe\">\n",
       "  <thead>\n",
       "    <tr style=\"text-align: right;\">\n",
       "      <th></th>\n",
       "      <th>x</th>\n",
       "      <th>y</th>\n",
       "      <th>score0</th>\n",
       "      <th>score1</th>\n",
       "      <th>pred</th>\n",
       "      <th>right</th>\n",
       "      <th>clean_score</th>\n",
       "      <th>loss0</th>\n",
       "      <th>loss1</th>\n",
       "    </tr>\n",
       "  </thead>\n",
       "  <tbody>\n",
       "    <tr>\n",
       "      <th>0</th>\n",
       "      <td>/home/kalfasyan/data/wingbeats/LG/LG_zapr_26_0...</td>\n",
       "      <td>1</td>\n",
       "      <td>3.044706e-13</td>\n",
       "      <td>1.000000</td>\n",
       "      <td>1</td>\n",
       "      <td>False</td>\n",
       "      <td>14.112984</td>\n",
       "      <td>16.118095</td>\n",
       "      <td>0.000000</td>\n",
       "    </tr>\n",
       "    <tr>\n",
       "      <th>1</th>\n",
       "      <td>/home/kalfasyan/data/wingbeats/LG/LG_zapr_26_0...</td>\n",
       "      <td>1</td>\n",
       "      <td>2.920870e-20</td>\n",
       "      <td>1.000000</td>\n",
       "      <td>1</td>\n",
       "      <td>False</td>\n",
       "      <td>12.607521</td>\n",
       "      <td>16.118095</td>\n",
       "      <td>0.000000</td>\n",
       "    </tr>\n",
       "    <tr>\n",
       "      <th>2</th>\n",
       "      <td>/home/kalfasyan/data/wingbeats/LG/LG_zapr_26_0...</td>\n",
       "      <td>1</td>\n",
       "      <td>1.075210e-11</td>\n",
       "      <td>1.000000</td>\n",
       "      <td>1</td>\n",
       "      <td>False</td>\n",
       "      <td>14.867266</td>\n",
       "      <td>16.118095</td>\n",
       "      <td>0.000000</td>\n",
       "    </tr>\n",
       "    <tr>\n",
       "      <th>3</th>\n",
       "      <td>/home/kalfasyan/data/wingbeats/LG/LG_zapr_26_0...</td>\n",
       "      <td>1</td>\n",
       "      <td>2.969445e-07</td>\n",
       "      <td>1.000000</td>\n",
       "      <td>1</td>\n",
       "      <td>False</td>\n",
       "      <td>11.751258</td>\n",
       "      <td>15.029720</td>\n",
       "      <td>0.000000</td>\n",
       "    </tr>\n",
       "    <tr>\n",
       "      <th>4</th>\n",
       "      <td>/home/kalfasyan/data/wingbeats/LG/LG_zapr_26_0...</td>\n",
       "      <td>1</td>\n",
       "      <td>2.528599e-23</td>\n",
       "      <td>1.000000</td>\n",
       "      <td>1</td>\n",
       "      <td>False</td>\n",
       "      <td>11.636634</td>\n",
       "      <td>16.118095</td>\n",
       "      <td>0.000000</td>\n",
       "    </tr>\n",
       "    <tr>\n",
       "      <th>...</th>\n",
       "      <td>...</td>\n",
       "      <td>...</td>\n",
       "      <td>...</td>\n",
       "      <td>...</td>\n",
       "      <td>...</td>\n",
       "      <td>...</td>\n",
       "      <td>...</td>\n",
       "      <td>...</td>\n",
       "      <td>...</td>\n",
       "    </tr>\n",
       "    <tr>\n",
       "      <th>7017</th>\n",
       "      <td>/home/kalfasyan/data/wingbeats/LG/LG_zapr_26_0...</td>\n",
       "      <td>1</td>\n",
       "      <td>1.325673e-04</td>\n",
       "      <td>0.999867</td>\n",
       "      <td>1</td>\n",
       "      <td>False</td>\n",
       "      <td>10.864307</td>\n",
       "      <td>8.928553</td>\n",
       "      <td>0.000133</td>\n",
       "    </tr>\n",
       "    <tr>\n",
       "      <th>7018</th>\n",
       "      <td>/home/kalfasyan/data/wingbeats/LG/LG_zapr_26_0...</td>\n",
       "      <td>1</td>\n",
       "      <td>2.179209e-21</td>\n",
       "      <td>1.000000</td>\n",
       "      <td>1</td>\n",
       "      <td>False</td>\n",
       "      <td>12.301978</td>\n",
       "      <td>16.118095</td>\n",
       "      <td>0.000000</td>\n",
       "    </tr>\n",
       "    <tr>\n",
       "      <th>7019</th>\n",
       "      <td>/home/kalfasyan/data/wingbeats/LG/LG_zapr_26_0...</td>\n",
       "      <td>1</td>\n",
       "      <td>4.773710e-11</td>\n",
       "      <td>1.000000</td>\n",
       "      <td>1</td>\n",
       "      <td>False</td>\n",
       "      <td>17.094403</td>\n",
       "      <td>16.118095</td>\n",
       "      <td>0.000000</td>\n",
       "    </tr>\n",
       "    <tr>\n",
       "      <th>7020</th>\n",
       "      <td>/home/kalfasyan/data/wingbeats/LG/LG_zapr_26_0...</td>\n",
       "      <td>1</td>\n",
       "      <td>5.233559e-06</td>\n",
       "      <td>0.999995</td>\n",
       "      <td>1</td>\n",
       "      <td>False</td>\n",
       "      <td>14.275101</td>\n",
       "      <td>12.160425</td>\n",
       "      <td>0.000005</td>\n",
       "    </tr>\n",
       "    <tr>\n",
       "      <th>7021</th>\n",
       "      <td>/home/kalfasyan/data/wingbeats/LG/LG_zapr_26_0...</td>\n",
       "      <td>1</td>\n",
       "      <td>7.639305e-29</td>\n",
       "      <td>1.000000</td>\n",
       "      <td>1</td>\n",
       "      <td>False</td>\n",
       "      <td>12.329506</td>\n",
       "      <td>16.118095</td>\n",
       "      <td>0.000000</td>\n",
       "    </tr>\n",
       "  </tbody>\n",
       "</table>\n",
       "<p>6677 rows × 9 columns</p>\n",
       "</div>"
      ],
      "text/plain": [
       "                                                      x  y        score0  \\\n",
       "0     /home/kalfasyan/data/wingbeats/LG/LG_zapr_26_0...  1  3.044706e-13   \n",
       "1     /home/kalfasyan/data/wingbeats/LG/LG_zapr_26_0...  1  2.920870e-20   \n",
       "2     /home/kalfasyan/data/wingbeats/LG/LG_zapr_26_0...  1  1.075210e-11   \n",
       "3     /home/kalfasyan/data/wingbeats/LG/LG_zapr_26_0...  1  2.969445e-07   \n",
       "4     /home/kalfasyan/data/wingbeats/LG/LG_zapr_26_0...  1  2.528599e-23   \n",
       "...                                                 ... ..           ...   \n",
       "7017  /home/kalfasyan/data/wingbeats/LG/LG_zapr_26_0...  1  1.325673e-04   \n",
       "7018  /home/kalfasyan/data/wingbeats/LG/LG_zapr_26_0...  1  2.179209e-21   \n",
       "7019  /home/kalfasyan/data/wingbeats/LG/LG_zapr_26_0...  1  4.773710e-11   \n",
       "7020  /home/kalfasyan/data/wingbeats/LG/LG_zapr_26_0...  1  5.233559e-06   \n",
       "7021  /home/kalfasyan/data/wingbeats/LG/LG_zapr_26_0...  1  7.639305e-29   \n",
       "\n",
       "        score1  pred  right  clean_score      loss0     loss1  \n",
       "0     1.000000     1  False    14.112984  16.118095  0.000000  \n",
       "1     1.000000     1  False    12.607521  16.118095  0.000000  \n",
       "2     1.000000     1  False    14.867266  16.118095  0.000000  \n",
       "3     1.000000     1  False    11.751258  15.029720  0.000000  \n",
       "4     1.000000     1  False    11.636634  16.118095  0.000000  \n",
       "...        ...   ...    ...          ...        ...       ...  \n",
       "7017  0.999867     1  False    10.864307   8.928553  0.000133  \n",
       "7018  1.000000     1  False    12.301978  16.118095  0.000000  \n",
       "7019  1.000000     1  False    17.094403  16.118095  0.000000  \n",
       "7020  0.999995     1  False    14.275101  12.160425  0.000005  \n",
       "7021  1.000000     1  False    12.329506  16.118095  0.000000  \n",
       "\n",
       "[6677 rows x 9 columns]"
      ]
     },
     "execution_count": 85,
     "metadata": {},
     "output_type": "execute_result"
    }
   ],
   "source": [
    "dfzap[dfzap[['loss0','loss1']].mean(axis=1)>2]"
   ]
  },
  {
   "cell_type": "markdown",
   "metadata": {},
   "source": [
    "# Unkown Insect - MeBioS suzukii"
   ]
  },
  {
   "cell_type": "code",
   "execution_count": 86,
   "metadata": {},
   "outputs": [
    {
     "name": "stdout",
     "output_type": "stream",
     "text": [
      "Dataset - Suzukii_RL - exists: True\n",
      "Before cleaning: \n",
      "R    14348\n",
      "Name: labels, dtype: int64\n",
      "After cleaning: \n",
      "R    10140\n",
      "Name: labels, dtype: int64\n"
     ]
    }
   ],
   "source": [
    "suzukii = DatasetConfiguration(names=['Suzukii_RL'])\n",
    "suzukii.select(name='Suzukii_RL', species=['R']); \n",
    "suzukii.read();\n",
    "print(f\"Before cleaning: \\n{suzukii.df.labels.value_counts()}\")\n",
    "suzukii.clean();\n",
    "print(f\"After cleaning: \\n{suzukii.df.labels.value_counts()}\")"
   ]
  },
  {
   "cell_type": "code",
   "execution_count": 87,
   "metadata": {},
   "outputs": [
    {
     "name": "stdout",
     "output_type": "stream",
     "text": [
      "317/317 [==============================] - 7s 22ms/step\n"
     ]
    },
    {
     "data": {
      "image/png": "[encoded data removed]",
      "text/plain": [
       "<Figure size 432x288 with 1 Axes>"
      ]
     },
     "metadata": {
      "needs_background": "light"
     },
     "output_type": "display_data"
    }
   ],
   "source": [
    "y_suzscores = model.predict(valid_generator(suzukii.fnames.tolist(), [1 for i in suzukii.fnames], # the label here doesn't matter since it basicaly extract the last layer features\n",
    "                                     batch_size=traincf.batch_size,\n",
    "                                     target_names=np.unique(y_test).tolist(),\n",
    "                                     setting=traincf.setting, binary_labels=True),\n",
    "                         steps=int(math.ceil(float(suzukii.df.shape[0])/float(traincf.batch_size))),\n",
    "                         verbose=1)\n",
    "pd.Series(np.argmax(y_suzscores,axis=1)).value_counts().plot(kind='bar');"
   ]
  },
  {
   "cell_type": "code",
   "execution_count": 89,
   "metadata": {},
   "outputs": [],
   "source": [
    "dfsuz = pd.DataFrame({\"x\": suzukii.fnames.tolist(), \"y\": [1 for i in suzukii.fnames], \"score0\":y_suzscores[:,0], \"score1\":y_suzscores[:,1]})\n",
    "dfsuz['pred'] = np.argmax(y_suzscores, axis=1)\n",
    "dfsuz[\"right\"] = False"
   ]
  },
  {
   "cell_type": "code",
   "execution_count": 90,
   "metadata": {},
   "outputs": [
    {
     "data": {
      "image/png": "[encoded data removed]",
      "text/plain": [
       "<Figure size 432x288 with 1 Axes>"
      ]
     },
     "metadata": {
      "needs_background": "light"
     },
     "output_type": "display_data"
    }
   ],
   "source": [
    "clnscore = get_clean_wingbeats_multiple_runs(names=dfsuz.x.tolist())\n",
    "dfsuz['clean_score'] = clnscore\n",
    "dfsuz.clean_score.hist(bins=100);\n",
    "plt.title(\"clean metric\");"
   ]
  },
  {
   "cell_type": "code",
   "execution_count": 91,
   "metadata": {},
   "outputs": [
    {
     "data": {
      "image/png": "[encoded data removed]",
      "text/plain": [
       "<Figure size 432x288 with 1 Axes>"
      ]
     },
     "metadata": {
      "needs_background": "light"
     },
     "output_type": "display_data"
    }
   ],
   "source": [
    "versions = [0,1]\n",
    "for v in versions:\n",
    "    y_suzcat = to_categorical([v for i in suzukii.fnames])\n",
    "\n",
    "    cce = CategoricalCrossentropy(reduction=\"none\")\n",
    "\n",
    "    loss = cce(K.variable(y_suzcat), K.variable(y_suzscores))\n",
    "    dfsuz[f'loss{v}'] = pd.Series(loss.numpy()).round(6)\n",
    "\n",
    "    dfsuz[f'loss{v}'].hist(bins=50);\n",
    "    plt.title(\"model loss for each mebios suzukii data point\");"
   ]
  },
  {
   "cell_type": "code",
   "execution_count": 92,
   "metadata": {},
   "outputs": [
    {
     "data": {
      "text/plain": [
       "<matplotlib.axes._subplots.AxesSubplot at 0x7f80a01a4090>"
      ]
     },
     "execution_count": 92,
     "metadata": {},
     "output_type": "execute_result"
    },
    {
     "data": {
      "image/png": "[encoded data removed]",
      "text/plain": [
       "<Figure size 432x288 with 1 Axes>"
      ]
     },
     "metadata": {
      "needs_background": "light"
     },
     "output_type": "display_data"
    }
   ],
   "source": [
    "dfsuz[['loss0','loss1']].mean(axis=1).hist(bins=50)"
   ]
  },
  {
   "cell_type": "code",
   "execution_count": 93,
   "metadata": {},
   "outputs": [
    {
     "data": {
      "text/html": [
       "<div>\n",
       "<style scoped>\n",
       "    .dataframe tbody tr th:only-of-type {\n",
       "        vertical-align: middle;\n",
       "    }\n",
       "\n",
       "    .dataframe tbody tr th {\n",
       "        vertical-align: top;\n",
       "    }\n",
       "\n",
       "    .dataframe thead th {\n",
       "        text-align: right;\n",
       "    }\n",
       "</style>\n",
       "<table border=\"1\" class=\"dataframe\">\n",
       "  <thead>\n",
       "    <tr style=\"text-align: right;\">\n",
       "      <th></th>\n",
       "      <th>x</th>\n",
       "      <th>y</th>\n",
       "      <th>score0</th>\n",
       "      <th>score1</th>\n",
       "      <th>pred</th>\n",
       "      <th>right</th>\n",
       "      <th>clean_score</th>\n",
       "      <th>loss0</th>\n",
       "      <th>loss1</th>\n",
       "    </tr>\n",
       "  </thead>\n",
       "  <tbody>\n",
       "    <tr>\n",
       "      <th>0</th>\n",
       "      <td>/home/kalfasyan/data/wingbeats/Suzukii_RL/R/D_...</td>\n",
       "      <td>1</td>\n",
       "      <td>4.126457e-03</td>\n",
       "      <td>0.995874</td>\n",
       "      <td>1</td>\n",
       "      <td>False</td>\n",
       "      <td>17.169162</td>\n",
       "      <td>5.494471</td>\n",
       "      <td>0.004135</td>\n",
       "    </tr>\n",
       "    <tr>\n",
       "      <th>1</th>\n",
       "      <td>/home/kalfasyan/data/wingbeats/Suzukii_RL/R/D_...</td>\n",
       "      <td>1</td>\n",
       "      <td>5.787818e-04</td>\n",
       "      <td>0.999421</td>\n",
       "      <td>1</td>\n",
       "      <td>False</td>\n",
       "      <td>18.229857</td>\n",
       "      <td>7.455164</td>\n",
       "      <td>0.000579</td>\n",
       "    </tr>\n",
       "    <tr>\n",
       "      <th>2</th>\n",
       "      <td>/home/kalfasyan/data/wingbeats/Suzukii_RL/R/D_...</td>\n",
       "      <td>1</td>\n",
       "      <td>2.064502e-04</td>\n",
       "      <td>0.999794</td>\n",
       "      <td>1</td>\n",
       "      <td>False</td>\n",
       "      <td>16.522449</td>\n",
       "      <td>8.485657</td>\n",
       "      <td>0.000206</td>\n",
       "    </tr>\n",
       "    <tr>\n",
       "      <th>3</th>\n",
       "      <td>/home/kalfasyan/data/wingbeats/Suzukii_RL/R/D_...</td>\n",
       "      <td>1</td>\n",
       "      <td>2.405595e-13</td>\n",
       "      <td>1.000000</td>\n",
       "      <td>1</td>\n",
       "      <td>False</td>\n",
       "      <td>12.910261</td>\n",
       "      <td>16.118095</td>\n",
       "      <td>0.000000</td>\n",
       "    </tr>\n",
       "    <tr>\n",
       "      <th>4</th>\n",
       "      <td>/home/kalfasyan/data/wingbeats/Suzukii_RL/R/D_...</td>\n",
       "      <td>1</td>\n",
       "      <td>5.386532e-04</td>\n",
       "      <td>0.999461</td>\n",
       "      <td>1</td>\n",
       "      <td>False</td>\n",
       "      <td>14.473140</td>\n",
       "      <td>7.526978</td>\n",
       "      <td>0.000539</td>\n",
       "    </tr>\n",
       "    <tr>\n",
       "      <th>...</th>\n",
       "      <td>...</td>\n",
       "      <td>...</td>\n",
       "      <td>...</td>\n",
       "      <td>...</td>\n",
       "      <td>...</td>\n",
       "      <td>...</td>\n",
       "      <td>...</td>\n",
       "      <td>...</td>\n",
       "      <td>...</td>\n",
       "    </tr>\n",
       "    <tr>\n",
       "      <th>10135</th>\n",
       "      <td>/home/kalfasyan/data/wingbeats/Suzukii_RL/R/D_...</td>\n",
       "      <td>1</td>\n",
       "      <td>1.925706e-03</td>\n",
       "      <td>0.998074</td>\n",
       "      <td>1</td>\n",
       "      <td>False</td>\n",
       "      <td>12.878632</td>\n",
       "      <td>6.254390</td>\n",
       "      <td>0.001928</td>\n",
       "    </tr>\n",
       "    <tr>\n",
       "      <th>10136</th>\n",
       "      <td>/home/kalfasyan/data/wingbeats/Suzukii_RL/R/D_...</td>\n",
       "      <td>1</td>\n",
       "      <td>8.487764e-07</td>\n",
       "      <td>0.999999</td>\n",
       "      <td>1</td>\n",
       "      <td>False</td>\n",
       "      <td>14.031738</td>\n",
       "      <td>13.979471</td>\n",
       "      <td>0.000001</td>\n",
       "    </tr>\n",
       "    <tr>\n",
       "      <th>10137</th>\n",
       "      <td>/home/kalfasyan/data/wingbeats/Suzukii_RL/R/D_...</td>\n",
       "      <td>1</td>\n",
       "      <td>9.776389e-01</td>\n",
       "      <td>0.022361</td>\n",
       "      <td>0</td>\n",
       "      <td>False</td>\n",
       "      <td>15.093343</td>\n",
       "      <td>3.823046</td>\n",
       "      <td>3.800431</td>\n",
       "    </tr>\n",
       "    <tr>\n",
       "      <th>10138</th>\n",
       "      <td>/home/kalfasyan/data/wingbeats/Suzukii_RL/R/D_...</td>\n",
       "      <td>1</td>\n",
       "      <td>7.504321e-06</td>\n",
       "      <td>0.999992</td>\n",
       "      <td>1</td>\n",
       "      <td>False</td>\n",
       "      <td>14.058974</td>\n",
       "      <td>11.800039</td>\n",
       "      <td>0.000008</td>\n",
       "    </tr>\n",
       "    <tr>\n",
       "      <th>10139</th>\n",
       "      <td>/home/kalfasyan/data/wingbeats/Suzukii_RL/R/D_...</td>\n",
       "      <td>1</td>\n",
       "      <td>1.119953e-11</td>\n",
       "      <td>1.000000</td>\n",
       "      <td>1</td>\n",
       "      <td>False</td>\n",
       "      <td>11.649047</td>\n",
       "      <td>16.118095</td>\n",
       "      <td>0.000000</td>\n",
       "    </tr>\n",
       "  </tbody>\n",
       "</table>\n",
       "<p>8284 rows × 9 columns</p>\n",
       "</div>"
      ],
      "text/plain": [
       "                                                       x  y        score0  \\\n",
       "0      /home/kalfasyan/data/wingbeats/Suzukii_RL/R/D_...  1  4.126457e-03   \n",
       "1      /home/kalfasyan/data/wingbeats/Suzukii_RL/R/D_...  1  5.787818e-04   \n",
       "2      /home/kalfasyan/data/wingbeats/Suzukii_RL/R/D_...  1  2.064502e-04   \n",
       "3      /home/kalfasyan/data/wingbeats/Suzukii_RL/R/D_...  1  2.405595e-13   \n",
       "4      /home/kalfasyan/data/wingbeats/Suzukii_RL/R/D_...  1  5.386532e-04   \n",
       "...                                                  ... ..           ...   \n",
       "10135  /home/kalfasyan/data/wingbeats/Suzukii_RL/R/D_...  1  1.925706e-03   \n",
       "10136  /home/kalfasyan/data/wingbeats/Suzukii_RL/R/D_...  1  8.487764e-07   \n",
       "10137  /home/kalfasyan/data/wingbeats/Suzukii_RL/R/D_...  1  9.776389e-01   \n",
       "10138  /home/kalfasyan/data/wingbeats/Suzukii_RL/R/D_...  1  7.504321e-06   \n",
       "10139  /home/kalfasyan/data/wingbeats/Suzukii_RL/R/D_...  1  1.119953e-11   \n",
       "\n",
       "         score1  pred  right  clean_score      loss0     loss1  \n",
       "0      0.995874     1  False    17.169162   5.494471  0.004135  \n",
       "1      0.999421     1  False    18.229857   7.455164  0.000579  \n",
       "2      0.999794     1  False    16.522449   8.485657  0.000206  \n",
       "3      1.000000     1  False    12.910261  16.118095  0.000000  \n",
       "4      0.999461     1  False    14.473140   7.526978  0.000539  \n",
       "...         ...   ...    ...          ...        ...       ...  \n",
       "10135  0.998074     1  False    12.878632   6.254390  0.001928  \n",
       "10136  0.999999     1  False    14.031738  13.979471  0.000001  \n",
       "10137  0.022361     0  False    15.093343   3.823046  3.800431  \n",
       "10138  0.999992     1  False    14.058974  11.800039  0.000008  \n",
       "10139  1.000000     1  False    11.649047  16.118095  0.000000  \n",
       "\n",
       "[8284 rows x 9 columns]"
      ]
     },
     "execution_count": 93,
     "metadata": {},
     "output_type": "execute_result"
    }
   ],
   "source": [
    "dfsuz[dfsuz[['loss0','loss1']].mean(axis=1)>2]"
   ]
  },
  {
   "cell_type": "code",
   "execution_count": null,
   "metadata": {},
   "outputs": [],
   "source": []
  },
  {
   "cell_type": "code",
   "execution_count": null,
   "metadata": {},
   "outputs": [],
   "source": []
  },
  {
   "cell_type": "code",
   "execution_count": null,
   "metadata": {},
   "outputs": [],
   "source": []
  },
  {
   "cell_type": "code",
   "execution_count": null,
   "metadata": {},
   "outputs": [],
   "source": []
  },
  {
   "cell_type": "code",
   "execution_count": null,
   "metadata": {},
   "outputs": [],
   "source": []
  },
  {
   "cell_type": "code",
   "execution_count": null,
   "metadata": {},
   "outputs": [],
   "source": []
  },
  {
   "cell_type": "code",
   "execution_count": null,
   "metadata": {},
   "outputs": [],
   "source": []
  },
  {
   "cell_type": "markdown",
   "metadata": {},
   "source": [
    "### Setting a threshold for unknowns"
   ]
  },
  {
   "cell_type": "code",
   "execution_count": 69,
   "metadata": {},
   "outputs": [
    {
     "name": "stdout",
     "output_type": "stream",
     "text": [
      "561 points discarded\n"
     ]
    },
    {
     "data": {
      "text/plain": [
       "0.946328419660577"
      ]
     },
     "execution_count": 69,
     "metadata": {},
     "output_type": "execute_result"
    }
   ],
   "source": [
    "th_df =  df[df.loss < 4]\n",
    "th_y_test = th_df.y\n",
    "th_y_pred = th_df.pred\n",
    "print(f\"{len(df) - len(th_y_test)} points discarded\")\n",
    "balanced_accuracy_score(y_pred=th_y_pred, y_true=th_y_test)"
   ]
  },
  {
   "cell_type": "code",
   "execution_count": 43,
   "metadata": {},
   "outputs": [
    {
     "data": {
      "text/plain": [
       "<matplotlib.axes._subplots.AxesSubplot at 0x7f80a05a4510>"
      ]
     },
     "execution_count": 43,
     "metadata": {},
     "output_type": "execute_result"
    },
    {
     "data": {
      "image/png": "[encoded data removed]",
      "text/plain": [
       "<Figure size 432x288 with 2 Axes>"
      ]
     },
     "metadata": {
      "needs_background": "light"
     },
     "output_type": "display_data"
    }
   ],
   "source": [
    "import seaborn as sns\n",
    "cm = confusion_matrix(y_pred=th_y_pred, y_true=th_y_test)\n",
    "sns.heatmap(cm, annot=True, fmt='g')"
   ]
  },
  {
   "cell_type": "code",
   "execution_count": 49,
   "metadata": {},
   "outputs": [
    {
     "data": {
      "text/plain": [
       "26763"
      ]
     },
     "execution_count": 49,
     "metadata": {},
     "output_type": "execute_result"
    }
   ],
   "source": [
    "len(y_scores)"
   ]
  },
  {
   "cell_type": "code",
   "execution_count": 50,
   "metadata": {},
   "outputs": [
    {
     "data": {
      "text/plain": [
       "<matplotlib.axes._subplots.AxesSubplot at 0x7f2c60213210>"
      ]
     },
     "execution_count": 50,
     "metadata": {},
     "output_type": "execute_result"
    },
    {
     "data": {
      "image/png": "[encoded data removed]",
      "text/plain": [
       "<Figure size 432x288 with 2 Axes>"
      ]
     },
     "metadata": {
      "needs_background": "light"
     },
     "output_type": "display_data"
    }
   ],
   "source": [
    "import seaborn as sns\n",
    "cm = confusion_matrix(y_pred=np.argmax(y_scores,axis=1), y_true=y_test)\n",
    "sns.heatmap(cm, annot=True, fmt='g')"
   ]
  },
  {
   "cell_type": "code",
   "execution_count": 93,
   "metadata": {},
   "outputs": [
    {
     "data": {
      "text/plain": [
       "True     24898\n",
       "False      795\n",
       "Name: right, dtype: int64"
      ]
     },
     "execution_count": 93,
     "metadata": {},
     "output_type": "execute_result"
    }
   ],
   "source": [
    "th_df.right.value_counts()"
   ]
  },
  {
   "cell_type": "code",
   "execution_count": null,
   "metadata": {},
   "outputs": [],
   "source": []
  }
 ],
 "metadata": {
  "kernelspec": {
   "display_name": "Python 3.7.7 64-bit ('wbtf': conda)",
   "language": "python",
   "name": "python37764bitwbtfconda7452cad71d844540837907339fd3ac8f"
  },
  "language_info": {
   "codemirror_mode": {
    "name": "ipython",
    "version": 3
   },
   "file_extension": ".py",
   "mimetype": "text/x-python",
   "name": "python",
   "nbconvert_exporter": "python",
   "pygments_lexer": "ipython3",
   "version": "3.7.9"
  }
 },
 "nbformat": 4,
 "nbformat_minor": 4
}
