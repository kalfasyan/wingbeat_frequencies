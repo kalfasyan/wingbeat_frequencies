{
 "cells": [
  {
   "cell_type": "code",
   "execution_count": 4,
   "metadata": {},
   "outputs": [],
   "source": [
    "%reset -f\n",
    "%reload_ext autoreload\n",
    "%autoreload 2\n",
    "%matplotlib inline\n",
    "%config Completer.use_jedi = False"
   ]
  },
  {
   "cell_type": "code",
   "execution_count": 12,
   "metadata": {},
   "outputs": [],
   "source": [
    "import warnings\n",
    "warnings.simplefilter(action='ignore', category=FutureWarning)\n",
    "import sys\n",
    "sys.path.insert(0,'..')\n",
    "from datahandling import *\n",
    "import matplotlib.pyplot as plt\n",
    "from sklearn.model_selection import train_test_split\n",
    "from configs import TrainConfiguration, ModelConfiguration\n",
    "from tensorflow.keras.utils import to_categorical\n",
    "\n",
    "nb_classes = 2\n",
    "data_setting = 'raw'\n",
    "model_setting = 'conv1d_baseline'#'tsc_fcn_baseline'\n",
    "splitting='random'"
   ]
  },
  {
   "cell_type": "code",
   "execution_count": 13,
   "metadata": {},
   "outputs": [
    {
     "name": "stdout",
     "output_type": "stream",
     "text": [
      "Found 3 files.\n",
      "Found saved cleaned data.\n",
      "Total number of files after cleaning: 3.\n",
      "Label(s) changed to [0]\n"
     ]
    }
   ],
   "source": [
    "d1 = WBDataset(dsname='fresnel_test', clean=True, custom_label=[0])\n",
    "\n",
    "X, y = get_xy_from_datasets(datasets=[d1])\n",
    "\n",
    "gen_train = WBDataGenerator(X, y, filtered=True, setting='raw')"
   ]
  },
  {
   "cell_type": "code",
   "execution_count": 26,
   "metadata": {},
   "outputs": [
    {
     "data": {
      "image/png": "[encoded data removed]",
      "text/plain": [
       "<Figure size 432x288 with 1 Axes>"
      ]
     },
     "metadata": {
      "needs_background": "light"
     },
     "output_type": "display_data"
    }
   ],
   "source": [
    "plt.plot(gen_train[0][0][0].squeeze());"
   ]
  },
  {
   "cell_type": "code",
   "execution_count": null,
   "metadata": {},
   "outputs": [],
   "source": []
  }
 ],
 "metadata": {
  "kernelspec": {
   "display_name": "Python 3",
   "language": "python",
   "name": "python3"
  },
  "language_info": {
   "codemirror_mode": {
    "name": "ipython",
    "version": 3
   },
   "file_extension": ".py",
   "mimetype": "text/x-python",
   "name": "python",
   "nbconvert_exporter": "python",
   "pygments_lexer": "ipython3",
   "version": "3.7.9"
  }
 },
 "nbformat": 4,
 "nbformat_minor": 4
}
