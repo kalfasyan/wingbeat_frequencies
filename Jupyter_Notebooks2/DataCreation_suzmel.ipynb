{
 "cells": [
  {
   "cell_type": "code",
   "execution_count": 2,
   "metadata": {},
   "outputs": [],
   "source": [
    "%reset -f\n",
    "import sys\n",
    "sys.path.insert(0, \"..\")\n",
    "from wavhandler import *\n",
    "from configs import DatasetConfiguration\n",
    "from utils_train import *\n",
    "from configs import *\n",
    "import numpy as np\n",
    "import math\n",
    "from sklearn.preprocessing import LabelEncoder\n",
    "from sklearn.utils import shuffle\n",
    "from sklearn.model_selection import train_test_split\n",
    "from sklearn.metrics import confusion_matrix, balanced_accuracy_score, classification_report, make_scorer, log_loss\n",
    "from sklearn.preprocessing import LabelBinarizer\n",
    "from sklearn.model_selection import train_test_split\n",
    "from sklearn.utils import class_weight\n",
    "import os\n",
    "import pandas as pd\n",
    "import seaborn as sb\n",
    "import matplotlib.pyplot as plt\n",
    "from tensorflow.keras import regularizers\n",
    "from tensorflow.keras.layers import Input\n",
    "from tensorflow.keras import optimizers\n",
    "from tensorflow.keras.models import Model\n",
    "from tensorflow.keras.models import Sequential\n",
    "from tensorflow.keras.layers import Dense, Flatten, Dropout\n",
    "import seaborn as sb\n",
    "import deepdish as dd\n",
    "\n",
    "seed = 42\n",
    "np.random.seed(seed=seed)\n",
    "\n",
    "splitting = 'custom'\n",
    "data_setting = 'rawflt'\n",
    "\n",
    "clean = True"
   ]
  },
  {
   "cell_type": "markdown",
   "metadata": {},
   "source": [
    "### data collecting"
   ]
  },
  {
   "cell_type": "code",
   "execution_count": 3,
   "metadata": {},
   "outputs": [
    {
     "name": "stdout",
     "output_type": "stream",
     "text": [
      "Dataset - Suzukii_RL - exists: True\n",
      "Before cleaning: \n",
      "Y    25732\n",
      "X    19657\n",
      "Name: labels, dtype: int64\n"
     ]
    },
    {
     "data": {
      "text/plain": [
       "Y    20826\n",
       "X    16340\n",
       "Name: labels, dtype: int64"
      ]
     },
     "execution_count": 3,
     "metadata": {},
     "output_type": "execute_result"
    }
   ],
   "source": [
    "suzukii = DatasetConfiguration(names=['Suzukii_RL'])\n",
    "suzukii.select(name='Suzukii_RL', species=['Y','X']); \n",
    "suzukii.read();\n",
    "print(f\"Before cleaning: \\n{suzukii.df.labels.value_counts()}\")\n",
    "if clean:\n",
    "    suzukii.clean();\n",
    "suzukii.df.labels.value_counts()"
   ]
  },
  {
   "cell_type": "code",
   "execution_count": 4,
   "metadata": {},
   "outputs": [
    {
     "name": "stdout",
     "output_type": "stream",
     "text": [
      "Dataset - Melanogaster_RL - exists: True\n",
      "Before cleaning: \n",
      "Y    29002\n",
      "Z    24763\n",
      "Name: labels, dtype: int64\n"
     ]
    },
    {
     "data": {
      "text/plain": [
       "Y    15530\n",
       "Z    14969\n",
       "Name: labels, dtype: int64"
      ]
     },
     "execution_count": 4,
     "metadata": {},
     "output_type": "execute_result"
    }
   ],
   "source": [
    "melanogaster = DatasetConfiguration(names=['Melanogaster_RL'])\n",
    "melanogaster.select(name='Melanogaster_RL', species=['Y','Z']); \n",
    "melanogaster.read()\n",
    "print(f\"Before cleaning: \\n{melanogaster.df.labels.value_counts()}\")\n",
    "if clean:\n",
    "    melanogaster.clean()\n",
    "melanogaster.df.labels.value_counts()"
   ]
  },
  {
   "cell_type": "markdown",
   "metadata": {},
   "source": [
    "## train"
   ]
  },
  {
   "cell_type": "code",
   "execution_count": 5,
   "metadata": {},
   "outputs": [
    {
     "data": {
      "text/plain": [
       "D. suzukii         20826\n",
       "D. melanogaster    14969\n",
       "Name: labels, dtype: int64"
      ]
     },
     "execution_count": 5,
     "metadata": {},
     "output_type": "execute_result"
    }
   ],
   "source": [
    "suzukiiY = suzukii.df[suzukii.df.labels=='Y']\n",
    "melanogasterZ = melanogaster.df[melanogaster.df.labels=='Z']\n",
    "train = pd.concat([suzukiiY, melanogasterZ])\n",
    "train.labels = train.labels.apply(lambda x: f'{x.replace(\"Y\", \"D. suzukii\")}')\n",
    "train.labels = train.labels.apply(lambda x: f'{x.replace(\"Z\", \"D. melanogaster\")}')\n",
    "train.labels.value_counts()"
   ]
  },
  {
   "cell_type": "markdown",
   "metadata": {},
   "source": [
    "## test"
   ]
  },
  {
   "cell_type": "code",
   "execution_count": 6,
   "metadata": {},
   "outputs": [
    {
     "data": {
      "text/plain": [
       "D. suzukii         16340\n",
       "D. melanogaster    15530\n",
       "Name: labels, dtype: int64"
      ]
     },
     "execution_count": 6,
     "metadata": {},
     "output_type": "execute_result"
    }
   ],
   "source": [
    "suzukiiX = suzukii.df[suzukii.df.labels=='X']\n",
    "melanogasterY = melanogaster.df[melanogaster.df.labels=='Y']\n",
    "test = pd.concat([suzukiiX, melanogasterY])\n",
    "test.labels = test.labels.apply(lambda x: f'{x.replace(\"X\", \"D. suzukii\")}')\n",
    "test.labels = test.labels.apply(lambda x: f'{x.replace(\"Y\", \"D. melanogaster\")}')\n",
    "test.labels.value_counts()"
   ]
  },
  {
   "cell_type": "code",
   "execution_count": 7,
   "metadata": {},
   "outputs": [
    {
     "name": "stdout",
     "output_type": "stream",
     "text": [
      "Any duplicates between train/test: 0\n"
     ]
    }
   ],
   "source": [
    "print(f\"Any duplicates between train/test: {pd.concat([train, test]).duplicated().sum()}\")"
   ]
  },
  {
   "cell_type": "markdown",
   "metadata": {},
   "source": [
    "### data splitting"
   ]
  },
  {
   "cell_type": "code",
   "execution_count": 8,
   "metadata": {},
   "outputs": [
    {
     "name": "stdout",
     "output_type": "stream",
     "text": [
      "train: \n",
      "D. suzukii         20826\n",
      "D. melanogaster    14969\n",
      "dtype: int64\n",
      "\n",
      "test: \n",
      "D. suzukii         16340\n",
      "D. melanogaster    15530\n",
      "dtype: int64\n"
     ]
    }
   ],
   "source": [
    "if splitting == 'random':\n",
    "    tmp = pd.concat([train, test])\n",
    "    X_train, X_test, y_train, y_test = train_test_split(tmp.fnames.tolist(), tmp.labels.tolist(), shuffle=True, random_state=42)\n",
    "elif splitting == 'custom':\n",
    "    X_train = train.fnames.tolist()\n",
    "    X_test = test.fnames.tolist()\n",
    "    y_train = train.labels.tolist()\n",
    "    y_test = test.labels.tolist()\n",
    "else:\n",
    "    raise ValueError('Wrong splitting method')\n",
    "    \n",
    "print(f\"train: \\n{pd.Series(y_train).value_counts()}\\n\")\n",
    "print(f\"test: \\n{pd.Series(y_test).value_counts()}\")"
   ]
  },
  {
   "cell_type": "code",
   "execution_count": 9,
   "metadata": {},
   "outputs": [
    {
     "data": {
      "text/plain": [
       "1    16340\n",
       "0    15530\n",
       "dtype: int64"
      ]
     },
     "execution_count": 9,
     "metadata": {},
     "output_type": "execute_result"
    }
   ],
   "source": [
    "le = LabelEncoder()\n",
    "y_train = le.fit_transform(y_train)\n",
    "y_test = le.transform(y_test)\n",
    "pd.Series(y_test).value_counts()"
   ]
  },
  {
   "cell_type": "code",
   "execution_count": 10,
   "metadata": {},
   "outputs": [],
   "source": [
    "X_train, X_val, y_train, y_val = train_test_split(X_train, y_train, random_state=42, shuffle=True)"
   ]
  },
  {
   "cell_type": "markdown",
   "metadata": {},
   "source": [
    "# Saving"
   ]
  },
  {
   "cell_type": "code",
   "execution_count": 11,
   "metadata": {},
   "outputs": [],
   "source": [
    "pd.DataFrame(zip(X_train, y_train), columns=['x','y']).to_csv(f\"{TEMP_DATADIR}/df_train_{data_setting}_{splitting}.csv\", index=False)"
   ]
  },
  {
   "cell_type": "code",
   "execution_count": 12,
   "metadata": {},
   "outputs": [],
   "source": [
    "pd.DataFrame(zip(X_val, y_val), columns=['x','y']).to_csv(f\"{TEMP_DATADIR}/df_val_{data_setting}_{splitting}.csv\", index=False)"
   ]
  },
  {
   "cell_type": "code",
   "execution_count": 13,
   "metadata": {},
   "outputs": [],
   "source": [
    "pd.DataFrame(zip(X_test, y_test), columns=['x','y']).to_csv(f\"{TEMP_DATADIR}/df_test_{data_setting}_{splitting}.csv\", index=False)"
   ]
  },
  {
   "cell_type": "code",
   "execution_count": null,
   "metadata": {},
   "outputs": [],
   "source": []
  },
  {
   "cell_type": "code",
   "execution_count": null,
   "metadata": {},
   "outputs": [],
   "source": []
  }
 ],
 "metadata": {
  "kernelspec": {
   "display_name": "Python 3.7.7 64-bit ('wbtf': conda)",
   "language": "python",
   "name": "python37764bitwbtfconda7452cad71d844540837907339fd3ac8f"
  },
  "language_info": {
   "codemirror_mode": {
    "name": "ipython",
    "version": 3
   },
   "file_extension": ".py",
   "mimetype": "text/x-python",
   "name": "python",
   "nbconvert_exporter": "python",
   "pygments_lexer": "ipython3",
   "version": "3.7.9"
  }
 },
 "nbformat": 4,
 "nbformat_minor": 4
}
