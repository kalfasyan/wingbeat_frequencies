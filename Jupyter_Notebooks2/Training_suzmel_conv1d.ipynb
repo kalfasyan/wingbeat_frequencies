{
 "cells": [
  {
   "cell_type": "code",
   "execution_count": 1,
   "metadata": {},
   "outputs": [],
   "source": [
    "%reset -f\n",
    "%reload_ext autoreload\n",
    "%autoreload 2\n",
    "%matplotlib inline\n",
    "%config Completer.use_jedi = False"
   ]
  },
  {
   "cell_type": "code",
   "execution_count": 2,
   "metadata": {},
   "outputs": [
    {
     "name": "stderr",
     "output_type": "stream",
     "text": [
      "/home/kalfasyan/anaconda3/envs/wbtf/lib/python3.7/site-packages/tensorflow/python/framework/dtypes.py:516: FutureWarning: Passing (type, 1) or '1type' as a synonym of type is deprecated; in a future version of numpy, it will be understood as (type, (1,)) / '(1,)type'.\n",
      "  _np_qint8 = np.dtype([(\"qint8\", np.int8, 1)])\n",
      "/home/kalfasyan/anaconda3/envs/wbtf/lib/python3.7/site-packages/tensorflow/python/framework/dtypes.py:517: FutureWarning: Passing (type, 1) or '1type' as a synonym of type is deprecated; in a future version of numpy, it will be understood as (type, (1,)) / '(1,)type'.\n",
      "  _np_quint8 = np.dtype([(\"quint8\", np.uint8, 1)])\n",
      "/home/kalfasyan/anaconda3/envs/wbtf/lib/python3.7/site-packages/tensorflow/python/framework/dtypes.py:518: FutureWarning: Passing (type, 1) or '1type' as a synonym of type is deprecated; in a future version of numpy, it will be understood as (type, (1,)) / '(1,)type'.\n",
      "  _np_qint16 = np.dtype([(\"qint16\", np.int16, 1)])\n",
      "/home/kalfasyan/anaconda3/envs/wbtf/lib/python3.7/site-packages/tensorflow/python/framework/dtypes.py:519: FutureWarning: Passing (type, 1) or '1type' as a synonym of type is deprecated; in a future version of numpy, it will be understood as (type, (1,)) / '(1,)type'.\n",
      "  _np_quint16 = np.dtype([(\"quint16\", np.uint16, 1)])\n",
      "/home/kalfasyan/anaconda3/envs/wbtf/lib/python3.7/site-packages/tensorflow/python/framework/dtypes.py:520: FutureWarning: Passing (type, 1) or '1type' as a synonym of type is deprecated; in a future version of numpy, it will be understood as (type, (1,)) / '(1,)type'.\n",
      "  _np_qint32 = np.dtype([(\"qint32\", np.int32, 1)])\n",
      "/home/kalfasyan/anaconda3/envs/wbtf/lib/python3.7/site-packages/tensorflow/python/framework/dtypes.py:525: FutureWarning: Passing (type, 1) or '1type' as a synonym of type is deprecated; in a future version of numpy, it will be understood as (type, (1,)) / '(1,)type'.\n",
      "  np_resource = np.dtype([(\"resource\", np.ubyte, 1)])\n",
      "/home/kalfasyan/anaconda3/envs/wbtf/lib/python3.7/site-packages/tensorboard/compat/tensorflow_stub/dtypes.py:541: FutureWarning: Passing (type, 1) or '1type' as a synonym of type is deprecated; in a future version of numpy, it will be understood as (type, (1,)) / '(1,)type'.\n",
      "  _np_qint8 = np.dtype([(\"qint8\", np.int8, 1)])\n",
      "/home/kalfasyan/anaconda3/envs/wbtf/lib/python3.7/site-packages/tensorboard/compat/tensorflow_stub/dtypes.py:542: FutureWarning: Passing (type, 1) or '1type' as a synonym of type is deprecated; in a future version of numpy, it will be understood as (type, (1,)) / '(1,)type'.\n",
      "  _np_quint8 = np.dtype([(\"quint8\", np.uint8, 1)])\n",
      "/home/kalfasyan/anaconda3/envs/wbtf/lib/python3.7/site-packages/tensorboard/compat/tensorflow_stub/dtypes.py:543: FutureWarning: Passing (type, 1) or '1type' as a synonym of type is deprecated; in a future version of numpy, it will be understood as (type, (1,)) / '(1,)type'.\n",
      "  _np_qint16 = np.dtype([(\"qint16\", np.int16, 1)])\n",
      "/home/kalfasyan/anaconda3/envs/wbtf/lib/python3.7/site-packages/tensorboard/compat/tensorflow_stub/dtypes.py:544: FutureWarning: Passing (type, 1) or '1type' as a synonym of type is deprecated; in a future version of numpy, it will be understood as (type, (1,)) / '(1,)type'.\n",
      "  _np_quint16 = np.dtype([(\"quint16\", np.uint16, 1)])\n",
      "/home/kalfasyan/anaconda3/envs/wbtf/lib/python3.7/site-packages/tensorboard/compat/tensorflow_stub/dtypes.py:545: FutureWarning: Passing (type, 1) or '1type' as a synonym of type is deprecated; in a future version of numpy, it will be understood as (type, (1,)) / '(1,)type'.\n",
      "  _np_qint32 = np.dtype([(\"qint32\", np.int32, 1)])\n",
      "/home/kalfasyan/anaconda3/envs/wbtf/lib/python3.7/site-packages/tensorboard/compat/tensorflow_stub/dtypes.py:550: FutureWarning: Passing (type, 1) or '1type' as a synonym of type is deprecated; in a future version of numpy, it will be understood as (type, (1,)) / '(1,)type'.\n",
      "  np_resource = np.dtype([(\"resource\", np.ubyte, 1)])\n"
     ]
    }
   ],
   "source": [
    "%reset -f\n",
    "import sys\n",
    "sys.path.insert(0, \"..\")\n",
    "from wavhandler import *\n",
    "from configs import DatasetConfiguration\n",
    "from utils_train import *\n",
    "from configs import *\n",
    "import numpy as np\n",
    "import math\n",
    "from sklearn.preprocessing import LabelEncoder\n",
    "from sklearn.utils import shuffle\n",
    "from sklearn.model_selection import train_test_split\n",
    "from sklearn.metrics import confusion_matrix, balanced_accuracy_score, classification_report, make_scorer, log_loss\n",
    "from sklearn.preprocessing import LabelBinarizer\n",
    "from sklearn.model_selection import train_test_split\n",
    "from sklearn.utils import class_weight\n",
    "import os\n",
    "import pandas as pd\n",
    "import seaborn as sb\n",
    "import matplotlib.pyplot as plt\n",
    "from tensorflow.keras import regularizers\n",
    "from tensorflow.keras.layers import Input\n",
    "from tensorflow.keras import optimizers\n",
    "from tensorflow.keras.models import Model\n",
    "from tensorflow.keras.models import Sequential\n",
    "from tensorflow.keras.layers import Dense, Flatten, Dropout, Activation, GlobalAveragePooling2D\n",
    "import seaborn as sb\n",
    "import deepdish as dd\n",
    "\n",
    "seed = 42\n",
    "np.random.seed(seed=seed)\n",
    "\n",
    "splitting = 'custom'\n",
    "data_setting = 'rawflt'\n",
    "model_setting = 'conv1d2'\n",
    "nb_classes = 2\n",
    "# clean = True"
   ]
  },
  {
   "cell_type": "markdown",
   "metadata": {},
   "source": [
    "### data collecting"
   ]
  },
  {
   "cell_type": "code",
   "execution_count": 3,
   "metadata": {},
   "outputs": [],
   "source": [
    "train = pd.read_csv(f\"{TEMP_DATADIR}/df_train_{data_setting}_{splitting}.csv\", index_col=False)\n",
    "X_train = train.x.tolist()\n",
    "y_train = train.y.tolist()"
   ]
  },
  {
   "cell_type": "code",
   "execution_count": 4,
   "metadata": {},
   "outputs": [],
   "source": [
    "val = pd.read_csv(f\"{TEMP_DATADIR}/df_val_{data_setting}_{splitting}.csv\", index_col=False)\n",
    "X_val = val.x.tolist()\n",
    "y_val = val.y.tolist()"
   ]
  },
  {
   "cell_type": "code",
   "execution_count": 5,
   "metadata": {},
   "outputs": [],
   "source": [
    "test = pd.read_csv(f\"{TEMP_DATADIR}/df_test_{data_setting}_{splitting}.csv\", index_col=False)\n",
    "X_test = test.x.tolist()\n",
    "y_test = test.y.tolist()"
   ]
  },
  {
   "cell_type": "code",
   "execution_count": 6,
   "metadata": {},
   "outputs": [
    {
     "name": "stdout",
     "output_type": "stream",
     "text": [
      "train: \n",
      "1    15620\n",
      "0    11226\n",
      "dtype: int64\n",
      "\n",
      "val: \n",
      "1    5206\n",
      "0    3743\n",
      "dtype: int64\n",
      "\n",
      "test: \n",
      "1    16340\n",
      "0    15530\n",
      "dtype: int64\n"
     ]
    }
   ],
   "source": [
    "print(f\"train: \\n{pd.Series(y_train).value_counts()}\\n\")\n",
    "print(f\"val: \\n{pd.Series(y_val).value_counts()}\\n\")\n",
    "print(f\"test: \\n{pd.Series(y_test).value_counts()}\")"
   ]
  },
  {
   "cell_type": "markdown",
   "metadata": {},
   "source": [
    "### training"
   ]
  },
  {
   "cell_type": "code",
   "execution_count": 7,
   "metadata": {},
   "outputs": [],
   "source": [
    "traincf = TrainConfiguration(nb_classes=nb_classes, setting=data_setting,model_name=f\"Flies_{data_setting}_{model_setting}_{splitting}\", monitor='val_loss')"
   ]
  },
  {
   "cell_type": "code",
   "execution_count": 8,
   "metadata": {},
   "outputs": [
    {
     "name": "stdout",
     "output_type": "stream",
     "text": [
      "############ INPUT SHAPE:(5000, 1)\n",
      "WARNING:tensorflow:From /home/kalfasyan/anaconda3/envs/wbtf/lib/python3.7/site-packages/tensorflow/python/ops/init_ops.py:1251: calling VarianceScaling.__init__ (from tensorflow.python.ops.init_ops) with dtype is deprecated and will be removed in a future version.\n",
      "Instructions for updating:\n",
      "Call initializer instance with the dtype argument instead of passing it to the constructor\n",
      "Last 5 layers:\n",
      "dropout\n",
      "global_average_pooling1d\n",
      "dense\n",
      "dense_1\n",
      "activation\n"
     ]
    }
   ],
   "source": [
    "modelconf = ModelConfiguration(model_setting=model_setting, data_setting=data_setting, nb_classes=nb_classes, extra_dense_layer=False)\n",
    "model = modelconf.config\n",
    "\n",
    "# base_output = model.layers[-2].output\n",
    "# new_output = Dense(1, activation=None)(base_output)\n",
    "# new_output2 = Activation('sigmoid')(new_output)\n",
    "# model = Model(inputs=model.inputs, outputs=new_output2)\n",
    "\n",
    "print(\"Last 5 layers:\")\n",
    "for i in model.layers[-5:]:\n",
    "    print(i.name)"
   ]
  },
  {
   "cell_type": "code",
   "execution_count": 9,
   "metadata": {
    "scrolled": true
   },
   "outputs": [
    {
     "name": "stdout",
     "output_type": "stream",
     "text": [
      "Model: \"sequential\"\n",
      "_________________________________________________________________\n",
      "Layer (type)                 Output Shape              Param #   \n",
      "=================================================================\n",
      "conv1d (Conv1D)              (None, 4998, 16)          64        \n",
      "_________________________________________________________________\n",
      "batch_normalization (BatchNo (None, 4998, 16)          64        \n",
      "_________________________________________________________________\n",
      "max_pooling1d (MaxPooling1D) (None, 2499, 16)          0         \n",
      "_________________________________________________________________\n",
      "conv1d_1 (Conv1D)            (None, 2497, 32)          1568      \n",
      "_________________________________________________________________\n",
      "batch_normalization_1 (Batch (None, 2497, 32)          128       \n",
      "_________________________________________________________________\n",
      "max_pooling1d_1 (MaxPooling1 (None, 1248, 32)          0         \n",
      "_________________________________________________________________\n",
      "conv1d_2 (Conv1D)            (None, 1246, 64)          6208      \n",
      "_________________________________________________________________\n",
      "batch_normalization_2 (Batch (None, 1246, 64)          256       \n",
      "_________________________________________________________________\n",
      "max_pooling1d_2 (MaxPooling1 (None, 623, 64)           0         \n",
      "_________________________________________________________________\n",
      "conv1d_3 (Conv1D)            (None, 621, 128)          24704     \n",
      "_________________________________________________________________\n",
      "batch_normalization_3 (Batch (None, 621, 128)          512       \n",
      "_________________________________________________________________\n",
      "max_pooling1d_3 (MaxPooling1 (None, 310, 128)          0         \n",
      "_________________________________________________________________\n",
      "conv1d_4 (Conv1D)            (None, 308, 256)          98560     \n",
      "_________________________________________________________________\n",
      "batch_normalization_4 (Batch (None, 308, 256)          1024      \n",
      "_________________________________________________________________\n",
      "max_pooling1d_4 (MaxPooling1 (None, 154, 256)          0         \n",
      "_________________________________________________________________\n",
      "dropout (Dropout)            (None, 154, 256)          0         \n",
      "_________________________________________________________________\n",
      "global_average_pooling1d (Gl (None, 256)               0         \n",
      "_________________________________________________________________\n",
      "dense (Dense)                (None, 256)               65792     \n",
      "_________________________________________________________________\n",
      "dense_1 (Dense)              (None, 2)                 514       \n",
      "_________________________________________________________________\n",
      "activation (Activation)      (None, 2)                 0         \n",
      "=================================================================\n",
      "Total params: 199,394\n",
      "Trainable params: 198,402\n",
      "Non-trainable params: 992\n",
      "_________________________________________________________________\n"
     ]
    }
   ],
   "source": [
    "model.summary()"
   ]
  },
  {
   "cell_type": "code",
   "execution_count": 10,
   "metadata": {},
   "outputs": [],
   "source": [
    "model.compile(optimizer='adam', loss='categorical_crossentropy', metrics=['accuracy'])"
   ]
  },
  {
   "cell_type": "code",
   "execution_count": 11,
   "metadata": {},
   "outputs": [],
   "source": [
    "# from sklearn.utils import class_weight\n",
    "# weights = class_weight.compute_class_weight('balanced', classes=np.unique(y_train), y=y_train)\n",
    "# class_weights = {i : weights[i] for i in range(nb_classes)}\n",
    "# print(class_weights)"
   ]
  },
  {
   "cell_type": "code",
   "execution_count": 12,
   "metadata": {},
   "outputs": [
    {
     "name": "stdout",
     "output_type": "stream",
     "text": [
      "Epoch 1/100\n",
      "837/839 [============================>.] - ETA: 0s - loss: 0.2429 - acc: 0.8982\n",
      "Epoch 00001: val_loss improved from inf to 1.49531, saving model to /home/kalfasyan/projects/wingbeat_frequencies/temp_data/Flies_rawflt_conv1d2_custom.h5\n",
      "839/839 [==============================] - 69s 82ms/step - loss: 0.2429 - acc: 0.8982 - val_loss: 1.4953 - val_acc: 0.5401\n",
      "Epoch 2/100\n",
      "838/839 [============================>.] - ETA: 0s - loss: 0.1554 - acc: 0.9391\n",
      "Epoch 00002: val_loss improved from 1.49531 to 0.24462, saving model to /home/kalfasyan/projects/wingbeat_frequencies/temp_data/Flies_rawflt_conv1d2_custom.h5\n",
      "839/839 [==============================] - 70s 83ms/step - loss: 0.1558 - acc: 0.9389 - val_loss: 0.2446 - val_acc: 0.8900\n",
      "Epoch 3/100\n",
      "836/839 [============================>.] - ETA: 0s - loss: 0.1195 - acc: 0.9535\n",
      "Epoch 00003: val_loss did not improve from 0.24462\n",
      "839/839 [==============================] - 67s 80ms/step - loss: 0.1201 - acc: 0.9533 - val_loss: 0.6762 - val_acc: 0.8024\n",
      "Epoch 4/100\n",
      "837/839 [============================>.] - ETA: 0s - loss: 0.0949 - acc: 0.9632\n",
      "Epoch 00004: val_loss improved from 0.24462 to 0.18539, saving model to /home/kalfasyan/projects/wingbeat_frequencies/temp_data/Flies_rawflt_conv1d2_custom.h5\n",
      "839/839 [==============================] - 67s 80ms/step - loss: 0.0952 - acc: 0.9631 - val_loss: 0.1854 - val_acc: 0.9275\n",
      "Epoch 5/100\n",
      "837/839 [============================>.] - ETA: 0s - loss: 0.0793 - acc: 0.9707\n",
      "Epoch 00005: val_loss improved from 0.18539 to 0.09443, saving model to /home/kalfasyan/projects/wingbeat_frequencies/temp_data/Flies_rawflt_conv1d2_custom.h5\n",
      "839/839 [==============================] - 67s 79ms/step - loss: 0.0795 - acc: 0.9705 - val_loss: 0.0944 - val_acc: 0.9639\n",
      "Epoch 6/100\n",
      "837/839 [============================>.] - ETA: 0s - loss: 0.0699 - acc: 0.9735\n",
      "Epoch 00006: val_loss did not improve from 0.09443\n",
      "839/839 [==============================] - 68s 81ms/step - loss: 0.0702 - acc: 0.9734 - val_loss: 0.2244 - val_acc: 0.9285\n",
      "Epoch 7/100\n",
      "838/839 [============================>.] - ETA: 0s - loss: 0.0565 - acc: 0.9782\n",
      "Epoch 00007: val_loss did not improve from 0.09443\n",
      "839/839 [==============================] - 66s 79ms/step - loss: 0.0568 - acc: 0.9781 - val_loss: 0.2393 - val_acc: 0.9153\n",
      "Epoch 8/100\n",
      "836/839 [============================>.] - ETA: 0s - loss: 0.0525 - acc: 0.9800\n",
      "Epoch 00008: val_loss improved from 0.09443 to 0.09049, saving model to /home/kalfasyan/projects/wingbeat_frequencies/temp_data/Flies_rawflt_conv1d2_custom.h5\n",
      "839/839 [==============================] - 67s 80ms/step - loss: 0.0525 - acc: 0.9800 - val_loss: 0.0905 - val_acc: 0.9689\n",
      "Epoch 9/100\n",
      "836/839 [============================>.] - ETA: 0s - loss: 0.0459 - acc: 0.9825\n",
      "Epoch 00009: val_loss did not improve from 0.09049\n",
      "839/839 [==============================] - 67s 80ms/step - loss: 0.0461 - acc: 0.9824 - val_loss: 0.6902 - val_acc: 0.8584\n",
      "Epoch 10/100\n",
      "837/839 [============================>.] - ETA: 0s - loss: 0.0453 - acc: 0.9821\n",
      "Epoch 00010: val_loss did not improve from 0.09049\n",
      "839/839 [==============================] - 65s 78ms/step - loss: 0.0455 - acc: 0.9820 - val_loss: 7.0130 - val_acc: 0.6266\n",
      "Epoch 11/100\n",
      "836/839 [============================>.] - ETA: 0s - loss: 0.0400 - acc: 0.9848\n",
      "Epoch 00011: val_loss did not improve from 0.09049\n",
      "\n",
      "Epoch 00011: ReduceLROnPlateau reducing learning rate to 0.00010000000474974513.\n",
      "839/839 [==============================] - 65s 77ms/step - loss: 0.0398 - acc: 0.9849 - val_loss: 0.1272 - val_acc: 0.9599\n",
      "Epoch 12/100\n",
      "838/839 [============================>.] - ETA: 0s - loss: 0.0194 - acc: 0.9933\n",
      "Epoch 00012: val_loss did not improve from 0.09049\n",
      "839/839 [==============================] - 65s 77ms/step - loss: 0.0194 - acc: 0.9933 - val_loss: 0.0978 - val_acc: 0.9718\n",
      "Epoch 13/100\n",
      "837/839 [============================>.] - ETA: 0s - loss: 0.0120 - acc: 0.9965\n",
      "Epoch 00013: val_loss improved from 0.09049 to 0.06497, saving model to /home/kalfasyan/projects/wingbeat_frequencies/temp_data/Flies_rawflt_conv1d2_custom.h5\n",
      "839/839 [==============================] - 66s 78ms/step - loss: 0.0121 - acc: 0.9964 - val_loss: 0.0650 - val_acc: 0.9797\n",
      "Epoch 14/100\n",
      "837/839 [============================>.] - ETA: 0s - loss: 0.0089 - acc: 0.9974\n",
      "Epoch 00014: val_loss did not improve from 0.06497\n",
      "839/839 [==============================] - 64s 77ms/step - loss: 0.0089 - acc: 0.9974 - val_loss: 0.0953 - val_acc: 0.9750\n",
      "Epoch 15/100\n",
      "836/839 [============================>.] - ETA: 0s - loss: 0.0075 - acc: 0.9979\n",
      "Epoch 00015: val_loss did not improve from 0.06497\n",
      "839/839 [==============================] - 66s 78ms/step - loss: 0.0075 - acc: 0.9980 - val_loss: 0.0988 - val_acc: 0.9750\n",
      "Epoch 16/100\n",
      "838/839 [============================>.] - ETA: 0s - loss: 0.0055 - acc: 0.9987\n",
      "Epoch 00016: val_loss did not improve from 0.06497\n",
      "\n",
      "Epoch 00016: ReduceLROnPlateau reducing learning rate to 1.0000000474974514e-05.\n",
      "839/839 [==============================] - 66s 78ms/step - loss: 0.0055 - acc: 0.9987 - val_loss: 0.0885 - val_acc: 0.9768\n",
      "Epoch 17/100\n",
      "836/839 [============================>.] - ETA: 0s - loss: 0.0044 - acc: 0.9990\n",
      "Epoch 00017: val_loss did not improve from 0.06497\n",
      "839/839 [==============================] - 66s 79ms/step - loss: 0.0044 - acc: 0.9990 - val_loss: 0.0662 - val_acc: 0.9812\n",
      "Epoch 18/100\n",
      "836/839 [============================>.] - ETA: 0s - loss: 0.0043 - acc: 0.9990\n",
      "Epoch 00018: val_loss did not improve from 0.06497\n",
      "839/839 [==============================] - 65s 78ms/step - loss: 0.0043 - acc: 0.9990 - val_loss: 0.0695 - val_acc: 0.9808\n",
      "Epoch 19/100\n",
      "838/839 [============================>.] - ETA: 0s - loss: 0.0036 - acc: 0.9993\n",
      "Epoch 00019: val_loss did not improve from 0.06497\n",
      "\n",
      "Epoch 00019: ReduceLROnPlateau reducing learning rate to 1.0000000656873453e-06.\n",
      "839/839 [==============================] - 66s 78ms/step - loss: 0.0036 - acc: 0.9993 - val_loss: 0.0685 - val_acc: 0.9819\n",
      "Epoch 20/100\n",
      "836/839 [============================>.] - ETA: 0s - loss: 0.0036 - acc: 0.9993\n",
      "Epoch 00020: val_loss did not improve from 0.06497\n",
      "839/839 [==============================] - 66s 79ms/step - loss: 0.0036 - acc: 0.9993 - val_loss: 0.0673 - val_acc: 0.9815\n",
      "Epoch 00020: early stopping\n"
     ]
    }
   ],
   "source": [
    "h = model.fit(train_generator(X_train, y_train, \n",
    "                                    batch_size=traincf.batch_size,\n",
    "                                    target_names=np.unique(y_test).tolist(),\n",
    "                                    setting=traincf.setting,\n",
    "                                    binary_labels=False),\n",
    "                    steps_per_epoch = int(math.ceil(float(len(X_train)) / float(traincf.batch_size))),\n",
    "                    epochs = traincf.epochs,\n",
    "                    validation_data = valid_generator(X_val, y_val,\n",
    "                                                        batch_size=traincf.batch_size,\n",
    "                                                        target_names=np.unique(y_test).tolist(),\n",
    "                                                        setting=traincf.setting,\n",
    "                                                        binary_labels=False),\n",
    "                    validation_steps=int(math.ceil(float(len(X_val))/float(traincf.batch_size))),\n",
    "                    callbacks=traincf.callbacks_list)\n",
    "#              class_weight=class_weights)"
   ]
  },
  {
   "cell_type": "code",
   "execution_count": 13,
   "metadata": {},
   "outputs": [],
   "source": [
    "pred = model.predict_generator(valid_generator(X_test, y_test,\n",
    "                                    batch_size=traincf.batch_size,\n",
    "                                    target_names=np.unique(y_test).tolist(),\n",
    "                                    setting=traincf.setting, binary_labels=False),\n",
    "                              steps=int(math.ceil(float(len(X_test))/float(traincf.batch_size))))"
   ]
  },
  {
   "cell_type": "code",
   "execution_count": 14,
   "metadata": {},
   "outputs": [],
   "source": [
    "# y_pred = np.where(pred <= 0.98, 0 , 1)p\n",
    "y_pred = np.argmax(pred,axis=1)"
   ]
  },
  {
   "cell_type": "code",
   "execution_count": 15,
   "metadata": {},
   "outputs": [
    {
     "data": {
      "text/plain": [
       "0.8926269958803627"
      ]
     },
     "execution_count": 15,
     "metadata": {},
     "output_type": "execute_result"
    }
   ],
   "source": [
    "from sklearn.metrics import balanced_accuracy_score, confusion_matrix, accuracy_score\n",
    "\n",
    "balanced_accuracy_score(y_true=y_test, y_pred=y_pred)"
   ]
  },
  {
   "cell_type": "code",
   "execution_count": 16,
   "metadata": {},
   "outputs": [
    {
     "data": {
      "text/plain": [
       "Text(33.0, 0.5, 'actual')"
      ]
     },
     "execution_count": 16,
     "metadata": {},
     "output_type": "execute_result"
    },
    {
     "data": {
      "image/png": "[encoded data removed]",
      "text/plain": [
       "<Figure size 432x288 with 2 Axes>"
      ]
     },
     "metadata": {
      "needs_background": "light"
     },
     "output_type": "display_data"
    }
   ],
   "source": [
    "import seaborn as sns\n",
    "\n",
    "cm = confusion_matrix(y_true=y_test, y_pred=y_pred)\n",
    "# cm = cm.astype(np.float) / cm.astype(np.float).sum(axis=0)\n",
    "\n",
    "sns.heatmap(cm, annot=True, fmt='g')\n",
    "plt.ylabel('actual')"
   ]
  },
  {
   "cell_type": "code",
   "execution_count": null,
   "metadata": {},
   "outputs": [],
   "source": []
  },
  {
   "cell_type": "code",
   "execution_count": null,
   "metadata": {},
   "outputs": [],
   "source": []
  },
  {
   "cell_type": "code",
   "execution_count": 17,
   "metadata": {},
   "outputs": [
    {
     "name": "stdout",
     "output_type": "stream",
     "text": [
      "Dataset - Suzukii_RL - exists: True\n"
     ]
    }
   ],
   "source": [
    "dset1 = DatasetConfiguration(names=['Suzukii_RL'])\n",
    "dset1.select(name='Suzukii_RL', species=['R','L'])\n",
    "dset1.read()\n",
    "dset1.clean()"
   ]
  },
  {
   "cell_type": "code",
   "execution_count": 18,
   "metadata": {},
   "outputs": [],
   "source": [
    "dset1.labels = dset1.labels.apply(lambda x: 1)"
   ]
  },
  {
   "cell_type": "code",
   "execution_count": 25,
   "metadata": {},
   "outputs": [],
   "source": [
    "dset1.fnames.shape\n",
    "dset1.labels.iloc[0] = 0"
   ]
  },
  {
   "cell_type": "code",
   "execution_count": null,
   "metadata": {},
   "outputs": [],
   "source": []
  },
  {
   "cell_type": "code",
   "execution_count": 26,
   "metadata": {},
   "outputs": [],
   "source": [
    "predRL = model.predict_generator(valid_generator(dset1.fnames.tolist(), dset1.labels.tolist(),\n",
    "                                    batch_size=traincf.batch_size,\n",
    "                                    target_names=np.unique(dset1.labels.tolist()).tolist(),\n",
    "                                    setting=traincf.setting, binary_labels=False),\n",
    "                              steps=int(math.ceil(float(len(dset1.fnames.tolist()))/float(traincf.batch_size))))"
   ]
  },
  {
   "cell_type": "code",
   "execution_count": 27,
   "metadata": {},
   "outputs": [],
   "source": [
    "y_predRL = np.argmax(predRL,axis=1)"
   ]
  },
  {
   "cell_type": "code",
   "execution_count": 28,
   "metadata": {},
   "outputs": [
    {
     "data": {
      "text/plain": [
       "0.9692095421371774"
      ]
     },
     "execution_count": 28,
     "metadata": {},
     "output_type": "execute_result"
    }
   ],
   "source": [
    "balanced_accuracy_score(y_true=dset1.labels.tolist(), y_pred=y_predRL)"
   ]
  },
  {
   "cell_type": "code",
   "execution_count": null,
   "metadata": {},
   "outputs": [],
   "source": []
  }
 ],
 "metadata": {
  "kernelspec": {
   "display_name": "Python 3",
   "language": "python",
   "name": "python3"
  },
  "language_info": {
   "codemirror_mode": {
    "name": "ipython",
    "version": 3
   },
   "file_extension": ".py",
   "mimetype": "text/x-python",
   "name": "python",
   "nbconvert_exporter": "python",
   "pygments_lexer": "ipython3",
   "version": "3.7.9"
  }
 },
 "nbformat": 4,
 "nbformat_minor": 4
}
