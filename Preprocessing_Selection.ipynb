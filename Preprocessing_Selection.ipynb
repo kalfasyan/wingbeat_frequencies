{
 "cells": [
  {
   "cell_type": "code",
   "execution_count": null,
   "metadata": {},
   "outputs": [],
   "source": [
    "%reset -f\n",
    "import glob, os, sys, inspect\n",
    "sys.path.insert(1, os.path.join(sys.path[0], '..'))\n",
    "import pandas as pd\n",
    "from wavhandler import *\n",
    "from natsort import natsorted\n",
    "from utils import *\n",
    "import matplotlib.pyplot as plt\n",
    "import numpy as np\n",
    "from scipy import signal\n",
    "import io\n",
    "import PIL\n",
    "np.random.seed(0)\n",
    "plt.rcParams['figure.figsize'] = [24, 8]\n",
    "\n",
    "import logging\n",
    "logger = logging.getLogger()\n",
    "logger.setLevel(logging.WARN)"
   ]
  },
  {
   "cell_type": "code",
   "execution_count": null,
   "metadata": {},
   "outputs": [],
   "source": [
    "smpl = 1\n",
    "z = WavHandler('/home/yannis/data/insects/Potamitis/Wingbeats/Aedes', sample_size=smpl, recursive=True)\n",
    "z.read()\n",
    "z.df_signals.iloc[:,0].plot()"
   ]
  },
  {
   "cell_type": "code",
   "execution_count": null,
   "metadata": {},
   "outputs": [],
   "source": [
    "z.preprocess()\n",
    "#z.filter_accepted_signals()\n",
    "#print(len(z.accepted_signals))"
   ]
  },
  {
   "cell_type": "code",
   "execution_count": null,
   "metadata": {},
   "outputs": [],
   "source": [
    "sig = z.df_signals.iloc[:,0]\n",
    "from scipy.signal import find_peaks\n",
    "f, Pxx = signal.welch(sig, 8000., scaling='density', window='hamming')\n",
    "x = Pxx\n",
    "threshold = 0.000000025\n",
    "peaks, vals = find_peaks(x, height=threshold, distance=10)\n",
    "peaks = [v for i,v in enumerate(peaks) if f[peaks][i] > 300]\n",
    "plt.plot(f,Pxx);plt.plot(f[peaks], x[peaks], \"x\");plt.plot(np.zeros_like(x), \"--\", color=\"gray\")\n",
    "plt.xlabel('frequency [Hz]');plt.ylabel('PSD, hamming');plt.title('Power spectrum (scipy.signal.welch)')\n",
    "\n",
    "df = pd.DataFrame(np.vstack((f[peaks], x[peaks])).T, columns=['freqs','pows'])\n",
    "peakseries = df[df.freqs>400]['pows'].nlargest(5)\n",
    "print('peakseries: \\n',peakseries)\n",
    "if peakseries.shape[0] == 2:\n",
    "    # If there are 2 peaks, return True only if\n",
    "    # the highest peak is larger than the threshold OR\n",
    "    # the second highest peak is larger than the threshold\n",
    "    condition = (peakseries.iloc[0] > threshold or peakseries.iloc[1] > threshold)\n",
    "elif peakseries.shape[0] > 2:\n",
    "    # If there are more peaks, return True if\n",
    "    # the same as above AND\n",
    "    # the leftmost peak is higher than the third peak (counting from the left) AND\n",
    "    # the second peak from the left is also higher than the third peak\n",
    "    condition = (peakseries.iloc[0] > threshold or peakseries.iloc[1] > threshold) and \\\n",
    "            (peakseries.loc[0] > peakseries.loc[2]) and \\\n",
    "            (peakseries.loc[1] > peakseries.loc[2])\n",
    "else:\n",
    "    condition = False\n",
    "print(f[peaks])\n",
    "print(condition)"
   ]
  },
  {
   "cell_type": "code",
   "execution_count": null,
   "metadata": {},
   "outputs": [],
   "source": [
    "\n",
    "sigseries = pd.Series(sig)\n",
    "window = 500\n",
    "rolling_mean = np.abs(sigseries).rolling(window).mean()\n",
    "sigseries.iloc[rolling_mean.idxmax()+1-window:rolling_mean.idxmax()+1].plot()"
   ]
  },
  {
   "cell_type": "code",
   "execution_count": null,
   "metadata": {},
   "outputs": [],
   "source": [
    "\n",
    "\n",
    "\n",
    "\n",
    "\n",
    "\n",
    "\n",
    "\n",
    "\n"
   ]
  },
  {
   "cell_type": "code",
   "execution_count": null,
   "metadata": {},
   "outputs": [],
   "source": []
  },
  {
   "cell_type": "code",
   "execution_count": null,
   "metadata": {},
   "outputs": [],
   "source": []
  },
  {
   "cell_type": "code",
   "execution_count": null,
   "metadata": {},
   "outputs": [],
   "source": [
    "freqs, times, spectrogram = signal.spectrogram(sig, 8000., noverlap=50,window='hamming')\n",
    "plt.title('Spectrogram')\n",
    "plt.ylabel('Frequency band')\n",
    "plt.xlabel('Time window')\n",
    "#plt.imshow(spectrogram, aspect='auto', cmap='hot_r', origin='lower')\n",
    "\n",
    "plt.pcolormesh(times, freqs, spectrogram)"
   ]
  },
  {
   "cell_type": "code",
   "execution_count": null,
   "metadata": {},
   "outputs": [],
   "source": [
    "plt.plot(spectrogram.sum(axis=0))#, keepdims=True))\n"
   ]
  },
  {
   "cell_type": "code",
   "execution_count": null,
   "metadata": {},
   "outputs": [],
   "source": [
    "times, times.shape\n"
   ]
  },
  {
   "cell_type": "code",
   "execution_count": null,
   "metadata": {},
   "outputs": [],
   "source": [
    "freqs,freqs.shape"
   ]
  },
  {
   "cell_type": "code",
   "execution_count": null,
   "metadata": {},
   "outputs": [],
   "source": [
    "spectrogram"
   ]
  },
  {
   "cell_type": "code",
   "execution_count": null,
   "metadata": {},
   "outputs": [],
   "source": [
    "spectrogram.shape"
   ]
  },
  {
   "cell_type": "code",
   "execution_count": null,
   "metadata": {},
   "outputs": [],
   "source": []
  },
  {
   "cell_type": "code",
   "execution_count": null,
   "metadata": {},
   "outputs": [],
   "source": []
  },
  {
   "cell_type": "code",
   "execution_count": null,
   "metadata": {},
   "outputs": [],
   "source": []
  },
  {
   "cell_type": "code",
   "execution_count": null,
   "metadata": {},
   "outputs": [],
   "source": []
  }
 ],
 "metadata": {
  "kernelspec": {
   "display_name": "Python 3",
   "language": "python",
   "name": "python3"
  },
  "language_info": {
   "codemirror_mode": {
    "name": "ipython",
    "version": 3
   },
   "file_extension": ".py",
   "mimetype": "text/x-python",
   "name": "python",
   "nbconvert_exporter": "python",
   "pygments_lexer": "ipython3",
   "version": "3.6.7"
  }
 },
 "nbformat": 4,
 "nbformat_minor": 2
}
