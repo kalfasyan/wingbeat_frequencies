{
 "cells": [
  {
   "cell_type": "code",
   "execution_count": 6,
   "metadata": {},
   "outputs": [
    {
     "name": "stderr",
     "output_type": "stream",
     "text": [
      "ERROR:root:Invalid alias: The name clear can't be aliased because it is another magic command.\n",
      "ERROR:root:Invalid alias: The name more can't be aliased because it is another magic command.\n",
      "ERROR:root:Invalid alias: The name less can't be aliased because it is another magic command.\n",
      "ERROR:root:Invalid alias: The name man can't be aliased because it is another magic command.\n"
     ]
    }
   ],
   "source": [
    "%reset -f\n",
    "import pandas as pd\n",
    "import numpy as np\n",
    "from wavhandler import *\n",
    "from utils import *\n",
    "import matplotlib.pyplot as plt\n",
    "import seaborn as sns\n",
    "sns.set()"
   ]
  },
  {
   "cell_type": "code",
   "execution_count": 7,
   "metadata": {},
   "outputs": [
    {
     "name": "stderr",
     "output_type": "stream",
     "text": [
      "100%|██████████| 6/6 [00:01<00:00,  3.85it/s]\n"
     ]
    }
   ],
   "source": [
    "X_names, y = get_data(target_names=mosquitos_6, nr_signals=np.inf, only_names=True)"
   ]
  },
  {
   "cell_type": "code",
   "execution_count": 8,
   "metadata": {},
   "outputs": [],
   "source": [
    "df = pd.DataFrame(X_names, columns=['names'])#.sample(100)\n",
    "df['species'] = df.names.apply(lambda x: x.split('/')[6])\n",
    "df['fname'] = df.names.apply(lambda x: x.split('/')[-1][:-4])\n",
    "df['temp'] = df.fname.apply(lambda x: x.split('_')[-3] if len(x.split('_')) > 5 else np.nan)\n",
    "df['humd'] = df.fname.apply(lambda x: x.split('_')[-1] if len(x.split('_')) > 5 else np.nan)\n",
    "df['date'] = df['fname'].apply(lambda x: pd.to_datetime(x.split('_')[0] + x.split('_')[1], format='F%y%m%d%H%M%S'))\n"
   ]
  },
  {
   "cell_type": "code",
   "execution_count": 9,
   "metadata": {},
   "outputs": [
    {
     "data": {
      "text/html": [
       "<div>\n",
       "<style scoped>\n",
       "    .dataframe tbody tr th:only-of-type {\n",
       "        vertical-align: middle;\n",
       "    }\n",
       "\n",
       "    .dataframe tbody tr th {\n",
       "        vertical-align: top;\n",
       "    }\n",
       "\n",
       "    .dataframe thead th {\n",
       "        text-align: right;\n",
       "    }\n",
       "</style>\n",
       "<table border=\"1\" class=\"dataframe\">\n",
       "  <thead>\n",
       "    <tr style=\"text-align: right;\">\n",
       "      <th></th>\n",
       "      <th>names</th>\n",
       "      <th>species</th>\n",
       "      <th>fname</th>\n",
       "      <th>temp</th>\n",
       "      <th>humd</th>\n",
       "      <th>date</th>\n",
       "    </tr>\n",
       "  </thead>\n",
       "  <tbody>\n",
       "    <tr>\n",
       "      <th>0</th>\n",
       "      <td>/home/kalfasyan/data/insects/Wingbeats/Ae. aeg...</td>\n",
       "      <td>Ae. aegypti</td>\n",
       "      <td>F170209_124032_251_G_050</td>\n",
       "      <td>NaN</td>\n",
       "      <td>NaN</td>\n",
       "      <td>2017-02-09 12:40:32</td>\n",
       "    </tr>\n",
       "    <tr>\n",
       "      <th>1</th>\n",
       "      <td>/home/kalfasyan/data/insects/Wingbeats/Ae. aeg...</td>\n",
       "      <td>Ae. aegypti</td>\n",
       "      <td>F170209_124114_004_G_050</td>\n",
       "      <td>NaN</td>\n",
       "      <td>NaN</td>\n",
       "      <td>2017-02-09 12:41:14</td>\n",
       "    </tr>\n",
       "    <tr>\n",
       "      <th>2</th>\n",
       "      <td>/home/kalfasyan/data/insects/Wingbeats/Ae. aeg...</td>\n",
       "      <td>Ae. aegypti</td>\n",
       "      <td>F170209_124408_030_G_050</td>\n",
       "      <td>NaN</td>\n",
       "      <td>NaN</td>\n",
       "      <td>2017-02-09 12:44:08</td>\n",
       "    </tr>\n",
       "    <tr>\n",
       "      <th>3</th>\n",
       "      <td>/home/kalfasyan/data/insects/Wingbeats/Ae. aeg...</td>\n",
       "      <td>Ae. aegypti</td>\n",
       "      <td>F170209_124528_048_G_050</td>\n",
       "      <td>NaN</td>\n",
       "      <td>NaN</td>\n",
       "      <td>2017-02-09 12:45:28</td>\n",
       "    </tr>\n",
       "    <tr>\n",
       "      <th>4</th>\n",
       "      <td>/home/kalfasyan/data/insects/Wingbeats/Ae. aeg...</td>\n",
       "      <td>Ae. aegypti</td>\n",
       "      <td>F170209_124345_025_G_050</td>\n",
       "      <td>NaN</td>\n",
       "      <td>NaN</td>\n",
       "      <td>2017-02-09 12:43:45</td>\n",
       "    </tr>\n",
       "  </tbody>\n",
       "</table>\n",
       "</div>"
      ],
      "text/plain": [
       "                                               names      species  \\\n",
       "0  /home/kalfasyan/data/insects/Wingbeats/Ae. aeg...  Ae. aegypti   \n",
       "1  /home/kalfasyan/data/insects/Wingbeats/Ae. aeg...  Ae. aegypti   \n",
       "2  /home/kalfasyan/data/insects/Wingbeats/Ae. aeg...  Ae. aegypti   \n",
       "3  /home/kalfasyan/data/insects/Wingbeats/Ae. aeg...  Ae. aegypti   \n",
       "4  /home/kalfasyan/data/insects/Wingbeats/Ae. aeg...  Ae. aegypti   \n",
       "\n",
       "                      fname temp humd                date  \n",
       "0  F170209_124032_251_G_050  NaN  NaN 2017-02-09 12:40:32  \n",
       "1  F170209_124114_004_G_050  NaN  NaN 2017-02-09 12:41:14  \n",
       "2  F170209_124408_030_G_050  NaN  NaN 2017-02-09 12:44:08  \n",
       "3  F170209_124528_048_G_050  NaN  NaN 2017-02-09 12:45:28  \n",
       "4  F170209_124345_025_G_050  NaN  NaN 2017-02-09 12:43:45  "
      ]
     },
     "execution_count": 9,
     "metadata": {},
     "output_type": "execute_result"
    }
   ],
   "source": [
    "df.head()"
   ]
  },
  {
   "cell_type": "code",
   "execution_count": 38,
   "metadata": {},
   "outputs": [
    {
     "name": "stdout",
     "output_type": "stream",
     "text": [
      "                                               names      species  \\\n",
      "0  /home/kalfasyan/data/insects/Wingbeats/Ae. aeg...  Ae. aegypti   \n",
      "1  /home/kalfasyan/data/insects/Wingbeats/Ae. aeg...  Ae. aegypti   \n",
      "2  /home/kalfasyan/data/insects/Wingbeats/Ae. aeg...  Ae. aegypti   \n",
      "3  /home/kalfasyan/data/insects/Wingbeats/Ae. aeg...  Ae. aegypti   \n",
      "4  /home/kalfasyan/data/insects/Wingbeats/Ae. aeg...  Ae. aegypti   \n",
      "\n",
      "                      fname temp humd                date  \n",
      "0  F170209_124032_251_G_050  NaN  NaN 2017-02-09 12:40:32  \n",
      "1  F170209_124114_004_G_050  NaN  NaN 2017-02-09 12:41:14  \n",
      "2  F170209_124408_030_G_050  NaN  NaN 2017-02-09 12:44:08  \n",
      "3  F170209_124528_048_G_050  NaN  NaN 2017-02-09 12:45:28  \n",
      "4  F170209_124345_025_G_050  NaN  NaN 2017-02-09 12:43:45  \n"
     ]
    },
    {
     "data": {
      "image/png": "[encoded data removed]",
      "text/plain": [
       "<Figure size 432x288 with 1 Axes>"
      ]
     },
     "metadata": {
      "needs_background": "light"
     },
     "output_type": "display_data"
    }
   ],
   "source": [
    "for i, (q, sub) in enumerate(df.groupby('species')):\n",
    "    print(sub.head())\n",
    "    plt.figure()\n",
    "    sub.date.hist(xrot=45)\n",
    "    break"
   ]
  },
  {
   "cell_type": "code",
   "execution_count": null,
   "metadata": {},
   "outputs": [],
   "source": []
  }
 ],
 "metadata": {
  "kernelspec": {
   "display_name": "Python 3",
   "language": "python",
   "name": "python3"
  },
  "language_info": {
   "codemirror_mode": {
    "name": "ipython",
    "version": 3
   },
   "file_extension": ".py",
   "mimetype": "text/x-python",
   "name": "python",
   "nbconvert_exporter": "python",
   "pygments_lexer": "ipython3",
   "version": "3.6.8"
  }
 },
 "nbformat": 4,
 "nbformat_minor": 2
}
