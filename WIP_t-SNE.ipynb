{
 "cells": [
  {
   "cell_type": "code",
   "execution_count": 1,
   "metadata": {},
   "outputs": [
    {
     "name": "stderr",
     "output_type": "stream",
     "text": [
      "Using TensorFlow backend.\n"
     ]
    }
   ],
   "source": [
    "import os, math\n",
    "import numpy as np\n",
    "seed = 2018\n",
    "np.random.seed(seed)\n",
    "\n",
    "import librosa\n",
    "\n",
    "from collections import Counter\n",
    "\n",
    "from sklearn import manifold\n",
    "\n",
    "import matplotlib.pyplot as plt\n",
    "\n",
    "from sklearn.utils import shuffle\n",
    "from sklearn.model_selection import train_test_split\n",
    "\n",
    "from keras.layers import Input\n",
    "\n",
    "from keras import Model\n",
    "from keras import backend as K\n",
    "\n",
    "from keras.utils import np_utils\n",
    "\n",
    "from keras.applications.densenet import DenseNet121\n",
    "from wavhandler import *\n",
    "from utils_train import *"
   ]
  },
  {
   "cell_type": "code",
   "execution_count": 2,
   "metadata": {},
   "outputs": [],
   "source": [
    "current_model = DenseNet121\n",
    "\n",
    "model_name = 'wingbeats_' + current_model.__name__\n",
    "\n",
    "best_weights_path = model_name + '.h5'\n",
    "valid_features_file = 'valid_features.npy'\n",
    "valid_labels_file = 'valid_labels.npy'\n",
    "batch_size = 32\n",
    "\n",
    "SR = 8000\n",
    "N_FFT = 256\n",
    "HOP_LEN = N_FFT / 6\n",
    "input_shape = (129, 120, 1)"
   ]
  },
  {
   "cell_type": "code",
   "execution_count": 3,
   "metadata": {},
   "outputs": [
    {
     "name": "stderr",
     "output_type": "stream",
     "text": [
      "100%|██████████| 2/2 [00:01<00:00,  1.29it/s]\n"
     ]
    }
   ],
   "source": [
    "dataset = Dataset('LG')\n",
    "dataset.load(only_names=False);"
   ]
  },
  {
   "cell_type": "code",
   "execution_count": 4,
   "metadata": {},
   "outputs": [],
   "source": [
    "X_train, X_test, X_val, y_train, y_test, y_val = train_test_val_split(dataset.filenames,dataset.y, random_state=0)"
   ]
  },
  {
   "cell_type": "code",
   "execution_count": 5,
   "metadata": {},
   "outputs": [
    {
     "name": "stdout",
     "output_type": "stream",
     "text": [
      "X_train shape: \t(9176, 5000)\n",
      "X_test shape:\t(1275, 5000)\n",
      "X_val shape:\t(2295, 5000)\n",
      "\n",
      "WARNING:tensorflow:From /home/kalfasyan/miniconda3/envs/wingbeats/lib/python3.7/site-packages/tensorflow/python/framework/op_def_library.py:263: colocate_with (from tensorflow.python.framework.ops) is deprecated and will be removed in a future version.\n",
      "Instructions for updating:\n",
      "Colocations handled automatically by placer.\n",
      "WARNING:tensorflow:From /home/kalfasyan/miniconda3/envs/wingbeats/lib/python3.7/site-packages/keras/backend/tensorflow_backend.py:3445: calling dropout (from tensorflow.python.ops.nn_ops) with keep_prob is deprecated and will be removed in a future version.\n",
      "Instructions for updating:\n",
      "Please use `rate` instead of `keep_prob`. Rate should be set to `rate = 1 - keep_prob`.\n",
      "WARNING:tensorflow:From /home/kalfasyan/miniconda3/envs/wingbeats/lib/python3.7/site-packages/tensorflow/python/ops/math_ops.py:3066: to_int32 (from tensorflow.python.ops.math_ops) is deprecated and will be removed in a future version.\n",
      "Instructions for updating:\n",
      "Use tf.cast instead.\n",
      "Train on 9176 samples, validate on 2295 samples\n",
      "Epoch 1/100\n",
      "9176/9176 [==============================] - 61s 7ms/step - loss: 0.1008 - acc: 0.9628 - val_loss: 1.0891 - val_acc: 0.8453\n",
      "\n",
      "Epoch 00001: val_acc improved from -inf to 0.84532, saving model to /home/kalfasyan/projects/wingbeat_frequencies/temp_data/tsne_stuff.h5\n",
      "Epoch 2/100\n",
      "9176/9176 [==============================] - 58s 6ms/step - loss: 0.0660 - acc: 0.9773 - val_loss: 3.3888 - val_acc: 0.6257\n",
      "\n",
      "Epoch 00002: val_acc did not improve from 0.84532\n",
      "Epoch 3/100\n",
      "9176/9176 [==============================] - 56s 6ms/step - loss: 0.0499 - acc: 0.9819 - val_loss: 3.7889 - val_acc: 0.6192\n",
      "\n",
      "Epoch 00003: val_acc did not improve from 0.84532\n",
      "Epoch 4/100\n",
      "9176/9176 [==============================] - 57s 6ms/step - loss: 0.0464 - acc: 0.9839 - val_loss: 2.0232 - val_acc: 0.7438\n",
      "\n",
      "Epoch 00004: val_acc did not improve from 0.84532\n",
      "\n",
      "Epoch 00004: ReduceLROnPlateau reducing learning rate to 0.00010000000474974513.\n",
      "Epoch 5/100\n",
      "9176/9176 [==============================] - 57s 6ms/step - loss: 0.0223 - acc: 0.9929 - val_loss: 0.0118 - val_acc: 0.9965\n",
      "\n",
      "Epoch 00005: val_acc improved from 0.84532 to 0.99651, saving model to /home/kalfasyan/projects/wingbeat_frequencies/temp_data/tsne_stuff.h5\n",
      "Epoch 6/100\n",
      "9176/9176 [==============================] - 59s 6ms/step - loss: 0.0164 - acc: 0.9947 - val_loss: 0.0182 - val_acc: 0.9917\n",
      "\n",
      "Epoch 00006: val_acc did not improve from 0.99651\n",
      "Epoch 7/100\n",
      "9176/9176 [==============================] - 56s 6ms/step - loss: 0.0146 - acc: 0.9954 - val_loss: 0.0319 - val_acc: 0.9852\n",
      "\n",
      "Epoch 00007: val_acc did not improve from 0.99651\n",
      "Epoch 8/100\n",
      "9176/9176 [==============================] - 57s 6ms/step - loss: 0.0142 - acc: 0.9954 - val_loss: 0.0757 - val_acc: 0.9704\n",
      "\n",
      "Epoch 00008: val_acc did not improve from 0.99651\n",
      "\n",
      "Epoch 00008: ReduceLROnPlateau reducing learning rate to 1.0000000474974514e-05.\n",
      "Epoch 9/100\n",
      "9176/9176 [==============================] - 56s 6ms/step - loss: 0.0110 - acc: 0.9967 - val_loss: 0.0043 - val_acc: 0.9996\n",
      "\n",
      "Epoch 00009: val_acc improved from 0.99651 to 0.99956, saving model to /home/kalfasyan/projects/wingbeat_frequencies/temp_data/tsne_stuff.h5\n",
      "Epoch 10/100\n",
      "9176/9176 [==============================] - 58s 6ms/step - loss: 0.0087 - acc: 0.9978 - val_loss: 0.0041 - val_acc: 0.9996\n",
      "\n",
      "Epoch 00010: val_acc did not improve from 0.99956\n",
      "Epoch 11/100\n",
      "9176/9176 [==============================] - 57s 6ms/step - loss: 0.0105 - acc: 0.9963 - val_loss: 0.0059 - val_acc: 0.9991\n",
      "\n",
      "Epoch 00011: val_acc did not improve from 0.99956\n",
      "Epoch 12/100\n",
      "9176/9176 [==============================] - 58s 6ms/step - loss: 0.0094 - acc: 0.9971 - val_loss: 0.0036 - val_acc: 0.9996\n",
      "\n",
      "Epoch 00012: val_acc did not improve from 0.99956\n",
      "\n",
      "Epoch 00012: ReduceLROnPlateau reducing learning rate to 1.0000000656873453e-06.\n",
      "Epoch 13/100\n",
      "4320/9176 [=============>................] - ETA: 28s - loss: 0.0093 - acc: 0.9970"
     ]
    },
    {
     "name": "stderr",
     "output_type": "stream",
     "text": [
      "ERROR:root:Internal Python error in the inspect module.\n",
      "Below is the traceback from this internal error.\n",
      "\n"
     ]
    },
    {
     "name": "stdout",
     "output_type": "stream",
     "text": [
      "Traceback (most recent call last):\n",
      "  File \"/home/kalfasyan/miniconda3/envs/wingbeats/lib/python3.7/site-packages/IPython/core/interactiveshell.py\", line 3296, in run_code\n",
      "    exec(code_obj, self.user_global_ns, self.user_ns)\n",
      "  File \"<ipython-input-5-274d60baa52a>\", line 1, in <module>\n",
      "    make_classification_conv1d(dataset.X, dataset.y, model_name='tsne_stuff')\n",
      "  File \"/home/kalfasyan/projects/wingbeat_frequencies/utils_train.py\", line 299, in make_classification_conv1d\n",
      "    model.fit(X_train, y_train, batch_size=32, epochs=100, validation_data = [X_val, y_val], callbacks = callbacks_list)\n",
      "  File \"/home/kalfasyan/miniconda3/envs/wingbeats/lib/python3.7/site-packages/keras/engine/training.py\", line 1039, in fit\n",
      "    validation_steps=validation_steps)\n",
      "  File \"/home/kalfasyan/miniconda3/envs/wingbeats/lib/python3.7/site-packages/keras/engine/training_arrays.py\", line 199, in fit_loop\n",
      "    outs = f(ins_batch)\n",
      "  File \"/home/kalfasyan/miniconda3/envs/wingbeats/lib/python3.7/site-packages/keras/backend/tensorflow_backend.py\", line 2715, in __call__\n",
      "    return self._call(inputs)\n",
      "  File \"/home/kalfasyan/miniconda3/envs/wingbeats/lib/python3.7/site-packages/keras/backend/tensorflow_backend.py\", line 2675, in _call\n",
      "    fetched = self._callable_fn(*array_vals)\n",
      "  File \"/home/kalfasyan/miniconda3/envs/wingbeats/lib/python3.7/site-packages/tensorflow/python/client/session.py\", line 1439, in __call__\n",
      "    run_metadata_ptr)\n",
      "KeyboardInterrupt\n",
      "\n",
      "During handling of the above exception, another exception occurred:\n",
      "\n",
      "Traceback (most recent call last):\n",
      "  File \"/home/kalfasyan/miniconda3/envs/wingbeats/lib/python3.7/site-packages/IPython/core/interactiveshell.py\", line 2033, in showtraceback\n",
      "    stb = value._render_traceback_()\n",
      "AttributeError: 'KeyboardInterrupt' object has no attribute '_render_traceback_'\n",
      "\n",
      "During handling of the above exception, another exception occurred:\n",
      "\n",
      "Traceback (most recent call last):\n",
      "  File \"/home/kalfasyan/miniconda3/envs/wingbeats/lib/python3.7/site-packages/IPython/core/ultratb.py\", line 1095, in get_records\n",
      "    return _fixed_getinnerframes(etb, number_of_lines_of_context, tb_offset)\n",
      "  File \"/home/kalfasyan/miniconda3/envs/wingbeats/lib/python3.7/site-packages/IPython/core/ultratb.py\", line 313, in wrapped\n",
      "    return f(*args, **kwargs)\n",
      "  File \"/home/kalfasyan/miniconda3/envs/wingbeats/lib/python3.7/site-packages/IPython/core/ultratb.py\", line 347, in _fixed_getinnerframes\n",
      "    records = fix_frame_records_filenames(inspect.getinnerframes(etb, context))\n",
      "  File \"/home/kalfasyan/miniconda3/envs/wingbeats/lib/python3.7/inspect.py\", line 1502, in getinnerframes\n",
      "    frameinfo = (tb.tb_frame,) + getframeinfo(tb, context)\n",
      "  File \"/home/kalfasyan/miniconda3/envs/wingbeats/lib/python3.7/inspect.py\", line 1460, in getframeinfo\n",
      "    filename = getsourcefile(frame) or getfile(frame)\n",
      "  File \"/home/kalfasyan/miniconda3/envs/wingbeats/lib/python3.7/inspect.py\", line 696, in getsourcefile\n",
      "    if getattr(getmodule(object, filename), '__loader__', None) is not None:\n",
      "  File \"/home/kalfasyan/miniconda3/envs/wingbeats/lib/python3.7/inspect.py\", line 739, in getmodule\n",
      "    f = getabsfile(module)\n",
      "  File \"/home/kalfasyan/miniconda3/envs/wingbeats/lib/python3.7/inspect.py\", line 709, in getabsfile\n",
      "    return os.path.normcase(os.path.abspath(_filename))\n",
      "KeyboardInterrupt\n"
     ]
    },
    {
     "ename": "KeyboardInterrupt",
     "evalue": "",
     "output_type": "error",
     "traceback": [
      "\u001b[0;31m---------------------------------------------------------------------------\u001b[0m"
     ]
    }
   ],
   "source": [
    "make_classification_conv1d(dataset.X, dataset.y, model_name='tsne_stuff')"
   ]
  },
  {
   "cell_type": "code",
   "execution_count": null,
   "metadata": {},
   "outputs": [],
   "source": []
  },
  {
   "cell_type": "code",
   "execution_count": null,
   "metadata": {},
   "outputs": [],
   "source": [
    "tsne = manifold.TSNE(n_components = 2, perplexity = 30, init='pca',random_state = seed, verbose = 1)"
   ]
  },
  {
   "cell_type": "code",
   "execution_count": null,
   "metadata": {},
   "outputs": [],
   "source": []
  }
 ],
 "metadata": {
  "kernelspec": {
   "display_name": "Python 3",
   "language": "python",
   "name": "python3"
  },
  "language_info": {
   "codemirror_mode": {
    "name": "ipython",
    "version": 3
   },
   "file_extension": ".py",
   "mimetype": "text/x-python",
   "name": "python",
   "nbconvert_exporter": "python",
   "pygments_lexer": "ipython3",
   "version": "3.7.3"
  }
 },
 "nbformat": 4,
 "nbformat_minor": 2
}
