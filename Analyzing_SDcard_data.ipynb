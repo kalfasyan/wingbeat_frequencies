{
 "cells": [
  {
   "cell_type": "code",
   "execution_count": 33,
   "metadata": {},
   "outputs": [],
   "source": [
    "%reset -f\n",
    "from utils import *\n",
    "from wavhandler import *\n",
    "import os\n",
    "import soundfile as sf\n",
    "import matplotlib.pyplot as plt"
   ]
  },
  {
   "cell_type": "code",
   "execution_count": 34,
   "metadata": {},
   "outputs": [
    {
     "name": "stderr",
     "output_type": "stream",
     "text": [
      "100%|██████████| 1/1 [00:00<00:00, 19.15it/s]\n"
     ]
    }
   ],
   "source": [
    "X, y, filenames = get_data(filedir='/home/yannis/data/', target_names=['witloof'],only_names=False)"
   ]
  },
  {
   "cell_type": "code",
   "execution_count": 89,
   "metadata": {},
   "outputs": [],
   "source": [
    "peaks = []\n",
    "for i in range(len(filenames)): #len(files)\n",
    "    data, fs = sf.read(filenames[np.random.randint(0,len(filenames))])#path + files[np.random.randint(0,100)]\n",
    "    \n",
    "    pwr = power_spectral_density(data).pow_amp.values\n",
    "    z = power_spectral_density(data)\n",
    "    peaks.append(len(peak_finder(z)))\n",
    "#     break\n",
    "#     plt.figure()\n",
    "#     plt.subplot(2,1,1)\n",
    "#     plt.plot(pwr)\n",
    "#     plt.subplot(2,1,2)\n",
    "#     plt.plot(data)\n"
   ]
  },
  {
   "cell_type": "code",
   "execution_count": 91,
   "metadata": {},
   "outputs": [
    {
     "data": {
      "text/plain": [
       "257"
      ]
     },
     "execution_count": 91,
     "metadata": {},
     "output_type": "execute_result"
    }
   ],
   "source": [
    "np.sum(peaks)"
   ]
  },
  {
   "cell_type": "code",
   "execution_count": null,
   "metadata": {},
   "outputs": [],
   "source": []
  },
  {
   "cell_type": "code",
   "execution_count": null,
   "metadata": {},
   "outputs": [],
   "source": []
  }
 ],
 "metadata": {
  "kernelspec": {
   "display_name": "Python 3",
   "language": "python",
   "name": "python3"
  },
  "language_info": {
   "codemirror_mode": {
    "name": "ipython",
    "version": 3
   },
   "file_extension": ".py",
   "mimetype": "text/x-python",
   "name": "python",
   "nbconvert_exporter": "python",
   "pygments_lexer": "ipython3",
   "version": "3.6.7"
  }
 },
 "nbformat": 4,
 "nbformat_minor": 2
}
