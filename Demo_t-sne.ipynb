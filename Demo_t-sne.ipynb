{
 "cells": [
  {
   "cell_type": "code",
   "execution_count": null,
   "metadata": {},
   "outputs": [],
   "source": [
    "\n",
    "### One needs to first run https://www.kaggle.com/left13/various-nets-densenet121-0-96-acc-full-set\n",
    "### DenseNet121 N_FFT 256 - 23 EPOCHS - 0.96 ACC ON 20% TEST\n",
    "from utils import *\n",
    "\n",
    "import os, math\n",
    "import numpy as np\n",
    "seed = 2018\n",
    "np.random.seed(seed)\n",
    "\n",
    "import librosa\n",
    "\n",
    "from collections import Counter\n",
    "\n",
    "from sklearn import manifold\n",
    "\n",
    "import matplotlib.pyplot as plt\n",
    "\n",
    "from sklearn.utils import shuffle\n",
    "from sklearn.model_selection import train_test_split\n",
    "\n",
    "from keras.layers import Input\n",
    "\n",
    "from keras import Model\n",
    "from keras import backend as K\n",
    "\n",
    "from keras.utils import np_utils\n",
    "\n",
    "from keras.applications.densenet import DenseNet121"
   ]
  },
  {
   "cell_type": "code",
   "execution_count": null,
   "metadata": {},
   "outputs": [],
   "source": [
    "current_model = DenseNet121\n",
    "\n",
    "model_name = TEMP_DATADIR+'wingbeats_' + 'DenseNet121'#current_model#.__name__\n",
    "\n",
    "best_weights_path = model_name + '.h5'\n",
    "valid_features_file = 'valid_features.dat'\n",
    "valid_labels_file = 'valid_labels.dat'\n",
    "batch_size = 32\n",
    "\n",
    "SR = 8000\n",
    "N_FFT = 256\n",
    "HOP_LEN = int(N_FFT / 6)\n",
    "input_shape = (129, 120, 1)"
   ]
  },
  {
   "cell_type": "code",
   "execution_count": null,
   "metadata": {},
   "outputs": [],
   "source": [
    "target_names = ['Ae. aegypti', 'Ae. albopictus', 'An. gambiae', 'An. arabiensis', 'C. pipiens', 'C. quinquefasciatus']\n",
    "\n",
    "X_names = []\n",
    "y = []\n",
    "target_count = []\n",
    "\n",
    "for i, target in enumerate(target_names):\n",
    "    target_count.append(0)\n",
    "    path = '/home/yannis/data/insects/Wingbeats/' + target + '/'\n",
    "    for [root, dirs, files] in os.walk(path, topdown = False):\n",
    "        for filename in files:\n",
    "            name,ext = os.path.splitext(filename)\n",
    "            if ext == '.wav':\n",
    "                name = os.path.join(root, filename)\n",
    "                y.append(i)\n",
    "                X_names.append(name)\n",
    "                target_count[i]+=1\n",
    "                # if target_count[i] > 20000:\n",
    "                #     break\n",
    "    print (target, '#recs = ', target_count[i])\n",
    "\n",
    "print ('total #recs = ', len(y))\n",
    "\n",
    "X_names, y = shuffle(X_names, y, random_state = seed)\n",
    "X_train, X_test, y_train, y_test = train_test_split(X_names, y, stratify = y, test_size = 0.20, random_state = seed)\n",
    "\n",
    "print ('train #recs = ', len(X_train))\n",
    "print ('test #recs = ', len(X_test))"
   ]
  },
  {
   "cell_type": "code",
   "execution_count": null,
   "metadata": {},
   "outputs": [],
   "source": [
    "def equal_split(X, y, size):\n",
    "    equal_split_X_test = []\n",
    "    equal_split_y_test = []\n",
    "    classes_count = [0] * len(y)\n",
    "\n",
    "    for i in range(len(X)):\n",
    "        if classes_count[y[i]] < size:\n",
    "            equal_split_X_test.append(X[i])\n",
    "            equal_split_y_test.append(y[i])\n",
    "\n",
    "            classes_count[y[i]]+=1\n",
    "\n",
    "    return equal_split_X_test, equal_split_y_test"
   ]
  },
  {
   "cell_type": "code",
   "execution_count": null,
   "metadata": {},
   "outputs": [],
   "source": [
    "X_test, y_test = equal_split(X_test, y_test, min(Counter(y_test).values()))"
   ]
  },
  {
   "cell_type": "code",
   "execution_count": null,
   "metadata": {},
   "outputs": [],
   "source": [
    "def valid_generator():\n",
    "    while True:\n",
    "        for start in range(0, len(X_test), batch_size):\n",
    "            x_batch = []\n",
    "            y_batch = []\n",
    "            \n",
    "            end = min(start + batch_size, len(X_test))\n",
    "            test_batch = X_test[start:end]\n",
    "            labels_batch = y_test[start:end]\n",
    "            \n",
    "            for i in range(len(test_batch)):\n",
    "                data, rate = librosa.load(test_batch[i], sr = SR)\n",
    "\n",
    "                data = librosa.stft(data, n_fft = N_FFT, hop_length = HOP_LEN)\n",
    "                data = librosa.amplitude_to_db(data)\n",
    "\n",
    "                data = np.flipud(data)\n",
    "\n",
    "                data = np.expand_dims(data, axis = -1)\n",
    "\n",
    "                x_batch.append(data)\n",
    "                y_batch.append(labels_batch[i])\n",
    "\n",
    "            x_batch = np.array(x_batch, np.float32)\n",
    "            y_batch = np.array(y_batch, np.float32)\n",
    "            \n",
    "            y_batch = np_utils.to_categorical(y_batch, len(target_names))\n",
    "            \n",
    "            yield x_batch, y_batch"
   ]
  },
  {
   "cell_type": "code",
   "execution_count": null,
   "metadata": {},
   "outputs": [],
   "source": [
    "img_input = Input(shape = input_shape)\n",
    "\n",
    "model = current_model(input_tensor = img_input, classes = len(target_names), weights = None)\n",
    "\n",
    "x_new = model.layers[-2].output\n",
    "\n",
    "# Load pretrained weights. You can get them after running the code in the following link https://www.kaggle.com/left13/various-nets-densenet121-0-96-acc-full-set\n",
    "model.load_weights(best_weights_path)\n",
    "\n",
    "model = Model(img_input, x_new, name = 'densenet')\n",
    "\n",
    "model.compile(optimizer = 'adam', loss = 'categorical_crossentropy', metrics = ['accuracy']) "
   ]
  },
  {
   "cell_type": "code",
   "execution_count": null,
   "metadata": {},
   "outputs": [],
   "source": [
    "valid_features = model.predict_generator(\n",
    "    valid_generator(), int(math.ceil(float(len(X_test)) / float(batch_size))))"
   ]
  },
  {
   "cell_type": "code",
   "execution_count": null,
   "metadata": {},
   "outputs": [],
   "source": [
    "import pickle\n",
    "pickle.dump(valid_features, open(TEMP_DATADIR + valid_features_file, \"wb\"))\n",
    "pickle.dump(y_test, open(TEMP_DATADIR+ valid_labels_file, \"wb\"))"
   ]
  },
  {
   "cell_type": "code",
   "execution_count": null,
   "metadata": {},
   "outputs": [],
   "source": [
    "XX = pickle.load(open(TEMP_DATADIR + valid_features_file, \"rb\"))\n",
    "y = pickle.load(open(TEMP_DATADIR + valid_labels_file, \"rb\"))"
   ]
  },
  {
   "cell_type": "code",
   "execution_count": null,
   "metadata": {},
   "outputs": [],
   "source": [
    "tsne = manifold.TSNE(n_components = 2, perplexity = 30, init='pca',random_state = seed, verbose = 1)\n",
    "X = tsne.fit_transform(np.vstack(XX))"
   ]
  },
  {
   "cell_type": "code",
   "execution_count": null,
   "metadata": {},
   "outputs": [],
   "source": [
    "pickle.dump(X, open(TEMP_DATADIR + 'tsne.dat', \"wb\"))"
   ]
  },
  {
   "cell_type": "code",
   "execution_count": null,
   "metadata": {},
   "outputs": [],
   "source": [
    "fig = plt.figure(figsize = (2*10, 2*8))\n",
    "ax = fig.gca()\n",
    "\n",
    "x_min, x_max = np.min(X, 0), np.max(X, 0)\n",
    "X = (X - x_min) / (x_max - x_min)\n",
    "\n",
    "for i in range(X.shape[0]):\n",
    "    ax.text(X[i, 0], X[i, 1], str(y[i]), color = plt.cm.Set3(y[i]), fontdict = {'weight': 'bold', 'size': 9})\n",
    "\n",
    "fig.suptitle('0: Ae. aegypti, 1: Ae. albopictus, 2: An. gambiae, 3: An. arabiensis, 4: C. pipiens, 5: C. quinquefasciatus')\n",
    "\n",
    "plt.show()"
   ]
  },
  {
   "cell_type": "code",
   "execution_count": null,
   "metadata": {},
   "outputs": [],
   "source": [
    "len(y_test)"
   ]
  },
  {
   "cell_type": "code",
   "execution_count": null,
   "metadata": {},
   "outputs": [],
   "source": [
    "y_me = np.random.randint(0,np.max(y_test), size=len(y_test))"
   ]
  },
  {
   "cell_type": "code",
   "execution_count": null,
   "metadata": {},
   "outputs": [],
   "source": []
  }
 ],
 "metadata": {
  "kernelspec": {
   "display_name": "Python 3",
   "language": "python",
   "name": "python3"
  },
  "language_info": {
   "codemirror_mode": {
    "name": "ipython",
    "version": 3
   },
   "file_extension": ".py",
   "mimetype": "text/x-python",
   "name": "python",
   "nbconvert_exporter": "python",
   "pygments_lexer": "ipython3",
   "version": "3.6.7"
  }
 },
 "nbformat": 4,
 "nbformat_minor": 2
}
