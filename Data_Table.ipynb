{
 "cells": [
  {
   "cell_type": "code",
   "execution_count": 1,
   "metadata": {},
   "outputs": [],
   "source": [
    "%reset -f\n",
    "import pandas as pd\n",
    "import numpy as np\n",
    "import os\n",
    "from wavhandler import *\n",
    "import logging\n",
    "import matplotlib.pyplot as plt\n",
    "from scipy import signal\n",
    "\n",
    "logger = logging.getLogger()\n",
    "logger.setLevel(logging.WARN)"
   ]
  },
  {
   "cell_type": "code",
   "execution_count": 2,
   "metadata": {},
   "outputs": [],
   "source": [
    "def make_table(wavhdlr):\n",
    "    wavhdlr.read(create_table=True)\n",
    "    df_tbl = wavhdlr.df_table\n",
    "    evaluated = evaluate(df_tbl.names.tolist())\n",
    "    \n",
    "    df_tbl['evaluation'] = df_tbl['fname'].apply(lambda x: 1 if x in set(evaluated) else 0)\n",
    "\n",
    "    sub1 = df_tbl.set_index('fname')\n",
    "    psd_dict = psd_welch_freqs(sub1.names.tolist())\n",
    "    sub2 = pd.DataFrame.from_dict(psd_dict, orient='index')\n",
    "\n",
    "    ampl_dict = signal_amplitudes(sub1.names.tolist())    \n",
    "    sub3 = pd.DataFrame.from_dict(ampl_dict, orient='index', columns=['ampl_1','ampl_2','ampl_3'])\n",
    "\n",
    "    df = pd.concat([sub1, sub2, sub3], axis=1).reset_index(level='fname')\n",
    "    return df"
   ]
  },
  {
   "cell_type": "code",
   "execution_count": 3,
   "metadata": {},
   "outputs": [],
   "source": [
    "aedes = WavHandler('/home/yannis/data/insects/Potamitis/Wingbeats/Aedes', recursive=True)\n",
    "anoph = WavHandler('/home/yannis/data/insects/Potamitis/Wingbeats/Anopheles', recursive=True)\n",
    "culex = WavHandler('/home/yannis/data/insects/Potamitis/Wingbeats/Culex', recursive=True)"
   ]
  },
  {
   "cell_type": "code",
   "execution_count": 4,
   "metadata": {},
   "outputs": [
    {
     "ename": "NameError",
     "evalue": "name 'df_culex' is not defined",
     "output_type": "error",
     "traceback": [
      "\u001b[0;31m---------------------------------------------------------------------------\u001b[0m",
      "\u001b[0;31mNameError\u001b[0m                                 Traceback (most recent call last)",
      "\u001b[0;32m<ipython-input-4-ad0da67ec545>\u001b[0m in \u001b[0;36m<module>\u001b[0;34m\u001b[0m\n\u001b[1;32m      2\u001b[0m \u001b[0mdf_culex\u001b[0m\u001b[0;34m.\u001b[0m\u001b[0mto_csv\u001b[0m\u001b[0;34m(\u001b[0m\u001b[0;34m'culex_table.csv'\u001b[0m\u001b[0;34m,\u001b[0m \u001b[0msep\u001b[0m\u001b[0;34m=\u001b[0m\u001b[0;34m';'\u001b[0m\u001b[0;34m)\u001b[0m\u001b[0;34m\u001b[0m\u001b[0;34m\u001b[0m\u001b[0m\n\u001b[1;32m      3\u001b[0m \u001b[0;32mdel\u001b[0m \u001b[0mdf_culex\u001b[0m\u001b[0;34m\u001b[0m\u001b[0;34m\u001b[0m\u001b[0m\n\u001b[0;32m----> 4\u001b[0;31m \u001b[0mdf_culex\u001b[0m\u001b[0;34m.\u001b[0m\u001b[0mhead\u001b[0m\u001b[0;34m(\u001b[0m\u001b[0;34m)\u001b[0m\u001b[0;34m\u001b[0m\u001b[0;34m\u001b[0m\u001b[0m\n\u001b[0m",
      "\u001b[0;31mNameError\u001b[0m: name 'df_culex' is not defined"
     ]
    }
   ],
   "source": [
    "df_culex = make_table(culex)\n",
    "df_culex.to_csv('culex_table.csv', sep=';')\n",
    "del df_culex"
   ]
  },
  {
   "cell_type": "code",
   "execution_count": 5,
   "metadata": {},
   "outputs": [],
   "source": [
    "df_anoph = make_table(anoph)\n",
    "df_anoph.to_csv('anoph_table.csv', sep=';')\n",
    "del df_anoph"
   ]
  },
  {
   "cell_type": "code",
   "execution_count": 6,
   "metadata": {},
   "outputs": [],
   "source": [
    "df_aedes = make_table(aedes)\n",
    "df_aedes.to_csv('aedes_table.csv', sep=';')\n",
    "del df_aedes"
   ]
  },
  {
   "cell_type": "code",
   "execution_count": null,
   "metadata": {},
   "outputs": [],
   "source": []
  },
  {
   "cell_type": "code",
   "execution_count": null,
   "metadata": {},
   "outputs": [],
   "source": []
  },
  {
   "cell_type": "code",
   "execution_count": null,
   "metadata": {},
   "outputs": [],
   "source": []
  },
  {
   "cell_type": "code",
   "execution_count": 8,
   "metadata": {},
   "outputs": [],
   "source": [
    "df_aedes = pd.read_csv('aedes_table.csv', delimiter=';')\n",
    "df_anoph = pd.read_csv('anoph_table.csv', delimiter=';')\n",
    "df_culex = pd.read_csv('culex_table.csv', delimiter=';')"
   ]
  },
  {
   "cell_type": "code",
   "execution_count": 9,
   "metadata": {},
   "outputs": [],
   "source": [
    "big = pd.concat([df_aedes, df_anoph, df_culex], axis=0, sort=False)\n",
    "big.to_csv('mosquitos.csv', sep=';')"
   ]
  },
  {
   "cell_type": "code",
   "execution_count": null,
   "metadata": {},
   "outputs": [],
   "source": []
  },
  {
   "cell_type": "code",
   "execution_count": null,
   "metadata": {},
   "outputs": [],
   "source": [
    "#[X] Fix the Fundamental and Harmonics : remove all these 31.25 values as fundamental, take into account the frequency value in peakseries, add it as column perhaps\n",
    "\n",
    "#[X] Do PCA on PSD signal and find outliers\n",
    "\n",
    "#[X] Separate Temperature and Humidity for signals that is available\n",
    "\n",
    "#[X] Add 3 top amplitudes for signal\n",
    "\n",
    "#[ ] perhaps change the evaluate to remove butter and make separate preprosess function?"
   ]
  },
  {
   "cell_type": "code",
   "execution_count": null,
   "metadata": {},
   "outputs": [],
   "source": []
  },
  {
   "cell_type": "code",
   "execution_count": null,
   "metadata": {},
   "outputs": [],
   "source": []
  },
  {
   "cell_type": "code",
   "execution_count": null,
   "metadata": {},
   "outputs": [],
   "source": []
  }
 ],
 "metadata": {
  "kernelspec": {
   "display_name": "Python 3",
   "language": "python",
   "name": "python3"
  },
  "language_info": {
   "codemirror_mode": {
    "name": "ipython",
    "version": 3
   },
   "file_extension": ".py",
   "mimetype": "text/x-python",
   "name": "python",
   "nbconvert_exporter": "python",
   "pygments_lexer": "ipython3",
   "version": "3.6.7"
  }
 },
 "nbformat": 4,
 "nbformat_minor": 2
}
