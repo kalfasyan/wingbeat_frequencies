{
 "cells": [
  {
   "cell_type": "markdown",
   "metadata": {},
   "source": [
    "# Creating Dataframe"
   ]
  },
  {
   "cell_type": "code",
   "execution_count": null,
   "metadata": {},
   "outputs": [],
   "source": [
    "%reset -f\n",
    "import glob, os, sys, io\n",
    "sys.path.insert(1, os.path.join(sys.path[0], '..'))\n",
    "import pandas as pd\n",
    "import numpy as np\n",
    "\n",
    "from wavhandler import *\n",
    "from utils import *\n",
    "import multiprocessing\n",
    "\n",
    "import logging\n",
    "logger = logging.getLogger()\n",
    "logger.propagate = False\n",
    "logger.setLevel(logging.ERROR)\n",
    "np.random.seed(0)\n",
    "import seaborn as sns\n",
    "sns.set()"
   ]
  },
  {
   "cell_type": "code",
   "execution_count": null,
   "metadata": {},
   "outputs": [],
   "source": [
    "def process_parallel(path):\n",
    "    data, _ = read_simple([path])\n",
    "    fname = path.split('/')[-1][:-4]\n",
    "    df = pd.DataFrame.from_dict(process_signal(fname, data), orient='index').reset_index()\n",
    "    df['names'] = path\n",
    "    return df\n",
    "\n",
    "def make_insect_df(insect_class='Culex'):\n",
    "    print('Setting the number of cores..')\n",
    "    try:\n",
    "        cpus = multiprocessing.cpu_count()\n",
    "    except NotImplementedError:\n",
    "        cpus = 2   # arbitrary default\n",
    "\n",
    "    print('Gathering all files for selected class..')\n",
    "    wavhdlr = WavHandler('/home/yannis/data/insects/Potamitis/Wingbeats/{}'.format(insect_class), sample_size=-1, recursive=True)\n",
    "    wavhdlr.read(create_table=True)\n",
    "    names = wavhdlr.df_table.names.tolist()\n",
    "\n",
    "    print('Creating poll of processes..')\n",
    "    pool = multiprocessing.Pool(processes=cpus)\n",
    "    print('Calculating..')\n",
    "    result_list = []\n",
    "    result_list.append(pool.map(process_parallel, names))\n",
    "    print('Creating Dataframe..')\n",
    "    df = pd.concat(result_list[0], axis=0, sort=False)\n",
    "    print('Saving Dataframe to csv..')\n",
    "    df.to_csv('./data/'+insect_class+'.csv', sep=';')\n",
    "    print('Done.')"
   ]
  },
  {
   "cell_type": "code",
   "execution_count": null,
   "metadata": {},
   "outputs": [],
   "source": [
    "# make_insect_df(insect_class='Culex')\n",
    "# make_insect_df(insect_class='Anopheles')\n",
    "# make_insect_df(insect_class='Aedes')"
   ]
  },
  {
   "cell_type": "markdown",
   "metadata": {},
   "source": [
    "# Reading and Exporting Dataframe"
   ]
  },
  {
   "cell_type": "code",
   "execution_count": null,
   "metadata": {},
   "outputs": [],
   "source": [
    "def read_insect_df(insect_class='Culex'):\n",
    "    df = pd.read_csv('./data/'+insect_class+'.csv', delimiter=';')\n",
    "    df.drop('Unnamed: 0', axis=1, inplace=True)\n",
    "    df.rename(columns={'index': 'fname'}, inplace=True)\n",
    "    df['pathlen'] = df.names.apply(lambda x: len(x.split('/')))\n",
    "    df['fnamelen'] = df.fname.apply(lambda x: len(x.split('_')))\n",
    "    df['temp'] = df.fname.apply(lambda x: x.split('_')[-3] if len(x.split('_')) > 5 else np.nan)\n",
    "    df['humd'] = df.fname.apply(lambda x: x.split('_')[-1] if len(x.split('_')) > 5 else np.nan)\n",
    "    df['label1'] = insect_class\n",
    "    df['label2'] = df.names.apply(lambda x: x.split(\"/\")[-3])\n",
    "\n",
    "    return df"
   ]
  },
  {
   "cell_type": "code",
   "execution_count": null,
   "metadata": {},
   "outputs": [],
   "source": [
    "df_culex = read_insect_df(insect_class='Culex')\n",
    "df_anoph = read_insect_df(insect_class='Anopheles')\n",
    "df_aedes = read_insect_df(insect_class='Aedes')\n",
    "\n",
    "df = pd.concat([df_culex, df_anoph, df_aedes], axis=0)\n",
    "df.sample(5)"
   ]
  },
  {
   "cell_type": "markdown",
   "metadata": {},
   "source": [
    "## Analyzing dataframe"
   ]
  },
  {
   "cell_type": "code",
   "execution_count": null,
   "metadata": {},
   "outputs": [],
   "source": [
    "import matplotlib.pyplot as plt\n",
    "nr_bins = 100\n",
    "plt.figure(figsize=(24,5))\n",
    "plt.subplot(2,3,1); plt.title('fr0'); df['fr0'].hist(bins=nr_bins)\n",
    "plt.subplot(2,3,2); plt.title('fr1'); df['fr1'].hist(bins=nr_bins)\n",
    "plt.subplot(2,3,3); plt.title('fr2'); df['fr2'].hist(bins=nr_bins)\n",
    "plt.subplot(2,3,4); plt.title('pow0'); df['pow0'].hist(bins=nr_bins)\n",
    "plt.subplot(2,3,5); plt.title('pow1'); df['pow1'].hist(bins=nr_bins)\n",
    "plt.subplot(2,3,6); plt.title('pow2'); df['pow2'].hist(bins=nr_bins)\n",
    "plt.show()"
   ]
  },
  {
   "cell_type": "markdown",
   "metadata": {},
   "source": [
    "## After cleaning"
   ]
  },
  {
   "cell_type": "code",
   "execution_count": null,
   "metadata": {},
   "outputs": [],
   "source": [
    "df = df[(df.damping_0 > 0.005) & (df.damping_1 > 0.005) & (df.damping_2 > 0.005)]\n",
    "df = df[(df.pow0 > 0.025)      & (df.pow1 > 0.005)      & (df.pow2 > 0.0005)]\n",
    "df = df[(df.fr0 < 900.)        & (df.fr1 < 2000.)       & (df.fr2 < 2500.)]\n",
    "\n",
    "df.shape"
   ]
  },
  {
   "cell_type": "code",
   "execution_count": null,
   "metadata": {},
   "outputs": [],
   "source": [
    "df.to_pickle('./data/mosquitos.pkl')"
   ]
  },
  {
   "cell_type": "code",
   "execution_count": null,
   "metadata": {},
   "outputs": [],
   "source": [
    "import matplotlib.pyplot as plt\n",
    "nr_bins = 100\n",
    "plt.figure(figsize=(24,7))\n",
    "plt.subplot(2,3,1); plt.title('fr0'); df['fr0'].hist(bins=nr_bins)\n",
    "plt.subplot(2,3,2); plt.title('fr1'); df['fr1'].hist(bins=nr_bins)\n",
    "plt.subplot(2,3,3); plt.title('fr2'); df['fr2'].hist(bins=nr_bins)\n",
    "plt.subplot(2,3,4); plt.title('pow0'); df['pow0'].hist(bins=nr_bins)\n",
    "plt.subplot(2,3,5); plt.title('pow1'); df['pow1'].hist(bins=nr_bins)\n",
    "plt.subplot(2,3,6); plt.title('pow2'); df['pow2'].hist(bins=nr_bins)\n",
    "plt.show()"
   ]
  },
  {
   "cell_type": "code",
   "execution_count": null,
   "metadata": {},
   "outputs": [],
   "source": [
    "df.sample(10)"
   ]
  },
  {
   "cell_type": "code",
   "execution_count": null,
   "metadata": {},
   "outputs": [],
   "source": [
    "label = 'label2'\n",
    "mosqlist = df[label].unique().tolist()\n",
    "plt.figure(figsize=(24,12))\n",
    "for i in range(len(mosqlist)):\n",
    "    plt.subplot(3,2,i+1);\n",
    "    plt.title(mosqlist[i]);\n",
    "    df[df[label]==mosqlist[i]].fr0.hist(bins=50)\n",
    "    #plt.ylim(0,8500)"
   ]
  },
  {
   "cell_type": "code",
   "execution_count": null,
   "metadata": {},
   "outputs": [],
   "source": []
  },
  {
   "cell_type": "code",
   "execution_count": null,
   "metadata": {},
   "outputs": [],
   "source": []
  },
  {
   "cell_type": "code",
   "execution_count": null,
   "metadata": {},
   "outputs": [],
   "source": []
  }
 ],
 "metadata": {
  "kernelspec": {
   "display_name": "Python 3",
   "language": "python",
   "name": "python3"
  },
  "language_info": {
   "codemirror_mode": {
    "name": "ipython",
    "version": 3
   },
   "file_extension": ".py",
   "mimetype": "text/x-python",
   "name": "python",
   "nbconvert_exporter": "python",
   "pygments_lexer": "ipython3",
   "version": "3.6.7"
  }
 },
 "nbformat": 4,
 "nbformat_minor": 2
}
