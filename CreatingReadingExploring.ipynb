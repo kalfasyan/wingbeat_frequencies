{
 "cells": [
  {
   "cell_type": "markdown",
   "metadata": {},
   "source": [
    "# Creating Dataframe"
   ]
  },
  {
   "cell_type": "code",
   "execution_count": 1,
   "metadata": {},
   "outputs": [],
   "source": [
    "%reset -f\n",
    "import glob, os, sys, io\n",
    "sys.path.insert(1, os.path.join(sys.path[0], '..'))\n",
    "import pandas as pd\n",
    "import numpy as np\n",
    "\n",
    "from wavhandler import *\n",
    "from utils import *\n",
    "import multiprocessing\n",
    "\n",
    "import logging\n",
    "logger = logging.getLogger()\n",
    "logger.propagate = False\n",
    "logger.setLevel(logging.ERROR)\n",
    "np.random.seed(0)\n",
    "import seaborn as sns\n",
    "sns.set()"
   ]
  },
  {
   "cell_type": "code",
   "execution_count": 2,
   "metadata": {},
   "outputs": [],
   "source": [
    "def process_parallel(path):\n",
    "    data, _ = read_simple([path])\n",
    "    fname = path.split('/')[-1][:-4]\n",
    "    processed = process_signal(fname=fname, data=data)\n",
    "    df = pd.DataFrame.from_dict(processed, orient='index').reset_index()\n",
    "    df['names'] = path\n",
    "    return df\n",
    "\n",
    "def make_insect_df(insect_class='Culex'):\n",
    "\n",
    "    #insect_class='Culex'\n",
    "    cpus = multiprocessing.cpu_count()\n",
    "    wavhdlr = WavHandler('/home/yannis/data/insects/Potamitis/Wingbeats/{}'.format(insect_class), sample_size=-1, recursive=True)\n",
    "    names = wavhdlr.wav_filenames\n",
    "    pool = multiprocessing.Pool(processes=cpus)\n",
    "    result_list = []\n",
    "    result_list.append(pool.map(process_parallel, names))\n",
    "    df = pd.concat(result_list[0], axis=0, sort=False)\n",
    "    df.to_csv('./data/'+insect_class+'.csv', sep=';')\n",
    "    print('{} done.'.format(insect_class))"
   ]
  },
  {
   "cell_type": "code",
   "execution_count": 3,
   "metadata": {},
   "outputs": [
    {
     "name": "stderr",
     "output_type": "stream",
     "text": [
      "/home/yannis/.virtualenvs/wingbeat_frequencies/lib/python3.6/site-packages/sklearn/externals/joblib/_multiprocessing_helpers.py:38: UserWarning: [Errno 10] No child processes.  joblib will operate in serial mode\n",
      "  warnings.warn('%s.  joblib will operate in serial mode' % (e,))\n",
      "/home/yannis/.virtualenvs/wingbeat_frequencies/lib/python3.6/site-packages/sklearn/externals/joblib/_multiprocessing_helpers.py:38: UserWarning: [Errno 10] No child processes.  joblib will operate in serial mode\n",
      "  warnings.warn('%s.  joblib will operate in serial mode' % (e,))\n",
      "/home/yannis/.virtualenvs/wingbeat_frequencies/lib/python3.6/site-packages/sklearn/externals/joblib/_multiprocessing_helpers.py:38: UserWarning: [Errno 10] No child processes.  joblib will operate in serial mode\n",
      "  warnings.warn('%s.  joblib will operate in serial mode' % (e,))\n",
      "/home/yannis/.virtualenvs/wingbeat_frequencies/lib/python3.6/site-packages/sklearn/externals/joblib/_multiprocessing_helpers.py:38: UserWarning: [Errno 10] No child processes.  joblib will operate in serial mode\n",
      "  warnings.warn('%s.  joblib will operate in serial mode' % (e,))\n",
      "/home/yannis/.virtualenvs/wingbeat_frequencies/lib/python3.6/site-packages/sklearn/externals/joblib/_multiprocessing_helpers.py:38: UserWarning: [Errno 10] No child processes.  joblib will operate in serial mode\n",
      "  warnings.warn('%s.  joblib will operate in serial mode' % (e,))\n",
      "/home/yannis/.virtualenvs/wingbeat_frequencies/lib/python3.6/site-packages/sklearn/externals/joblib/_multiprocessing_helpers.py:38: UserWarning: [Errno 10] No child processes.  joblib will operate in serial mode\n",
      "  warnings.warn('%s.  joblib will operate in serial mode' % (e,))\n",
      "/home/yannis/.virtualenvs/wingbeat_frequencies/lib/python3.6/site-packages/sklearn/externals/joblib/_multiprocessing_helpers.py:38: UserWarning: [Errno 10] No child processes.  joblib will operate in serial mode\n",
      "  warnings.warn('%s.  joblib will operate in serial mode' % (e,))\n",
      "/home/yannis/.virtualenvs/wingbeat_frequencies/lib/python3.6/site-packages/sklearn/externals/joblib/_multiprocessing_helpers.py:38: UserWarning: [Errno 10] No child processes.  joblib will operate in serial mode\n",
      "  warnings.warn('%s.  joblib will operate in serial mode' % (e,))\n"
     ]
    },
    {
     "name": "stdout",
     "output_type": "stream",
     "text": [
      "Culex done.\n"
     ]
    },
    {
     "name": "stderr",
     "output_type": "stream",
     "text": [
      "/home/yannis/.virtualenvs/wingbeat_frequencies/lib/python3.6/site-packages/sklearn/externals/joblib/_multiprocessing_helpers.py:38: UserWarning: [Errno 10] No child processes.  joblib will operate in serial mode\n",
      "  warnings.warn('%s.  joblib will operate in serial mode' % (e,))\n",
      "/home/yannis/.virtualenvs/wingbeat_frequencies/lib/python3.6/site-packages/sklearn/externals/joblib/_multiprocessing_helpers.py:38: UserWarning: [Errno 10] No child processes.  joblib will operate in serial mode\n",
      "  warnings.warn('%s.  joblib will operate in serial mode' % (e,))\n",
      "/home/yannis/.virtualenvs/wingbeat_frequencies/lib/python3.6/site-packages/sklearn/externals/joblib/_multiprocessing_helpers.py:38: UserWarning: [Errno 10] No child processes.  joblib will operate in serial mode\n",
      "  warnings.warn('%s.  joblib will operate in serial mode' % (e,))\n",
      "/home/yannis/.virtualenvs/wingbeat_frequencies/lib/python3.6/site-packages/sklearn/externals/joblib/_multiprocessing_helpers.py:38: UserWarning: [Errno 10] No child processes.  joblib will operate in serial mode\n",
      "  warnings.warn('%s.  joblib will operate in serial mode' % (e,))\n",
      "/home/yannis/.virtualenvs/wingbeat_frequencies/lib/python3.6/site-packages/sklearn/externals/joblib/_multiprocessing_helpers.py:38: UserWarning: [Errno 10] No child processes.  joblib will operate in serial mode\n",
      "  warnings.warn('%s.  joblib will operate in serial mode' % (e,))\n",
      "/home/yannis/.virtualenvs/wingbeat_frequencies/lib/python3.6/site-packages/sklearn/externals/joblib/_multiprocessing_helpers.py:38: UserWarning: [Errno 10] No child processes.  joblib will operate in serial mode\n",
      "  warnings.warn('%s.  joblib will operate in serial mode' % (e,))\n",
      "/home/yannis/.virtualenvs/wingbeat_frequencies/lib/python3.6/site-packages/sklearn/externals/joblib/_multiprocessing_helpers.py:38: UserWarning: [Errno 10] No child processes.  joblib will operate in serial mode\n",
      "  warnings.warn('%s.  joblib will operate in serial mode' % (e,))\n",
      "/home/yannis/.virtualenvs/wingbeat_frequencies/lib/python3.6/site-packages/sklearn/externals/joblib/_multiprocessing_helpers.py:38: UserWarning: [Errno 10] No child processes.  joblib will operate in serial mode\n",
      "  warnings.warn('%s.  joblib will operate in serial mode' % (e,))\n"
     ]
    },
    {
     "name": "stdout",
     "output_type": "stream",
     "text": [
      "Anopheles done.\n"
     ]
    },
    {
     "name": "stderr",
     "output_type": "stream",
     "text": [
      "/home/yannis/.virtualenvs/wingbeat_frequencies/lib/python3.6/site-packages/sklearn/externals/joblib/_multiprocessing_helpers.py:38: UserWarning: [Errno 10] No child processes.  joblib will operate in serial mode\n",
      "  warnings.warn('%s.  joblib will operate in serial mode' % (e,))\n",
      "/home/yannis/.virtualenvs/wingbeat_frequencies/lib/python3.6/site-packages/sklearn/externals/joblib/_multiprocessing_helpers.py:38: UserWarning: [Errno 10] No child processes.  joblib will operate in serial mode\n",
      "  warnings.warn('%s.  joblib will operate in serial mode' % (e,))\n",
      "/home/yannis/.virtualenvs/wingbeat_frequencies/lib/python3.6/site-packages/sklearn/externals/joblib/_multiprocessing_helpers.py:38: UserWarning: [Errno 10] No child processes.  joblib will operate in serial mode\n",
      "  warnings.warn('%s.  joblib will operate in serial mode' % (e,))\n",
      "/home/yannis/.virtualenvs/wingbeat_frequencies/lib/python3.6/site-packages/sklearn/externals/joblib/_multiprocessing_helpers.py:38: UserWarning: [Errno 10] No child processes.  joblib will operate in serial mode\n",
      "  warnings.warn('%s.  joblib will operate in serial mode' % (e,))\n",
      "/home/yannis/.virtualenvs/wingbeat_frequencies/lib/python3.6/site-packages/sklearn/externals/joblib/_multiprocessing_helpers.py:38: UserWarning: [Errno 10] No child processes.  joblib will operate in serial mode\n",
      "  warnings.warn('%s.  joblib will operate in serial mode' % (e,))\n",
      "/home/yannis/.virtualenvs/wingbeat_frequencies/lib/python3.6/site-packages/sklearn/externals/joblib/_multiprocessing_helpers.py:38: UserWarning: [Errno 10] No child processes.  joblib will operate in serial mode\n",
      "  warnings.warn('%s.  joblib will operate in serial mode' % (e,))\n",
      "/home/yannis/.virtualenvs/wingbeat_frequencies/lib/python3.6/site-packages/sklearn/externals/joblib/_multiprocessing_helpers.py:38: UserWarning: [Errno 10] No child processes.  joblib will operate in serial mode\n",
      "  warnings.warn('%s.  joblib will operate in serial mode' % (e,))\n",
      "/home/yannis/.virtualenvs/wingbeat_frequencies/lib/python3.6/site-packages/sklearn/externals/joblib/_multiprocessing_helpers.py:38: UserWarning: [Errno 10] No child processes.  joblib will operate in serial mode\n",
      "  warnings.warn('%s.  joblib will operate in serial mode' % (e,))\n"
     ]
    },
    {
     "name": "stdout",
     "output_type": "stream",
     "text": [
      "Aedes done.\n"
     ]
    }
   ],
   "source": [
    "make_insect_df(insect_class='Culex')\n",
    "make_insect_df(insect_class='Anopheles')\n",
    "make_insect_df(insect_class='Aedes')"
   ]
  },
  {
   "cell_type": "markdown",
   "metadata": {},
   "source": [
    "# Reading and Exporting Dataframe"
   ]
  },
  {
   "cell_type": "code",
   "execution_count": 4,
   "metadata": {},
   "outputs": [],
   "source": [
    "def read_insect_df(insect_class='Culex'):\n",
    "    df = pd.read_csv('./data/'+insect_class+'.csv', delimiter=';')\n",
    "    df.drop('Unnamed: 0', axis=1, inplace=True)\n",
    "    df.rename(columns={'index': 'fname'}, inplace=True)\n",
    "    df['pathlen'] = df.names.apply(lambda x: len(x.split('/')))\n",
    "    df['fnamelen'] = df.fname.apply(lambda x: len(x.split('_')))\n",
    "    df['temp'] = df.fname.apply(lambda x: x.split('_')[-3] if len(x.split('_')) > 5 else np.nan)\n",
    "    df['humd'] = df.fname.apply(lambda x: x.split('_')[-1] if len(x.split('_')) > 5 else np.nan)\n",
    "    df['label1'] = insect_class\n",
    "    df['label2'] = df.names.apply(lambda x: x.split(\"/\")[-3])\n",
    "\n",
    "    return df"
   ]
  },
  {
   "cell_type": "code",
   "execution_count": 5,
   "metadata": {},
   "outputs": [
    {
     "data": {
      "text/html": [
       "<div>\n",
       "<style scoped>\n",
       "    .dataframe tbody tr th:only-of-type {\n",
       "        vertical-align: middle;\n",
       "    }\n",
       "\n",
       "    .dataframe tbody tr th {\n",
       "        vertical-align: top;\n",
       "    }\n",
       "\n",
       "    .dataframe thead th {\n",
       "        text-align: right;\n",
       "    }\n",
       "</style>\n",
       "<table border=\"1\" class=\"dataframe\">\n",
       "  <thead>\n",
       "    <tr style=\"text-align: right;\">\n",
       "      <th></th>\n",
       "      <th>fname</th>\n",
       "      <th>pow0</th>\n",
       "      <th>pow1</th>\n",
       "      <th>pow2</th>\n",
       "      <th>fr0</th>\n",
       "      <th>fr1</th>\n",
       "      <th>fr2</th>\n",
       "      <th>damping_0</th>\n",
       "      <th>damping_1</th>\n",
       "      <th>damping_2</th>\n",
       "      <th>names</th>\n",
       "      <th>pathlen</th>\n",
       "      <th>fnamelen</th>\n",
       "      <th>temp</th>\n",
       "      <th>humd</th>\n",
       "      <th>label1</th>\n",
       "      <th>label2</th>\n",
       "    </tr>\n",
       "  </thead>\n",
       "  <tbody>\n",
       "    <tr>\n",
       "      <th>101434</th>\n",
       "      <td>F161220_213936_108_G_050</td>\n",
       "      <td>0.611851</td>\n",
       "      <td>0.316013</td>\n",
       "      <td>0.034060</td>\n",
       "      <td>468.75</td>\n",
       "      <td>968.75</td>\n",
       "      <td>1468.75</td>\n",
       "      <td>0.133333</td>\n",
       "      <td>0.096774</td>\n",
       "      <td>0.042553</td>\n",
       "      <td>/home/yannis/data/insects/Potamitis/Wingbeats/...</td>\n",
       "      <td>11</td>\n",
       "      <td>5</td>\n",
       "      <td>NaN</td>\n",
       "      <td>NaN</td>\n",
       "      <td>Culex</td>\n",
       "      <td>C. quinquefasciatus</td>\n",
       "    </tr>\n",
       "    <tr>\n",
       "      <th>38551</th>\n",
       "      <td>F170209_172424_016_G_050</td>\n",
       "      <td>0.801307</td>\n",
       "      <td>0.342264</td>\n",
       "      <td>0.095651</td>\n",
       "      <td>562.50</td>\n",
       "      <td>1125.00</td>\n",
       "      <td>1687.50</td>\n",
       "      <td>0.055556</td>\n",
       "      <td>0.027778</td>\n",
       "      <td>0.027778</td>\n",
       "      <td>/home/yannis/data/insects/Potamitis/Wingbeats/...</td>\n",
       "      <td>11</td>\n",
       "      <td>5</td>\n",
       "      <td>NaN</td>\n",
       "      <td>NaN</td>\n",
       "      <td>Aedes</td>\n",
       "      <td>Ae. aegypti</td>\n",
       "    </tr>\n",
       "    <tr>\n",
       "      <th>56083</th>\n",
       "      <td>F170121_231834_021_G_050</td>\n",
       "      <td>0.869196</td>\n",
       "      <td>0.300519</td>\n",
       "      <td>0.006246</td>\n",
       "      <td>812.50</td>\n",
       "      <td>1625.00</td>\n",
       "      <td>2437.50</td>\n",
       "      <td>0.038462</td>\n",
       "      <td>0.019231</td>\n",
       "      <td>0.025641</td>\n",
       "      <td>/home/yannis/data/insects/Potamitis/Wingbeats/...</td>\n",
       "      <td>11</td>\n",
       "      <td>5</td>\n",
       "      <td>NaN</td>\n",
       "      <td>NaN</td>\n",
       "      <td>Anopheles</td>\n",
       "      <td>An. gambiae</td>\n",
       "    </tr>\n",
       "    <tr>\n",
       "      <th>62293</th>\n",
       "      <td>F161219_233044_134_G_050</td>\n",
       "      <td>0.074835</td>\n",
       "      <td>0.747828</td>\n",
       "      <td>0.040374</td>\n",
       "      <td>468.75</td>\n",
       "      <td>937.50</td>\n",
       "      <td>1375.00</td>\n",
       "      <td>0.100000</td>\n",
       "      <td>0.050000</td>\n",
       "      <td>0.034091</td>\n",
       "      <td>/home/yannis/data/insects/Potamitis/Wingbeats/...</td>\n",
       "      <td>11</td>\n",
       "      <td>5</td>\n",
       "      <td>NaN</td>\n",
       "      <td>NaN</td>\n",
       "      <td>Culex</td>\n",
       "      <td>C. quinquefasciatus</td>\n",
       "    </tr>\n",
       "    <tr>\n",
       "      <th>35574</th>\n",
       "      <td>F161219_122956_039_G_050</td>\n",
       "      <td>0.259577</td>\n",
       "      <td>0.667077</td>\n",
       "      <td>0.007910</td>\n",
       "      <td>406.25</td>\n",
       "      <td>843.75</td>\n",
       "      <td>1218.75</td>\n",
       "      <td>0.115385</td>\n",
       "      <td>0.055556</td>\n",
       "      <td>0.064103</td>\n",
       "      <td>/home/yannis/data/insects/Potamitis/Wingbeats/...</td>\n",
       "      <td>11</td>\n",
       "      <td>5</td>\n",
       "      <td>NaN</td>\n",
       "      <td>NaN</td>\n",
       "      <td>Culex</td>\n",
       "      <td>C. quinquefasciatus</td>\n",
       "    </tr>\n",
       "  </tbody>\n",
       "</table>\n",
       "</div>"
      ],
      "text/plain": [
       "                           fname      pow0      pow1      pow2     fr0  \\\n",
       "101434  F161220_213936_108_G_050  0.611851  0.316013  0.034060  468.75   \n",
       "38551   F170209_172424_016_G_050  0.801307  0.342264  0.095651  562.50   \n",
       "56083   F170121_231834_021_G_050  0.869196  0.300519  0.006246  812.50   \n",
       "62293   F161219_233044_134_G_050  0.074835  0.747828  0.040374  468.75   \n",
       "35574   F161219_122956_039_G_050  0.259577  0.667077  0.007910  406.25   \n",
       "\n",
       "            fr1      fr2  damping_0  damping_1  damping_2  \\\n",
       "101434   968.75  1468.75   0.133333   0.096774   0.042553   \n",
       "38551   1125.00  1687.50   0.055556   0.027778   0.027778   \n",
       "56083   1625.00  2437.50   0.038462   0.019231   0.025641   \n",
       "62293    937.50  1375.00   0.100000   0.050000   0.034091   \n",
       "35574    843.75  1218.75   0.115385   0.055556   0.064103   \n",
       "\n",
       "                                                    names  pathlen  fnamelen  \\\n",
       "101434  /home/yannis/data/insects/Potamitis/Wingbeats/...       11         5   \n",
       "38551   /home/yannis/data/insects/Potamitis/Wingbeats/...       11         5   \n",
       "56083   /home/yannis/data/insects/Potamitis/Wingbeats/...       11         5   \n",
       "62293   /home/yannis/data/insects/Potamitis/Wingbeats/...       11         5   \n",
       "35574   /home/yannis/data/insects/Potamitis/Wingbeats/...       11         5   \n",
       "\n",
       "       temp humd     label1               label2  \n",
       "101434  NaN  NaN      Culex  C. quinquefasciatus  \n",
       "38551   NaN  NaN      Aedes          Ae. aegypti  \n",
       "56083   NaN  NaN  Anopheles          An. gambiae  \n",
       "62293   NaN  NaN      Culex  C. quinquefasciatus  \n",
       "35574   NaN  NaN      Culex  C. quinquefasciatus  "
      ]
     },
     "execution_count": 5,
     "metadata": {},
     "output_type": "execute_result"
    }
   ],
   "source": [
    "df_culex = read_insect_df(insect_class='Culex')\n",
    "df_anoph = read_insect_df(insect_class='Anopheles')\n",
    "df_aedes = read_insect_df(insect_class='Aedes')\n",
    "\n",
    "df = pd.concat([df_culex, df_anoph, df_aedes], axis=0)\n",
    "df.sample(5)"
   ]
  },
  {
   "cell_type": "code",
   "execution_count": 6,
   "metadata": {},
   "outputs": [],
   "source": [
    "df.to_pickle('./data/mosquitos_precleaning.pkl')"
   ]
  },
  {
   "cell_type": "markdown",
   "metadata": {},
   "source": [
    "## Analyzing dataframe"
   ]
  },
  {
   "cell_type": "code",
   "execution_count": 6,
   "metadata": {},
   "outputs": [
    {
     "data": {
      "image/png": "[encoded data removed]",
      "text/plain": [
       "<Figure size 1728x720 with 6 Axes>"
      ]
     },
     "metadata": {
      "needs_background": "light"
     },
     "output_type": "display_data"
    }
   ],
   "source": [
    "import matplotlib.pyplot as plt\n",
    "nr_bins = 100\n",
    "plt.figure(figsize=(24,10))\n",
    "plt.subplot(2,3,1); plt.title('fr0'); df['fr0'].hist(bins=nr_bins)\n",
    "plt.subplot(2,3,2); plt.title('fr1'); df['fr1'].hist(bins=nr_bins)\n",
    "plt.subplot(2,3,3); plt.title('fr2'); df['fr2'].hist(bins=nr_bins)\n",
    "plt.subplot(2,3,4); plt.title('pow0'); df['pow0'].hist(bins=nr_bins)\n",
    "plt.subplot(2,3,5); plt.title('pow1'); df['pow1'].hist(bins=nr_bins)\n",
    "plt.subplot(2,3,6); plt.title('pow2'); df['pow2'].hist(bins=nr_bins)\n",
    "plt.show()"
   ]
  },
  {
   "cell_type": "markdown",
   "metadata": {},
   "source": [
    "## After cleaning"
   ]
  },
  {
   "cell_type": "code",
   "execution_count": 21,
   "metadata": {},
   "outputs": [
    {
     "data": {
      "text/plain": [
       "(267941, 17)"
      ]
     },
     "execution_count": 21,
     "metadata": {},
     "output_type": "execute_result"
    }
   ],
   "source": [
    "df = df[(df.damping_0 > 0.005) & (df.damping_1 > 0.005) & (df.damping_2 > 0.005)]\n",
    "df = df[(df.pow0 > 0.025)      & (df.pow1 > 0.005)      & (df.pow2 > 0.0005)]\n",
    "df = df[(df.fr0 < 900.)        & (df.fr1 < 1800.)       & (df.fr2 < 3600.)]\n",
    "\n",
    "df.shape"
   ]
  },
  {
   "cell_type": "code",
   "execution_count": 8,
   "metadata": {},
   "outputs": [],
   "source": [
    "# df.to_pickle('./data/mosquitos.pkl')"
   ]
  },
  {
   "cell_type": "code",
   "execution_count": 34,
   "metadata": {},
   "outputs": [
    {
     "data": {
      "image/png": "[encoded data removed]",
      "text/plain": [
       "<Figure size 1728x720 with 6 Axes>"
      ]
     },
     "metadata": {
      "needs_background": "light"
     },
     "output_type": "display_data"
    }
   ],
   "source": [
    "import matplotlib.pyplot as plt\n",
    "nr_bins = 19\n",
    "plt.figure(figsize=(24,10))\n",
    "plt.subplot(2,3,1); plt.title('fr0'); df['fr0'].hist(bins=nr_bins)\n",
    "plt.subplot(2,3,2); plt.title('fr1'); df['fr1'].hist(bins=nr_bins)\n",
    "plt.subplot(2,3,3); plt.title('fr2'); df['fr2'].hist(bins=nr_bins)\n",
    "plt.subplot(2,3,4); plt.title('pow0'); df['pow0'].hist(bins=nr_bins)\n",
    "plt.subplot(2,3,5); plt.title('pow1'); df['pow1'].hist(bins=nr_bins)\n",
    "plt.subplot(2,3,6); plt.title('pow2'); df['pow2'].hist(bins=nr_bins)\n",
    "plt.show()"
   ]
  },
  {
   "cell_type": "code",
   "execution_count": 14,
   "metadata": {},
   "outputs": [
    {
     "data": {
      "text/html": [
       "<div>\n",
       "<style scoped>\n",
       "    .dataframe tbody tr th:only-of-type {\n",
       "        vertical-align: middle;\n",
       "    }\n",
       "\n",
       "    .dataframe tbody tr th {\n",
       "        vertical-align: top;\n",
       "    }\n",
       "\n",
       "    .dataframe thead th {\n",
       "        text-align: right;\n",
       "    }\n",
       "</style>\n",
       "<table border=\"1\" class=\"dataframe\">\n",
       "  <thead>\n",
       "    <tr style=\"text-align: right;\">\n",
       "      <th></th>\n",
       "      <th>pow0</th>\n",
       "      <th>pow1</th>\n",
       "      <th>pow2</th>\n",
       "      <th>fr0</th>\n",
       "      <th>fr1</th>\n",
       "      <th>fr2</th>\n",
       "      <th>damping_0</th>\n",
       "      <th>damping_1</th>\n",
       "      <th>damping_2</th>\n",
       "      <th>temp</th>\n",
       "      <th>humd</th>\n",
       "      <th>label1</th>\n",
       "      <th>label2</th>\n",
       "    </tr>\n",
       "  </thead>\n",
       "  <tbody>\n",
       "    <tr>\n",
       "      <th>71655</th>\n",
       "      <td>0.124070</td>\n",
       "      <td>0.094315</td>\n",
       "      <td>0.007781</td>\n",
       "      <td>425.781250</td>\n",
       "      <td>836.914062</td>\n",
       "      <td>1257.812500</td>\n",
       "      <td>0.060780</td>\n",
       "      <td>0.028005</td>\n",
       "      <td>0.021739</td>\n",
       "      <td>NaN</td>\n",
       "      <td>NaN</td>\n",
       "      <td>Culex</td>\n",
       "      <td>C. quinquefasciatus</td>\n",
       "    </tr>\n",
       "    <tr>\n",
       "      <th>83921</th>\n",
       "      <td>0.057724</td>\n",
       "      <td>0.156458</td>\n",
       "      <td>0.031533</td>\n",
       "      <td>408.203125</td>\n",
       "      <td>812.500000</td>\n",
       "      <td>1216.796875</td>\n",
       "      <td>0.055024</td>\n",
       "      <td>0.028245</td>\n",
       "      <td>0.020465</td>\n",
       "      <td>NaN</td>\n",
       "      <td>NaN</td>\n",
       "      <td>Aedes</td>\n",
       "      <td>Ae. aegypti</td>\n",
       "    </tr>\n",
       "    <tr>\n",
       "      <th>62637</th>\n",
       "      <td>0.100843</td>\n",
       "      <td>0.133803</td>\n",
       "      <td>0.003229</td>\n",
       "      <td>466.796875</td>\n",
       "      <td>929.687500</td>\n",
       "      <td>1384.765625</td>\n",
       "      <td>0.047071</td>\n",
       "      <td>0.026261</td>\n",
       "      <td>0.021862</td>\n",
       "      <td>NaN</td>\n",
       "      <td>NaN</td>\n",
       "      <td>Culex</td>\n",
       "      <td>C. quinquefasciatus</td>\n",
       "    </tr>\n",
       "    <tr>\n",
       "      <th>62238</th>\n",
       "      <td>0.092668</td>\n",
       "      <td>0.116747</td>\n",
       "      <td>0.001398</td>\n",
       "      <td>769.531250</td>\n",
       "      <td>1546.875000</td>\n",
       "      <td>2314.453125</td>\n",
       "      <td>0.039975</td>\n",
       "      <td>0.018624</td>\n",
       "      <td>0.015612</td>\n",
       "      <td>NaN</td>\n",
       "      <td>NaN</td>\n",
       "      <td>Anopheles</td>\n",
       "      <td>An. gambiae</td>\n",
       "    </tr>\n",
       "    <tr>\n",
       "      <th>33998</th>\n",
       "      <td>0.061247</td>\n",
       "      <td>0.133920</td>\n",
       "      <td>0.009696</td>\n",
       "      <td>511.718750</td>\n",
       "      <td>1020.507812</td>\n",
       "      <td>1526.367188</td>\n",
       "      <td>0.047710</td>\n",
       "      <td>0.030622</td>\n",
       "      <td>0.012476</td>\n",
       "      <td>NaN</td>\n",
       "      <td>NaN</td>\n",
       "      <td>Aedes</td>\n",
       "      <td>Ae. aegypti</td>\n",
       "    </tr>\n",
       "    <tr>\n",
       "      <th>12733</th>\n",
       "      <td>0.163392</td>\n",
       "      <td>0.042066</td>\n",
       "      <td>0.010619</td>\n",
       "      <td>469.726562</td>\n",
       "      <td>936.523438</td>\n",
       "      <td>1395.507812</td>\n",
       "      <td>0.048857</td>\n",
       "      <td>0.028154</td>\n",
       "      <td>0.018195</td>\n",
       "      <td>25.9</td>\n",
       "      <td>69.7</td>\n",
       "      <td>Culex</td>\n",
       "      <td>C. pipiens</td>\n",
       "    </tr>\n",
       "    <tr>\n",
       "      <th>15398</th>\n",
       "      <td>0.149778</td>\n",
       "      <td>0.070239</td>\n",
       "      <td>0.001461</td>\n",
       "      <td>806.640625</td>\n",
       "      <td>1616.210938</td>\n",
       "      <td>2410.156250</td>\n",
       "      <td>0.029661</td>\n",
       "      <td>0.015106</td>\n",
       "      <td>0.011953</td>\n",
       "      <td>26.6</td>\n",
       "      <td>78.0</td>\n",
       "      <td>Anopheles</td>\n",
       "      <td>An. arabiensis</td>\n",
       "    </tr>\n",
       "    <tr>\n",
       "      <th>172</th>\n",
       "      <td>0.161626</td>\n",
       "      <td>0.058163</td>\n",
       "      <td>0.001133</td>\n",
       "      <td>650.390625</td>\n",
       "      <td>1295.898438</td>\n",
       "      <td>1940.429688</td>\n",
       "      <td>0.033784</td>\n",
       "      <td>0.019216</td>\n",
       "      <td>0.019124</td>\n",
       "      <td>NaN</td>\n",
       "      <td>NaN</td>\n",
       "      <td>Culex</td>\n",
       "      <td>C. pipiens</td>\n",
       "    </tr>\n",
       "    <tr>\n",
       "      <th>29642</th>\n",
       "      <td>0.163565</td>\n",
       "      <td>0.038956</td>\n",
       "      <td>0.001316</td>\n",
       "      <td>769.531250</td>\n",
       "      <td>1548.828125</td>\n",
       "      <td>2325.195312</td>\n",
       "      <td>0.029822</td>\n",
       "      <td>0.016078</td>\n",
       "      <td>0.008610</td>\n",
       "      <td>NaN</td>\n",
       "      <td>NaN</td>\n",
       "      <td>Anopheles</td>\n",
       "      <td>An. gambiae</td>\n",
       "    </tr>\n",
       "    <tr>\n",
       "      <th>15059</th>\n",
       "      <td>0.116956</td>\n",
       "      <td>0.098156</td>\n",
       "      <td>0.013890</td>\n",
       "      <td>604.492188</td>\n",
       "      <td>1197.265625</td>\n",
       "      <td>1819.335938</td>\n",
       "      <td>0.040388</td>\n",
       "      <td>0.027732</td>\n",
       "      <td>0.014761</td>\n",
       "      <td>25.9</td>\n",
       "      <td>64.8</td>\n",
       "      <td>Culex</td>\n",
       "      <td>C. pipiens</td>\n",
       "    </tr>\n",
       "  </tbody>\n",
       "</table>\n",
       "</div>"
      ],
      "text/plain": [
       "           pow0      pow1      pow2         fr0          fr1          fr2  \\\n",
       "71655  0.124070  0.094315  0.007781  425.781250   836.914062  1257.812500   \n",
       "83921  0.057724  0.156458  0.031533  408.203125   812.500000  1216.796875   \n",
       "62637  0.100843  0.133803  0.003229  466.796875   929.687500  1384.765625   \n",
       "62238  0.092668  0.116747  0.001398  769.531250  1546.875000  2314.453125   \n",
       "33998  0.061247  0.133920  0.009696  511.718750  1020.507812  1526.367188   \n",
       "12733  0.163392  0.042066  0.010619  469.726562   936.523438  1395.507812   \n",
       "15398  0.149778  0.070239  0.001461  806.640625  1616.210938  2410.156250   \n",
       "172    0.161626  0.058163  0.001133  650.390625  1295.898438  1940.429688   \n",
       "29642  0.163565  0.038956  0.001316  769.531250  1548.828125  2325.195312   \n",
       "15059  0.116956  0.098156  0.013890  604.492188  1197.265625  1819.335938   \n",
       "\n",
       "       damping_0  damping_1  damping_2  temp  humd     label1  \\\n",
       "71655   0.060780   0.028005   0.021739   NaN   NaN      Culex   \n",
       "83921   0.055024   0.028245   0.020465   NaN   NaN      Aedes   \n",
       "62637   0.047071   0.026261   0.021862   NaN   NaN      Culex   \n",
       "62238   0.039975   0.018624   0.015612   NaN   NaN  Anopheles   \n",
       "33998   0.047710   0.030622   0.012476   NaN   NaN      Aedes   \n",
       "12733   0.048857   0.028154   0.018195  25.9  69.7      Culex   \n",
       "15398   0.029661   0.015106   0.011953  26.6  78.0  Anopheles   \n",
       "172     0.033784   0.019216   0.019124   NaN   NaN      Culex   \n",
       "29642   0.029822   0.016078   0.008610   NaN   NaN  Anopheles   \n",
       "15059   0.040388   0.027732   0.014761  25.9  64.8      Culex   \n",
       "\n",
       "                    label2  \n",
       "71655  C. quinquefasciatus  \n",
       "83921          Ae. aegypti  \n",
       "62637  C. quinquefasciatus  \n",
       "62238          An. gambiae  \n",
       "33998          Ae. aegypti  \n",
       "12733           C. pipiens  \n",
       "15398       An. arabiensis  \n",
       "172             C. pipiens  \n",
       "29642          An. gambiae  \n",
       "15059           C. pipiens  "
      ]
     },
     "execution_count": 14,
     "metadata": {},
     "output_type": "execute_result"
    }
   ],
   "source": [
    "df.drop(['fname', 'names', 'pathlen', 'fnamelen'], axis=1).sample(10)"
   ]
  },
  {
   "cell_type": "code",
   "execution_count": 38,
   "metadata": {},
   "outputs": [
    {
     "data": {
      "image/png": "[encoded data removed]",
      "text/plain": [
       "<Figure size 1728x864 with 6 Axes>"
      ]
     },
     "metadata": {
      "needs_background": "light"
     },
     "output_type": "display_data"
    }
   ],
   "source": [
    "label = 'label2'\n",
    "mosqlist = df[label].unique().tolist()\n",
    "plt.figure(figsize=(24,12))\n",
    "for i in range(len(mosqlist)):\n",
    "    plt.subplot(3,2,i+1);\n",
    "    plt.title(mosqlist[i]);\n",
    "    df[df[label]==mosqlist[i]].fr0.hist(bins=19)\n",
    "    #plt.ylim(0,8500)"
   ]
  },
  {
   "cell_type": "code",
   "execution_count": 17,
   "metadata": {},
   "outputs": [],
   "source": [
    "import pandas as pd\n",
    "import matplotlib.pyplot as plt\n",
    "df = pd.read_pickle('./data/mosquitos_precleaning.pkl')\n",
    "#plt.rcParams.update({'font.size': 50})\n"
   ]
  },
  {
   "cell_type": "code",
   "execution_count": 18,
   "metadata": {},
   "outputs": [
    {
     "data": {
      "text/plain": [
       "<matplotlib.axes._subplots.AxesSubplot at 0x7fd461577da0>"
      ]
     },
     "execution_count": 18,
     "metadata": {},
     "output_type": "execute_result"
    },
    {
     "data": {
      "image/png": "[encoded data removed]",
      "text/plain": [
       "<Figure size 1296x720 with 1 Axes>"
      ]
     },
     "metadata": {
      "needs_background": "light"
     },
     "output_type": "display_data"
    }
   ],
   "source": [
    "plt.figure(figsize=(18,10))\n",
    "df.label1.value_counts().plot(kind='bar')"
   ]
  },
  {
   "cell_type": "code",
   "execution_count": null,
   "metadata": {},
   "outputs": [],
   "source": [
    "df.drop(['fname', 'names', 'pathlen', 'fnamelen'], axis=1, inplace=True)"
   ]
  },
  {
   "cell_type": "code",
   "execution_count": 56,
   "metadata": {},
   "outputs": [
    {
     "data": {
      "text/plain": [
       "<matplotlib.axes._subplots.AxesSubplot at 0x7fd4699fef28>"
      ]
     },
     "execution_count": 56,
     "metadata": {},
     "output_type": "execute_result"
    },
    {
     "data": {
      "image/png": "[encoded data removed]",
      "text/plain": [
       "<Figure size 1008x576 with 2 Axes>"
      ]
     },
     "metadata": {
      "needs_background": "light"
     },
     "output_type": "display_data"
    }
   ],
   "source": [
    "plt.figure(figsize=(14,8))\n",
    "corr = df.corr()\n",
    "sns.heatmap(corr, \n",
    "        xticklabels=corr.columns,\n",
    "        yticklabels=corr.columns,\n",
    "        vmin=0,\n",
    "        vmax=1)"
   ]
  },
  {
   "cell_type": "code",
   "execution_count": null,
   "metadata": {},
   "outputs": [],
   "source": []
  }
 ],
 "metadata": {
  "kernelspec": {
   "display_name": "Python 3",
   "language": "python",
   "name": "python3"
  },
  "language_info": {
   "codemirror_mode": {
    "name": "ipython",
    "version": 3
   },
   "file_extension": ".py",
   "mimetype": "text/x-python",
   "name": "python",
   "nbconvert_exporter": "python",
   "pygments_lexer": "ipython3",
   "version": "3.6.7"
  }
 },
 "nbformat": 4,
 "nbformat_minor": 2
}
