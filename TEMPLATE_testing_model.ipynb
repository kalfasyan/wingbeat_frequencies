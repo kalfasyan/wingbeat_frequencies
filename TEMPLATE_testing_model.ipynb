{
 "cells": [
  {
   "cell_type": "code",
   "execution_count": 6,
   "metadata": {},
   "outputs": [],
   "source": [
    "%reset -f\n",
    "from wavhandler import *\n",
    "from utils import *\n",
    "\n",
    "import pandas as pd\n",
    "import numpy as np\n",
    "import pickle\n",
    "import multiprocessing\n",
    "import matplotlib.pyplot as plt\n",
    "import seaborn as sn\n",
    "from sklearn.metrics import confusion_matrix\n",
    "sn.set()\n",
    "\n",
    "import logging\n",
    "logger = logging.getLogger()\n",
    "logger.propagate = False\n",
    "logger.setLevel(logging.ERROR)\n",
    "np.random.seed(0)"
   ]
  },
  {
   "cell_type": "markdown",
   "metadata": {},
   "source": [
    "# Loading model and indexes of signals it was trained on"
   ]
  },
  {
   "cell_type": "code",
   "execution_count": 7,
   "metadata": {},
   "outputs": [],
   "source": [
    "loaded_model = pickle.load(open(\"pima.pickle.dat\", \"rb\"))\n",
    "model_idx = pd.read_csv('pima_idx_used.csv', index_col=0, header=None)"
   ]
  },
  {
   "cell_type": "markdown",
   "metadata": {},
   "source": [
    "## Creating a dataframe of all signals that the model has never seen"
   ]
  },
  {
   "cell_type": "code",
   "execution_count": 8,
   "metadata": {},
   "outputs": [
    {
     "data": {
      "text/html": [
       "<div>\n",
       "<style scoped>\n",
       "    .dataframe tbody tr th:only-of-type {\n",
       "        vertical-align: middle;\n",
       "    }\n",
       "\n",
       "    .dataframe tbody tr th {\n",
       "        vertical-align: top;\n",
       "    }\n",
       "\n",
       "    .dataframe thead th {\n",
       "        text-align: right;\n",
       "    }\n",
       "</style>\n",
       "<table border=\"1\" class=\"dataframe\">\n",
       "  <thead>\n",
       "    <tr style=\"text-align: right;\">\n",
       "      <th></th>\n",
       "      <th>fname</th>\n",
       "      <th>pow0</th>\n",
       "      <th>pow1</th>\n",
       "      <th>pow2</th>\n",
       "      <th>fr0</th>\n",
       "      <th>fr1</th>\n",
       "      <th>fr2</th>\n",
       "      <th>damping_0</th>\n",
       "      <th>damping_1</th>\n",
       "      <th>damping_2</th>\n",
       "      <th>names</th>\n",
       "      <th>pathlen</th>\n",
       "      <th>fnamelen</th>\n",
       "      <th>temp</th>\n",
       "      <th>humd</th>\n",
       "      <th>label1</th>\n",
       "      <th>label2</th>\n",
       "    </tr>\n",
       "  </thead>\n",
       "  <tbody>\n",
       "    <tr>\n",
       "      <th>0</th>\n",
       "      <td>F161205_161248_000_G_050</td>\n",
       "      <td>0.037316</td>\n",
       "      <td>0.034266</td>\n",
       "      <td>0.000787</td>\n",
       "      <td>682.617188</td>\n",
       "      <td>1364.257812</td>\n",
       "      <td>1977.539062</td>\n",
       "      <td>0.032904</td>\n",
       "      <td>0.021475</td>\n",
       "      <td>0.007901</td>\n",
       "      <td>/home/yannis/data/insects/Potamitis/Wingbeats/...</td>\n",
       "      <td>11</td>\n",
       "      <td>5</td>\n",
       "      <td>NaN</td>\n",
       "      <td>NaN</td>\n",
       "      <td>Culex</td>\n",
       "      <td>C. pipiens</td>\n",
       "    </tr>\n",
       "    <tr>\n",
       "      <th>2</th>\n",
       "      <td>F161205_161254_002_G_050</td>\n",
       "      <td>0.088310</td>\n",
       "      <td>0.135539</td>\n",
       "      <td>0.003797</td>\n",
       "      <td>448.242188</td>\n",
       "      <td>890.625000</td>\n",
       "      <td>1368.164062</td>\n",
       "      <td>0.052288</td>\n",
       "      <td>0.029057</td>\n",
       "      <td>0.009636</td>\n",
       "      <td>/home/yannis/data/insects/Potamitis/Wingbeats/...</td>\n",
       "      <td>11</td>\n",
       "      <td>5</td>\n",
       "      <td>NaN</td>\n",
       "      <td>NaN</td>\n",
       "      <td>Culex</td>\n",
       "      <td>C. pipiens</td>\n",
       "    </tr>\n",
       "    <tr>\n",
       "      <th>4</th>\n",
       "      <td>F161205_161313_004_G_050</td>\n",
       "      <td>0.138603</td>\n",
       "      <td>0.093639</td>\n",
       "      <td>0.021507</td>\n",
       "      <td>565.429688</td>\n",
       "      <td>1126.953125</td>\n",
       "      <td>1684.570312</td>\n",
       "      <td>0.037997</td>\n",
       "      <td>0.020364</td>\n",
       "      <td>0.013913</td>\n",
       "      <td>/home/yannis/data/insects/Potamitis/Wingbeats/...</td>\n",
       "      <td>11</td>\n",
       "      <td>5</td>\n",
       "      <td>NaN</td>\n",
       "      <td>NaN</td>\n",
       "      <td>Culex</td>\n",
       "      <td>C. pipiens</td>\n",
       "    </tr>\n",
       "    <tr>\n",
       "      <th>5</th>\n",
       "      <td>F161205_161316_005_G_050</td>\n",
       "      <td>0.136040</td>\n",
       "      <td>0.019107</td>\n",
       "      <td>0.003176</td>\n",
       "      <td>625.976562</td>\n",
       "      <td>1246.093750</td>\n",
       "      <td>1849.609375</td>\n",
       "      <td>0.048362</td>\n",
       "      <td>0.014498</td>\n",
       "      <td>0.017423</td>\n",
       "      <td>/home/yannis/data/insects/Potamitis/Wingbeats/...</td>\n",
       "      <td>11</td>\n",
       "      <td>5</td>\n",
       "      <td>NaN</td>\n",
       "      <td>NaN</td>\n",
       "      <td>Culex</td>\n",
       "      <td>C. pipiens</td>\n",
       "    </tr>\n",
       "    <tr>\n",
       "      <th>6</th>\n",
       "      <td>F161205_161329_006_G_050</td>\n",
       "      <td>0.044235</td>\n",
       "      <td>0.163418</td>\n",
       "      <td>0.015739</td>\n",
       "      <td>603.515625</td>\n",
       "      <td>1207.031250</td>\n",
       "      <td>1811.523438</td>\n",
       "      <td>0.038026</td>\n",
       "      <td>0.018608</td>\n",
       "      <td>0.013477</td>\n",
       "      <td>/home/yannis/data/insects/Potamitis/Wingbeats/...</td>\n",
       "      <td>11</td>\n",
       "      <td>5</td>\n",
       "      <td>NaN</td>\n",
       "      <td>NaN</td>\n",
       "      <td>Culex</td>\n",
       "      <td>C. pipiens</td>\n",
       "    </tr>\n",
       "  </tbody>\n",
       "</table>\n",
       "</div>"
      ],
      "text/plain": [
       "                      fname      pow0      pow1      pow2         fr0  \\\n",
       "0  F161205_161248_000_G_050  0.037316  0.034266  0.000787  682.617188   \n",
       "2  F161205_161254_002_G_050  0.088310  0.135539  0.003797  448.242188   \n",
       "4  F161205_161313_004_G_050  0.138603  0.093639  0.021507  565.429688   \n",
       "5  F161205_161316_005_G_050  0.136040  0.019107  0.003176  625.976562   \n",
       "6  F161205_161329_006_G_050  0.044235  0.163418  0.015739  603.515625   \n",
       "\n",
       "           fr1          fr2  damping_0  damping_1  damping_2  \\\n",
       "0  1364.257812  1977.539062   0.032904   0.021475   0.007901   \n",
       "2   890.625000  1368.164062   0.052288   0.029057   0.009636   \n",
       "4  1126.953125  1684.570312   0.037997   0.020364   0.013913   \n",
       "5  1246.093750  1849.609375   0.048362   0.014498   0.017423   \n",
       "6  1207.031250  1811.523438   0.038026   0.018608   0.013477   \n",
       "\n",
       "                                               names  pathlen  fnamelen temp  \\\n",
       "0  /home/yannis/data/insects/Potamitis/Wingbeats/...       11         5  NaN   \n",
       "2  /home/yannis/data/insects/Potamitis/Wingbeats/...       11         5  NaN   \n",
       "4  /home/yannis/data/insects/Potamitis/Wingbeats/...       11         5  NaN   \n",
       "5  /home/yannis/data/insects/Potamitis/Wingbeats/...       11         5  NaN   \n",
       "6  /home/yannis/data/insects/Potamitis/Wingbeats/...       11         5  NaN   \n",
       "\n",
       "  humd label1      label2  \n",
       "0  NaN  Culex  C. pipiens  \n",
       "2  NaN  Culex  C. pipiens  \n",
       "4  NaN  Culex  C. pipiens  \n",
       "5  NaN  Culex  C. pipiens  \n",
       "6  NaN  Culex  C. pipiens  "
      ]
     },
     "execution_count": 8,
     "metadata": {},
     "output_type": "execute_result"
    }
   ],
   "source": [
    "df_mosquitos = pd.read_pickle('./data/mosquitos.pkl')\n",
    "df_test = df_mosquitos[~df_mosquitos.fname.isin(model_idx.iloc[:,0].values.tolist())] # NEGATION - signals that are not in model_idx\n",
    "df_test.head()"
   ]
  },
  {
   "cell_type": "markdown",
   "metadata": {},
   "source": [
    "## Getting signals from this dataframe to create our test matrix"
   ]
  },
  {
   "cell_type": "code",
   "execution_count": 11,
   "metadata": {},
   "outputs": [],
   "source": [
    "sz = 10000 # get this many samples from each class (signals never seen)\n",
    "df_an = make_df_parallel(df_test, setting='psd', insect_class='Anopheles', sample_size=sz).T\n",
    "df_an['label'] = 'an'\n",
    "df_ae = make_df_parallel(df_test, setting='psd',insect_class='Aedes', sample_size=sz).T\n",
    "df_ae['label'] = 'ae'\n",
    "df_cu = make_df_parallel(df_test, setting='psd',insect_class='Culex', sample_size=sz).T\n",
    "df_cu['label'] = 'cu'"
   ]
  },
  {
   "cell_type": "markdown",
   "metadata": {},
   "source": [
    "### Cleaning up this dataframe"
   ]
  },
  {
   "cell_type": "code",
   "execution_count": 12,
   "metadata": {},
   "outputs": [
    {
     "name": "stdout",
     "output_type": "stream",
     "text": [
      "(30000, 130)\n",
      "(30000, 130)\n",
      "(30000,)\n"
     ]
    }
   ],
   "source": [
    "df_concat = pd.concat([df_ae, df_an, df_cu], axis=0, sort=False)\n",
    "print(df_concat.shape)\n",
    "df_concat.dropna(how='all', axis=1, inplace=True)\n",
    "df_concat.dropna(how='any', axis=0, inplace=True)\n",
    "print(df_concat.shape)\n",
    "df_concat.head()\n",
    "labelarray = df_concat.label.values\n",
    "df_concat.drop('label', axis=1, inplace=True)\n",
    "print(labelarray.shape)"
   ]
  },
  {
   "cell_type": "markdown",
   "metadata": {},
   "source": [
    "# Making predictions on our test dataframe using the loaded model"
   ]
  },
  {
   "cell_type": "code",
   "execution_count": 15,
   "metadata": {},
   "outputs": [
    {
     "name": "stdout",
     "output_type": "stream",
     "text": [
      "ACCURACY SCORE: 0.856\n"
     ]
    }
   ],
   "source": [
    "from sklearn.model_selection import train_test_split\n",
    "from sklearn.model_selection import cross_val_score\n",
    "import xgboost\n",
    "from sklearn.metrics import accuracy_score\n",
    "from sklearn.utils import shuffle\n",
    "\n",
    "X, y = shuffle(df_concat.values, labelarray, random_state=3)\n",
    "loaded_model_ypred = loaded_model.predict(X)\n",
    "ac = accuracy_score(y, loaded_model_ypred)\n",
    "print(\"ACCURACY SCORE: {0:.3f}\".format(ac))"
   ]
  },
  {
   "cell_type": "code",
   "execution_count": null,
   "metadata": {},
   "outputs": [],
   "source": []
  },
  {
   "cell_type": "code",
   "execution_count": null,
   "metadata": {},
   "outputs": [],
   "source": []
  }
 ],
 "metadata": {
  "kernelspec": {
   "display_name": "Python 3",
   "language": "python",
   "name": "python3"
  },
  "language_info": {
   "codemirror_mode": {
    "name": "ipython",
    "version": 3
   },
   "file_extension": ".py",
   "mimetype": "text/x-python",
   "name": "python",
   "nbconvert_exporter": "python",
   "pygments_lexer": "ipython3",
   "version": "3.6.8"
  }
 },
 "nbformat": 4,
 "nbformat_minor": 2
}
